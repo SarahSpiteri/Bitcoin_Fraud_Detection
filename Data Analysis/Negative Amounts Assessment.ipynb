{
 "cells": [
  {
   "cell_type": "code",
   "execution_count": 1,
   "id": "a55792d8",
   "metadata": {
    "ExecuteTime": {
     "end_time": "2022-06-01T13:09:12.011311Z",
     "start_time": "2022-06-01T13:09:11.190368Z"
    }
   },
   "outputs": [],
   "source": [
    "# Required Packages\n",
    "import pandas as pd\n",
    "import numpy as np"
   ]
  },
  {
   "cell_type": "code",
   "execution_count": 2,
   "id": "5a53a3db",
   "metadata": {
    "ExecuteTime": {
     "end_time": "2022-06-01T13:09:39.278502Z",
     "start_time": "2022-06-01T13:09:12.011691Z"
    }
   },
   "outputs": [
    {
     "data": {
      "text/html": [
       "<div>\n",
       "<style scoped>\n",
       "    .dataframe tbody tr th:only-of-type {\n",
       "        vertical-align: middle;\n",
       "    }\n",
       "\n",
       "    .dataframe tbody tr th {\n",
       "        vertical-align: top;\n",
       "    }\n",
       "\n",
       "    .dataframe thead th {\n",
       "        text-align: right;\n",
       "    }\n",
       "</style>\n",
       "<table border=\"1\" class=\"dataframe\">\n",
       "  <thead>\n",
       "    <tr style=\"text-align: right;\">\n",
       "      <th></th>\n",
       "      <th>txn_hash</th>\n",
       "      <th>input_address</th>\n",
       "      <th>output_address</th>\n",
       "      <th>ammount</th>\n",
       "      <th>fees</th>\n",
       "      <th>block_index</th>\n",
       "      <th>block_time</th>\n",
       "      <th>input_flag</th>\n",
       "      <th>output_flag</th>\n",
       "    </tr>\n",
       "  </thead>\n",
       "  <tbody>\n",
       "    <tr>\n",
       "      <th>0</th>\n",
       "      <td>bd36f2ca16e2a2c73c807b7d1569657b30de8453450cd2...</td>\n",
       "      <td>13Uf71d8y94xEk2LX7GCtaBJmPiahhA7TR</td>\n",
       "      <td>16FPyvvz5Ug3cx97qH67KfgC6PY1S9fskQ</td>\n",
       "      <td>2.420000e+07</td>\n",
       "      <td>320000.000000</td>\n",
       "      <td>453318</td>\n",
       "      <td>2017-02-16 12:05:04</td>\n",
       "      <td>0</td>\n",
       "      <td>1</td>\n",
       "    </tr>\n",
       "    <tr>\n",
       "      <th>1</th>\n",
       "      <td>8c852e187a0541cd8ea8c93a6c728843b5f8b9c579b6fc...</td>\n",
       "      <td>166zajP74bcRVo7BmdeDME3mRX3Mi9e3xn</td>\n",
       "      <td>1ASaHGPN8qRuqZkpnR7d2tcndU9uHL6aGj</td>\n",
       "      <td>2.503648e+03</td>\n",
       "      <td>3.314845</td>\n",
       "      <td>453318</td>\n",
       "      <td>2017-02-16 12:05:04</td>\n",
       "      <td>0</td>\n",
       "      <td>1</td>\n",
       "    </tr>\n",
       "    <tr>\n",
       "      <th>2</th>\n",
       "      <td>8c852e187a0541cd8ea8c93a6c728843b5f8b9c579b6fc...</td>\n",
       "      <td>1LU3DtRE3XK32WxFqrnaT9k99nRgwHtLHd</td>\n",
       "      <td>1ASaHGPN8qRuqZkpnR7d2tcndU9uHL6aGj</td>\n",
       "      <td>6.359402e+05</td>\n",
       "      <td>841.988605</td>\n",
       "      <td>453318</td>\n",
       "      <td>2017-02-16 12:05:04</td>\n",
       "      <td>0</td>\n",
       "      <td>1</td>\n",
       "    </tr>\n",
       "    <tr>\n",
       "      <th>3</th>\n",
       "      <td>8c852e187a0541cd8ea8c93a6c728843b5f8b9c579b6fc...</td>\n",
       "      <td>1HVQNFf7vDpJVZk7tEzbFxnmALSezA2qPD</td>\n",
       "      <td>1ASaHGPN8qRuqZkpnR7d2tcndU9uHL6aGj</td>\n",
       "      <td>5.902369e+05</td>\n",
       "      <td>781.477250</td>\n",
       "      <td>453318</td>\n",
       "      <td>2017-02-16 12:05:04</td>\n",
       "      <td>0</td>\n",
       "      <td>1</td>\n",
       "    </tr>\n",
       "    <tr>\n",
       "      <th>4</th>\n",
       "      <td>8c852e187a0541cd8ea8c93a6c728843b5f8b9c579b6fc...</td>\n",
       "      <td>1LU3DtRE3XK32WxFqrnaT9k99nRgwHtLHd</td>\n",
       "      <td>1ASaHGPN8qRuqZkpnR7d2tcndU9uHL6aGj</td>\n",
       "      <td>1.013032e+05</td>\n",
       "      <td>134.126076</td>\n",
       "      <td>453318</td>\n",
       "      <td>2017-02-16 12:05:04</td>\n",
       "      <td>0</td>\n",
       "      <td>1</td>\n",
       "    </tr>\n",
       "  </tbody>\n",
       "</table>\n",
       "</div>"
      ],
      "text/plain": [
       "                                            txn_hash  \\\n",
       "0  bd36f2ca16e2a2c73c807b7d1569657b30de8453450cd2...   \n",
       "1  8c852e187a0541cd8ea8c93a6c728843b5f8b9c579b6fc...   \n",
       "2  8c852e187a0541cd8ea8c93a6c728843b5f8b9c579b6fc...   \n",
       "3  8c852e187a0541cd8ea8c93a6c728843b5f8b9c579b6fc...   \n",
       "4  8c852e187a0541cd8ea8c93a6c728843b5f8b9c579b6fc...   \n",
       "\n",
       "                        input_address                      output_address  \\\n",
       "0  13Uf71d8y94xEk2LX7GCtaBJmPiahhA7TR  16FPyvvz5Ug3cx97qH67KfgC6PY1S9fskQ   \n",
       "1  166zajP74bcRVo7BmdeDME3mRX3Mi9e3xn  1ASaHGPN8qRuqZkpnR7d2tcndU9uHL6aGj   \n",
       "2  1LU3DtRE3XK32WxFqrnaT9k99nRgwHtLHd  1ASaHGPN8qRuqZkpnR7d2tcndU9uHL6aGj   \n",
       "3  1HVQNFf7vDpJVZk7tEzbFxnmALSezA2qPD  1ASaHGPN8qRuqZkpnR7d2tcndU9uHL6aGj   \n",
       "4  1LU3DtRE3XK32WxFqrnaT9k99nRgwHtLHd  1ASaHGPN8qRuqZkpnR7d2tcndU9uHL6aGj   \n",
       "\n",
       "        ammount           fees  block_index           block_time  input_flag  \\\n",
       "0  2.420000e+07  320000.000000       453318  2017-02-16 12:05:04           0   \n",
       "1  2.503648e+03       3.314845       453318  2017-02-16 12:05:04           0   \n",
       "2  6.359402e+05     841.988605       453318  2017-02-16 12:05:04           0   \n",
       "3  5.902369e+05     781.477250       453318  2017-02-16 12:05:04           0   \n",
       "4  1.013032e+05     134.126076       453318  2017-02-16 12:05:04           0   \n",
       "\n",
       "   output_flag  \n",
       "0            1  \n",
       "1            1  \n",
       "2            1  \n",
       "3            1  \n",
       "4            1  "
      ]
     },
     "execution_count": 2,
     "metadata": {},
     "output_type": "execute_result"
    }
   ],
   "source": [
    "# Load Data\n",
    "trans_3w = pd.read_csv(r'C:\\Users\\sarah\\Documents\\UNI\\Masters\\Study\\Term_3\\Master Project\\trans_3w.csv')\n",
    "trans_3w.head()"
   ]
  },
  {
   "cell_type": "code",
   "execution_count": 3,
   "id": "86e9ee08",
   "metadata": {
    "ExecuteTime": {
     "end_time": "2022-06-01T13:09:39.455886Z",
     "start_time": "2022-06-01T13:09:39.279907Z"
    }
   },
   "outputs": [
    {
     "data": {
      "text/plain": [
       "(70756, 9)"
      ]
     },
     "execution_count": 3,
     "metadata": {},
     "output_type": "execute_result"
    }
   ],
   "source": [
    "# Get Subset of Transactions with Negative Ammounts\n",
    "neg = trans_3w[trans_3w['ammount'] < 0]\n",
    "neg.shape"
   ]
  },
  {
   "cell_type": "code",
   "execution_count": 4,
   "id": "53e9ca5a",
   "metadata": {
    "ExecuteTime": {
     "end_time": "2022-06-01T13:09:39.472990Z",
     "start_time": "2022-06-01T13:09:39.457067Z"
    }
   },
   "outputs": [],
   "source": [
    "# Download Data\n",
    "#neg.to_csv(\"neg_ammount.csv\", index = False)"
   ]
  },
  {
   "cell_type": "markdown",
   "id": "0daf7c4c",
   "metadata": {},
   "source": [
    "Intuitively, the presence of negative ammounts does not make sense. In speaking to the professors of the blockchain class we came to the conclusion that this is an anomaly which should not be present. The DataFrame was sent to Lluc to assess if this anomaly was a result of their pre-processing."
   ]
  },
  {
   "cell_type": "markdown",
   "id": "0cd6b5c5",
   "metadata": {},
   "source": [
    "*Check for Channge when Self-Loops are Removed*"
   ]
  },
  {
   "cell_type": "code",
   "execution_count": 5,
   "id": "abb9e014",
   "metadata": {
    "ExecuteTime": {
     "end_time": "2022-06-01T13:11:03.651320Z",
     "start_time": "2022-06-01T13:10:37.884039Z"
    }
   },
   "outputs": [
    {
     "data": {
      "text/plain": [
       "(49788, 9)"
      ]
     },
     "execution_count": 5,
     "metadata": {},
     "output_type": "execute_result"
    }
   ],
   "source": [
    "trans_3w_adj = pd.read_csv(r'C:\\Users\\sarah\\Documents\\UNI\\Masters\\Study\\Term_3\\Master Project\\trans_3w_cl.csv')\n",
    "neg2 = trans_3w_adj[trans_3w_adj['ammount'] < 0]\n",
    "neg2.shape # Shows some reduction"
   ]
  },
  {
   "cell_type": "markdown",
   "id": "5478c7ca",
   "metadata": {},
   "source": [
    "*Check Properties of these addresses in the Network*"
   ]
  },
  {
   "cell_type": "code",
   "execution_count": 7,
   "id": "2fbfaccc",
   "metadata": {
    "ExecuteTime": {
     "end_time": "2022-06-01T13:20:00.416177Z",
     "start_time": "2022-06-01T13:20:00.355214Z"
    }
   },
   "outputs": [
    {
     "name": "stdout",
     "output_type": "stream",
     "text": [
      "Number of unique addresses with negative transaction ammounts :  53212\n"
     ]
    }
   ],
   "source": [
    "neg_ad = set(neg2['input_address'].tolist() + neg2['output_address'].tolist())\n",
    "print('Number of unique addresses with negative transaction ammounts : ', len(neg_ad))"
   ]
  },
  {
   "cell_type": "code",
   "execution_count": 8,
   "id": "d2caaa16",
   "metadata": {
    "ExecuteTime": {
     "end_time": "2022-06-01T13:23:33.574178Z",
     "start_time": "2022-06-01T13:23:27.201478Z"
    }
   },
   "outputs": [
    {
     "data": {
      "text/html": [
       "<div>\n",
       "<style scoped>\n",
       "    .dataframe tbody tr th:only-of-type {\n",
       "        vertical-align: middle;\n",
       "    }\n",
       "\n",
       "    .dataframe tbody tr th {\n",
       "        vertical-align: top;\n",
       "    }\n",
       "\n",
       "    .dataframe thead th {\n",
       "        text-align: right;\n",
       "    }\n",
       "</style>\n",
       "<table border=\"1\" class=\"dataframe\">\n",
       "  <thead>\n",
       "    <tr style=\"text-align: right;\">\n",
       "      <th></th>\n",
       "      <th>degree</th>\n",
       "      <th>in_degree</th>\n",
       "      <th>out_degree</th>\n",
       "      <th>eigen_centrality</th>\n",
       "      <th>fraud_flag</th>\n",
       "    </tr>\n",
       "  </thead>\n",
       "  <tbody>\n",
       "    <tr>\n",
       "      <th>count</th>\n",
       "      <td>53212.000000</td>\n",
       "      <td>53212.000000</td>\n",
       "      <td>53212.000000</td>\n",
       "      <td>5.321200e+04</td>\n",
       "      <td>53212.000000</td>\n",
       "    </tr>\n",
       "    <tr>\n",
       "      <th>mean</th>\n",
       "      <td>14.492765</td>\n",
       "      <td>7.079399</td>\n",
       "      <td>7.413365</td>\n",
       "      <td>3.094047e-05</td>\n",
       "      <td>0.002293</td>\n",
       "    </tr>\n",
       "    <tr>\n",
       "      <th>std</th>\n",
       "      <td>202.078341</td>\n",
       "      <td>107.165015</td>\n",
       "      <td>154.606607</td>\n",
       "      <td>6.564628e-04</td>\n",
       "      <td>0.047828</td>\n",
       "    </tr>\n",
       "    <tr>\n",
       "      <th>min</th>\n",
       "      <td>1.000000</td>\n",
       "      <td>0.000000</td>\n",
       "      <td>0.000000</td>\n",
       "      <td>1.193322e-21</td>\n",
       "      <td>0.000000</td>\n",
       "    </tr>\n",
       "    <tr>\n",
       "      <th>25%</th>\n",
       "      <td>2.000000</td>\n",
       "      <td>1.000000</td>\n",
       "      <td>1.000000</td>\n",
       "      <td>1.312654e-20</td>\n",
       "      <td>0.000000</td>\n",
       "    </tr>\n",
       "    <tr>\n",
       "      <th>50%</th>\n",
       "      <td>3.000000</td>\n",
       "      <td>1.000000</td>\n",
       "      <td>2.000000</td>\n",
       "      <td>6.682603e-20</td>\n",
       "      <td>0.000000</td>\n",
       "    </tr>\n",
       "    <tr>\n",
       "      <th>75%</th>\n",
       "      <td>3.000000</td>\n",
       "      <td>1.000000</td>\n",
       "      <td>2.000000</td>\n",
       "      <td>1.221962e-18</td>\n",
       "      <td>0.000000</td>\n",
       "    </tr>\n",
       "    <tr>\n",
       "      <th>max</th>\n",
       "      <td>25338.000000</td>\n",
       "      <td>12116.000000</td>\n",
       "      <td>25335.000000</td>\n",
       "      <td>1.049846e-01</td>\n",
       "      <td>1.000000</td>\n",
       "    </tr>\n",
       "  </tbody>\n",
       "</table>\n",
       "</div>"
      ],
      "text/plain": [
       "             degree     in_degree    out_degree  eigen_centrality  \\\n",
       "count  53212.000000  53212.000000  53212.000000      5.321200e+04   \n",
       "mean      14.492765      7.079399      7.413365      3.094047e-05   \n",
       "std      202.078341    107.165015    154.606607      6.564628e-04   \n",
       "min        1.000000      0.000000      0.000000      1.193322e-21   \n",
       "25%        2.000000      1.000000      1.000000      1.312654e-20   \n",
       "50%        3.000000      1.000000      2.000000      6.682603e-20   \n",
       "75%        3.000000      1.000000      2.000000      1.221962e-18   \n",
       "max    25338.000000  12116.000000  25335.000000      1.049846e-01   \n",
       "\n",
       "         fraud_flag  \n",
       "count  53212.000000  \n",
       "mean       0.002293  \n",
       "std        0.047828  \n",
       "min        0.000000  \n",
       "25%        0.000000  \n",
       "50%        0.000000  \n",
       "75%        0.000000  \n",
       "max        1.000000  "
      ]
     },
     "execution_count": 8,
     "metadata": {},
     "output_type": "execute_result"
    }
   ],
   "source": [
    "# Get Node properties of listed addresses\n",
    "properties_cl = pd.read_csv(r'C:\\Users\\sarah\\Documents\\UNI\\Masters\\Study\\Term_3\\Master Project\\node_properties_cl.csv')\n",
    "node_prop = properties_cl[properties_cl['address'].isin(neg_ad)]\n",
    "node_prop.describe()"
   ]
  },
  {
   "cell_type": "code",
   "execution_count": 11,
   "id": "3799d21d",
   "metadata": {
    "ExecuteTime": {
     "end_time": "2022-06-01T13:25:54.486785Z",
     "start_time": "2022-06-01T13:25:54.433755Z"
    }
   },
   "outputs": [
    {
     "data": {
      "text/plain": [
       "(4370, 6)"
      ]
     },
     "execution_count": 11,
     "metadata": {},
     "output_type": "execute_result"
    }
   ],
   "source": [
    "n_degree = node_prop[node_prop['degree'] > 14.5]\n",
    "n_degree.shape"
   ]
  },
  {
   "cell_type": "markdown",
   "id": "fb0b4f7b",
   "metadata": {},
   "source": [
    "1. These nodes have a large degree on average. Mean is potentially biased from the very long positive tail of the distribution. This is also indicated by the large standard deviation.\n",
    "2. The distribution of centralities is similar to that of the overall network.\n",
    "3. Addresses are largely involved in licit transactions."
   ]
  },
  {
   "cell_type": "code",
   "execution_count": 13,
   "id": "69b88c48",
   "metadata": {
    "ExecuteTime": {
     "end_time": "2022-06-01T13:43:17.640316Z",
     "start_time": "2022-06-01T13:43:15.622419Z"
    }
   },
   "outputs": [
    {
     "data": {
      "text/plain": [
       "(1396637, 9)"
      ]
     },
     "execution_count": 13,
     "metadata": {},
     "output_type": "execute_result"
    }
   ],
   "source": [
    "neg_nodes1 = trans_3w_adj[trans_3w_adj['input_address'].isin(neg_ad)]\n",
    "neg_nodes2 = trans_3w_adj[trans_3w_adj['output_address'].isin(neg_ad)]\n",
    "neg_nodes = pd.concat([neg_nodes1, neg_nodes2])\n",
    "neg_nodes.shape"
   ]
  },
  {
   "cell_type": "markdown",
   "id": "12cc8f39",
   "metadata": {},
   "source": [
    "This shows that the addresses are involved in multiple transactions such that removing the individual transactions with negative ammounts would not significantly impact the network, but the addresses involved in these transactions should not be removed."
   ]
  },
  {
   "cell_type": "code",
   "execution_count": null,
   "id": "e118cf05",
   "metadata": {},
   "outputs": [],
   "source": []
  }
 ],
 "metadata": {
  "kernelspec": {
   "display_name": "Python 3 (ipykernel)",
   "language": "python",
   "name": "python3"
  },
  "language_info": {
   "codemirror_mode": {
    "name": "ipython",
    "version": 3
   },
   "file_extension": ".py",
   "mimetype": "text/x-python",
   "name": "python",
   "nbconvert_exporter": "python",
   "pygments_lexer": "ipython3",
   "version": "3.9.12"
  }
 },
 "nbformat": 4,
 "nbformat_minor": 5
}
