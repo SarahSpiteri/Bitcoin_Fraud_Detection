{
 "cells": [
  {
   "cell_type": "markdown",
   "id": "35c25dac",
   "metadata": {},
   "source": [
    "## Detecting Cryptocurrency Fraud with Graph Embeddings \n",
    "\n",
    "Financial institutions are starting to integrate their digital payment systems with with cryptocurrency markets. A challenge that these institutions face when operating in crypto environments consists in avoiding carrying out transactions with accounts that are involved with fraudulent activities (drug dealing, terrorism, ransomware, etc.).\n",
    "\n",
    "\n",
    "In light of this challenge, a number of credit rating agencies have started to provide fraudulent scores of Bitcoin addresses to help financial institutions decide whether they should engage in a transaction with a given address or not.\n",
    "\n",
    "\n",
    "The objective of this project consists in extracting covariates associated with Bitcoin addresses via graph embeddings from the bitcoin blockchain and then use these covariates to predict fraudulent addresses using a sample of labelled addresses."
   ]
  },
  {
   "cell_type": "code",
   "execution_count": 1,
   "id": "504433e9",
   "metadata": {
    "ExecuteTime": {
     "end_time": "2022-05-17T18:46:42.834725Z",
     "start_time": "2022-05-17T18:46:38.383659Z"
    }
   },
   "outputs": [
    {
     "name": "stderr",
     "output_type": "stream",
     "text": [
      "/Users/d.gorgan/.pyenv/versions/3.8.12/lib/python3.8/site-packages/xgboost/compat.py:36: FutureWarning:\n",
      "\n",
      "pandas.Int64Index is deprecated and will be removed from pandas in a future version. Use pandas.Index with the appropriate dtype instead.\n",
      "\n",
      "2022-05-17 20:46:42.639276: I tensorflow/core/common_runtime/pluggable_device/pluggable_device_factory.cc:305] Could not identify NUMA node of platform GPU ID 0, defaulting to 0. Your kernel may not have been built with NUMA support.\n",
      "2022-05-17 20:46:42.639382: I tensorflow/core/common_runtime/pluggable_device/pluggable_device_factory.cc:271] Created TensorFlow device (/job:localhost/replica:0/task:0/device:GPU:0 with 0 MB memory) -> physical PluggableDevice (device: 0, name: METAL, pci bus id: <undefined>)\n"
     ]
    },
    {
     "name": "stdout",
     "output_type": "stream",
     "text": [
      "Metal device set to: Apple M1 Pro\n"
     ]
    },
    {
     "data": {
      "text/html": [
       "\n",
       "    <div class=\"bk-root\">\n",
       "        <a href=\"https://bokeh.org\" target=\"_blank\" class=\"bk-logo bk-logo-small bk-logo-notebook\"></a>\n",
       "        <span id=\"1002\">Loading BokehJS ...</span>\n",
       "    </div>"
      ]
     },
     "metadata": {},
     "output_type": "display_data"
    },
    {
     "data": {
      "application/javascript": [
       "\n",
       "(function(root) {\n",
       "  function now() {\n",
       "    return new Date();\n",
       "  }\n",
       "\n",
       "  const force = true;\n",
       "\n",
       "  if (typeof root._bokeh_onload_callbacks === \"undefined\" || force === true) {\n",
       "    root._bokeh_onload_callbacks = [];\n",
       "    root._bokeh_is_loading = undefined;\n",
       "  }\n",
       "\n",
       "  const JS_MIME_TYPE = 'application/javascript';\n",
       "  const HTML_MIME_TYPE = 'text/html';\n",
       "  const EXEC_MIME_TYPE = 'application/vnd.bokehjs_exec.v0+json';\n",
       "  const CLASS_NAME = 'output_bokeh rendered_html';\n",
       "\n",
       "  /**\n",
       "   * Render data to the DOM node\n",
       "   */\n",
       "  function render(props, node) {\n",
       "    const script = document.createElement(\"script\");\n",
       "    node.appendChild(script);\n",
       "  }\n",
       "\n",
       "  /**\n",
       "   * Handle when an output is cleared or removed\n",
       "   */\n",
       "  function handleClearOutput(event, handle) {\n",
       "    const cell = handle.cell;\n",
       "\n",
       "    const id = cell.output_area._bokeh_element_id;\n",
       "    const server_id = cell.output_area._bokeh_server_id;\n",
       "    // Clean up Bokeh references\n",
       "    if (id != null && id in Bokeh.index) {\n",
       "      Bokeh.index[id].model.document.clear();\n",
       "      delete Bokeh.index[id];\n",
       "    }\n",
       "\n",
       "    if (server_id !== undefined) {\n",
       "      // Clean up Bokeh references\n",
       "      const cmd_clean = \"from bokeh.io.state import curstate; print(curstate().uuid_to_server['\" + server_id + \"'].get_sessions()[0].document.roots[0]._id)\";\n",
       "      cell.notebook.kernel.execute(cmd_clean, {\n",
       "        iopub: {\n",
       "          output: function(msg) {\n",
       "            const id = msg.content.text.trim();\n",
       "            if (id in Bokeh.index) {\n",
       "              Bokeh.index[id].model.document.clear();\n",
       "              delete Bokeh.index[id];\n",
       "            }\n",
       "          }\n",
       "        }\n",
       "      });\n",
       "      // Destroy server and session\n",
       "      const cmd_destroy = \"import bokeh.io.notebook as ion; ion.destroy_server('\" + server_id + \"')\";\n",
       "      cell.notebook.kernel.execute(cmd_destroy);\n",
       "    }\n",
       "  }\n",
       "\n",
       "  /**\n",
       "   * Handle when a new output is added\n",
       "   */\n",
       "  function handleAddOutput(event, handle) {\n",
       "    const output_area = handle.output_area;\n",
       "    const output = handle.output;\n",
       "\n",
       "    // limit handleAddOutput to display_data with EXEC_MIME_TYPE content only\n",
       "    if ((output.output_type != \"display_data\") || (!Object.prototype.hasOwnProperty.call(output.data, EXEC_MIME_TYPE))) {\n",
       "      return\n",
       "    }\n",
       "\n",
       "    const toinsert = output_area.element.find(\".\" + CLASS_NAME.split(' ')[0]);\n",
       "\n",
       "    if (output.metadata[EXEC_MIME_TYPE][\"id\"] !== undefined) {\n",
       "      toinsert[toinsert.length - 1].firstChild.textContent = output.data[JS_MIME_TYPE];\n",
       "      // store reference to embed id on output_area\n",
       "      output_area._bokeh_element_id = output.metadata[EXEC_MIME_TYPE][\"id\"];\n",
       "    }\n",
       "    if (output.metadata[EXEC_MIME_TYPE][\"server_id\"] !== undefined) {\n",
       "      const bk_div = document.createElement(\"div\");\n",
       "      bk_div.innerHTML = output.data[HTML_MIME_TYPE];\n",
       "      const script_attrs = bk_div.children[0].attributes;\n",
       "      for (let i = 0; i < script_attrs.length; i++) {\n",
       "        toinsert[toinsert.length - 1].firstChild.setAttribute(script_attrs[i].name, script_attrs[i].value);\n",
       "        toinsert[toinsert.length - 1].firstChild.textContent = bk_div.children[0].textContent\n",
       "      }\n",
       "      // store reference to server id on output_area\n",
       "      output_area._bokeh_server_id = output.metadata[EXEC_MIME_TYPE][\"server_id\"];\n",
       "    }\n",
       "  }\n",
       "\n",
       "  function register_renderer(events, OutputArea) {\n",
       "\n",
       "    function append_mime(data, metadata, element) {\n",
       "      // create a DOM node to render to\n",
       "      const toinsert = this.create_output_subarea(\n",
       "        metadata,\n",
       "        CLASS_NAME,\n",
       "        EXEC_MIME_TYPE\n",
       "      );\n",
       "      this.keyboard_manager.register_events(toinsert);\n",
       "      // Render to node\n",
       "      const props = {data: data, metadata: metadata[EXEC_MIME_TYPE]};\n",
       "      render(props, toinsert[toinsert.length - 1]);\n",
       "      element.append(toinsert);\n",
       "      return toinsert\n",
       "    }\n",
       "\n",
       "    /* Handle when an output is cleared or removed */\n",
       "    events.on('clear_output.CodeCell', handleClearOutput);\n",
       "    events.on('delete.Cell', handleClearOutput);\n",
       "\n",
       "    /* Handle when a new output is added */\n",
       "    events.on('output_added.OutputArea', handleAddOutput);\n",
       "\n",
       "    /**\n",
       "     * Register the mime type and append_mime function with output_area\n",
       "     */\n",
       "    OutputArea.prototype.register_mime_type(EXEC_MIME_TYPE, append_mime, {\n",
       "      /* Is output safe? */\n",
       "      safe: true,\n",
       "      /* Index of renderer in `output_area.display_order` */\n",
       "      index: 0\n",
       "    });\n",
       "  }\n",
       "\n",
       "  // register the mime type if in Jupyter Notebook environment and previously unregistered\n",
       "  if (root.Jupyter !== undefined) {\n",
       "    const events = require('base/js/events');\n",
       "    const OutputArea = require('notebook/js/outputarea').OutputArea;\n",
       "\n",
       "    if (OutputArea.prototype.mime_types().indexOf(EXEC_MIME_TYPE) == -1) {\n",
       "      register_renderer(events, OutputArea);\n",
       "    }\n",
       "  }\n",
       "\n",
       "  \n",
       "  if (typeof (root._bokeh_timeout) === \"undefined\" || force === true) {\n",
       "    root._bokeh_timeout = Date.now() + 5000;\n",
       "    root._bokeh_failed_load = false;\n",
       "  }\n",
       "\n",
       "  const NB_LOAD_WARNING = {'data': {'text/html':\n",
       "     \"<div style='background-color: #fdd'>\\n\"+\n",
       "     \"<p>\\n\"+\n",
       "     \"BokehJS does not appear to have successfully loaded. If loading BokehJS from CDN, this \\n\"+\n",
       "     \"may be due to a slow or bad network connection. Possible fixes:\\n\"+\n",
       "     \"</p>\\n\"+\n",
       "     \"<ul>\\n\"+\n",
       "     \"<li>re-rerun `output_notebook()` to attempt to load from CDN again, or</li>\\n\"+\n",
       "     \"<li>use INLINE resources instead, as so:</li>\\n\"+\n",
       "     \"</ul>\\n\"+\n",
       "     \"<code>\\n\"+\n",
       "     \"from bokeh.resources import INLINE\\n\"+\n",
       "     \"output_notebook(resources=INLINE)\\n\"+\n",
       "     \"</code>\\n\"+\n",
       "     \"</div>\"}};\n",
       "\n",
       "  function display_loaded() {\n",
       "    const el = document.getElementById(\"1002\");\n",
       "    if (el != null) {\n",
       "      el.textContent = \"BokehJS is loading...\";\n",
       "    }\n",
       "    if (root.Bokeh !== undefined) {\n",
       "      if (el != null) {\n",
       "        el.textContent = \"BokehJS \" + root.Bokeh.version + \" successfully loaded.\";\n",
       "      }\n",
       "    } else if (Date.now() < root._bokeh_timeout) {\n",
       "      setTimeout(display_loaded, 100)\n",
       "    }\n",
       "  }\n",
       "\n",
       "\n",
       "  function run_callbacks() {\n",
       "    try {\n",
       "      root._bokeh_onload_callbacks.forEach(function(callback) {\n",
       "        if (callback != null)\n",
       "          callback();\n",
       "      });\n",
       "    } finally {\n",
       "      delete root._bokeh_onload_callbacks\n",
       "    }\n",
       "    console.debug(\"Bokeh: all callbacks have finished\");\n",
       "  }\n",
       "\n",
       "  function load_libs(css_urls, js_urls, callback) {\n",
       "    if (css_urls == null) css_urls = [];\n",
       "    if (js_urls == null) js_urls = [];\n",
       "\n",
       "    root._bokeh_onload_callbacks.push(callback);\n",
       "    if (root._bokeh_is_loading > 0) {\n",
       "      console.debug(\"Bokeh: BokehJS is being loaded, scheduling callback at\", now());\n",
       "      return null;\n",
       "    }\n",
       "    if (js_urls == null || js_urls.length === 0) {\n",
       "      run_callbacks();\n",
       "      return null;\n",
       "    }\n",
       "    console.debug(\"Bokeh: BokehJS not loaded, scheduling load and callback at\", now());\n",
       "    root._bokeh_is_loading = css_urls.length + js_urls.length;\n",
       "\n",
       "    function on_load() {\n",
       "      root._bokeh_is_loading--;\n",
       "      if (root._bokeh_is_loading === 0) {\n",
       "        console.debug(\"Bokeh: all BokehJS libraries/stylesheets loaded\");\n",
       "        run_callbacks()\n",
       "      }\n",
       "    }\n",
       "\n",
       "    function on_error(url) {\n",
       "      console.error(\"failed to load \" + url);\n",
       "    }\n",
       "\n",
       "    for (let i = 0; i < css_urls.length; i++) {\n",
       "      const url = css_urls[i];\n",
       "      const element = document.createElement(\"link\");\n",
       "      element.onload = on_load;\n",
       "      element.onerror = on_error.bind(null, url);\n",
       "      element.rel = \"stylesheet\";\n",
       "      element.type = \"text/css\";\n",
       "      element.href = url;\n",
       "      console.debug(\"Bokeh: injecting link tag for BokehJS stylesheet: \", url);\n",
       "      document.body.appendChild(element);\n",
       "    }\n",
       "\n",
       "    for (let i = 0; i < js_urls.length; i++) {\n",
       "      const url = js_urls[i];\n",
       "      const element = document.createElement('script');\n",
       "      element.onload = on_load;\n",
       "      element.onerror = on_error.bind(null, url);\n",
       "      element.async = false;\n",
       "      element.src = url;\n",
       "      console.debug(\"Bokeh: injecting script tag for BokehJS library: \", url);\n",
       "      document.head.appendChild(element);\n",
       "    }\n",
       "  };\n",
       "\n",
       "  function inject_raw_css(css) {\n",
       "    const element = document.createElement(\"style\");\n",
       "    element.appendChild(document.createTextNode(css));\n",
       "    document.body.appendChild(element);\n",
       "  }\n",
       "\n",
       "  \n",
       "  const js_urls = [\"https://cdn.bokeh.org/bokeh/release/bokeh-2.4.2.min.js\", \"https://cdn.bokeh.org/bokeh/release/bokeh-gl-2.4.2.min.js\", \"https://cdn.bokeh.org/bokeh/release/bokeh-widgets-2.4.2.min.js\", \"https://cdn.bokeh.org/bokeh/release/bokeh-tables-2.4.2.min.js\", \"https://cdn.bokeh.org/bokeh/release/bokeh-mathjax-2.4.2.min.js\"];\n",
       "  const css_urls = [];\n",
       "  \n",
       "\n",
       "  const inline_js = [\n",
       "    function(Bokeh) {\n",
       "      Bokeh.set_log_level(\"info\");\n",
       "    },\n",
       "    function(Bokeh) {\n",
       "    \n",
       "    \n",
       "    }\n",
       "  ];\n",
       "\n",
       "  function run_inline_js() {\n",
       "    \n",
       "    if (root.Bokeh !== undefined || force === true) {\n",
       "      \n",
       "    for (let i = 0; i < inline_js.length; i++) {\n",
       "      inline_js[i].call(root, root.Bokeh);\n",
       "    }\n",
       "    if (force === true) {\n",
       "        display_loaded();\n",
       "      }} else if (Date.now() < root._bokeh_timeout) {\n",
       "      setTimeout(run_inline_js, 100);\n",
       "    } else if (!root._bokeh_failed_load) {\n",
       "      console.log(\"Bokeh: BokehJS failed to load within specified timeout.\");\n",
       "      root._bokeh_failed_load = true;\n",
       "    } else if (force !== true) {\n",
       "      const cell = $(document.getElementById(\"1002\")).parents('.cell').data().cell;\n",
       "      cell.output_area.append_execute_result(NB_LOAD_WARNING)\n",
       "    }\n",
       "\n",
       "  }\n",
       "\n",
       "  if (root._bokeh_is_loading === 0) {\n",
       "    console.debug(\"Bokeh: BokehJS loaded, going straight to plotting\");\n",
       "    run_inline_js();\n",
       "  } else {\n",
       "    load_libs(css_urls, js_urls, function() {\n",
       "      console.debug(\"Bokeh: BokehJS plotting callback run at\", now());\n",
       "      run_inline_js();\n",
       "    });\n",
       "  }\n",
       "}(window));"
      ],
      "application/vnd.bokehjs_load.v0+json": "\n(function(root) {\n  function now() {\n    return new Date();\n  }\n\n  const force = true;\n\n  if (typeof root._bokeh_onload_callbacks === \"undefined\" || force === true) {\n    root._bokeh_onload_callbacks = [];\n    root._bokeh_is_loading = undefined;\n  }\n\n  \n\n  \n  if (typeof (root._bokeh_timeout) === \"undefined\" || force === true) {\n    root._bokeh_timeout = Date.now() + 5000;\n    root._bokeh_failed_load = false;\n  }\n\n  const NB_LOAD_WARNING = {'data': {'text/html':\n     \"<div style='background-color: #fdd'>\\n\"+\n     \"<p>\\n\"+\n     \"BokehJS does not appear to have successfully loaded. If loading BokehJS from CDN, this \\n\"+\n     \"may be due to a slow or bad network connection. Possible fixes:\\n\"+\n     \"</p>\\n\"+\n     \"<ul>\\n\"+\n     \"<li>re-rerun `output_notebook()` to attempt to load from CDN again, or</li>\\n\"+\n     \"<li>use INLINE resources instead, as so:</li>\\n\"+\n     \"</ul>\\n\"+\n     \"<code>\\n\"+\n     \"from bokeh.resources import INLINE\\n\"+\n     \"output_notebook(resources=INLINE)\\n\"+\n     \"</code>\\n\"+\n     \"</div>\"}};\n\n  function display_loaded() {\n    const el = document.getElementById(\"1002\");\n    if (el != null) {\n      el.textContent = \"BokehJS is loading...\";\n    }\n    if (root.Bokeh !== undefined) {\n      if (el != null) {\n        el.textContent = \"BokehJS \" + root.Bokeh.version + \" successfully loaded.\";\n      }\n    } else if (Date.now() < root._bokeh_timeout) {\n      setTimeout(display_loaded, 100)\n    }\n  }\n\n\n  function run_callbacks() {\n    try {\n      root._bokeh_onload_callbacks.forEach(function(callback) {\n        if (callback != null)\n          callback();\n      });\n    } finally {\n      delete root._bokeh_onload_callbacks\n    }\n    console.debug(\"Bokeh: all callbacks have finished\");\n  }\n\n  function load_libs(css_urls, js_urls, callback) {\n    if (css_urls == null) css_urls = [];\n    if (js_urls == null) js_urls = [];\n\n    root._bokeh_onload_callbacks.push(callback);\n    if (root._bokeh_is_loading > 0) {\n      console.debug(\"Bokeh: BokehJS is being loaded, scheduling callback at\", now());\n      return null;\n    }\n    if (js_urls == null || js_urls.length === 0) {\n      run_callbacks();\n      return null;\n    }\n    console.debug(\"Bokeh: BokehJS not loaded, scheduling load and callback at\", now());\n    root._bokeh_is_loading = css_urls.length + js_urls.length;\n\n    function on_load() {\n      root._bokeh_is_loading--;\n      if (root._bokeh_is_loading === 0) {\n        console.debug(\"Bokeh: all BokehJS libraries/stylesheets loaded\");\n        run_callbacks()\n      }\n    }\n\n    function on_error(url) {\n      console.error(\"failed to load \" + url);\n    }\n\n    for (let i = 0; i < css_urls.length; i++) {\n      const url = css_urls[i];\n      const element = document.createElement(\"link\");\n      element.onload = on_load;\n      element.onerror = on_error.bind(null, url);\n      element.rel = \"stylesheet\";\n      element.type = \"text/css\";\n      element.href = url;\n      console.debug(\"Bokeh: injecting link tag for BokehJS stylesheet: \", url);\n      document.body.appendChild(element);\n    }\n\n    for (let i = 0; i < js_urls.length; i++) {\n      const url = js_urls[i];\n      const element = document.createElement('script');\n      element.onload = on_load;\n      element.onerror = on_error.bind(null, url);\n      element.async = false;\n      element.src = url;\n      console.debug(\"Bokeh: injecting script tag for BokehJS library: \", url);\n      document.head.appendChild(element);\n    }\n  };\n\n  function inject_raw_css(css) {\n    const element = document.createElement(\"style\");\n    element.appendChild(document.createTextNode(css));\n    document.body.appendChild(element);\n  }\n\n  \n  const js_urls = [\"https://cdn.bokeh.org/bokeh/release/bokeh-2.4.2.min.js\", \"https://cdn.bokeh.org/bokeh/release/bokeh-gl-2.4.2.min.js\", \"https://cdn.bokeh.org/bokeh/release/bokeh-widgets-2.4.2.min.js\", \"https://cdn.bokeh.org/bokeh/release/bokeh-tables-2.4.2.min.js\", \"https://cdn.bokeh.org/bokeh/release/bokeh-mathjax-2.4.2.min.js\"];\n  const css_urls = [];\n  \n\n  const inline_js = [\n    function(Bokeh) {\n      Bokeh.set_log_level(\"info\");\n    },\n    function(Bokeh) {\n    \n    \n    }\n  ];\n\n  function run_inline_js() {\n    \n    if (root.Bokeh !== undefined || force === true) {\n      \n    for (let i = 0; i < inline_js.length; i++) {\n      inline_js[i].call(root, root.Bokeh);\n    }\n    if (force === true) {\n        display_loaded();\n      }} else if (Date.now() < root._bokeh_timeout) {\n      setTimeout(run_inline_js, 100);\n    } else if (!root._bokeh_failed_load) {\n      console.log(\"Bokeh: BokehJS failed to load within specified timeout.\");\n      root._bokeh_failed_load = true;\n    } else if (force !== true) {\n      const cell = $(document.getElementById(\"1002\")).parents('.cell').data().cell;\n      cell.output_area.append_execute_result(NB_LOAD_WARNING)\n    }\n\n  }\n\n  if (root._bokeh_is_loading === 0) {\n    console.debug(\"Bokeh: BokehJS loaded, going straight to plotting\");\n    run_inline_js();\n  } else {\n    load_libs(css_urls, js_urls, function() {\n      console.debug(\"Bokeh: BokehJS plotting callback run at\", now());\n      run_inline_js();\n    });\n  }\n}(window));"
     },
     "metadata": {},
     "output_type": "display_data"
    },
    {
     "data": {
      "text/html": [
       "<style>.container { width:80% !important; }</style>"
      ],
      "text/plain": [
       "<IPython.core.display.HTML object>"
      ]
     },
     "metadata": {},
     "output_type": "display_data"
    }
   ],
   "source": [
    "# Imports\n",
    "from pathlib import Path\n",
    "import os,sys,inspect\n",
    "module_path = os.path.abspath(os.path.join('..'))\n",
    "if module_path not in sys.path:\n",
    "    sys.path.append(module_path)\n",
    "import pandas as pd\n",
    "import numpy as np\n",
    "import zipfile\n",
    "import seaborn as sns \n",
    "import matplotlib.dates as mdates\n",
    "import matplotlib.pyplot as plt\n",
    "import plotly.offline as py \n",
    "%matplotlib inline\n",
    "import random\n",
    "import string\n",
    "import re\n",
    "import math\n",
    "import json\n",
    "import pickle\n",
    "import operator\n",
    "import glob\n",
    "\n",
    "# Pre-processing\n",
    "from sklearn.metrics import confusion_matrix\n",
    "from sklearn.preprocessing import OneHotEncoder\n",
    "from sklearn.preprocessing import StandardScaler\n",
    "from sklearn.linear_model import LogisticRegression\n",
    "from sklearn.model_selection import cross_val_predict as cvp\n",
    "from sklearn.model_selection import cross_val_score\n",
    "from sklearn.model_selection import train_test_split\n",
    "from imblearn.pipeline import make_pipeline\n",
    "from imblearn.over_sampling import SMOTE\n",
    "from sklearn.metrics import classification_report\n",
    "from sklearn.experimental import enable_halving_search_cv  # noqa\n",
    "from sklearn.model_selection import HalvingGridSearchCV\n",
    "from sklearn.ensemble import RandomForestClassifier\n",
    "# import keras\n",
    "# import tensorflow as tf\n",
    "# from tensorflow import keras\n",
    "\n",
    "# Classification model\n",
    "import tensorflow as tf\n",
    "from sklearn.neighbors import NearestNeighbors, KNeighborsClassifier\n",
    "from sklearn.model_selection import RepeatedStratifiedKFold, RandomizedSearchCV, GridSearchCV\n",
    "from sklearn.svm import SVC\n",
    "from sklearn.base import BaseEstimator\n",
    "from xgboost import XGBClassifier\n",
    "from sklearn.tree import DecisionTreeClassifier\n",
    "from sklearn.ensemble import RandomForestClassifier, AdaBoostClassifier, GradientBoostingClassifier\n",
    "\n",
    "# Accuracy check\n",
    "from sklearn.metrics import roc_auc_score, roc_curve, auc, confusion_matrix, ConfusionMatrixDisplay\n",
    "from sklearn.metrics import accuracy_score, recall_score, precision_score,f1_score, confusion_matrix\n",
    "from sklearn.metrics import precision_recall_fscore_support\n",
    "from sklearn.metrics import classification_report\n",
    "from sklearn.model_selection import cross_val_score\n",
    "from sklearn.metrics import mean_squared_error\n",
    "from plotly.offline import iplot, plot, init_notebook_mode\n",
    "from sklearn.model_selection import train_test_split\n",
    "from sklearn import metrics\n",
    "\n",
    "# Graph embedding\n",
    "import networkx as nx\n",
    "from networkx.algorithms.community.modularity_max import greedy_modularity_communities\n",
    "from sklearn.metrics.pairwise import pairwise_distances\n",
    "from gensim.models import Word2Vec\n",
    "from networkx.algorithms.community.label_propagation import label_propagation_communities\n",
    "import community # python-louvain\n",
    "import stellargraph as sg\n",
    "from stellargraph.data import BiasedRandomWalk, UnsupervisedSampler\n",
    "from stellargraph.mapper import Node2VecLinkGenerator, Node2VecNodeGenerator\n",
    "from stellargraph.layer import Node2Vec as n2v_stellar\n",
    "from stellargraph.layer import link_classification\n",
    "from node2vec import Node2Vec as n2v\n",
    "\n",
    "# Visualization \n",
    "# import igraph as ig\n",
    "import plotly.graph_objs as go\n",
    "import plotly.express as px\n",
    "from plotly.offline import iplot, plot, init_notebook_mode\n",
    "from bokeh.io import output_notebook, show, save\n",
    "from bokeh.models import *\n",
    "from bokeh.plotting import figure, show, from_networkx\n",
    "from bokeh.palettes import viridis, Viridis8\n",
    "from bokeh.transform import linear_cmap\n",
    "from networkx.algorithms import community\n",
    "from sklearn.manifold import TSNE\n",
    "from IPython.display import display, HTML\n",
    "from community import community_louvain\n",
    "output_notebook()\n",
    "\n",
    "# Ignore matplotlib warnings\n",
    "import warnings\n",
    "warnings.filterwarnings(\"ignore\")\n",
    "\n",
    "from IPython.core.display import display, HTML\n",
    "display(HTML(\"<style>.container { width:80% !important; }</style>\"))\n",
    "\n",
    "# Shared instances\n",
    "# pd.set_option('display.max_columns', None)\n",
    "# pd.set_option('display.max_rows', None)"
   ]
  },
  {
   "cell_type": "markdown",
   "id": "46f71be3",
   "metadata": {},
   "source": [
    "## Step 1. Data pre-processing"
   ]
  },
  {
   "cell_type": "code",
   "execution_count": 2,
   "id": "a41a4efb",
   "metadata": {
    "ExecuteTime": {
     "end_time": "2022-05-17T18:46:59.803056Z",
     "start_time": "2022-05-17T18:46:42.835618Z"
    }
   },
   "outputs": [],
   "source": [
    "# Read dataset\n",
    "trans_3w = pd.read_csv(r'trans_3w.csv')"
   ]
  },
  {
   "cell_type": "code",
   "execution_count": 3,
   "id": "fc9b64d3",
   "metadata": {
    "ExecuteTime": {
     "end_time": "2022-05-17T18:46:59.809474Z",
     "start_time": "2022-05-17T18:46:59.803889Z"
    }
   },
   "outputs": [
    {
     "data": {
      "text/html": [
       "<div>\n",
       "<style scoped>\n",
       "    .dataframe tbody tr th:only-of-type {\n",
       "        vertical-align: middle;\n",
       "    }\n",
       "\n",
       "    .dataframe tbody tr th {\n",
       "        vertical-align: top;\n",
       "    }\n",
       "\n",
       "    .dataframe thead th {\n",
       "        text-align: right;\n",
       "    }\n",
       "</style>\n",
       "<table border=\"1\" class=\"dataframe\">\n",
       "  <thead>\n",
       "    <tr style=\"text-align: right;\">\n",
       "      <th></th>\n",
       "      <th>txn_hash</th>\n",
       "      <th>input_address</th>\n",
       "      <th>output_address</th>\n",
       "      <th>ammount</th>\n",
       "      <th>fees</th>\n",
       "      <th>block_index</th>\n",
       "      <th>block_time</th>\n",
       "      <th>input_flag</th>\n",
       "      <th>output_flag</th>\n",
       "    </tr>\n",
       "  </thead>\n",
       "  <tbody>\n",
       "    <tr>\n",
       "      <th>0</th>\n",
       "      <td>bd36f2ca16e2a2c73c807b7d1569657b30de8453450cd2...</td>\n",
       "      <td>13Uf71d8y94xEk2LX7GCtaBJmPiahhA7TR</td>\n",
       "      <td>16FPyvvz5Ug3cx97qH67KfgC6PY1S9fskQ</td>\n",
       "      <td>2.420000e+07</td>\n",
       "      <td>320000.000000</td>\n",
       "      <td>453318</td>\n",
       "      <td>2017-02-16 12:05:04</td>\n",
       "      <td>0</td>\n",
       "      <td>1</td>\n",
       "    </tr>\n",
       "    <tr>\n",
       "      <th>1</th>\n",
       "      <td>8c852e187a0541cd8ea8c93a6c728843b5f8b9c579b6fc...</td>\n",
       "      <td>166zajP74bcRVo7BmdeDME3mRX3Mi9e3xn</td>\n",
       "      <td>1ASaHGPN8qRuqZkpnR7d2tcndU9uHL6aGj</td>\n",
       "      <td>2.503648e+03</td>\n",
       "      <td>3.314845</td>\n",
       "      <td>453318</td>\n",
       "      <td>2017-02-16 12:05:04</td>\n",
       "      <td>0</td>\n",
       "      <td>1</td>\n",
       "    </tr>\n",
       "    <tr>\n",
       "      <th>2</th>\n",
       "      <td>8c852e187a0541cd8ea8c93a6c728843b5f8b9c579b6fc...</td>\n",
       "      <td>1LU3DtRE3XK32WxFqrnaT9k99nRgwHtLHd</td>\n",
       "      <td>1ASaHGPN8qRuqZkpnR7d2tcndU9uHL6aGj</td>\n",
       "      <td>6.359402e+05</td>\n",
       "      <td>841.988605</td>\n",
       "      <td>453318</td>\n",
       "      <td>2017-02-16 12:05:04</td>\n",
       "      <td>0</td>\n",
       "      <td>1</td>\n",
       "    </tr>\n",
       "    <tr>\n",
       "      <th>3</th>\n",
       "      <td>8c852e187a0541cd8ea8c93a6c728843b5f8b9c579b6fc...</td>\n",
       "      <td>1HVQNFf7vDpJVZk7tEzbFxnmALSezA2qPD</td>\n",
       "      <td>1ASaHGPN8qRuqZkpnR7d2tcndU9uHL6aGj</td>\n",
       "      <td>5.902369e+05</td>\n",
       "      <td>781.477250</td>\n",
       "      <td>453318</td>\n",
       "      <td>2017-02-16 12:05:04</td>\n",
       "      <td>0</td>\n",
       "      <td>1</td>\n",
       "    </tr>\n",
       "    <tr>\n",
       "      <th>4</th>\n",
       "      <td>8c852e187a0541cd8ea8c93a6c728843b5f8b9c579b6fc...</td>\n",
       "      <td>1LU3DtRE3XK32WxFqrnaT9k99nRgwHtLHd</td>\n",
       "      <td>1ASaHGPN8qRuqZkpnR7d2tcndU9uHL6aGj</td>\n",
       "      <td>1.013032e+05</td>\n",
       "      <td>134.126076</td>\n",
       "      <td>453318</td>\n",
       "      <td>2017-02-16 12:05:04</td>\n",
       "      <td>0</td>\n",
       "      <td>1</td>\n",
       "    </tr>\n",
       "  </tbody>\n",
       "</table>\n",
       "</div>"
      ],
      "text/plain": [
       "                                            txn_hash  \\\n",
       "0  bd36f2ca16e2a2c73c807b7d1569657b30de8453450cd2...   \n",
       "1  8c852e187a0541cd8ea8c93a6c728843b5f8b9c579b6fc...   \n",
       "2  8c852e187a0541cd8ea8c93a6c728843b5f8b9c579b6fc...   \n",
       "3  8c852e187a0541cd8ea8c93a6c728843b5f8b9c579b6fc...   \n",
       "4  8c852e187a0541cd8ea8c93a6c728843b5f8b9c579b6fc...   \n",
       "\n",
       "                        input_address                      output_address  \\\n",
       "0  13Uf71d8y94xEk2LX7GCtaBJmPiahhA7TR  16FPyvvz5Ug3cx97qH67KfgC6PY1S9fskQ   \n",
       "1  166zajP74bcRVo7BmdeDME3mRX3Mi9e3xn  1ASaHGPN8qRuqZkpnR7d2tcndU9uHL6aGj   \n",
       "2  1LU3DtRE3XK32WxFqrnaT9k99nRgwHtLHd  1ASaHGPN8qRuqZkpnR7d2tcndU9uHL6aGj   \n",
       "3  1HVQNFf7vDpJVZk7tEzbFxnmALSezA2qPD  1ASaHGPN8qRuqZkpnR7d2tcndU9uHL6aGj   \n",
       "4  1LU3DtRE3XK32WxFqrnaT9k99nRgwHtLHd  1ASaHGPN8qRuqZkpnR7d2tcndU9uHL6aGj   \n",
       "\n",
       "        ammount           fees  block_index           block_time  input_flag  \\\n",
       "0  2.420000e+07  320000.000000       453318  2017-02-16 12:05:04           0   \n",
       "1  2.503648e+03       3.314845       453318  2017-02-16 12:05:04           0   \n",
       "2  6.359402e+05     841.988605       453318  2017-02-16 12:05:04           0   \n",
       "3  5.902369e+05     781.477250       453318  2017-02-16 12:05:04           0   \n",
       "4  1.013032e+05     134.126076       453318  2017-02-16 12:05:04           0   \n",
       "\n",
       "   output_flag  \n",
       "0            1  \n",
       "1            1  \n",
       "2            1  \n",
       "3            1  \n",
       "4            1  "
      ]
     },
     "execution_count": 3,
     "metadata": {},
     "output_type": "execute_result"
    }
   ],
   "source": [
    "trans_3w.head()"
   ]
  },
  {
   "cell_type": "code",
   "execution_count": 4,
   "id": "bcb54b06",
   "metadata": {
    "ExecuteTime": {
     "end_time": "2022-05-17T18:46:59.812760Z",
     "start_time": "2022-05-17T18:46:59.810611Z"
    }
   },
   "outputs": [
    {
     "data": {
      "text/plain": [
       "txn_hash           object\n",
       "input_address      object\n",
       "output_address     object\n",
       "ammount           float64\n",
       "fees              float64\n",
       "block_index         int64\n",
       "block_time         object\n",
       "input_flag          int64\n",
       "output_flag         int64\n",
       "dtype: object"
      ]
     },
     "execution_count": 4,
     "metadata": {},
     "output_type": "execute_result"
    }
   ],
   "source": [
    "trans_3w.dtypes"
   ]
  },
  {
   "cell_type": "code",
   "execution_count": 5,
   "id": "fb047e2b",
   "metadata": {
    "ExecuteTime": {
     "end_time": "2022-05-17T18:46:59.815390Z",
     "start_time": "2022-05-17T18:46:59.813477Z"
    }
   },
   "outputs": [
    {
     "data": {
      "text/plain": [
       "(14033260, 9)"
      ]
     },
     "execution_count": 5,
     "metadata": {},
     "output_type": "execute_result"
    }
   ],
   "source": [
    "trans_3w.shape"
   ]
  },
  {
   "cell_type": "markdown",
   "id": "fea0ad8c",
   "metadata": {},
   "source": [
    "## Step 2. Exporatory data analysis"
   ]
  },
  {
   "cell_type": "code",
   "execution_count": 85,
   "id": "0c09e0c3",
   "metadata": {
    "ExecuteTime": {
     "end_time": "2022-05-17T20:57:50.306861Z",
     "start_time": "2022-05-17T20:57:50.294648Z"
    }
   },
   "outputs": [
    {
     "name": "stdout",
     "output_type": "stream",
     "text": [
      "Number of input labels:  182\n",
      "Number of output labels:  4429\n"
     ]
    }
   ],
   "source": [
    "# Load input/output label fules\n",
    "input_labels = pickle.load(open('data/input_labels.txt','rb'))\n",
    "print(\"Number of input labels: \", len(input_labels))\n",
    "\n",
    "output_labels = pickle.load(open('data/output_labels.txt','rb'))\n",
    "print(\"Number of output labels: \", len(output_labels))\n",
    "\n",
    "# List of fraudulent adresses\n",
    "fraud_addresses = list(input_labels) + list(output_labels)"
   ]
  },
  {
   "cell_type": "code",
   "execution_count": 86,
   "id": "1ac8fece",
   "metadata": {
    "ExecuteTime": {
     "end_time": "2022-05-17T20:57:51.220481Z",
     "start_time": "2022-05-17T20:57:50.307698Z"
    }
   },
   "outputs": [
    {
     "data": {
      "text/plain": [
       "False    13199622\n",
       "True       833638\n",
       "Name: input_address, dtype: int64"
      ]
     },
     "execution_count": 86,
     "metadata": {},
     "output_type": "execute_result"
    }
   ],
   "source": [
    "trans_3w['input_address'].isin(fraud_addresses).value_counts()"
   ]
  },
  {
   "cell_type": "code",
   "execution_count": 87,
   "id": "2e5a70f7",
   "metadata": {
    "ExecuteTime": {
     "end_time": "2022-05-17T20:57:51.900307Z",
     "start_time": "2022-05-17T20:57:51.221530Z"
    }
   },
   "outputs": [
    {
     "data": {
      "text/plain": [
       "False    13470254\n",
       "True       563006\n",
       "Name: output_address, dtype: int64"
      ]
     },
     "execution_count": 87,
     "metadata": {},
     "output_type": "execute_result"
    }
   ],
   "source": [
    "trans_3w['output_address'].isin(fraud_addresses).value_counts()"
   ]
  },
  {
   "cell_type": "code",
   "execution_count": 90,
   "id": "4c046041",
   "metadata": {
    "ExecuteTime": {
     "end_time": "2022-05-17T20:57:53.315619Z",
     "start_time": "2022-05-17T20:57:52.916878Z"
    }
   },
   "outputs": [
    {
     "data": {
      "text/plain": [
       "array(['2017-02-16 12:05:04', '2017-02-16 12:07:12',\n",
       "       '2017-02-16 12:17:46', ..., '2017-03-09 10:30:30',\n",
       "       '2017-03-09 10:31:28', '2017-03-09 10:34:29'], dtype=object)"
      ]
     },
     "execution_count": 90,
     "metadata": {},
     "output_type": "execute_result"
    }
   ],
   "source": [
    "trans_3w['block_time'].unique()"
   ]
  },
  {
   "cell_type": "code",
   "execution_count": 91,
   "id": "470b4d61",
   "metadata": {
    "ExecuteTime": {
     "end_time": "2022-05-17T20:57:57.066393Z",
     "start_time": "2022-05-17T20:57:53.316473Z"
    }
   },
   "outputs": [
    {
     "data": {
      "text/plain": [
       "2235580"
      ]
     },
     "execution_count": 91,
     "metadata": {},
     "output_type": "execute_result"
    }
   ],
   "source": [
    "# Number of unique transactions - M2,9\n",
    "trans_3w['txn_hash'].nunique() # shows considerable number of group transactions"
   ]
  },
  {
   "cell_type": "code",
   "execution_count": 92,
   "id": "5d88a800",
   "metadata": {
    "ExecuteTime": {
     "end_time": "2022-05-17T20:57:58.706141Z",
     "start_time": "2022-05-17T20:57:57.067162Z"
    }
   },
   "outputs": [
    {
     "data": {
      "text/plain": [
       "2905358"
      ]
     },
     "execution_count": 92,
     "metadata": {},
     "output_type": "execute_result"
    }
   ],
   "source": [
    "# Number of unique input addresses - M2,9 \n",
    "trans_3w['input_address'].nunique()"
   ]
  },
  {
   "cell_type": "code",
   "execution_count": 93,
   "id": "0a706a71",
   "metadata": {
    "ExecuteTime": {
     "end_time": "2022-05-17T20:58:01.048517Z",
     "start_time": "2022-05-17T20:57:58.706852Z"
    }
   },
   "outputs": [
    {
     "data": {
      "text/plain": [
       "3PUuiYu5cFMsagkffArrKZzQFtWdHttU3x          87190\n",
       "3CD1QW6fjgTwKq3Pj97nty28WZAVkziNom          69304\n",
       "97333c48ad0f0d6d33efc6cbf153966b2139aec5    58000\n",
       "19JRz9seZ7DG5LVa9HkXC1bkMzxvnuhsAy          57574\n",
       "b78f207cb338c16dce1ff785a940d6f878a70f3a    51887\n",
       "                                            ...  \n",
       "1569TQzfNeh7ZM6jAHj6fPKAF4opkhPdFG              1\n",
       "15nrwkdA7zNGpXJzs5QvAKuJ9VKMabNPkq              1\n",
       "1BahGBGWUFupzoVLWZZCkbGirreMvqqcY5              1\n",
       "1Q78Q7k8BDK8LBs9hwcnFiPW3DuZgs4YST              1\n",
       "13Uf71d8y94xEk2LX7GCtaBJmPiahhA7TR              1\n",
       "Name: input_address, Length: 2905358, dtype: int64"
      ]
     },
     "execution_count": 93,
     "metadata": {},
     "output_type": "execute_result"
    }
   ],
   "source": [
    "# Number of transactions per account\n",
    "trans_3w['input_address'].value_counts() # shows large discrepancy in activity between accounts"
   ]
  },
  {
   "cell_type": "code",
   "execution_count": 94,
   "id": "075e352e",
   "metadata": {
    "ExecuteTime": {
     "end_time": "2022-05-17T20:58:02.807843Z",
     "start_time": "2022-05-17T20:58:01.049540Z"
    }
   },
   "outputs": [
    {
     "data": {
      "text/plain": [
       "3267728"
      ]
     },
     "execution_count": 94,
     "metadata": {},
     "output_type": "execute_result"
    }
   ],
   "source": [
    "# Number of unique output addresses\n",
    "trans_3w['output_address'].nunique()"
   ]
  },
  {
   "cell_type": "code",
   "execution_count": 95,
   "id": "952547b3",
   "metadata": {
    "ExecuteTime": {
     "end_time": "2022-05-17T20:58:05.862160Z",
     "start_time": "2022-05-17T20:58:02.809182Z"
    }
   },
   "outputs": [
    {
     "data": {
      "text/plain": [
       "97333c48ad0f0d6d33efc6cbf153966b2139aec5    58250\n",
       "b78f207cb338c16dce1ff785a940d6f878a70f3a    52000\n",
       "3PUuiYu5cFMsagkffArrKZzQFtWdHttU3x          47728\n",
       "f3a17c35fd995f7a3aee089703ab81bcb4ef0b28    43700\n",
       "0499c77cab212f94c796955355557c40b1f472ee    35350\n",
       "                                            ...  \n",
       "1DFwhbqotMc3SADPQBq2GbmDsVqgSVm1zo              1\n",
       "1K7kVkxuXFL1zhETH3oKBk97j6uGT9S9NN              1\n",
       "14YFLKf6pYyJndKUmCAZFXChv4hGT11Pcv              1\n",
       "16Lnq73Z5xgFZJsnnguhbo7CRwAnGxpkP6              1\n",
       "1AGtcEBTPtqWNw6BxEy3h9QBEr3ajEWTSW              1\n",
       "Name: output_address, Length: 3267728, dtype: int64"
      ]
     },
     "execution_count": 95,
     "metadata": {},
     "output_type": "execute_result"
    }
   ],
   "source": [
    "# Number of transactions per account\n",
    "trans_3w['output_address'].value_counts() # smaller range than input_address but still shows large discrepancy in activity"
   ]
  },
  {
   "cell_type": "markdown",
   "id": "77999c25",
   "metadata": {},
   "source": [
    "## Step 3. Descriptive statistics"
   ]
  },
  {
   "cell_type": "code",
   "execution_count": 96,
   "id": "a03e3ec4",
   "metadata": {
    "ExecuteTime": {
     "end_time": "2022-05-17T20:58:09.294035Z",
     "start_time": "2022-05-17T20:58:05.863007Z"
    }
   },
   "outputs": [
    {
     "data": {
      "text/html": [
       "<div>\n",
       "<style scoped>\n",
       "    .dataframe tbody tr th:only-of-type {\n",
       "        vertical-align: middle;\n",
       "    }\n",
       "\n",
       "    .dataframe tbody tr th {\n",
       "        vertical-align: top;\n",
       "    }\n",
       "\n",
       "    .dataframe thead th {\n",
       "        text-align: right;\n",
       "    }\n",
       "</style>\n",
       "<table border=\"1\" class=\"dataframe\">\n",
       "  <thead>\n",
       "    <tr style=\"text-align: right;\">\n",
       "      <th></th>\n",
       "      <th>ammount</th>\n",
       "      <th>fees</th>\n",
       "      <th>block_index</th>\n",
       "      <th>input_flag</th>\n",
       "      <th>output_flag</th>\n",
       "      <th>month</th>\n",
       "      <th>day</th>\n",
       "    </tr>\n",
       "  </thead>\n",
       "  <tbody>\n",
       "    <tr>\n",
       "      <th>count</th>\n",
       "      <td>1.403312e+07</td>\n",
       "      <td>1.403312e+07</td>\n",
       "      <td>1.403326e+07</td>\n",
       "      <td>1.403326e+07</td>\n",
       "      <td>1.403326e+07</td>\n",
       "      <td>1.403326e+07</td>\n",
       "      <td>1.403326e+07</td>\n",
       "    </tr>\n",
       "    <tr>\n",
       "      <th>mean</th>\n",
       "      <td>3.648195e+07</td>\n",
       "      <td>1.099449e+04</td>\n",
       "      <td>4.546637e+05</td>\n",
       "      <td>1.551528e-03</td>\n",
       "      <td>3.936755e-02</td>\n",
       "      <td>2.334144e+00</td>\n",
       "      <td>1.571614e+01</td>\n",
       "    </tr>\n",
       "    <tr>\n",
       "      <th>std</th>\n",
       "      <td>6.394097e+08</td>\n",
       "      <td>4.283267e+04</td>\n",
       "      <td>9.884161e+02</td>\n",
       "      <td>3.935888e-02</td>\n",
       "      <td>1.944678e-01</td>\n",
       "      <td>4.716904e-01</td>\n",
       "      <td>8.474728e+00</td>\n",
       "    </tr>\n",
       "    <tr>\n",
       "      <th>min</th>\n",
       "      <td>-3.035458e+09</td>\n",
       "      <td>0.000000e+00</td>\n",
       "      <td>4.533180e+05</td>\n",
       "      <td>0.000000e+00</td>\n",
       "      <td>0.000000e+00</td>\n",
       "      <td>2.000000e+00</td>\n",
       "      <td>1.000000e+00</td>\n",
       "    </tr>\n",
       "    <tr>\n",
       "      <th>25%</th>\n",
       "      <td>7.080253e+03</td>\n",
       "      <td>3.790049e+01</td>\n",
       "      <td>4.536240e+05</td>\n",
       "      <td>0.000000e+00</td>\n",
       "      <td>0.000000e+00</td>\n",
       "      <td>2.000000e+00</td>\n",
       "      <td>7.000000e+00</td>\n",
       "    </tr>\n",
       "    <tr>\n",
       "      <th>50%</th>\n",
       "      <td>1.944997e+05</td>\n",
       "      <td>7.989566e+02</td>\n",
       "      <td>4.546760e+05</td>\n",
       "      <td>0.000000e+00</td>\n",
       "      <td>0.000000e+00</td>\n",
       "      <td>2.000000e+00</td>\n",
       "      <td>1.700000e+01</td>\n",
       "    </tr>\n",
       "    <tr>\n",
       "      <th>75%</th>\n",
       "      <td>2.986816e+06</td>\n",
       "      <td>1.199397e+04</td>\n",
       "      <td>4.555070e+05</td>\n",
       "      <td>0.000000e+00</td>\n",
       "      <td>0.000000e+00</td>\n",
       "      <td>3.000000e+00</td>\n",
       "      <td>2.300000e+01</td>\n",
       "    </tr>\n",
       "    <tr>\n",
       "      <th>max</th>\n",
       "      <td>2.753992e+11</td>\n",
       "      <td>3.925864e+07</td>\n",
       "      <td>4.564370e+05</td>\n",
       "      <td>1.000000e+00</td>\n",
       "      <td>1.000000e+00</td>\n",
       "      <td>3.000000e+00</td>\n",
       "      <td>2.800000e+01</td>\n",
       "    </tr>\n",
       "  </tbody>\n",
       "</table>\n",
       "</div>"
      ],
      "text/plain": [
       "            ammount          fees   block_index    input_flag   output_flag  \\\n",
       "count  1.403312e+07  1.403312e+07  1.403326e+07  1.403326e+07  1.403326e+07   \n",
       "mean   3.648195e+07  1.099449e+04  4.546637e+05  1.551528e-03  3.936755e-02   \n",
       "std    6.394097e+08  4.283267e+04  9.884161e+02  3.935888e-02  1.944678e-01   \n",
       "min   -3.035458e+09  0.000000e+00  4.533180e+05  0.000000e+00  0.000000e+00   \n",
       "25%    7.080253e+03  3.790049e+01  4.536240e+05  0.000000e+00  0.000000e+00   \n",
       "50%    1.944997e+05  7.989566e+02  4.546760e+05  0.000000e+00  0.000000e+00   \n",
       "75%    2.986816e+06  1.199397e+04  4.555070e+05  0.000000e+00  0.000000e+00   \n",
       "max    2.753992e+11  3.925864e+07  4.564370e+05  1.000000e+00  1.000000e+00   \n",
       "\n",
       "              month           day  \n",
       "count  1.403326e+07  1.403326e+07  \n",
       "mean   2.334144e+00  1.571614e+01  \n",
       "std    4.716904e-01  8.474728e+00  \n",
       "min    2.000000e+00  1.000000e+00  \n",
       "25%    2.000000e+00  7.000000e+00  \n",
       "50%    2.000000e+00  1.700000e+01  \n",
       "75%    3.000000e+00  2.300000e+01  \n",
       "max    3.000000e+00  2.800000e+01  "
      ]
     },
     "execution_count": 96,
     "metadata": {},
     "output_type": "execute_result"
    }
   ],
   "source": [
    "# Descriptive stats\n",
    "trans_3w.describe() # very high levels of standard deviation"
   ]
  },
  {
   "cell_type": "code",
   "execution_count": 97,
   "id": "d91e49be",
   "metadata": {
    "ExecuteTime": {
     "end_time": "2022-05-17T20:58:09.708533Z",
     "start_time": "2022-05-17T20:58:09.294856Z"
    }
   },
   "outputs": [
    {
     "data": {
      "text/plain": [
       "1592"
      ]
     },
     "execution_count": 97,
     "metadata": {},
     "output_type": "execute_result"
    }
   ],
   "source": [
    "# Number of unique timestamps\n",
    "trans_3w['block_time'].nunique() # some blocks were minted at the same time"
   ]
  },
  {
   "cell_type": "code",
   "execution_count": 98,
   "id": "cb59aed8",
   "metadata": {
    "ExecuteTime": {
     "end_time": "2022-05-17T20:58:10.873702Z",
     "start_time": "2022-05-17T20:58:09.709568Z"
    }
   },
   "outputs": [
    {
     "data": {
      "text/html": [
       "<div>\n",
       "<style scoped>\n",
       "    .dataframe tbody tr th:only-of-type {\n",
       "        vertical-align: middle;\n",
       "    }\n",
       "\n",
       "    .dataframe tbody tr th {\n",
       "        vertical-align: top;\n",
       "    }\n",
       "\n",
       "    .dataframe thead th {\n",
       "        text-align: right;\n",
       "    }\n",
       "</style>\n",
       "<table border=\"1\" class=\"dataframe\">\n",
       "  <thead>\n",
       "    <tr style=\"text-align: right;\">\n",
       "      <th></th>\n",
       "      <th>txn_hash</th>\n",
       "      <th>input_address</th>\n",
       "      <th>output_address</th>\n",
       "      <th>ammount</th>\n",
       "      <th>fees</th>\n",
       "      <th>block_index</th>\n",
       "      <th>block_time</th>\n",
       "      <th>input_flag</th>\n",
       "      <th>output_flag</th>\n",
       "      <th>month</th>\n",
       "      <th>day</th>\n",
       "      <th>group_trans</th>\n",
       "    </tr>\n",
       "  </thead>\n",
       "  <tbody>\n",
       "    <tr>\n",
       "      <th>0</th>\n",
       "      <td>bd36f2ca16e2a2c73c807b7d1569657b30de8453450cd2...</td>\n",
       "      <td>13Uf71d8y94xEk2LX7GCtaBJmPiahhA7TR</td>\n",
       "      <td>16FPyvvz5Ug3cx97qH67KfgC6PY1S9fskQ</td>\n",
       "      <td>2.420000e+07</td>\n",
       "      <td>320000.000000</td>\n",
       "      <td>453318</td>\n",
       "      <td>2017-02-16 12:05:04</td>\n",
       "      <td>0</td>\n",
       "      <td>0</td>\n",
       "      <td>2</td>\n",
       "      <td>16</td>\n",
       "      <td>1</td>\n",
       "    </tr>\n",
       "    <tr>\n",
       "      <th>1</th>\n",
       "      <td>8c852e187a0541cd8ea8c93a6c728843b5f8b9c579b6fc...</td>\n",
       "      <td>166zajP74bcRVo7BmdeDME3mRX3Mi9e3xn</td>\n",
       "      <td>1ASaHGPN8qRuqZkpnR7d2tcndU9uHL6aGj</td>\n",
       "      <td>2.503648e+03</td>\n",
       "      <td>3.314845</td>\n",
       "      <td>453318</td>\n",
       "      <td>2017-02-16 12:05:04</td>\n",
       "      <td>0</td>\n",
       "      <td>0</td>\n",
       "      <td>2</td>\n",
       "      <td>16</td>\n",
       "      <td>1</td>\n",
       "    </tr>\n",
       "    <tr>\n",
       "      <th>2</th>\n",
       "      <td>8c852e187a0541cd8ea8c93a6c728843b5f8b9c579b6fc...</td>\n",
       "      <td>1LU3DtRE3XK32WxFqrnaT9k99nRgwHtLHd</td>\n",
       "      <td>1ASaHGPN8qRuqZkpnR7d2tcndU9uHL6aGj</td>\n",
       "      <td>6.359402e+05</td>\n",
       "      <td>841.988605</td>\n",
       "      <td>453318</td>\n",
       "      <td>2017-02-16 12:05:04</td>\n",
       "      <td>0</td>\n",
       "      <td>0</td>\n",
       "      <td>2</td>\n",
       "      <td>16</td>\n",
       "      <td>1</td>\n",
       "    </tr>\n",
       "    <tr>\n",
       "      <th>3</th>\n",
       "      <td>8c852e187a0541cd8ea8c93a6c728843b5f8b9c579b6fc...</td>\n",
       "      <td>1HVQNFf7vDpJVZk7tEzbFxnmALSezA2qPD</td>\n",
       "      <td>1ASaHGPN8qRuqZkpnR7d2tcndU9uHL6aGj</td>\n",
       "      <td>5.902369e+05</td>\n",
       "      <td>781.477250</td>\n",
       "      <td>453318</td>\n",
       "      <td>2017-02-16 12:05:04</td>\n",
       "      <td>0</td>\n",
       "      <td>0</td>\n",
       "      <td>2</td>\n",
       "      <td>16</td>\n",
       "      <td>1</td>\n",
       "    </tr>\n",
       "    <tr>\n",
       "      <th>4</th>\n",
       "      <td>8c852e187a0541cd8ea8c93a6c728843b5f8b9c579b6fc...</td>\n",
       "      <td>1LU3DtRE3XK32WxFqrnaT9k99nRgwHtLHd</td>\n",
       "      <td>1ASaHGPN8qRuqZkpnR7d2tcndU9uHL6aGj</td>\n",
       "      <td>1.013032e+05</td>\n",
       "      <td>134.126076</td>\n",
       "      <td>453318</td>\n",
       "      <td>2017-02-16 12:05:04</td>\n",
       "      <td>0</td>\n",
       "      <td>0</td>\n",
       "      <td>2</td>\n",
       "      <td>16</td>\n",
       "      <td>1</td>\n",
       "    </tr>\n",
       "  </tbody>\n",
       "</table>\n",
       "</div>"
      ],
      "text/plain": [
       "                                            txn_hash  \\\n",
       "0  bd36f2ca16e2a2c73c807b7d1569657b30de8453450cd2...   \n",
       "1  8c852e187a0541cd8ea8c93a6c728843b5f8b9c579b6fc...   \n",
       "2  8c852e187a0541cd8ea8c93a6c728843b5f8b9c579b6fc...   \n",
       "3  8c852e187a0541cd8ea8c93a6c728843b5f8b9c579b6fc...   \n",
       "4  8c852e187a0541cd8ea8c93a6c728843b5f8b9c579b6fc...   \n",
       "\n",
       "                        input_address                      output_address  \\\n",
       "0  13Uf71d8y94xEk2LX7GCtaBJmPiahhA7TR  16FPyvvz5Ug3cx97qH67KfgC6PY1S9fskQ   \n",
       "1  166zajP74bcRVo7BmdeDME3mRX3Mi9e3xn  1ASaHGPN8qRuqZkpnR7d2tcndU9uHL6aGj   \n",
       "2  1LU3DtRE3XK32WxFqrnaT9k99nRgwHtLHd  1ASaHGPN8qRuqZkpnR7d2tcndU9uHL6aGj   \n",
       "3  1HVQNFf7vDpJVZk7tEzbFxnmALSezA2qPD  1ASaHGPN8qRuqZkpnR7d2tcndU9uHL6aGj   \n",
       "4  1LU3DtRE3XK32WxFqrnaT9k99nRgwHtLHd  1ASaHGPN8qRuqZkpnR7d2tcndU9uHL6aGj   \n",
       "\n",
       "        ammount           fees  block_index           block_time  input_flag  \\\n",
       "0  2.420000e+07  320000.000000       453318  2017-02-16 12:05:04           0   \n",
       "1  2.503648e+03       3.314845       453318  2017-02-16 12:05:04           0   \n",
       "2  6.359402e+05     841.988605       453318  2017-02-16 12:05:04           0   \n",
       "3  5.902369e+05     781.477250       453318  2017-02-16 12:05:04           0   \n",
       "4  1.013032e+05     134.126076       453318  2017-02-16 12:05:04           0   \n",
       "\n",
       "   output_flag  month  day  group_trans  \n",
       "0            0      2   16            1  \n",
       "1            0      2   16            1  \n",
       "2            0      2   16            1  \n",
       "3            0      2   16            1  \n",
       "4            0      2   16            1  "
      ]
     },
     "execution_count": 98,
     "metadata": {},
     "output_type": "execute_result"
    }
   ],
   "source": [
    "# Features with default 0\n",
    "add_feat = ['input_flag', 'output_flag']\n",
    "trans_3w = trans_3w.assign(**dict.fromkeys(add_feat, 0))\n",
    "\n",
    "# Feature with default 1\n",
    "trans_3w = trans_3w.assign(**dict.fromkeys(['group_trans'], 1))\n",
    "\n",
    "trans_3w.head()"
   ]
  },
  {
   "cell_type": "code",
   "execution_count": 99,
   "id": "1358535f",
   "metadata": {
    "ExecuteTime": {
     "end_time": "2022-05-17T20:58:12.254581Z",
     "start_time": "2022-05-17T20:58:10.875431Z"
    }
   },
   "outputs": [
    {
     "data": {
      "text/plain": [
       "(1947068, 2)"
      ]
     },
     "execution_count": 99,
     "metadata": {},
     "output_type": "execute_result"
    }
   ],
   "source": [
    "# Filter through transaction ids to find those with multiple sellers and buyers\n",
    "txn_counts = trans_3w['txn_hash'].value_counts().loc[lambda x : x>1]\n",
    "\n",
    "# converting to df and assigning new names to the columns\n",
    "txn_counts = pd.DataFrame(txn_counts)\n",
    "txn_counts = txn_counts.reset_index()\n",
    "txn_counts.columns = ['txn_hash', 'txn_counts']\n",
    "txn_counts.shape # size is too large to reasonably iterate through"
   ]
  },
  {
   "cell_type": "code",
   "execution_count": 100,
   "id": "1fb74045",
   "metadata": {
    "ExecuteTime": {
     "end_time": "2022-05-17T20:58:12.258183Z",
     "start_time": "2022-05-17T20:58:12.255370Z"
    }
   },
   "outputs": [
    {
     "data": {
      "text/html": [
       "<div>\n",
       "<style scoped>\n",
       "    .dataframe tbody tr th:only-of-type {\n",
       "        vertical-align: middle;\n",
       "    }\n",
       "\n",
       "    .dataframe tbody tr th {\n",
       "        vertical-align: top;\n",
       "    }\n",
       "\n",
       "    .dataframe thead th {\n",
       "        text-align: right;\n",
       "    }\n",
       "</style>\n",
       "<table border=\"1\" class=\"dataframe\">\n",
       "  <thead>\n",
       "    <tr style=\"text-align: right;\">\n",
       "      <th></th>\n",
       "      <th>txn_hash</th>\n",
       "      <th>txn_counts</th>\n",
       "    </tr>\n",
       "  </thead>\n",
       "  <tbody>\n",
       "    <tr>\n",
       "      <th>0</th>\n",
       "      <td>4a7b8c0b2eb30207c48a857d79ed40bb532d93a3e62e17...</td>\n",
       "      <td>80427</td>\n",
       "    </tr>\n",
       "    <tr>\n",
       "      <th>1</th>\n",
       "      <td>5e549c35fc9e48b6e8f543e7682d34eeae17fc59d97c10...</td>\n",
       "      <td>38064</td>\n",
       "    </tr>\n",
       "    <tr>\n",
       "      <th>2</th>\n",
       "      <td>8f4e7cb0ad80daf4d6694cf22a89cd882dab8e1cb3f831...</td>\n",
       "      <td>31545</td>\n",
       "    </tr>\n",
       "    <tr>\n",
       "      <th>3</th>\n",
       "      <td>01370e462f9eb440cdfdd0cfa092783686ed0320c22038...</td>\n",
       "      <td>29452</td>\n",
       "    </tr>\n",
       "    <tr>\n",
       "      <th>4</th>\n",
       "      <td>18f19b8b8c2156f224e0c5544605deb775728ebc1deb31...</td>\n",
       "      <td>21684</td>\n",
       "    </tr>\n",
       "  </tbody>\n",
       "</table>\n",
       "</div>"
      ],
      "text/plain": [
       "                                            txn_hash  txn_counts\n",
       "0  4a7b8c0b2eb30207c48a857d79ed40bb532d93a3e62e17...       80427\n",
       "1  5e549c35fc9e48b6e8f543e7682d34eeae17fc59d97c10...       38064\n",
       "2  8f4e7cb0ad80daf4d6694cf22a89cd882dab8e1cb3f831...       31545\n",
       "3  01370e462f9eb440cdfdd0cfa092783686ed0320c22038...       29452\n",
       "4  18f19b8b8c2156f224e0c5544605deb775728ebc1deb31...       21684"
      ]
     },
     "execution_count": 100,
     "metadata": {},
     "output_type": "execute_result"
    }
   ],
   "source": [
    "# Transaction id counts inspection\n",
    "txn_counts.head() # The first is a distinct outlier"
   ]
  },
  {
   "cell_type": "code",
   "execution_count": 101,
   "id": "b8fffa52",
   "metadata": {
    "ExecuteTime": {
     "end_time": "2022-05-17T20:58:13.450690Z",
     "start_time": "2022-05-17T20:58:12.258899Z"
    }
   },
   "outputs": [
    {
     "data": {
      "text/plain": [
       "288512"
      ]
     },
     "execution_count": 101,
     "metadata": {},
     "output_type": "execute_result"
    }
   ],
   "source": [
    "txn_uniq = trans_3w['txn_hash'].value_counts().loc[lambda x : x==1]\n",
    "\n",
    "# converting to df and assigning new names to the columns\n",
    "txn_uniq = pd.DataFrame(txn_uniq)\n",
    "txn_uniq = txn_uniq.reset_index()\n",
    "txn_uniq.columns = ['txn_hash', 'txn_counts']\n",
    "\n",
    "# Get list of transactions that appear once\n",
    "one_txn = txn_uniq['txn_hash'].tolist()\n",
    "len(one_txn)"
   ]
  },
  {
   "cell_type": "code",
   "execution_count": 102,
   "id": "17296d02",
   "metadata": {
    "ExecuteTime": {
     "end_time": "2022-05-17T20:58:13.452791Z",
     "start_time": "2022-05-17T20:58:13.451480Z"
    }
   },
   "outputs": [],
   "source": [
    "# Create flag for transactions with multiple buyers and sellers\n",
    "\n",
    "# for i in progressbar(range(288512)):\n",
    "#    for i in one_txn:\n",
    "#        trans_3w.loc[trans_3w.txn_hash == i, 'group_trans'] = 0\n",
    "#    trans_3w['group_trans'].value_counts() # Estimated 3/4 days"
   ]
  },
  {
   "cell_type": "code",
   "execution_count": 103,
   "id": "2c724cbd",
   "metadata": {
    "ExecuteTime": {
     "end_time": "2022-05-17T20:58:17.984474Z",
     "start_time": "2022-05-17T20:58:13.454132Z"
    }
   },
   "outputs": [
    {
     "data": {
      "text/plain": [
       "0    14033260\n",
       "Name: input_flag, dtype: int64"
      ]
     },
     "execution_count": 103,
     "metadata": {},
     "output_type": "execute_result"
    }
   ],
   "source": [
    "# Create flag for fraudulent/high-risk input address\n",
    "for i in input_fraud:\n",
    "    trans_3w.loc[trans_3w.input_address == i, 'input_flag'] = 1\n",
    "\n",
    "trans_3w['input_flag'].value_counts()"
   ]
  },
  {
   "cell_type": "markdown",
   "id": "d6e12c11",
   "metadata": {
    "ExecuteTime": {
     "start_time": "2022-05-10T23:23:45.893Z"
    }
   },
   "source": [
    "## Step 4. Visualize network properties"
   ]
  },
  {
   "cell_type": "markdown",
   "id": "7ae54709",
   "metadata": {},
   "source": [
    "### Create Graph"
   ]
  },
  {
   "cell_type": "code",
   "execution_count": 8,
   "id": "3d02b6c4",
   "metadata": {
    "ExecuteTime": {
     "end_time": "2022-05-17T18:48:37.641429Z",
     "start_time": "2022-05-17T18:47:52.111014Z"
    }
   },
   "outputs": [],
   "source": [
    "# Create directed and weighted graph most suitable for our dataset\n",
    "Direct_Weight_G = nx.from_pandas_edgelist(trans_3w, 'output_address', 'input_address', edge_attr=['txn_hash', 'ammount', 'fees', \n",
    "                                'block_index', 'block_time'], create_using=nx.DiGraph())"
   ]
  },
  {
   "cell_type": "code",
   "execution_count": 9,
   "id": "9a62fe9e",
   "metadata": {
    "ExecuteTime": {
     "end_time": "2022-05-17T18:48:39.384170Z",
     "start_time": "2022-05-17T18:48:37.642454Z"
    }
   },
   "outputs": [
    {
     "name": "stdout",
     "output_type": "stream",
     "text": [
      "The full network has 4667173 nodes.\n",
      "The full network has 10545282 edges.\n"
     ]
    }
   ],
   "source": [
    "print(f\"The full network has {Direct_Weight_G.number_of_nodes()} nodes.\")\n",
    "print(f\"The full network has {Direct_Weight_G.number_of_edges()} edges.\")"
   ]
  },
  {
   "cell_type": "code",
   "execution_count": 106,
   "id": "3e473709",
   "metadata": {
    "ExecuteTime": {
     "end_time": "2022-05-17T22:07:35.605482Z",
     "start_time": "2022-05-17T22:04:42.357620Z"
    }
   },
   "outputs": [],
   "source": [
    "# Save graph \n",
    "nx.write_gml(Direct_Weight_G, \"Direct_Weight_G.gml\")"
   ]
  },
  {
   "cell_type": "code",
   "execution_count": 11,
   "id": "94a39cbd",
   "metadata": {
    "ExecuteTime": {
     "end_time": "2022-05-17T18:49:18.212217Z",
     "start_time": "2022-05-17T18:48:52.503797Z"
    }
   },
   "outputs": [],
   "source": [
    "# Create directed graph as alternative\n",
    "Direct_G = nx.from_pandas_edgelist(trans_3w, 'output_address', 'input_address', create_using=nx.DiGraph())"
   ]
  },
  {
   "cell_type": "code",
   "execution_count": 12,
   "id": "e44c5941",
   "metadata": {
    "ExecuteTime": {
     "end_time": "2022-05-17T18:49:20.047114Z",
     "start_time": "2022-05-17T18:49:18.213892Z"
    }
   },
   "outputs": [
    {
     "name": "stdout",
     "output_type": "stream",
     "text": [
      "The full network has 4667173 nodes.\n",
      "The full network has 10545282 edges.\n"
     ]
    }
   ],
   "source": [
    "print(f\"The full network has {Direct_G.number_of_nodes()} nodes.\")\n",
    "print(f\"The full network has {Direct_G.number_of_edges()} edges.\")"
   ]
  },
  {
   "cell_type": "code",
   "execution_count": 107,
   "id": "44082cdd",
   "metadata": {
    "ExecuteTime": {
     "end_time": "2022-05-17T22:08:18.051630Z",
     "start_time": "2022-05-17T22:07:35.616120Z"
    }
   },
   "outputs": [],
   "source": [
    "# Save graph \n",
    "nx.write_gml(Direct_G, \"Direct_G.gml\")"
   ]
  },
  {
   "cell_type": "code",
   "execution_count": 14,
   "id": "68b4af0a",
   "metadata": {
    "ExecuteTime": {
     "end_time": "2022-05-17T18:50:38.214754Z",
     "start_time": "2022-05-17T18:49:30.378448Z"
    }
   },
   "outputs": [],
   "source": [
    "# Create undirected graph as many graph properties are suitable only for undirected graph\n",
    "Undirect_G = nx.from_pandas_edgelist(trans_3w, 'output_address', 'input_address', create_using=nx.Graph())"
   ]
  },
  {
   "cell_type": "code",
   "execution_count": 15,
   "id": "bdfcf19c",
   "metadata": {
    "ExecuteTime": {
     "end_time": "2022-05-17T18:50:40.089094Z",
     "start_time": "2022-05-17T18:50:38.217290Z"
    }
   },
   "outputs": [
    {
     "name": "stdout",
     "output_type": "stream",
     "text": [
      "The full network has 4667173 nodes.\n",
      "The full network has 10533149 edges.\n"
     ]
    }
   ],
   "source": [
    "print(f\"The full network has {Undirect_G.number_of_nodes()} nodes.\")\n",
    "print(f\"The full network has {Undirect_G.number_of_edges()} edges.\") # slightly less than previous graphs"
   ]
  },
  {
   "cell_type": "code",
   "execution_count": 108,
   "id": "a3cc986f",
   "metadata": {
    "ExecuteTime": {
     "end_time": "2022-05-17T22:09:03.799348Z",
     "start_time": "2022-05-17T22:08:18.056514Z"
    }
   },
   "outputs": [],
   "source": [
    "# Save graph \n",
    "nx.write_gml(Undirect_G, \"Undirect_G.gml\")"
   ]
  },
  {
   "cell_type": "markdown",
   "id": "7286a20b",
   "metadata": {
    "ExecuteTime": {
     "end_time": "2022-05-17T09:16:58.523744Z",
     "start_time": "2022-05-17T09:16:58.484564Z"
    }
   },
   "source": [
    "### Graph Representation"
   ]
  },
  {
   "cell_type": "code",
   "execution_count": 17,
   "id": "af0cbdc2",
   "metadata": {
    "ExecuteTime": {
     "end_time": "2022-05-17T18:52:18.225454Z",
     "start_time": "2022-05-17T18:50:49.014805Z"
    }
   },
   "outputs": [],
   "source": [
    "# Obtain full network NetworkX Graph\n",
    "G_full = nx.from_pandas_edgelist(trans_3w, 'output_address', 'input_address', edge_attr=['txn_hash', 'ammount', 'fees', \n",
    "                                'block_index', 'block_time'], create_using=nx.DiGraph())"
   ]
  },
  {
   "cell_type": "code",
   "execution_count": 18,
   "id": "6ccc6d75",
   "metadata": {
    "ExecuteTime": {
     "end_time": "2022-05-17T18:52:18.231047Z",
     "start_time": "2022-05-17T18:52:18.227536Z"
    }
   },
   "outputs": [
    {
     "data": {
      "text/plain": [
       "True"
      ]
     },
     "execution_count": 18,
     "metadata": {},
     "output_type": "execute_result"
    }
   ],
   "source": [
    "nx.is_directed(G_full)"
   ]
  },
  {
   "cell_type": "code",
   "execution_count": 19,
   "id": "a01e0c6e",
   "metadata": {
    "ExecuteTime": {
     "end_time": "2022-05-17T18:52:22.076390Z",
     "start_time": "2022-05-17T18:52:18.231912Z"
    }
   },
   "outputs": [
    {
     "name": "stdout",
     "output_type": "stream",
     "text": [
      "The full network has 4667173 nodes.\n",
      "The full network has 10545282 edges.\n"
     ]
    }
   ],
   "source": [
    "print(f\"The full network has {G_full.number_of_nodes()} nodes.\")\n",
    "print(f\"The full network has {G_full.number_of_edges()} edges.\")"
   ]
  },
  {
   "cell_type": "code",
   "execution_count": null,
   "id": "0c70631a",
   "metadata": {
    "ExecuteTime": {
     "start_time": "2022-05-17T18:28:36.213Z"
    }
   },
   "outputs": [],
   "source": [
    "# Node count check\n",
    "in_ls = trans_3w['input_address'].tolist()\n",
    "out_ls = trans_3w['output_address'].tolist()\n",
    "\n",
    "node_ls = in_ls + out_ls\n",
    "\n",
    "len(set(node_ls)) # match to number of nodes confirmed"
   ]
  },
  {
   "cell_type": "code",
   "execution_count": 20,
   "id": "cbfe02e7",
   "metadata": {
    "ExecuteTime": {
     "end_time": "2022-05-17T18:52:46.469723Z",
     "start_time": "2022-05-17T18:52:22.077287Z"
    }
   },
   "outputs": [],
   "source": [
    "# Create a mask with only the first records\n",
    "mask = ~trans_3w[['input_address', 'output_address']].duplicated()\n",
    "# Get a list of nodes with attributes\n",
    "nodes = trans_3w[mask][['input_address', 'output_address', 'input_flag', 'output_flag']]\n",
    "\n",
    "# Add the attributes one at a time.\n",
    "in_dict = nodes.set_index('input_address')['input_flag'].to_dict()\n",
    "nx.set_node_attributes(G_full, in_dict, 'input_flag')\n",
    "\n",
    "out_dict = nodes.set_index('output_address')['output_flag'].to_dict()\n",
    "nx.set_node_attributes(G_full, out_dict, 'output_flag')"
   ]
  },
  {
   "cell_type": "code",
   "execution_count": 21,
   "id": "45ad583d",
   "metadata": {
    "ExecuteTime": {
     "end_time": "2022-05-17T18:52:46.683952Z",
     "start_time": "2022-05-17T18:52:46.475271Z"
    }
   },
   "outputs": [],
   "source": [
    "# input_address fraud subset\n",
    "input_fraud = trans_3w[trans_3w['input_flag'] == 1]"
   ]
  },
  {
   "cell_type": "code",
   "execution_count": 22,
   "id": "49e455f3",
   "metadata": {
    "ExecuteTime": {
     "end_time": "2022-05-17T18:52:46.726025Z",
     "start_time": "2022-05-17T18:52:46.684720Z"
    }
   },
   "outputs": [
    {
     "data": {
      "text/plain": [
       "True"
      ]
     },
     "execution_count": 22,
     "metadata": {},
     "output_type": "execute_result"
    }
   ],
   "source": [
    "# Obtain input fraud nodes NetworkX Graph\n",
    "G_infraud = nx.from_pandas_edgelist(input_fraud, 'output_address', 'input_address', create_using=nx.DiGraph())\n",
    "\n",
    "nx.is_directed(G_infraud)"
   ]
  },
  {
   "cell_type": "code",
   "execution_count": 23,
   "id": "28778373",
   "metadata": {
    "ExecuteTime": {
     "end_time": "2022-05-17T18:52:46.731852Z",
     "start_time": "2022-05-17T18:52:46.727194Z"
    }
   },
   "outputs": [
    {
     "name": "stdout",
     "output_type": "stream",
     "text": [
      "The fraudulent input address network has 10813 nodes.\n",
      "The fraudulent input address network has 15677 edges.\n"
     ]
    }
   ],
   "source": [
    "print(f\"The fraudulent input address network has {G_infraud.number_of_nodes()} nodes.\")\n",
    "print(f\"The fraudulent input address network has {G_infraud.number_of_edges()} edges.\")"
   ]
  },
  {
   "cell_type": "code",
   "execution_count": 24,
   "id": "ef3908fe",
   "metadata": {
    "ExecuteTime": {
     "end_time": "2022-05-17T18:52:47.113487Z",
     "start_time": "2022-05-17T18:52:46.732864Z"
    }
   },
   "outputs": [],
   "source": [
    "# output_address fraud subset\n",
    "output_fraud = trans_3w[trans_3w['output_flag'] == 1]"
   ]
  },
  {
   "cell_type": "code",
   "execution_count": 25,
   "id": "22e25117",
   "metadata": {
    "ExecuteTime": {
     "end_time": "2022-05-17T18:52:47.712183Z",
     "start_time": "2022-05-17T18:52:47.114226Z"
    }
   },
   "outputs": [
    {
     "data": {
      "text/plain": [
       "True"
      ]
     },
     "execution_count": 25,
     "metadata": {},
     "output_type": "execute_result"
    }
   ],
   "source": [
    "# Obtain output fraud nodes NetworkX Graph\n",
    "G_outfraud = nx.from_pandas_edgelist(output_fraud, 'output_address', 'input_address', create_using=nx.DiGraph())\n",
    "\n",
    "nx.is_directed(G_outfraud)"
   ]
  },
  {
   "cell_type": "code",
   "execution_count": 26,
   "id": "0fba88e4",
   "metadata": {
    "ExecuteTime": {
     "end_time": "2022-05-17T18:52:47.762486Z",
     "start_time": "2022-05-17T18:52:47.713729Z"
    }
   },
   "outputs": [
    {
     "name": "stdout",
     "output_type": "stream",
     "text": [
      "The fraudulent input address network has 156599 nodes.\n",
      "The fraudulent input address network has 198957 edges.\n"
     ]
    }
   ],
   "source": [
    "print(f\"The fraudulent input address network has {G_outfraud.number_of_nodes()} nodes.\")\n",
    "print(f\"The fraudulent input address network has {G_outfraud.number_of_edges()} edges.\")"
   ]
  },
  {
   "cell_type": "markdown",
   "id": "6d4015a4",
   "metadata": {},
   "source": [
    "### Node Attributes"
   ]
  },
  {
   "cell_type": "code",
   "execution_count": 28,
   "id": "3ed8cebf",
   "metadata": {
    "ExecuteTime": {
     "end_time": "2022-05-17T18:56:41.580786Z",
     "start_time": "2022-05-17T18:56:41.578055Z"
    }
   },
   "outputs": [],
   "source": [
    "node_properties = pd.DataFrame()"
   ]
  },
  {
   "cell_type": "markdown",
   "id": "dfffc7ab",
   "metadata": {},
   "source": [
    "#### Degree"
   ]
  },
  {
   "cell_type": "code",
   "execution_count": 29,
   "id": "af510c91",
   "metadata": {
    "ExecuteTime": {
     "end_time": "2022-05-17T18:56:51.046875Z",
     "start_time": "2022-05-17T18:56:41.581627Z"
    }
   },
   "outputs": [],
   "source": [
    "degree = [val for (node, val) in G_full.degree()]\n",
    "in_degree = [val for (node, val) in G_full.in_degree()]\n",
    "out_degree = [val for (node, val) in G_full.out_degree()]\n",
    "address = [node for (node, val) in G_full.degree()]"
   ]
  },
  {
   "cell_type": "code",
   "execution_count": 30,
   "id": "58de69b4",
   "metadata": {
    "ExecuteTime": {
     "end_time": "2022-05-17T18:56:53.084417Z",
     "start_time": "2022-05-17T18:56:51.048430Z"
    }
   },
   "outputs": [],
   "source": [
    "node_properties['address'] = address\n",
    "node_properties['degree'] = degree\n",
    "node_properties['in_degree'] = in_degree\n",
    "node_properties['out_degree'] = out_degree"
   ]
  },
  {
   "cell_type": "markdown",
   "id": "05810140",
   "metadata": {},
   "source": [
    "#### Centrality"
   ]
  },
  {
   "cell_type": "code",
   "execution_count": 31,
   "id": "fc8bc643",
   "metadata": {
    "ExecuteTime": {
     "end_time": "2022-05-17T18:59:07.727388Z",
     "start_time": "2022-05-17T18:56:53.085176Z"
    }
   },
   "outputs": [],
   "source": [
    "# Eigenvector Centrality\n",
    "eigen_centrality = nx.eigenvector_centrality(G_full)\n",
    "eigen_centrality = [eigen_centrality[node] for node in eigen_centrality]"
   ]
  },
  {
   "cell_type": "code",
   "execution_count": 84,
   "id": "877101d2",
   "metadata": {
    "ExecuteTime": {
     "end_time": "2022-05-17T20:57:50.283419Z",
     "start_time": "2022-05-17T20:57:50.272427Z"
    }
   },
   "outputs": [
    {
     "data": {
      "text/plain": [
       "[2.1780990491207018e-12,\n",
       " 5.112702680407487e-14,\n",
       " 3.428049297650965e-09,\n",
       " 7.480086258751488e-07,\n",
       " 7.480086258751488e-07,\n",
       " 7.480086258751488e-07,\n",
       " 4.547871186308181e-05,\n",
       " 1.957655840833139e-10,\n",
       " 1.1750992670058282e-08,\n",
       " 7.306169334991564e-07,\n",
       " 4.6838484065480656e-09,\n",
       " 6.426167775876551e-11,\n",
       " 6.031034442183628e-16,\n",
       " 5.232807096766566e-20,\n",
       " 6.268332969805998e-12,\n",
       " 1.827940147746923e-10,\n",
       " 2.353032062602172e-10,\n",
       " 5.289597053760543e-08,\n",
       " 8.793273072585153e-10,\n",
       " 8.793273072585153e-10,\n",
       " 8.793273072585153e-10,\n",
       " 9.718839053810907e-10,\n",
       " 8.793273072585153e-10,\n",
       " 3.652833088417494e-07,\n",
       " 8.793273072585153e-10,\n",
       " 2.6949844443573745e-13,\n",
       " 4.606388517791875e-10,\n",
       " 4.6461808094630276e-10,\n",
       " 2.6313710313363227e-08,\n",
       " 1.5698421290299702e-18,\n",
       " 4.6451876427569516e-10,\n",
       " 3.366340449883801e-10,\n",
       " 1.5972528649190153e-12,\n",
       " 3.798030259912684e-14,\n",
       " 1.0278728225791473e-20,\n",
       " 3.452008087349531e-16,\n",
       " 1.236792645917551e-16,\n",
       " 1.3449454243092674e-15,\n",
       " 8.288878912701738e-10,\n",
       " 1.1837235510631029e-11,\n",
       " 7.739873009722384e-16,\n",
       " 5.368727734214538e-09,\n",
       " 1.215516648175937e-10,\n",
       " 3.852749553251937e-09,\n",
       " 4.0057250550763954e-13,\n",
       " 4.6467496192106894e-10,\n",
       " 4.6279552717782243e-10,\n",
       " 9.061310757638078e-09,\n",
       " 1.2972576045483778e-10,\n",
       " 6.493490494200159e-06,\n",
       " 1.1136440591734037e-07,\n",
       " 1.6094869940672124e-09,\n",
       " 7.306169334991564e-07,\n",
       " 1.174862054786164e-08,\n",
       " 0.0006295673367437009,\n",
       " 9.539169990909734e-06,\n",
       " 1.5245311169119037e-08,\n",
       " 1.5449126717727712e-08,\n",
       " 1.54584258144515e-08,\n",
       " 9.067392995252109e-07,\n",
       " 2.6949844443573745e-13,\n",
       " 1.3692040754804713e-07,\n",
       " 1.3692040754804713e-07,\n",
       " 1.3692040754804713e-07,\n",
       " 1.3692040754804713e-07,\n",
       " 9.239862263878126e-06,\n",
       " 1.912777879835922e-18,\n",
       " 1.912777879835922e-18,\n",
       " 9.344298387083158e-22,\n",
       " 1.5412091235268218e-07,\n",
       " 4.2998835853499815e-05,\n",
       " 6.737239137086957e-19,\n",
       " 2.145302390956444e-10,\n",
       " 1.2337984426603974e-08,\n",
       " 9.344298387083158e-22,\n",
       " 0.00020641262487879387,\n",
       " 3.2909665279857674e-06,\n",
       " 5.381108026295708e-09,\n",
       " 3.617585837720012e-07,\n",
       " 3.221474509400262e-08,\n",
       " 8.844486122769485e-06,\n",
       " 1.3428489537420256e-07,\n",
       " 9.344298387083158e-22,\n",
       " 1.5972527714760313e-12,\n",
       " 4.98945802847816e-13,\n",
       " 2.042438470005593e-11,\n",
       " 6.914479960399728e-11,\n",
       " 1.0983890909945477e-12,\n",
       " 1.306916254767061e-12,\n",
       " 4.203096005390813e-08,\n",
       " 7.267669095433665e-10,\n",
       " 8.062572747940525e-15,\n",
       " 4.4420422544244453e-07,\n",
       " 7.745444337650191e-07,\n",
       " 6.174422758277974e-09,\n",
       " 9.344298387083158e-22,\n",
       " 4.7854955329768484e-17,\n",
       " 7.036920130658991e-16,\n",
       " 2.9775487895734114e-05,\n",
       " 4.4449284799247325e-07,\n",
       " 1.782167311214024e-08,\n",
       " 1.0278728225791473e-20,\n",
       " 1.0154489270646042e-06,\n",
       " 4.091273533551286e-09,\n",
       " 9.344298387083158e-22,\n",
       " 1.043188061851675e-11,\n",
       " 7.774543698165526e-10,\n",
       " 9.344298387083158e-22,\n",
       " 1.962302661287463e-20,\n",
       " 9.344298387083158e-22,\n",
       " 0.0030882251464381233,\n",
       " 4.607529363736001e-05,\n",
       " 4.682180159661731e-05,\n",
       " 4.532878568959883e-05,\n",
       " 1.962302661287463e-20,\n",
       " 9.377646225722033e-14,\n",
       " 9.377646225722033e-14,\n",
       " 9.377646225722033e-14,\n",
       " 9.377646225722033e-14,\n",
       " 9.377646225722033e-14,\n",
       " 9.377646225722033e-14,\n",
       " 9.377646225722033e-14,\n",
       " 9.377646225722033e-14,\n",
       " 4.822150260881621e-12,\n",
       " 6.065217125065181e-09,\n",
       " 6.049969862720855e-09,\n",
       " 8.333438151405317e-07,\n",
       " 0.00013323739117742484,\n",
       " 6.0499698628423305e-09,\n",
       " 1.4532309226943234e-07,\n",
       " 6.049969862720855e-09,\n",
       " 6.049969862720855e-09,\n",
       " 3.928677602907861e-07,\n",
       " 3.590708689639301e-06,\n",
       " 2.28225803593603e-06,\n",
       " 1.926746659779595e-06,\n",
       " 0.00011370495877176397,\n",
       " 9.923889981487043e-12,\n",
       " 2.0716466041156625e-13,\n",
       " 2.0716466041156625e-13,\n",
       " 5.883099598432497e-07,\n",
       " 9.344298387083158e-22,\n",
       " 9.344298387083158e-22,\n",
       " 1.962302661287463e-20,\n",
       " 9.437741370953989e-20,\n",
       " 9.437741370953989e-20,\n",
       " 9.344298387083158e-22,\n",
       " 1.0278728225791473e-20,\n",
       " 1.0278728225791473e-20,\n",
       " 2.5969718790397687e-09,\n",
       " 3.748259693511637e-11,\n",
       " 9.344298387083158e-22,\n",
       " 1.962302661287463e-20,\n",
       " 5.876629255636597e-18,\n",
       " 3.552702246769003e-17,\n",
       " 6.7505173850946475e-16,\n",
       " 5.419303375428517e-10,\n",
       " 5.594717940570047e-06,\n",
       " 0.00027419017071589325,\n",
       " 1.6094869940672124e-09,\n",
       " 1.0574115953647318e-07,\n",
       " 1.0574115953647318e-07,\n",
       " 1.6094869940672124e-09,\n",
       " 1.6094869940672124e-09,\n",
       " 1.0574115953647318e-07,\n",
       " 1.0574115953647318e-07,\n",
       " 1.0606888384953754e-07,\n",
       " 1.6094869940672124e-09,\n",
       " 1.0576846989589521e-07,\n",
       " 1.0574115953647318e-07,\n",
       " 1.6094869940672124e-09,\n",
       " 1.6094869940672124e-09,\n",
       " 1.6094869940672124e-09,\n",
       " 1.6094869940672124e-09,\n",
       " 1.6094869940672124e-09,\n",
       " 1.0579578025531725e-07,\n",
       " 1.6094869940672124e-09,\n",
       " 2.473642665826962e-14,\n",
       " 9.721857210683e-12,\n",
       " 9.721857210683e-12,\n",
       " 5.433559345456649e-10,\n",
       " 3.4293814240807847e-10,\n",
       " 4.7298669324735415e-12,\n",
       " 4.7298669324735415e-12,\n",
       " 2.473642665826962e-14,\n",
       " 0.0003692621411135029,\n",
       " 5.909152702031906e-06,\n",
       " 1.841847179639119e-15,\n",
       " 9.747037647566438e-17,\n",
       " 9.25565981235098e-11,\n",
       " 1.420544330405358e-12,\n",
       " 1.4516610122316872e-13,\n",
       " 6.117950033063978e-05,\n",
       " 0.0001280651710046106,\n",
       " 4.473418465397982e-05,\n",
       " 4.779579551770711e-05,\n",
       " 3.532477443788724e-11,\n",
       " 1.962302661287463e-20,\n",
       " 1.0035763385708271e-14,\n",
       " 7.812067821172326e-10,\n",
       " 4.596930404158502e-13,\n",
       " 8.929463111425823e-05,\n",
       " 1.3333218268843051e-06,\n",
       " 1.7793271048787062e-13,\n",
       " 1.405228763708664e-14,\n",
       " 5.140420784845067e-13,\n",
       " 1.962302661287463e-20,\n",
       " 3.803129443542845e-18,\n",
       " 4.781477484670451e-18,\n",
       " 2.5608873890536864e-06,\n",
       " 3.7384100917703736e-08,\n",
       " 8.123510655441615e-15,\n",
       " 3.7250860035775844e-13,\n",
       " 9.092582611560401e-15,\n",
       " 1.230924426530464e-17,\n",
       " 1.962302661287463e-20,\n",
       " 1.0156620741424115e-07,\n",
       " 1.8142795223304747e-11,\n",
       " 1.52470014015815e-08,\n",
       " 2.7397602682394843e-08,\n",
       " 1.8142795223304747e-11,\n",
       " 5.821743236090257e-06,\n",
       " 5.6046269191427435e-08,\n",
       " 2.2058377018612595e-08,\n",
       " 1.2828617432066289e-09,\n",
       " 1.5865500522519364e-12,\n",
       " 9.344298387083158e-22,\n",
       " 4.868379459670323e-19,\n",
       " 1.5431174356429117e-17,\n",
       " 5.615362672733744e-17,\n",
       " 7.754155541712311e-06,\n",
       " 0.012435447558629874,\n",
       " 1.6593270337275073e-06,\n",
       " 9.437741370953989e-20,\n",
       " 4.774774227507448e-06,\n",
       " 2.2043348854782722e-09,\n",
       " 3.262224260559128e-11,\n",
       " 2.544765758399278e-11,\n",
       " 1.962302661287463e-20,\n",
       " 1.1823758813083347e-13,\n",
       " 5.3269106617950514e-12,\n",
       " 9.437741370953989e-20,\n",
       " 1.1948087132643403e-16,\n",
       " 1.7512383214689877e-15,\n",
       " 2.138701139554554e-06,\n",
       " 3.5326595855294797e-08,\n",
       " 6.167236935474883e-20,\n",
       " 2.0049780720210037e-16,\n",
       " 1.7679412548361703e-17,\n",
       " 9.568561548373153e-19,\n",
       " 9.568561548373153e-19,\n",
       " 1.0676344584276836e-07,\n",
       " 6.8457553715558134e-06,\n",
       " 9.272024930961814e-09,\n",
       " 1.4496658096880216e-10,\n",
       " 3.993745834853708e-10,\n",
       " 5.232807096766566e-20,\n",
       " 0.0031347254661547234,\n",
       " 1.1619601218041846e-06,\n",
       " 1.883453760629879e-08,\n",
       " 1.0716861543834223e-07,\n",
       " 1.1292516624289262e-06,\n",
       " 1.8228171463990756e-08,\n",
       " 3.5004351320664047e-09,\n",
       " 2.098160155762592e-09,\n",
       " 3.0367569609281e-11,\n",
       " 5.7836211840056455e-11,\n",
       " 1.3030258548095247e-11,\n",
       " 3.8650448674421186e-13,\n",
       " 9.336747076406403e-12,\n",
       " 3.279848733866188e-19,\n",
       " 3.7346982216877344e-13,\n",
       " 1.7714932540177953e-11,\n",
       " 2.2559396527372318e-06,\n",
       " 3.417034921486257e-08,\n",
       " 7.1769144243646095e-12,\n",
       " 1.740033147466345e-08,\n",
       " 5.174898032641902e-10,\n",
       " 1.6330148758542114e-08,\n",
       " 1.3202559191109792e-17,\n",
       " 5.732572654353728e-12,\n",
       " 1.0578602395967998e-09,\n",
       " 0.0001877700046197947,\n",
       " 9.437741370953989e-20,\n",
       " 3.339885149139248e-06,\n",
       " 9.344298387083158e-22,\n",
       " 2.8172429638461993e-08,\n",
       " 1.985459818048004e-06,\n",
       " 1.4005641098367122e-06,\n",
       " 2.3574536034743947e-08,\n",
       " 9.344298387083158e-22,\n",
       " 1.8601382850078384e-09,\n",
       " 7.769084688123935e-14,\n",
       " 5.236052130373029e-10,\n",
       " 2.5699963101847917e-08,\n",
       " 2.6123855000768383e-17,\n",
       " 5.114431364396195e-12,\n",
       " 2.865065668452635e-10,\n",
       " 1.5865500522519364e-12,\n",
       " 3.7816675524500403e-14,\n",
       " 5.249986215578027e-14,\n",
       " 4.660848791206734e-07,\n",
       " 7.671437823853603e-09,\n",
       " 1.049515669129204e-08,\n",
       " 9.344298387083158e-22,\n",
       " 5.314650221272882e-06,\n",
       " 9.683441750123755e-06,\n",
       " 1.590651254588687e-09,\n",
       " 3.0308117595665175e-11,\n",
       " 4.934323067646315e-10,\n",
       " 2.098160155762592e-09,\n",
       " 2.980678273885309e-11,\n",
       " 2.980675012164514e-11,\n",
       " 1.1022503111378141e-12,\n",
       " 7.482415758827687e-06,\n",
       " 7.215367230726626e-07,\n",
       " 9.918748149548817e-09,\n",
       " 7.50627506098971e-10,\n",
       " 8.614798422855039e-07,\n",
       " 1.3639754778746942e-08,\n",
       " 8.463711362067536e-11,\n",
       " 9.344298387083158e-22,\n",
       " 4.359278614028096e-11,\n",
       " 3.4562182245908117e-09,\n",
       " 3.1617532381261975e-11,\n",
       " 4.5421691152680266e-13,\n",
       " 9.344298387083158e-22,\n",
       " 1.2690975468956573e-07,\n",
       " 6.787755532600285e-06,\n",
       " 9.344298387083158e-22,\n",
       " 1.0297680131517499e-07,\n",
       " 1.4709394998973507e-06,\n",
       " 9.344298387083158e-22,\n",
       " 9.344298387083158e-22,\n",
       " 5.488233625139304e-05,\n",
       " 9.437741370953989e-20,\n",
       " 2.07650013999437e-06,\n",
       " 9.344298387083158e-22,\n",
       " 5.3171649505503187e-08,\n",
       " 2.742356422628155e-08,\n",
       " 6.733240990942463e-06,\n",
       " 3.007553863167865e-08,\n",
       " 3.230317653799794e-08,\n",
       " 1.440367221780984e-07,\n",
       " 3.3611781974815176e-08,\n",
       " 9.344298387083158e-22,\n",
       " 1.0372171209662303e-19,\n",
       " 9.344298387083158e-22,\n",
       " 3.273594351759054e-08,\n",
       " 9.344298387083158e-22,\n",
       " 9.344298387083158e-22,\n",
       " 1.03865194106727e-06,\n",
       " 9.344298387083158e-22,\n",
       " 9.344298387083158e-22,\n",
       " 2.7887442746982664e-14,\n",
       " 9.344298387083158e-22,\n",
       " 6.167236935474882e-20,\n",
       " 1.410989056449557e-19,\n",
       " 1.6455309459653435e-18,\n",
       " 1.6455309459653435e-18,\n",
       " 4.961822443541155e-19,\n",
       " 1.1468571756840834e-09,\n",
       " 1.6675470989754467e-11,\n",
       " 1.6675470989754467e-11,\n",
       " 9.163651607372905e-15,\n",
       " 1.111397645796826e-10,\n",
       " 2.2135853844200297e-10,\n",
       " 1.9716469596745464e-19,\n",
       " 1.2472696754242514e-08,\n",
       " 3.0911782518218055e-12,\n",
       " 3.186405749995357e-19,\n",
       " 7.845892288000737e-11,\n",
       " 5.456157308789573e-09,\n",
       " 2.8333570164916363e-05,\n",
       " 4.117589975298388e-07,\n",
       " 7.204454056441116e-19,\n",
       " 1.5092711838503072e-09,\n",
       " 6.159653125092249e-06,\n",
       " 9.645524939895532e-10,\n",
       " 4.5030447856852245e-05,\n",
       " 6.986405068527788e-07,\n",
       " 2.052265379911973e-13,\n",
       " 9.344298387083158e-22,\n",
       " 1.962302661287463e-20,\n",
       " 1.962302661287463e-20,\n",
       " 1.962302661287463e-20,\n",
       " 9.344298387083158e-22,\n",
       " 8.968289212213334e-07,\n",
       " 1.3102608952164029e-08,\n",
       " 1.6351756226906423e-08,\n",
       " 1.962302661287463e-20,\n",
       " 4.874088825983801e-16,\n",
       " 5.0252071555740877e-14,\n",
       " 5.2258135928229185e-08,\n",
       " 7.989685926604878e-05,\n",
       " 9.582442580137042e-10,\n",
       " 9.582442580137042e-10,\n",
       " 1.6351756226906423e-08,\n",
       " 6.628490099013599e-14,\n",
       " 3.501985563108248e-08,\n",
       " 1.4665610576022024e-12,\n",
       " 2.678458192984768e-14,\n",
       " 2.678458192984768e-14,\n",
       " 9.344298387083158e-22,\n",
       " 9.344298387083158e-22,\n",
       " 0.022433305429409068,\n",
       " 1.3261134803910128e-12,\n",
       " 4.273580800386198e-08,\n",
       " 9.344298387083158e-22,\n",
       " 9.344298387083158e-22,\n",
       " 1.7661014711186282e-07,\n",
       " 8.137358250352298e-07,\n",
       " 7.733989487296797e-09,\n",
       " 3.080161097693662e-05,\n",
       " 1.962302661287463e-20,\n",
       " 7.306169334991564e-07,\n",
       " 7.306169334991564e-07,\n",
       " 1.1458520510072022e-10,\n",
       " 3.1460029751723732e-06,\n",
       " 4.397971723023865e-06,\n",
       " 4.006553686058908e-11,\n",
       " 4.353472411450682e-10,\n",
       " 3.058994841920291e-06,\n",
       " 2.5869309491361245e-13,\n",
       " 4.81126556723952e-10,\n",
       " 9.344298387083158e-22,\n",
       " 0.00014544902137817202,\n",
       " 7.597551220802318e-10,\n",
       " 1.9424780317450786e-08,\n",
       " 2.907943209218198e-10,\n",
       " 1.363814931032151e-08,\n",
       " 9.344298387083158e-22,\n",
       " 7.3044164087032e-10,\n",
       " 9.344298387083158e-22,\n",
       " 1.1117509826207235e-15,\n",
       " 1.4846611355043805e-07,\n",
       " 2.886796589986205e-05,\n",
       " 6.682147889072375e-08,\n",
       " 9.344298387083158e-22,\n",
       " 9.344298387083158e-22,\n",
       " 7.63896393144048e-18,\n",
       " 9.344298387083158e-22,\n",
       " 9.344298387083158e-22,\n",
       " 6.167236935474883e-20,\n",
       " 1.0278728225791473e-20,\n",
       " 1.7256960647769459e-09,\n",
       " 7.513885032226378e-10,\n",
       " 7.513885032226378e-10,\n",
       " 7.513885032226378e-10,\n",
       " 4.203096005390813e-08,\n",
       " 9.344298387083158e-22,\n",
       " 1.1748620547870985e-08,\n",
       " 1.1748620547880327e-08,\n",
       " 7.306169334991564e-07,\n",
       " 3.3388660997399144e-10,\n",
       " 1.175340717556102e-08,\n",
       " 7.306169334991564e-07,\n",
       " 9.344298387083158e-22,\n",
       " 1.7869100598587157e-09,\n",
       " 1.0081498669766737e-05,\n",
       " 1.4325873295965427e-07,\n",
       " 4.659042811626075e-09,\n",
       " 1.519702480196839e-06,\n",
       " 2.1027568518798693e-08,\n",
       " 9.488552208192476e-14,\n",
       " 0.00019209333767964036,\n",
       " 2.9991599253204413e-06,\n",
       " 1.9902958056162968e-11,\n",
       " 5.6226822322697074e-08,\n",
       " 8.831289286537615e-10,\n",
       " 1.1436901926495662e-10,\n",
       " 4.589988673215825e-08,\n",
       " 7.4638772153499e-10,\n",
       " 7.343434948082484e-10,\n",
       " 7.267668176029457e-10,\n",
       " 4.976135972928115e-05,\n",
       " 1.5255407755223714e-11,\n",
       " 2.3273277134745108e-07,\n",
       " 1.5336971703457474e-05,\n",
       " 9.344298387083158e-22,\n",
       " 8.099765298151797e-14,\n",
       " 4.0652643388315456e-12,\n",
       " 9.488553142622315e-14,\n",
       " 1.5361469908506552e-13,\n",
       " 6.669754390805737e-12,\n",
       " 4.6385475018571185e-07,\n",
       " 7.299048636641688e-09,\n",
       " 2.100876361869118e-09,\n",
       " 3.266496984841036e-08,\n",
       " 5.503223911350158e-10,\n",
       " 2.328881648759968e-10,\n",
       " 4.054442099490386e-12,\n",
       " 2.6277335008328377e-12,\n",
       " 1.3922926111745564e-10,\n",
       " 4.6046222459656126e-08,\n",
       " 3.02062085157765e-06,\n",
       " 1.3922926111745564e-10,\n",
       " 1.3814686503704635e-11,\n",
       " 7.366455090326843e-10,\n",
       " 7.366383709558514e-10,\n",
       " 9.307575387863769e-14,\n",
       " 9.286247930758896e-09,\n",
       " 1.5291118808413567e-10,\n",
       " 7.366455090326843e-10,\n",
       " 1.1324410995448117e-06,\n",
       " 1.8306584117736027e-08,\n",
       " 5.286340011051117e-06,\n",
       " 5.183929375366522e-06,\n",
       " 2.241688913356419e-13,\n",
       " 1.0094060594485856e-13,\n",
       " 3.203935619195006e-12,\n",
       " 6.363467201603629e-19,\n",
       " 6.5914680822484585e-18,\n",
       " 1.3108181777400255e-17,\n",
       " 1.5899012910890802e-10,\n",
       " 1.5767027129056497e-15,\n",
       " 7.269558586592318e-14,\n",
       " 1.5619424591734138e-15,\n",
       " 3.617296234862574e-09,\n",
       " 5.158655817785572e-11,\n",
       " 1.962302661287463e-20,\n",
       " 9.437741370953989e-20,\n",
       " 1.4962979610764606e-11,\n",
       " 3.0961932022077964e-13,\n",
       " 9.344298387083158e-22,\n",
       " 1.0278728225791473e-20,\n",
       " 4.118460080892312e-05,\n",
       " 6.201497478287282e-07,\n",
       " 9.344298387083158e-22,\n",
       " 0.0004729475494144385,\n",
       " 6.201339378163183e-07,\n",
       " 1.260837004712885e-09,\n",
       " 0.0002672911326347786,\n",
       " 0.00015757966623008342,\n",
       " 2.238997138483759e-06,\n",
       " 9.437741370953989e-20,\n",
       " 1.962302661287463e-20,\n",
       " 9.437741370953989e-20,\n",
       " 9.344298387083158e-22,\n",
       " 5.176939592111597e-05,\n",
       " 7.971013574624854e-16,\n",
       " 4.558989740074034e-17,\n",
       " 9.437741370953989e-20,\n",
       " 3.2763623577261734e-06,\n",
       " 0.0007125218173411909,\n",
       " 0.0001165225407861442,\n",
       " 1.8767729697926717e-06,\n",
       " 9.904956290308137e-20,\n",
       " 6.201338998361008e-07,\n",
       " 5.158655817785572e-11,\n",
       " 9.437741370953989e-20,\n",
       " 9.437741370953989e-20,\n",
       " 4.558989740074034e-17,\n",
       " 1.1233658343840567e-10,\n",
       " 1.5036860427112191e-06,\n",
       " 1.1561613826802468e-06,\n",
       " 1.8677052690431328e-08,\n",
       " 9.437741370953989e-20,\n",
       " 4.558989740074034e-17,\n",
       " 4.173163659671337e-18,\n",
       " 2.36877964112558e-18,\n",
       " 9.576036987082806e-18,\n",
       " 9.437741370953989e-20,\n",
       " 2.889298122936302e-12,\n",
       " 6.183978834564658e-14,\n",
       " 6.200981612705512e-07,\n",
       " 2.221139726609667e-18,\n",
       " 2.5201572749963277e-18,\n",
       " 9.437741370953989e-20,\n",
       " 6.200981612705512e-07,\n",
       " 3.26967715148832e-05,\n",
       " 4.889305401392459e-07,\n",
       " 9.344298387083158e-22,\n",
       " 1.0278728225791473e-20,\n",
       " 9.344298387083158e-22,\n",
       " 5.507889253803054e-08,\n",
       " 1.8306584118053734e-08,\n",
       " 1.962302661287463e-20,\n",
       " 0.0071861902474410115,\n",
       " 2.935128222068007e-15,\n",
       " 1.7529847559307849e-06,\n",
       " 3.0961932022077964e-13,\n",
       " 9.437741370953989e-20,\n",
       " 3.0961932022077964e-13,\n",
       " 1.0372171209662303e-19,\n",
       " 9.582064059542487e-16,\n",
       " 1.8486616416502958e-09,\n",
       " 2.703358674966773e-11,\n",
       " 0.00012866354078044768,\n",
       " 1.1104773213584249e-05,\n",
       " 0.0014193557270792505,\n",
       " 2.655954937565287e-05,\n",
       " 3.079921995693921e-08,\n",
       " 1.3435182231099115e-10,\n",
       " 9.072270806110183e-07,\n",
       " 1.4689287882883731e-08,\n",
       " 9.437741370953989e-20,\n",
       " 9.344298387083158e-22,\n",
       " 8.949248376606412e-05,\n",
       " 4.558989740074034e-17,\n",
       " 1.2697355371885527e-07,\n",
       " 2.3703729654907597e-06,\n",
       " 9.344298387083158e-22,\n",
       " 1.3313958255194776e-05,\n",
       " 0.00031394570692898555,\n",
       " 4.964835627799548e-06,\n",
       " 7.038189136580887e-09,\n",
       " 9.34044086214196e-11,\n",
       " 3.0961932022077964e-13,\n",
       " 4.558989740074034e-17,\n",
       " 6.200981612705512e-07,\n",
       " 9.437741370953989e-20,\n",
       " 9.437741370953989e-20,\n",
       " 4.4324315606038995e-05,\n",
       " 4.5137685759010536e-10,\n",
       " 1.3291722381127303e-05,\n",
       " 1.8441734034762877e-12,\n",
       " 2.8147794888635266e-06,\n",
       " 6.81951496177226e-08,\n",
       " 1.718205643122927e-06,\n",
       " 4.5389261755381586e-05,\n",
       " 1.0372171209662303e-19,\n",
       " 9.437741370953989e-20,\n",
       " 9.344298387083158e-22,\n",
       " 7.407665264126855e-07,\n",
       " 9.344298387083158e-22,\n",
       " 0.18743968486534598,\n",
       " 0.0029654463545626055,\n",
       " 9.344298387083158e-22,\n",
       " 9.437741370953989e-20,\n",
       " 6.200981612705512e-07,\n",
       " 1.870047142157085e-08,\n",
       " 1.4214234294053227e-09,\n",
       " 4.558989740074034e-17,\n",
       " 1.4689287882883731e-08,\n",
       " 6.200981612705512e-07,\n",
       " 9.344298387083158e-22,\n",
       " 0.0029728668867733394,\n",
       " 9.543778600189836e-15,\n",
       " 9.437741370953989e-20,\n",
       " 6.200981612705605e-07,\n",
       " 6.200981612705512e-07,\n",
       " 5.158655817785572e-11,\n",
       " 1.4689287882883731e-08,\n",
       " 9.437741370953989e-20,\n",
       " 9.437741370953989e-20,\n",
       " 0.00016970764854406153,\n",
       " 0.00010020005463658987,\n",
       " 2.8695322929397153e-06,\n",
       " 2.8302285804345215e-06,\n",
       " 4.8895711315205375e-06,\n",
       " 9.848942373907147e-07,\n",
       " 1.412507164680874e-08,\n",
       " 6.183988178863045e-14,\n",
       " 2.545508301388978e-12,\n",
       " 2.3540062858456406e-11,\n",
       " 2.3540062858456406e-11,\n",
       " 2.3540062858456406e-11,\n",
       " 1.473572521253449e-09,\n",
       " 9.437741370953989e-20,\n",
       " 0.0001936197802462146,\n",
       " 9.347578633530563e-06,\n",
       " 6.200981612705512e-07,\n",
       " 6.20098161270925e-07,\n",
       " 1.5987545039924992e-08,\n",
       " 9.524104670341244e-07,\n",
       " 5.158655817785572e-11,\n",
       " 4.558989740074034e-17,\n",
       " 9.987943077635322e-11,\n",
       " 2.1982102448821563e-07,\n",
       " 2.199857648785423e-12,\n",
       " 3.723725979258997e-12,\n",
       " 3.723725979258997e-12,\n",
       " 3.723725979258997e-12,\n",
       " 2.1185525186470257e-10,\n",
       " 6.200984708898797e-07,\n",
       " 6.200981612705605e-07,\n",
       " 6.200981612705512e-07,\n",
       " 6.200981612705512e-07,\n",
       " 2.8987236513746795e-09,\n",
       " 4.8037505837898214e-08,\n",
       " 4.558989740074034e-17,\n",
       " 9.437741370953989e-20,\n",
       " 5.1896177497142075e-11,\n",
       " 6.183978834564658e-14,\n",
       " 6.200981612705512e-07,\n",
       " 7.577659571391975e-12,\n",
       " 1.322393539798537e-08,\n",
       " 7.693460871459016e-07,\n",
       " 1.9036263523902204e-10,\n",
       " 1.7307403726184216e-09,\n",
       " 1.0528475600284143e-08,\n",
       " 1.1913980443531026e-18,\n",
       " 7.245382083376418e-17,\n",
       " 7.88637291983506e-16,\n",
       " 1.0296157251769291e-06,\n",
       " 2.6564024757273432e-06,\n",
       " 2.6564024757273432e-06,\n",
       " 2.6564024757273432e-06,\n",
       " 0.0001737447401726485,\n",
       " 9.344298387083158e-22,\n",
       " 9.173067054930204e-11,\n",
       " 6.258089990698339e-09,\n",
       " 9.344298387083158e-22,\n",
       " 9.173067054930204e-11,\n",
       " 6.258089990698339e-09,\n",
       " 6.200981612705512e-07,\n",
       " 3.2908796264513755e-06,\n",
       " 1.642729411069656e-07,\n",
       " 7.823712703758453e-06,\n",
       " 9.344298387083158e-22,\n",
       " 7.088958528376647e-17,\n",
       " 7.88637291983506e-16,\n",
       " 2.5901577039243426e-05,\n",
       " 3.8643441950421165e-07,\n",
       " 2.9285031145118605e-18,\n",
       " 1.3121263795142166e-17,\n",
       " 2.473642665826962e-14,\n",
       " 7.105433186139212e-12,\n",
       " 7.105433186139212e-12,\n",
       " 7.105433186139212e-12,\n",
       " 7.105433186139212e-12,\n",
       " 4.079080374311061e-10,\n",
       " 3.1936247627318017e-09,\n",
       " 1.5361467020988462e-06,\n",
       " 7.507867665017919e-09,\n",
       " 9.437741370953989e-20,\n",
       " 4.558989740074034e-17,\n",
       " 7.261996245908745e-16,\n",
       " 1.450441458837184e-09,\n",
       " 1.450441458837184e-09,\n",
       " 1.450441458837184e-09,\n",
       " 1.450441458837184e-09,\n",
       " 9.548992792656385e-08,\n",
       " 0.0001928345470160021,\n",
       " 3.074953250284002e-06,\n",
       " 2.369201451257925e-11,\n",
       " 6.200981612705512e-07,\n",
       " 9.437741370953989e-20,\n",
       " 5.569201838701562e-19,\n",
       " 8.409868548374839e-19,\n",
       " 9.344298387083158e-22,\n",
       " 9.437741370953989e-20,\n",
       " 5.158655817785572e-11,\n",
       " 4.558989740074034e-17,\n",
       " 1.962302661287463e-20,\n",
       " 5.139331800311036e-13,\n",
       " 5.139331800311036e-13,\n",
       " 4.0669040204335016e-11,\n",
       " 9.344298387083158e-22,\n",
       " 1.0900217511515902e-16,\n",
       " 1.0900217511515902e-16,\n",
       " 2.3911769899292637e-15,\n",
       " 5.7795355272703706e-11,\n",
       " 8.57071512422713e-13,\n",
       " 2.3355423574017634e-10,\n",
       " 2.335623592498973e-10,\n",
       " 1.289942475389955e-08,\n",
       " 1.4159135016994302e-14,\n",
       " 7.278506807839771e-10,\n",
       " 4.53097550456911e-08,\n",
       " 5.963819418141975e-13,\n",
       " 1.4125181574374994e-14,\n",
       " 9.437741370953989e-20,\n",
       " 9.344298387083158e-22,\n",
       " 1.6856179860459225e-17,\n",
       " 4.272138468186977e-16,\n",
       " 1.811247528037229e-10,\n",
       " 1.53082440653832e-11,\n",
       " 7.826302077302137e-10,\n",
       " 9.344298387083158e-22,\n",
       " 1.962302661287463e-20,\n",
       " 9.344298387083158e-22,\n",
       " 1.2150580144527864e-10,\n",
       " 3.0961932022077964e-13,\n",
       " 9.344298387083158e-22,\n",
       " 1.8193348959650903e-18,\n",
       " 1.387628310481849e-18,\n",
       " 1.6593270337275073e-06,\n",
       " 2.643311249696379e-05,\n",
       " 1.0278728225791473e-20,\n",
       " 5.232807096766566e-20,\n",
       " 6.411988447537496e-09,\n",
       " 9.466355907760499e-11,\n",
       " 1.4689287882883731e-08,\n",
       " 9.344298387083158e-22,\n",
       " 0.006035364577779982,\n",
       " 9.344298387083158e-22,\n",
       " 9.344298387083158e-22,\n",
       " 6.21566125354374e-07,\n",
       " 0.00013278343156670992,\n",
       " 9.344298387083158e-22,\n",
       " 5.190012569669881e-06,\n",
       " 7.915851323806825e-08,\n",
       " 1.876792959280601e-06,\n",
       " 5.910582310962587e-06,\n",
       " 8.625240591090668e-08,\n",
       " 8.625244323038145e-08,\n",
       " 1.5865500522519364e-12,\n",
       " 5.9105823109625956e-06,\n",
       " 2.227691871136809e-10,\n",
       " 9.568561548373153e-19,\n",
       " 9.568561548373153e-19,\n",
       " 1.0301458183961147e-11,\n",
       " 9.344298387083158e-22,\n",
       " 5.158655817785572e-11,\n",
       " 3.8159560546169264e-07,\n",
       " 1.4005052155800659e-06,\n",
       " 8.850660458037287e-06,\n",
       " 5.358955124992193e-17,\n",
       " 9.344298387083158e-22,\n",
       " 0.007772371289254941,\n",
       " 8.513028707056826e-09,\n",
       " 2.654220954484792e-08,\n",
       " 2.569233929987146e-09,\n",
       " 9.344298387083158e-22,\n",
       " 9.344298387083158e-22,\n",
       " 1.9595139702575508e-05,\n",
       " 9.344298387083158e-22,\n",
       " 2.743147458734971e-08,\n",
       " 9.344298387083158e-22,\n",
       " 1.962302661287463e-20,\n",
       " 7.19237810985574e-07,\n",
       " 6.728048103954246e-08,\n",
       " 9.344298387083158e-22,\n",
       " 2.015565162093837e-18,\n",
       " 7.176834160123093e-05,\n",
       " 1.481335620638545e-06,\n",
       " 3.2086013086749357e-13,\n",
       " 3.5872940447202397e-09,\n",
       " 7.568881693537347e-20,\n",
       " 9.344298387083158e-22,\n",
       " 0.004688344028762997,\n",
       " 9.344298387083158e-22,\n",
       " 9.344298387083158e-22,\n",
       " 5.0414855589366175e-08,\n",
       " 9.344298387083158e-22,\n",
       " 4.655634671885374e-08,\n",
       " 1.1433525900881226e-08,\n",
       " 1.0288144272223666e-09,\n",
       " 5.625594261494573e-06,\n",
       " 1.437136147921658e-06,\n",
       " 1.588817914404934e-12,\n",
       " 2.7864241566989023e-08,\n",
       " 9.094032456753527e-08,\n",
       " 1.962302661287463e-20,\n",
       " 2.7864241566989023e-08,\n",
       " 9.344298387083158e-22,\n",
       " 1.003477432446744e-06,\n",
       " 2.7872417619402716e-08,\n",
       " 1.0278728225791473e-20,\n",
       " 2.7431474587359054e-08,\n",
       " 9.867269855990817e-06,\n",
       " 9.344298387083158e-22,\n",
       " 9.344298387083158e-22,\n",
       " 1.962302661287463e-20,\n",
       " 9.344298387083158e-22,\n",
       " 1.85697770586684e-12,\n",
       " 9.344298387083158e-22,\n",
       " 9.344298387083158e-22,\n",
       " 2.92026144307598e-08,\n",
       " 9.344298387083158e-22,\n",
       " 1.0372171209662303e-19,\n",
       " 1.4005052155800659e-06,\n",
       " 9.437741370953989e-20,\n",
       " 9.344298387083158e-22,\n",
       " 1.5898688603112371e-09,\n",
       " 9.344298387083158e-22,\n",
       " 9.344298387083158e-22,\n",
       " 9.437741370953989e-20,\n",
       " 1.1089906768774034e-16,\n",
       " 1.962302661287463e-20,\n",
       " 8.848889583885166e-06,\n",
       " 8.722965393767328e-06,\n",
       " 1.4118214063282374e-09,\n",
       " 0.003485113176934044,\n",
       " 2.8967324999957786e-20,\n",
       " 9.344298387083158e-22,\n",
       " 9.344298387083158e-22,\n",
       " 9.344298387083158e-22,\n",
       " 3.7591529671684e-07,\n",
       " 1.962302661287463e-20,\n",
       " 2.8967324999957786e-20,\n",
       " 1.962302661287463e-20,\n",
       " 2.830491890768715e-08,\n",
       " 4.662913359312691e-10,\n",
       " 3.815057782136395e-07,\n",
       " 9.344298387083158e-22,\n",
       " 1.4005052155800659e-06,\n",
       " 9.344298387083158e-22,\n",
       " 3.759152967168025e-07,\n",
       " 9.344298387083158e-22,\n",
       " 1.5865500522519364e-12,\n",
       " 7.463895043767424e-14,\n",
       " 1.5865500522519364e-12,\n",
       " 1.962302661287463e-20,\n",
       " 3.196775605018976e-06,\n",
       " 3.870962597104672e-07,\n",
       " 2.7880327980442844e-08,\n",
       " 9.344298387083158e-22,\n",
       " 1.962302661287463e-20,\n",
       " 9.344298387083158e-22,\n",
       " 4.339638496786831e-10,\n",
       " 6.348017490027181e-12,\n",
       " 2.1194208148919866e-06,\n",
       " 9.344298387083158e-22,\n",
       " 2.037512550370046e-09,\n",
       " 4.406773407177507e-10,\n",
       " 9.344298387083158e-22,\n",
       " 4.282068719212617e-11,\n",
       " 1.8191411796235365e-10,\n",
       " 9.90709156608808e-09,\n",
       " 9.437741370953989e-20,\n",
       " 1.2241030887078933e-19,\n",
       " 4.0273926048328397e-19,\n",
       " 9.344298387083158e-22,\n",
       " 2.3383302052900187e-09,\n",
       " 9.344298387083158e-22,\n",
       " 2.726485511186727e-11,\n",
       " 9.344298387083158e-22,\n",
       " 7.652435029083054e-09,\n",
       " 1.6439485095550144e-07,\n",
       " 1.36018518156478e-06,\n",
       " 2.2290887924623843e-08,\n",
       " 2.566852740075656e-07,\n",
       " 0.00017694534929538273,\n",
       " 1.0091842258049808e-18,\n",
       " 1.4689287882883731e-08,\n",
       " 0.0002487074279505398,\n",
       " 3.944433420477325e-06,\n",
       " 6.200981612705512e-07,\n",
       " 9.344298387083158e-22,\n",
       " 1.0278728225791473e-20,\n",
       " 4.339638496786831e-10,\n",
       " 6.348017490027181e-12,\n",
       " 5.786654763194233e-12,\n",
       " 1.1020745534913819e-10,\n",
       " 9.344298387083158e-22,\n",
       " 1.353429193337297e-06,\n",
       " 4.558989740074034e-17,\n",
       " 5.158655817785572e-11,\n",
       " 7.50847681138375e-08,\n",
       " 1.8772506493224788e-06,\n",
       " 2.270482048634591e-06,\n",
       " 0.00715858898315351,\n",
       " 1.962302661287463e-20,\n",
       " 8.700877888863763e-05,\n",
       " 8.700877888863763e-05,\n",
       " 2.3164865279158137e-08,\n",
       " 9.344298387083158e-22,\n",
       " 2.943917140716949e-06,\n",
       " 6.529581382750696e-07,\n",
       " 1.895222653012885e-14,\n",
       " 9.344298387083158e-22,\n",
       " 6.246413885553739e-14,\n",
       " 0.0029664706699776703,\n",
       " 5.666382541927226e-18,\n",
       " 1.0278728225791473e-20,\n",
       " 3.279848733866188e-19,\n",
       " 2.9418741514025744e-14,\n",
       " 9.344298387083158e-22,\n",
       " 3.648014090317264e-18,\n",
       " 1.0278728225791473e-20,\n",
       " 2.095890626908229e-08,\n",
       " 0.0029654463545626055,\n",
       " 9.344298387083158e-22,\n",
       " 5.963819418141975e-13,\n",
       " 1.5630925367695034e-09,\n",
       " 2.5310287202570777e-07,\n",
       " 2.0862006916373023e-07,\n",
       " 9.344298387083158e-22,\n",
       " 3.532659585509857e-08,\n",
       " 2.138701139554554e-06,\n",
       " 0.0008534003532859935,\n",
       " 1.2853675974848628e-05,\n",
       " 9.344298387083158e-22,\n",
       " 6.319589745379628e-08,\n",
       " 1.5641755980873133e-09,\n",
       " 2.900338347537343e-08,\n",
       " 8.753963405214676e-09,\n",
       " 4.479903950721188e-08,\n",
       " 3.3316570117150754e-10,\n",
       " 1.5972527714760313e-12,\n",
       " 2.4522964221071006e-11,\n",
       " 1.962302661287463e-20,\n",
       " 1.2161104682185796e-11,\n",
       " 1.5133091237881177e-17,\n",
       " 2.2588678996342993e-08,\n",
       " 7.084209617883376e-10,\n",
       " 9.346366902645629e-10,\n",
       " 3.309074489407278e-10,\n",
       " 1.3202559191109792e-17,\n",
       " 1.0025179874353964e-05,\n",
       " 1.0002136993533811e-17,\n",
       " 1.962302661287463e-20,\n",
       " 5.7978547949612426e-08,\n",
       " 3.369063444393328e-09,\n",
       " 7.979762641204311e-15,\n",
       " 7.33650018639496e-07,\n",
       " 7.097090871262065e-15,\n",
       " ...]"
      ]
     },
     "execution_count": 84,
     "metadata": {},
     "output_type": "execute_result"
    }
   ],
   "source": [
    "eigen_centrality"
   ]
  },
  {
   "cell_type": "markdown",
   "id": "7352278c",
   "metadata": {},
   "source": [
    "PageRank’s main difference from EigenCentrality is that it accounts for link direction. Each node in a network is assigned a score based on its number of incoming links (its ‘indegree’). These links are also weighted depending on the relative score of its originating node."
   ]
  },
  {
   "cell_type": "code",
   "execution_count": 83,
   "id": "ba771bdb",
   "metadata": {
    "ExecuteTime": {
     "end_time": "2022-05-17T20:57:50.271097Z",
     "start_time": "2022-05-17T20:57:50.269463Z"
    }
   },
   "outputs": [],
   "source": [
    "# PageRank\n",
    "# standard level of alpha is between 0.8/0.9\n",
    "\n",
    "#pagerank = nx.pagerank(G_full, alpha = 0.85) #AttributeError: module 'scipy.sparse' has no attribute 'coo_array'\n",
    "#pagerank = nx.pagerank_scipy(G_full, alpha = 0.85) #AttributeError: module 'scipy.sparse' has no attribute 'coo_array'\n",
    "#pagerank = nx.pagerank_numpy(G_full, alpha = 0.85) #Created Numpy Array \n",
    "#pagerank = [pagerank[node] for node in pagerank]"
   ]
  },
  {
   "cell_type": "code",
   "execution_count": 33,
   "id": "c949e308",
   "metadata": {
    "ExecuteTime": {
     "end_time": "2022-05-17T18:59:07.955158Z",
     "start_time": "2022-05-17T18:59:07.732078Z"
    }
   },
   "outputs": [],
   "source": [
    "# Add results to node_properties DataFrame\n",
    "node_properties['eigen_centrality'] = eigen_centrality\n",
    "#node_properties['pagerank'] = pagerank"
   ]
  },
  {
   "cell_type": "markdown",
   "id": "03685f08",
   "metadata": {},
   "source": [
    "It would be insightful to also add Closeness and Betweenness centrality measures. However, these calculations are based on the calculation of the number of shortest paths that pass through each nodes. This is too computationally intensive with the given size of the network (created computer crashes)."
   ]
  },
  {
   "cell_type": "markdown",
   "id": "82290b8b",
   "metadata": {},
   "source": [
    "#### Summary of Node Properties"
   ]
  },
  {
   "cell_type": "code",
   "execution_count": 34,
   "id": "ec641014",
   "metadata": {
    "ExecuteTime": {
     "end_time": "2022-05-17T19:10:18.167986Z",
     "start_time": "2022-05-17T18:59:07.956191Z"
    }
   },
   "outputs": [
    {
     "data": {
      "text/html": [
       "<div>\n",
       "<style scoped>\n",
       "    .dataframe tbody tr th:only-of-type {\n",
       "        vertical-align: middle;\n",
       "    }\n",
       "\n",
       "    .dataframe tbody tr th {\n",
       "        vertical-align: top;\n",
       "    }\n",
       "\n",
       "    .dataframe thead th {\n",
       "        text-align: right;\n",
       "    }\n",
       "</style>\n",
       "<table border=\"1\" class=\"dataframe\">\n",
       "  <thead>\n",
       "    <tr style=\"text-align: right;\">\n",
       "      <th></th>\n",
       "      <th>address</th>\n",
       "      <th>degree</th>\n",
       "      <th>in_degree</th>\n",
       "      <th>out_degree</th>\n",
       "      <th>eigen_centrality</th>\n",
       "      <th>fraud_flag</th>\n",
       "    </tr>\n",
       "  </thead>\n",
       "  <tbody>\n",
       "    <tr>\n",
       "      <th>0</th>\n",
       "      <td>16FPyvvz5Ug3cx97qH67KfgC6PY1S9fskQ</td>\n",
       "      <td>3</td>\n",
       "      <td>2</td>\n",
       "      <td>1</td>\n",
       "      <td>2.178099e-12</td>\n",
       "      <td>1</td>\n",
       "    </tr>\n",
       "    <tr>\n",
       "      <th>1</th>\n",
       "      <td>13Uf71d8y94xEk2LX7GCtaBJmPiahhA7TR</td>\n",
       "      <td>1</td>\n",
       "      <td>1</td>\n",
       "      <td>0</td>\n",
       "      <td>5.112703e-14</td>\n",
       "      <td>0</td>\n",
       "    </tr>\n",
       "    <tr>\n",
       "      <th>2</th>\n",
       "      <td>1ASaHGPN8qRuqZkpnR7d2tcndU9uHL6aGj</td>\n",
       "      <td>5</td>\n",
       "      <td>2</td>\n",
       "      <td>3</td>\n",
       "      <td>3.428049e-09</td>\n",
       "      <td>1</td>\n",
       "    </tr>\n",
       "    <tr>\n",
       "      <th>3</th>\n",
       "      <td>166zajP74bcRVo7BmdeDME3mRX3Mi9e3xn</td>\n",
       "      <td>2</td>\n",
       "      <td>2</td>\n",
       "      <td>0</td>\n",
       "      <td>7.480086e-07</td>\n",
       "      <td>0</td>\n",
       "    </tr>\n",
       "    <tr>\n",
       "      <th>4</th>\n",
       "      <td>1LU3DtRE3XK32WxFqrnaT9k99nRgwHtLHd</td>\n",
       "      <td>2</td>\n",
       "      <td>2</td>\n",
       "      <td>0</td>\n",
       "      <td>7.480086e-07</td>\n",
       "      <td>0</td>\n",
       "    </tr>\n",
       "  </tbody>\n",
       "</table>\n",
       "</div>"
      ],
      "text/plain": [
       "                              address  degree  in_degree  out_degree  \\\n",
       "0  16FPyvvz5Ug3cx97qH67KfgC6PY1S9fskQ       3          2           1   \n",
       "1  13Uf71d8y94xEk2LX7GCtaBJmPiahhA7TR       1          1           0   \n",
       "2  1ASaHGPN8qRuqZkpnR7d2tcndU9uHL6aGj       5          2           3   \n",
       "3  166zajP74bcRVo7BmdeDME3mRX3Mi9e3xn       2          2           0   \n",
       "4  1LU3DtRE3XK32WxFqrnaT9k99nRgwHtLHd       2          2           0   \n",
       "\n",
       "   eigen_centrality  fraud_flag  \n",
       "0      2.178099e-12           1  \n",
       "1      5.112703e-14           0  \n",
       "2      3.428049e-09           1  \n",
       "3      7.480086e-07           0  \n",
       "4      7.480086e-07           0  "
      ]
     },
     "execution_count": 34,
     "metadata": {},
     "output_type": "execute_result"
    }
   ],
   "source": [
    "# Add flag\n",
    "to_flag = set(input_fraud['input_address'].tolist() + output_fraud['output_address'].tolist())\n",
    "node_properties = node_properties.assign(**dict.fromkeys(['fraud_flag'], 0))\n",
    "\n",
    "for i in to_flag:\n",
    "    node_properties.loc[node_properties.address == i, 'fraud_flag'] = 1\n",
    "    \n",
    "node_properties.head()"
   ]
  },
  {
   "cell_type": "code",
   "execution_count": 35,
   "id": "356f1a98",
   "metadata": {
    "ExecuteTime": {
     "end_time": "2022-05-17T19:10:18.711340Z",
     "start_time": "2022-05-17T19:10:18.170100Z"
    }
   },
   "outputs": [
    {
     "data": {
      "text/html": [
       "<div>\n",
       "<style scoped>\n",
       "    .dataframe tbody tr th:only-of-type {\n",
       "        vertical-align: middle;\n",
       "    }\n",
       "\n",
       "    .dataframe tbody tr th {\n",
       "        vertical-align: top;\n",
       "    }\n",
       "\n",
       "    .dataframe thead th {\n",
       "        text-align: right;\n",
       "    }\n",
       "</style>\n",
       "<table border=\"1\" class=\"dataframe\">\n",
       "  <thead>\n",
       "    <tr style=\"text-align: right;\">\n",
       "      <th></th>\n",
       "      <th>degree</th>\n",
       "      <th>in_degree</th>\n",
       "      <th>out_degree</th>\n",
       "      <th>eigen_centrality</th>\n",
       "    </tr>\n",
       "  </thead>\n",
       "  <tbody>\n",
       "    <tr>\n",
       "      <th>count</th>\n",
       "      <td>4.667173e+06</td>\n",
       "      <td>4.667173e+06</td>\n",
       "      <td>4.667173e+06</td>\n",
       "      <td>4.667173e+06</td>\n",
       "    </tr>\n",
       "    <tr>\n",
       "      <th>mean</th>\n",
       "      <td>4.518916e+00</td>\n",
       "      <td>2.259458e+00</td>\n",
       "      <td>2.259458e+00</td>\n",
       "      <td>3.304724e-05</td>\n",
       "    </tr>\n",
       "    <tr>\n",
       "      <th>std</th>\n",
       "      <td>3.936702e+01</td>\n",
       "      <td>2.868514e+01</td>\n",
       "      <td>1.998728e+01</td>\n",
       "      <td>4.617038e-04</td>\n",
       "    </tr>\n",
       "    <tr>\n",
       "      <th>min</th>\n",
       "      <td>1.000000e+00</td>\n",
       "      <td>0.000000e+00</td>\n",
       "      <td>0.000000e+00</td>\n",
       "      <td>9.344298e-22</td>\n",
       "    </tr>\n",
       "    <tr>\n",
       "      <th>25%</th>\n",
       "      <td>1.000000e+00</td>\n",
       "      <td>0.000000e+00</td>\n",
       "      <td>0.000000e+00</td>\n",
       "      <td>9.344298e-22</td>\n",
       "    </tr>\n",
       "    <tr>\n",
       "      <th>50%</th>\n",
       "      <td>2.000000e+00</td>\n",
       "      <td>1.000000e+00</td>\n",
       "      <td>1.000000e+00</td>\n",
       "      <td>1.962303e-20</td>\n",
       "    </tr>\n",
       "    <tr>\n",
       "      <th>75%</th>\n",
       "      <td>3.000000e+00</td>\n",
       "      <td>2.000000e+00</td>\n",
       "      <td>1.000000e+00</td>\n",
       "      <td>1.818528e-11</td>\n",
       "    </tr>\n",
       "    <tr>\n",
       "      <th>max</th>\n",
       "      <td>2.791900e+04</td>\n",
       "      <td>2.533600e+04</td>\n",
       "      <td>1.211600e+04</td>\n",
       "      <td>1.928926e-01</td>\n",
       "    </tr>\n",
       "  </tbody>\n",
       "</table>\n",
       "</div>"
      ],
      "text/plain": [
       "             degree     in_degree    out_degree  eigen_centrality\n",
       "count  4.667173e+06  4.667173e+06  4.667173e+06      4.667173e+06\n",
       "mean   4.518916e+00  2.259458e+00  2.259458e+00      3.304724e-05\n",
       "std    3.936702e+01  2.868514e+01  1.998728e+01      4.617038e-04\n",
       "min    1.000000e+00  0.000000e+00  0.000000e+00      9.344298e-22\n",
       "25%    1.000000e+00  0.000000e+00  0.000000e+00      9.344298e-22\n",
       "50%    2.000000e+00  1.000000e+00  1.000000e+00      1.962303e-20\n",
       "75%    3.000000e+00  2.000000e+00  1.000000e+00      1.818528e-11\n",
       "max    2.791900e+04  2.533600e+04  1.211600e+04      1.928926e-01"
      ]
     },
     "execution_count": 35,
     "metadata": {},
     "output_type": "execute_result"
    }
   ],
   "source": [
    "# Describe properties overall\n",
    "\n",
    "node_properties[['degree', 'in_degree', 'out_degree', 'eigen_centrality']].describe()"
   ]
  },
  {
   "cell_type": "code",
   "execution_count": 36,
   "id": "1ff6b9be",
   "metadata": {
    "ExecuteTime": {
     "end_time": "2022-05-17T19:10:18.723458Z",
     "start_time": "2022-05-17T19:10:18.712126Z"
    }
   },
   "outputs": [
    {
     "data": {
      "text/html": [
       "<div>\n",
       "<style scoped>\n",
       "    .dataframe tbody tr th:only-of-type {\n",
       "        vertical-align: middle;\n",
       "    }\n",
       "\n",
       "    .dataframe tbody tr th {\n",
       "        vertical-align: top;\n",
       "    }\n",
       "\n",
       "    .dataframe thead th {\n",
       "        text-align: right;\n",
       "    }\n",
       "</style>\n",
       "<table border=\"1\" class=\"dataframe\">\n",
       "  <thead>\n",
       "    <tr style=\"text-align: right;\">\n",
       "      <th></th>\n",
       "      <th>degree</th>\n",
       "      <th>in_degree</th>\n",
       "      <th>out_degree</th>\n",
       "      <th>eigen_centrality</th>\n",
       "    </tr>\n",
       "  </thead>\n",
       "  <tbody>\n",
       "    <tr>\n",
       "      <th>count</th>\n",
       "      <td>4604.000000</td>\n",
       "      <td>4604.000000</td>\n",
       "      <td>4604.000000</td>\n",
       "      <td>4.604000e+03</td>\n",
       "    </tr>\n",
       "    <tr>\n",
       "      <th>mean</th>\n",
       "      <td>103.652476</td>\n",
       "      <td>58.354909</td>\n",
       "      <td>45.297567</td>\n",
       "      <td>7.508394e-04</td>\n",
       "    </tr>\n",
       "    <tr>\n",
       "      <th>std</th>\n",
       "      <td>965.689619</td>\n",
       "      <td>709.624568</td>\n",
       "      <td>385.821550</td>\n",
       "      <td>5.882296e-03</td>\n",
       "    </tr>\n",
       "    <tr>\n",
       "      <th>min</th>\n",
       "      <td>1.000000</td>\n",
       "      <td>0.000000</td>\n",
       "      <td>0.000000</td>\n",
       "      <td>9.344298e-22</td>\n",
       "    </tr>\n",
       "    <tr>\n",
       "      <th>25%</th>\n",
       "      <td>3.000000</td>\n",
       "      <td>1.000000</td>\n",
       "      <td>1.000000</td>\n",
       "      <td>2.158533e-19</td>\n",
       "    </tr>\n",
       "    <tr>\n",
       "      <th>50%</th>\n",
       "      <td>4.000000</td>\n",
       "      <td>2.000000</td>\n",
       "      <td>1.000000</td>\n",
       "      <td>5.809492e-10</td>\n",
       "    </tr>\n",
       "    <tr>\n",
       "      <th>75%</th>\n",
       "      <td>13.000000</td>\n",
       "      <td>5.000000</td>\n",
       "      <td>6.000000</td>\n",
       "      <td>1.423723e-06</td>\n",
       "    </tr>\n",
       "    <tr>\n",
       "      <th>max</th>\n",
       "      <td>27919.000000</td>\n",
       "      <td>25336.000000</td>\n",
       "      <td>11178.000000</td>\n",
       "      <td>1.928926e-01</td>\n",
       "    </tr>\n",
       "  </tbody>\n",
       "</table>\n",
       "</div>"
      ],
      "text/plain": [
       "             degree     in_degree    out_degree  eigen_centrality\n",
       "count   4604.000000   4604.000000   4604.000000      4.604000e+03\n",
       "mean     103.652476     58.354909     45.297567      7.508394e-04\n",
       "std      965.689619    709.624568    385.821550      5.882296e-03\n",
       "min        1.000000      0.000000      0.000000      9.344298e-22\n",
       "25%        3.000000      1.000000      1.000000      2.158533e-19\n",
       "50%        4.000000      2.000000      1.000000      5.809492e-10\n",
       "75%       13.000000      5.000000      6.000000      1.423723e-06\n",
       "max    27919.000000  25336.000000  11178.000000      1.928926e-01"
      ]
     },
     "execution_count": 36,
     "metadata": {},
     "output_type": "execute_result"
    }
   ],
   "source": [
    "# Describe Properties of Fraudulent Nodes\n",
    "\n",
    "node_properties_fraud = node_properties[node_properties['fraud_flag'] == 1]\n",
    "\n",
    "node_properties_fraud[['degree', 'in_degree', 'out_degree', 'eigen_centrality']].describe()"
   ]
  },
  {
   "cell_type": "code",
   "execution_count": 37,
   "id": "ef6c78a0",
   "metadata": {
    "ExecuteTime": {
     "end_time": "2022-05-17T19:10:19.210626Z",
     "start_time": "2022-05-17T19:10:18.724269Z"
    }
   },
   "outputs": [
    {
     "data": {
      "text/html": [
       "<div>\n",
       "<style scoped>\n",
       "    .dataframe tbody tr th:only-of-type {\n",
       "        vertical-align: middle;\n",
       "    }\n",
       "\n",
       "    .dataframe tbody tr th {\n",
       "        vertical-align: top;\n",
       "    }\n",
       "\n",
       "    .dataframe thead th {\n",
       "        text-align: right;\n",
       "    }\n",
       "</style>\n",
       "<table border=\"1\" class=\"dataframe\">\n",
       "  <thead>\n",
       "    <tr style=\"text-align: right;\">\n",
       "      <th></th>\n",
       "      <th>degree</th>\n",
       "      <th>in_degree</th>\n",
       "      <th>out_degree</th>\n",
       "      <th>eigen_centrality</th>\n",
       "    </tr>\n",
       "  </thead>\n",
       "  <tbody>\n",
       "    <tr>\n",
       "      <th>count</th>\n",
       "      <td>4.662569e+06</td>\n",
       "      <td>4.662569e+06</td>\n",
       "      <td>4.662569e+06</td>\n",
       "      <td>4.662569e+06</td>\n",
       "    </tr>\n",
       "    <tr>\n",
       "      <th>mean</th>\n",
       "      <td>4.421028e+00</td>\n",
       "      <td>2.204067e+00</td>\n",
       "      <td>2.216961e+00</td>\n",
       "      <td>3.233847e-05</td>\n",
       "    </tr>\n",
       "    <tr>\n",
       "      <th>std</th>\n",
       "      <td>2.491860e+01</td>\n",
       "      <td>1.798349e+01</td>\n",
       "      <td>1.584609e+01</td>\n",
       "      <td>4.227438e-04</td>\n",
       "    </tr>\n",
       "    <tr>\n",
       "      <th>min</th>\n",
       "      <td>1.000000e+00</td>\n",
       "      <td>0.000000e+00</td>\n",
       "      <td>0.000000e+00</td>\n",
       "      <td>9.344298e-22</td>\n",
       "    </tr>\n",
       "    <tr>\n",
       "      <th>25%</th>\n",
       "      <td>1.000000e+00</td>\n",
       "      <td>0.000000e+00</td>\n",
       "      <td>0.000000e+00</td>\n",
       "      <td>9.344298e-22</td>\n",
       "    </tr>\n",
       "    <tr>\n",
       "      <th>50%</th>\n",
       "      <td>2.000000e+00</td>\n",
       "      <td>1.000000e+00</td>\n",
       "      <td>1.000000e+00</td>\n",
       "      <td>1.962303e-20</td>\n",
       "    </tr>\n",
       "    <tr>\n",
       "      <th>75%</th>\n",
       "      <td>3.000000e+00</td>\n",
       "      <td>2.000000e+00</td>\n",
       "      <td>1.000000e+00</td>\n",
       "      <td>1.779162e-11</td>\n",
       "    </tr>\n",
       "    <tr>\n",
       "      <th>max</th>\n",
       "      <td>1.564500e+04</td>\n",
       "      <td>1.564200e+04</td>\n",
       "      <td>1.211600e+04</td>\n",
       "      <td>6.334031e-02</td>\n",
       "    </tr>\n",
       "  </tbody>\n",
       "</table>\n",
       "</div>"
      ],
      "text/plain": [
       "             degree     in_degree    out_degree  eigen_centrality\n",
       "count  4.662569e+06  4.662569e+06  4.662569e+06      4.662569e+06\n",
       "mean   4.421028e+00  2.204067e+00  2.216961e+00      3.233847e-05\n",
       "std    2.491860e+01  1.798349e+01  1.584609e+01      4.227438e-04\n",
       "min    1.000000e+00  0.000000e+00  0.000000e+00      9.344298e-22\n",
       "25%    1.000000e+00  0.000000e+00  0.000000e+00      9.344298e-22\n",
       "50%    2.000000e+00  1.000000e+00  1.000000e+00      1.962303e-20\n",
       "75%    3.000000e+00  2.000000e+00  1.000000e+00      1.779162e-11\n",
       "max    1.564500e+04  1.564200e+04  1.211600e+04      6.334031e-02"
      ]
     },
     "execution_count": 37,
     "metadata": {},
     "output_type": "execute_result"
    }
   ],
   "source": [
    "# Describe Properties of Non-Fraudulent Nodes\n",
    "\n",
    "node_properties_licit = node_properties[node_properties['fraud_flag'] == 0]\n",
    "\n",
    "node_properties_licit[['degree', 'in_degree', 'out_degree', 'eigen_centrality']].describe()"
   ]
  },
  {
   "cell_type": "code",
   "execution_count": 38,
   "id": "57203eee",
   "metadata": {
    "ExecuteTime": {
     "end_time": "2022-05-17T19:10:28.167692Z",
     "start_time": "2022-05-17T19:10:19.211372Z"
    }
   },
   "outputs": [],
   "source": [
    "node_properties.to_csv(\"node_properties.csv\", index = False)"
   ]
  },
  {
   "cell_type": "markdown",
   "id": "c5bbcb2f",
   "metadata": {},
   "source": [
    "DataFrame uploaded to Google Drive Folder"
   ]
  },
  {
   "cell_type": "markdown",
   "id": "2d02a9b7",
   "metadata": {},
   "source": [
    "### Graph Attributes"
   ]
  },
  {
   "cell_type": "markdown",
   "id": "d2646f17",
   "metadata": {},
   "source": [
    "#### Density"
   ]
  },
  {
   "cell_type": "code",
   "execution_count": 39,
   "id": "c41f75c7",
   "metadata": {
    "ExecuteTime": {
     "end_time": "2022-05-17T19:10:32.922984Z",
     "start_time": "2022-05-17T19:10:28.168553Z"
    }
   },
   "outputs": [
    {
     "data": {
      "text/plain": [
       "4.841171772770945e-07"
      ]
     },
     "execution_count": 39,
     "metadata": {},
     "output_type": "execute_result"
    }
   ],
   "source": [
    "# Full Network\n",
    "nx.density(G_full)"
   ]
  },
  {
   "cell_type": "code",
   "execution_count": 40,
   "id": "2ca0aef9",
   "metadata": {
    "ExecuteTime": {
     "end_time": "2022-05-17T19:10:32.942211Z",
     "start_time": "2022-05-17T19:10:32.924709Z"
    }
   },
   "outputs": [
    {
     "data": {
      "text/plain": [
       "0.0001340944237556231"
      ]
     },
     "execution_count": 40,
     "metadata": {},
     "output_type": "execute_result"
    }
   ],
   "source": [
    "# Fraudulent input addresses\n",
    "nx.density(G_infraud)"
   ]
  },
  {
   "cell_type": "code",
   "execution_count": 41,
   "id": "7507fbab",
   "metadata": {
    "ExecuteTime": {
     "end_time": "2022-05-17T19:10:33.132068Z",
     "start_time": "2022-05-17T19:10:32.943078Z"
    }
   },
   "outputs": [
    {
     "data": {
      "text/plain": [
       "8.113047677155055e-06"
      ]
     },
     "execution_count": 41,
     "metadata": {},
     "output_type": "execute_result"
    }
   ],
   "source": [
    "# Fraudulent output addresses\n",
    "nx.density(G_outfraud)"
   ]
  },
  {
   "cell_type": "markdown",
   "id": "c4d92eeb",
   "metadata": {},
   "source": [
    "All density figures are close to zero, indicating that a very low portion of potential connections/transactions occur."
   ]
  },
  {
   "cell_type": "markdown",
   "id": "370fb0f0",
   "metadata": {},
   "source": [
    "####  Network Diameter"
   ]
  },
  {
   "cell_type": "code",
   "execution_count": 42,
   "id": "93491309",
   "metadata": {
    "ExecuteTime": {
     "end_time": "2022-05-17T19:10:33.134655Z",
     "start_time": "2022-05-17T19:10:33.132967Z"
    }
   },
   "outputs": [],
   "source": [
    "# Obtain Longest Shortest Path - Network Diameter\n",
    "\n",
    "#for i in progressbar(range(100)):\n",
    "#    nx.diameter(G_full.to_undirected()) -> Too Computationally intensive"
   ]
  },
  {
   "cell_type": "markdown",
   "id": "a8a0611b",
   "metadata": {},
   "source": [
    "## Step 5. Other graph properties"
   ]
  },
  {
   "cell_type": "markdown",
   "id": "ee8ab195",
   "metadata": {},
   "source": [
    "### NetworkX library"
   ]
  },
  {
   "cell_type": "code",
   "execution_count": 57,
   "id": "bd9a4d87",
   "metadata": {
    "ExecuteTime": {
     "end_time": "2022-05-17T19:20:41.674801Z",
     "start_time": "2022-05-17T19:20:23.934658Z"
    }
   },
   "outputs": [],
   "source": [
    "# Build the graphs\n",
    "graph_nx = nx.from_pandas_edgelist(trans_3w, source = 'input_address', target = 'output_address', \n",
    "                                   create_using = nx.Graph())"
   ]
  },
  {
   "cell_type": "code",
   "execution_count": 58,
   "id": "961757c8",
   "metadata": {
    "ExecuteTime": {
     "end_time": "2022-05-17T19:20:47.834521Z",
     "start_time": "2022-05-17T19:20:41.677046Z"
    }
   },
   "outputs": [],
   "source": [
    "# Create a mask with only the first records\n",
    "mask = ~trans_3w[['input_address', 'output_address']].duplicated()\n",
    "\n",
    "# Get a list of nodes with attributed\n",
    "nodes = trans_3w[mask][['input_address', 'output_address', 'input_flag', 'output_flag']]"
   ]
  },
  {
   "cell_type": "code",
   "execution_count": 59,
   "id": "3d4e05e3",
   "metadata": {
    "ExecuteTime": {
     "end_time": "2022-05-17T19:21:02.435993Z",
     "start_time": "2022-05-17T19:20:47.835895Z"
    }
   },
   "outputs": [],
   "source": [
    "# Add the attributes one at a time\n",
    "in_dict = nodes.set_index('input_address')['input_flag'].to_dict()\n",
    "nx.set_node_attributes(graph_nx, in_dict, 'input_flag')\n",
    "\n",
    "out_dict = nodes.set_index('output_address')['output_flag'].to_dict()\n",
    "nx.set_node_attributes(graph_nx, out_dict, 'output_flag')"
   ]
  },
  {
   "cell_type": "code",
   "execution_count": 60,
   "id": "2768602b",
   "metadata": {
    "ExecuteTime": {
     "end_time": "2022-05-17T19:21:02.637802Z",
     "start_time": "2022-05-17T19:21:02.448810Z"
    }
   },
   "outputs": [
    {
     "data": {
      "text/html": [
       "<div>\n",
       "<style scoped>\n",
       "    .dataframe tbody tr th:only-of-type {\n",
       "        vertical-align: middle;\n",
       "    }\n",
       "\n",
       "    .dataframe tbody tr th {\n",
       "        vertical-align: top;\n",
       "    }\n",
       "\n",
       "    .dataframe thead th {\n",
       "        text-align: right;\n",
       "    }\n",
       "</style>\n",
       "<table border=\"1\" class=\"dataframe\">\n",
       "  <thead>\n",
       "    <tr style=\"text-align: right;\">\n",
       "      <th></th>\n",
       "      <th>txn_hash</th>\n",
       "      <th>input_address</th>\n",
       "      <th>output_address</th>\n",
       "      <th>ammount</th>\n",
       "      <th>fees</th>\n",
       "      <th>block_index</th>\n",
       "      <th>block_time</th>\n",
       "      <th>input_flag</th>\n",
       "      <th>output_flag</th>\n",
       "      <th>month</th>\n",
       "      <th>day</th>\n",
       "    </tr>\n",
       "  </thead>\n",
       "  <tbody>\n",
       "    <tr>\n",
       "      <th>74</th>\n",
       "      <td>4501f4acfe0e57de30aa0fb05310095dbac71aab009129...</td>\n",
       "      <td>1PhmMsdwamJA6soKw5mNMXxzGomHEHWY5P</td>\n",
       "      <td>1BjmDut3JhzbQ1ik9gzm9uzTQNZ9veNFUD</td>\n",
       "      <td>1.500000e+05</td>\n",
       "      <td>23.226948</td>\n",
       "      <td>453318</td>\n",
       "      <td>2017-02-16 12:05:04</td>\n",
       "      <td>1</td>\n",
       "      <td>1</td>\n",
       "      <td>2</td>\n",
       "      <td>16</td>\n",
       "    </tr>\n",
       "    <tr>\n",
       "      <th>75</th>\n",
       "      <td>4501f4acfe0e57de30aa0fb05310095dbac71aab009129...</td>\n",
       "      <td>1PhmMsdwamJA6soKw5mNMXxzGomHEHWY5P</td>\n",
       "      <td>1PhmMsdwamJA6soKw5mNMXxzGomHEHWY5P</td>\n",
       "      <td>7.108905e+08</td>\n",
       "      <td>110078.773052</td>\n",
       "      <td>453318</td>\n",
       "      <td>2017-02-16 12:05:04</td>\n",
       "      <td>1</td>\n",
       "      <td>1</td>\n",
       "      <td>2</td>\n",
       "      <td>16</td>\n",
       "    </tr>\n",
       "    <tr>\n",
       "      <th>130</th>\n",
       "      <td>470b620ace0d8aaac071c152ba1e7f6f8604dac2857800...</td>\n",
       "      <td>17eK8iMpNwMCmUm7DUE2GqWtm1VupPGTCW</td>\n",
       "      <td>1HxtzEb65kyyRZpt4WBMu4nR5wNMNjz8e5</td>\n",
       "      <td>6.259293e+03</td>\n",
       "      <td>1.670261</td>\n",
       "      <td>453318</td>\n",
       "      <td>2017-02-16 12:05:04</td>\n",
       "      <td>1</td>\n",
       "      <td>1</td>\n",
       "      <td>2</td>\n",
       "      <td>16</td>\n",
       "    </tr>\n",
       "    <tr>\n",
       "      <th>131</th>\n",
       "      <td>470b620ace0d8aaac071c152ba1e7f6f8604dac2857800...</td>\n",
       "      <td>1GKmCumeG8QxvneT7A2Pe4jKKEdyCQTo6w</td>\n",
       "      <td>1HxtzEb65kyyRZpt4WBMu4nR5wNMNjz8e5</td>\n",
       "      <td>8.450046e+05</td>\n",
       "      <td>225.485231</td>\n",
       "      <td>453318</td>\n",
       "      <td>2017-02-16 12:05:04</td>\n",
       "      <td>1</td>\n",
       "      <td>1</td>\n",
       "      <td>2</td>\n",
       "      <td>16</td>\n",
       "    </tr>\n",
       "    <tr>\n",
       "      <th>132</th>\n",
       "      <td>470b620ace0d8aaac071c152ba1e7f6f8604dac2857800...</td>\n",
       "      <td>12VpNLvUEBZvHL8WzjRcvoZKJ4KPdbJHko</td>\n",
       "      <td>1HxtzEb65kyyRZpt4WBMu4nR5wNMNjz8e5</td>\n",
       "      <td>1.332963e+04</td>\n",
       "      <td>3.556944</td>\n",
       "      <td>453318</td>\n",
       "      <td>2017-02-16 12:05:04</td>\n",
       "      <td>1</td>\n",
       "      <td>1</td>\n",
       "      <td>2</td>\n",
       "      <td>16</td>\n",
       "    </tr>\n",
       "  </tbody>\n",
       "</table>\n",
       "</div>"
      ],
      "text/plain": [
       "                                              txn_hash  \\\n",
       "74   4501f4acfe0e57de30aa0fb05310095dbac71aab009129...   \n",
       "75   4501f4acfe0e57de30aa0fb05310095dbac71aab009129...   \n",
       "130  470b620ace0d8aaac071c152ba1e7f6f8604dac2857800...   \n",
       "131  470b620ace0d8aaac071c152ba1e7f6f8604dac2857800...   \n",
       "132  470b620ace0d8aaac071c152ba1e7f6f8604dac2857800...   \n",
       "\n",
       "                          input_address                      output_address  \\\n",
       "74   1PhmMsdwamJA6soKw5mNMXxzGomHEHWY5P  1BjmDut3JhzbQ1ik9gzm9uzTQNZ9veNFUD   \n",
       "75   1PhmMsdwamJA6soKw5mNMXxzGomHEHWY5P  1PhmMsdwamJA6soKw5mNMXxzGomHEHWY5P   \n",
       "130  17eK8iMpNwMCmUm7DUE2GqWtm1VupPGTCW  1HxtzEb65kyyRZpt4WBMu4nR5wNMNjz8e5   \n",
       "131  1GKmCumeG8QxvneT7A2Pe4jKKEdyCQTo6w  1HxtzEb65kyyRZpt4WBMu4nR5wNMNjz8e5   \n",
       "132  12VpNLvUEBZvHL8WzjRcvoZKJ4KPdbJHko  1HxtzEb65kyyRZpt4WBMu4nR5wNMNjz8e5   \n",
       "\n",
       "          ammount           fees  block_index           block_time  \\\n",
       "74   1.500000e+05      23.226948       453318  2017-02-16 12:05:04   \n",
       "75   7.108905e+08  110078.773052       453318  2017-02-16 12:05:04   \n",
       "130  6.259293e+03       1.670261       453318  2017-02-16 12:05:04   \n",
       "131  8.450046e+05     225.485231       453318  2017-02-16 12:05:04   \n",
       "132  1.332963e+04       3.556944       453318  2017-02-16 12:05:04   \n",
       "\n",
       "     input_flag  output_flag  month  day  \n",
       "74            1            1      2   16  \n",
       "75            1            1      2   16  \n",
       "130           1            1      2   16  \n",
       "131           1            1      2   16  \n",
       "132           1            1      2   16  "
      ]
     },
     "execution_count": 60,
     "metadata": {},
     "output_type": "execute_result"
    }
   ],
   "source": [
    "# Subset of input address fraud \n",
    "input_fraud = trans_3w[trans_3w['input_flag'] == 1]\n",
    "input_fraud.head()"
   ]
  },
  {
   "cell_type": "code",
   "execution_count": 61,
   "id": "3808f5ea",
   "metadata": {
    "ExecuteTime": {
     "end_time": "2022-05-17T19:21:02.646147Z",
     "start_time": "2022-05-17T19:21:02.638788Z"
    }
   },
   "outputs": [
    {
     "data": {
      "text/plain": [
       "(21773, 11)"
      ]
     },
     "execution_count": 61,
     "metadata": {},
     "output_type": "execute_result"
    }
   ],
   "source": [
    "input_fraud.shape"
   ]
  },
  {
   "cell_type": "code",
   "execution_count": 62,
   "id": "5da8c052",
   "metadata": {
    "ExecuteTime": {
     "end_time": "2022-05-17T19:21:02.649227Z",
     "start_time": "2022-05-17T19:21:02.647021Z"
    }
   },
   "outputs": [
    {
     "data": {
      "text/plain": [
       "(14033260, 11)"
      ]
     },
     "execution_count": 62,
     "metadata": {},
     "output_type": "execute_result"
    }
   ],
   "source": [
    "trans_3w.shape"
   ]
  },
  {
   "cell_type": "code",
   "execution_count": 63,
   "id": "543cbb2f",
   "metadata": {
    "ExecuteTime": {
     "end_time": "2022-05-17T19:21:03.168049Z",
     "start_time": "2022-05-17T19:21:02.650158Z"
    }
   },
   "outputs": [
    {
     "data": {
      "text/html": [
       "<div>\n",
       "<style scoped>\n",
       "    .dataframe tbody tr th:only-of-type {\n",
       "        vertical-align: middle;\n",
       "    }\n",
       "\n",
       "    .dataframe tbody tr th {\n",
       "        vertical-align: top;\n",
       "    }\n",
       "\n",
       "    .dataframe thead th {\n",
       "        text-align: right;\n",
       "    }\n",
       "</style>\n",
       "<table border=\"1\" class=\"dataframe\">\n",
       "  <thead>\n",
       "    <tr style=\"text-align: right;\">\n",
       "      <th></th>\n",
       "      <th>txn_hash</th>\n",
       "      <th>input_address</th>\n",
       "      <th>output_address</th>\n",
       "      <th>ammount</th>\n",
       "      <th>fees</th>\n",
       "      <th>block_index</th>\n",
       "      <th>block_time</th>\n",
       "      <th>input_flag</th>\n",
       "      <th>output_flag</th>\n",
       "      <th>month</th>\n",
       "      <th>day</th>\n",
       "    </tr>\n",
       "  </thead>\n",
       "  <tbody>\n",
       "    <tr>\n",
       "      <th>0</th>\n",
       "      <td>bd36f2ca16e2a2c73c807b7d1569657b30de8453450cd2...</td>\n",
       "      <td>13Uf71d8y94xEk2LX7GCtaBJmPiahhA7TR</td>\n",
       "      <td>16FPyvvz5Ug3cx97qH67KfgC6PY1S9fskQ</td>\n",
       "      <td>2.420000e+07</td>\n",
       "      <td>320000.000000</td>\n",
       "      <td>453318</td>\n",
       "      <td>2017-02-16 12:05:04</td>\n",
       "      <td>0</td>\n",
       "      <td>1</td>\n",
       "      <td>2</td>\n",
       "      <td>16</td>\n",
       "    </tr>\n",
       "    <tr>\n",
       "      <th>1</th>\n",
       "      <td>8c852e187a0541cd8ea8c93a6c728843b5f8b9c579b6fc...</td>\n",
       "      <td>166zajP74bcRVo7BmdeDME3mRX3Mi9e3xn</td>\n",
       "      <td>1ASaHGPN8qRuqZkpnR7d2tcndU9uHL6aGj</td>\n",
       "      <td>2.503648e+03</td>\n",
       "      <td>3.314845</td>\n",
       "      <td>453318</td>\n",
       "      <td>2017-02-16 12:05:04</td>\n",
       "      <td>0</td>\n",
       "      <td>1</td>\n",
       "      <td>2</td>\n",
       "      <td>16</td>\n",
       "    </tr>\n",
       "    <tr>\n",
       "      <th>2</th>\n",
       "      <td>8c852e187a0541cd8ea8c93a6c728843b5f8b9c579b6fc...</td>\n",
       "      <td>1LU3DtRE3XK32WxFqrnaT9k99nRgwHtLHd</td>\n",
       "      <td>1ASaHGPN8qRuqZkpnR7d2tcndU9uHL6aGj</td>\n",
       "      <td>6.359402e+05</td>\n",
       "      <td>841.988605</td>\n",
       "      <td>453318</td>\n",
       "      <td>2017-02-16 12:05:04</td>\n",
       "      <td>0</td>\n",
       "      <td>1</td>\n",
       "      <td>2</td>\n",
       "      <td>16</td>\n",
       "    </tr>\n",
       "    <tr>\n",
       "      <th>3</th>\n",
       "      <td>8c852e187a0541cd8ea8c93a6c728843b5f8b9c579b6fc...</td>\n",
       "      <td>1HVQNFf7vDpJVZk7tEzbFxnmALSezA2qPD</td>\n",
       "      <td>1ASaHGPN8qRuqZkpnR7d2tcndU9uHL6aGj</td>\n",
       "      <td>5.902369e+05</td>\n",
       "      <td>781.477250</td>\n",
       "      <td>453318</td>\n",
       "      <td>2017-02-16 12:05:04</td>\n",
       "      <td>0</td>\n",
       "      <td>1</td>\n",
       "      <td>2</td>\n",
       "      <td>16</td>\n",
       "    </tr>\n",
       "    <tr>\n",
       "      <th>4</th>\n",
       "      <td>8c852e187a0541cd8ea8c93a6c728843b5f8b9c579b6fc...</td>\n",
       "      <td>1LU3DtRE3XK32WxFqrnaT9k99nRgwHtLHd</td>\n",
       "      <td>1ASaHGPN8qRuqZkpnR7d2tcndU9uHL6aGj</td>\n",
       "      <td>1.013032e+05</td>\n",
       "      <td>134.126076</td>\n",
       "      <td>453318</td>\n",
       "      <td>2017-02-16 12:05:04</td>\n",
       "      <td>0</td>\n",
       "      <td>1</td>\n",
       "      <td>2</td>\n",
       "      <td>16</td>\n",
       "    </tr>\n",
       "  </tbody>\n",
       "</table>\n",
       "</div>"
      ],
      "text/plain": [
       "                                            txn_hash  \\\n",
       "0  bd36f2ca16e2a2c73c807b7d1569657b30de8453450cd2...   \n",
       "1  8c852e187a0541cd8ea8c93a6c728843b5f8b9c579b6fc...   \n",
       "2  8c852e187a0541cd8ea8c93a6c728843b5f8b9c579b6fc...   \n",
       "3  8c852e187a0541cd8ea8c93a6c728843b5f8b9c579b6fc...   \n",
       "4  8c852e187a0541cd8ea8c93a6c728843b5f8b9c579b6fc...   \n",
       "\n",
       "                        input_address                      output_address  \\\n",
       "0  13Uf71d8y94xEk2LX7GCtaBJmPiahhA7TR  16FPyvvz5Ug3cx97qH67KfgC6PY1S9fskQ   \n",
       "1  166zajP74bcRVo7BmdeDME3mRX3Mi9e3xn  1ASaHGPN8qRuqZkpnR7d2tcndU9uHL6aGj   \n",
       "2  1LU3DtRE3XK32WxFqrnaT9k99nRgwHtLHd  1ASaHGPN8qRuqZkpnR7d2tcndU9uHL6aGj   \n",
       "3  1HVQNFf7vDpJVZk7tEzbFxnmALSezA2qPD  1ASaHGPN8qRuqZkpnR7d2tcndU9uHL6aGj   \n",
       "4  1LU3DtRE3XK32WxFqrnaT9k99nRgwHtLHd  1ASaHGPN8qRuqZkpnR7d2tcndU9uHL6aGj   \n",
       "\n",
       "        ammount           fees  block_index           block_time  input_flag  \\\n",
       "0  2.420000e+07  320000.000000       453318  2017-02-16 12:05:04           0   \n",
       "1  2.503648e+03       3.314845       453318  2017-02-16 12:05:04           0   \n",
       "2  6.359402e+05     841.988605       453318  2017-02-16 12:05:04           0   \n",
       "3  5.902369e+05     781.477250       453318  2017-02-16 12:05:04           0   \n",
       "4  1.013032e+05     134.126076       453318  2017-02-16 12:05:04           0   \n",
       "\n",
       "   output_flag  month  day  \n",
       "0            1      2   16  \n",
       "1            1      2   16  \n",
       "2            1      2   16  \n",
       "3            1      2   16  \n",
       "4            1      2   16  "
      ]
     },
     "execution_count": 63,
     "metadata": {},
     "output_type": "execute_result"
    }
   ],
   "source": [
    "# Subset of output address fraud \n",
    "output_fraud = trans_3w[trans_3w['output_flag'] == 1]\n",
    "output_fraud.head()"
   ]
  },
  {
   "cell_type": "code",
   "execution_count": 64,
   "id": "1b7a558d",
   "metadata": {
    "ExecuteTime": {
     "end_time": "2022-05-17T19:21:03.170934Z",
     "start_time": "2022-05-17T19:21:03.168906Z"
    }
   },
   "outputs": [
    {
     "data": {
      "text/plain": [
       "(552455, 11)"
      ]
     },
     "execution_count": 64,
     "metadata": {},
     "output_type": "execute_result"
    }
   ],
   "source": [
    "output_fraud.shape"
   ]
  },
  {
   "cell_type": "code",
   "execution_count": 65,
   "id": "4d405393",
   "metadata": {
    "ExecuteTime": {
     "end_time": "2022-05-17T19:21:05.860752Z",
     "start_time": "2022-05-17T19:21:03.171909Z"
    }
   },
   "outputs": [
    {
     "name": "stdout",
     "output_type": "stream",
     "text": [
      "Overall graph density throughout all time stamp is 0.00000097\n"
     ]
    }
   ],
   "source": [
    "# Graph density\n",
    "number = nx.density(graph_nx)\n",
    "print(f\"Overall graph density throughout all time stamp is {number:.8f}\")"
   ]
  },
  {
   "cell_type": "code",
   "execution_count": 66,
   "id": "b0ebf668",
   "metadata": {
    "ExecuteTime": {
     "end_time": "2022-05-17T19:27:54.487673Z",
     "start_time": "2022-05-17T19:21:05.861826Z"
    }
   },
   "outputs": [
    {
     "name": "stdout",
     "output_type": "stream",
     "text": [
      "Overall average clustering throughout all time stamp is 0.02611629\n"
     ]
    }
   ],
   "source": [
    "# Average clustering\n",
    "number = nx.average_clustering(graph_nx)\n",
    "print(f\"Overall average clustering throughout all time stamp is {number:.8f}\")"
   ]
  },
  {
   "cell_type": "code",
   "execution_count": 67,
   "id": "6fac1ebc",
   "metadata": {
    "ExecuteTime": {
     "end_time": "2022-05-17T19:31:41.722479Z",
     "start_time": "2022-05-17T19:27:54.492089Z"
    }
   },
   "outputs": [
    {
     "data": {
      "text/plain": [
       "10152418"
      ]
     },
     "execution_count": 67,
     "metadata": {},
     "output_type": "execute_result"
    }
   ],
   "source": [
    "# Identify cliques\n",
    "len(list(nx.find_cliques(graph_nx)))"
   ]
  },
  {
   "cell_type": "markdown",
   "id": "d23f11ff",
   "metadata": {},
   "source": [
    "A clique is in some sense a stronger version of a community. A set of nodes forms a clique (equivalently, a complete subgraph) if all possible connections between nodes exist. A two-node clique is simply two connected nodes. A three node clique is also known as a triangle."
   ]
  },
  {
   "cell_type": "code",
   "execution_count": 68,
   "id": "3fb076d1",
   "metadata": {
    "ExecuteTime": {
     "end_time": "2022-05-17T19:33:35.230506Z",
     "start_time": "2022-05-17T19:31:41.725728Z"
    }
   },
   "outputs": [
    {
     "name": "stdout",
     "output_type": "stream",
     "text": [
      "17A16QmavnUfCW11DAApiJxp7ARnxN5pGX 0.002991614410648985\n",
      "38DPYmsa7RXwLrhpTP6udrfSiGn5dzdGAC 0.0020355631317577577\n",
      "1FvtWwP3ePJDeR6K7ZePGujUuusUTds8Vy 0.0018311103758796394\n",
      "3CD1QW6fjgTwKq3Pj97nty28WZAVkziNom 0.0013882569182835074\n",
      "1P9RQEr2XeE3PEb44ZE35sfZRRW1JHU8qx 0.001364126957831029\n",
      "3PUuiYu5cFMsagkffArrKZzQFtWdHttU3x 0.001295741062428294\n",
      "1MoYyajsjhVJE5BfDviFF8UbuefziGeDJy 0.0012183303815281488\n",
      "13vHWR3iLsHeYwT42RnuKYNBoVPrKKZgRv 0.0011246087134146703\n",
      "1AScRhqdXMrJyxNmjEapMZi1PLFsqmLquG 0.0010491147424790805\n",
      "1A9J4XT7cbdv2p2YMAvmm36qauVAs1iPga 0.0010110300356545316\n",
      "1Btc2UrZTqcbjLrr8trx66K9TozQmKeDGN 0.0009284219082938395\n",
      "1Jyk78QLGTi4e1DbYqgBizQujAPskxtsU3 0.0007619522326790111\n",
      "1GCMZuCzCYVL9bh65qxQmwjAiZagyYEEQf 0.0007372291701553611\n",
      "12cgpFdJViXbwHbhrA3TuW1EGnL25Zqc3P 0.0007288923086083982\n",
      "1NmL8SJHxeBvmA9Gc7dDgTmPNda5bXz5yH 0.0006851650045656431\n",
      "1FAv42GaDuQixSzEzSbx6aP1Kf4WVWpQUY 0.0006519046467465644\n",
      "3A4U175prUGEn3B1gUDkz32u8fnF9Nx3Ly 0.000617598291738843\n",
      "1GX28yLjVWux7ws4UQ9FB4MnLH4UKTPK2z 0.0005757573069171569\n",
      "1B7d55SnifEa5thYcGYXosuYXQVXavEPxW 0.0005576795312312887\n",
      "1FunK85Y7aK9k13HSrpiT7oUoFQGUjXiZY 0.0005162908805003052\n",
      "3QBEjSdESMK2puAvs7J8d15e8SBnsX1pN1 0.00047519602645247264\n",
      "39RwB8D6fg8mA1m7VGAGobKRtZM1vHV99F 0.00047307715397070004\n",
      "39sfuA8pY4UfybgEZi7uvA13jkGzZpsg5K 0.00044932946180179856\n",
      "3JnFBLxDCutY3bZEZsPTkHAaUA1bxmEMX2 0.0004449990448833144\n",
      "1Btc2UT6TWMnaek8Yv7NE2HEWcCPMB74hv 0.00041908388585634384\n",
      "37saouVqBrJzxAq78g6WNYqPbyLjELUjCU 0.0004151578273834191\n",
      "37p9pUugydmoLpQyFLLqGAgjWmUFERa1Pq 0.0004143332548170215\n",
      "3MKaTNDSnbzqqYPEF6ebGQ6f9PnNLMAoQQ 0.00041040550804370734\n",
      "3Q1miB6ahK2rFG7ZFXQ9sCXgU4s4fhZpBn 0.0004080122756659513\n",
      "3FVkWoWhMRyWRmdEEb84C11xcLHqvwrg5D 0.00040774385563148663\n",
      "37fJjdPaQmTV3KmAkVGazpGG3LC9F62MCX 0.0004005413910199771\n",
      "13bEmjp8HKtDbzoTmhH3ZAWRSWLdGJ1acR 0.00039301901502994277\n",
      "19NWGQ1oHGwW3Nra7hKcbA2fmPkMpeSfJx 0.00039250658304753954\n",
      "3LvS6r1mFvxjK7dc2zTfgL3Jq7hUxpjsmw 0.0003869292009914881\n",
      "1Nu1Wt73TcxnrUb1ZkmAAByqKh1snFhRDB 0.0003840636103420644\n",
      "3AhpkBp2xR2h1JLnob71aZvyT8TN5tFxjt 0.0003789630131411877\n",
      "15tYFmUV6wG4e1Gbi1buxBM9zSQzcWSkiK 0.00037811908457002297\n",
      "38GKaU5uRBv8kSPvYqLQy2ikUv1bEyDF78 0.0003732205447776258\n",
      "18p9Ftp3m4435tdpZTvoBsm3yjUgkvTF2b 0.00037101345437593733\n",
      "13hB6VxWn52YuzXJJ9FE6Y7NVnT5CtRjmD 0.000358283574664701\n",
      "36Q2k9PvwcmK4zNBYeMTFaudQRg5zfX7Uc 0.000347064233029065\n",
      "179zAu1driFdetgkHYnwAw2br5ZZaE8gFU 0.00033555978185168184\n",
      "3QbpjKX3j3bi2pq1HuXqG71mHJhHxMkwhM 0.0003238472290669543\n",
      "18yRgSDFV2H1LnAGTniy7btTgPdfTdfQ9Z 0.0003233941810348554\n",
      "3HFuP6r5JAeaSsMSQrtFoKHzPTT9cEAc3e 0.00029669522152334234\n",
      "1NkrC5NWFzSpWVZ6wyN1pMJALEnHJsxS1v 0.0002948216660469229\n",
      "35xP6YsR4t5TLYXwx8ADGuWVjW5we8rSut 0.00029348238601437234\n",
      "1HVgipffWqRhRWJqapeN23RGigzpxtGW6n 0.0002934072071810258\n",
      "1FoxBitjXcBeZUS4eDzPZ7b124q3N7QJK7 0.0002892514321258364\n",
      "336xGpGweq1wtY4kRTuA4w6d7yDkBU9czU 0.00028680755619067845\n",
      "3HKt9kFgjvnzu5Pi25Tqo4LAvKsrxskWrX 0.00028383536582653424\n",
      "16NuD9GRBedWCLT2GEBnMLCPTTgSsUFfaB 0.00028006844749002227\n",
      "1DtBnGqF4ReQJyYiWK4DjJoQwRrBAMbuix 0.0002790203684676922\n",
      "12FTSngCryXD7gsCZpZsb2cU93bs2mJdgX 0.00027869267876321337\n",
      "33UJdrxo3zfmSwskixoi2Tu4VN9hvAisNf 0.00027677618520534423\n",
      "12VpNLvUEBZvHL8WzjRcvoZKJ4KPdbJHko 0.00027375307113108947\n",
      "39xk6uWagtKKi89ykthJmExjXcKyZQY2GP 0.00027049394700891195\n",
      "3Fp5ejYY8FsJ6Y3kb377VRjJunTeUVYsuq 0.0002627383694073007\n",
      "19UM1NF9ptKK1wzSDwq9wQfku427PXMk7U 0.0002624843082594263\n",
      "17Fphhv7itefCEpsZDxUSEh5K74EQfzmjF 0.0002619917954453297\n",
      "3EKdAKLiZv94LJQHjr2L2JtHxsKW28Wiwr 0.00026196835485052186\n",
      "1LApZ4cAv5VsJzHS44V4A8wsvW7meBHg6H 0.00025978972181088316\n",
      "38A6nGSMR59WHVnj9gaJ2Cm62y9kFE318i 0.0002557323697409984\n",
      "1HCpe5pLiEYixqeBq6t6SwPbL3AkeHXriK 0.0002542429128887955\n",
      "351kqTaiC8vPzgww7aUWLvx7wDcG2BKVLd 0.0002535931632142338\n",
      "1Vt1x5KDXfEewCsxsT1HYRwQthdNREY8a 0.00022988622620439894\n",
      "3MfN5to5K5be2RupWE8rjJHQ6V9L8ypWeh 0.00022202703165937363\n",
      "3E9xQ5g5x7ff5avSCxjzZQvceqUVbmdqR8 0.00021700455270228726\n",
      "37otE4u9o8ceUKyGHLMiPVWj5HNDR6GnHe 0.00021579827685911575\n",
      "3AzYJuCwMtM3qnK4S6XcdAqo7LqXbbN5xk 0.00021277624893518033\n",
      "3P1sThUfzBZKm2eRqR94Xgyq9tXtiWwFiH 0.00020949966143939206\n",
      "1P7WDAepceUtbtqdfusRarQGDLskdhQWG1 0.00020730898736302304\n",
      "3MPcuj8Trte18jRbU39wBfZcw8XwvPRo6D 0.00020730156112987213\n",
      "3Q9SPyCN95szQUoQYgAHKgdhC3YnRsrFrW 0.00020699940276142399\n",
      "18rdKmjrg1EawxgiVT3ikLExj6GWS2MNCk 0.0002048729200564534\n",
      "1Gmpp7g3vzSZPTPvAbabexWSKpMZotcAbj 0.00020229937650258643\n",
      "1JMTLzm9Kf9DhmYBsVa1iaSf4jQhmLDoSw 0.00019705147839007203\n",
      "1AfujNtasPZvVjXRTkuQCnvyb1P8fF1HsY 0.00019622070336336846\n",
      "13U4aXnw4GMmDyLNgjgae4m1nhiopkRR8g 0.0001936179720418678\n",
      "35rdP3wXoQwybUnG8fAd8VJouz1rG2eV8X 0.00018794239260226808\n",
      "3Ce7jUQn2RH5Ysdb4VvShoYymZLpkcqaAA 0.00018769580963385354\n",
      "3KDgKr3qov4Ws5WPnaA2RHjcE1N2UeVYs3 0.0001837291415392415\n",
      "1NmS6TR7qa1PmHrMna45ZYD2xjkisusNHo 0.00018278485452349116\n",
      "1E7jvxutUZHr9Ktb77MQnnhSp4QBRbqR1n 0.0001802449872213554\n",
      "33PnTaY7kCFARxKjefberMSPxKtTAePZCo 0.00017729054888563142\n",
      "1J37CY8hcdUXQ1KfBhMCsUVafa8XjDsdCn 0.00017724012225024644\n",
      "3Ad3VyAud5JstK3VFUJdaMfQDdRbnZeCPF 0.00017643695922993884\n",
      "1JP8FqoXtCMrR1sZc2McLWmHxENox1Y1PV 0.0001722898265271507\n",
      "3LQxUzikM2rWBhUFrLFNiuWPbPLLJn84DB 0.00016636930389422435\n",
      "19Fho7JeKnn6W8QjB3xi3QmE59H2HQb8ER 0.0001577820388120523\n",
      "1ArG3JwEbF4WrCiEnXQXUAgQumAVzqnQHD 0.0001573174771987905\n",
      "17jCUUdXVg8eNr5J6x7Rq13f3LcoZ2SP3b 0.00015695038866987484\n",
      "13xXes7j7tw6xJQA7wPAxWZCfYDoMsyBze 0.00015691477151255414\n",
      "3MHABP5wwPzKoVSLw13CrSgmdhhubPS1S1 0.00015460117483077915\n",
      "3MEh9VwHcqyxMbvzgNELeXDyA8QJMFMKMi 0.00015452727390849761\n",
      "34TYcHACxdJj8LJ2KmtsNQs2Z5XpbX3MXX 0.00015181517900736692\n",
      "1QBe6pHHZdsFRH6dxYZEUx5HCUbA2xKmhm 0.00015068070192833548\n",
      "1PBH3BoxpdYwRmqZ5VKWgUNidB1YrDDBSo 0.0001495129131977444\n",
      "18g7ZUaxZZKgno5Jcw1pTpWjgnpiHm5vF4 0.00014583600849323725\n",
      "1q6TXoTUVYwdJtwKetHr3hBtR4EaCTmkd 0.00014508765291885385\n",
      "1HY5d1jkiTA5C2Utss9kUvVVHWJo5UrEFD 0.00014493770268152891\n",
      "192wSTqNyUMeqVLZXGXsx3kWRYfpZyNcqb 0.00014390953378835201\n",
      "1AYuDpSBD5U3SBt4Sc3kmCSaLKEmjZm4i9 0.00014281602556616936\n",
      "15AEap1u9XLajiSGm5d1V2JDuZoUSpxNtR 0.00014196752632144124\n",
      "1HgcjDJEwe6KBTnEoXURL6UNscdpw9Vehm 0.0001397906891758937\n",
      "19JRz9seZ7DG5LVa9HkXC1bkMzxvnuhsAy 0.0001390955532519535\n",
      "1Lnt32vFqwz7WkqS1KXN2xwX2DZ4Nj4j1m 0.00013895912368666895\n",
      "3M9JiDkKUWqs6Auvbnc16oP7FCKcPRWa75 0.0001383610790748993\n",
      "38nqEKkDEEkjMyFPCnUyBBSat7adX2Fh4M 0.00013818262561568438\n",
      "1AAhy55ncXYaxcSB2dQYEnmRZqyt35QHhR 0.0001358120125211619\n",
      "1GQmweAj7Lqwzs4eD8u6DjGA8da2kaG93S 0.00013255296664407547\n",
      "1CK6KHY6MHgYvmRQ4PAafKYDrg1ejbH1cE 0.0001323553095247152\n",
      "38mMQxz4knqfmecjLW3atdygfWxvvnJfg7 0.00013216619214278475\n",
      "37BbAoe7YG9pctDpBRrswza3bSnNXknGiY 0.00013175175513720395\n",
      "1BM9o8LMdJq4LswUAqHCpUfP6VsZngWW1R 0.00013077198760374017\n",
      "33XZf8Ys9sbqnAKynA4yBckyzwN3SEZaU7 0.00012987955188800742\n",
      "3N6ZTNZ7PcrnL1j9kMe1vfkuUfeFYeteSQ 0.00012986966503951558\n",
      "1N23wmBY6DACbcWww3VC22LwFNmfXaSvio 0.0001292376061306367\n",
      "174FyX7yktueTE6rBNoTHo9HG3y6NRJDhd 0.00012870994515916842\n",
      "14WAQBpe4D9iL6qjXxFmgr2186cZAPzMCH 0.0001278137869828906\n",
      "1KYs6HFW2TNszEbeD4zPHD3NJPuv3VtoLh 0.00012507538622548987\n",
      "3AYNrV1h85Rk3ZnyBnmuYD2pS25H5tRdCj 0.00012492235720660297\n",
      "1Ej4Jm8J83tKG4wUAbikNF3rQoGckH4Emp 0.00012295443180169305\n",
      "1Cyq9FUnYT7gR2Qmb4krRDmMavywTqv1Vv 0.00012279485949785667\n",
      "1ALUzBqX8J4mbfaTEueCKUKgQWT4iZs32U 0.00012106473068164338\n",
      "3MckY1d3CQDEKpnW3oL6hyuaa6aAywS6de 0.0001200254920848339\n",
      "1Gw8yyPm1AnAcg3xGYaWKndzSFcFhBJWDF 0.0001185292245643469\n",
      "1E5EWgAQjqJhCBEJfpGcAVSLhtr9e33u9Y 0.0001181997926706106\n",
      "19RHUFiEK4KAmVvYXEHw31Kevo6JbpeXjm 0.00011813540434974328\n",
      "1TipsnxGEhPwNxhAwKouhHgTUnmmuYg9P 0.00011728876533984596\n",
      "3GN8GXRi2cQirgKaKGkTnumh6Py3rBTWPD 0.00011658581497167567\n",
      "3GjVjz9Rx3Vq97C5NnonsfZdzRV7LLa9LR 0.00011608042326008109\n",
      "3PThtntJ7N2WWHYdjPv1qz3TjHMf9jvaDW 0.00011585895721119025\n",
      "19hBc1hKGf73wyYUqYYUzqLuCSHZkkayet 0.00011493436599490664\n",
      "1kojTyCvkbHBA95fY7gVbJ8tZgr7z1Wex 0.00011462156821931006\n",
      "1ChCZ3ixjPdNuoQ9sTpuoTwsYAcG2MDj7Y 0.00011323828201858382\n",
      "18JVs7i2NZphTTe6kND8B5AsrH4VvwEruz 0.00011254512828935413\n",
      "3NS7RAQ6zd46qsyqYCcabW2J3JqbjJYHhy 0.00011162318201755336\n",
      "1LL6zXJKZyFMGevYCQ2FMvBGv7gp2f8MG6 0.00011139721103218399\n",
      "1P6HcKAfj5FpJ8htWVnC1VMTcuh4QQkyQ1 0.00011132840485286514\n",
      "3NHLg1nQZgGr2aD1hPqvpzMMb64HjQtqQv 0.00011080427147961615\n",
      "35vZCiCV4vmjcHd28wo22tKg5quNgsNm88 0.0001104831861489826\n",
      "1nfJvZ6pysX8irBqeVxNbVRjt4yiAMu9K 0.00010953632959395257\n",
      "3JDKhmXneN7H7bF9XsGg88y3P8afD7hV5k 0.00010942566434023967\n",
      "1NtHN8Tx7MSGZ3XNx5iyNSRqsmQVnb3Ab6 0.00010733793411928125\n",
      "3G1nNTTyrpZBwyEiG6U3bJvZdu9sW3rbUz 0.0001057906943003943\n",
      "1F9WHjDUGXfTpEHDYSmhLWuwsjhi1BDoCm 0.00010541522756840191\n",
      "34Lp2zMhXpp9ymfuUcrbnV6WbsMpFBqYsC 0.00010452216346876766\n",
      "1HtqDMWgn6186e8t3EesZQiw7gNbaPJfJH 0.00010448412316034211\n",
      "3HRh93Xob3GZyk7Kp3vG5NcMtvCUFvTiPo 0.0001036925451427767\n",
      "1NRmCQhP7eSooysQEQT8gHGFdLNJvMsDoL 0.00010287118773401525\n",
      "3LGcU8bbYPVyU2nGRFnVTGTiY2qePPfodw 0.00010162851896087756\n",
      "1PwzEjXdhGDqe7gxYYKbCxsd4UiAoRoW4j 0.00010090058808381622\n",
      "18AMh93NQNoRmaRYoGxZfcUsHTrhxMRNK3 0.00010058092370447148\n",
      "18gDHz8LqoD5R5bXtdqzpcXa3XBhD9ShEb 0.00010049307265128843\n",
      "1GvXLSn5txAmxwhWJe8qCosmoARb28BaGJ 0.00010020089478454797\n",
      "1PSs9tzHSjSbLxXANBcm6NDio7aLJs6rpa 9.97325856078676e-05\n",
      "1Gii1VoJksAKrL34Gd4sLF1bUTQdUq1qe1 9.958302484164785e-05\n",
      "3QdDL2enCMVkrtesfQHt3rna2k8MMUsZgn 9.94526434541188e-05\n",
      "3D9iAvWctB5orPtRtaszrMDGhFfGx6eL9e 9.933030797000465e-05\n",
      "12eEZozkC48pg8WV2hJjV5gw7gihozpAxD 9.870063551886082e-05\n",
      "18RV4miYsDVFhvQrnRj4Q2fV1MTsJbpur8 9.838580473202288e-05\n",
      "19QC9XoMVWxP43TkzkSKZhtcY4oZFqWb1d 9.815853793406356e-05\n",
      "1MYRr2vobW263AaKDanCcSDXPj5sL7dtxT 9.677470402624535e-05\n",
      "3KzvEvKj35X5LiYASPUbgcPMB1ZXNCYSoQ 9.624670009018259e-05\n",
      "3DMytwmpjqVDaRiVxh749mhw7U1x3daJbB 9.595680997684001e-05\n",
      "18CUkaQenRcKAknRctuJgrXgL9nT5vRroj 9.587154598920776e-05\n",
      "1JJ43mff64yrBMQgpgNdsYGUka3Fd7UDpv 9.579537150831334e-05\n",
      "19ugaktHY7asfYUBWSefqY6D1JZrnvDbiS 9.538585947275231e-05\n",
      "3BQjEhqd7ug4eoA7g1RTXNztwp89c9Qyv7 9.502083109787419e-05\n",
      "3LsVxkFtErBrYCcuoDGBS1JLS5FfjPCsDZ 9.463154392681537e-05\n",
      "3Lyo7faCB9ZrWJHkW6TnSPo727jS3E1enr 9.436262405024808e-05\n",
      "3MYqQJ5LbDe9U3drsaDprKxWobVZA3UgAw 9.43264886529062e-05\n",
      "3MGAP2FWrDrxRxZ5zSYQjsZLmtotrcn2sd 9.419191123001208e-05\n",
      "3FpR8nTKPfojhm21poNUNQLnFPQvGyhfZU 9.359520206343284e-05\n",
      "364qbSJFhwkBgZnMuhmUHdczpaZNS2PmE6 9.354693067748178e-05\n",
      "1BKdYo8kdFxwYbDVDrF7RJCKUTr9LiQytu 9.265844419041402e-05\n",
      "329yLywaEkQtgR1atNzZkoqrASP66hmqQA 9.214517243211376e-05\n",
      "1P4Ezk2uoYvvGgLALgqWwi3R8zsKARUxnu 9.148194507180478e-05\n",
      "1McvHEGorSKhLmhxiCM8pwvVDKndrHprRF 9.041809405322117e-05\n",
      "3NB9rgo3j9HmewuDUQS8g5odpvZWBGfwBi 9.0354135269209e-05\n",
      "3KaZP2JJZYpwfcWghkkeQ92ozne4RTm4sb 8.978668671591953e-05\n",
      "3CHdadKtrmJUqsgJYenZFWFRgLZv5BVgEK 8.919210837052716e-05\n",
      "13Vp8xBWiiySpbopXaZBekcMNijqEnRwjf 8.855497176174653e-05\n",
      "18y8TD9YDbVdUgNo8p2LyaCkV8kVZiwLzh 8.851688541046212e-05\n",
      "1MRCBmttj8429xnVXUNckJxKqDPgdSh3oD 8.80970502882377e-05\n",
      "12JYmnfYU2ghzjwUAspzJsSnmJtK9bZPYR 8.719046187692436e-05\n",
      "3Anz56PTptXjKYHnJsUcpiau4H56CR56Ef 8.714666221951651e-05\n",
      "1PeKz1j9RnBJAMwXGhkHFTCon2W22j6qw5 8.705664655834094e-05\n",
      "3KHWrMo8EnzCh6uhXrozHUhBtogqiWpux4 8.703753325709399e-05\n",
      "1FoXbDsvXgwVoFwkszaZjkuRRDADoWTygX 8.697023102492604e-05\n",
      "37dtXQykUs2vbXRsJywaAEwjaTtCjdvozv 8.665828988323968e-05\n",
      "32scNoT9cbFdCfKgUHi3WG6aB4nmc1RpFx 8.648819276647443e-05\n",
      "3FgBq6S2TLM1Zf9P4KHK5HMbx76aqxP9JM 8.609566874139876e-05\n",
      "3P4C7jpF1oxHgxqt4VgMRcCBEV3YEpaDUm 8.566979487365422e-05\n",
      "3BkVZ3vjmQGVf8G6TazJ1VPhVc6uWXxdaX 8.546233447956583e-05\n",
      "172whLDzYATzMFexckytpAhWUKaobthFeb 8.515897387689548e-05\n",
      "39RUH3w83iz7JqZD3gB33HBMv3jMSn6moL 8.509876937688951e-05\n",
      "17RHickugyWx9xrDcU66XRAeUeQCuENv7B 8.509748726430567e-05\n",
      "33BAkP5dAr7qjpdgabZd2ufj1BYdJQQumB 8.50408234674505e-05\n",
      "3AcyZq11ZL1zFP5SEfJsmTwtkWJhE5qhfx 8.469362961873719e-05\n",
      "3J7PjsVgE6WGDYksZPRBy76AG12cuY4WHx 8.450410888901235e-05\n",
      "1C2QJ8B4M1tmVTs6qHMefoajYDU6hnSLA3 8.446477787929216e-05\n",
      "1QG524bnhGvXoE1AJBAjz3Q5YCNsTG8FjK 8.443749021587991e-05\n",
      "14Pzu7V44N1zJKXQ2RmeZyAn9R4eAWKRij 8.405020899467471e-05\n",
      "181uQ1h69TgRXtuy9iCsfAS1oz2FvE5oM2 8.388001611245701e-05\n",
      "3Gw2ECAurQ6BFW3jjK5rSc2gLMiB1yyoz7 8.387304263201705e-05\n",
      "1FKnLMwPvcBChfxZecbdNMXXoEotUTUk8w 8.361967430559019e-05\n",
      "322C9UF1Jq3FsvRrT7AYkPupSsE2TsC3Am 8.320597163937811e-05\n",
      "352Wp5L1HhdaWmT4zmj3T4x422Do9Hp2TX 8.284906154326115e-05\n",
      "1CP5dGJMgwXwCmTKPjiFXZxSiWg1BkWXXV 8.136153559332185e-05\n",
      "1PbLFAyffqPPP6ayo9Atabw3GsZw8uQGaf 8.1331919742452e-05\n",
      "3JLHYxyo48UmUq9tewsMVakBfqrKhHwVqb 8.107691744017184e-05\n",
      "1EFM9kGHFhrP3fpN2qC53HTmsVCsW15Vib 8.106520952680678e-05\n",
      "1TvjqwXFwwUgDFBJo6Ehuz8rfTviXVD6d 8.024233237481187e-05\n",
      "34WwfwUx2xgxABqP5swwjkYM2K9YBQ5ALF 8.0070955158508e-05\n",
      "37SQDVJr75NMZeiWcVT1QGpLWgjUmUYiLx 8.004705308831707e-05\n",
      "3QydHz1DLtg8EcHL3uGHHcLGmDwSjs41qZ 7.961457610420682e-05\n",
      "1Kqazy4xoUFgsi62V1fGPGRBEyPoR6YhKQ 7.913906647251218e-05\n",
      "15YaRVJSyehf5CwivebtH4XA7bBkka5Vye 7.886406082048173e-05\n",
      "1PL7arcgDJLUo88s6Lpzpa8NPZqU4pEpFs 7.880007264109796e-05\n",
      "3KZjLfaeQtZcYaQaBZtM34rBBsfJ5canRp 7.860675017750947e-05\n",
      "192W3xP34RhN671dRjLj1XW9PccQkzpHcx 7.843582644752354e-05\n",
      "1L6ZjFJmxU4ur4H12ExLVBWwbfDyXMSoSu 7.816543287929183e-05\n",
      "36g8E4Uz3Ru2jo37hevNJg4gUWKWCYPSDT 7.783726894203393e-05\n",
      "35W72eavKvg1HnmCn6xPJJex5QFG3P2F1e 7.771923171914656e-05\n",
      "1MgBAXToxdLTmbhxHCnuM9bqZCQxhFARMn 7.75243234374535e-05\n",
      "3LpTMsKLCoMaiiSkMqmpWsgACTTtCdFFXL 7.741627336659484e-05\n",
      "19fqLuT9yYppHYBUs98phVexeB9Y6FSbXN 7.703928307819202e-05\n",
      "31jmY3pBW7SMTRWdNzdTyLFzG3vcSHDZzR 7.702885315232804e-05\n",
      "354LiaGtPHbPjP7XKqK51saR7hsEcxygVy 7.639284373587316e-05\n",
      "3ECj4CGJyJta7chJJt4EqH2ptaEWcgUA2c 7.634952503467475e-05\n",
      "3D4Hehc7fBgdYSApwhrRK3VHAhYKiBmD4M 7.530873389505218e-05\n",
      "13xfufZWTSmvJiKZ63NgtVoXdsLU5fYLhQ 7.516494078664261e-05\n",
      "1AGxVWjyxrTGcDFNn5SQ2mHcALPVrQvPS9 7.498038961806764e-05\n",
      "3HzfeV8QPPrcsPmATydThGPMechcXKXiBj 7.427944068068609e-05\n",
      "373KBJ961y4UDGmz3XXeUSckv7TU9ibN3Z 7.411285161274283e-05\n",
      "1PXeUsij6ee5zW8BFmUf4aFMSnn267bAAE 7.352022930484897e-05\n",
      "1CGz4Fxap6mB5DoShNwhLyi8PNvBKP3ZZh 7.34307404025815e-05\n",
      "1P5zg89To83CfpM9xRuZmXTf2ASwGjnVyr 7.316958608878898e-05\n",
      "14xvXkVN8eALcS7xG56VEmygGBRix4qE6y 7.307501123737874e-05\n",
      "3Pp3dt7hp5HX5GoCr12PBgDrRTZJ7qnTvb 7.243016485179435e-05\n",
      "37zfKL5EqsokYztEj6yrJxeJah52CgJixG 7.216341835720683e-05\n",
      "1N3gfJhAjzh1jxKrrKHQ4Ht4vYkHs3uibz 7.179824337999632e-05\n",
      "1pJDsobRQfsiRYVgc4yyKnKhgCU9QS7Pn 7.159947412501966e-05\n",
      "1bitpiehFz1275Sms9W6zy2myTsrCdAGg 7.13708276937665e-05\n",
      "1LA4eGZ1mqCYptfuaP3REs7pE94QTHXCt1 7.136816393656e-05\n",
      "1N5XST645uCFwvkiTBW5DSHKKxQuLckMJu 7.127503976742892e-05\n",
      "19w3TUasSV8GGUk7QtKCnZef8emuhyRy8w 7.103431320114668e-05\n",
      "1Gz7nMXqhdLxhafZieRDQF8SeGz4j9cGLa 7.009483694464863e-05\n",
      "17BkoKtvkUkecZnrUXo99TrvbP1wtFLgL3 6.993387036459398e-05\n",
      "1DMzhyJwjx7wKohcYc5QxHhWGU1GZrBfr2 6.993387036459398e-05\n",
      "1Eqrm5W65ptwYKGajAFPRF3RUDXAYM1P7m 6.921332604602162e-05\n",
      "1BWz32hCV6sDQwQgGz4EaPiUdDYc7M32kP 6.885201685230179e-05\n",
      "1N3Nxr4fHm681tosPHJ563bnW56BZernje 6.884575459115866e-05\n",
      "1LVEf492wmNrMpnDN7RAqdJg28nXz5E63i 6.884306624159856e-05\n",
      "1Hq7r6iLH47Ph4ERaaLmjrR2J5VALDjc9N 6.809620368406397e-05\n",
      "3Qk4dzMwGd6kD6NJ19MnGePSwcJPYNsuEk 6.784376140086766e-05\n",
      "19uhvc44EcqvnozvLRSYxmvMAEKsru4hAX 6.769710020527288e-05\n",
      "1AZnsXDnF2tnZTGMXym2G9ELV9Af7zmrBm 6.68077843260052e-05\n",
      "3KdeVFjFcTzaKu8Le2h1kkNZXLxVNQTyaM 6.636685332767162e-05\n",
      "1B25f9nd8mDTnkiDf6PED2twh5DfaNGxyR 6.591302380240605e-05\n",
      "3FARb6zhZqzpTM1CewvtW9iGrfbjKE3f9b 6.577857731007623e-05\n",
      "3KJjrZ7xXqViaobZqcTAxtMX5BUjiLbJmT 6.559021984187179e-05\n",
      "1G6SBzWA6CbW8z3R481fUp3cUrunFiSozh 6.525407320660405e-05\n",
      "13gxBLZsmqaNA2A7Z1vPg48soAn8HFgnzk 6.522990219767931e-05\n",
      "14sgzX1hfCoC1p25PWucMZrVVj2uQeSWnY 6.477438004373272e-05\n",
      "1GGYWZ1PXC3raWg2z3kFpWYXhwK7XrRhnm 6.474471896647892e-05\n",
      "3Ea7XTBT6PAm3rS8qQW7kBsjEzfzrPAvuq 6.44397736436958e-05\n",
      "3DKUmUS4dWQWwJXLvGWRaDUipXvcDCRzab 6.433988832434328e-05\n",
      "15iPS6PYmujA8R9EhPsWDa3WALSKGLHM2y 6.429122103923978e-05\n",
      "1GRtrEGKPwXJTqS3jp8JbZDkLNpZjagCCb 6.42358875490582e-05\n",
      "3DhxLCBCsNxHbLmfmpq4SiiALe99J8w2H6 6.412884111064586e-05\n",
      "1Aqgrc5F6VTFygSLAbkhaKyG1T5nXy6sCg 6.38871594010988e-05\n",
      "12b2jceNH7amZXcE4fUBvCQGDGX9aeXgsS 6.359952802263825e-05\n",
      "31kFSCakef6xM2GKW1TUhb2vnMspVTAh8B 6.30414460028234e-05\n",
      "1CoWHE4gQP2RygR6QapoXE751iqyDC8upM 6.294999464577542e-05\n",
      "17mYSxFqfTEacgQuR3hqAqVmL8Xo2Noybv 6.255155016105403e-05\n",
      "18cBEMRxXHqzWWCxZNtU91F5sbUNKhL5PX 6.251453545310487e-05\n",
      "39v415aYWpSPkQoLuscZEHzq45pbpxkAax 6.236516567035839e-05\n",
      "1AKpbgahdG9E9NMsCgfZkaq3nHhaDRAJ7a 6.171716543110251e-05\n",
      "1Ghb1yTzeqd4wwDHB2a8vyQZQVy5Wp6fiA 6.17018503741386e-05\n",
      "1PJYUY9PixCs398LNxCLM99QMSnLyLnXPM 6.153855063733577e-05\n",
      "125NYpUEF377vRqZ6Wp7p1uvrnecWS6C7D 6.149281561193979e-05\n",
      "1PtK2QWJUM4bLc3pcx1CKuAeV79EYffzYJ 6.148310635836228e-05\n",
      "1DAMN99DDySSbc8YvKEMEP9RyRX7Stj9pw 6.122953747498328e-05\n",
      "3GZJP33D3LEDAnxuhp4a4uqSpSojFKuREX 6.10561998702182e-05\n",
      "3AdbkaMKBzzokkfdMzam9mo6YQCq7rtU5W 6.1004644732310516e-05\n",
      "1PSLS19V2VxNZXsfYsmMkpQcQQmZbnohG4 6.0980050761631046e-05\n",
      "1F7BXduEpFHU5JAHYjJkiwLbkXducDeWSe 6.078320094106542e-05\n",
      "14tpPry6mgsrbanAc6zpyj9gN9tvPqhEsz 6.0719670140784064e-05\n",
      "1PkK3hK7pLsWhrxxNy8GQdmsk5vqazUzyF 6.0089908816322206e-05\n",
      "38ENmTr2AD1avJrmmi9iM7PfS6nZVmuMKf 5.9688380198367555e-05\n",
      "19Ggq841hPj7eMjJdX1MoongMQ3f7vFXbY 5.967686064888377e-05\n",
      "3QyUSB4eRYePHcvpS6k6YDMBUDGXRSSMPc 5.964685241180435e-05\n",
      "1BKhEsYKhw5FD4pJ6f7JstobjjRFuqQ2YD 5.9389583368741616e-05\n",
      "1853FPDsiDLzQYMSKAYtnrX7M3VDbHudJ1 5.9249366852939575e-05\n",
      "1GzVLxYfHyyvdbfTnQ76GHgPuUSa4F2iuM 5.914614184097832e-05\n",
      "1626SYJXbAxpRAzKsQ1EQkobUyHF6sdDfC 5.879404422001988e-05\n",
      "3DbtcLpeVS4YgC14kTFPMgJ6Q1th7z99DQ 5.8784714818502585e-05\n",
      "1KEyvenDoR2pPGsioybSZhcMKHKvi7JsMk 5.872903044601325e-05\n",
      "3GtyvWRyUjusE63ivixzhdRM4nPVMK2V3p 5.850471344190854e-05\n",
      "1J97TKb8oANHcrKVajnvaD6ip3GKwPc3ww 5.815340865738387e-05\n",
      "3Qu2JazELgJMFKjW4x8UxPcPGZYyCB9ABx 5.805548669397965e-05\n",
      "3D9ZVpKTeWBpW49S5duSkkGV8eV71ng1u6 5.7904431654879965e-05\n",
      "34zeYUYkBgQGgNXswkkUscaQAw5TBW6P7r 5.7454480474583055e-05\n",
      "14ZuRxH1VAnoJZLNmtgmWc4tM1oJo8HThb 5.73707477304779e-05\n",
      "36ZYZTa1CU6gJHNkE7QhsC7ab1KnuPgbaF 5.7192202455329815e-05\n",
      "39V3WKn6f2PMg43X4rRvgvP3Joe3P12SdY 5.716771232438209e-05\n",
      "3LexzdZvZmFqYSsMRM82wAbadZmacXeJV1 5.710464638860434e-05\n",
      "1Brd9YsYnpaNTTKMFxzPkkJsXhCJBpWrn1 5.707835214036323e-05\n",
      "12Ceka3AUArGCijiZQ6teCJ9tvPWoA4tTH 5.7060283134288644e-05\n",
      "31wpB9weXg1u3yjLqbk4XHVkwQPKBkHxjZ 5.662149929848518e-05\n",
      "1PK92CgG5PFVcVrwkFb7oRDQmiPD9kRrZ5 5.623341398070515e-05\n",
      "3JQ8eVt97pn8XbzoBJwir441Degm8PBBzd 5.622934205828545e-05\n",
      "1Ji8nxpZgGu4qa3dK1ogrJLN4gdRk51wMw 5.6082979910433323e-05\n",
      "32GMmaAiqs1TVR9xu448xFUc9VzPmmmrfn 5.575109386345895e-05\n",
      "1DPxK4oUdH1ucAMijKPugxqG4HeRaEvLD 5.5743683233936026e-05\n",
      "3EcU5wL7L5aNxUtAQRjh2HQy5jBp384nWH 5.568681512341654e-05\n",
      "3P4xGvLm6GuKa8B4okNhBxnZmDpxqrHAAR 5.568521161104782e-05\n",
      "13v5GihULqeQRUr4K25Awh1w7LLGTaiCms 5.565063395734408e-05\n",
      "37V8Zx2qtjT3RP88msCpcpWT2k3oycyrVV 5.556305884437482e-05\n",
      "1DG8t4uaLC6vFkwTaG6zdvDsGR2bKxdHLR 5.541018697430541e-05\n",
      "199fLfipMGghn7EwiZztVzK46D4d8oeNNV 5.536745299383412e-05\n",
      "36QyBuiFRpHsH7JizLYsNhmBar2o3J9Tw9 5.536745299383412e-05\n",
      "382coTmarPWnn1vJV3b4ChDqQq9DZt6Veh 5.536542142320444e-05\n",
      "3JYT9CEeCZH3PQxXWbp8X5g2UzFPg5scHc 5.5356934139778635e-05\n",
      "3AtVxemBwZTtmHexDdv5s5zk6aLSkQQUjq 5.4905911910784315e-05\n",
      "1LxyRDiNaYHxaF6RWbvZdrYy9xiKhtt6pQ 5.48861132929584e-05\n",
      "3MTDSu46SkxNX432nVXXc4mo3XLKYx8csD 5.475653077256284e-05\n",
      "1JaphmYiFKxWi5G4ChigNWkCKM5uaJB8B 5.463524554524573e-05\n",
      "3QNyurzSmayZHxDkTM93VjXhKnYRssSfLa 5.463524554524573e-05\n",
      "12Rs4uRbpkewMwoNH8nmZ9KVn5RMGX6Wq1 5.454801011233103e-05\n",
      "3EWVw7yZdvteFNG5AZoaZKY2nSEwAscSXe 5.4504086306636024e-05\n",
      "3DtP61MDHAZFNqfks35z6GiV1VqM97NYLF 5.444623544059783e-05\n",
      "1K7titajuFCGfv8qN35oxaRa87V2GevqaA 5.433795321575413e-05\n",
      "34Jc8GQD6VyvDs6NBKyeqz5q35t8NrW7M8 5.433748688342278e-05\n",
      "17zSZNfE6HV6z899464SUvsSVJhqsdk3xw 5.4009605393590514e-05\n",
      "31kF9tmoqghGe4Upoh5mwGHnMRZA7Zgpk1 5.379746628641839e-05\n",
      "376RLSDYCWxhdGMJCQH7GmB5545yrfshNt 5.3771541768880054e-05\n",
      "3PZz3Ay9ZDBc4KXdmFhyRjrNAdm8hsMq7i 5.371070519778229e-05\n",
      "1C9FfeN1mxv5fyVNGJKNojpLAEjBd8nwKT 5.363768894497205e-05\n",
      "3DwMMQcLbYBrMNfw2nLpQBQ97vZLQoNLE7 5.363571113758613e-05\n",
      "1PbL8Hpa3zwkqTbxKsrhY4Sojx2jv3JSyP 5.34177755999185e-05\n",
      "161jgM1SbarNwd9WrHSKMQcnYRqG4K3HzY 5.3413420380462176e-05\n",
      "1Da5fnJcSA6bahwm8Tb1DXg8YhkiheW6ho 5.338503044960773e-05\n",
      "1779BrCmaiva7qx8UykY8GgJ18CHNPf1UF 5.3318502457163055e-05\n",
      "1PpACtt7wyVL3gwy9TXngv2wG1Vk6dVMby 5.324586997737293e-05\n",
      "1P3J7FSjh5jtyhKWPJAg5Aqtt1G1g91RS4 5.3232217191995794e-05\n",
      "3Ltv2sRtstpT6W6J1L1twqLMzsQdfCWtks 5.323003818210289e-05\n",
      "144Jd7MqXDoayopZCgF3PabtuaWMTVJhhp 5.313776376358357e-05\n",
      "1MX6mRfwb1Bxo22SWYwxZmVCq2eDmfHEg3 5.313097223429016e-05\n",
      "3K4M98dWvr8mpFyeTz8tJ8c49qEhQXUPUT 5.312955432090687e-05\n",
      "1AAkoWJeirzzsDoSNP7oM5yzANbaxHkmXC 5.3095540154301115e-05\n",
      "1DYMTxaPKt3c5KMhZqjTwjZN5miPRMVKP8 5.306299542285619e-05\n",
      "3JaGZJ7hKkXRy93dWHhttNWAGtkwgYQ1o2 5.292109974164141e-05\n",
      "3NcgvA5LKg7G4FP4r719E9U6wCCGFVq4T2 5.291961114294216e-05\n",
      "1FikqtLXjNAzNFvKEdaMHNYwn9bC61DrMP 5.2848581726544884e-05\n",
      "1Dzcu6PiNc6KcrSovpUxAWGgaym32bDij4 5.266515933655674e-05\n",
      "12QYZNbxvKgLXckdNQ82UKdd4xqaJZvQR3 5.2525838928335366e-05\n",
      "3MRdXjr8EiGtESqAs1Hv6aMVdkCNgXDedi 5.2505017491316744e-05\n",
      "3PTW5z5uQszfJWLQa4FLVdT3XoDsSiwpSk 5.2472878121295535e-05\n",
      "14Kby8q9ASLhksSvMHrzyu6cbGAXR69WHX 5.2424669066263145e-05\n",
      "17QmJcG5atxXUH73vPbjKbfVmQSqDLLXd2 5.235901292464896e-05\n",
      "12arjGHnXun3HWsS9oFtmk2NFHie5DmNKR 5.2347534578212235e-05\n",
      "1HQyHFJf9FitSVxsKJgMXEFgZPjAGdTXY2 5.224146582194541e-05\n",
      "17K8L4nAxKyU1SqfSKo4r8dUCSGrNoGdTR 5.216991306160702e-05\n",
      "16aspCX6NcMud914NhgFZsxyhL9gz77BRn 5.2078924449548926e-05\n",
      "33CAAAca2hyRRKofu8WTDr2Lnra2wh3X4o 5.2070267772084285e-05\n",
      "1GQSnzh9JRgipxC7btKvD3rBS8Zj8SVnAo 5.1834499922157394e-05\n",
      "32bWUGYpzHZxu4A2JF9M4W48AUxHMSvon5 5.180533385960746e-05\n",
      "35GkXyiDEDtnioqKwyCh6hLBSYzDNgwyDd 5.1526230655183546e-05\n",
      "152jHVTvjt9Z8QShTvGWTAHyiZWusqhn1P 5.150031580402152e-05\n",
      "15fKVgWQriMxpUyjLB4Djinqr27aDNKsLg 5.14959247515339e-05\n",
      "1M3yRvUXM45L4XmUyydVdAn9RDXqcDCDdR 5.1472878493160254e-05\n",
      "154hLUiGKdRDwJdw6YNgNmzeE9PNHtGYsD 5.147105764694212e-05\n",
      "39BEEpYqVvUx1NRBEqiHyGsaEK2niaJy3T 5.114209950520949e-05\n",
      "1PBtCbxo8fJC8vKdrH8JhLMgRaTz5nHcM5 5.097286066141509e-05\n",
      "1ED34TZ8feCy6SnWcLUHsX5wAze692Pn3F 5.097286066141509e-05\n",
      "192UfTzDs36ve3mNi3PQ1paEyGq8UiekMM 5.097275059800532e-05\n",
      "38tuSY53VCvqEinYtN4SQaQmzKhbdktg1h 5.094638627689695e-05\n",
      "1M8hxwYNvWnHkxUjFiF8Y829ni9NXkx3gA 5.094179424389623e-05\n",
      "1KT14MpbNeh4vcTF42X5ACDY251pZLjbz8 5.092323178667978e-05\n",
      "3JK2hSCMAJiBU7xeyHxZimkNHFxAq1o51d 5.07277103291438e-05\n",
      "3GWmNvnuEhiQgv4BJg2EuHu9hjLB6b4UMd 5.0192512922831036e-05\n",
      "1KMP4PdSRPPoKgNKnRgSzNKSJTPxxvrPiP 5.0192512922831036e-05\n",
      "3HD6tvh8QjHUushHUyVPpnP1famyVUtcia 5.005565954399822e-05\n",
      "1GCQj8tmXrrcPPsra8jAwb5sCoNde6uKxx 4.9854949937759754e-05\n",
      "3EKpfceoMJHmwjH74msxEKmbJwH6kTpd69 4.977907079622398e-05\n",
      "17B1DuaJe824F7KGX8vnH1W8FFKiKTW2Fy 4.974987459195563e-05\n",
      "3JcqSdM19rkgkWahJfsghWqkgnDsd5jR8L 4.958033481938661e-05\n",
      "1FJtDtvP3RLkXUtxH4efzMrHpKbWqBLyWw 4.953694666985748e-05\n",
      "3DWEmVYedP23pvQTxV5qZ3vGiubZ1vqizP 4.953694666985748e-05\n",
      "3Q6vpPnVByYUibeDLUYMD2ExuMsErzYFxw 4.950319111664628e-05\n",
      "1PKQWc1F7e7qigMkPFozM6kMWigvVcf5YD 4.9366997576866736e-05\n",
      "14We1bbHqPhT1iFrJAoEw772GraB8XKN9D 4.907731963267627e-05\n",
      "34iRR8nNUpfP7g4hNoNUh2zUeEXmgWg4Vs 4.9038556867600494e-05\n",
      "15EQECiy7J8mY72WpUDgPiC9qqbxwgdF6a 4.8975909361258194e-05\n",
      "1PAVnp6QWD4Efn4ttXNyL4ipYEHnzskuLW 4.894169781947914e-05\n",
      "1Po1oWkD2LmodfkBYiAktwh76vkF93LKnh 4.893417992569921e-05\n",
      "16J4ZH3thD7C6WVFmXFtoZUFRsByrBHDCv 4.8791651253546934e-05\n",
      "183QuJoyK9JuGEqju6usGXPUvnL7kj8qgm 4.875142960121866e-05\n",
      "1KdE4MjnLKwX2dyYxZ6YfKsnDoE3SFMZJZ 4.8640258246266285e-05\n",
      "1Coinima7BE7uARUWgsHFZWQ4ipKFtqDBi 4.857978898712231e-05\n",
      "1364FzKLbxoiG23CDUF8odn9PtKjZxkrdm 4.841172937407462e-05\n",
      "3FAyJdho46dUKztexBVrbwWP9fv74vJ9i2 4.83745040470444e-05\n",
      "3QJKuUQUN6j9nM7LmsND8T3pzYvxHwBwS3 4.836336669222098e-05\n",
      "175N3Et8n1epm5YkYgn77GDdVAemekvXkk 4.833104583056821e-05\n",
      "1JYwC1Di1HZaD8f6MCNkRr3TEnu87TPUYQ 4.803764505836852e-05\n",
      "3ARxg3BVSTDsmWfRFqzb5UXGdHzcieuGah 4.8004216696045246e-05\n",
      "3Akvu3XtmTGVdkSKiALb1dpHZmSy51TE2S 4.7876546466137193e-05\n",
      "3PcCqfoUNRPqxuDdxpdJGoeAY1J1aCzx3j 4.787123454248091e-05\n",
      "3H9wsq38eJTctQSTGzEeFqpo6gyDoB5SNn 4.782676179453062e-05\n",
      "3JshS1V3VrnzKXNWettiTB7agB1sUr4C8x 4.7715422751716385e-05\n",
      "3B3M59ZpE32Ty4htbc6szwkHmb6T72Ntzq 4.764694013424697e-05\n",
      "16oo1xKYuT4woRXpYS1uhcFh8FLP3DyqYu 4.7616398746786166e-05\n",
      "1JtZ5962Uro4Wub9hNXC9wTfeJ6mwkwMW4 4.760027700593145e-05\n",
      "1N5bsH7rERasPXvXZtVAuadvonkMGgs8Zp 4.748029361359483e-05\n",
      "3QVEeunebKMSEnVmSnA9fvPPujZsWZRz4C 4.7419255790252194e-05\n",
      "1BBGnq1gi9H4VuTUGbrsNpBWix2tofrpA2 4.7385765416252096e-05\n",
      "1ACPpuC5GAvRBAbXWcxxxjU9ZpqsPY9xMh 4.7202779155684646e-05\n",
      "1BRwWCjh4w4uuA73HGPLmBob9ucJdBKwoS 4.7172024692463496e-05\n",
      "1CfAo3p23FZTGJHebGtTebWKqAPENBkqYu 4.716815091928187e-05\n",
      "3CjRjwsvVvHoeA8joVBSchkX6hd4cAvRkM 4.710259044736245e-05\n",
      "18wBqtZxqYnP3adiiK2qnBikpvB2zyx8pk 4.7094048459007145e-05\n",
      "1G3fhUnAK3dTFQ5ugbc2HPHZD7MG3CDkJp 4.7094048459007145e-05\n",
      "1JzPtz8rGj88yeXKG599Z8QcyjmyKL3Fhu 4.702066356412594e-05\n",
      "19rDYsczGg9cFEizwDwSbFK9wUebx8kejS 4.688744634180051e-05\n",
      "15fvom8PHHmvt4XDYjNAyUsZ2yn4JcTXPb 4.681972816715557e-05\n",
      "3L5ZvAXDVxnkUrx34H3PBxVZ6CRiUSwmFU 4.6774567816534944e-05\n",
      "14bK5GAZqdfdTFMDNbih7DHuNauw5Eyz69 4.6465175944922216e-05\n",
      "31to5521xj6jQHHGXqfjnQWq7jhc3pTTCb 4.631123726927943e-05\n",
      "1J2WFxYaAcusyVRkpzk6cm1kwnAcXFAnBr 4.629490133734521e-05\n",
      "3Hk29EZkM8dUYpwuXkv4DDCPhkcnztRYy1 4.6249717815933765e-05\n",
      "354jKLJJ7H5d1b45VRavupk3TwRCGqzCcg 4.620570096715953e-05\n",
      "3JR6ZBKSwF9x2SbutSc5WG7ySko6rFNvtw 4.619571302973594e-05\n",
      "1CUZE8gvJHTSztbSkh48UVX5sMoKzJHknt 4.618113730578618e-05\n",
      "17jEQRH7o4p3r7hjiGYWzvwC3JrDiGy1Yg 4.604274924861397e-05\n",
      "33SQ8v1VP2ejosifC7Cwy6ksq32W7DdH4H 4.6033498661013616e-05\n",
      "1NFySYcgMNCisdw7UPNVJ2D4Q1CqnY8Zbt 4.6019026367814874e-05\n",
      "34Dtp3WKoT3KhJbvV7S6YTwiaPps6ktd4D 4.5988694513756625e-05\n",
      "3MBgDqtFaGL2QtkaXLMR2MnazEvoy1tVqj 4.5925511069269734e-05\n",
      "19KqQPnfRMGiEiewuY1xPuFwekisXq8kPD 4.583410863186631e-05\n",
      "1AATCoSn5kLXF4XB77aDJniUEFm1A35sD1 4.580962766395652e-05\n",
      "1AswffjVBuYZ5huTkwxFsEXaTExp1ZdkrT 4.5772324210529214e-05\n",
      "3JS2BHVQQsXWqtTVtWf6WGeztqhLfhscR6 4.576064895381838e-05\n",
      "1DwLLRCKsjC9yN1ynkVyN6wTc8QoLr1Xnn 4.574176707393092e-05\n",
      "1JV2D1SAk7Me7SjAYmeF8joaX49dYBMeVG 4.5724557197626226e-05\n",
      "32PXqwQgtcuY2X4CknHhbnWhYsNLXNxoWk 4.5692973180221625e-05\n",
      "33NfB8YEzPGxgpiCXitjHpH9SbRQr9FPTx 4.5642446646557624e-05\n",
      "39X827MWgL4TW3hDRWnmrTbefZ2rZjoGtE 4.56372250020141e-05\n",
      "3H5j3d8bQumA8tNP2XbNLRxbcoSZ19a399 4.5569341440739564e-05\n",
      "31iRKZCoJTKP5FbopiToq8GJthuAYyk5m9 4.5459432815082486e-05\n",
      "1Ht6KFWSHi61qZrChH2jE26iL2kXorNibk 4.53261287826449e-05\n",
      "3AContXpWKCr5NHjn1AMCFYXCKbyreW5w8 4.4940359704451724e-05\n",
      "1GiPD5ZzThUAN8EboWgzzH4boSyzCCm3eT 4.4796354356019424e-05\n",
      "1P8SugMNRpLgX3zhhspg2bXATToUA8WhSE 4.4785246596563745e-05\n",
      "3AfUFB82ushmhhB7CLcHwempKsFyoKAWAN 4.477549900121568e-05\n",
      "1KF5YtDQEpfEZm4pqf16SCpcotiW6pwte3 4.474654570746947e-05\n",
      "1AvLQhXAquUrc9WU93Vgkp2yNtPvnASGxk 4.471876023211562e-05\n",
      "1HgW5tqFMFSDaL4BajCE6kCRvCyW3H6noE 4.4583846785704385e-05\n",
      "19Af2DhwADtiE4oVeTt124ZYwZcF9FQouF 4.4573123980883036e-05\n",
      "1NZnAzVYw4kyTn81RkdQQSsCY3kiuHXFU6 4.454730947406509e-05\n",
      "1BvTQTP5PJVCEz7dCU2YxgMskMxxikSruM 4.452140023610465e-05\n",
      "1HiFwxGuqHrhgTF91XXnfLfBS2FaPt3HWr 4.432689580434985e-05\n",
      "1PkFGyyLt4T6bQtByxe3vNApWRM6dkJAip 4.4307594182859945e-05\n",
      "14N7GSPjPpp9odmwPPfSpyUZFaTEuEQFhh 4.429260496664666e-05\n",
      "3JEyFvp9NEfBuTrdffVRekafUNCmAFgus4 4.427808909334105e-05\n",
      "34bVtANqfDkNhTuE6Jo2KmTEtf9iSGoQjE 4.416790664576514e-05\n",
      "1LYFRQKfdZ8yYfmv7zcBUaTUwtpJ4CSATm 4.4149024765877676e-05\n",
      "1FCudqjJgCkh1ibcqZWQABZL8pcrj1LMHG 4.4084502545759333e-05\n",
      "388akJkXJrp6EFwh52DNYfkQbWoiW2U8YE 4.402634559048318e-05\n",
      "33n6KvPVpTMdaSwg9n8erkXkgUvidoe92B 4.396044457747778e-05\n",
      "13EU6d3ysRs8YMc2X9xY9hbeqTHdX9jyRL 4.389746080068741e-05\n",
      "1M3fLbSYGuAtZLcxNhwCWCv45N3nJ9iyTH 4.38305175478678e-05\n",
      "3MCKBW9r3Jq3AdaQsj3Z2QZUETusmJSqsB 4.382297439509861e-05\n",
      "33LeCF2wecgnPjFWEauLQQjcdH2TzFinbY 4.382154373276188e-05\n",
      "34vhZ7kwvb83cpiww1qmDkfxHF3TyS2WVx 4.381637390385801e-05\n",
      "3A8wvoUUcWpPDyzL46M9aV4FSEQfMypF8Z 4.360575147865087e-05\n",
      "3GvYicUz8pDswks1EEBr7PW7UsAFLquqQs 4.36024119954415e-05\n",
      "37TuTixHKcGbNy1h4NP7fYCt5bryZs3jzX 4.36024119954415e-05\n",
      "1Ha9n4VJNuYXVg6wYJkANUudWynYeAq3JL 4.339165996510284e-05\n",
      "17feRJn1ZiPJm518f8xAEX6WHvs3G49vTH 4.3382489423858746e-05\n",
      "3DQu9YQre1PbJLww1REouCmKrRY339d2bY 4.32810182952294e-05\n",
      "1D2QHSd7Aq4728D8YQkLGE38afqxpXJP3Q 4.323260076697595e-05\n",
      "1Ca64jeoUB9YBvikKCuMDPUXhC8ZArR1Re 4.323175868741207e-05\n",
      "15EdkAPdtmsiaSfwshGuZU7MQVTdh6zcEE 4.3206674381687896e-05\n",
      "17HckDEN5ZSREmN2bJiqBqjf1QXFcWq9UN 4.3086807219663624e-05\n",
      "1MYF1fyVSEFSUswz1Fd9TPSqmPQ3jh3w7C 4.303256404736279e-05\n",
      "1FGpUFeK8wMxRrfhtMcc9redTwX2w49uU4 4.299772489025608e-05\n",
      "3Fq9mfj34jH7a8A423XV9YnjtXnD6Vd4UU 4.285345556558223e-05\n",
      "1HnJEar59vRP9pY3hQe7CSwrNouFt8UKEE 4.2822201416081145e-05\n",
      "32dmzXdvinPa7aVTjD24WGfeVtfF6cH6Jf 4.279946366563225e-05\n",
      "16XW7gug1eXsE2E2JHErPNg1zve4RBvZE9 4.2783127733698036e-05\n",
      "3BUbejc5LDfwg4zCTavmeFRexT7YZ8KTwn 4.276557223789083e-05\n",
      "12x5UYP4FgxUYipJj25N8ZohAqtN6S8eYR 4.2755975582530125e-05\n",
      "3K8U4cQAperNsqtfNo1TFSDLbpgsbpEFvW 4.275410567743124e-05\n",
      "1MDY66ydrMtN1EmPYwBJskP2wkikrr7WGZ 4.257007308304134e-05\n",
      "3JvLVdAXVN1uDyKvoNgisJPKB6QCG1V5eB 4.241091874085561e-05\n",
      "16WUcevDs5thPeF9q55Nqcg6Atz91GEkVG 4.2318355160175036e-05\n"
     ]
    }
   ],
   "source": [
    "# PageRank\n",
    "page_rank = nx.pagerank(graph_nx, alpha=0.9)\n",
    "\n",
    "for txn_hash in sorted(page_rank, key=page_rank.get, reverse=True)[:500]:\n",
    "    print(txn_hash, page_rank[txn_hash])\n",
    "    \n",
    "# The PageRank algorithm was designed for directed graphs but this algorithm does not check if the input graph is directed and will execute on undirected graphs by converting \n",
    "# each edge in the directed graph to two edges."
   ]
  },
  {
   "cell_type": "markdown",
   "id": "d112b6e8",
   "metadata": {},
   "source": [
    "Definition: PageRank is a variant of EigenCentrality, also assigning nodes a score based on their connections, and their connections’ connections. The difference is that PageRank also takes link direction and weight into account – so links can only pass influence in one direction, and pass different amounts of influence.\n",
    "\n",
    "What it tells us: This measure uncovers nodes whose influence extends beyond their direct connections into the wider network.\n",
    "\n",
    "When to use it: Because it takes into account direction and connection weight, PageRank can be helpful for understanding citations and authority.\n",
    "\n",
    "A bit more detail: PageRank is famously one of the ranking algorithms behind the original Google search engine (the ‘Page’ part of its name comes from creator and Google founder, Larry Page)."
   ]
  },
  {
   "cell_type": "code",
   "execution_count": 69,
   "id": "e0442705",
   "metadata": {
    "ExecuteTime": {
     "end_time": "2022-05-17T19:57:15.816434Z",
     "start_time": "2022-05-17T19:33:35.232713Z"
    }
   },
   "outputs": [
    {
     "data": {
      "text/plain": [
       "961609"
      ]
     },
     "execution_count": 69,
     "metadata": {},
     "output_type": "execute_result"
    }
   ],
   "source": [
    "# Community detection label propagation\n",
    "communities = label_propagation_communities(graph_nx) # only for unidrected graphs\n",
    "len([community for community in communities])"
   ]
  },
  {
   "cell_type": "code",
   "execution_count": 70,
   "id": "8524dbbf",
   "metadata": {
    "ExecuteTime": {
     "end_time": "2022-05-17T20:56:44.772661Z",
     "start_time": "2022-05-17T19:57:15.818288Z"
    }
   },
   "outputs": [
    {
     "data": {
      "text/plain": [
       "209066"
      ]
     },
     "execution_count": 70,
     "metadata": {},
     "output_type": "execute_result"
    }
   ],
   "source": [
    "# Community detection with python-louvain\n",
    "partition = community_louvain.best_partition(graph_nx)\n",
    "len(set(partition.values()))"
   ]
  },
  {
   "cell_type": "code",
   "execution_count": 111,
   "id": "68378390",
   "metadata": {
    "ExecuteTime": {
     "end_time": "2022-05-17T22:25:33.571535Z",
     "start_time": "2022-05-17T22:25:06.470657Z"
    }
   },
   "outputs": [
    {
     "name": "stdout",
     "output_type": "stream",
     "text": [
      "Graph with 3852506 nodes and 9842639 edges\n"
     ]
    }
   ],
   "source": [
    "# Compute the giant component of the overall graph\n",
    "Gcc = sorted(nx.connected_components(graph_nx), key=len, reverse=True)\n",
    "G0 = graph_nx.subgraph(Gcc[0])\n",
    "\n",
    "print(nx.info(G0))"
   ]
  },
  {
   "cell_type": "markdown",
   "id": "2cd5d610",
   "metadata": {},
   "source": [
    "A giant component is a connected component of a network that contains a significant proportion of the entire nodes in the network."
   ]
  },
  {
   "cell_type": "code",
   "execution_count": 112,
   "id": "ea7d8f73",
   "metadata": {
    "ExecuteTime": {
     "end_time": "2022-05-17T22:26:40.895137Z",
     "start_time": "2022-05-17T22:25:33.573093Z"
    }
   },
   "outputs": [],
   "source": [
    "# Save the giant component \n",
    "nx.write_gml(G0, \"Giant Component.gml\")"
   ]
  },
  {
   "cell_type": "code",
   "execution_count": 113,
   "id": "feaf4f1b",
   "metadata": {
    "ExecuteTime": {
     "end_time": "2022-05-17T22:26:49.241699Z",
     "start_time": "2022-05-17T22:26:40.896828Z"
    }
   },
   "outputs": [
    {
     "name": "stdout",
     "output_type": "stream",
     "text": [
      "Graph with 5526 nodes and 5561 edges\n"
     ]
    }
   ],
   "source": [
    "# The second strongest component\n",
    "Gcc = sorted(nx.connected_components(graph_nx), key=len, reverse=True)\n",
    "G1 = graph_nx.subgraph(Gcc[1])\n",
    "\n",
    "print(nx.info(G1))"
   ]
  },
  {
   "cell_type": "code",
   "execution_count": 72,
   "id": "ceb96285",
   "metadata": {
    "ExecuteTime": {
     "end_time": "2022-05-17T20:57:12.997735Z",
     "start_time": "2022-05-17T20:57:12.996045Z"
    }
   },
   "outputs": [],
   "source": [
    "# # Compute the average shortest path of the giant component\n",
    "# sp = nx.average_shortest_path_length(G0)\n",
    "# sp"
   ]
  },
  {
   "cell_type": "code",
   "execution_count": 73,
   "id": "cb15caba",
   "metadata": {
    "ExecuteTime": {
     "end_time": "2022-05-17T20:57:16.769712Z",
     "start_time": "2022-05-17T20:57:12.999224Z"
    }
   },
   "outputs": [],
   "source": [
    "G0_nodes = list(G0.nodes)"
   ]
  },
  {
   "cell_type": "code",
   "execution_count": 74,
   "id": "85a29966",
   "metadata": {
    "ExecuteTime": {
     "end_time": "2022-05-17T20:57:17.706378Z",
     "start_time": "2022-05-17T20:57:16.770720Z"
    }
   },
   "outputs": [
    {
     "name": "stdout",
     "output_type": "stream",
     "text": [
      "21773\n"
     ]
    }
   ],
   "source": [
    "# Count number of fraudulent input addresses from giant component\n",
    "count = sum(f in G0_nodes for f in input_fraud['input_address'])\n",
    "print(count)"
   ]
  },
  {
   "cell_type": "code",
   "execution_count": 75,
   "id": "3d02ee82",
   "metadata": {
    "ExecuteTime": {
     "end_time": "2022-05-17T20:57:17.956812Z",
     "start_time": "2022-05-17T20:57:17.709518Z"
    }
   },
   "outputs": [
    {
     "name": "stdout",
     "output_type": "stream",
     "text": [
      "182\n"
     ]
    }
   ],
   "source": [
    "# Unique fraudulent input addresses from giant component\n",
    "G0_nodes_set = set(G0_nodes)\n",
    "input_fraud_set = set(input_fraud['input_address'])\n",
    "\n",
    "count = len(G0_nodes_set.intersection(input_fraud_set))\n",
    "print(count) # all fraudulent input addresses "
   ]
  },
  {
   "cell_type": "code",
   "execution_count": 105,
   "id": "22aaf859",
   "metadata": {
    "ExecuteTime": {
     "end_time": "2022-05-17T21:31:45.217742Z",
     "start_time": "2022-05-17T21:31:45.204876Z"
    }
   },
   "outputs": [
    {
     "name": "stdout",
     "output_type": "stream",
     "text": [
      "<class 'set'>\n",
      "\n",
      "Length of the set:  182\n"
     ]
    }
   ],
   "source": [
    "# Number of illicit input nodes within the giant component - same as the overall graph\n",
    "print(type(input_fraud_set))\n",
    "print(\"\\nLength of the set: \", len(input_fraud_set))"
   ]
  },
  {
   "cell_type": "code",
   "execution_count": 77,
   "id": "75acdf51",
   "metadata": {
    "ExecuteTime": {
     "end_time": "2022-05-17T20:57:40.289752Z",
     "start_time": "2022-05-17T20:57:17.960573Z"
    }
   },
   "outputs": [
    {
     "name": "stdout",
     "output_type": "stream",
     "text": [
      "552170\n"
     ]
    }
   ],
   "source": [
    "# Count number of fraudulent output addresses from giant component\n",
    "count = sum(f in G0_nodes for f in output_fraud['output_address'])\n",
    "print(count)"
   ]
  },
  {
   "cell_type": "code",
   "execution_count": 78,
   "id": "faf4751e",
   "metadata": {
    "ExecuteTime": {
     "end_time": "2022-05-17T20:57:40.585052Z",
     "start_time": "2022-05-17T20:57:40.290647Z"
    }
   },
   "outputs": [
    {
     "name": "stdout",
     "output_type": "stream",
     "text": [
      "4263\n"
     ]
    }
   ],
   "source": [
    "G0_nodes_set = set(G0_nodes)\n",
    "output_fraud_set = set(output_fraud['output_address'])\n",
    "\n",
    "count = len(G0_nodes_set.intersection(output_fraud_set))\n",
    "print(count)  # all fraudulent output addresses "
   ]
  },
  {
   "cell_type": "code",
   "execution_count": 104,
   "id": "73323cf1",
   "metadata": {
    "ExecuteTime": {
     "end_time": "2022-05-17T21:31:26.019838Z",
     "start_time": "2022-05-17T21:31:26.012444Z"
    }
   },
   "outputs": [
    {
     "name": "stdout",
     "output_type": "stream",
     "text": [
      "<class 'set'>\n",
      "\n",
      "Length of the set:  4429\n"
     ]
    }
   ],
   "source": [
    "# Number of illicit output nodes within the giant component - 34 nodes less compared to the overall graph\n",
    "print(type(output_fraud_set))\n",
    "print(\"\\nLength of the set: \", len(output_fraud_set))"
   ]
  },
  {
   "cell_type": "code",
   "execution_count": 80,
   "id": "945cfd51",
   "metadata": {
    "ExecuteTime": {
     "end_time": "2022-05-17T20:57:50.263714Z",
     "start_time": "2022-05-17T20:57:40.590580Z"
    }
   },
   "outputs": [
    {
     "name": "stdout",
     "output_type": "stream",
     "text": [
      "Graph with 1 nodes and 1 edges\n"
     ]
    }
   ],
   "source": [
    "# Compute weakly connected component of the overall graph\n",
    "Gcc = sorted(nx.connected_components(graph_nx), key=len, reverse=False)\n",
    "G2 = graph_nx.subgraph(Gcc[0])\n",
    "\n",
    "print(nx.info(G2))"
   ]
  },
  {
   "cell_type": "code",
   "execution_count": null,
   "id": "d6c13c6a",
   "metadata": {},
   "outputs": [],
   "source": []
  }
 ],
 "metadata": {
  "kernelspec": {
   "display_name": "Python 3 (ipykernel)",
   "language": "python",
   "name": "python3"
  },
  "language_info": {
   "codemirror_mode": {
    "name": "ipython",
    "version": 3
   },
   "file_extension": ".py",
   "mimetype": "text/x-python",
   "name": "python",
   "nbconvert_exporter": "python",
   "pygments_lexer": "ipython3",
   "version": "3.9.12"
  }
 },
 "nbformat": 4,
 "nbformat_minor": 5
}
