{
 "cells": [
  {
   "cell_type": "code",
   "execution_count": 5,
   "metadata": {},
   "outputs": [],
   "source": [
    "# Requirements\n",
    "import pandas as pd\n",
    "import numpy as np\n",
    "import networkx as nx\n",
    "\n",
    "import pickle\n",
    "import os\n",
    "\n",
    "from node2vec import Node2Vec\n",
    "import sklearn\n",
    "from sklearn.model_selection import train_test_split, RandomizedSearchCV, StratifiedKFold, GridSearchCV\n",
    "from sklearn.metrics import f1_score, recall_score, precision_score, roc_auc_score, classification_report\n",
    "from sklearn.pipeline import Pipeline\n",
    "from sklearn.preprocessing import StandardScaler\n",
    "from sklearn.linear_model import LogisticRegression\n",
    "from sklearn.ensemble import RandomForestClassifier\n",
    "from sklearn.svm import SVC\n",
    "\n",
    "import networkx as nx\n",
    "\n",
    "from imblearn.over_sampling import SMOTE\n",
    "from imblearn.combine import SMOTEENN, SMOTETomek\n",
    "from xgboost import XGBClassifier\n",
    "from sklearn.metrics import recall_score, precision_score, f1_score, confusion_matrix, ConfusionMatrixDisplay\n",
    "import matplotlib.pyplot as plt\n",
    "\n",
    "import random\n",
    "random.seed(42)\n",
    "\n",
    "import warnings\n",
    "warnings.filterwarnings('ignore')"
   ]
  },
  {
   "cell_type": "code",
   "execution_count": 6,
   "metadata": {},
   "outputs": [],
   "source": [
    "import sys\n",
    "sys.path.append('../src')\n",
    "\n",
    "from trans2vecfunc import *\n",
    "from mlmethodsligh import *"
   ]
  },
  {
   "cell_type": "code",
   "execution_count": 7,
   "metadata": {},
   "outputs": [],
   "source": [
    "# Include the label of the addresses\n",
    "# Fraudulent\n",
    "output_labels = pickle.load(open(\"../../bse_clovrlabs_btc_fraud/data/output_labels.txt\",'rb'))\n",
    "input_labels = pickle.load(open(\"../../bse_clovrlabs_btc_fraud/data/input_labels.txt\",'rb'))\n",
    "fraudulent_nodes = list(set(list(output_labels) + list(input_labels)))"
   ]
  },
  {
   "cell_type": "markdown",
   "metadata": {},
   "source": [
    "***Sampling method of randomly selected nodes***"
   ]
  },
  {
   "cell_type": "code",
   "execution_count": 8,
   "metadata": {},
   "outputs": [],
   "source": [
    "rn = ['outputs/random_nodes/' + name for name in os.listdir('outputs/random_nodes/') if name.endswith('csv')]\n",
    "mm = ['outputs/mixed_method/' + name for name in os.listdir('outputs/mixed_method/') if name.endswith('csv')]\n",
    "rw = ['outputs/random_walk/' + name for name in os.listdir('outputs/random_walk/') if name.endswith('csv')]\n",
    "db = ['outputs/biased_degree/' + name for name in os.listdir('outputs/biased_degree/') if name.endswith('csv')]\n",
    "nm = ['outputs/neighbors_method/' + name for name in os.listdir('outputs/neighbors_method/') if name.endswith('csv')]"
   ]
  },
  {
   "cell_type": "markdown",
   "metadata": {},
   "source": [
    "***Compute the performace using random nodes (CS) method with trans2vec***"
   ]
  },
  {
   "cell_type": "code",
   "execution_count": 9,
   "metadata": {},
   "outputs": [
    {
     "name": "stdout",
     "output_type": "stream",
     "text": [
      "Doing:   outputs/random_nodes/g_ss_rn_1.csv ...\n",
      "Doing:   outputs/random_nodes/g_ss_rn_7.csv ...\n",
      "Doing:   outputs/random_nodes/g_ss_rn_2.csv ...\n",
      "Doing:   outputs/random_nodes/g_ss_rn_5.csv ...\n",
      "Doing:   outputs/random_nodes/g_ss_rn_4.csv ...\n",
      "Doing:   outputs/random_nodes/g_ss_rn_6.csv ...\n",
      "Doing:   outputs/random_nodes/g_ss_rn_3.csv ...\n",
      "Doing:   outputs/random_nodes/g_ss_rn_9.csv ...\n",
      "Doing:   outputs/random_nodes/g_ss_rn_0.csv ...\n",
      "Doing:   outputs/random_nodes/g_ss_rn_8.csv ...\n"
     ]
    }
   ],
   "source": [
    "all_results = [] # Save results\n",
    "\n",
    "for file in rn:\n",
    "    print('Doing:  ', file, '...')\n",
    "    df = pd.read_csv(file)\n",
    "    df_t2v = df_trans2vec(df, fraudulent_nodes)\n",
    "    df_t2v.to_csv('outputs/Embeddings/trans2vec/' + file.replace('outputs/', ''))\n",
    "    \n",
    "    X = df_t2v.drop('label', axis=1)\n",
    "    y = df_t2v['label']\n",
    "    \n",
    "    logit = logistic_regresion(X, y) # Logit results\n",
    "    logit['model'] = 'Logit'\n",
    "    \n",
    "    rf = random_forest(X, y) # Rf results\n",
    "    rf['model'] = 'RF'\n",
    "    \n",
    "    df_res = pd.concat([logit,rf])\n",
    "    df_res['graph'] = file.replace('.csv', '')\n",
    "    \n",
    "    all_results.append(df_res)\n",
    "    \n",
    "final_results = pd.concat(all_results)\n",
    "final_results.to_csv('outputs/results/trans2vec/RN_trans2vec_results_ligh.csv', index=False)"
   ]
  },
  {
   "cell_type": "markdown",
   "metadata": {},
   "source": [
    "***Compute the performace using the mixed method (MS) with trans2vec***"
   ]
  },
  {
   "cell_type": "code",
   "execution_count": 10,
   "metadata": {},
   "outputs": [
    {
     "name": "stdout",
     "output_type": "stream",
     "text": [
      "Doing:   outputs/mixed_method/g_as_mm_9.csv ...\n",
      "Doing:   outputs/mixed_method/g_as_mm_4.csv ...\n",
      "Doing:   outputs/mixed_method/g_as_mm_2.csv ...\n",
      "Doing:   outputs/mixed_method/g_as_mm_5.csv ...\n",
      "Doing:   outputs/mixed_method/g_as_mm_7.csv ...\n",
      "Doing:   outputs/mixed_method/g_as_mm_3.csv ...\n",
      "Doing:   outputs/mixed_method/g_as_mm_6.csv ...\n",
      "Doing:   outputs/mixed_method/g_as_mm_1.csv ...\n",
      "Doing:   outputs/mixed_method/g_as_mm_0.csv ...\n",
      "Doing:   outputs/mixed_method/g_as_mm_8.csv ...\n"
     ]
    }
   ],
   "source": [
    "all_results = [] # Save results\n",
    "\n",
    "for file in mm:\n",
    "    print('Doing:  ', file, '...')\n",
    "    df = pd.read_csv(file)\n",
    "    df_t2v = df_trans2vec(df, fraudulent_nodes)\n",
    "    df_t2v.to_csv('outputs/Embeddings/trans2vec/' + file.replace('outputs/', ''), index=False)\n",
    "    \n",
    "    X = df_t2v.drop('label', axis=1)\n",
    "    y = df_t2v['label']\n",
    "    \n",
    "    logit = logistic_regresion(X, y) # Logit results\n",
    "    logit['model'] = 'Logit'\n",
    "    \n",
    "    rf = random_forest(X, y) # Rf results\n",
    "    rf['model'] = 'RF'\n",
    "    \n",
    "    df_res = pd.concat([logit,rf])\n",
    "    df_res['graph'] = file.replace('.csv', '')\n",
    "    \n",
    "    all_results.append(df_res)\n",
    "    \n",
    "final_results = pd.concat(all_results)\n",
    "final_results.to_csv('outputs/results/trans2vec/MM_trans2vec_results_ligh.csv', index=False)"
   ]
  },
  {
   "cell_type": "markdown",
   "metadata": {},
   "source": [
    "***Compute the performace using the random walk method (RWS) with trans2vec***"
   ]
  },
  {
   "cell_type": "code",
   "execution_count": 29,
   "metadata": {},
   "outputs": [],
   "source": [
    "all_results = [] # Save results\n",
    "\n",
    "for file in rw:\n",
    "    print('Doing:  ', file, '...')\n",
    "    df = pd.read_csv(file)\n",
    "    df_t2v = df_trans2vec(df, fraudulent_nodes)\n",
    "    df_t2v.to_csv('outputs/Embeddings/trans2vec/' + file.replace('outputs/', ''), index=False)\n",
    "     \n",
    "    X = df_t2v.drop('label', axis=1)\n",
    "    y = df_t2v['label']\n",
    "    \n",
    "    logit = logistic_regresion(X, y) # Logit results\n",
    "    logit['model'] = 'Logit'\n",
    "    \n",
    "    rf = random_forest(X, y) # Rf results\n",
    "    rf['model'] = 'RF'\n",
    "    \n",
    "    df_res = pd.concat([logit,rf])\n",
    "    df_res['graph'] = file.replace('.csv', '')\n",
    "    \n",
    "    all_results.append(df_res)\n",
    "    \n",
    "final_results = pd.concat(all_results)\n",
    "final_results.to_csv('outputs/results/trans2vec/RW_trans2vec_results_ligh.csv', index=False)"
   ]
  },
  {
   "cell_type": "markdown",
   "metadata": {},
   "source": [
    "***Compute the performace using the neighbors method (NS) with trans2vec***"
   ]
  },
  {
   "cell_type": "code",
   "execution_count": 43,
   "metadata": {},
   "outputs": [
    {
     "name": "stdout",
     "output_type": "stream",
     "text": [
      "Doing:   outputs/neighbors_method/g_ss_ne_0.csv ...\n",
      "Doing:   outputs/neighbors_method/g_ss_ne_8.csv ...\n",
      "Doing:   outputs/neighbors_method/g_ss_ne_1.csv ...\n",
      "Doing:   outputs/neighbors_method/g_ss_ne_3.csv ...\n",
      "Doing:   outputs/neighbors_method/g_ss_ne_5.csv ...\n",
      "Doing:   outputs/neighbors_method/g_ss_ne_7.csv ...\n",
      "Doing:   outputs/neighbors_method/g_ss_ne_2.csv ...\n",
      "Doing:   outputs/neighbors_method/g_ss_ne_6.csv ...\n",
      "Doing:   outputs/neighbors_method/g_ss_ne_9.csv ...\n",
      "Doing:   outputs/neighbors_method/g_ss_ne_4.csv ...\n"
     ]
    }
   ],
   "source": [
    "all_results = [] # Save results\n",
    "\n",
    "for file in nm:\n",
    "    print('Doing:  ', file, '...')\n",
    "    df = pd.read_csv(file)\n",
    "    df_t2v = df_trans2vec(df, fraudulent_nodes)\n",
    "    df_t2v.to_csv('outputs/Embeddings/trans2vec/' + file.replace('outputs/', ''), index=False)\n",
    "     \n",
    "    X = df_t2v.drop('label', axis=1)\n",
    "    y = df_t2v['label']\n",
    "    \n",
    "    logit = logistic_regresion(X, y) # Logit results\n",
    "    logit['model'] = 'Logit'\n",
    "    \n",
    "    rf = random_forest(X, y) # Rf results\n",
    "    rf['model'] = 'RF'\n",
    "    \n",
    "    df_res = pd.concat([logit,rf])\n",
    "    df_res['graph'] = file.replace('.csv', '')\n",
    "    \n",
    "    all_results.append(df_res)\n",
    "    \n",
    "final_results = pd.concat(all_results)\n",
    "final_results.to_csv('outputs/results/trans2vec/NM_trans2vec_results_ligh.csv', index=False)"
   ]
  },
  {
   "cell_type": "markdown",
   "metadata": {},
   "source": [
    "***Compute the performace using the degree biased random sampling (DS) method with trans2vec***"
   ]
  },
  {
   "cell_type": "code",
   "execution_count": 11,
   "metadata": {},
   "outputs": [
    {
     "name": "stdout",
     "output_type": "stream",
     "text": [
      "Doing:   outputs/biased_degree/g_ss_bd_0.csv ...\n",
      "Doing:   outputs/biased_degree/g_ss_bd_8.csv ...\n",
      "Doing:   outputs/biased_degree/g_ss_bd_9.csv ...\n",
      "Doing:   outputs/biased_degree/g_ss_bd_4.csv ...\n",
      "Doing:   outputs/biased_degree/g_ss_bd_3.csv ...\n",
      "Doing:   outputs/biased_degree/g_ss_bd_6.csv ...\n",
      "Doing:   outputs/biased_degree/g_ss_bd_5.csv ...\n",
      "Doing:   outputs/biased_degree/g_ss_bd_2.csv ...\n",
      "Doing:   outputs/biased_degree/g_ss_bd_7.csv ...\n",
      "Doing:   outputs/biased_degree/g_ss_bd_1.csv ...\n"
     ]
    }
   ],
   "source": [
    "all_results = [] # Save results\n",
    "\n",
    "for file in db:\n",
    "    print('Doing:  ', file, '...')\n",
    "    df = pd.read_csv(file)\n",
    "    df_t2v = df_trans2vec(df, fraudulent_nodes)\n",
    "    df_t2v.to_csv('outputs/Embeddings/trans2vec/' + file.replace('outputs/', ''))\n",
    "    \n",
    "    X = df_t2v.drop('label', axis=1)\n",
    "    y = df_t2v['label']\n",
    "    \n",
    "    logit = logistic_regresion(X, y) # Logit results\n",
    "    logit['model'] = 'Logit'\n",
    "    \n",
    "    rf = random_forest(X, y) # Rf results\n",
    "    rf['model'] = 'RF'\n",
    "    \n",
    "    df_res = pd.concat([logit,rf])\n",
    "    df_res['graph'] = file.replace('.csv', '')\n",
    "    \n",
    "    all_results.append(df_res)\n",
    "    \n",
    "final_results = pd.concat(all_results)\n",
    "final_results.to_csv('outputs/results/trans2vec/DB_trans2vec_results_ligh.csv', index=False)"
   ]
  },
  {
   "cell_type": "markdown",
   "metadata": {},
   "source": [
    "***Average result for each method of sampling and each model***"
   ]
  },
  {
   "cell_type": "code",
   "execution_count": 12,
   "metadata": {},
   "outputs": [
    {
     "data": {
      "text/plain": [
       "['RN_trans2vec_results_ligh.csv',\n",
       " 'NM_trans2vec_results_ligh.csv',\n",
       " 'MM_trans2vec_results_ligh.csv',\n",
       " 'DB_trans2vec_results_ligh.csv',\n",
       " 'RW_trans2vec_results_ligh.csv']"
      ]
     },
     "execution_count": 12,
     "metadata": {},
     "output_type": "execute_result"
    }
   ],
   "source": [
    "files = [file for file in os.listdir('outputs/results/trans2vec')]\n",
    "files"
   ]
  },
  {
   "cell_type": "code",
   "execution_count": 13,
   "metadata": {},
   "outputs": [
    {
     "name": "stdout",
     "output_type": "stream",
     "text": [
      "(500, 5)\n"
     ]
    },
    {
     "data": {
      "text/html": [
       "<div>\n",
       "<style scoped>\n",
       "    .dataframe tbody tr th:only-of-type {\n",
       "        vertical-align: middle;\n",
       "    }\n",
       "\n",
       "    .dataframe tbody tr th {\n",
       "        vertical-align: top;\n",
       "    }\n",
       "\n",
       "    .dataframe thead th {\n",
       "        text-align: right;\n",
       "    }\n",
       "</style>\n",
       "<table border=\"1\" class=\"dataframe\">\n",
       "  <thead>\n",
       "    <tr style=\"text-align: right;\">\n",
       "      <th></th>\n",
       "      <th>F1</th>\n",
       "      <th>Precision</th>\n",
       "      <th>Recall</th>\n",
       "      <th>model</th>\n",
       "      <th>graph</th>\n",
       "    </tr>\n",
       "  </thead>\n",
       "  <tbody>\n",
       "    <tr>\n",
       "      <th>0</th>\n",
       "      <td>0.229272</td>\n",
       "      <td>0.141959</td>\n",
       "      <td>0.595604</td>\n",
       "      <td>Logit</td>\n",
       "      <td>outputs/random_nodes/g_ss_rn_1</td>\n",
       "    </tr>\n",
       "    <tr>\n",
       "      <th>1</th>\n",
       "      <td>0.218947</td>\n",
       "      <td>0.135417</td>\n",
       "      <td>0.571429</td>\n",
       "      <td>Logit</td>\n",
       "      <td>outputs/random_nodes/g_ss_rn_1</td>\n",
       "    </tr>\n",
       "    <tr>\n",
       "      <th>2</th>\n",
       "      <td>0.213826</td>\n",
       "      <td>0.132871</td>\n",
       "      <td>0.547253</td>\n",
       "      <td>Logit</td>\n",
       "      <td>outputs/random_nodes/g_ss_rn_1</td>\n",
       "    </tr>\n",
       "    <tr>\n",
       "      <th>3</th>\n",
       "      <td>0.214849</td>\n",
       "      <td>0.132481</td>\n",
       "      <td>0.567982</td>\n",
       "      <td>Logit</td>\n",
       "      <td>outputs/random_nodes/g_ss_rn_1</td>\n",
       "    </tr>\n",
       "    <tr>\n",
       "      <th>4</th>\n",
       "      <td>0.211618</td>\n",
       "      <td>0.130435</td>\n",
       "      <td>0.560440</td>\n",
       "      <td>Logit</td>\n",
       "      <td>outputs/random_nodes/g_ss_rn_1</td>\n",
       "    </tr>\n",
       "  </tbody>\n",
       "</table>\n",
       "</div>"
      ],
      "text/plain": [
       "         F1  Precision    Recall  model                           graph\n",
       "0  0.229272   0.141959  0.595604  Logit  outputs/random_nodes/g_ss_rn_1\n",
       "1  0.218947   0.135417  0.571429  Logit  outputs/random_nodes/g_ss_rn_1\n",
       "2  0.213826   0.132871  0.547253  Logit  outputs/random_nodes/g_ss_rn_1\n",
       "3  0.214849   0.132481  0.567982  Logit  outputs/random_nodes/g_ss_rn_1\n",
       "4  0.211618   0.130435  0.560440  Logit  outputs/random_nodes/g_ss_rn_1"
      ]
     },
     "execution_count": 13,
     "metadata": {},
     "output_type": "execute_result"
    }
   ],
   "source": [
    "dfs_ = []\n",
    "for file in files:\n",
    "    dfs_.append(pd.read_csv('outputs/results/trans2vec/'+file)) \n",
    "\n",
    "df = pd.concat(dfs_)\n",
    "print(df.shape)\n",
    "df.head()"
   ]
  },
  {
   "cell_type": "code",
   "execution_count": 14,
   "metadata": {},
   "outputs": [
    {
     "data": {
      "text/html": [
       "<div>\n",
       "<style scoped>\n",
       "    .dataframe tbody tr th:only-of-type {\n",
       "        vertical-align: middle;\n",
       "    }\n",
       "\n",
       "    .dataframe tbody tr th {\n",
       "        vertical-align: top;\n",
       "    }\n",
       "\n",
       "    .dataframe thead th {\n",
       "        text-align: right;\n",
       "    }\n",
       "</style>\n",
       "<table border=\"1\" class=\"dataframe\">\n",
       "  <thead>\n",
       "    <tr style=\"text-align: right;\">\n",
       "      <th></th>\n",
       "      <th>graph</th>\n",
       "      <th>model</th>\n",
       "      <th>F1</th>\n",
       "      <th>Precision</th>\n",
       "      <th>Recall</th>\n",
       "    </tr>\n",
       "  </thead>\n",
       "  <tbody>\n",
       "    <tr>\n",
       "      <th>65</th>\n",
       "      <td>outputs/random_nodes/g_ss_rn_2</td>\n",
       "      <td>RF</td>\n",
       "      <td>0.329759</td>\n",
       "      <td>0.485997</td>\n",
       "      <td>0.249777</td>\n",
       "    </tr>\n",
       "    <tr>\n",
       "      <th>79</th>\n",
       "      <td>outputs/random_nodes/g_ss_rn_9</td>\n",
       "      <td>RF</td>\n",
       "      <td>0.307933</td>\n",
       "      <td>0.470509</td>\n",
       "      <td>0.229128</td>\n",
       "    </tr>\n",
       "    <tr>\n",
       "      <th>77</th>\n",
       "      <td>outputs/random_nodes/g_ss_rn_8</td>\n",
       "      <td>RF</td>\n",
       "      <td>0.286443</td>\n",
       "      <td>0.426117</td>\n",
       "      <td>0.215933</td>\n",
       "    </tr>\n",
       "    <tr>\n",
       "      <th>63</th>\n",
       "      <td>outputs/random_nodes/g_ss_rn_1</td>\n",
       "      <td>RF</td>\n",
       "      <td>0.284634</td>\n",
       "      <td>0.428192</td>\n",
       "      <td>0.213529</td>\n",
       "    </tr>\n",
       "    <tr>\n",
       "      <th>11</th>\n",
       "      <td>outputs/biased_degree/g_ss_bd_5</td>\n",
       "      <td>RF</td>\n",
       "      <td>0.275874</td>\n",
       "      <td>0.425891</td>\n",
       "      <td>0.204215</td>\n",
       "    </tr>\n",
       "  </tbody>\n",
       "</table>\n",
       "</div>"
      ],
      "text/plain": [
       "                              graph model        F1  Precision    Recall\n",
       "65   outputs/random_nodes/g_ss_rn_2    RF  0.329759   0.485997  0.249777\n",
       "79   outputs/random_nodes/g_ss_rn_9    RF  0.307933   0.470509  0.229128\n",
       "77   outputs/random_nodes/g_ss_rn_8    RF  0.286443   0.426117  0.215933\n",
       "63   outputs/random_nodes/g_ss_rn_1    RF  0.284634   0.428192  0.213529\n",
       "11  outputs/biased_degree/g_ss_bd_5    RF  0.275874   0.425891  0.204215"
      ]
     },
     "execution_count": 14,
     "metadata": {},
     "output_type": "execute_result"
    }
   ],
   "source": [
    "# Group by graph and model model (Best_params are the same for all of the 5 runs on each model)\n",
    "graph_l = df.groupby(['graph', 'model']).mean().reset_index().sort_values('F1', ascending=False)\n",
    "graph_l.head()"
   ]
  },
  {
   "cell_type": "code",
   "execution_count": 16,
   "metadata": {},
   "outputs": [
    {
     "data": {
      "text/plain": [
       "random_walk         20\n",
       "neighbors_method    20\n",
       "mixed_method        20\n",
       "random_nodes        20\n",
       "biased_degree       20\n",
       "Name: Type, dtype: int64"
      ]
     },
     "execution_count": 16,
     "metadata": {},
     "output_type": "execute_result"
    }
   ],
   "source": [
    "graph_l['Type'] = graph_l['graph'].apply(lambda x: x.split('/')[1])\n",
    "graph_l['Type'].value_counts()"
   ]
  },
  {
   "cell_type": "code",
   "execution_count": 22,
   "metadata": {},
   "outputs": [
    {
     "data": {
      "text/html": [
       "<div>\n",
       "<style scoped>\n",
       "    .dataframe tbody tr th:only-of-type {\n",
       "        vertical-align: middle;\n",
       "    }\n",
       "\n",
       "    .dataframe tbody tr th {\n",
       "        vertical-align: top;\n",
       "    }\n",
       "\n",
       "    .dataframe thead th {\n",
       "        text-align: right;\n",
       "    }\n",
       "</style>\n",
       "<table border=\"1\" class=\"dataframe\">\n",
       "  <thead>\n",
       "    <tr style=\"text-align: right;\">\n",
       "      <th></th>\n",
       "      <th>Type</th>\n",
       "      <th>model</th>\n",
       "      <th>F1</th>\n",
       "      <th>Precision</th>\n",
       "      <th>Recall</th>\n",
       "    </tr>\n",
       "  </thead>\n",
       "  <tbody>\n",
       "    <tr>\n",
       "      <th>0</th>\n",
       "      <td>biased_degree</td>\n",
       "      <td>Logit</td>\n",
       "      <td>0.183</td>\n",
       "      <td>0.109</td>\n",
       "      <td>0.582</td>\n",
       "    </tr>\n",
       "    <tr>\n",
       "      <th>1</th>\n",
       "      <td>biased_degree</td>\n",
       "      <td>RF</td>\n",
       "      <td>0.250</td>\n",
       "      <td>0.376</td>\n",
       "      <td>0.188</td>\n",
       "    </tr>\n",
       "    <tr>\n",
       "      <th>2</th>\n",
       "      <td>mixed_method</td>\n",
       "      <td>Logit</td>\n",
       "      <td>0.196</td>\n",
       "      <td>0.117</td>\n",
       "      <td>0.593</td>\n",
       "    </tr>\n",
       "    <tr>\n",
       "      <th>3</th>\n",
       "      <td>mixed_method</td>\n",
       "      <td>RF</td>\n",
       "      <td>0.229</td>\n",
       "      <td>0.278</td>\n",
       "      <td>0.195</td>\n",
       "    </tr>\n",
       "    <tr>\n",
       "      <th>4</th>\n",
       "      <td>neighbors_method</td>\n",
       "      <td>Logit</td>\n",
       "      <td>0.129</td>\n",
       "      <td>0.071</td>\n",
       "      <td>0.743</td>\n",
       "    </tr>\n",
       "    <tr>\n",
       "      <th>5</th>\n",
       "      <td>neighbors_method</td>\n",
       "      <td>RF</td>\n",
       "      <td>0.142</td>\n",
       "      <td>0.209</td>\n",
       "      <td>0.109</td>\n",
       "    </tr>\n",
       "    <tr>\n",
       "      <th>6</th>\n",
       "      <td>random_nodes</td>\n",
       "      <td>Logit</td>\n",
       "      <td>0.215</td>\n",
       "      <td>0.133</td>\n",
       "      <td>0.563</td>\n",
       "    </tr>\n",
       "    <tr>\n",
       "      <th>7</th>\n",
       "      <td>random_nodes</td>\n",
       "      <td>RF</td>\n",
       "      <td>0.280</td>\n",
       "      <td>0.423</td>\n",
       "      <td>0.209</td>\n",
       "    </tr>\n",
       "    <tr>\n",
       "      <th>8</th>\n",
       "      <td>random_walk</td>\n",
       "      <td>Logit</td>\n",
       "      <td>0.031</td>\n",
       "      <td>0.016</td>\n",
       "      <td>0.614</td>\n",
       "    </tr>\n",
       "    <tr>\n",
       "      <th>9</th>\n",
       "      <td>random_walk</td>\n",
       "      <td>RF</td>\n",
       "      <td>0.106</td>\n",
       "      <td>0.178</td>\n",
       "      <td>0.076</td>\n",
       "    </tr>\n",
       "  </tbody>\n",
       "</table>\n",
       "</div>"
      ],
      "text/plain": [
       "               Type  model     F1  Precision  Recall\n",
       "0     biased_degree  Logit  0.183      0.109   0.582\n",
       "1     biased_degree     RF  0.250      0.376   0.188\n",
       "2      mixed_method  Logit  0.196      0.117   0.593\n",
       "3      mixed_method     RF  0.229      0.278   0.195\n",
       "4  neighbors_method  Logit  0.129      0.071   0.743\n",
       "5  neighbors_method     RF  0.142      0.209   0.109\n",
       "6      random_nodes  Logit  0.215      0.133   0.563\n",
       "7      random_nodes     RF  0.280      0.423   0.209\n",
       "8       random_walk  Logit  0.031      0.016   0.614\n",
       "9       random_walk     RF  0.106      0.178   0.076"
      ]
     },
     "execution_count": 22,
     "metadata": {},
     "output_type": "execute_result"
    }
   ],
   "source": [
    "# Final summary of results (average)\n",
    "final_sum = graph_l.groupby(['Type', 'model']).mean().reset_index()\n",
    "final_sum.round(3)"
   ]
  },
  {
   "cell_type": "code",
   "execution_count": 23,
   "metadata": {},
   "outputs": [],
   "source": [
    "final_sum.round(3).to_csv('outputs/tables/sampled_graphs_ml_results_trans2vec.csv', index=False)"
   ]
  },
  {
   "cell_type": "code",
   "execution_count": 18,
   "metadata": {},
   "outputs": [
    {
     "data": {
      "text/html": [
       "<div>\n",
       "<style scoped>\n",
       "    .dataframe tbody tr th:only-of-type {\n",
       "        vertical-align: middle;\n",
       "    }\n",
       "\n",
       "    .dataframe tbody tr th {\n",
       "        vertical-align: top;\n",
       "    }\n",
       "\n",
       "    .dataframe thead th {\n",
       "        text-align: right;\n",
       "    }\n",
       "</style>\n",
       "<table border=\"1\" class=\"dataframe\">\n",
       "  <thead>\n",
       "    <tr style=\"text-align: right;\">\n",
       "      <th></th>\n",
       "      <th>Type</th>\n",
       "      <th>model</th>\n",
       "      <th>F1</th>\n",
       "      <th>Precision</th>\n",
       "      <th>Recall</th>\n",
       "    </tr>\n",
       "  </thead>\n",
       "  <tbody>\n",
       "    <tr>\n",
       "      <th>0</th>\n",
       "      <td>biased_degree</td>\n",
       "      <td>Logit</td>\n",
       "      <td>0.003931</td>\n",
       "      <td>0.002578</td>\n",
       "      <td>0.011771</td>\n",
       "    </tr>\n",
       "    <tr>\n",
       "      <th>1</th>\n",
       "      <td>biased_degree</td>\n",
       "      <td>RF</td>\n",
       "      <td>0.019235</td>\n",
       "      <td>0.024881</td>\n",
       "      <td>0.016227</td>\n",
       "    </tr>\n",
       "    <tr>\n",
       "      <th>2</th>\n",
       "      <td>mixed_method</td>\n",
       "      <td>Logit</td>\n",
       "      <td>0.002889</td>\n",
       "      <td>0.001758</td>\n",
       "      <td>0.009420</td>\n",
       "    </tr>\n",
       "    <tr>\n",
       "      <th>3</th>\n",
       "      <td>mixed_method</td>\n",
       "      <td>RF</td>\n",
       "      <td>0.009769</td>\n",
       "      <td>0.013242</td>\n",
       "      <td>0.008136</td>\n",
       "    </tr>\n",
       "    <tr>\n",
       "      <th>4</th>\n",
       "      <td>neighbors_method</td>\n",
       "      <td>Logit</td>\n",
       "      <td>0.021816</td>\n",
       "      <td>0.013000</td>\n",
       "      <td>0.033473</td>\n",
       "    </tr>\n",
       "    <tr>\n",
       "      <th>5</th>\n",
       "      <td>neighbors_method</td>\n",
       "      <td>RF</td>\n",
       "      <td>0.022484</td>\n",
       "      <td>0.022850</td>\n",
       "      <td>0.023643</td>\n",
       "    </tr>\n",
       "    <tr>\n",
       "      <th>6</th>\n",
       "      <td>random_nodes</td>\n",
       "      <td>Logit</td>\n",
       "      <td>0.008835</td>\n",
       "      <td>0.006673</td>\n",
       "      <td>0.007175</td>\n",
       "    </tr>\n",
       "    <tr>\n",
       "      <th>7</th>\n",
       "      <td>random_nodes</td>\n",
       "      <td>RF</td>\n",
       "      <td>0.023413</td>\n",
       "      <td>0.033158</td>\n",
       "      <td>0.018317</td>\n",
       "    </tr>\n",
       "    <tr>\n",
       "      <th>8</th>\n",
       "      <td>random_walk</td>\n",
       "      <td>Logit</td>\n",
       "      <td>0.003122</td>\n",
       "      <td>0.001631</td>\n",
       "      <td>0.026063</td>\n",
       "    </tr>\n",
       "    <tr>\n",
       "      <th>9</th>\n",
       "      <td>random_walk</td>\n",
       "      <td>RF</td>\n",
       "      <td>0.022795</td>\n",
       "      <td>0.046959</td>\n",
       "      <td>0.016008</td>\n",
       "    </tr>\n",
       "  </tbody>\n",
       "</table>\n",
       "</div>"
      ],
      "text/plain": [
       "               Type  model        F1  Precision    Recall\n",
       "0     biased_degree  Logit  0.003931   0.002578  0.011771\n",
       "1     biased_degree     RF  0.019235   0.024881  0.016227\n",
       "2      mixed_method  Logit  0.002889   0.001758  0.009420\n",
       "3      mixed_method     RF  0.009769   0.013242  0.008136\n",
       "4  neighbors_method  Logit  0.021816   0.013000  0.033473\n",
       "5  neighbors_method     RF  0.022484   0.022850  0.023643\n",
       "6      random_nodes  Logit  0.008835   0.006673  0.007175\n",
       "7      random_nodes     RF  0.023413   0.033158  0.018317\n",
       "8       random_walk  Logit  0.003122   0.001631  0.026063\n",
       "9       random_walk     RF  0.022795   0.046959  0.016008"
      ]
     },
     "execution_count": 18,
     "metadata": {},
     "output_type": "execute_result"
    }
   ],
   "source": [
    "# Final summary of results (standard deviation)\n",
    "final_std = graph_l.groupby(['Type', 'model']).std().reset_index()\n",
    "final_std"
   ]
  }
 ],
 "metadata": {
  "kernelspec": {
   "display_name": "Python 3 (ipykernel)",
   "language": "python",
   "name": "python3"
  },
  "language_info": {
   "codemirror_mode": {
    "name": "ipython",
    "version": 3
   },
   "file_extension": ".py",
   "mimetype": "text/x-python",
   "name": "python",
   "nbconvert_exporter": "python",
   "pygments_lexer": "ipython3",
   "version": "3.8.8"
  }
 },
 "nbformat": 4,
 "nbformat_minor": 4
}
