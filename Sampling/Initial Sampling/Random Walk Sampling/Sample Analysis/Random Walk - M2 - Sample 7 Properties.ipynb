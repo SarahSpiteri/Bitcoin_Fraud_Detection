{
 "cells": [
  {
   "cell_type": "code",
   "execution_count": 1,
   "id": "7db3326c",
   "metadata": {
    "ExecuteTime": {
     "end_time": "2022-05-31T16:56:55.619334Z",
     "start_time": "2022-05-31T16:56:52.041562Z"
    }
   },
   "outputs": [],
   "source": [
    "import pandas as pd\n",
    "import numpy as np\n",
    "\n",
    "import networkx as nx\n",
    "from networkx.algorithms.community import k_clique_communities\n",
    "import random as rd\n",
    "rd.seed(42)\n",
    "\n",
    "import warnings\n",
    "warnings.filterwarnings('ignore')"
   ]
  },
  {
   "cell_type": "markdown",
   "id": "4f6f7498",
   "metadata": {},
   "source": [
    "## Random Walk Sampling Method 2\n",
    "### Sample 7"
   ]
  },
  {
   "cell_type": "code",
   "execution_count": 2,
   "id": "7497eb2b",
   "metadata": {
    "ExecuteTime": {
     "end_time": "2022-05-31T16:57:22.839448Z",
     "start_time": "2022-05-31T16:57:09.750775Z"
    }
   },
   "outputs": [],
   "source": [
    "G_rwm2_7 = nx.read_gml(r'C:\\Users\\sarah\\Documents\\UNI\\Masters\\Study\\Term_3\\Master Project\\Samples\\Random Walk Sampling\\G_rw2_7.gml')"
   ]
  },
  {
   "cell_type": "code",
   "execution_count": 3,
   "id": "fcc435ac",
   "metadata": {
    "ExecuteTime": {
     "end_time": "2022-05-31T16:57:22.871495Z",
     "start_time": "2022-05-31T16:57:22.839448Z"
    }
   },
   "outputs": [
    {
     "data": {
      "text/plain": [
       "True"
      ]
     },
     "execution_count": 3,
     "metadata": {},
     "output_type": "execute_result"
    }
   ],
   "source": [
    "# Confirm that Graph is Directed\n",
    "nx.is_directed(G_rwm2_7)"
   ]
  },
  {
   "cell_type": "code",
   "execution_count": 4,
   "id": "e6d6887f",
   "metadata": {
    "ExecuteTime": {
     "end_time": "2022-05-31T16:57:23.034957Z",
     "start_time": "2022-05-31T16:57:22.875806Z"
    }
   },
   "outputs": [
    {
     "name": "stdout",
     "output_type": "stream",
     "text": [
      "MultiDiGraph with 50000 nodes and 135896 edges\n"
     ]
    }
   ],
   "source": [
    "# Display Size of the Graph\n",
    "print(nx.info(G_rwm2_7))"
   ]
  },
  {
   "cell_type": "markdown",
   "id": "a3358272",
   "metadata": {},
   "source": [
    "Confirmed that the graph meets the criterea of having more edges than nodes and maintained the directed structure."
   ]
  },
  {
   "cell_type": "code",
   "execution_count": 5,
   "id": "f7d8d878",
   "metadata": {
    "ExecuteTime": {
     "end_time": "2022-05-31T16:57:35.550499Z",
     "start_time": "2022-05-31T16:57:35.543613Z"
    }
   },
   "outputs": [],
   "source": [
    "# List all nodes in the sample\n",
    "n_rwm2_7 = list(G_rwm2_7.nodes)"
   ]
  },
  {
   "cell_type": "code",
   "execution_count": 6,
   "id": "b3076b70",
   "metadata": {
    "ExecuteTime": {
     "end_time": "2022-05-31T16:57:42.497548Z",
     "start_time": "2022-05-31T16:57:36.415801Z"
    }
   },
   "outputs": [
    {
     "data": {
      "text/html": [
       "<div>\n",
       "<style scoped>\n",
       "    .dataframe tbody tr th:only-of-type {\n",
       "        vertical-align: middle;\n",
       "    }\n",
       "\n",
       "    .dataframe tbody tr th {\n",
       "        vertical-align: top;\n",
       "    }\n",
       "\n",
       "    .dataframe thead th {\n",
       "        text-align: right;\n",
       "    }\n",
       "</style>\n",
       "<table border=\"1\" class=\"dataframe\">\n",
       "  <thead>\n",
       "    <tr style=\"text-align: right;\">\n",
       "      <th></th>\n",
       "      <th>degree</th>\n",
       "      <th>in_degree</th>\n",
       "      <th>out_degree</th>\n",
       "      <th>eigen_centrality</th>\n",
       "    </tr>\n",
       "  </thead>\n",
       "  <tbody>\n",
       "    <tr>\n",
       "      <th>count</th>\n",
       "      <td>4.666873e+06</td>\n",
       "      <td>4.666873e+06</td>\n",
       "      <td>4.666873e+06</td>\n",
       "      <td>4.666873e+06</td>\n",
       "    </tr>\n",
       "    <tr>\n",
       "      <th>mean</th>\n",
       "      <td>4.494298e+00</td>\n",
       "      <td>2.247149e+00</td>\n",
       "      <td>2.247149e+00</td>\n",
       "      <td>3.970074e-05</td>\n",
       "    </tr>\n",
       "    <tr>\n",
       "      <th>std</th>\n",
       "      <td>3.935922e+01</td>\n",
       "      <td>1.998412e+01</td>\n",
       "      <td>2.868249e+01</td>\n",
       "      <td>4.611943e-04</td>\n",
       "    </tr>\n",
       "    <tr>\n",
       "      <th>min</th>\n",
       "      <td>1.000000e+00</td>\n",
       "      <td>0.000000e+00</td>\n",
       "      <td>0.000000e+00</td>\n",
       "      <td>1.193322e-21</td>\n",
       "    </tr>\n",
       "    <tr>\n",
       "      <th>25%</th>\n",
       "      <td>1.000000e+00</td>\n",
       "      <td>0.000000e+00</td>\n",
       "      <td>0.000000e+00</td>\n",
       "      <td>1.193322e-21</td>\n",
       "    </tr>\n",
       "    <tr>\n",
       "      <th>50%</th>\n",
       "      <td>2.000000e+00</td>\n",
       "      <td>1.000000e+00</td>\n",
       "      <td>1.000000e+00</td>\n",
       "      <td>4.892620e-20</td>\n",
       "    </tr>\n",
       "    <tr>\n",
       "      <th>75%</th>\n",
       "      <td>3.000000e+00</td>\n",
       "      <td>1.000000e+00</td>\n",
       "      <td>2.000000e+00</td>\n",
       "      <td>1.517475e-14</td>\n",
       "    </tr>\n",
       "    <tr>\n",
       "      <th>max</th>\n",
       "      <td>2.791700e+04</td>\n",
       "      <td>1.211600e+04</td>\n",
       "      <td>2.533500e+04</td>\n",
       "      <td>1.642653e-01</td>\n",
       "    </tr>\n",
       "  </tbody>\n",
       "</table>\n",
       "</div>"
      ],
      "text/plain": [
       "             degree     in_degree    out_degree  eigen_centrality\n",
       "count  4.666873e+06  4.666873e+06  4.666873e+06      4.666873e+06\n",
       "mean   4.494298e+00  2.247149e+00  2.247149e+00      3.970074e-05\n",
       "std    3.935922e+01  1.998412e+01  2.868249e+01      4.611943e-04\n",
       "min    1.000000e+00  0.000000e+00  0.000000e+00      1.193322e-21\n",
       "25%    1.000000e+00  0.000000e+00  0.000000e+00      1.193322e-21\n",
       "50%    2.000000e+00  1.000000e+00  1.000000e+00      4.892620e-20\n",
       "75%    3.000000e+00  1.000000e+00  2.000000e+00      1.517475e-14\n",
       "max    2.791700e+04  1.211600e+04  2.533500e+04      1.642653e-01"
      ]
     },
     "execution_count": 6,
     "metadata": {},
     "output_type": "execute_result"
    }
   ],
   "source": [
    "# Get node properties from data exploration exercise for comparison\n",
    "node_properties = pd.read_csv(r'C:\\Users\\sarah\\Documents\\UNI\\Masters\\Study\\Term_3\\Master Project\\node_properties_cl.csv')\n",
    "node_properties[['degree', 'in_degree', 'out_degree', 'eigen_centrality']].describe()"
   ]
  },
  {
   "cell_type": "code",
   "execution_count": 7,
   "id": "06aeac91",
   "metadata": {
    "ExecuteTime": {
     "end_time": "2022-05-31T16:57:55.966763Z",
     "start_time": "2022-05-31T16:57:55.441789Z"
    }
   },
   "outputs": [
    {
     "data": {
      "text/html": [
       "<div>\n",
       "<style scoped>\n",
       "    .dataframe tbody tr th:only-of-type {\n",
       "        vertical-align: middle;\n",
       "    }\n",
       "\n",
       "    .dataframe tbody tr th {\n",
       "        vertical-align: top;\n",
       "    }\n",
       "\n",
       "    .dataframe thead th {\n",
       "        text-align: right;\n",
       "    }\n",
       "</style>\n",
       "<table border=\"1\" class=\"dataframe\">\n",
       "  <thead>\n",
       "    <tr style=\"text-align: right;\">\n",
       "      <th></th>\n",
       "      <th>source</th>\n",
       "      <th>target</th>\n",
       "      <th>weight</th>\n",
       "    </tr>\n",
       "  </thead>\n",
       "  <tbody>\n",
       "    <tr>\n",
       "      <th>0</th>\n",
       "      <td>13xEuCvTPsFNQJkoL4JfCvSyXYt4xdpD9L</td>\n",
       "      <td>162QCBFdyFwdaYdqy7NXd93zDCYWaMhPHd</td>\n",
       "      <td>1.0</td>\n",
       "    </tr>\n",
       "    <tr>\n",
       "      <th>1</th>\n",
       "      <td>13xEuCvTPsFNQJkoL4JfCvSyXYt4xdpD9L</td>\n",
       "      <td>18yDipuzMszsX8eFQ7pGPLmGuq9beboGii</td>\n",
       "      <td>1.0</td>\n",
       "    </tr>\n",
       "    <tr>\n",
       "      <th>2</th>\n",
       "      <td>33MAkwCKniBK8QDML5ojP8cY5fFeiVEjbv</td>\n",
       "      <td>32jPMzNzHKE2f6u6V1Ch9qxXXf456D83F5</td>\n",
       "      <td>1.0</td>\n",
       "    </tr>\n",
       "    <tr>\n",
       "      <th>3</th>\n",
       "      <td>1t1wgvtPK6Ei4hpS31YxTseN4metDUids</td>\n",
       "      <td>17hLZbf8erC9ePFEkHCcdsQMy4gZKjp8EL</td>\n",
       "      <td>1.0</td>\n",
       "    </tr>\n",
       "    <tr>\n",
       "      <th>4</th>\n",
       "      <td>1t1wgvtPK6Ei4hpS31YxTseN4metDUids</td>\n",
       "      <td>1AMQiPsM3rXNiD9buAiGG9N1Ebtr9UCkJW</td>\n",
       "      <td>1.0</td>\n",
       "    </tr>\n",
       "  </tbody>\n",
       "</table>\n",
       "</div>"
      ],
      "text/plain": [
       "                               source                              target  \\\n",
       "0  13xEuCvTPsFNQJkoL4JfCvSyXYt4xdpD9L  162QCBFdyFwdaYdqy7NXd93zDCYWaMhPHd   \n",
       "1  13xEuCvTPsFNQJkoL4JfCvSyXYt4xdpD9L  18yDipuzMszsX8eFQ7pGPLmGuq9beboGii   \n",
       "2  33MAkwCKniBK8QDML5ojP8cY5fFeiVEjbv  32jPMzNzHKE2f6u6V1Ch9qxXXf456D83F5   \n",
       "3   1t1wgvtPK6Ei4hpS31YxTseN4metDUids  17hLZbf8erC9ePFEkHCcdsQMy4gZKjp8EL   \n",
       "4   1t1wgvtPK6Ei4hpS31YxTseN4metDUids  1AMQiPsM3rXNiD9buAiGG9N1Ebtr9UCkJW   \n",
       "\n",
       "   weight  \n",
       "0     1.0  \n",
       "1     1.0  \n",
       "2     1.0  \n",
       "3     1.0  \n",
       "4     1.0  "
      ]
     },
     "execution_count": 7,
     "metadata": {},
     "output_type": "execute_result"
    }
   ],
   "source": [
    "rwm2_7_df = nx.to_pandas_edgelist(G_rwm2_7) \n",
    "rwm2_7_df.head()"
   ]
  },
  {
   "cell_type": "code",
   "execution_count": 8,
   "id": "35280230",
   "metadata": {
    "ExecuteTime": {
     "end_time": "2022-05-31T16:58:06.121795Z",
     "start_time": "2022-05-31T16:58:06.047098Z"
    }
   },
   "outputs": [
    {
     "data": {
      "text/plain": [
       "31940"
      ]
     },
     "execution_count": 8,
     "metadata": {},
     "output_type": "execute_result"
    }
   ],
   "source": [
    "# Number of unique input addresses\n",
    "rwm2_7_df['source'].nunique()"
   ]
  },
  {
   "cell_type": "code",
   "execution_count": 9,
   "id": "b8db4502",
   "metadata": {
    "ExecuteTime": {
     "end_time": "2022-05-31T16:58:10.980663Z",
     "start_time": "2022-05-31T16:58:10.919235Z"
    }
   },
   "outputs": [
    {
     "data": {
      "text/plain": [
       "31141"
      ]
     },
     "execution_count": 9,
     "metadata": {},
     "output_type": "execute_result"
    }
   ],
   "source": [
    "# Number of unique output addresses\n",
    "rwm2_7_df['target'].nunique()"
   ]
  },
  {
   "cell_type": "markdown",
   "id": "0cff6ad4",
   "metadata": {},
   "source": [
    "We observe relative balance between input and output addresses, with slightly more input addresses. In the full dataset there is also relative balance, but there were more output addresses. "
   ]
  },
  {
   "cell_type": "code",
   "execution_count": 10,
   "id": "f0a263fa",
   "metadata": {
    "ExecuteTime": {
     "end_time": "2022-05-31T16:58:22.084566Z",
     "start_time": "2022-05-31T16:58:22.059210Z"
    }
   },
   "outputs": [
    {
     "data": {
      "text/html": [
       "<div>\n",
       "<style scoped>\n",
       "    .dataframe tbody tr th:only-of-type {\n",
       "        vertical-align: middle;\n",
       "    }\n",
       "\n",
       "    .dataframe tbody tr th {\n",
       "        vertical-align: top;\n",
       "    }\n",
       "\n",
       "    .dataframe thead th {\n",
       "        text-align: right;\n",
       "    }\n",
       "</style>\n",
       "<table border=\"1\" class=\"dataframe\">\n",
       "  <thead>\n",
       "    <tr style=\"text-align: right;\">\n",
       "      <th></th>\n",
       "      <th>weight</th>\n",
       "    </tr>\n",
       "  </thead>\n",
       "  <tbody>\n",
       "    <tr>\n",
       "      <th>count</th>\n",
       "      <td>135896.000000</td>\n",
       "    </tr>\n",
       "    <tr>\n",
       "      <th>mean</th>\n",
       "      <td>0.776984</td>\n",
       "    </tr>\n",
       "    <tr>\n",
       "      <th>std</th>\n",
       "      <td>0.467355</td>\n",
       "    </tr>\n",
       "    <tr>\n",
       "      <th>min</th>\n",
       "      <td>-69.648093</td>\n",
       "    </tr>\n",
       "    <tr>\n",
       "      <th>25%</th>\n",
       "      <td>0.516694</td>\n",
       "    </tr>\n",
       "    <tr>\n",
       "      <th>50%</th>\n",
       "      <td>1.000000</td>\n",
       "    </tr>\n",
       "    <tr>\n",
       "      <th>75%</th>\n",
       "      <td>1.000000</td>\n",
       "    </tr>\n",
       "    <tr>\n",
       "      <th>max</th>\n",
       "      <td>52.821905</td>\n",
       "    </tr>\n",
       "  </tbody>\n",
       "</table>\n",
       "</div>"
      ],
      "text/plain": [
       "              weight\n",
       "count  135896.000000\n",
       "mean        0.776984\n",
       "std         0.467355\n",
       "min       -69.648093\n",
       "25%         0.516694\n",
       "50%         1.000000\n",
       "75%         1.000000\n",
       "max        52.821905"
      ]
     },
     "execution_count": 10,
     "metadata": {},
     "output_type": "execute_result"
    }
   ],
   "source": [
    "rwm2_7_df.describe()"
   ]
  },
  {
   "cell_type": "markdown",
   "id": "dcdb695e",
   "metadata": {},
   "source": [
    "The weight variable shows that the distribution of the weighting (amount*0.5 + timestamp*0.5) is similar to that of overall transaction amounts."
   ]
  },
  {
   "cell_type": "code",
   "execution_count": 11,
   "id": "79d4e08d",
   "metadata": {
    "ExecuteTime": {
     "end_time": "2022-05-31T16:58:40.289220Z",
     "start_time": "2022-05-31T16:58:40.238722Z"
    }
   },
   "outputs": [
    {
     "name": "stdout",
     "output_type": "stream",
     "text": [
      "Total number of fraudulent/high-risk nodes :  4563\n",
      "Number of fraudulent/high-risk nodes in sample :  262\n"
     ]
    }
   ],
   "source": [
    "# Subset by fraudulent/high-risk nodes\n",
    "fr_nodes = node_properties[node_properties['fraud_flag'] == 1]\n",
    "fr_nodes = fr_nodes['address'].tolist()\n",
    "print('Total number of fraudulent/high-risk nodes : ', len(fr_nodes))\n",
    "\n",
    "# Check for number of fraudulent/high-risk addresses in the sample\n",
    "print('Number of fraudulent/high-risk nodes in sample : ', len(set(n_rwm2_7).intersection(fr_nodes)))"
   ]
  },
  {
   "cell_type": "markdown",
   "id": "cd0dbfac",
   "metadata": {},
   "source": [
    "These numbers suggest that random selection of nodes worsens the class imbalance problem, but when considering the counts relative to the size of the network the issue is less pronounced.\n",
    "\n",
    "Full Network: 0.11% \n",
    "\n",
    "Sample: 0.52%"
   ]
  },
  {
   "cell_type": "markdown",
   "id": "d3fb5977",
   "metadata": {},
   "source": [
    "## Node Properties"
   ]
  },
  {
   "cell_type": "code",
   "execution_count": 12,
   "id": "5c117beb",
   "metadata": {
    "ExecuteTime": {
     "end_time": "2022-05-31T16:59:31.426304Z",
     "start_time": "2022-05-31T16:59:31.092369Z"
    }
   },
   "outputs": [],
   "source": [
    "# Get Properties\n",
    "\n",
    "address = [node for (node, val) in G_rwm2_7.degree()]\n",
    "degree = [val for (node, val) in G_rwm2_7.degree()]\n",
    "in_degree = [val for (node, val) in G_rwm2_7.in_degree()]\n",
    "out_degree = [val for (node, val) in G_rwm2_7.out_degree()]\n",
    "#eigen_centrality = nx.eigenvector_centrality(G_rwm2_7) # NetworkXNotImplemented: not implemented for multigraph type\n",
    "#eigen_centrality = [eigen_centrality[node] for node in eigen_centrality]"
   ]
  },
  {
   "cell_type": "code",
   "execution_count": 13,
   "id": "3aa7e856",
   "metadata": {
    "ExecuteTime": {
     "end_time": "2022-05-31T16:59:33.363385Z",
     "start_time": "2022-05-31T16:59:33.282722Z"
    }
   },
   "outputs": [],
   "source": [
    "# Add Properties to DataFrame\n",
    "\n",
    "nodes = pd.DataFrame()\n",
    "nodes['address'] = address\n",
    "nodes['degree'] = degree\n",
    "nodes['in_degree'] = in_degree\n",
    "nodes['out_degree'] = out_degree\n",
    "#nodes['eigen_centrality'] = eigen_centrality"
   ]
  },
  {
   "cell_type": "code",
   "execution_count": 14,
   "id": "63a95d5f",
   "metadata": {
    "ExecuteTime": {
     "end_time": "2022-05-31T16:59:48.709171Z",
     "start_time": "2022-05-31T16:59:36.182445Z"
    }
   },
   "outputs": [
    {
     "data": {
      "text/html": [
       "<div>\n",
       "<style scoped>\n",
       "    .dataframe tbody tr th:only-of-type {\n",
       "        vertical-align: middle;\n",
       "    }\n",
       "\n",
       "    .dataframe tbody tr th {\n",
       "        vertical-align: top;\n",
       "    }\n",
       "\n",
       "    .dataframe thead th {\n",
       "        text-align: right;\n",
       "    }\n",
       "</style>\n",
       "<table border=\"1\" class=\"dataframe\">\n",
       "  <thead>\n",
       "    <tr style=\"text-align: right;\">\n",
       "      <th></th>\n",
       "      <th>address</th>\n",
       "      <th>degree</th>\n",
       "      <th>in_degree</th>\n",
       "      <th>out_degree</th>\n",
       "      <th>fraud_flag</th>\n",
       "    </tr>\n",
       "  </thead>\n",
       "  <tbody>\n",
       "    <tr>\n",
       "      <th>0</th>\n",
       "      <td>13xEuCvTPsFNQJkoL4JfCvSyXYt4xdpD9L</td>\n",
       "      <td>2</td>\n",
       "      <td>0</td>\n",
       "      <td>2</td>\n",
       "      <td>0</td>\n",
       "    </tr>\n",
       "    <tr>\n",
       "      <th>1</th>\n",
       "      <td>12t97nWmHYg5UDnsL2nizTEbTNLF7xk4FV</td>\n",
       "      <td>4</td>\n",
       "      <td>4</td>\n",
       "      <td>0</td>\n",
       "      <td>0</td>\n",
       "    </tr>\n",
       "    <tr>\n",
       "      <th>2</th>\n",
       "      <td>33MAkwCKniBK8QDML5ojP8cY5fFeiVEjbv</td>\n",
       "      <td>5</td>\n",
       "      <td>4</td>\n",
       "      <td>1</td>\n",
       "      <td>0</td>\n",
       "    </tr>\n",
       "    <tr>\n",
       "      <th>3</th>\n",
       "      <td>1t1wgvtPK6Ei4hpS31YxTseN4metDUids</td>\n",
       "      <td>7</td>\n",
       "      <td>3</td>\n",
       "      <td>4</td>\n",
       "      <td>0</td>\n",
       "    </tr>\n",
       "    <tr>\n",
       "      <th>4</th>\n",
       "      <td>13qAtDZ7QPWzkZ7gD2N6tEscmHnzDpoXp6</td>\n",
       "      <td>1</td>\n",
       "      <td>1</td>\n",
       "      <td>0</td>\n",
       "      <td>0</td>\n",
       "    </tr>\n",
       "  </tbody>\n",
       "</table>\n",
       "</div>"
      ],
      "text/plain": [
       "                              address  degree  in_degree  out_degree  \\\n",
       "0  13xEuCvTPsFNQJkoL4JfCvSyXYt4xdpD9L       2          0           2   \n",
       "1  12t97nWmHYg5UDnsL2nizTEbTNLF7xk4FV       4          4           0   \n",
       "2  33MAkwCKniBK8QDML5ojP8cY5fFeiVEjbv       5          4           1   \n",
       "3   1t1wgvtPK6Ei4hpS31YxTseN4metDUids       7          3           4   \n",
       "4  13qAtDZ7QPWzkZ7gD2N6tEscmHnzDpoXp6       1          1           0   \n",
       "\n",
       "   fraud_flag  \n",
       "0           0  \n",
       "1           0  \n",
       "2           0  \n",
       "3           0  \n",
       "4           0  "
      ]
     },
     "execution_count": 14,
     "metadata": {},
     "output_type": "execute_result"
    }
   ],
   "source": [
    "# Add fraud flag\n",
    "\n",
    "nodes = nodes.assign(**dict.fromkeys(['fraud_flag'], 0))\n",
    "\n",
    "for i in fr_nodes:\n",
    "    nodes.loc[nodes.address == i, 'fraud_flag'] = 1\n",
    "    \n",
    "nodes.head()"
   ]
  },
  {
   "cell_type": "code",
   "execution_count": 15,
   "id": "822f8896",
   "metadata": {
    "ExecuteTime": {
     "end_time": "2022-05-31T16:59:48.752956Z",
     "start_time": "2022-05-31T16:59:48.716208Z"
    }
   },
   "outputs": [
    {
     "data": {
      "text/html": [
       "<div>\n",
       "<style scoped>\n",
       "    .dataframe tbody tr th:only-of-type {\n",
       "        vertical-align: middle;\n",
       "    }\n",
       "\n",
       "    .dataframe tbody tr th {\n",
       "        vertical-align: top;\n",
       "    }\n",
       "\n",
       "    .dataframe thead th {\n",
       "        text-align: right;\n",
       "    }\n",
       "</style>\n",
       "<table border=\"1\" class=\"dataframe\">\n",
       "  <thead>\n",
       "    <tr style=\"text-align: right;\">\n",
       "      <th></th>\n",
       "      <th>degree</th>\n",
       "      <th>in_degree</th>\n",
       "      <th>out_degree</th>\n",
       "    </tr>\n",
       "  </thead>\n",
       "  <tbody>\n",
       "    <tr>\n",
       "      <th>count</th>\n",
       "      <td>50000.000000</td>\n",
       "      <td>50000.000000</td>\n",
       "      <td>50000.000000</td>\n",
       "    </tr>\n",
       "    <tr>\n",
       "      <th>mean</th>\n",
       "      <td>5.435840</td>\n",
       "      <td>2.717920</td>\n",
       "      <td>2.717920</td>\n",
       "    </tr>\n",
       "    <tr>\n",
       "      <th>std</th>\n",
       "      <td>38.155099</td>\n",
       "      <td>17.059608</td>\n",
       "      <td>24.807715</td>\n",
       "    </tr>\n",
       "    <tr>\n",
       "      <th>min</th>\n",
       "      <td>0.000000</td>\n",
       "      <td>0.000000</td>\n",
       "      <td>0.000000</td>\n",
       "    </tr>\n",
       "    <tr>\n",
       "      <th>25%</th>\n",
       "      <td>1.000000</td>\n",
       "      <td>0.000000</td>\n",
       "      <td>0.000000</td>\n",
       "    </tr>\n",
       "    <tr>\n",
       "      <th>50%</th>\n",
       "      <td>2.000000</td>\n",
       "      <td>1.000000</td>\n",
       "      <td>1.000000</td>\n",
       "    </tr>\n",
       "    <tr>\n",
       "      <th>75%</th>\n",
       "      <td>4.000000</td>\n",
       "      <td>2.000000</td>\n",
       "      <td>2.000000</td>\n",
       "    </tr>\n",
       "    <tr>\n",
       "      <th>max</th>\n",
       "      <td>4037.000000</td>\n",
       "      <td>1433.000000</td>\n",
       "      <td>2617.000000</td>\n",
       "    </tr>\n",
       "  </tbody>\n",
       "</table>\n",
       "</div>"
      ],
      "text/plain": [
       "             degree     in_degree    out_degree\n",
       "count  50000.000000  50000.000000  50000.000000\n",
       "mean       5.435840      2.717920      2.717920\n",
       "std       38.155099     17.059608     24.807715\n",
       "min        0.000000      0.000000      0.000000\n",
       "25%        1.000000      0.000000      0.000000\n",
       "50%        2.000000      1.000000      1.000000\n",
       "75%        4.000000      2.000000      2.000000\n",
       "max     4037.000000   1433.000000   2617.000000"
      ]
     },
     "execution_count": 15,
     "metadata": {},
     "output_type": "execute_result"
    }
   ],
   "source": [
    "# Describe sample properties overall\n",
    "\n",
    "nodes[['degree', 'in_degree', 'out_degree']].describe()"
   ]
  },
  {
   "cell_type": "code",
   "execution_count": 16,
   "id": "37f96023",
   "metadata": {
    "ExecuteTime": {
     "end_time": "2022-05-31T16:59:48.786297Z",
     "start_time": "2022-05-31T16:59:48.755955Z"
    }
   },
   "outputs": [
    {
     "data": {
      "text/html": [
       "<div>\n",
       "<style scoped>\n",
       "    .dataframe tbody tr th:only-of-type {\n",
       "        vertical-align: middle;\n",
       "    }\n",
       "\n",
       "    .dataframe tbody tr th {\n",
       "        vertical-align: top;\n",
       "    }\n",
       "\n",
       "    .dataframe thead th {\n",
       "        text-align: right;\n",
       "    }\n",
       "</style>\n",
       "<table border=\"1\" class=\"dataframe\">\n",
       "  <thead>\n",
       "    <tr style=\"text-align: right;\">\n",
       "      <th></th>\n",
       "      <th>degree</th>\n",
       "      <th>in_degree</th>\n",
       "      <th>out_degree</th>\n",
       "    </tr>\n",
       "  </thead>\n",
       "  <tbody>\n",
       "    <tr>\n",
       "      <th>count</th>\n",
       "      <td>262.000000</td>\n",
       "      <td>262.000000</td>\n",
       "      <td>262.000000</td>\n",
       "    </tr>\n",
       "    <tr>\n",
       "      <th>mean</th>\n",
       "      <td>144.538168</td>\n",
       "      <td>59.305344</td>\n",
       "      <td>85.232824</td>\n",
       "    </tr>\n",
       "    <tr>\n",
       "      <th>std</th>\n",
       "      <td>466.704724</td>\n",
       "      <td>187.595591</td>\n",
       "      <td>308.868016</td>\n",
       "    </tr>\n",
       "    <tr>\n",
       "      <th>min</th>\n",
       "      <td>1.000000</td>\n",
       "      <td>0.000000</td>\n",
       "      <td>0.000000</td>\n",
       "    </tr>\n",
       "    <tr>\n",
       "      <th>25%</th>\n",
       "      <td>7.250000</td>\n",
       "      <td>2.000000</td>\n",
       "      <td>2.000000</td>\n",
       "    </tr>\n",
       "    <tr>\n",
       "      <th>50%</th>\n",
       "      <td>30.000000</td>\n",
       "      <td>10.000000</td>\n",
       "      <td>10.500000</td>\n",
       "    </tr>\n",
       "    <tr>\n",
       "      <th>75%</th>\n",
       "      <td>86.500000</td>\n",
       "      <td>41.000000</td>\n",
       "      <td>38.000000</td>\n",
       "    </tr>\n",
       "    <tr>\n",
       "      <th>max</th>\n",
       "      <td>4037.000000</td>\n",
       "      <td>1433.000000</td>\n",
       "      <td>2617.000000</td>\n",
       "    </tr>\n",
       "  </tbody>\n",
       "</table>\n",
       "</div>"
      ],
      "text/plain": [
       "            degree    in_degree   out_degree\n",
       "count   262.000000   262.000000   262.000000\n",
       "mean    144.538168    59.305344    85.232824\n",
       "std     466.704724   187.595591   308.868016\n",
       "min       1.000000     0.000000     0.000000\n",
       "25%       7.250000     2.000000     2.000000\n",
       "50%      30.000000    10.000000    10.500000\n",
       "75%      86.500000    41.000000    38.000000\n",
       "max    4037.000000  1433.000000  2617.000000"
      ]
     },
     "execution_count": 16,
     "metadata": {},
     "output_type": "execute_result"
    }
   ],
   "source": [
    "# Describe Properties of Fraudulent Nodes\n",
    "\n",
    "nodes_fraud = nodes[nodes['fraud_flag'] == 1]\n",
    "nodes_fraud[['degree', 'in_degree', 'out_degree']].describe()"
   ]
  },
  {
   "cell_type": "code",
   "execution_count": 17,
   "id": "3f082fb7",
   "metadata": {
    "ExecuteTime": {
     "end_time": "2022-05-31T16:59:48.840650Z",
     "start_time": "2022-05-31T16:59:48.791380Z"
    }
   },
   "outputs": [
    {
     "data": {
      "text/html": [
       "<div>\n",
       "<style scoped>\n",
       "    .dataframe tbody tr th:only-of-type {\n",
       "        vertical-align: middle;\n",
       "    }\n",
       "\n",
       "    .dataframe tbody tr th {\n",
       "        vertical-align: top;\n",
       "    }\n",
       "\n",
       "    .dataframe thead th {\n",
       "        text-align: right;\n",
       "    }\n",
       "</style>\n",
       "<table border=\"1\" class=\"dataframe\">\n",
       "  <thead>\n",
       "    <tr style=\"text-align: right;\">\n",
       "      <th></th>\n",
       "      <th>degree</th>\n",
       "      <th>in_degree</th>\n",
       "      <th>out_degree</th>\n",
       "    </tr>\n",
       "  </thead>\n",
       "  <tbody>\n",
       "    <tr>\n",
       "      <th>count</th>\n",
       "      <td>49738.000000</td>\n",
       "      <td>49738.000000</td>\n",
       "      <td>49738.000000</td>\n",
       "    </tr>\n",
       "    <tr>\n",
       "      <th>mean</th>\n",
       "      <td>4.703104</td>\n",
       "      <td>2.419840</td>\n",
       "      <td>2.283264</td>\n",
       "    </tr>\n",
       "    <tr>\n",
       "      <th>std</th>\n",
       "      <td>14.765453</td>\n",
       "      <td>9.535844</td>\n",
       "      <td>9.054886</td>\n",
       "    </tr>\n",
       "    <tr>\n",
       "      <th>min</th>\n",
       "      <td>0.000000</td>\n",
       "      <td>0.000000</td>\n",
       "      <td>0.000000</td>\n",
       "    </tr>\n",
       "    <tr>\n",
       "      <th>25%</th>\n",
       "      <td>1.000000</td>\n",
       "      <td>0.000000</td>\n",
       "      <td>0.000000</td>\n",
       "    </tr>\n",
       "    <tr>\n",
       "      <th>50%</th>\n",
       "      <td>2.000000</td>\n",
       "      <td>1.000000</td>\n",
       "      <td>1.000000</td>\n",
       "    </tr>\n",
       "    <tr>\n",
       "      <th>75%</th>\n",
       "      <td>4.000000</td>\n",
       "      <td>2.000000</td>\n",
       "      <td>2.000000</td>\n",
       "    </tr>\n",
       "    <tr>\n",
       "      <th>max</th>\n",
       "      <td>984.000000</td>\n",
       "      <td>982.000000</td>\n",
       "      <td>598.000000</td>\n",
       "    </tr>\n",
       "  </tbody>\n",
       "</table>\n",
       "</div>"
      ],
      "text/plain": [
       "             degree     in_degree    out_degree\n",
       "count  49738.000000  49738.000000  49738.000000\n",
       "mean       4.703104      2.419840      2.283264\n",
       "std       14.765453      9.535844      9.054886\n",
       "min        0.000000      0.000000      0.000000\n",
       "25%        1.000000      0.000000      0.000000\n",
       "50%        2.000000      1.000000      1.000000\n",
       "75%        4.000000      2.000000      2.000000\n",
       "max      984.000000    982.000000    598.000000"
      ]
     },
     "execution_count": 17,
     "metadata": {},
     "output_type": "execute_result"
    }
   ],
   "source": [
    "# Describe Properties of Non-Fraudulent Nodes\n",
    "\n",
    "nodes_licit = nodes[nodes['fraud_flag'] == 0]\n",
    "nodes_licit[['degree', 'in_degree', 'out_degree']].describe()"
   ]
  },
  {
   "cell_type": "markdown",
   "id": "30cbfde9",
   "metadata": {},
   "source": [
    "For all 3 cases the degree distribution properties are similar to the overall network. One concern is the existence of isolated nodes in the sample."
   ]
  },
  {
   "cell_type": "markdown",
   "id": "46e7c33f",
   "metadata": {},
   "source": [
    "## Graph Properties"
   ]
  },
  {
   "cell_type": "code",
   "execution_count": 18,
   "id": "24f1f6e6",
   "metadata": {
    "ExecuteTime": {
     "end_time": "2022-05-31T16:59:48.979258Z",
     "start_time": "2022-05-31T16:59:48.840650Z"
    }
   },
   "outputs": [
    {
     "data": {
      "text/plain": [
       "5.4359487189743794e-05"
      ]
     },
     "execution_count": 18,
     "metadata": {},
     "output_type": "execute_result"
    }
   ],
   "source": [
    "# Density\n",
    "nx.density(G_rwm2_7) # Connectivity remains very low"
   ]
  },
  {
   "cell_type": "code",
   "execution_count": 19,
   "id": "10308ad9",
   "metadata": {
    "ExecuteTime": {
     "end_time": "2022-05-31T17:00:33.880467Z",
     "start_time": "2022-05-31T17:00:31.843053Z"
    }
   },
   "outputs": [
    {
     "name": "stdout",
     "output_type": "stream",
     "text": [
      "The number of communities in the sample : 11\n"
     ]
    }
   ],
   "source": [
    "# Communities - k-Cliques\n",
    "\n",
    "com_generator_rwm2_7 = k_clique_communities(G_rwm2_7.to_undirected(), k=10)\n",
    "com_rwm2_7 = next(com_generator_rwm2_7)\n",
    "print('The number of communities in the sample : ' + str(len(com_rwm2_7)))"
   ]
  },
  {
   "cell_type": "markdown",
   "id": "1993d1a3",
   "metadata": {},
   "source": [
    "The sample has a variety of community structures. (Note: Giant Component = 107)"
   ]
  },
  {
   "cell_type": "code",
   "execution_count": null,
   "id": "05c73533",
   "metadata": {},
   "outputs": [],
   "source": []
  }
 ],
 "metadata": {
  "kernelspec": {
   "display_name": "Python 3 (ipykernel)",
   "language": "python",
   "name": "python3"
  },
  "language_info": {
   "codemirror_mode": {
    "name": "ipython",
    "version": 3
   },
   "file_extension": ".py",
   "mimetype": "text/x-python",
   "name": "python",
   "nbconvert_exporter": "python",
   "pygments_lexer": "ipython3",
   "version": "3.9.12"
  }
 },
 "nbformat": 4,
 "nbformat_minor": 5
}
