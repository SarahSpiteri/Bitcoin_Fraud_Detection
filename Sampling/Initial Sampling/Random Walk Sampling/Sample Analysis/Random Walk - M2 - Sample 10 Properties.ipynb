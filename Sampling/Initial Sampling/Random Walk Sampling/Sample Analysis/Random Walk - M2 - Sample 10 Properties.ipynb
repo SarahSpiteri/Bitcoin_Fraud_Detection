{
 "cells": [
  {
   "cell_type": "code",
   "execution_count": 1,
   "id": "7db3326c",
   "metadata": {
    "ExecuteTime": {
     "end_time": "2022-05-31T17:24:57.242929Z",
     "start_time": "2022-05-31T17:24:56.326147Z"
    }
   },
   "outputs": [],
   "source": [
    "import pandas as pd\n",
    "import numpy as np\n",
    "\n",
    "import networkx as nx\n",
    "from networkx.algorithms.community import k_clique_communities\n",
    "import random as rd\n",
    "rd.seed(42)\n",
    "\n",
    "import warnings\n",
    "warnings.filterwarnings('ignore')"
   ]
  },
  {
   "cell_type": "markdown",
   "id": "4f6f7498",
   "metadata": {},
   "source": [
    "## Random Walk Sampling Method 2\n",
    "### Sample 10"
   ]
  },
  {
   "cell_type": "code",
   "execution_count": 2,
   "id": "7497eb2b",
   "metadata": {
    "ExecuteTime": {
     "end_time": "2022-05-31T17:25:28.638756Z",
     "start_time": "2022-05-31T17:25:11.731275Z"
    }
   },
   "outputs": [],
   "source": [
    "G_rwm2_10 = nx.read_gml(r'C:\\Users\\sarah\\Documents\\UNI\\Masters\\Study\\Term_3\\Master Project\\Samples\\Random Walk Sampling\\G_rw2_10.gml')"
   ]
  },
  {
   "cell_type": "code",
   "execution_count": 3,
   "id": "fcc435ac",
   "metadata": {
    "ExecuteTime": {
     "end_time": "2022-05-31T17:25:28.682541Z",
     "start_time": "2022-05-31T17:25:28.641928Z"
    }
   },
   "outputs": [
    {
     "data": {
      "text/plain": [
       "True"
      ]
     },
     "execution_count": 3,
     "metadata": {},
     "output_type": "execute_result"
    }
   ],
   "source": [
    "# Confirm that Graph is Directed\n",
    "nx.is_directed(G_rwm2_10)"
   ]
  },
  {
   "cell_type": "code",
   "execution_count": 4,
   "id": "e6d6887f",
   "metadata": {
    "ExecuteTime": {
     "end_time": "2022-05-31T17:25:28.988755Z",
     "start_time": "2022-05-31T17:25:28.686074Z"
    }
   },
   "outputs": [
    {
     "name": "stdout",
     "output_type": "stream",
     "text": [
      "MultiDiGraph with 50000 nodes and 135255 edges\n"
     ]
    }
   ],
   "source": [
    "# Display Size of the Graph\n",
    "print(nx.info(G_rwm2_10))"
   ]
  },
  {
   "cell_type": "markdown",
   "id": "a3358272",
   "metadata": {},
   "source": [
    "Confirmed that the graph meets the criterea of having more edges than nodes and maintained the directed structure."
   ]
  },
  {
   "cell_type": "code",
   "execution_count": 5,
   "id": "f7d8d878",
   "metadata": {
    "ExecuteTime": {
     "end_time": "2022-05-31T17:27:05.551662Z",
     "start_time": "2022-05-31T17:27:05.540441Z"
    }
   },
   "outputs": [],
   "source": [
    "# List all nodes in the sample\n",
    "n_rwm2_10 = list(G_rwm2_10.nodes)"
   ]
  },
  {
   "cell_type": "code",
   "execution_count": 6,
   "id": "b3076b70",
   "metadata": {
    "ExecuteTime": {
     "end_time": "2022-05-31T17:27:13.731871Z",
     "start_time": "2022-05-31T17:27:08.279799Z"
    }
   },
   "outputs": [
    {
     "data": {
      "text/html": [
       "<div>\n",
       "<style scoped>\n",
       "    .dataframe tbody tr th:only-of-type {\n",
       "        vertical-align: middle;\n",
       "    }\n",
       "\n",
       "    .dataframe tbody tr th {\n",
       "        vertical-align: top;\n",
       "    }\n",
       "\n",
       "    .dataframe thead th {\n",
       "        text-align: right;\n",
       "    }\n",
       "</style>\n",
       "<table border=\"1\" class=\"dataframe\">\n",
       "  <thead>\n",
       "    <tr style=\"text-align: right;\">\n",
       "      <th></th>\n",
       "      <th>degree</th>\n",
       "      <th>in_degree</th>\n",
       "      <th>out_degree</th>\n",
       "      <th>eigen_centrality</th>\n",
       "    </tr>\n",
       "  </thead>\n",
       "  <tbody>\n",
       "    <tr>\n",
       "      <th>count</th>\n",
       "      <td>4.666873e+06</td>\n",
       "      <td>4.666873e+06</td>\n",
       "      <td>4.666873e+06</td>\n",
       "      <td>4.666873e+06</td>\n",
       "    </tr>\n",
       "    <tr>\n",
       "      <th>mean</th>\n",
       "      <td>4.494298e+00</td>\n",
       "      <td>2.247149e+00</td>\n",
       "      <td>2.247149e+00</td>\n",
       "      <td>3.970074e-05</td>\n",
       "    </tr>\n",
       "    <tr>\n",
       "      <th>std</th>\n",
       "      <td>3.935922e+01</td>\n",
       "      <td>1.998412e+01</td>\n",
       "      <td>2.868249e+01</td>\n",
       "      <td>4.611943e-04</td>\n",
       "    </tr>\n",
       "    <tr>\n",
       "      <th>min</th>\n",
       "      <td>1.000000e+00</td>\n",
       "      <td>0.000000e+00</td>\n",
       "      <td>0.000000e+00</td>\n",
       "      <td>1.193322e-21</td>\n",
       "    </tr>\n",
       "    <tr>\n",
       "      <th>25%</th>\n",
       "      <td>1.000000e+00</td>\n",
       "      <td>0.000000e+00</td>\n",
       "      <td>0.000000e+00</td>\n",
       "      <td>1.193322e-21</td>\n",
       "    </tr>\n",
       "    <tr>\n",
       "      <th>50%</th>\n",
       "      <td>2.000000e+00</td>\n",
       "      <td>1.000000e+00</td>\n",
       "      <td>1.000000e+00</td>\n",
       "      <td>4.892620e-20</td>\n",
       "    </tr>\n",
       "    <tr>\n",
       "      <th>75%</th>\n",
       "      <td>3.000000e+00</td>\n",
       "      <td>1.000000e+00</td>\n",
       "      <td>2.000000e+00</td>\n",
       "      <td>1.517475e-14</td>\n",
       "    </tr>\n",
       "    <tr>\n",
       "      <th>max</th>\n",
       "      <td>2.791700e+04</td>\n",
       "      <td>1.211600e+04</td>\n",
       "      <td>2.533500e+04</td>\n",
       "      <td>1.642653e-01</td>\n",
       "    </tr>\n",
       "  </tbody>\n",
       "</table>\n",
       "</div>"
      ],
      "text/plain": [
       "             degree     in_degree    out_degree  eigen_centrality\n",
       "count  4.666873e+06  4.666873e+06  4.666873e+06      4.666873e+06\n",
       "mean   4.494298e+00  2.247149e+00  2.247149e+00      3.970074e-05\n",
       "std    3.935922e+01  1.998412e+01  2.868249e+01      4.611943e-04\n",
       "min    1.000000e+00  0.000000e+00  0.000000e+00      1.193322e-21\n",
       "25%    1.000000e+00  0.000000e+00  0.000000e+00      1.193322e-21\n",
       "50%    2.000000e+00  1.000000e+00  1.000000e+00      4.892620e-20\n",
       "75%    3.000000e+00  1.000000e+00  2.000000e+00      1.517475e-14\n",
       "max    2.791700e+04  1.211600e+04  2.533500e+04      1.642653e-01"
      ]
     },
     "execution_count": 6,
     "metadata": {},
     "output_type": "execute_result"
    }
   ],
   "source": [
    "# Get node properties from data exploration exercise for comparison\n",
    "node_properties = pd.read_csv(r'C:\\Users\\sarah\\Documents\\UNI\\Masters\\Study\\Term_3\\Master Project\\node_properties_cl.csv')\n",
    "node_properties[['degree', 'in_degree', 'out_degree', 'eigen_centrality']].describe()"
   ]
  },
  {
   "cell_type": "code",
   "execution_count": 7,
   "id": "06aeac91",
   "metadata": {
    "ExecuteTime": {
     "end_time": "2022-05-31T17:27:26.367593Z",
     "start_time": "2022-05-31T17:27:25.803880Z"
    }
   },
   "outputs": [
    {
     "data": {
      "text/html": [
       "<div>\n",
       "<style scoped>\n",
       "    .dataframe tbody tr th:only-of-type {\n",
       "        vertical-align: middle;\n",
       "    }\n",
       "\n",
       "    .dataframe tbody tr th {\n",
       "        vertical-align: top;\n",
       "    }\n",
       "\n",
       "    .dataframe thead th {\n",
       "        text-align: right;\n",
       "    }\n",
       "</style>\n",
       "<table border=\"1\" class=\"dataframe\">\n",
       "  <thead>\n",
       "    <tr style=\"text-align: right;\">\n",
       "      <th></th>\n",
       "      <th>source</th>\n",
       "      <th>target</th>\n",
       "      <th>weight</th>\n",
       "    </tr>\n",
       "  </thead>\n",
       "  <tbody>\n",
       "    <tr>\n",
       "      <th>0</th>\n",
       "      <td>1MsyXEHLuP5FiA99Kn3qKpwrdCmpNt1QDy</td>\n",
       "      <td>1AhzpH2UhXytim46ELJY6sgncpVTVkqAvJ</td>\n",
       "      <td>1.0</td>\n",
       "    </tr>\n",
       "    <tr>\n",
       "      <th>1</th>\n",
       "      <td>1MsyXEHLuP5FiA99Kn3qKpwrdCmpNt1QDy</td>\n",
       "      <td>1KKdvgyTXn36pQTsq9UQwcfVcCTL2JYBbH</td>\n",
       "      <td>1.0</td>\n",
       "    </tr>\n",
       "    <tr>\n",
       "      <th>2</th>\n",
       "      <td>1GnAQK1cRjTUo8qzHs4hV6L6taDv7gsqaZ</td>\n",
       "      <td>17DymPqjNEv8Ba6KKmsBQ5ZjNEXakd3krz</td>\n",
       "      <td>1.0</td>\n",
       "    </tr>\n",
       "    <tr>\n",
       "      <th>3</th>\n",
       "      <td>3Cxge71ZUmfWNA4hDVdZGCnAxaT5DbbbnT</td>\n",
       "      <td>1GD2hUXGgXtmYPFanAkjktAvaSXNdhAJtZ</td>\n",
       "      <td>1.0</td>\n",
       "    </tr>\n",
       "    <tr>\n",
       "      <th>4</th>\n",
       "      <td>3Cxge71ZUmfWNA4hDVdZGCnAxaT5DbbbnT</td>\n",
       "      <td>357qDbNztdqY5WF38y56S6uogVmh5bFYN4</td>\n",
       "      <td>1.0</td>\n",
       "    </tr>\n",
       "  </tbody>\n",
       "</table>\n",
       "</div>"
      ],
      "text/plain": [
       "                               source                              target  \\\n",
       "0  1MsyXEHLuP5FiA99Kn3qKpwrdCmpNt1QDy  1AhzpH2UhXytim46ELJY6sgncpVTVkqAvJ   \n",
       "1  1MsyXEHLuP5FiA99Kn3qKpwrdCmpNt1QDy  1KKdvgyTXn36pQTsq9UQwcfVcCTL2JYBbH   \n",
       "2  1GnAQK1cRjTUo8qzHs4hV6L6taDv7gsqaZ  17DymPqjNEv8Ba6KKmsBQ5ZjNEXakd3krz   \n",
       "3  3Cxge71ZUmfWNA4hDVdZGCnAxaT5DbbbnT  1GD2hUXGgXtmYPFanAkjktAvaSXNdhAJtZ   \n",
       "4  3Cxge71ZUmfWNA4hDVdZGCnAxaT5DbbbnT  357qDbNztdqY5WF38y56S6uogVmh5bFYN4   \n",
       "\n",
       "   weight  \n",
       "0     1.0  \n",
       "1     1.0  \n",
       "2     1.0  \n",
       "3     1.0  \n",
       "4     1.0  "
      ]
     },
     "execution_count": 7,
     "metadata": {},
     "output_type": "execute_result"
    }
   ],
   "source": [
    "rwm2_10_df = nx.to_pandas_edgelist(G_rwm2_10) \n",
    "rwm2_10_df.head()"
   ]
  },
  {
   "cell_type": "code",
   "execution_count": 8,
   "id": "35280230",
   "metadata": {
    "ExecuteTime": {
     "end_time": "2022-05-31T17:27:31.965078Z",
     "start_time": "2022-05-31T17:27:31.919011Z"
    }
   },
   "outputs": [
    {
     "data": {
      "text/plain": [
       "32043"
      ]
     },
     "execution_count": 8,
     "metadata": {},
     "output_type": "execute_result"
    }
   ],
   "source": [
    "# Number of unique input addresses\n",
    "rwm2_10_df['source'].nunique()"
   ]
  },
  {
   "cell_type": "code",
   "execution_count": 9,
   "id": "b8db4502",
   "metadata": {
    "ExecuteTime": {
     "end_time": "2022-05-31T17:27:36.381394Z",
     "start_time": "2022-05-31T17:27:36.309496Z"
    }
   },
   "outputs": [
    {
     "data": {
      "text/plain": [
       "31157"
      ]
     },
     "execution_count": 9,
     "metadata": {},
     "output_type": "execute_result"
    }
   ],
   "source": [
    "# Number of unique output addresses\n",
    "rwm2_10_df['target'].nunique()"
   ]
  },
  {
   "cell_type": "markdown",
   "id": "0cff6ad4",
   "metadata": {},
   "source": [
    "We observe relative balance between input and output addresses, with slightly more input addresses. In the full dataset there is also relative balance, but there were more output addresses. "
   ]
  },
  {
   "cell_type": "code",
   "execution_count": 10,
   "id": "f0a263fa",
   "metadata": {
    "ExecuteTime": {
     "end_time": "2022-05-31T17:28:27.499801Z",
     "start_time": "2022-05-31T17:28:27.472591Z"
    }
   },
   "outputs": [
    {
     "data": {
      "text/html": [
       "<div>\n",
       "<style scoped>\n",
       "    .dataframe tbody tr th:only-of-type {\n",
       "        vertical-align: middle;\n",
       "    }\n",
       "\n",
       "    .dataframe tbody tr th {\n",
       "        vertical-align: top;\n",
       "    }\n",
       "\n",
       "    .dataframe thead th {\n",
       "        text-align: right;\n",
       "    }\n",
       "</style>\n",
       "<table border=\"1\" class=\"dataframe\">\n",
       "  <thead>\n",
       "    <tr style=\"text-align: right;\">\n",
       "      <th></th>\n",
       "      <th>weight</th>\n",
       "    </tr>\n",
       "  </thead>\n",
       "  <tbody>\n",
       "    <tr>\n",
       "      <th>count</th>\n",
       "      <td>135255.000000</td>\n",
       "    </tr>\n",
       "    <tr>\n",
       "      <th>mean</th>\n",
       "      <td>0.781731</td>\n",
       "    </tr>\n",
       "    <tr>\n",
       "      <th>std</th>\n",
       "      <td>0.467197</td>\n",
       "    </tr>\n",
       "    <tr>\n",
       "      <th>min</th>\n",
       "      <td>-69.648093</td>\n",
       "    </tr>\n",
       "    <tr>\n",
       "      <th>25%</th>\n",
       "      <td>0.545759</td>\n",
       "    </tr>\n",
       "    <tr>\n",
       "      <th>50%</th>\n",
       "      <td>1.000000</td>\n",
       "    </tr>\n",
       "    <tr>\n",
       "      <th>75%</th>\n",
       "      <td>1.000000</td>\n",
       "    </tr>\n",
       "    <tr>\n",
       "      <th>max</th>\n",
       "      <td>52.821905</td>\n",
       "    </tr>\n",
       "  </tbody>\n",
       "</table>\n",
       "</div>"
      ],
      "text/plain": [
       "              weight\n",
       "count  135255.000000\n",
       "mean        0.781731\n",
       "std         0.467197\n",
       "min       -69.648093\n",
       "25%         0.545759\n",
       "50%         1.000000\n",
       "75%         1.000000\n",
       "max        52.821905"
      ]
     },
     "execution_count": 10,
     "metadata": {},
     "output_type": "execute_result"
    }
   ],
   "source": [
    "rwm2_10_df.describe()"
   ]
  },
  {
   "cell_type": "markdown",
   "id": "dcdb695e",
   "metadata": {},
   "source": [
    "The weight variable shows that the distribution of the weighting (amount*0.5 + timestamp*0.5) is similar to that of overall transaction amounts."
   ]
  },
  {
   "cell_type": "code",
   "execution_count": 11,
   "id": "79d4e08d",
   "metadata": {
    "ExecuteTime": {
     "end_time": "2022-05-31T17:28:37.389431Z",
     "start_time": "2022-05-31T17:28:37.338211Z"
    }
   },
   "outputs": [
    {
     "name": "stdout",
     "output_type": "stream",
     "text": [
      "Total number of fraudulent/high-risk nodes :  4563\n",
      "Number of fraudulent/high-risk nodes in sample :  280\n"
     ]
    }
   ],
   "source": [
    "# Subset by fraudulent/high-risk nodes\n",
    "fr_nodes = node_properties[node_properties['fraud_flag'] == 1]\n",
    "fr_nodes = fr_nodes['address'].tolist()\n",
    "print('Total number of fraudulent/high-risk nodes : ', len(fr_nodes))\n",
    "\n",
    "# Check for number of fraudulent/high-risk addresses in the sample\n",
    "print('Number of fraudulent/high-risk nodes in sample : ', len(set(n_rwm2_10).intersection(fr_nodes)))"
   ]
  },
  {
   "cell_type": "markdown",
   "id": "cd0dbfac",
   "metadata": {},
   "source": [
    "These numbers suggest that random selection of nodes worsens the class imbalance problem, but when considering the counts relative to the size of the network the issue is less pronounced.\n",
    "\n",
    "Full Network: 0.11% \n",
    "\n",
    "Sample: 0.56%"
   ]
  },
  {
   "cell_type": "markdown",
   "id": "d3fb5977",
   "metadata": {},
   "source": [
    "## Node Properties"
   ]
  },
  {
   "cell_type": "code",
   "execution_count": 12,
   "id": "5c117beb",
   "metadata": {
    "ExecuteTime": {
     "end_time": "2022-05-31T17:31:22.288534Z",
     "start_time": "2022-05-31T17:31:21.967948Z"
    }
   },
   "outputs": [],
   "source": [
    "# Get Properties\n",
    "\n",
    "address = [node for (node, val) in G_rwm2_10.degree()]\n",
    "degree = [val for (node, val) in G_rwm2_10.degree()]\n",
    "in_degree = [val for (node, val) in G_rwm2_10.in_degree()]\n",
    "out_degree = [val for (node, val) in G_rwm2_10.out_degree()]\n",
    "#eigen_centrality = nx.eigenvector_centrality(G_rwm2_10) # NetworkXNotImplemented: not implemented for multigraph type\n",
    "#eigen_centrality = [eigen_centrality[node] for node in eigen_centrality]"
   ]
  },
  {
   "cell_type": "code",
   "execution_count": 13,
   "id": "3aa7e856",
   "metadata": {
    "ExecuteTime": {
     "end_time": "2022-05-31T17:31:24.024416Z",
     "start_time": "2022-05-31T17:31:23.957808Z"
    }
   },
   "outputs": [],
   "source": [
    "# Add Properties to DataFrame\n",
    "\n",
    "nodes = pd.DataFrame()\n",
    "nodes['address'] = address\n",
    "nodes['degree'] = degree\n",
    "nodes['in_degree'] = in_degree\n",
    "nodes['out_degree'] = out_degree\n",
    "#nodes['eigen_centrality'] = eigen_centrality"
   ]
  },
  {
   "cell_type": "code",
   "execution_count": 14,
   "id": "63a95d5f",
   "metadata": {
    "ExecuteTime": {
     "end_time": "2022-05-31T17:31:39.372702Z",
     "start_time": "2022-05-31T17:31:25.680960Z"
    }
   },
   "outputs": [
    {
     "data": {
      "text/html": [
       "<div>\n",
       "<style scoped>\n",
       "    .dataframe tbody tr th:only-of-type {\n",
       "        vertical-align: middle;\n",
       "    }\n",
       "\n",
       "    .dataframe tbody tr th {\n",
       "        vertical-align: top;\n",
       "    }\n",
       "\n",
       "    .dataframe thead th {\n",
       "        text-align: right;\n",
       "    }\n",
       "</style>\n",
       "<table border=\"1\" class=\"dataframe\">\n",
       "  <thead>\n",
       "    <tr style=\"text-align: right;\">\n",
       "      <th></th>\n",
       "      <th>address</th>\n",
       "      <th>degree</th>\n",
       "      <th>in_degree</th>\n",
       "      <th>out_degree</th>\n",
       "      <th>fraud_flag</th>\n",
       "    </tr>\n",
       "  </thead>\n",
       "  <tbody>\n",
       "    <tr>\n",
       "      <th>0</th>\n",
       "      <td>14hjFgRXw6TtLsQCNSu5Y9cmbfrSJ1wi2a</td>\n",
       "      <td>1</td>\n",
       "      <td>1</td>\n",
       "      <td>0</td>\n",
       "      <td>0</td>\n",
       "    </tr>\n",
       "    <tr>\n",
       "      <th>1</th>\n",
       "      <td>1MsyXEHLuP5FiA99Kn3qKpwrdCmpNt1QDy</td>\n",
       "      <td>6</td>\n",
       "      <td>4</td>\n",
       "      <td>2</td>\n",
       "      <td>0</td>\n",
       "    </tr>\n",
       "    <tr>\n",
       "      <th>2</th>\n",
       "      <td>1GnAQK1cRjTUo8qzHs4hV6L6taDv7gsqaZ</td>\n",
       "      <td>2</td>\n",
       "      <td>1</td>\n",
       "      <td>1</td>\n",
       "      <td>0</td>\n",
       "    </tr>\n",
       "    <tr>\n",
       "      <th>3</th>\n",
       "      <td>3Cxge71ZUmfWNA4hDVdZGCnAxaT5DbbbnT</td>\n",
       "      <td>3</td>\n",
       "      <td>0</td>\n",
       "      <td>3</td>\n",
       "      <td>0</td>\n",
       "    </tr>\n",
       "    <tr>\n",
       "      <th>4</th>\n",
       "      <td>3MRq4uGsQxtYbw65Y5264bXqXCyqNGkcYh</td>\n",
       "      <td>1</td>\n",
       "      <td>1</td>\n",
       "      <td>0</td>\n",
       "      <td>0</td>\n",
       "    </tr>\n",
       "  </tbody>\n",
       "</table>\n",
       "</div>"
      ],
      "text/plain": [
       "                              address  degree  in_degree  out_degree  \\\n",
       "0  14hjFgRXw6TtLsQCNSu5Y9cmbfrSJ1wi2a       1          1           0   \n",
       "1  1MsyXEHLuP5FiA99Kn3qKpwrdCmpNt1QDy       6          4           2   \n",
       "2  1GnAQK1cRjTUo8qzHs4hV6L6taDv7gsqaZ       2          1           1   \n",
       "3  3Cxge71ZUmfWNA4hDVdZGCnAxaT5DbbbnT       3          0           3   \n",
       "4  3MRq4uGsQxtYbw65Y5264bXqXCyqNGkcYh       1          1           0   \n",
       "\n",
       "   fraud_flag  \n",
       "0           0  \n",
       "1           0  \n",
       "2           0  \n",
       "3           0  \n",
       "4           0  "
      ]
     },
     "execution_count": 14,
     "metadata": {},
     "output_type": "execute_result"
    }
   ],
   "source": [
    "# Add fraud flag\n",
    "\n",
    "nodes = nodes.assign(**dict.fromkeys(['fraud_flag'], 0))\n",
    "\n",
    "for i in fr_nodes:\n",
    "    nodes.loc[nodes.address == i, 'fraud_flag'] = 1\n",
    "    \n",
    "nodes.head()"
   ]
  },
  {
   "cell_type": "code",
   "execution_count": 15,
   "id": "822f8896",
   "metadata": {
    "ExecuteTime": {
     "end_time": "2022-05-31T17:31:39.418979Z",
     "start_time": "2022-05-31T17:31:39.375694Z"
    }
   },
   "outputs": [
    {
     "data": {
      "text/html": [
       "<div>\n",
       "<style scoped>\n",
       "    .dataframe tbody tr th:only-of-type {\n",
       "        vertical-align: middle;\n",
       "    }\n",
       "\n",
       "    .dataframe tbody tr th {\n",
       "        vertical-align: top;\n",
       "    }\n",
       "\n",
       "    .dataframe thead th {\n",
       "        text-align: right;\n",
       "    }\n",
       "</style>\n",
       "<table border=\"1\" class=\"dataframe\">\n",
       "  <thead>\n",
       "    <tr style=\"text-align: right;\">\n",
       "      <th></th>\n",
       "      <th>degree</th>\n",
       "      <th>in_degree</th>\n",
       "      <th>out_degree</th>\n",
       "    </tr>\n",
       "  </thead>\n",
       "  <tbody>\n",
       "    <tr>\n",
       "      <th>count</th>\n",
       "      <td>50000.000000</td>\n",
       "      <td>50000.000000</td>\n",
       "      <td>50000.000000</td>\n",
       "    </tr>\n",
       "    <tr>\n",
       "      <th>mean</th>\n",
       "      <td>5.410200</td>\n",
       "      <td>2.705100</td>\n",
       "      <td>2.705100</td>\n",
       "    </tr>\n",
       "    <tr>\n",
       "      <th>std</th>\n",
       "      <td>38.661711</td>\n",
       "      <td>16.932799</td>\n",
       "      <td>25.292302</td>\n",
       "    </tr>\n",
       "    <tr>\n",
       "      <th>min</th>\n",
       "      <td>0.000000</td>\n",
       "      <td>0.000000</td>\n",
       "      <td>0.000000</td>\n",
       "    </tr>\n",
       "    <tr>\n",
       "      <th>25%</th>\n",
       "      <td>1.000000</td>\n",
       "      <td>0.000000</td>\n",
       "      <td>0.000000</td>\n",
       "    </tr>\n",
       "    <tr>\n",
       "      <th>50%</th>\n",
       "      <td>2.000000</td>\n",
       "      <td>1.000000</td>\n",
       "      <td>1.000000</td>\n",
       "    </tr>\n",
       "    <tr>\n",
       "      <th>75%</th>\n",
       "      <td>4.000000</td>\n",
       "      <td>2.000000</td>\n",
       "      <td>2.000000</td>\n",
       "    </tr>\n",
       "    <tr>\n",
       "      <th>max</th>\n",
       "      <td>4127.000000</td>\n",
       "      <td>1500.000000</td>\n",
       "      <td>2661.000000</td>\n",
       "    </tr>\n",
       "  </tbody>\n",
       "</table>\n",
       "</div>"
      ],
      "text/plain": [
       "             degree     in_degree    out_degree\n",
       "count  50000.000000  50000.000000  50000.000000\n",
       "mean       5.410200      2.705100      2.705100\n",
       "std       38.661711     16.932799     25.292302\n",
       "min        0.000000      0.000000      0.000000\n",
       "25%        1.000000      0.000000      0.000000\n",
       "50%        2.000000      1.000000      1.000000\n",
       "75%        4.000000      2.000000      2.000000\n",
       "max     4127.000000   1500.000000   2661.000000"
      ]
     },
     "execution_count": 15,
     "metadata": {},
     "output_type": "execute_result"
    }
   ],
   "source": [
    "# Describe sample properties overall\n",
    "\n",
    "nodes[['degree', 'in_degree', 'out_degree']].describe()"
   ]
  },
  {
   "cell_type": "code",
   "execution_count": 16,
   "id": "37f96023",
   "metadata": {
    "ExecuteTime": {
     "end_time": "2022-05-31T17:31:39.465913Z",
     "start_time": "2022-05-31T17:31:39.418979Z"
    }
   },
   "outputs": [
    {
     "data": {
      "text/html": [
       "<div>\n",
       "<style scoped>\n",
       "    .dataframe tbody tr th:only-of-type {\n",
       "        vertical-align: middle;\n",
       "    }\n",
       "\n",
       "    .dataframe tbody tr th {\n",
       "        vertical-align: top;\n",
       "    }\n",
       "\n",
       "    .dataframe thead th {\n",
       "        text-align: right;\n",
       "    }\n",
       "</style>\n",
       "<table border=\"1\" class=\"dataframe\">\n",
       "  <thead>\n",
       "    <tr style=\"text-align: right;\">\n",
       "      <th></th>\n",
       "      <th>degree</th>\n",
       "      <th>in_degree</th>\n",
       "      <th>out_degree</th>\n",
       "    </tr>\n",
       "  </thead>\n",
       "  <tbody>\n",
       "    <tr>\n",
       "      <th>count</th>\n",
       "      <td>280.000000</td>\n",
       "      <td>280.000000</td>\n",
       "      <td>280.00000</td>\n",
       "    </tr>\n",
       "    <tr>\n",
       "      <th>mean</th>\n",
       "      <td>130.203571</td>\n",
       "      <td>51.928571</td>\n",
       "      <td>78.27500</td>\n",
       "    </tr>\n",
       "    <tr>\n",
       "      <th>std</th>\n",
       "      <td>462.872949</td>\n",
       "      <td>181.708090</td>\n",
       "      <td>308.03976</td>\n",
       "    </tr>\n",
       "    <tr>\n",
       "      <th>min</th>\n",
       "      <td>1.000000</td>\n",
       "      <td>0.000000</td>\n",
       "      <td>0.00000</td>\n",
       "    </tr>\n",
       "    <tr>\n",
       "      <th>25%</th>\n",
       "      <td>5.000000</td>\n",
       "      <td>2.000000</td>\n",
       "      <td>1.00000</td>\n",
       "    </tr>\n",
       "    <tr>\n",
       "      <th>50%</th>\n",
       "      <td>24.000000</td>\n",
       "      <td>9.500000</td>\n",
       "      <td>7.00000</td>\n",
       "    </tr>\n",
       "    <tr>\n",
       "      <th>75%</th>\n",
       "      <td>77.250000</td>\n",
       "      <td>37.000000</td>\n",
       "      <td>30.25000</td>\n",
       "    </tr>\n",
       "    <tr>\n",
       "      <th>max</th>\n",
       "      <td>4127.000000</td>\n",
       "      <td>1500.000000</td>\n",
       "      <td>2661.00000</td>\n",
       "    </tr>\n",
       "  </tbody>\n",
       "</table>\n",
       "</div>"
      ],
      "text/plain": [
       "            degree    in_degree  out_degree\n",
       "count   280.000000   280.000000   280.00000\n",
       "mean    130.203571    51.928571    78.27500\n",
       "std     462.872949   181.708090   308.03976\n",
       "min       1.000000     0.000000     0.00000\n",
       "25%       5.000000     2.000000     1.00000\n",
       "50%      24.000000     9.500000     7.00000\n",
       "75%      77.250000    37.000000    30.25000\n",
       "max    4127.000000  1500.000000  2661.00000"
      ]
     },
     "execution_count": 16,
     "metadata": {},
     "output_type": "execute_result"
    }
   ],
   "source": [
    "# Describe Properties of Fraudulent Nodes\n",
    "\n",
    "nodes_fraud = nodes[nodes['fraud_flag'] == 1]\n",
    "nodes_fraud[['degree', 'in_degree', 'out_degree']].describe()"
   ]
  },
  {
   "cell_type": "code",
   "execution_count": 17,
   "id": "3f082fb7",
   "metadata": {
    "ExecuteTime": {
     "end_time": "2022-05-31T17:31:39.518353Z",
     "start_time": "2022-05-31T17:31:39.470420Z"
    }
   },
   "outputs": [
    {
     "data": {
      "text/html": [
       "<div>\n",
       "<style scoped>\n",
       "    .dataframe tbody tr th:only-of-type {\n",
       "        vertical-align: middle;\n",
       "    }\n",
       "\n",
       "    .dataframe tbody tr th {\n",
       "        vertical-align: top;\n",
       "    }\n",
       "\n",
       "    .dataframe thead th {\n",
       "        text-align: right;\n",
       "    }\n",
       "</style>\n",
       "<table border=\"1\" class=\"dataframe\">\n",
       "  <thead>\n",
       "    <tr style=\"text-align: right;\">\n",
       "      <th></th>\n",
       "      <th>degree</th>\n",
       "      <th>in_degree</th>\n",
       "      <th>out_degree</th>\n",
       "    </tr>\n",
       "  </thead>\n",
       "  <tbody>\n",
       "    <tr>\n",
       "      <th>count</th>\n",
       "      <td>49720.000000</td>\n",
       "      <td>49720.000000</td>\n",
       "      <td>49720.000000</td>\n",
       "    </tr>\n",
       "    <tr>\n",
       "      <th>mean</th>\n",
       "      <td>4.707422</td>\n",
       "      <td>2.427896</td>\n",
       "      <td>2.279525</td>\n",
       "    </tr>\n",
       "    <tr>\n",
       "      <th>std</th>\n",
       "      <td>14.583157</td>\n",
       "      <td>9.451537</td>\n",
       "      <td>8.859482</td>\n",
       "    </tr>\n",
       "    <tr>\n",
       "      <th>min</th>\n",
       "      <td>0.000000</td>\n",
       "      <td>0.000000</td>\n",
       "      <td>0.000000</td>\n",
       "    </tr>\n",
       "    <tr>\n",
       "      <th>25%</th>\n",
       "      <td>1.000000</td>\n",
       "      <td>0.000000</td>\n",
       "      <td>0.000000</td>\n",
       "    </tr>\n",
       "    <tr>\n",
       "      <th>50%</th>\n",
       "      <td>2.000000</td>\n",
       "      <td>1.000000</td>\n",
       "      <td>1.000000</td>\n",
       "    </tr>\n",
       "    <tr>\n",
       "      <th>75%</th>\n",
       "      <td>4.000000</td>\n",
       "      <td>2.000000</td>\n",
       "      <td>2.000000</td>\n",
       "    </tr>\n",
       "    <tr>\n",
       "      <th>max</th>\n",
       "      <td>911.000000</td>\n",
       "      <td>905.000000</td>\n",
       "      <td>617.000000</td>\n",
       "    </tr>\n",
       "  </tbody>\n",
       "</table>\n",
       "</div>"
      ],
      "text/plain": [
       "             degree     in_degree    out_degree\n",
       "count  49720.000000  49720.000000  49720.000000\n",
       "mean       4.707422      2.427896      2.279525\n",
       "std       14.583157      9.451537      8.859482\n",
       "min        0.000000      0.000000      0.000000\n",
       "25%        1.000000      0.000000      0.000000\n",
       "50%        2.000000      1.000000      1.000000\n",
       "75%        4.000000      2.000000      2.000000\n",
       "max      911.000000    905.000000    617.000000"
      ]
     },
     "execution_count": 17,
     "metadata": {},
     "output_type": "execute_result"
    }
   ],
   "source": [
    "# Describe Properties of Non-Fraudulent Nodes\n",
    "\n",
    "nodes_licit = nodes[nodes['fraud_flag'] == 0]\n",
    "nodes_licit[['degree', 'in_degree', 'out_degree']].describe()"
   ]
  },
  {
   "cell_type": "markdown",
   "id": "30cbfde9",
   "metadata": {},
   "source": [
    "For all 3 cases the degree distribution properties are similar to the overall network. One concern is the presence of isolated nodes."
   ]
  },
  {
   "cell_type": "markdown",
   "id": "46e7c33f",
   "metadata": {},
   "source": [
    "## Graph Properties"
   ]
  },
  {
   "cell_type": "code",
   "execution_count": 18,
   "id": "24f1f6e6",
   "metadata": {
    "ExecuteTime": {
     "end_time": "2022-05-31T17:31:39.687647Z",
     "start_time": "2022-05-31T17:31:39.520955Z"
    }
   },
   "outputs": [
    {
     "data": {
      "text/plain": [
       "5.4103082061641235e-05"
      ]
     },
     "execution_count": 18,
     "metadata": {},
     "output_type": "execute_result"
    }
   ],
   "source": [
    "# Density\n",
    "nx.density(G_rwm2_10) # Connectivity remains very low"
   ]
  },
  {
   "cell_type": "code",
   "execution_count": 19,
   "id": "10308ad9",
   "metadata": {
    "ExecuteTime": {
     "end_time": "2022-05-31T17:33:14.249066Z",
     "start_time": "2022-05-31T17:33:11.353109Z"
    }
   },
   "outputs": [
    {
     "name": "stdout",
     "output_type": "stream",
     "text": [
      "The number of communities in the sample : 10\n"
     ]
    }
   ],
   "source": [
    "# Communities - k-Cliques\n",
    "\n",
    "com_generator_rwm2_10 = k_clique_communities(G_rwm2_10.to_undirected(), k=10)\n",
    "com_rwm2_10 = next(com_generator_rwm2_10)\n",
    "print('The number of communities in the sample : ' + str(len(com_rwm2_10)))"
   ]
  },
  {
   "cell_type": "markdown",
   "id": "1993d1a3",
   "metadata": {},
   "source": [
    "The sample has a variety of community structures. (Note: Giant Component = 107)"
   ]
  },
  {
   "cell_type": "code",
   "execution_count": null,
   "id": "05c73533",
   "metadata": {},
   "outputs": [],
   "source": []
  }
 ],
 "metadata": {
  "kernelspec": {
   "display_name": "Python 3 (ipykernel)",
   "language": "python",
   "name": "python3"
  },
  "language_info": {
   "codemirror_mode": {
    "name": "ipython",
    "version": 3
   },
   "file_extension": ".py",
   "mimetype": "text/x-python",
   "name": "python",
   "nbconvert_exporter": "python",
   "pygments_lexer": "ipython3",
   "version": "3.9.12"
  }
 },
 "nbformat": 4,
 "nbformat_minor": 5
}
