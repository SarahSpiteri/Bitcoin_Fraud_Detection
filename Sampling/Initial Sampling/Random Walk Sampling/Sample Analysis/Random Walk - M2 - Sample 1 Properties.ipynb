{
 "cells": [
  {
   "cell_type": "code",
   "execution_count": 1,
   "id": "7db3326c",
   "metadata": {
    "ExecuteTime": {
     "end_time": "2022-05-30T21:58:36.086091Z",
     "start_time": "2022-05-30T21:58:35.167763Z"
    }
   },
   "outputs": [],
   "source": [
    "import pandas as pd\n",
    "import numpy as np\n",
    "\n",
    "import networkx as nx\n",
    "from networkx.algorithms.community import k_clique_communities\n",
    "import random as rd\n",
    "rd.seed(42)\n",
    "\n",
    "import warnings\n",
    "warnings.filterwarnings('ignore')"
   ]
  },
  {
   "cell_type": "markdown",
   "id": "4f6f7498",
   "metadata": {},
   "source": [
    "## Random Walk Sampling Method 2\n",
    "### Sample 1"
   ]
  },
  {
   "cell_type": "code",
   "execution_count": 2,
   "id": "7497eb2b",
   "metadata": {
    "ExecuteTime": {
     "end_time": "2022-05-30T21:58:50.491380Z",
     "start_time": "2022-05-30T21:58:36.089374Z"
    }
   },
   "outputs": [],
   "source": [
    "# Using first sample\n",
    "G_rwm2_1 = nx.read_gml(r'C:\\Users\\sarah\\Documents\\UNI\\Masters\\Study\\Term_3\\Master Project\\Samples\\Random Walk Sampling\\G_rw2_1.gml')"
   ]
  },
  {
   "cell_type": "code",
   "execution_count": 3,
   "id": "fcc435ac",
   "metadata": {
    "ExecuteTime": {
     "end_time": "2022-05-30T21:58:50.522573Z",
     "start_time": "2022-05-30T21:58:50.493791Z"
    }
   },
   "outputs": [
    {
     "data": {
      "text/plain": [
       "True"
      ]
     },
     "execution_count": 3,
     "metadata": {},
     "output_type": "execute_result"
    }
   ],
   "source": [
    "# Confirm that Graph is Directed\n",
    "nx.is_directed(G_rwm2_1)"
   ]
  },
  {
   "cell_type": "code",
   "execution_count": 4,
   "id": "e6d6887f",
   "metadata": {
    "ExecuteTime": {
     "end_time": "2022-05-30T21:58:50.674725Z",
     "start_time": "2022-05-30T21:58:50.530535Z"
    }
   },
   "outputs": [
    {
     "name": "stdout",
     "output_type": "stream",
     "text": [
      "MultiDiGraph with 50000 nodes and 137944 edges\n"
     ]
    }
   ],
   "source": [
    "# Display Size of the Graph\n",
    "print(nx.info(G_rwm2_1))"
   ]
  },
  {
   "cell_type": "markdown",
   "id": "a3358272",
   "metadata": {},
   "source": [
    "Confirmed that the graph meets the criterea of having more edges than nodes and maintained the directed structure."
   ]
  },
  {
   "cell_type": "code",
   "execution_count": 5,
   "id": "f7d8d878",
   "metadata": {
    "ExecuteTime": {
     "end_time": "2022-05-30T21:58:50.691003Z",
     "start_time": "2022-05-30T21:58:50.677716Z"
    }
   },
   "outputs": [],
   "source": [
    "# List all nodes in the sample\n",
    "n_rwm2_1 = list(G_rwm2_1.nodes)"
   ]
  },
  {
   "cell_type": "code",
   "execution_count": 6,
   "id": "b3076b70",
   "metadata": {
    "ExecuteTime": {
     "end_time": "2022-05-30T21:58:57.382041Z",
     "start_time": "2022-05-30T21:58:50.695000Z"
    }
   },
   "outputs": [
    {
     "data": {
      "text/html": [
       "<div>\n",
       "<style scoped>\n",
       "    .dataframe tbody tr th:only-of-type {\n",
       "        vertical-align: middle;\n",
       "    }\n",
       "\n",
       "    .dataframe tbody tr th {\n",
       "        vertical-align: top;\n",
       "    }\n",
       "\n",
       "    .dataframe thead th {\n",
       "        text-align: right;\n",
       "    }\n",
       "</style>\n",
       "<table border=\"1\" class=\"dataframe\">\n",
       "  <thead>\n",
       "    <tr style=\"text-align: right;\">\n",
       "      <th></th>\n",
       "      <th>degree</th>\n",
       "      <th>in_degree</th>\n",
       "      <th>out_degree</th>\n",
       "      <th>eigen_centrality</th>\n",
       "    </tr>\n",
       "  </thead>\n",
       "  <tbody>\n",
       "    <tr>\n",
       "      <th>count</th>\n",
       "      <td>4.666873e+06</td>\n",
       "      <td>4.666873e+06</td>\n",
       "      <td>4.666873e+06</td>\n",
       "      <td>4.666873e+06</td>\n",
       "    </tr>\n",
       "    <tr>\n",
       "      <th>mean</th>\n",
       "      <td>4.494298e+00</td>\n",
       "      <td>2.247149e+00</td>\n",
       "      <td>2.247149e+00</td>\n",
       "      <td>3.970074e-05</td>\n",
       "    </tr>\n",
       "    <tr>\n",
       "      <th>std</th>\n",
       "      <td>3.935922e+01</td>\n",
       "      <td>1.998412e+01</td>\n",
       "      <td>2.868249e+01</td>\n",
       "      <td>4.611943e-04</td>\n",
       "    </tr>\n",
       "    <tr>\n",
       "      <th>min</th>\n",
       "      <td>1.000000e+00</td>\n",
       "      <td>0.000000e+00</td>\n",
       "      <td>0.000000e+00</td>\n",
       "      <td>1.193322e-21</td>\n",
       "    </tr>\n",
       "    <tr>\n",
       "      <th>25%</th>\n",
       "      <td>1.000000e+00</td>\n",
       "      <td>0.000000e+00</td>\n",
       "      <td>0.000000e+00</td>\n",
       "      <td>1.193322e-21</td>\n",
       "    </tr>\n",
       "    <tr>\n",
       "      <th>50%</th>\n",
       "      <td>2.000000e+00</td>\n",
       "      <td>1.000000e+00</td>\n",
       "      <td>1.000000e+00</td>\n",
       "      <td>4.892620e-20</td>\n",
       "    </tr>\n",
       "    <tr>\n",
       "      <th>75%</th>\n",
       "      <td>3.000000e+00</td>\n",
       "      <td>1.000000e+00</td>\n",
       "      <td>2.000000e+00</td>\n",
       "      <td>1.517475e-14</td>\n",
       "    </tr>\n",
       "    <tr>\n",
       "      <th>max</th>\n",
       "      <td>2.791700e+04</td>\n",
       "      <td>1.211600e+04</td>\n",
       "      <td>2.533500e+04</td>\n",
       "      <td>1.642653e-01</td>\n",
       "    </tr>\n",
       "  </tbody>\n",
       "</table>\n",
       "</div>"
      ],
      "text/plain": [
       "             degree     in_degree    out_degree  eigen_centrality\n",
       "count  4.666873e+06  4.666873e+06  4.666873e+06      4.666873e+06\n",
       "mean   4.494298e+00  2.247149e+00  2.247149e+00      3.970074e-05\n",
       "std    3.935922e+01  1.998412e+01  2.868249e+01      4.611943e-04\n",
       "min    1.000000e+00  0.000000e+00  0.000000e+00      1.193322e-21\n",
       "25%    1.000000e+00  0.000000e+00  0.000000e+00      1.193322e-21\n",
       "50%    2.000000e+00  1.000000e+00  1.000000e+00      4.892620e-20\n",
       "75%    3.000000e+00  1.000000e+00  2.000000e+00      1.517475e-14\n",
       "max    2.791700e+04  1.211600e+04  2.533500e+04      1.642653e-01"
      ]
     },
     "execution_count": 6,
     "metadata": {},
     "output_type": "execute_result"
    }
   ],
   "source": [
    "# Get node properties from data exploration exercise for comparison\n",
    "node_properties = pd.read_csv(r'C:\\Users\\sarah\\Documents\\UNI\\Masters\\Study\\Term_3\\Master Project\\node_properties_cl.csv')\n",
    "node_properties[['degree', 'in_degree', 'out_degree', 'eigen_centrality']].describe()"
   ]
  },
  {
   "cell_type": "code",
   "execution_count": 7,
   "id": "06aeac91",
   "metadata": {
    "ExecuteTime": {
     "end_time": "2022-05-30T21:58:58.024046Z",
     "start_time": "2022-05-30T21:58:57.384442Z"
    }
   },
   "outputs": [
    {
     "data": {
      "text/html": [
       "<div>\n",
       "<style scoped>\n",
       "    .dataframe tbody tr th:only-of-type {\n",
       "        vertical-align: middle;\n",
       "    }\n",
       "\n",
       "    .dataframe tbody tr th {\n",
       "        vertical-align: top;\n",
       "    }\n",
       "\n",
       "    .dataframe thead th {\n",
       "        text-align: right;\n",
       "    }\n",
       "</style>\n",
       "<table border=\"1\" class=\"dataframe\">\n",
       "  <thead>\n",
       "    <tr style=\"text-align: right;\">\n",
       "      <th></th>\n",
       "      <th>source</th>\n",
       "      <th>target</th>\n",
       "      <th>weight</th>\n",
       "    </tr>\n",
       "  </thead>\n",
       "  <tbody>\n",
       "    <tr>\n",
       "      <th>0</th>\n",
       "      <td>18WtUF8esLdNXXCuEmourMFafpcwTunUZX</td>\n",
       "      <td>18v8u1VLQtA4RVTq4zjLJLjA3TV86DVn9A</td>\n",
       "      <td>1.0</td>\n",
       "    </tr>\n",
       "    <tr>\n",
       "      <th>1</th>\n",
       "      <td>18WtUF8esLdNXXCuEmourMFafpcwTunUZX</td>\n",
       "      <td>39j7zut99kuEhA28kfW6jv2cHc7jhrWY3c</td>\n",
       "      <td>1.0</td>\n",
       "    </tr>\n",
       "    <tr>\n",
       "      <th>2</th>\n",
       "      <td>1MuxrCQ6T6Ng9445SE8CxqnGcZK9i9eefa</td>\n",
       "      <td>3KSk127k2cSoesFj4YbqqqTqGTB6AMqBDS</td>\n",
       "      <td>1.0</td>\n",
       "    </tr>\n",
       "    <tr>\n",
       "      <th>3</th>\n",
       "      <td>19ccn7Wj1hATVL6nktupZu6hZwez6rCS8f</td>\n",
       "      <td>1AjCcmjLeoz5KpFJRkrhjtJ82NQAWYFsmg</td>\n",
       "      <td>1.0</td>\n",
       "    </tr>\n",
       "    <tr>\n",
       "      <th>4</th>\n",
       "      <td>19ccn7Wj1hATVL6nktupZu6hZwez6rCS8f</td>\n",
       "      <td>1GQvGPK6ab33EfjbXABXBRfshBseV4uhXi</td>\n",
       "      <td>1.0</td>\n",
       "    </tr>\n",
       "  </tbody>\n",
       "</table>\n",
       "</div>"
      ],
      "text/plain": [
       "                               source                              target  \\\n",
       "0  18WtUF8esLdNXXCuEmourMFafpcwTunUZX  18v8u1VLQtA4RVTq4zjLJLjA3TV86DVn9A   \n",
       "1  18WtUF8esLdNXXCuEmourMFafpcwTunUZX  39j7zut99kuEhA28kfW6jv2cHc7jhrWY3c   \n",
       "2  1MuxrCQ6T6Ng9445SE8CxqnGcZK9i9eefa  3KSk127k2cSoesFj4YbqqqTqGTB6AMqBDS   \n",
       "3  19ccn7Wj1hATVL6nktupZu6hZwez6rCS8f  1AjCcmjLeoz5KpFJRkrhjtJ82NQAWYFsmg   \n",
       "4  19ccn7Wj1hATVL6nktupZu6hZwez6rCS8f  1GQvGPK6ab33EfjbXABXBRfshBseV4uhXi   \n",
       "\n",
       "   weight  \n",
       "0     1.0  \n",
       "1     1.0  \n",
       "2     1.0  \n",
       "3     1.0  \n",
       "4     1.0  "
      ]
     },
     "execution_count": 7,
     "metadata": {},
     "output_type": "execute_result"
    }
   ],
   "source": [
    "rwm2_1_df = nx.to_pandas_edgelist(G_rwm2_1) \n",
    "rwm2_1_df.head()"
   ]
  },
  {
   "cell_type": "code",
   "execution_count": 8,
   "id": "35280230",
   "metadata": {
    "ExecuteTime": {
     "end_time": "2022-05-30T21:58:58.064784Z",
     "start_time": "2022-05-30T21:58:58.027082Z"
    }
   },
   "outputs": [
    {
     "data": {
      "text/plain": [
       "32154"
      ]
     },
     "execution_count": 8,
     "metadata": {},
     "output_type": "execute_result"
    }
   ],
   "source": [
    "# Number of unique input addresses\n",
    "rwm2_1_df['source'].nunique()"
   ]
  },
  {
   "cell_type": "code",
   "execution_count": 9,
   "id": "b8db4502",
   "metadata": {
    "ExecuteTime": {
     "end_time": "2022-05-30T21:58:58.124465Z",
     "start_time": "2022-05-30T21:58:58.065330Z"
    }
   },
   "outputs": [
    {
     "data": {
      "text/plain": [
       "31367"
      ]
     },
     "execution_count": 9,
     "metadata": {},
     "output_type": "execute_result"
    }
   ],
   "source": [
    "# Number of unique output addresses\n",
    "rwm2_1_df['target'].nunique()"
   ]
  },
  {
   "cell_type": "markdown",
   "id": "0cff6ad4",
   "metadata": {},
   "source": [
    "We observe relative balance between input and output addresses, with slightly more input addresses. In the full dataset there is also relative balance, but there were more output addresses. "
   ]
  },
  {
   "cell_type": "code",
   "execution_count": 10,
   "id": "f0a263fa",
   "metadata": {
    "ExecuteTime": {
     "end_time": "2022-05-30T21:58:58.153052Z",
     "start_time": "2022-05-30T21:58:58.124465Z"
    }
   },
   "outputs": [
    {
     "data": {
      "text/html": [
       "<div>\n",
       "<style scoped>\n",
       "    .dataframe tbody tr th:only-of-type {\n",
       "        vertical-align: middle;\n",
       "    }\n",
       "\n",
       "    .dataframe tbody tr th {\n",
       "        vertical-align: top;\n",
       "    }\n",
       "\n",
       "    .dataframe thead th {\n",
       "        text-align: right;\n",
       "    }\n",
       "</style>\n",
       "<table border=\"1\" class=\"dataframe\">\n",
       "  <thead>\n",
       "    <tr style=\"text-align: right;\">\n",
       "      <th></th>\n",
       "      <th>weight</th>\n",
       "    </tr>\n",
       "  </thead>\n",
       "  <tbody>\n",
       "    <tr>\n",
       "      <th>count</th>\n",
       "      <td>137944.000000</td>\n",
       "    </tr>\n",
       "    <tr>\n",
       "      <th>mean</th>\n",
       "      <td>0.774923</td>\n",
       "    </tr>\n",
       "    <tr>\n",
       "      <th>std</th>\n",
       "      <td>0.468702</td>\n",
       "    </tr>\n",
       "    <tr>\n",
       "      <th>min</th>\n",
       "      <td>-69.648093</td>\n",
       "    </tr>\n",
       "    <tr>\n",
       "      <th>25%</th>\n",
       "      <td>0.507070</td>\n",
       "    </tr>\n",
       "    <tr>\n",
       "      <th>50%</th>\n",
       "      <td>1.000000</td>\n",
       "    </tr>\n",
       "    <tr>\n",
       "      <th>75%</th>\n",
       "      <td>1.000000</td>\n",
       "    </tr>\n",
       "    <tr>\n",
       "      <th>max</th>\n",
       "      <td>52.821905</td>\n",
       "    </tr>\n",
       "  </tbody>\n",
       "</table>\n",
       "</div>"
      ],
      "text/plain": [
       "              weight\n",
       "count  137944.000000\n",
       "mean        0.774923\n",
       "std         0.468702\n",
       "min       -69.648093\n",
       "25%         0.507070\n",
       "50%         1.000000\n",
       "75%         1.000000\n",
       "max        52.821905"
      ]
     },
     "execution_count": 10,
     "metadata": {},
     "output_type": "execute_result"
    }
   ],
   "source": [
    "rwm2_1_df.describe()"
   ]
  },
  {
   "cell_type": "markdown",
   "id": "dcdb695e",
   "metadata": {},
   "source": [
    "The weight variable shows that the distribution of the weighting (amount*0.5 + timestamp*0.5) is similar to that of overall transaction amounts."
   ]
  },
  {
   "cell_type": "code",
   "execution_count": 11,
   "id": "79d4e08d",
   "metadata": {
    "ExecuteTime": {
     "end_time": "2022-05-30T21:58:58.183894Z",
     "start_time": "2022-05-30T21:58:58.155186Z"
    }
   },
   "outputs": [
    {
     "name": "stdout",
     "output_type": "stream",
     "text": [
      "Total number of fraudulent/high-risk nodes :  4563\n",
      "Number of fraudulent/high-risk nodes in sample :  280\n"
     ]
    }
   ],
   "source": [
    "# Subset by fraudulent/high-risk nodes\n",
    "fr_nodes = node_properties[node_properties['fraud_flag'] == 1]\n",
    "fr_nodes = fr_nodes['address'].tolist()\n",
    "print('Total number of fraudulent/high-risk nodes : ', len(fr_nodes))\n",
    "\n",
    "# Check for number of fraudulent/high-risk addresses in the sample\n",
    "print('Number of fraudulent/high-risk nodes in sample : ', len(set(n_rwm2_1).intersection(fr_nodes)))"
   ]
  },
  {
   "cell_type": "markdown",
   "id": "cd0dbfac",
   "metadata": {},
   "source": [
    "These numbers suggest that random selection of nodes worsens the class imbalance problem, but when considering the counts relative to the size of the network the issue is less pronounced.\n",
    "\n",
    "Full Network: 0.11% \n",
    "\n",
    "Sample: 0.56%"
   ]
  },
  {
   "cell_type": "markdown",
   "id": "d3fb5977",
   "metadata": {},
   "source": [
    "## Node Properties"
   ]
  },
  {
   "cell_type": "code",
   "execution_count": 12,
   "id": "5c117beb",
   "metadata": {
    "ExecuteTime": {
     "end_time": "2022-05-30T21:58:58.591421Z",
     "start_time": "2022-05-30T21:58:58.183894Z"
    }
   },
   "outputs": [],
   "source": [
    "# Get Properties\n",
    "\n",
    "address = [node for (node, val) in G_rwm2_1.degree()]\n",
    "degree = [val for (node, val) in G_rwm2_1.degree()]\n",
    "in_degree = [val for (node, val) in G_rwm2_1.in_degree()]\n",
    "out_degree = [val for (node, val) in G_rwm2_1.out_degree()]\n",
    "#eigen_centrality = nx.eigenvector_centrality(G_rwm2_1) # NetworkXNotImplemented: not implemented for multigraph type\n",
    "#eigen_centrality = [eigen_centrality[node] for node in eigen_centrality]"
   ]
  },
  {
   "cell_type": "code",
   "execution_count": 13,
   "id": "3aa7e856",
   "metadata": {
    "ExecuteTime": {
     "end_time": "2022-05-30T21:58:58.681480Z",
     "start_time": "2022-05-30T21:58:58.593463Z"
    }
   },
   "outputs": [],
   "source": [
    "# Add Properties to DataFrame\n",
    "\n",
    "nodes = pd.DataFrame()\n",
    "nodes['address'] = address\n",
    "nodes['degree'] = degree\n",
    "nodes['in_degree'] = in_degree\n",
    "nodes['out_degree'] = out_degree\n",
    "#nodes['eigen_centrality'] = eigen_centrality"
   ]
  },
  {
   "cell_type": "code",
   "execution_count": 14,
   "id": "63a95d5f",
   "metadata": {
    "ExecuteTime": {
     "end_time": "2022-05-30T21:59:15.487467Z",
     "start_time": "2022-05-30T21:58:58.685735Z"
    }
   },
   "outputs": [
    {
     "data": {
      "text/html": [
       "<div>\n",
       "<style scoped>\n",
       "    .dataframe tbody tr th:only-of-type {\n",
       "        vertical-align: middle;\n",
       "    }\n",
       "\n",
       "    .dataframe tbody tr th {\n",
       "        vertical-align: top;\n",
       "    }\n",
       "\n",
       "    .dataframe thead th {\n",
       "        text-align: right;\n",
       "    }\n",
       "</style>\n",
       "<table border=\"1\" class=\"dataframe\">\n",
       "  <thead>\n",
       "    <tr style=\"text-align: right;\">\n",
       "      <th></th>\n",
       "      <th>address</th>\n",
       "      <th>degree</th>\n",
       "      <th>in_degree</th>\n",
       "      <th>out_degree</th>\n",
       "      <th>fraud_flag</th>\n",
       "    </tr>\n",
       "  </thead>\n",
       "  <tbody>\n",
       "    <tr>\n",
       "      <th>0</th>\n",
       "      <td>18WtUF8esLdNXXCuEmourMFafpcwTunUZX</td>\n",
       "      <td>3</td>\n",
       "      <td>1</td>\n",
       "      <td>2</td>\n",
       "      <td>0</td>\n",
       "    </tr>\n",
       "    <tr>\n",
       "      <th>1</th>\n",
       "      <td>1MuxrCQ6T6Ng9445SE8CxqnGcZK9i9eefa</td>\n",
       "      <td>1</td>\n",
       "      <td>0</td>\n",
       "      <td>1</td>\n",
       "      <td>0</td>\n",
       "    </tr>\n",
       "    <tr>\n",
       "      <th>2</th>\n",
       "      <td>1Ke6qBAEEjZEGjQ3b9NEB1aqFeiVgJdAsd</td>\n",
       "      <td>2</td>\n",
       "      <td>2</td>\n",
       "      <td>0</td>\n",
       "      <td>0</td>\n",
       "    </tr>\n",
       "    <tr>\n",
       "      <th>3</th>\n",
       "      <td>19ccn7Wj1hATVL6nktupZu6hZwez6rCS8f</td>\n",
       "      <td>6</td>\n",
       "      <td>3</td>\n",
       "      <td>3</td>\n",
       "      <td>0</td>\n",
       "    </tr>\n",
       "    <tr>\n",
       "      <th>4</th>\n",
       "      <td>12LJeywVN3UFefbFy53HLJL6FAFet3SWAA</td>\n",
       "      <td>1</td>\n",
       "      <td>0</td>\n",
       "      <td>1</td>\n",
       "      <td>0</td>\n",
       "    </tr>\n",
       "  </tbody>\n",
       "</table>\n",
       "</div>"
      ],
      "text/plain": [
       "                              address  degree  in_degree  out_degree  \\\n",
       "0  18WtUF8esLdNXXCuEmourMFafpcwTunUZX       3          1           2   \n",
       "1  1MuxrCQ6T6Ng9445SE8CxqnGcZK9i9eefa       1          0           1   \n",
       "2  1Ke6qBAEEjZEGjQ3b9NEB1aqFeiVgJdAsd       2          2           0   \n",
       "3  19ccn7Wj1hATVL6nktupZu6hZwez6rCS8f       6          3           3   \n",
       "4  12LJeywVN3UFefbFy53HLJL6FAFet3SWAA       1          0           1   \n",
       "\n",
       "   fraud_flag  \n",
       "0           0  \n",
       "1           0  \n",
       "2           0  \n",
       "3           0  \n",
       "4           0  "
      ]
     },
     "execution_count": 14,
     "metadata": {},
     "output_type": "execute_result"
    }
   ],
   "source": [
    "# Add fraud flag\n",
    "\n",
    "nodes = nodes.assign(**dict.fromkeys(['fraud_flag'], 0))\n",
    "\n",
    "for i in fr_nodes:\n",
    "    nodes.loc[nodes.address == i, 'fraud_flag'] = 1\n",
    "    \n",
    "nodes.head()"
   ]
  },
  {
   "cell_type": "code",
   "execution_count": 15,
   "id": "822f8896",
   "metadata": {
    "ExecuteTime": {
     "end_time": "2022-05-30T21:59:15.533970Z",
     "start_time": "2022-05-30T21:59:15.491481Z"
    }
   },
   "outputs": [
    {
     "data": {
      "text/html": [
       "<div>\n",
       "<style scoped>\n",
       "    .dataframe tbody tr th:only-of-type {\n",
       "        vertical-align: middle;\n",
       "    }\n",
       "\n",
       "    .dataframe tbody tr th {\n",
       "        vertical-align: top;\n",
       "    }\n",
       "\n",
       "    .dataframe thead th {\n",
       "        text-align: right;\n",
       "    }\n",
       "</style>\n",
       "<table border=\"1\" class=\"dataframe\">\n",
       "  <thead>\n",
       "    <tr style=\"text-align: right;\">\n",
       "      <th></th>\n",
       "      <th>degree</th>\n",
       "      <th>in_degree</th>\n",
       "      <th>out_degree</th>\n",
       "    </tr>\n",
       "  </thead>\n",
       "  <tbody>\n",
       "    <tr>\n",
       "      <th>count</th>\n",
       "      <td>50000.00000</td>\n",
       "      <td>50000.000000</td>\n",
       "      <td>50000.000000</td>\n",
       "    </tr>\n",
       "    <tr>\n",
       "      <th>mean</th>\n",
       "      <td>5.51776</td>\n",
       "      <td>2.758880</td>\n",
       "      <td>2.758880</td>\n",
       "    </tr>\n",
       "    <tr>\n",
       "      <th>std</th>\n",
       "      <td>39.43392</td>\n",
       "      <td>17.452118</td>\n",
       "      <td>25.808109</td>\n",
       "    </tr>\n",
       "    <tr>\n",
       "      <th>min</th>\n",
       "      <td>1.00000</td>\n",
       "      <td>0.000000</td>\n",
       "      <td>0.000000</td>\n",
       "    </tr>\n",
       "    <tr>\n",
       "      <th>25%</th>\n",
       "      <td>1.00000</td>\n",
       "      <td>0.000000</td>\n",
       "      <td>0.000000</td>\n",
       "    </tr>\n",
       "    <tr>\n",
       "      <th>50%</th>\n",
       "      <td>2.00000</td>\n",
       "      <td>1.000000</td>\n",
       "      <td>1.000000</td>\n",
       "    </tr>\n",
       "    <tr>\n",
       "      <th>75%</th>\n",
       "      <td>4.00000</td>\n",
       "      <td>2.000000</td>\n",
       "      <td>2.000000</td>\n",
       "    </tr>\n",
       "    <tr>\n",
       "      <th>max</th>\n",
       "      <td>4175.00000</td>\n",
       "      <td>1486.000000</td>\n",
       "      <td>2689.000000</td>\n",
       "    </tr>\n",
       "  </tbody>\n",
       "</table>\n",
       "</div>"
      ],
      "text/plain": [
       "            degree     in_degree    out_degree\n",
       "count  50000.00000  50000.000000  50000.000000\n",
       "mean       5.51776      2.758880      2.758880\n",
       "std       39.43392     17.452118     25.808109\n",
       "min        1.00000      0.000000      0.000000\n",
       "25%        1.00000      0.000000      0.000000\n",
       "50%        2.00000      1.000000      1.000000\n",
       "75%        4.00000      2.000000      2.000000\n",
       "max     4175.00000   1486.000000   2689.000000"
      ]
     },
     "execution_count": 15,
     "metadata": {},
     "output_type": "execute_result"
    }
   ],
   "source": [
    "# Describe sample properties overall\n",
    "\n",
    "nodes[['degree', 'in_degree', 'out_degree']].describe()"
   ]
  },
  {
   "cell_type": "code",
   "execution_count": 16,
   "id": "37f96023",
   "metadata": {
    "ExecuteTime": {
     "end_time": "2022-05-30T21:59:15.580602Z",
     "start_time": "2022-05-30T21:59:15.535928Z"
    }
   },
   "outputs": [
    {
     "data": {
      "text/html": [
       "<div>\n",
       "<style scoped>\n",
       "    .dataframe tbody tr th:only-of-type {\n",
       "        vertical-align: middle;\n",
       "    }\n",
       "\n",
       "    .dataframe tbody tr th {\n",
       "        vertical-align: top;\n",
       "    }\n",
       "\n",
       "    .dataframe thead th {\n",
       "        text-align: right;\n",
       "    }\n",
       "</style>\n",
       "<table border=\"1\" class=\"dataframe\">\n",
       "  <thead>\n",
       "    <tr style=\"text-align: right;\">\n",
       "      <th></th>\n",
       "      <th>degree</th>\n",
       "      <th>in_degree</th>\n",
       "      <th>out_degree</th>\n",
       "    </tr>\n",
       "  </thead>\n",
       "  <tbody>\n",
       "    <tr>\n",
       "      <th>count</th>\n",
       "      <td>280.000000</td>\n",
       "      <td>280.000000</td>\n",
       "      <td>280.000000</td>\n",
       "    </tr>\n",
       "    <tr>\n",
       "      <th>mean</th>\n",
       "      <td>138.235714</td>\n",
       "      <td>56.203571</td>\n",
       "      <td>82.032143</td>\n",
       "    </tr>\n",
       "    <tr>\n",
       "      <th>std</th>\n",
       "      <td>468.777065</td>\n",
       "      <td>186.206955</td>\n",
       "      <td>312.677194</td>\n",
       "    </tr>\n",
       "    <tr>\n",
       "      <th>min</th>\n",
       "      <td>1.000000</td>\n",
       "      <td>0.000000</td>\n",
       "      <td>0.000000</td>\n",
       "    </tr>\n",
       "    <tr>\n",
       "      <th>25%</th>\n",
       "      <td>5.000000</td>\n",
       "      <td>2.000000</td>\n",
       "      <td>1.000000</td>\n",
       "    </tr>\n",
       "    <tr>\n",
       "      <th>50%</th>\n",
       "      <td>29.500000</td>\n",
       "      <td>9.500000</td>\n",
       "      <td>8.000000</td>\n",
       "    </tr>\n",
       "    <tr>\n",
       "      <th>75%</th>\n",
       "      <td>78.000000</td>\n",
       "      <td>38.250000</td>\n",
       "      <td>33.000000</td>\n",
       "    </tr>\n",
       "    <tr>\n",
       "      <th>max</th>\n",
       "      <td>4175.000000</td>\n",
       "      <td>1486.000000</td>\n",
       "      <td>2689.000000</td>\n",
       "    </tr>\n",
       "  </tbody>\n",
       "</table>\n",
       "</div>"
      ],
      "text/plain": [
       "            degree    in_degree   out_degree\n",
       "count   280.000000   280.000000   280.000000\n",
       "mean    138.235714    56.203571    82.032143\n",
       "std     468.777065   186.206955   312.677194\n",
       "min       1.000000     0.000000     0.000000\n",
       "25%       5.000000     2.000000     1.000000\n",
       "50%      29.500000     9.500000     8.000000\n",
       "75%      78.000000    38.250000    33.000000\n",
       "max    4175.000000  1486.000000  2689.000000"
      ]
     },
     "execution_count": 16,
     "metadata": {},
     "output_type": "execute_result"
    }
   ],
   "source": [
    "# Describe Properties of Fraudulent Nodes\n",
    "\n",
    "nodes_fraud = nodes[nodes['fraud_flag'] == 1]\n",
    "nodes_fraud[['degree', 'in_degree', 'out_degree']].describe()"
   ]
  },
  {
   "cell_type": "code",
   "execution_count": 17,
   "id": "3f082fb7",
   "metadata": {
    "ExecuteTime": {
     "end_time": "2022-05-30T21:59:15.627185Z",
     "start_time": "2022-05-30T21:59:15.583551Z"
    }
   },
   "outputs": [
    {
     "data": {
      "text/html": [
       "<div>\n",
       "<style scoped>\n",
       "    .dataframe tbody tr th:only-of-type {\n",
       "        vertical-align: middle;\n",
       "    }\n",
       "\n",
       "    .dataframe tbody tr th {\n",
       "        vertical-align: top;\n",
       "    }\n",
       "\n",
       "    .dataframe thead th {\n",
       "        text-align: right;\n",
       "    }\n",
       "</style>\n",
       "<table border=\"1\" class=\"dataframe\">\n",
       "  <thead>\n",
       "    <tr style=\"text-align: right;\">\n",
       "      <th></th>\n",
       "      <th>degree</th>\n",
       "      <th>in_degree</th>\n",
       "      <th>out_degree</th>\n",
       "    </tr>\n",
       "  </thead>\n",
       "  <tbody>\n",
       "    <tr>\n",
       "      <th>count</th>\n",
       "      <td>49720.000000</td>\n",
       "      <td>49720.000000</td>\n",
       "      <td>49720.000000</td>\n",
       "    </tr>\n",
       "    <tr>\n",
       "      <th>mean</th>\n",
       "      <td>4.770354</td>\n",
       "      <td>2.457904</td>\n",
       "      <td>2.312450</td>\n",
       "    </tr>\n",
       "    <tr>\n",
       "      <th>std</th>\n",
       "      <td>15.195082</td>\n",
       "      <td>9.774776</td>\n",
       "      <td>9.251823</td>\n",
       "    </tr>\n",
       "    <tr>\n",
       "      <th>min</th>\n",
       "      <td>1.000000</td>\n",
       "      <td>0.000000</td>\n",
       "      <td>0.000000</td>\n",
       "    </tr>\n",
       "    <tr>\n",
       "      <th>25%</th>\n",
       "      <td>1.000000</td>\n",
       "      <td>0.000000</td>\n",
       "      <td>0.000000</td>\n",
       "    </tr>\n",
       "    <tr>\n",
       "      <th>50%</th>\n",
       "      <td>2.000000</td>\n",
       "      <td>1.000000</td>\n",
       "      <td>1.000000</td>\n",
       "    </tr>\n",
       "    <tr>\n",
       "      <th>75%</th>\n",
       "      <td>4.000000</td>\n",
       "      <td>2.000000</td>\n",
       "      <td>2.000000</td>\n",
       "    </tr>\n",
       "    <tr>\n",
       "      <th>max</th>\n",
       "      <td>958.000000</td>\n",
       "      <td>954.000000</td>\n",
       "      <td>725.000000</td>\n",
       "    </tr>\n",
       "  </tbody>\n",
       "</table>\n",
       "</div>"
      ],
      "text/plain": [
       "             degree     in_degree    out_degree\n",
       "count  49720.000000  49720.000000  49720.000000\n",
       "mean       4.770354      2.457904      2.312450\n",
       "std       15.195082      9.774776      9.251823\n",
       "min        1.000000      0.000000      0.000000\n",
       "25%        1.000000      0.000000      0.000000\n",
       "50%        2.000000      1.000000      1.000000\n",
       "75%        4.000000      2.000000      2.000000\n",
       "max      958.000000    954.000000    725.000000"
      ]
     },
     "execution_count": 17,
     "metadata": {},
     "output_type": "execute_result"
    }
   ],
   "source": [
    "# Describe Properties of Non-Fraudulent Nodes\n",
    "\n",
    "nodes_licit = nodes[nodes['fraud_flag'] == 0]\n",
    "nodes_licit[['degree', 'in_degree', 'out_degree']].describe()"
   ]
  },
  {
   "cell_type": "markdown",
   "id": "30cbfde9",
   "metadata": {},
   "source": [
    "For all 3 cases the degree distribution properties are similar to the overall network."
   ]
  },
  {
   "cell_type": "markdown",
   "id": "46e7c33f",
   "metadata": {},
   "source": [
    "## Graph Properties"
   ]
  },
  {
   "cell_type": "code",
   "execution_count": 18,
   "id": "24f1f6e6",
   "metadata": {
    "ExecuteTime": {
     "end_time": "2022-05-30T21:59:15.769766Z",
     "start_time": "2022-05-30T21:59:15.630045Z"
    }
   },
   "outputs": [
    {
     "data": {
      "text/plain": [
       "5.517870357407148e-05"
      ]
     },
     "execution_count": 18,
     "metadata": {},
     "output_type": "execute_result"
    }
   ],
   "source": [
    "# Density\n",
    "nx.density(G_rwm2_1) # Connectivity remains very low"
   ]
  },
  {
   "cell_type": "code",
   "execution_count": 19,
   "id": "10308ad9",
   "metadata": {
    "ExecuteTime": {
     "end_time": "2022-05-30T21:59:18.999723Z",
     "start_time": "2022-05-30T21:59:15.772766Z"
    }
   },
   "outputs": [
    {
     "name": "stdout",
     "output_type": "stream",
     "text": [
      "The number of communities in the sample : 91\n"
     ]
    }
   ],
   "source": [
    "# Communities - k-Cliques\n",
    "\n",
    "com_generator_rwm2_1 = k_clique_communities(G_rwm2_1.to_undirected(), k=10)\n",
    "com_rwm2_1 = next(com_generator_rwm2_1)\n",
    "print('The number of communities in the sample : ' + str(len(com_rwm2_1)))"
   ]
  },
  {
   "cell_type": "markdown",
   "id": "1993d1a3",
   "metadata": {},
   "source": [
    "The sample has a large variety of community structures. (Note: Giant Component = 107)"
   ]
  },
  {
   "cell_type": "code",
   "execution_count": null,
   "id": "05c73533",
   "metadata": {},
   "outputs": [],
   "source": []
  }
 ],
 "metadata": {
  "kernelspec": {
   "display_name": "Python 3 (ipykernel)",
   "language": "python",
   "name": "python3"
  },
  "language_info": {
   "codemirror_mode": {
    "name": "ipython",
    "version": 3
   },
   "file_extension": ".py",
   "mimetype": "text/x-python",
   "name": "python",
   "nbconvert_exporter": "python",
   "pygments_lexer": "ipython3",
   "version": "3.9.12"
  }
 },
 "nbformat": 4,
 "nbformat_minor": 5
}
