{
 "cells": [
  {
   "cell_type": "code",
   "execution_count": 1,
   "id": "7db3326c",
   "metadata": {
    "ExecuteTime": {
     "end_time": "2022-05-31T16:00:09.793464Z",
     "start_time": "2022-05-31T16:00:09.122457Z"
    }
   },
   "outputs": [],
   "source": [
    "import pandas as pd\n",
    "import numpy as np\n",
    "\n",
    "import networkx as nx\n",
    "from networkx.algorithms.community import k_clique_communities\n",
    "import random as rd\n",
    "rd.seed(42)\n",
    "\n",
    "import warnings\n",
    "warnings.filterwarnings('ignore')"
   ]
  },
  {
   "cell_type": "markdown",
   "id": "4f6f7498",
   "metadata": {},
   "source": [
    "## Random Walk Sampling Method 2\n",
    "### Sample 4"
   ]
  },
  {
   "cell_type": "code",
   "execution_count": 2,
   "id": "7497eb2b",
   "metadata": {
    "ExecuteTime": {
     "end_time": "2022-05-31T16:01:03.452626Z",
     "start_time": "2022-05-31T16:00:47.410629Z"
    }
   },
   "outputs": [],
   "source": [
    "G_rwm2_4 = nx.read_gml(r'C:\\Users\\sarah\\Documents\\UNI\\Masters\\Study\\Term_3\\Master Project\\Samples\\Random Walk Sampling\\G_rw2_4.gml')"
   ]
  },
  {
   "cell_type": "code",
   "execution_count": 3,
   "id": "fcc435ac",
   "metadata": {
    "ExecuteTime": {
     "end_time": "2022-05-31T16:01:03.488795Z",
     "start_time": "2022-05-31T16:01:03.452626Z"
    }
   },
   "outputs": [
    {
     "data": {
      "text/plain": [
       "True"
      ]
     },
     "execution_count": 3,
     "metadata": {},
     "output_type": "execute_result"
    }
   ],
   "source": [
    "# Confirm that Graph is Directed\n",
    "nx.is_directed(G_rwm2_4)"
   ]
  },
  {
   "cell_type": "code",
   "execution_count": 4,
   "id": "e6d6887f",
   "metadata": {
    "ExecuteTime": {
     "end_time": "2022-05-31T16:01:03.671845Z",
     "start_time": "2022-05-31T16:01:03.491491Z"
    }
   },
   "outputs": [
    {
     "name": "stdout",
     "output_type": "stream",
     "text": [
      "MultiDiGraph with 50000 nodes and 136350 edges\n"
     ]
    }
   ],
   "source": [
    "# Display Size of the Graph\n",
    "print(nx.info(G_rwm2_4))"
   ]
  },
  {
   "cell_type": "markdown",
   "id": "a3358272",
   "metadata": {},
   "source": [
    "Confirmed that the graph meets the criterea of having more edges than nodes and maintained the directed structure."
   ]
  },
  {
   "cell_type": "code",
   "execution_count": 5,
   "id": "f7d8d878",
   "metadata": {
    "ExecuteTime": {
     "end_time": "2022-05-31T16:01:08.547702Z",
     "start_time": "2022-05-31T16:01:08.528575Z"
    }
   },
   "outputs": [],
   "source": [
    "# List all nodes in the sample\n",
    "n_rwm2_4 = list(G_rwm2_4.nodes)"
   ]
  },
  {
   "cell_type": "code",
   "execution_count": 6,
   "id": "b3076b70",
   "metadata": {
    "ExecuteTime": {
     "end_time": "2022-05-31T16:01:19.899400Z",
     "start_time": "2022-05-31T16:01:12.969389Z"
    }
   },
   "outputs": [
    {
     "data": {
      "text/html": [
       "<div>\n",
       "<style scoped>\n",
       "    .dataframe tbody tr th:only-of-type {\n",
       "        vertical-align: middle;\n",
       "    }\n",
       "\n",
       "    .dataframe tbody tr th {\n",
       "        vertical-align: top;\n",
       "    }\n",
       "\n",
       "    .dataframe thead th {\n",
       "        text-align: right;\n",
       "    }\n",
       "</style>\n",
       "<table border=\"1\" class=\"dataframe\">\n",
       "  <thead>\n",
       "    <tr style=\"text-align: right;\">\n",
       "      <th></th>\n",
       "      <th>degree</th>\n",
       "      <th>in_degree</th>\n",
       "      <th>out_degree</th>\n",
       "      <th>eigen_centrality</th>\n",
       "    </tr>\n",
       "  </thead>\n",
       "  <tbody>\n",
       "    <tr>\n",
       "      <th>count</th>\n",
       "      <td>4.666873e+06</td>\n",
       "      <td>4.666873e+06</td>\n",
       "      <td>4.666873e+06</td>\n",
       "      <td>4.666873e+06</td>\n",
       "    </tr>\n",
       "    <tr>\n",
       "      <th>mean</th>\n",
       "      <td>4.494298e+00</td>\n",
       "      <td>2.247149e+00</td>\n",
       "      <td>2.247149e+00</td>\n",
       "      <td>3.970074e-05</td>\n",
       "    </tr>\n",
       "    <tr>\n",
       "      <th>std</th>\n",
       "      <td>3.935922e+01</td>\n",
       "      <td>1.998412e+01</td>\n",
       "      <td>2.868249e+01</td>\n",
       "      <td>4.611943e-04</td>\n",
       "    </tr>\n",
       "    <tr>\n",
       "      <th>min</th>\n",
       "      <td>1.000000e+00</td>\n",
       "      <td>0.000000e+00</td>\n",
       "      <td>0.000000e+00</td>\n",
       "      <td>1.193322e-21</td>\n",
       "    </tr>\n",
       "    <tr>\n",
       "      <th>25%</th>\n",
       "      <td>1.000000e+00</td>\n",
       "      <td>0.000000e+00</td>\n",
       "      <td>0.000000e+00</td>\n",
       "      <td>1.193322e-21</td>\n",
       "    </tr>\n",
       "    <tr>\n",
       "      <th>50%</th>\n",
       "      <td>2.000000e+00</td>\n",
       "      <td>1.000000e+00</td>\n",
       "      <td>1.000000e+00</td>\n",
       "      <td>4.892620e-20</td>\n",
       "    </tr>\n",
       "    <tr>\n",
       "      <th>75%</th>\n",
       "      <td>3.000000e+00</td>\n",
       "      <td>1.000000e+00</td>\n",
       "      <td>2.000000e+00</td>\n",
       "      <td>1.517475e-14</td>\n",
       "    </tr>\n",
       "    <tr>\n",
       "      <th>max</th>\n",
       "      <td>2.791700e+04</td>\n",
       "      <td>1.211600e+04</td>\n",
       "      <td>2.533500e+04</td>\n",
       "      <td>1.642653e-01</td>\n",
       "    </tr>\n",
       "  </tbody>\n",
       "</table>\n",
       "</div>"
      ],
      "text/plain": [
       "             degree     in_degree    out_degree  eigen_centrality\n",
       "count  4.666873e+06  4.666873e+06  4.666873e+06      4.666873e+06\n",
       "mean   4.494298e+00  2.247149e+00  2.247149e+00      3.970074e-05\n",
       "std    3.935922e+01  1.998412e+01  2.868249e+01      4.611943e-04\n",
       "min    1.000000e+00  0.000000e+00  0.000000e+00      1.193322e-21\n",
       "25%    1.000000e+00  0.000000e+00  0.000000e+00      1.193322e-21\n",
       "50%    2.000000e+00  1.000000e+00  1.000000e+00      4.892620e-20\n",
       "75%    3.000000e+00  1.000000e+00  2.000000e+00      1.517475e-14\n",
       "max    2.791700e+04  1.211600e+04  2.533500e+04      1.642653e-01"
      ]
     },
     "execution_count": 6,
     "metadata": {},
     "output_type": "execute_result"
    }
   ],
   "source": [
    "# Get node properties from data exploration exercise for comparison\n",
    "node_properties = pd.read_csv(r'C:\\Users\\sarah\\Documents\\UNI\\Masters\\Study\\Term_3\\Master Project\\node_properties_cl.csv')\n",
    "node_properties[['degree', 'in_degree', 'out_degree', 'eigen_centrality']].describe()"
   ]
  },
  {
   "cell_type": "code",
   "execution_count": 7,
   "id": "06aeac91",
   "metadata": {
    "ExecuteTime": {
     "end_time": "2022-05-31T16:01:27.939592Z",
     "start_time": "2022-05-31T16:01:27.314495Z"
    }
   },
   "outputs": [
    {
     "data": {
      "text/html": [
       "<div>\n",
       "<style scoped>\n",
       "    .dataframe tbody tr th:only-of-type {\n",
       "        vertical-align: middle;\n",
       "    }\n",
       "\n",
       "    .dataframe tbody tr th {\n",
       "        vertical-align: top;\n",
       "    }\n",
       "\n",
       "    .dataframe thead th {\n",
       "        text-align: right;\n",
       "    }\n",
       "</style>\n",
       "<table border=\"1\" class=\"dataframe\">\n",
       "  <thead>\n",
       "    <tr style=\"text-align: right;\">\n",
       "      <th></th>\n",
       "      <th>source</th>\n",
       "      <th>target</th>\n",
       "      <th>weight</th>\n",
       "    </tr>\n",
       "  </thead>\n",
       "  <tbody>\n",
       "    <tr>\n",
       "      <th>0</th>\n",
       "      <td>1P598YmCSnE7XU355yWpAvq6VKFr5VUn8B</td>\n",
       "      <td>1D2nANLeDsxmGJpyVxoVEusuiwKNcYJqY</td>\n",
       "      <td>1.0</td>\n",
       "    </tr>\n",
       "    <tr>\n",
       "      <th>1</th>\n",
       "      <td>13jLpsqyVi3nEk2Tv1FGRvBmMTSERwF16E</td>\n",
       "      <td>1HkpPDZf4UAJAKvFimMfCMi7iwvyVRLP6q</td>\n",
       "      <td>1.0</td>\n",
       "    </tr>\n",
       "    <tr>\n",
       "      <th>2</th>\n",
       "      <td>1PcUaPm1hWHwgPhrhHdeVtUd8avjRhGx5i</td>\n",
       "      <td>3Co1Na1kvHs77rYcq6a3ki7dH41cQbaD9k</td>\n",
       "      <td>1.0</td>\n",
       "    </tr>\n",
       "    <tr>\n",
       "      <th>3</th>\n",
       "      <td>13tQrW5XnDgWXdKasvjiCP8hXewK3Ckzmv</td>\n",
       "      <td>1H4ahHD6iQ9dc8HWA2HmggXgG5f9HuwMBi</td>\n",
       "      <td>1.0</td>\n",
       "    </tr>\n",
       "    <tr>\n",
       "      <th>4</th>\n",
       "      <td>13tQrW5XnDgWXdKasvjiCP8hXewK3Ckzmv</td>\n",
       "      <td>3Pfxj7hraySrByYj44iBeQg3YbbFVDnHZv</td>\n",
       "      <td>1.0</td>\n",
       "    </tr>\n",
       "  </tbody>\n",
       "</table>\n",
       "</div>"
      ],
      "text/plain": [
       "                               source                              target  \\\n",
       "0  1P598YmCSnE7XU355yWpAvq6VKFr5VUn8B   1D2nANLeDsxmGJpyVxoVEusuiwKNcYJqY   \n",
       "1  13jLpsqyVi3nEk2Tv1FGRvBmMTSERwF16E  1HkpPDZf4UAJAKvFimMfCMi7iwvyVRLP6q   \n",
       "2  1PcUaPm1hWHwgPhrhHdeVtUd8avjRhGx5i  3Co1Na1kvHs77rYcq6a3ki7dH41cQbaD9k   \n",
       "3  13tQrW5XnDgWXdKasvjiCP8hXewK3Ckzmv  1H4ahHD6iQ9dc8HWA2HmggXgG5f9HuwMBi   \n",
       "4  13tQrW5XnDgWXdKasvjiCP8hXewK3Ckzmv  3Pfxj7hraySrByYj44iBeQg3YbbFVDnHZv   \n",
       "\n",
       "   weight  \n",
       "0     1.0  \n",
       "1     1.0  \n",
       "2     1.0  \n",
       "3     1.0  \n",
       "4     1.0  "
      ]
     },
     "execution_count": 7,
     "metadata": {},
     "output_type": "execute_result"
    }
   ],
   "source": [
    "rwm2_4_df = nx.to_pandas_edgelist(G_rwm2_4) \n",
    "rwm2_4_df.head()"
   ]
  },
  {
   "cell_type": "code",
   "execution_count": 8,
   "id": "35280230",
   "metadata": {
    "ExecuteTime": {
     "end_time": "2022-05-31T16:01:35.534218Z",
     "start_time": "2022-05-31T16:01:35.490143Z"
    }
   },
   "outputs": [
    {
     "data": {
      "text/plain": [
       "32001"
      ]
     },
     "execution_count": 8,
     "metadata": {},
     "output_type": "execute_result"
    }
   ],
   "source": [
    "# Number of unique input addresses\n",
    "rwm2_4_df['source'].nunique()"
   ]
  },
  {
   "cell_type": "code",
   "execution_count": 9,
   "id": "b8db4502",
   "metadata": {
    "ExecuteTime": {
     "end_time": "2022-05-31T16:01:40.235621Z",
     "start_time": "2022-05-31T16:01:40.167479Z"
    }
   },
   "outputs": [
    {
     "data": {
      "text/plain": [
       "31292"
      ]
     },
     "execution_count": 9,
     "metadata": {},
     "output_type": "execute_result"
    }
   ],
   "source": [
    "# Number of unique output addresses\n",
    "rwm2_4_df['target'].nunique()"
   ]
  },
  {
   "cell_type": "markdown",
   "id": "0cff6ad4",
   "metadata": {},
   "source": [
    "We observe relative balance between input and output addresses, with slightly more input addresses. In the full dataset there is also relative balance, but there were more output addresses. "
   ]
  },
  {
   "cell_type": "code",
   "execution_count": 10,
   "id": "f0a263fa",
   "metadata": {
    "ExecuteTime": {
     "end_time": "2022-05-31T16:01:47.636028Z",
     "start_time": "2022-05-31T16:01:47.601476Z"
    }
   },
   "outputs": [
    {
     "data": {
      "text/html": [
       "<div>\n",
       "<style scoped>\n",
       "    .dataframe tbody tr th:only-of-type {\n",
       "        vertical-align: middle;\n",
       "    }\n",
       "\n",
       "    .dataframe tbody tr th {\n",
       "        vertical-align: top;\n",
       "    }\n",
       "\n",
       "    .dataframe thead th {\n",
       "        text-align: right;\n",
       "    }\n",
       "</style>\n",
       "<table border=\"1\" class=\"dataframe\">\n",
       "  <thead>\n",
       "    <tr style=\"text-align: right;\">\n",
       "      <th></th>\n",
       "      <th>weight</th>\n",
       "    </tr>\n",
       "  </thead>\n",
       "  <tbody>\n",
       "    <tr>\n",
       "      <th>count</th>\n",
       "      <td>136350.000000</td>\n",
       "    </tr>\n",
       "    <tr>\n",
       "      <th>mean</th>\n",
       "      <td>0.776678</td>\n",
       "    </tr>\n",
       "    <tr>\n",
       "      <th>std</th>\n",
       "      <td>0.465861</td>\n",
       "    </tr>\n",
       "    <tr>\n",
       "      <th>min</th>\n",
       "      <td>-69.648093</td>\n",
       "    </tr>\n",
       "    <tr>\n",
       "      <th>25%</th>\n",
       "      <td>0.519019</td>\n",
       "    </tr>\n",
       "    <tr>\n",
       "      <th>50%</th>\n",
       "      <td>1.000000</td>\n",
       "    </tr>\n",
       "    <tr>\n",
       "      <th>75%</th>\n",
       "      <td>1.000000</td>\n",
       "    </tr>\n",
       "    <tr>\n",
       "      <th>max</th>\n",
       "      <td>52.821905</td>\n",
       "    </tr>\n",
       "  </tbody>\n",
       "</table>\n",
       "</div>"
      ],
      "text/plain": [
       "              weight\n",
       "count  136350.000000\n",
       "mean        0.776678\n",
       "std         0.465861\n",
       "min       -69.648093\n",
       "25%         0.519019\n",
       "50%         1.000000\n",
       "75%         1.000000\n",
       "max        52.821905"
      ]
     },
     "execution_count": 10,
     "metadata": {},
     "output_type": "execute_result"
    }
   ],
   "source": [
    "rwm2_4_df.describe()"
   ]
  },
  {
   "cell_type": "markdown",
   "id": "dcdb695e",
   "metadata": {},
   "source": [
    "The weight variable shows that the distribution of the weighting (amount*0.5 + timestamp*0.5) is similar to that of overall transaction amounts."
   ]
  },
  {
   "cell_type": "code",
   "execution_count": 11,
   "id": "79d4e08d",
   "metadata": {
    "ExecuteTime": {
     "end_time": "2022-05-31T16:01:56.564096Z",
     "start_time": "2022-05-31T16:01:56.519615Z"
    }
   },
   "outputs": [
    {
     "name": "stdout",
     "output_type": "stream",
     "text": [
      "Total number of fraudulent/high-risk nodes :  4563\n",
      "Number of fraudulent/high-risk nodes in sample :  293\n"
     ]
    }
   ],
   "source": [
    "# Subset by fraudulent/high-risk nodes\n",
    "fr_nodes = node_properties[node_properties['fraud_flag'] == 1]\n",
    "fr_nodes = fr_nodes['address'].tolist()\n",
    "print('Total number of fraudulent/high-risk nodes : ', len(fr_nodes))\n",
    "\n",
    "# Check for number of fraudulent/high-risk addresses in the sample\n",
    "print('Number of fraudulent/high-risk nodes in sample : ', len(set(n_rwm2_4).intersection(fr_nodes)))"
   ]
  },
  {
   "cell_type": "markdown",
   "id": "cd0dbfac",
   "metadata": {},
   "source": [
    "These numbers suggest that random selection of nodes worsens the class imbalance problem, but when considering the counts relative to the size of the network the issue is less pronounced.\n",
    "\n",
    "Full Network: 0.11% \n",
    "\n",
    "Sample: 0.59%"
   ]
  },
  {
   "cell_type": "markdown",
   "id": "d3fb5977",
   "metadata": {},
   "source": [
    "## Node Properties"
   ]
  },
  {
   "cell_type": "code",
   "execution_count": 12,
   "id": "5c117beb",
   "metadata": {
    "ExecuteTime": {
     "end_time": "2022-05-31T16:02:34.645982Z",
     "start_time": "2022-05-31T16:02:34.314144Z"
    }
   },
   "outputs": [],
   "source": [
    "# Get Properties\n",
    "\n",
    "address = [node for (node, val) in G_rwm2_4.degree()]\n",
    "degree = [val for (node, val) in G_rwm2_4.degree()]\n",
    "in_degree = [val for (node, val) in G_rwm2_4.in_degree()]\n",
    "out_degree = [val for (node, val) in G_rwm2_4.out_degree()]\n",
    "#eigen_centrality = nx.eigenvector_centrality(G_rwm2_4) # NetworkXNotImplemented: not implemented for multigraph type\n",
    "#eigen_centrality = [eigen_centrality[node] for node in eigen_centrality]"
   ]
  },
  {
   "cell_type": "code",
   "execution_count": 13,
   "id": "3aa7e856",
   "metadata": {
    "ExecuteTime": {
     "end_time": "2022-05-31T16:02:36.213995Z",
     "start_time": "2022-05-31T16:02:36.143184Z"
    }
   },
   "outputs": [],
   "source": [
    "# Add Properties to DataFrame\n",
    "\n",
    "nodes = pd.DataFrame()\n",
    "nodes['address'] = address\n",
    "nodes['degree'] = degree\n",
    "nodes['in_degree'] = in_degree\n",
    "nodes['out_degree'] = out_degree\n",
    "#nodes['eigen_centrality'] = eigen_centrality"
   ]
  },
  {
   "cell_type": "code",
   "execution_count": 14,
   "id": "63a95d5f",
   "metadata": {
    "ExecuteTime": {
     "end_time": "2022-05-31T16:02:51.515099Z",
     "start_time": "2022-05-31T16:02:37.588565Z"
    }
   },
   "outputs": [
    {
     "data": {
      "text/html": [
       "<div>\n",
       "<style scoped>\n",
       "    .dataframe tbody tr th:only-of-type {\n",
       "        vertical-align: middle;\n",
       "    }\n",
       "\n",
       "    .dataframe tbody tr th {\n",
       "        vertical-align: top;\n",
       "    }\n",
       "\n",
       "    .dataframe thead th {\n",
       "        text-align: right;\n",
       "    }\n",
       "</style>\n",
       "<table border=\"1\" class=\"dataframe\">\n",
       "  <thead>\n",
       "    <tr style=\"text-align: right;\">\n",
       "      <th></th>\n",
       "      <th>address</th>\n",
       "      <th>degree</th>\n",
       "      <th>in_degree</th>\n",
       "      <th>out_degree</th>\n",
       "      <th>fraud_flag</th>\n",
       "    </tr>\n",
       "  </thead>\n",
       "  <tbody>\n",
       "    <tr>\n",
       "      <th>0</th>\n",
       "      <td>1P598YmCSnE7XU355yWpAvq6VKFr5VUn8B</td>\n",
       "      <td>1</td>\n",
       "      <td>0</td>\n",
       "      <td>1</td>\n",
       "      <td>0</td>\n",
       "    </tr>\n",
       "    <tr>\n",
       "      <th>1</th>\n",
       "      <td>1BcH8kfqmSoWhXb5V3sH7hnk3rDBT82vEj</td>\n",
       "      <td>2</td>\n",
       "      <td>2</td>\n",
       "      <td>0</td>\n",
       "      <td>0</td>\n",
       "    </tr>\n",
       "    <tr>\n",
       "      <th>2</th>\n",
       "      <td>1MtSNa8LPkAs2Lcr2MQHg1wRdkCgyV64uM</td>\n",
       "      <td>1</td>\n",
       "      <td>1</td>\n",
       "      <td>0</td>\n",
       "      <td>0</td>\n",
       "    </tr>\n",
       "    <tr>\n",
       "      <th>3</th>\n",
       "      <td>13qAtDZ7QPWzkZ7gD2N6tEscmHnzDpoXp6</td>\n",
       "      <td>2</td>\n",
       "      <td>2</td>\n",
       "      <td>0</td>\n",
       "      <td>0</td>\n",
       "    </tr>\n",
       "    <tr>\n",
       "      <th>4</th>\n",
       "      <td>1FDc1jckp2YForxoToomKD7jSBKLZakDPK</td>\n",
       "      <td>3</td>\n",
       "      <td>3</td>\n",
       "      <td>0</td>\n",
       "      <td>0</td>\n",
       "    </tr>\n",
       "  </tbody>\n",
       "</table>\n",
       "</div>"
      ],
      "text/plain": [
       "                              address  degree  in_degree  out_degree  \\\n",
       "0  1P598YmCSnE7XU355yWpAvq6VKFr5VUn8B       1          0           1   \n",
       "1  1BcH8kfqmSoWhXb5V3sH7hnk3rDBT82vEj       2          2           0   \n",
       "2  1MtSNa8LPkAs2Lcr2MQHg1wRdkCgyV64uM       1          1           0   \n",
       "3  13qAtDZ7QPWzkZ7gD2N6tEscmHnzDpoXp6       2          2           0   \n",
       "4  1FDc1jckp2YForxoToomKD7jSBKLZakDPK       3          3           0   \n",
       "\n",
       "   fraud_flag  \n",
       "0           0  \n",
       "1           0  \n",
       "2           0  \n",
       "3           0  \n",
       "4           0  "
      ]
     },
     "execution_count": 14,
     "metadata": {},
     "output_type": "execute_result"
    }
   ],
   "source": [
    "# Add fraud flag\n",
    "\n",
    "nodes = nodes.assign(**dict.fromkeys(['fraud_flag'], 0))\n",
    "\n",
    "for i in fr_nodes:\n",
    "    nodes.loc[nodes.address == i, 'fraud_flag'] = 1\n",
    "    \n",
    "nodes.head()"
   ]
  },
  {
   "cell_type": "code",
   "execution_count": 15,
   "id": "822f8896",
   "metadata": {
    "ExecuteTime": {
     "end_time": "2022-05-31T16:02:51.569049Z",
     "start_time": "2022-05-31T16:02:51.517092Z"
    }
   },
   "outputs": [
    {
     "data": {
      "text/html": [
       "<div>\n",
       "<style scoped>\n",
       "    .dataframe tbody tr th:only-of-type {\n",
       "        vertical-align: middle;\n",
       "    }\n",
       "\n",
       "    .dataframe tbody tr th {\n",
       "        vertical-align: top;\n",
       "    }\n",
       "\n",
       "    .dataframe thead th {\n",
       "        text-align: right;\n",
       "    }\n",
       "</style>\n",
       "<table border=\"1\" class=\"dataframe\">\n",
       "  <thead>\n",
       "    <tr style=\"text-align: right;\">\n",
       "      <th></th>\n",
       "      <th>degree</th>\n",
       "      <th>in_degree</th>\n",
       "      <th>out_degree</th>\n",
       "    </tr>\n",
       "  </thead>\n",
       "  <tbody>\n",
       "    <tr>\n",
       "      <th>count</th>\n",
       "      <td>50000.000000</td>\n",
       "      <td>50000.000000</td>\n",
       "      <td>50000.000000</td>\n",
       "    </tr>\n",
       "    <tr>\n",
       "      <th>mean</th>\n",
       "      <td>5.454000</td>\n",
       "      <td>2.727000</td>\n",
       "      <td>2.727000</td>\n",
       "    </tr>\n",
       "    <tr>\n",
       "      <th>std</th>\n",
       "      <td>40.104142</td>\n",
       "      <td>18.037984</td>\n",
       "      <td>25.536991</td>\n",
       "    </tr>\n",
       "    <tr>\n",
       "      <th>min</th>\n",
       "      <td>1.000000</td>\n",
       "      <td>0.000000</td>\n",
       "      <td>0.000000</td>\n",
       "    </tr>\n",
       "    <tr>\n",
       "      <th>25%</th>\n",
       "      <td>1.000000</td>\n",
       "      <td>0.000000</td>\n",
       "      <td>0.000000</td>\n",
       "    </tr>\n",
       "    <tr>\n",
       "      <th>50%</th>\n",
       "      <td>2.000000</td>\n",
       "      <td>1.000000</td>\n",
       "      <td>1.000000</td>\n",
       "    </tr>\n",
       "    <tr>\n",
       "      <th>75%</th>\n",
       "      <td>4.000000</td>\n",
       "      <td>2.000000</td>\n",
       "      <td>2.000000</td>\n",
       "    </tr>\n",
       "    <tr>\n",
       "      <th>max</th>\n",
       "      <td>4330.000000</td>\n",
       "      <td>1707.000000</td>\n",
       "      <td>2623.000000</td>\n",
       "    </tr>\n",
       "  </tbody>\n",
       "</table>\n",
       "</div>"
      ],
      "text/plain": [
       "             degree     in_degree    out_degree\n",
       "count  50000.000000  50000.000000  50000.000000\n",
       "mean       5.454000      2.727000      2.727000\n",
       "std       40.104142     18.037984     25.536991\n",
       "min        1.000000      0.000000      0.000000\n",
       "25%        1.000000      0.000000      0.000000\n",
       "50%        2.000000      1.000000      1.000000\n",
       "75%        4.000000      2.000000      2.000000\n",
       "max     4330.000000   1707.000000   2623.000000"
      ]
     },
     "execution_count": 15,
     "metadata": {},
     "output_type": "execute_result"
    }
   ],
   "source": [
    "# Describe sample properties overall\n",
    "\n",
    "nodes[['degree', 'in_degree', 'out_degree']].describe()"
   ]
  },
  {
   "cell_type": "code",
   "execution_count": 16,
   "id": "37f96023",
   "metadata": {
    "ExecuteTime": {
     "end_time": "2022-05-31T16:02:51.600278Z",
     "start_time": "2022-05-31T16:02:51.571044Z"
    }
   },
   "outputs": [
    {
     "data": {
      "text/html": [
       "<div>\n",
       "<style scoped>\n",
       "    .dataframe tbody tr th:only-of-type {\n",
       "        vertical-align: middle;\n",
       "    }\n",
       "\n",
       "    .dataframe tbody tr th {\n",
       "        vertical-align: top;\n",
       "    }\n",
       "\n",
       "    .dataframe thead th {\n",
       "        text-align: right;\n",
       "    }\n",
       "</style>\n",
       "<table border=\"1\" class=\"dataframe\">\n",
       "  <thead>\n",
       "    <tr style=\"text-align: right;\">\n",
       "      <th></th>\n",
       "      <th>degree</th>\n",
       "      <th>in_degree</th>\n",
       "      <th>out_degree</th>\n",
       "    </tr>\n",
       "  </thead>\n",
       "  <tbody>\n",
       "    <tr>\n",
       "      <th>count</th>\n",
       "      <td>293.000000</td>\n",
       "      <td>293.000000</td>\n",
       "      <td>293.000000</td>\n",
       "    </tr>\n",
       "    <tr>\n",
       "      <th>mean</th>\n",
       "      <td>133.945392</td>\n",
       "      <td>55.365188</td>\n",
       "      <td>78.580205</td>\n",
       "    </tr>\n",
       "    <tr>\n",
       "      <th>std</th>\n",
       "      <td>470.431167</td>\n",
       "      <td>195.877477</td>\n",
       "      <td>302.547570</td>\n",
       "    </tr>\n",
       "    <tr>\n",
       "      <th>min</th>\n",
       "      <td>1.000000</td>\n",
       "      <td>0.000000</td>\n",
       "      <td>0.000000</td>\n",
       "    </tr>\n",
       "    <tr>\n",
       "      <th>25%</th>\n",
       "      <td>5.000000</td>\n",
       "      <td>2.000000</td>\n",
       "      <td>1.000000</td>\n",
       "    </tr>\n",
       "    <tr>\n",
       "      <th>50%</th>\n",
       "      <td>22.000000</td>\n",
       "      <td>8.000000</td>\n",
       "      <td>7.000000</td>\n",
       "    </tr>\n",
       "    <tr>\n",
       "      <th>75%</th>\n",
       "      <td>75.000000</td>\n",
       "      <td>34.000000</td>\n",
       "      <td>30.000000</td>\n",
       "    </tr>\n",
       "    <tr>\n",
       "      <th>max</th>\n",
       "      <td>4330.000000</td>\n",
       "      <td>1707.000000</td>\n",
       "      <td>2623.000000</td>\n",
       "    </tr>\n",
       "  </tbody>\n",
       "</table>\n",
       "</div>"
      ],
      "text/plain": [
       "            degree    in_degree   out_degree\n",
       "count   293.000000   293.000000   293.000000\n",
       "mean    133.945392    55.365188    78.580205\n",
       "std     470.431167   195.877477   302.547570\n",
       "min       1.000000     0.000000     0.000000\n",
       "25%       5.000000     2.000000     1.000000\n",
       "50%      22.000000     8.000000     7.000000\n",
       "75%      75.000000    34.000000    30.000000\n",
       "max    4330.000000  1707.000000  2623.000000"
      ]
     },
     "execution_count": 16,
     "metadata": {},
     "output_type": "execute_result"
    }
   ],
   "source": [
    "# Describe Properties of Fraudulent Nodes\n",
    "\n",
    "nodes_fraud = nodes[nodes['fraud_flag'] == 1]\n",
    "nodes_fraud[['degree', 'in_degree', 'out_degree']].describe()"
   ]
  },
  {
   "cell_type": "code",
   "execution_count": 17,
   "id": "3f082fb7",
   "metadata": {
    "ExecuteTime": {
     "end_time": "2022-05-31T16:02:51.654383Z",
     "start_time": "2022-05-31T16:02:51.603262Z"
    }
   },
   "outputs": [
    {
     "data": {
      "text/html": [
       "<div>\n",
       "<style scoped>\n",
       "    .dataframe tbody tr th:only-of-type {\n",
       "        vertical-align: middle;\n",
       "    }\n",
       "\n",
       "    .dataframe tbody tr th {\n",
       "        vertical-align: top;\n",
       "    }\n",
       "\n",
       "    .dataframe thead th {\n",
       "        text-align: right;\n",
       "    }\n",
       "</style>\n",
       "<table border=\"1\" class=\"dataframe\">\n",
       "  <thead>\n",
       "    <tr style=\"text-align: right;\">\n",
       "      <th></th>\n",
       "      <th>degree</th>\n",
       "      <th>in_degree</th>\n",
       "      <th>out_degree</th>\n",
       "    </tr>\n",
       "  </thead>\n",
       "  <tbody>\n",
       "    <tr>\n",
       "      <th>count</th>\n",
       "      <td>49707.000000</td>\n",
       "      <td>49707.000000</td>\n",
       "      <td>49707.000000</td>\n",
       "    </tr>\n",
       "    <tr>\n",
       "      <th>mean</th>\n",
       "      <td>4.696602</td>\n",
       "      <td>2.416722</td>\n",
       "      <td>2.279880</td>\n",
       "    </tr>\n",
       "    <tr>\n",
       "      <th>std</th>\n",
       "      <td>14.827666</td>\n",
       "      <td>9.244640</td>\n",
       "      <td>9.172761</td>\n",
       "    </tr>\n",
       "    <tr>\n",
       "      <th>min</th>\n",
       "      <td>1.000000</td>\n",
       "      <td>0.000000</td>\n",
       "      <td>0.000000</td>\n",
       "    </tr>\n",
       "    <tr>\n",
       "      <th>25%</th>\n",
       "      <td>1.000000</td>\n",
       "      <td>0.000000</td>\n",
       "      <td>0.000000</td>\n",
       "    </tr>\n",
       "    <tr>\n",
       "      <th>50%</th>\n",
       "      <td>2.000000</td>\n",
       "      <td>1.000000</td>\n",
       "      <td>1.000000</td>\n",
       "    </tr>\n",
       "    <tr>\n",
       "      <th>75%</th>\n",
       "      <td>4.000000</td>\n",
       "      <td>2.000000</td>\n",
       "      <td>2.000000</td>\n",
       "    </tr>\n",
       "    <tr>\n",
       "      <th>max</th>\n",
       "      <td>834.000000</td>\n",
       "      <td>815.000000</td>\n",
       "      <td>689.000000</td>\n",
       "    </tr>\n",
       "  </tbody>\n",
       "</table>\n",
       "</div>"
      ],
      "text/plain": [
       "             degree     in_degree    out_degree\n",
       "count  49707.000000  49707.000000  49707.000000\n",
       "mean       4.696602      2.416722      2.279880\n",
       "std       14.827666      9.244640      9.172761\n",
       "min        1.000000      0.000000      0.000000\n",
       "25%        1.000000      0.000000      0.000000\n",
       "50%        2.000000      1.000000      1.000000\n",
       "75%        4.000000      2.000000      2.000000\n",
       "max      834.000000    815.000000    689.000000"
      ]
     },
     "execution_count": 17,
     "metadata": {},
     "output_type": "execute_result"
    }
   ],
   "source": [
    "# Describe Properties of Non-Fraudulent Nodes\n",
    "\n",
    "nodes_licit = nodes[nodes['fraud_flag'] == 0]\n",
    "nodes_licit[['degree', 'in_degree', 'out_degree']].describe()"
   ]
  },
  {
   "cell_type": "markdown",
   "id": "30cbfde9",
   "metadata": {},
   "source": [
    "For all 3 cases the degree distribution properties are similar to the overall network."
   ]
  },
  {
   "cell_type": "markdown",
   "id": "46e7c33f",
   "metadata": {},
   "source": [
    "## Graph Properties"
   ]
  },
  {
   "cell_type": "code",
   "execution_count": 18,
   "id": "24f1f6e6",
   "metadata": {
    "ExecuteTime": {
     "end_time": "2022-05-31T16:02:51.817421Z",
     "start_time": "2022-05-31T16:02:51.656165Z"
    }
   },
   "outputs": [
    {
     "data": {
      "text/plain": [
       "5.4541090821816436e-05"
      ]
     },
     "execution_count": 18,
     "metadata": {},
     "output_type": "execute_result"
    }
   ],
   "source": [
    "# Density\n",
    "nx.density(G_rwm2_4) # Connectivity remains very low"
   ]
  },
  {
   "cell_type": "code",
   "execution_count": 19,
   "id": "10308ad9",
   "metadata": {
    "ExecuteTime": {
     "end_time": "2022-05-31T16:03:16.566249Z",
     "start_time": "2022-05-31T16:03:10.616693Z"
    }
   },
   "outputs": [
    {
     "name": "stdout",
     "output_type": "stream",
     "text": [
      "The number of communities in the sample : 118\n"
     ]
    }
   ],
   "source": [
    "# Communities - k-Cliques\n",
    "\n",
    "com_generator_rwm2_4 = k_clique_communities(G_rwm2_4.to_undirected(), k=10)\n",
    "com_rwm2_4 = next(com_generator_rwm2_4)\n",
    "print('The number of communities in the sample : ' + str(len(com_rwm2_4)))"
   ]
  },
  {
   "cell_type": "markdown",
   "id": "1993d1a3",
   "metadata": {},
   "source": [
    "The sample has a large variety of community structures. (Note: Giant Component = 107)"
   ]
  },
  {
   "cell_type": "code",
   "execution_count": null,
   "id": "05c73533",
   "metadata": {},
   "outputs": [],
   "source": []
  }
 ],
 "metadata": {
  "kernelspec": {
   "display_name": "Python 3 (ipykernel)",
   "language": "python",
   "name": "python3"
  },
  "language_info": {
   "codemirror_mode": {
    "name": "ipython",
    "version": 3
   },
   "file_extension": ".py",
   "mimetype": "text/x-python",
   "name": "python",
   "nbconvert_exporter": "python",
   "pygments_lexer": "ipython3",
   "version": "3.9.12"
  }
 },
 "nbformat": 4,
 "nbformat_minor": 5
}
