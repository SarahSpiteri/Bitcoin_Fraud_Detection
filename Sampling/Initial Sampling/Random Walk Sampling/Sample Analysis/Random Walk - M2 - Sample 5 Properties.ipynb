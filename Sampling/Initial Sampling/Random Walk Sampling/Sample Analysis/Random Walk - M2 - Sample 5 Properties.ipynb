{
 "cells": [
  {
   "cell_type": "code",
   "execution_count": 1,
   "id": "7db3326c",
   "metadata": {
    "ExecuteTime": {
     "end_time": "2022-05-31T16:29:10.170438Z",
     "start_time": "2022-05-31T16:29:08.580705Z"
    }
   },
   "outputs": [],
   "source": [
    "import pandas as pd\n",
    "import numpy as np\n",
    "\n",
    "import networkx as nx\n",
    "from networkx.algorithms.community import k_clique_communities\n",
    "import random as rd\n",
    "rd.seed(42)\n",
    "\n",
    "import warnings\n",
    "warnings.filterwarnings('ignore')"
   ]
  },
  {
   "cell_type": "markdown",
   "id": "4f6f7498",
   "metadata": {},
   "source": [
    "## Random Walk Sampling Method 2\n",
    "### Sample 5"
   ]
  },
  {
   "cell_type": "code",
   "execution_count": 2,
   "id": "7497eb2b",
   "metadata": {
    "ExecuteTime": {
     "end_time": "2022-05-31T16:29:40.703416Z",
     "start_time": "2022-05-31T16:29:25.674283Z"
    }
   },
   "outputs": [],
   "source": [
    "G_rwm2_5 = nx.read_gml(r'C:\\Users\\sarah\\Documents\\UNI\\Masters\\Study\\Term_3\\Master Project\\Samples\\Random Walk Sampling\\G_rw2_5.gml')"
   ]
  },
  {
   "cell_type": "code",
   "execution_count": 3,
   "id": "fcc435ac",
   "metadata": {
    "ExecuteTime": {
     "end_time": "2022-05-31T16:29:40.728043Z",
     "start_time": "2022-05-31T16:29:40.703416Z"
    }
   },
   "outputs": [
    {
     "data": {
      "text/plain": [
       "True"
      ]
     },
     "execution_count": 3,
     "metadata": {},
     "output_type": "execute_result"
    }
   ],
   "source": [
    "# Confirm that Graph is Directed\n",
    "nx.is_directed(G_rwm2_5)"
   ]
  },
  {
   "cell_type": "code",
   "execution_count": 4,
   "id": "e6d6887f",
   "metadata": {
    "ExecuteTime": {
     "end_time": "2022-05-31T16:29:40.886654Z",
     "start_time": "2022-05-31T16:29:40.728043Z"
    }
   },
   "outputs": [
    {
     "name": "stdout",
     "output_type": "stream",
     "text": [
      "MultiDiGraph with 50000 nodes and 133248 edges\n"
     ]
    }
   ],
   "source": [
    "# Display Size of the Graph\n",
    "print(nx.info(G_rwm2_5))"
   ]
  },
  {
   "cell_type": "markdown",
   "id": "a3358272",
   "metadata": {},
   "source": [
    "Confirmed that the graph meets the criterea of having more edges than nodes and maintained the directed structure."
   ]
  },
  {
   "cell_type": "code",
   "execution_count": 5,
   "id": "f7d8d878",
   "metadata": {
    "ExecuteTime": {
     "end_time": "2022-05-31T16:29:40.944173Z",
     "start_time": "2022-05-31T16:29:40.926108Z"
    }
   },
   "outputs": [],
   "source": [
    "# List all nodes in the sample\n",
    "n_rwm2_5 = list(G_rwm2_5.nodes)"
   ]
  },
  {
   "cell_type": "code",
   "execution_count": 6,
   "id": "b3076b70",
   "metadata": {
    "ExecuteTime": {
     "end_time": "2022-05-31T16:29:51.602567Z",
     "start_time": "2022-05-31T16:29:44.976011Z"
    }
   },
   "outputs": [
    {
     "data": {
      "text/html": [
       "<div>\n",
       "<style scoped>\n",
       "    .dataframe tbody tr th:only-of-type {\n",
       "        vertical-align: middle;\n",
       "    }\n",
       "\n",
       "    .dataframe tbody tr th {\n",
       "        vertical-align: top;\n",
       "    }\n",
       "\n",
       "    .dataframe thead th {\n",
       "        text-align: right;\n",
       "    }\n",
       "</style>\n",
       "<table border=\"1\" class=\"dataframe\">\n",
       "  <thead>\n",
       "    <tr style=\"text-align: right;\">\n",
       "      <th></th>\n",
       "      <th>degree</th>\n",
       "      <th>in_degree</th>\n",
       "      <th>out_degree</th>\n",
       "      <th>eigen_centrality</th>\n",
       "    </tr>\n",
       "  </thead>\n",
       "  <tbody>\n",
       "    <tr>\n",
       "      <th>count</th>\n",
       "      <td>4.666873e+06</td>\n",
       "      <td>4.666873e+06</td>\n",
       "      <td>4.666873e+06</td>\n",
       "      <td>4.666873e+06</td>\n",
       "    </tr>\n",
       "    <tr>\n",
       "      <th>mean</th>\n",
       "      <td>4.494298e+00</td>\n",
       "      <td>2.247149e+00</td>\n",
       "      <td>2.247149e+00</td>\n",
       "      <td>3.970074e-05</td>\n",
       "    </tr>\n",
       "    <tr>\n",
       "      <th>std</th>\n",
       "      <td>3.935922e+01</td>\n",
       "      <td>1.998412e+01</td>\n",
       "      <td>2.868249e+01</td>\n",
       "      <td>4.611943e-04</td>\n",
       "    </tr>\n",
       "    <tr>\n",
       "      <th>min</th>\n",
       "      <td>1.000000e+00</td>\n",
       "      <td>0.000000e+00</td>\n",
       "      <td>0.000000e+00</td>\n",
       "      <td>1.193322e-21</td>\n",
       "    </tr>\n",
       "    <tr>\n",
       "      <th>25%</th>\n",
       "      <td>1.000000e+00</td>\n",
       "      <td>0.000000e+00</td>\n",
       "      <td>0.000000e+00</td>\n",
       "      <td>1.193322e-21</td>\n",
       "    </tr>\n",
       "    <tr>\n",
       "      <th>50%</th>\n",
       "      <td>2.000000e+00</td>\n",
       "      <td>1.000000e+00</td>\n",
       "      <td>1.000000e+00</td>\n",
       "      <td>4.892620e-20</td>\n",
       "    </tr>\n",
       "    <tr>\n",
       "      <th>75%</th>\n",
       "      <td>3.000000e+00</td>\n",
       "      <td>1.000000e+00</td>\n",
       "      <td>2.000000e+00</td>\n",
       "      <td>1.517475e-14</td>\n",
       "    </tr>\n",
       "    <tr>\n",
       "      <th>max</th>\n",
       "      <td>2.791700e+04</td>\n",
       "      <td>1.211600e+04</td>\n",
       "      <td>2.533500e+04</td>\n",
       "      <td>1.642653e-01</td>\n",
       "    </tr>\n",
       "  </tbody>\n",
       "</table>\n",
       "</div>"
      ],
      "text/plain": [
       "             degree     in_degree    out_degree  eigen_centrality\n",
       "count  4.666873e+06  4.666873e+06  4.666873e+06      4.666873e+06\n",
       "mean   4.494298e+00  2.247149e+00  2.247149e+00      3.970074e-05\n",
       "std    3.935922e+01  1.998412e+01  2.868249e+01      4.611943e-04\n",
       "min    1.000000e+00  0.000000e+00  0.000000e+00      1.193322e-21\n",
       "25%    1.000000e+00  0.000000e+00  0.000000e+00      1.193322e-21\n",
       "50%    2.000000e+00  1.000000e+00  1.000000e+00      4.892620e-20\n",
       "75%    3.000000e+00  1.000000e+00  2.000000e+00      1.517475e-14\n",
       "max    2.791700e+04  1.211600e+04  2.533500e+04      1.642653e-01"
      ]
     },
     "execution_count": 6,
     "metadata": {},
     "output_type": "execute_result"
    }
   ],
   "source": [
    "# Get node properties from data exploration exercise for comparison\n",
    "node_properties = pd.read_csv(r'C:\\Users\\sarah\\Documents\\UNI\\Masters\\Study\\Term_3\\Master Project\\node_properties_cl.csv')\n",
    "node_properties[['degree', 'in_degree', 'out_degree', 'eigen_centrality']].describe()"
   ]
  },
  {
   "cell_type": "code",
   "execution_count": 7,
   "id": "06aeac91",
   "metadata": {
    "ExecuteTime": {
     "end_time": "2022-05-31T16:29:56.567864Z",
     "start_time": "2022-05-31T16:29:55.958767Z"
    }
   },
   "outputs": [
    {
     "data": {
      "text/html": [
       "<div>\n",
       "<style scoped>\n",
       "    .dataframe tbody tr th:only-of-type {\n",
       "        vertical-align: middle;\n",
       "    }\n",
       "\n",
       "    .dataframe tbody tr th {\n",
       "        vertical-align: top;\n",
       "    }\n",
       "\n",
       "    .dataframe thead th {\n",
       "        text-align: right;\n",
       "    }\n",
       "</style>\n",
       "<table border=\"1\" class=\"dataframe\">\n",
       "  <thead>\n",
       "    <tr style=\"text-align: right;\">\n",
       "      <th></th>\n",
       "      <th>source</th>\n",
       "      <th>target</th>\n",
       "      <th>weight</th>\n",
       "    </tr>\n",
       "  </thead>\n",
       "  <tbody>\n",
       "    <tr>\n",
       "      <th>0</th>\n",
       "      <td>12S7NaikVGY1V7iM4qoH5uyHXV3QWQ1tVk</td>\n",
       "      <td>1LjRr9PwS93ddTK6h8rLZU3NFjUvapJC3r</td>\n",
       "      <td>1.0</td>\n",
       "    </tr>\n",
       "    <tr>\n",
       "      <th>1</th>\n",
       "      <td>12S7NaikVGY1V7iM4qoH5uyHXV3QWQ1tVk</td>\n",
       "      <td>38qrAYj4ebTpsLFgMv9MDAGkAEfrLuwvrB</td>\n",
       "      <td>1.0</td>\n",
       "    </tr>\n",
       "    <tr>\n",
       "      <th>2</th>\n",
       "      <td>3E73wzSKfpTELLUrZGJyU5YtjbxwuHs2vq</td>\n",
       "      <td>3ECj4CGJyJta7chJJt4EqH2ptaEWcgUA2c</td>\n",
       "      <td>1.0</td>\n",
       "    </tr>\n",
       "    <tr>\n",
       "      <th>3</th>\n",
       "      <td>3KX39GpXX5pPvEwd1P7Y3duA3hU5f4SMQY</td>\n",
       "      <td>1L4pBeLzSPMCKVBwGFWdyjdgc1UEuR8pdF</td>\n",
       "      <td>1.0</td>\n",
       "    </tr>\n",
       "    <tr>\n",
       "      <th>4</th>\n",
       "      <td>3KX39GpXX5pPvEwd1P7Y3duA3hU5f4SMQY</td>\n",
       "      <td>363uos24LJbDyNqA3fR9712dM6gxt66WHT</td>\n",
       "      <td>1.0</td>\n",
       "    </tr>\n",
       "  </tbody>\n",
       "</table>\n",
       "</div>"
      ],
      "text/plain": [
       "                               source                              target  \\\n",
       "0  12S7NaikVGY1V7iM4qoH5uyHXV3QWQ1tVk  1LjRr9PwS93ddTK6h8rLZU3NFjUvapJC3r   \n",
       "1  12S7NaikVGY1V7iM4qoH5uyHXV3QWQ1tVk  38qrAYj4ebTpsLFgMv9MDAGkAEfrLuwvrB   \n",
       "2  3E73wzSKfpTELLUrZGJyU5YtjbxwuHs2vq  3ECj4CGJyJta7chJJt4EqH2ptaEWcgUA2c   \n",
       "3  3KX39GpXX5pPvEwd1P7Y3duA3hU5f4SMQY  1L4pBeLzSPMCKVBwGFWdyjdgc1UEuR8pdF   \n",
       "4  3KX39GpXX5pPvEwd1P7Y3duA3hU5f4SMQY  363uos24LJbDyNqA3fR9712dM6gxt66WHT   \n",
       "\n",
       "   weight  \n",
       "0     1.0  \n",
       "1     1.0  \n",
       "2     1.0  \n",
       "3     1.0  \n",
       "4     1.0  "
      ]
     },
     "execution_count": 7,
     "metadata": {},
     "output_type": "execute_result"
    }
   ],
   "source": [
    "rwm2_5_df = nx.to_pandas_edgelist(G_rwm2_5) \n",
    "rwm2_5_df.head()"
   ]
  },
  {
   "cell_type": "code",
   "execution_count": 8,
   "id": "35280230",
   "metadata": {
    "ExecuteTime": {
     "end_time": "2022-05-31T16:30:01.150597Z",
     "start_time": "2022-05-31T16:30:01.107084Z"
    }
   },
   "outputs": [
    {
     "data": {
      "text/plain": [
       "31897"
      ]
     },
     "execution_count": 8,
     "metadata": {},
     "output_type": "execute_result"
    }
   ],
   "source": [
    "# Number of unique input addresses\n",
    "rwm2_5_df['source'].nunique()"
   ]
  },
  {
   "cell_type": "code",
   "execution_count": 9,
   "id": "b8db4502",
   "metadata": {
    "ExecuteTime": {
     "end_time": "2022-05-31T16:30:06.888794Z",
     "start_time": "2022-05-31T16:30:06.817693Z"
    }
   },
   "outputs": [
    {
     "data": {
      "text/plain": [
       "31226"
      ]
     },
     "execution_count": 9,
     "metadata": {},
     "output_type": "execute_result"
    }
   ],
   "source": [
    "# Number of unique output addresses\n",
    "rwm2_5_df['target'].nunique()"
   ]
  },
  {
   "cell_type": "markdown",
   "id": "0cff6ad4",
   "metadata": {},
   "source": [
    "We observe relative balance between input and output addresses, with slightly more input addresses. In the full dataset there is also relative balance, but there were more output addresses. "
   ]
  },
  {
   "cell_type": "code",
   "execution_count": 10,
   "id": "f0a263fa",
   "metadata": {
    "ExecuteTime": {
     "end_time": "2022-05-31T16:30:20.937751Z",
     "start_time": "2022-05-31T16:30:20.900512Z"
    }
   },
   "outputs": [
    {
     "data": {
      "text/html": [
       "<div>\n",
       "<style scoped>\n",
       "    .dataframe tbody tr th:only-of-type {\n",
       "        vertical-align: middle;\n",
       "    }\n",
       "\n",
       "    .dataframe tbody tr th {\n",
       "        vertical-align: top;\n",
       "    }\n",
       "\n",
       "    .dataframe thead th {\n",
       "        text-align: right;\n",
       "    }\n",
       "</style>\n",
       "<table border=\"1\" class=\"dataframe\">\n",
       "  <thead>\n",
       "    <tr style=\"text-align: right;\">\n",
       "      <th></th>\n",
       "      <th>weight</th>\n",
       "    </tr>\n",
       "  </thead>\n",
       "  <tbody>\n",
       "    <tr>\n",
       "      <th>count</th>\n",
       "      <td>133248.000000</td>\n",
       "    </tr>\n",
       "    <tr>\n",
       "      <th>mean</th>\n",
       "      <td>0.783381</td>\n",
       "    </tr>\n",
       "    <tr>\n",
       "      <th>std</th>\n",
       "      <td>0.509002</td>\n",
       "    </tr>\n",
       "    <tr>\n",
       "      <th>min</th>\n",
       "      <td>-69.648093</td>\n",
       "    </tr>\n",
       "    <tr>\n",
       "      <th>25%</th>\n",
       "      <td>0.568715</td>\n",
       "    </tr>\n",
       "    <tr>\n",
       "      <th>50%</th>\n",
       "      <td>1.000000</td>\n",
       "    </tr>\n",
       "    <tr>\n",
       "      <th>75%</th>\n",
       "      <td>1.000000</td>\n",
       "    </tr>\n",
       "    <tr>\n",
       "      <th>max</th>\n",
       "      <td>56.159410</td>\n",
       "    </tr>\n",
       "  </tbody>\n",
       "</table>\n",
       "</div>"
      ],
      "text/plain": [
       "              weight\n",
       "count  133248.000000\n",
       "mean        0.783381\n",
       "std         0.509002\n",
       "min       -69.648093\n",
       "25%         0.568715\n",
       "50%         1.000000\n",
       "75%         1.000000\n",
       "max        56.159410"
      ]
     },
     "execution_count": 10,
     "metadata": {},
     "output_type": "execute_result"
    }
   ],
   "source": [
    "rwm2_5_df.describe()"
   ]
  },
  {
   "cell_type": "markdown",
   "id": "dcdb695e",
   "metadata": {},
   "source": [
    "The weight variable shows that the distribution of the weighting (amount*0.5 + timestamp*0.5) is similar to that of overall transaction amounts."
   ]
  },
  {
   "cell_type": "code",
   "execution_count": 11,
   "id": "79d4e08d",
   "metadata": {
    "ExecuteTime": {
     "end_time": "2022-05-31T16:30:28.270089Z",
     "start_time": "2022-05-31T16:30:28.208404Z"
    }
   },
   "outputs": [
    {
     "name": "stdout",
     "output_type": "stream",
     "text": [
      "Total number of fraudulent/high-risk nodes :  4563\n",
      "Number of fraudulent/high-risk nodes in sample :  282\n"
     ]
    }
   ],
   "source": [
    "# Subset by fraudulent/high-risk nodes\n",
    "fr_nodes = node_properties[node_properties['fraud_flag'] == 1]\n",
    "fr_nodes = fr_nodes['address'].tolist()\n",
    "print('Total number of fraudulent/high-risk nodes : ', len(fr_nodes))\n",
    "\n",
    "# Check for number of fraudulent/high-risk addresses in the sample\n",
    "print('Number of fraudulent/high-risk nodes in sample : ', len(set(n_rwm2_5).intersection(fr_nodes)))"
   ]
  },
  {
   "cell_type": "markdown",
   "id": "cd0dbfac",
   "metadata": {},
   "source": [
    "These numbers suggest that random selection of nodes worsens the class imbalance problem, but when considering the counts relative to the size of the network the issue is less pronounced.\n",
    "\n",
    "Full Network: 0.11% \n",
    "\n",
    "Sample: 0.56%"
   ]
  },
  {
   "cell_type": "markdown",
   "id": "d3fb5977",
   "metadata": {},
   "source": [
    "## Node Properties"
   ]
  },
  {
   "cell_type": "code",
   "execution_count": 12,
   "id": "5c117beb",
   "metadata": {
    "ExecuteTime": {
     "end_time": "2022-05-31T16:31:00.148248Z",
     "start_time": "2022-05-31T16:30:59.777433Z"
    }
   },
   "outputs": [],
   "source": [
    "# Get Properties\n",
    "\n",
    "address = [node for (node, val) in G_rwm2_5.degree()]\n",
    "degree = [val for (node, val) in G_rwm2_5.degree()]\n",
    "in_degree = [val for (node, val) in G_rwm2_5.in_degree()]\n",
    "out_degree = [val for (node, val) in G_rwm2_5.out_degree()]\n",
    "#eigen_centrality = nx.eigenvector_centrality(G_rwm2_5) # NetworkXNotImplemented: not implemented for multigraph type\n",
    "#eigen_centrality = [eigen_centrality[node] for node in eigen_centrality]"
   ]
  },
  {
   "cell_type": "code",
   "execution_count": 13,
   "id": "3aa7e856",
   "metadata": {
    "ExecuteTime": {
     "end_time": "2022-05-31T16:31:02.417052Z",
     "start_time": "2022-05-31T16:31:02.332513Z"
    }
   },
   "outputs": [],
   "source": [
    "# Add Properties to DataFrame\n",
    "\n",
    "nodes = pd.DataFrame()\n",
    "nodes['address'] = address\n",
    "nodes['degree'] = degree\n",
    "nodes['in_degree'] = in_degree\n",
    "nodes['out_degree'] = out_degree\n",
    "#nodes['eigen_centrality'] = eigen_centrality"
   ]
  },
  {
   "cell_type": "code",
   "execution_count": 14,
   "id": "63a95d5f",
   "metadata": {
    "ExecuteTime": {
     "end_time": "2022-05-31T16:32:04.332111Z",
     "start_time": "2022-05-31T16:31:49.673714Z"
    }
   },
   "outputs": [
    {
     "data": {
      "text/html": [
       "<div>\n",
       "<style scoped>\n",
       "    .dataframe tbody tr th:only-of-type {\n",
       "        vertical-align: middle;\n",
       "    }\n",
       "\n",
       "    .dataframe tbody tr th {\n",
       "        vertical-align: top;\n",
       "    }\n",
       "\n",
       "    .dataframe thead th {\n",
       "        text-align: right;\n",
       "    }\n",
       "</style>\n",
       "<table border=\"1\" class=\"dataframe\">\n",
       "  <thead>\n",
       "    <tr style=\"text-align: right;\">\n",
       "      <th></th>\n",
       "      <th>address</th>\n",
       "      <th>degree</th>\n",
       "      <th>in_degree</th>\n",
       "      <th>out_degree</th>\n",
       "      <th>fraud_flag</th>\n",
       "    </tr>\n",
       "  </thead>\n",
       "  <tbody>\n",
       "    <tr>\n",
       "      <th>0</th>\n",
       "      <td>12S7NaikVGY1V7iM4qoH5uyHXV3QWQ1tVk</td>\n",
       "      <td>2</td>\n",
       "      <td>0</td>\n",
       "      <td>2</td>\n",
       "      <td>0</td>\n",
       "    </tr>\n",
       "    <tr>\n",
       "      <th>1</th>\n",
       "      <td>3E73wzSKfpTELLUrZGJyU5YtjbxwuHs2vq</td>\n",
       "      <td>3</td>\n",
       "      <td>2</td>\n",
       "      <td>1</td>\n",
       "      <td>0</td>\n",
       "    </tr>\n",
       "    <tr>\n",
       "      <th>2</th>\n",
       "      <td>3ALa94jLM3U6UYiUcieez59t6YQBDCgWsz</td>\n",
       "      <td>1</td>\n",
       "      <td>1</td>\n",
       "      <td>0</td>\n",
       "      <td>0</td>\n",
       "    </tr>\n",
       "    <tr>\n",
       "      <th>3</th>\n",
       "      <td>3KX39GpXX5pPvEwd1P7Y3duA3hU5f4SMQY</td>\n",
       "      <td>4</td>\n",
       "      <td>2</td>\n",
       "      <td>2</td>\n",
       "      <td>0</td>\n",
       "    </tr>\n",
       "    <tr>\n",
       "      <th>4</th>\n",
       "      <td>33TWSUiipHXqYTRZkHjD3f96qu4RoJ4zp9</td>\n",
       "      <td>9</td>\n",
       "      <td>0</td>\n",
       "      <td>9</td>\n",
       "      <td>0</td>\n",
       "    </tr>\n",
       "  </tbody>\n",
       "</table>\n",
       "</div>"
      ],
      "text/plain": [
       "                              address  degree  in_degree  out_degree  \\\n",
       "0  12S7NaikVGY1V7iM4qoH5uyHXV3QWQ1tVk       2          0           2   \n",
       "1  3E73wzSKfpTELLUrZGJyU5YtjbxwuHs2vq       3          2           1   \n",
       "2  3ALa94jLM3U6UYiUcieez59t6YQBDCgWsz       1          1           0   \n",
       "3  3KX39GpXX5pPvEwd1P7Y3duA3hU5f4SMQY       4          2           2   \n",
       "4  33TWSUiipHXqYTRZkHjD3f96qu4RoJ4zp9       9          0           9   \n",
       "\n",
       "   fraud_flag  \n",
       "0           0  \n",
       "1           0  \n",
       "2           0  \n",
       "3           0  \n",
       "4           0  "
      ]
     },
     "execution_count": 14,
     "metadata": {},
     "output_type": "execute_result"
    }
   ],
   "source": [
    "# Add fraud flag\n",
    "\n",
    "nodes = nodes.assign(**dict.fromkeys(['fraud_flag'], 0))\n",
    "\n",
    "for i in fr_nodes:\n",
    "    nodes.loc[nodes.address == i, 'fraud_flag'] = 1\n",
    "    \n",
    "nodes.head()"
   ]
  },
  {
   "cell_type": "code",
   "execution_count": 15,
   "id": "822f8896",
   "metadata": {
    "ExecuteTime": {
     "end_time": "2022-05-31T16:32:04.372021Z",
     "start_time": "2022-05-31T16:32:04.335846Z"
    }
   },
   "outputs": [
    {
     "data": {
      "text/html": [
       "<div>\n",
       "<style scoped>\n",
       "    .dataframe tbody tr th:only-of-type {\n",
       "        vertical-align: middle;\n",
       "    }\n",
       "\n",
       "    .dataframe tbody tr th {\n",
       "        vertical-align: top;\n",
       "    }\n",
       "\n",
       "    .dataframe thead th {\n",
       "        text-align: right;\n",
       "    }\n",
       "</style>\n",
       "<table border=\"1\" class=\"dataframe\">\n",
       "  <thead>\n",
       "    <tr style=\"text-align: right;\">\n",
       "      <th></th>\n",
       "      <th>degree</th>\n",
       "      <th>in_degree</th>\n",
       "      <th>out_degree</th>\n",
       "    </tr>\n",
       "  </thead>\n",
       "  <tbody>\n",
       "    <tr>\n",
       "      <th>count</th>\n",
       "      <td>50000.000000</td>\n",
       "      <td>50000.000000</td>\n",
       "      <td>50000.000000</td>\n",
       "    </tr>\n",
       "    <tr>\n",
       "      <th>mean</th>\n",
       "      <td>5.329920</td>\n",
       "      <td>2.664960</td>\n",
       "      <td>2.664960</td>\n",
       "    </tr>\n",
       "    <tr>\n",
       "      <th>std</th>\n",
       "      <td>40.083613</td>\n",
       "      <td>17.248836</td>\n",
       "      <td>26.294662</td>\n",
       "    </tr>\n",
       "    <tr>\n",
       "      <th>min</th>\n",
       "      <td>1.000000</td>\n",
       "      <td>0.000000</td>\n",
       "      <td>0.000000</td>\n",
       "    </tr>\n",
       "    <tr>\n",
       "      <th>25%</th>\n",
       "      <td>1.000000</td>\n",
       "      <td>0.000000</td>\n",
       "      <td>0.000000</td>\n",
       "    </tr>\n",
       "    <tr>\n",
       "      <th>50%</th>\n",
       "      <td>2.000000</td>\n",
       "      <td>1.000000</td>\n",
       "      <td>1.000000</td>\n",
       "    </tr>\n",
       "    <tr>\n",
       "      <th>75%</th>\n",
       "      <td>4.000000</td>\n",
       "      <td>2.000000</td>\n",
       "      <td>2.000000</td>\n",
       "    </tr>\n",
       "    <tr>\n",
       "      <th>max</th>\n",
       "      <td>4384.000000</td>\n",
       "      <td>1500.000000</td>\n",
       "      <td>2896.000000</td>\n",
       "    </tr>\n",
       "  </tbody>\n",
       "</table>\n",
       "</div>"
      ],
      "text/plain": [
       "             degree     in_degree    out_degree\n",
       "count  50000.000000  50000.000000  50000.000000\n",
       "mean       5.329920      2.664960      2.664960\n",
       "std       40.083613     17.248836     26.294662\n",
       "min        1.000000      0.000000      0.000000\n",
       "25%        1.000000      0.000000      0.000000\n",
       "50%        2.000000      1.000000      1.000000\n",
       "75%        4.000000      2.000000      2.000000\n",
       "max     4384.000000   1500.000000   2896.000000"
      ]
     },
     "execution_count": 15,
     "metadata": {},
     "output_type": "execute_result"
    }
   ],
   "source": [
    "# Describe sample properties overall\n",
    "\n",
    "nodes[['degree', 'in_degree', 'out_degree']].describe()"
   ]
  },
  {
   "cell_type": "code",
   "execution_count": 16,
   "id": "37f96023",
   "metadata": {
    "ExecuteTime": {
     "end_time": "2022-05-31T16:32:04.403700Z",
     "start_time": "2022-05-31T16:32:04.373976Z"
    }
   },
   "outputs": [
    {
     "data": {
      "text/html": [
       "<div>\n",
       "<style scoped>\n",
       "    .dataframe tbody tr th:only-of-type {\n",
       "        vertical-align: middle;\n",
       "    }\n",
       "\n",
       "    .dataframe tbody tr th {\n",
       "        vertical-align: top;\n",
       "    }\n",
       "\n",
       "    .dataframe thead th {\n",
       "        text-align: right;\n",
       "    }\n",
       "</style>\n",
       "<table border=\"1\" class=\"dataframe\">\n",
       "  <thead>\n",
       "    <tr style=\"text-align: right;\">\n",
       "      <th></th>\n",
       "      <th>degree</th>\n",
       "      <th>in_degree</th>\n",
       "      <th>out_degree</th>\n",
       "    </tr>\n",
       "  </thead>\n",
       "  <tbody>\n",
       "    <tr>\n",
       "      <th>count</th>\n",
       "      <td>282.000000</td>\n",
       "      <td>282.000000</td>\n",
       "      <td>282.000000</td>\n",
       "    </tr>\n",
       "    <tr>\n",
       "      <th>mean</th>\n",
       "      <td>136.223404</td>\n",
       "      <td>55.716312</td>\n",
       "      <td>80.507092</td>\n",
       "    </tr>\n",
       "    <tr>\n",
       "      <th>std</th>\n",
       "      <td>483.350462</td>\n",
       "      <td>189.363358</td>\n",
       "      <td>322.358317</td>\n",
       "    </tr>\n",
       "    <tr>\n",
       "      <th>min</th>\n",
       "      <td>1.000000</td>\n",
       "      <td>0.000000</td>\n",
       "      <td>0.000000</td>\n",
       "    </tr>\n",
       "    <tr>\n",
       "      <th>25%</th>\n",
       "      <td>6.000000</td>\n",
       "      <td>2.000000</td>\n",
       "      <td>1.000000</td>\n",
       "    </tr>\n",
       "    <tr>\n",
       "      <th>50%</th>\n",
       "      <td>23.500000</td>\n",
       "      <td>9.000000</td>\n",
       "      <td>7.000000</td>\n",
       "    </tr>\n",
       "    <tr>\n",
       "      <th>75%</th>\n",
       "      <td>73.750000</td>\n",
       "      <td>36.750000</td>\n",
       "      <td>30.750000</td>\n",
       "    </tr>\n",
       "    <tr>\n",
       "      <th>max</th>\n",
       "      <td>4384.000000</td>\n",
       "      <td>1500.000000</td>\n",
       "      <td>2896.000000</td>\n",
       "    </tr>\n",
       "  </tbody>\n",
       "</table>\n",
       "</div>"
      ],
      "text/plain": [
       "            degree    in_degree   out_degree\n",
       "count   282.000000   282.000000   282.000000\n",
       "mean    136.223404    55.716312    80.507092\n",
       "std     483.350462   189.363358   322.358317\n",
       "min       1.000000     0.000000     0.000000\n",
       "25%       6.000000     2.000000     1.000000\n",
       "50%      23.500000     9.000000     7.000000\n",
       "75%      73.750000    36.750000    30.750000\n",
       "max    4384.000000  1500.000000  2896.000000"
      ]
     },
     "execution_count": 16,
     "metadata": {},
     "output_type": "execute_result"
    }
   ],
   "source": [
    "# Describe Properties of Fraudulent Nodes\n",
    "\n",
    "nodes_fraud = nodes[nodes['fraud_flag'] == 1]\n",
    "nodes_fraud[['degree', 'in_degree', 'out_degree']].describe()"
   ]
  },
  {
   "cell_type": "code",
   "execution_count": 17,
   "id": "3f082fb7",
   "metadata": {
    "ExecuteTime": {
     "end_time": "2022-05-31T16:32:04.450379Z",
     "start_time": "2022-05-31T16:32:04.409739Z"
    }
   },
   "outputs": [
    {
     "data": {
      "text/html": [
       "<div>\n",
       "<style scoped>\n",
       "    .dataframe tbody tr th:only-of-type {\n",
       "        vertical-align: middle;\n",
       "    }\n",
       "\n",
       "    .dataframe tbody tr th {\n",
       "        vertical-align: top;\n",
       "    }\n",
       "\n",
       "    .dataframe thead th {\n",
       "        text-align: right;\n",
       "    }\n",
       "</style>\n",
       "<table border=\"1\" class=\"dataframe\">\n",
       "  <thead>\n",
       "    <tr style=\"text-align: right;\">\n",
       "      <th></th>\n",
       "      <th>degree</th>\n",
       "      <th>in_degree</th>\n",
       "      <th>out_degree</th>\n",
       "    </tr>\n",
       "  </thead>\n",
       "  <tbody>\n",
       "    <tr>\n",
       "      <th>count</th>\n",
       "      <td>49718.000000</td>\n",
       "      <td>49718.000000</td>\n",
       "      <td>49718.00000</td>\n",
       "    </tr>\n",
       "    <tr>\n",
       "      <th>mean</th>\n",
       "      <td>4.587493</td>\n",
       "      <td>2.364053</td>\n",
       "      <td>2.22344</td>\n",
       "    </tr>\n",
       "    <tr>\n",
       "      <th>std</th>\n",
       "      <td>14.057599</td>\n",
       "      <td>8.971274</td>\n",
       "      <td>8.56975</td>\n",
       "    </tr>\n",
       "    <tr>\n",
       "      <th>min</th>\n",
       "      <td>1.000000</td>\n",
       "      <td>0.000000</td>\n",
       "      <td>0.00000</td>\n",
       "    </tr>\n",
       "    <tr>\n",
       "      <th>25%</th>\n",
       "      <td>1.000000</td>\n",
       "      <td>0.000000</td>\n",
       "      <td>0.00000</td>\n",
       "    </tr>\n",
       "    <tr>\n",
       "      <th>50%</th>\n",
       "      <td>2.000000</td>\n",
       "      <td>1.000000</td>\n",
       "      <td>1.00000</td>\n",
       "    </tr>\n",
       "    <tr>\n",
       "      <th>75%</th>\n",
       "      <td>4.000000</td>\n",
       "      <td>2.000000</td>\n",
       "      <td>2.00000</td>\n",
       "    </tr>\n",
       "    <tr>\n",
       "      <th>max</th>\n",
       "      <td>939.000000</td>\n",
       "      <td>934.000000</td>\n",
       "      <td>641.00000</td>\n",
       "    </tr>\n",
       "  </tbody>\n",
       "</table>\n",
       "</div>"
      ],
      "text/plain": [
       "             degree     in_degree   out_degree\n",
       "count  49718.000000  49718.000000  49718.00000\n",
       "mean       4.587493      2.364053      2.22344\n",
       "std       14.057599      8.971274      8.56975\n",
       "min        1.000000      0.000000      0.00000\n",
       "25%        1.000000      0.000000      0.00000\n",
       "50%        2.000000      1.000000      1.00000\n",
       "75%        4.000000      2.000000      2.00000\n",
       "max      939.000000    934.000000    641.00000"
      ]
     },
     "execution_count": 17,
     "metadata": {},
     "output_type": "execute_result"
    }
   ],
   "source": [
    "# Describe Properties of Non-Fraudulent Nodes\n",
    "\n",
    "nodes_licit = nodes[nodes['fraud_flag'] == 0]\n",
    "nodes_licit[['degree', 'in_degree', 'out_degree']].describe()"
   ]
  },
  {
   "cell_type": "markdown",
   "id": "30cbfde9",
   "metadata": {},
   "source": [
    "For all 3 cases the degree distribution properties are similar to the overall network."
   ]
  },
  {
   "cell_type": "markdown",
   "id": "46e7c33f",
   "metadata": {},
   "source": [
    "## Graph Properties"
   ]
  },
  {
   "cell_type": "code",
   "execution_count": 18,
   "id": "24f1f6e6",
   "metadata": {
    "ExecuteTime": {
     "end_time": "2022-05-31T16:32:04.611784Z",
     "start_time": "2022-05-31T16:32:04.453371Z"
    }
   },
   "outputs": [
    {
     "data": {
      "text/plain": [
       "5.330026600532011e-05"
      ]
     },
     "execution_count": 18,
     "metadata": {},
     "output_type": "execute_result"
    }
   ],
   "source": [
    "# Density\n",
    "nx.density(G_rwm2_5) # Connectivity remains very low"
   ]
  },
  {
   "cell_type": "code",
   "execution_count": 19,
   "id": "10308ad9",
   "metadata": {
    "ExecuteTime": {
     "end_time": "2022-05-31T16:32:28.868840Z",
     "start_time": "2022-05-31T16:32:25.474903Z"
    }
   },
   "outputs": [
    {
     "name": "stdout",
     "output_type": "stream",
     "text": [
      "The number of communities in the sample : 89\n"
     ]
    }
   ],
   "source": [
    "# Communities - k-Cliques\n",
    "\n",
    "com_generator_rwm2_5 = k_clique_communities(G_rwm2_5.to_undirected(), k=10)\n",
    "com_rwm2_5 = next(com_generator_rwm2_5)\n",
    "print('The number of communities in the sample : ' + str(len(com_rwm2_5)))"
   ]
  },
  {
   "cell_type": "markdown",
   "id": "1993d1a3",
   "metadata": {},
   "source": [
    "The sample has a large variety of community structures. (Note: Giant Component = 107)"
   ]
  },
  {
   "cell_type": "code",
   "execution_count": null,
   "id": "05c73533",
   "metadata": {},
   "outputs": [],
   "source": []
  }
 ],
 "metadata": {
  "kernelspec": {
   "display_name": "Python 3 (ipykernel)",
   "language": "python",
   "name": "python3"
  },
  "language_info": {
   "codemirror_mode": {
    "name": "ipython",
    "version": 3
   },
   "file_extension": ".py",
   "mimetype": "text/x-python",
   "name": "python",
   "nbconvert_exporter": "python",
   "pygments_lexer": "ipython3",
   "version": "3.9.12"
  }
 },
 "nbformat": 4,
 "nbformat_minor": 5
}
