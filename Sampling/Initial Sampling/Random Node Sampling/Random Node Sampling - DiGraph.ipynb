{
 "cells": [
  {
   "cell_type": "code",
   "execution_count": 1,
   "id": "6ea94d8e",
   "metadata": {
    "ExecuteTime": {
     "end_time": "2022-05-31T22:08:24.942906Z",
     "start_time": "2022-05-31T22:08:23.821320Z"
    }
   },
   "outputs": [],
   "source": [
    "import pandas as pd\n",
    "import numpy as np\n",
    "\n",
    "import networkx as nx\n",
    "from networkx.algorithms.community import k_clique_communities\n",
    "import random as rd\n",
    "rd.seed(42)\n",
    "\n",
    "import warnings\n",
    "warnings.filterwarnings('ignore')"
   ]
  },
  {
   "cell_type": "markdown",
   "id": "5695e9c4",
   "metadata": {},
   "source": [
    "## Load Data & Obtain Graphs"
   ]
  },
  {
   "cell_type": "code",
   "execution_count": 2,
   "id": "d9235350",
   "metadata": {
    "ExecuteTime": {
     "end_time": "2022-05-31T22:08:58.185312Z",
     "start_time": "2022-05-31T22:08:24.942906Z"
    }
   },
   "outputs": [
    {
     "data": {
      "text/html": [
       "<div>\n",
       "<style scoped>\n",
       "    .dataframe tbody tr th:only-of-type {\n",
       "        vertical-align: middle;\n",
       "    }\n",
       "\n",
       "    .dataframe tbody tr th {\n",
       "        vertical-align: top;\n",
       "    }\n",
       "\n",
       "    .dataframe thead th {\n",
       "        text-align: right;\n",
       "    }\n",
       "</style>\n",
       "<table border=\"1\" class=\"dataframe\">\n",
       "  <thead>\n",
       "    <tr style=\"text-align: right;\">\n",
       "      <th></th>\n",
       "      <th>txn_hash</th>\n",
       "      <th>input_address</th>\n",
       "      <th>output_address</th>\n",
       "      <th>ammount</th>\n",
       "      <th>fees</th>\n",
       "      <th>block_index</th>\n",
       "      <th>block_time</th>\n",
       "      <th>input_flag</th>\n",
       "      <th>output_flag</th>\n",
       "    </tr>\n",
       "  </thead>\n",
       "  <tbody>\n",
       "    <tr>\n",
       "      <th>0</th>\n",
       "      <td>bd36f2ca16e2a2c73c807b7d1569657b30de8453450cd2...</td>\n",
       "      <td>13Uf71d8y94xEk2LX7GCtaBJmPiahhA7TR</td>\n",
       "      <td>16FPyvvz5Ug3cx97qH67KfgC6PY1S9fskQ</td>\n",
       "      <td>2.420000e+07</td>\n",
       "      <td>320000.000000</td>\n",
       "      <td>453318</td>\n",
       "      <td>2017-02-16 12:05:04</td>\n",
       "      <td>0</td>\n",
       "      <td>1</td>\n",
       "    </tr>\n",
       "    <tr>\n",
       "      <th>1</th>\n",
       "      <td>8c852e187a0541cd8ea8c93a6c728843b5f8b9c579b6fc...</td>\n",
       "      <td>166zajP74bcRVo7BmdeDME3mRX3Mi9e3xn</td>\n",
       "      <td>1ASaHGPN8qRuqZkpnR7d2tcndU9uHL6aGj</td>\n",
       "      <td>2.503648e+03</td>\n",
       "      <td>3.314845</td>\n",
       "      <td>453318</td>\n",
       "      <td>2017-02-16 12:05:04</td>\n",
       "      <td>0</td>\n",
       "      <td>1</td>\n",
       "    </tr>\n",
       "    <tr>\n",
       "      <th>2</th>\n",
       "      <td>8c852e187a0541cd8ea8c93a6c728843b5f8b9c579b6fc...</td>\n",
       "      <td>1LU3DtRE3XK32WxFqrnaT9k99nRgwHtLHd</td>\n",
       "      <td>1ASaHGPN8qRuqZkpnR7d2tcndU9uHL6aGj</td>\n",
       "      <td>6.359402e+05</td>\n",
       "      <td>841.988605</td>\n",
       "      <td>453318</td>\n",
       "      <td>2017-02-16 12:05:04</td>\n",
       "      <td>0</td>\n",
       "      <td>1</td>\n",
       "    </tr>\n",
       "    <tr>\n",
       "      <th>3</th>\n",
       "      <td>8c852e187a0541cd8ea8c93a6c728843b5f8b9c579b6fc...</td>\n",
       "      <td>1HVQNFf7vDpJVZk7tEzbFxnmALSezA2qPD</td>\n",
       "      <td>1ASaHGPN8qRuqZkpnR7d2tcndU9uHL6aGj</td>\n",
       "      <td>5.902369e+05</td>\n",
       "      <td>781.477250</td>\n",
       "      <td>453318</td>\n",
       "      <td>2017-02-16 12:05:04</td>\n",
       "      <td>0</td>\n",
       "      <td>1</td>\n",
       "    </tr>\n",
       "    <tr>\n",
       "      <th>4</th>\n",
       "      <td>8c852e187a0541cd8ea8c93a6c728843b5f8b9c579b6fc...</td>\n",
       "      <td>1LU3DtRE3XK32WxFqrnaT9k99nRgwHtLHd</td>\n",
       "      <td>1ASaHGPN8qRuqZkpnR7d2tcndU9uHL6aGj</td>\n",
       "      <td>1.013032e+05</td>\n",
       "      <td>134.126076</td>\n",
       "      <td>453318</td>\n",
       "      <td>2017-02-16 12:05:04</td>\n",
       "      <td>0</td>\n",
       "      <td>1</td>\n",
       "    </tr>\n",
       "  </tbody>\n",
       "</table>\n",
       "</div>"
      ],
      "text/plain": [
       "                                            txn_hash  \\\n",
       "0  bd36f2ca16e2a2c73c807b7d1569657b30de8453450cd2...   \n",
       "1  8c852e187a0541cd8ea8c93a6c728843b5f8b9c579b6fc...   \n",
       "2  8c852e187a0541cd8ea8c93a6c728843b5f8b9c579b6fc...   \n",
       "3  8c852e187a0541cd8ea8c93a6c728843b5f8b9c579b6fc...   \n",
       "4  8c852e187a0541cd8ea8c93a6c728843b5f8b9c579b6fc...   \n",
       "\n",
       "                        input_address                      output_address  \\\n",
       "0  13Uf71d8y94xEk2LX7GCtaBJmPiahhA7TR  16FPyvvz5Ug3cx97qH67KfgC6PY1S9fskQ   \n",
       "1  166zajP74bcRVo7BmdeDME3mRX3Mi9e3xn  1ASaHGPN8qRuqZkpnR7d2tcndU9uHL6aGj   \n",
       "2  1LU3DtRE3XK32WxFqrnaT9k99nRgwHtLHd  1ASaHGPN8qRuqZkpnR7d2tcndU9uHL6aGj   \n",
       "3  1HVQNFf7vDpJVZk7tEzbFxnmALSezA2qPD  1ASaHGPN8qRuqZkpnR7d2tcndU9uHL6aGj   \n",
       "4  1LU3DtRE3XK32WxFqrnaT9k99nRgwHtLHd  1ASaHGPN8qRuqZkpnR7d2tcndU9uHL6aGj   \n",
       "\n",
       "        ammount           fees  block_index           block_time  input_flag  \\\n",
       "0  2.420000e+07  320000.000000       453318  2017-02-16 12:05:04           0   \n",
       "1  2.503648e+03       3.314845       453318  2017-02-16 12:05:04           0   \n",
       "2  6.359402e+05     841.988605       453318  2017-02-16 12:05:04           0   \n",
       "3  5.902369e+05     781.477250       453318  2017-02-16 12:05:04           0   \n",
       "4  1.013032e+05     134.126076       453318  2017-02-16 12:05:04           0   \n",
       "\n",
       "   output_flag  \n",
       "0            1  \n",
       "1            1  \n",
       "2            1  \n",
       "3            1  \n",
       "4            1  "
      ]
     },
     "execution_count": 2,
     "metadata": {},
     "output_type": "execute_result"
    }
   ],
   "source": [
    "# Load DataFrame (self-loops removed)\n",
    "trans_3w = pd.read_csv(r'C:\\Users\\sarah\\Documents\\UNI\\Masters\\Study\\Term_3\\Master Project\\trans_3w_cl.csv')\n",
    "trans_3w.head()"
   ]
  },
  {
   "cell_type": "markdown",
   "id": "06248b6e",
   "metadata": {},
   "source": [
    "Slef-loops, i.e. rows where the input and output addresses are the same, are excluded because these reflect the remaining balance in an address's crypto walet or the transfer of change. If the transfer of change goes to the same account this is taken as an indication that a user has nothing to hide, but if a user transfers any change received from a transaction to another address this is considered as being an attempt to disperse funds (reduce transparency)."
   ]
  },
  {
   "cell_type": "markdown",
   "id": "feb234be",
   "metadata": {},
   "source": [
    "Keeping self-loops also has implications for sampling methods. In the case of node sampling methods, self-loops can result in a sample meeting the edge condition (seen in samplers below) whilst still having several isolated nodes. In the case of random walks, self-loops can cause the walk to circle back and avoid nodes that would otherwise be sampled."
   ]
  },
  {
   "cell_type": "code",
   "execution_count": 3,
   "id": "f5bdaa16",
   "metadata": {
    "ExecuteTime": {
     "end_time": "2022-05-31T22:16:00.597610Z",
     "start_time": "2022-05-31T22:08:58.194725Z"
    }
   },
   "outputs": [
    {
     "data": {
      "text/plain": [
       "True"
      ]
     },
     "execution_count": 3,
     "metadata": {},
     "output_type": "execute_result"
    }
   ],
   "source": [
    "# Obtain full network NetworkX Graph\n",
    "G_full = nx.from_pandas_edgelist(trans_3w, 'input_address', 'output_address', edge_attr=['txn_hash', 'ammount', 'fees', \n",
    "                                'block_index', 'block_time'], create_using=nx.DiGraph())\n",
    "\n",
    "# Confirm that Graph is Directed\n",
    "nx.is_directed(G_full)"
   ]
  },
  {
   "cell_type": "code",
   "execution_count": 4,
   "id": "3b28afd0",
   "metadata": {
    "ExecuteTime": {
     "end_time": "2022-05-31T23:40:31.430197Z",
     "start_time": "2022-05-31T22:16:00.607649Z"
    }
   },
   "outputs": [
    {
     "name": "stdout",
     "output_type": "stream",
     "text": [
      "DiGraph with 3852506 nodes and 9804954 edges\n"
     ]
    }
   ],
   "source": [
    "# Generator for giant component\n",
    "giant = max(nx.connected_components(G_full.to_undirected()))\n",
    "\n",
    "# Get sub-graph of Giant Component\n",
    "G_giant = G_full.subgraph(giant)\n",
    "G_giant = G_giant.to_directed()\n",
    "\n",
    "print(nx.info(G_giant))"
   ]
  },
  {
   "cell_type": "code",
   "execution_count": 5,
   "id": "3554b41f",
   "metadata": {
    "ExecuteTime": {
     "end_time": "2022-05-31T23:48:37.708403Z",
     "start_time": "2022-05-31T23:40:31.491422Z"
    }
   },
   "outputs": [],
   "source": [
    "# Remove unnecessary objects for memory consideration\n",
    "del trans_3w\n",
    "del G_full"
   ]
  },
  {
   "cell_type": "markdown",
   "id": "6bd80b77",
   "metadata": {},
   "source": [
    "## Random Node Sampling"
   ]
  },
  {
   "cell_type": "markdown",
   "id": "796b30d8",
   "metadata": {},
   "source": [
    "When running the RandomNodeSampler it was noted that the method to an extremely long time to find a representative sample due to 2 limitations: \n",
    "1. a large sample, and \n",
    "2. a weakly connected component that makes it difficult to satify the edge condition. Hence, the sample of nodes is adjusted to exclude nodes that would slow down this process. "
   ]
  },
  {
   "cell_type": "markdown",
   "id": "270b9ebb",
   "metadata": {},
   "source": [
    "This sub-sampling is aimed at ensuring that all fraudulent/high-risk nodes are included, and that low centrality nodes are excluded such that they don't slow down the process. "
   ]
  },
  {
   "cell_type": "markdown",
   "id": "8a925701",
   "metadata": {},
   "source": [
    "### Random Node Sampler"
   ]
  },
  {
   "cell_type": "code",
   "execution_count": 6,
   "id": "433bc82d",
   "metadata": {
    "ExecuteTime": {
     "end_time": "2022-05-31T23:48:37.822272Z",
     "start_time": "2022-05-31T23:48:37.753456Z"
    }
   },
   "outputs": [],
   "source": [
    "# List all nodes in giant component\n",
    "n_giant = G_giant.nodes"
   ]
  },
  {
   "cell_type": "code",
   "execution_count": 7,
   "id": "f1bc0c2e",
   "metadata": {
    "ExecuteTime": {
     "end_time": "2022-05-31T23:48:53.545245Z",
     "start_time": "2022-05-31T23:48:37.844853Z"
    }
   },
   "outputs": [
    {
     "data": {
      "text/html": [
       "<div>\n",
       "<style scoped>\n",
       "    .dataframe tbody tr th:only-of-type {\n",
       "        vertical-align: middle;\n",
       "    }\n",
       "\n",
       "    .dataframe tbody tr th {\n",
       "        vertical-align: top;\n",
       "    }\n",
       "\n",
       "    .dataframe thead th {\n",
       "        text-align: right;\n",
       "    }\n",
       "</style>\n",
       "<table border=\"1\" class=\"dataframe\">\n",
       "  <thead>\n",
       "    <tr style=\"text-align: right;\">\n",
       "      <th></th>\n",
       "      <th>degree</th>\n",
       "      <th>in_degree</th>\n",
       "      <th>out_degree</th>\n",
       "      <th>eigen_centrality</th>\n",
       "    </tr>\n",
       "  </thead>\n",
       "  <tbody>\n",
       "    <tr>\n",
       "      <th>count</th>\n",
       "      <td>4.666873e+06</td>\n",
       "      <td>4.666873e+06</td>\n",
       "      <td>4.666873e+06</td>\n",
       "      <td>4.666873e+06</td>\n",
       "    </tr>\n",
       "    <tr>\n",
       "      <th>mean</th>\n",
       "      <td>4.494298e+00</td>\n",
       "      <td>2.247149e+00</td>\n",
       "      <td>2.247149e+00</td>\n",
       "      <td>3.970074e-05</td>\n",
       "    </tr>\n",
       "    <tr>\n",
       "      <th>std</th>\n",
       "      <td>3.935922e+01</td>\n",
       "      <td>1.998412e+01</td>\n",
       "      <td>2.868249e+01</td>\n",
       "      <td>4.611943e-04</td>\n",
       "    </tr>\n",
       "    <tr>\n",
       "      <th>min</th>\n",
       "      <td>1.000000e+00</td>\n",
       "      <td>0.000000e+00</td>\n",
       "      <td>0.000000e+00</td>\n",
       "      <td>1.193322e-21</td>\n",
       "    </tr>\n",
       "    <tr>\n",
       "      <th>25%</th>\n",
       "      <td>1.000000e+00</td>\n",
       "      <td>0.000000e+00</td>\n",
       "      <td>0.000000e+00</td>\n",
       "      <td>1.193322e-21</td>\n",
       "    </tr>\n",
       "    <tr>\n",
       "      <th>50%</th>\n",
       "      <td>2.000000e+00</td>\n",
       "      <td>1.000000e+00</td>\n",
       "      <td>1.000000e+00</td>\n",
       "      <td>4.892620e-20</td>\n",
       "    </tr>\n",
       "    <tr>\n",
       "      <th>75%</th>\n",
       "      <td>3.000000e+00</td>\n",
       "      <td>1.000000e+00</td>\n",
       "      <td>2.000000e+00</td>\n",
       "      <td>1.517475e-14</td>\n",
       "    </tr>\n",
       "    <tr>\n",
       "      <th>max</th>\n",
       "      <td>2.791700e+04</td>\n",
       "      <td>1.211600e+04</td>\n",
       "      <td>2.533500e+04</td>\n",
       "      <td>1.642653e-01</td>\n",
       "    </tr>\n",
       "  </tbody>\n",
       "</table>\n",
       "</div>"
      ],
      "text/plain": [
       "             degree     in_degree    out_degree  eigen_centrality\n",
       "count  4.666873e+06  4.666873e+06  4.666873e+06      4.666873e+06\n",
       "mean   4.494298e+00  2.247149e+00  2.247149e+00      3.970074e-05\n",
       "std    3.935922e+01  1.998412e+01  2.868249e+01      4.611943e-04\n",
       "min    1.000000e+00  0.000000e+00  0.000000e+00      1.193322e-21\n",
       "25%    1.000000e+00  0.000000e+00  0.000000e+00      1.193322e-21\n",
       "50%    2.000000e+00  1.000000e+00  1.000000e+00      4.892620e-20\n",
       "75%    3.000000e+00  1.000000e+00  2.000000e+00      1.517475e-14\n",
       "max    2.791700e+04  1.211600e+04  2.533500e+04      1.642653e-01"
      ]
     },
     "execution_count": 7,
     "metadata": {},
     "output_type": "execute_result"
    }
   ],
   "source": [
    "# Get node properties from data exploration exercise\n",
    "node_properties = pd.read_csv(r'C:\\Users\\sarah\\Documents\\UNI\\Masters\\Study\\Term_3\\Master Project\\node_properties_cl.csv')\n",
    "node_properties[['degree', 'in_degree', 'out_degree', 'eigen_centrality']].describe()"
   ]
  },
  {
   "cell_type": "code",
   "execution_count": 13,
   "id": "b385d341",
   "metadata": {
    "ExecuteTime": {
     "end_time": "2022-05-31T23:51:20.675738Z",
     "start_time": "2022-05-31T23:51:13.300490Z"
    }
   },
   "outputs": [],
   "source": [
    "# Subset by fraudulent/high-risk nodes\n",
    "\n",
    "node_prop = node_properties[node_properties['address'].isin(n_giant)]\n",
    "fr_nodes = node_prop[node_prop['fraud_flag'] == 1]\n",
    "fr_nodes = fr_nodes['address'].tolist()"
   ]
  },
  {
   "cell_type": "code",
   "execution_count": 14,
   "id": "1acc7878",
   "metadata": {
    "ExecuteTime": {
     "end_time": "2022-05-31T23:51:29.601967Z",
     "start_time": "2022-05-31T23:51:29.188672Z"
    }
   },
   "outputs": [
    {
     "data": {
      "text/plain": [
       "363041"
      ]
     },
     "execution_count": 14,
     "metadata": {},
     "output_type": "execute_result"
    }
   ],
   "source": [
    "# Remove nodes with low centrality\n",
    "\n",
    "licit_nodes = node_prop[node_prop['fraud_flag'] == 0] # sample from low-risk nodes\n",
    "licit_nodes = licit_nodes[licit_nodes['eigen_centrality'] > 1.818528e-6] # remove nodes in bottom 84% of centrality\n",
    "licit_nodes = licit_nodes['address'].tolist()\n",
    "len(licit_nodes)"
   ]
  },
  {
   "cell_type": "markdown",
   "id": "76dd6db8",
   "metadata": {},
   "source": [
    "*Adjusted methods to account for pre-randomisation sub-sampling approach*"
   ]
  },
  {
   "cell_type": "code",
   "execution_count": 15,
   "id": "e1b084be",
   "metadata": {
    "ExecuteTime": {
     "end_time": "2022-05-31T23:51:33.517901Z",
     "start_time": "2022-05-31T23:51:33.471461Z"
    }
   },
   "outputs": [],
   "source": [
    "class RandomNodeSampler:\n",
    "    def __init__(self, graph, fraud_sample, licit_sample, number_of_nodes):\n",
    "        self.number_of_nodes = number_of_nodes\n",
    "        self.fraud_sample = fraud_sample\n",
    "        self.licit_sample = licit_sample \n",
    "        \n",
    "    def sampler(self, graph, fraud_sample, licit_sample, number_of_nodes):\n",
    "        s_size = self.number_of_nodes - len(fraud_sample) # Number of licit nodes to sample\n",
    "        rd_nodes = rd.sample(self.licit_sample, s_size) # Randomly select licit of nodes\n",
    "        rd_nodes = rd_nodes + self.fraud_sample  # Get full list of nodes\n",
    "        g_sampler = graph.subgraph(rd_nodes) # Obtain sub-graph from randomly selected nodes\n",
    "        return g_sampler\n",
    "        \n",
    "    def sample(self, graph, fraud_sample, licit_sample, number_of_nodes):\n",
    "        new_graph = self.sampler(graph, self.fraud_sample, self.licit_sample, self.number_of_nodes) # Get randomly sampled graph\n",
    "        # Edge condition: Number of Edges >= Number of Nodes (Ensures graph is not too sparse)\n",
    "        while new_graph.number_of_edges() < self.number_of_nodes: # If condition not met\n",
    "            new_graph = self.sampler(graph, self.fraud_sample, self.licit_sample, self.number_of_nodes) # Get new sub-graph\n",
    "            if new_graph.number_of_edges() >= self.number_of_nodes:\n",
    "                        break\n",
    "        return new_graph"
   ]
  },
  {
   "cell_type": "code",
   "execution_count": 16,
   "id": "c2cf07fa",
   "metadata": {
    "ExecuteTime": {
     "end_time": "2022-05-31T23:52:08.480331Z",
     "start_time": "2022-05-31T23:51:38.141396Z"
    }
   },
   "outputs": [
    {
     "data": {
      "text/plain": [
       "True"
      ]
     },
     "execution_count": 16,
     "metadata": {},
     "output_type": "execute_result"
    }
   ],
   "source": [
    "# Instantiate Sampler\n",
    "rns_generator = RandomNodeSampler(G_giant, fr_nodes, licit_nodes, 50000)\n",
    "\n",
    "# Obtain sub-sample\n",
    "G_rns = rns_generator.sample(G_giant, fr_nodes, licit_nodes, 50000)\n",
    "\n",
    "# Check if directed structure is maintained\n",
    "nx.is_directed(G_rns)"
   ]
  },
  {
   "cell_type": "code",
   "execution_count": 17,
   "id": "6ae07fb9",
   "metadata": {
    "ExecuteTime": {
     "end_time": "2022-05-31T23:52:10.804035Z",
     "start_time": "2022-05-31T23:52:08.485273Z"
    }
   },
   "outputs": [
    {
     "name": "stdout",
     "output_type": "stream",
     "text": [
      "DiGraph with 50000 nodes and 54227 edges\n"
     ]
    }
   ],
   "source": [
    "print(nx.info(G_rns))"
   ]
  },
  {
   "cell_type": "markdown",
   "id": "fa1f9b5c",
   "metadata": {
    "ExecuteTime": {
     "end_time": "2022-05-22T21:59:16.824383Z",
     "start_time": "2022-05-22T21:59:16.813669Z"
    }
   },
   "source": [
    "##### Check Properties of Random Sample"
   ]
  },
  {
   "cell_type": "markdown",
   "id": "1a26c267",
   "metadata": {},
   "source": [
    "*DataFrame*"
   ]
  },
  {
   "cell_type": "code",
   "execution_count": 18,
   "id": "a98f8fed",
   "metadata": {
    "ExecuteTime": {
     "end_time": "2022-05-31T23:52:37.763281Z",
     "start_time": "2022-05-31T23:52:10.808040Z"
    }
   },
   "outputs": [
    {
     "data": {
      "text/html": [
       "<div>\n",
       "<style scoped>\n",
       "    .dataframe tbody tr th:only-of-type {\n",
       "        vertical-align: middle;\n",
       "    }\n",
       "\n",
       "    .dataframe tbody tr th {\n",
       "        vertical-align: top;\n",
       "    }\n",
       "\n",
       "    .dataframe thead th {\n",
       "        text-align: right;\n",
       "    }\n",
       "</style>\n",
       "<table border=\"1\" class=\"dataframe\">\n",
       "  <thead>\n",
       "    <tr style=\"text-align: right;\">\n",
       "      <th></th>\n",
       "      <th>source</th>\n",
       "      <th>target</th>\n",
       "      <th>fees</th>\n",
       "      <th>ammount</th>\n",
       "      <th>block_time</th>\n",
       "      <th>txn_hash</th>\n",
       "      <th>block_index</th>\n",
       "    </tr>\n",
       "  </thead>\n",
       "  <tbody>\n",
       "    <tr>\n",
       "      <th>0</th>\n",
       "      <td>1FtZSDBLEoV3qZPJDdw61sA7vhU11Mr8DP</td>\n",
       "      <td>1JWroayLMZoCVTi4goz79DDqztXjHwremJ</td>\n",
       "      <td>18795.184401</td>\n",
       "      <td>5.195384e+07</td>\n",
       "      <td>2017-02-25 07:08:47</td>\n",
       "      <td>6071fb7e80a607e5fb9b97b8695ed38ca32c6d8600f842...</td>\n",
       "      <td>454607</td>\n",
       "    </tr>\n",
       "    <tr>\n",
       "      <th>1</th>\n",
       "      <td>1JCewT1SCWhvco1AYnFfFQkJmprVdaXgiy</td>\n",
       "      <td>1TipsnxGEhPwNxhAwKouhHgTUnmmuYg9P</td>\n",
       "      <td>6.844207</td>\n",
       "      <td>2.000000e+04</td>\n",
       "      <td>2017-02-27 04:06:19</td>\n",
       "      <td>42edcf3b0bfca8899742cf4e1a6d8260505c268cda2aca...</td>\n",
       "      <td>454925</td>\n",
       "    </tr>\n",
       "    <tr>\n",
       "      <th>2</th>\n",
       "      <td>1JCewT1SCWhvco1AYnFfFQkJmprVdaXgiy</td>\n",
       "      <td>19ugaktHY7asfYUBWSefqY6D1JZrnvDbiS</td>\n",
       "      <td>27097.155793</td>\n",
       "      <td>7.918275e+07</td>\n",
       "      <td>2017-02-27 04:06:19</td>\n",
       "      <td>42edcf3b0bfca8899742cf4e1a6d8260505c268cda2aca...</td>\n",
       "      <td>454925</td>\n",
       "    </tr>\n",
       "    <tr>\n",
       "      <th>3</th>\n",
       "      <td>32A7xwi6FUXBQJTM8aqDa6x4MsbS7c1XQg</td>\n",
       "      <td>1JDwWa9SYpGw4bubxtmhK8iD53q6m2NpYb</td>\n",
       "      <td>0.645779</td>\n",
       "      <td>6.392221e+02</td>\n",
       "      <td>2017-02-17 02:32:32</td>\n",
       "      <td>bd813a403a5223fcf530f9c6ee04c5a6e557d0169686fe...</td>\n",
       "      <td>453398</td>\n",
       "    </tr>\n",
       "    <tr>\n",
       "      <th>4</th>\n",
       "      <td>32A7xwi6FUXBQJTM8aqDa6x4MsbS7c1XQg</td>\n",
       "      <td>1H6XgajaCidytjBYbMsmEZVM8d7R48TREQ</td>\n",
       "      <td>4.137533</td>\n",
       "      <td>4.095524e+03</td>\n",
       "      <td>2017-02-17 02:32:32</td>\n",
       "      <td>bd813a403a5223fcf530f9c6ee04c5a6e557d0169686fe...</td>\n",
       "      <td>453398</td>\n",
       "    </tr>\n",
       "  </tbody>\n",
       "</table>\n",
       "</div>"
      ],
      "text/plain": [
       "                               source                              target  \\\n",
       "0  1FtZSDBLEoV3qZPJDdw61sA7vhU11Mr8DP  1JWroayLMZoCVTi4goz79DDqztXjHwremJ   \n",
       "1  1JCewT1SCWhvco1AYnFfFQkJmprVdaXgiy   1TipsnxGEhPwNxhAwKouhHgTUnmmuYg9P   \n",
       "2  1JCewT1SCWhvco1AYnFfFQkJmprVdaXgiy  19ugaktHY7asfYUBWSefqY6D1JZrnvDbiS   \n",
       "3  32A7xwi6FUXBQJTM8aqDa6x4MsbS7c1XQg  1JDwWa9SYpGw4bubxtmhK8iD53q6m2NpYb   \n",
       "4  32A7xwi6FUXBQJTM8aqDa6x4MsbS7c1XQg  1H6XgajaCidytjBYbMsmEZVM8d7R48TREQ   \n",
       "\n",
       "           fees       ammount           block_time  \\\n",
       "0  18795.184401  5.195384e+07  2017-02-25 07:08:47   \n",
       "1      6.844207  2.000000e+04  2017-02-27 04:06:19   \n",
       "2  27097.155793  7.918275e+07  2017-02-27 04:06:19   \n",
       "3      0.645779  6.392221e+02  2017-02-17 02:32:32   \n",
       "4      4.137533  4.095524e+03  2017-02-17 02:32:32   \n",
       "\n",
       "                                            txn_hash  block_index  \n",
       "0  6071fb7e80a607e5fb9b97b8695ed38ca32c6d8600f842...       454607  \n",
       "1  42edcf3b0bfca8899742cf4e1a6d8260505c268cda2aca...       454925  \n",
       "2  42edcf3b0bfca8899742cf4e1a6d8260505c268cda2aca...       454925  \n",
       "3  bd813a403a5223fcf530f9c6ee04c5a6e557d0169686fe...       453398  \n",
       "4  bd813a403a5223fcf530f9c6ee04c5a6e557d0169686fe...       453398  "
      ]
     },
     "execution_count": 18,
     "metadata": {},
     "output_type": "execute_result"
    }
   ],
   "source": [
    "# To DataFrame\n",
    "rns_df = nx.to_pandas_edgelist(G_rns)\n",
    "\n",
    "# Save sample as .csv and .gml\n",
    "rns_df.to_csv(\"G_rns_df.csv\", index = False)\n",
    "nx.write_gml(G_rns, \"G_rns.gml\")\n",
    "\n",
    "rns_df.head()"
   ]
  },
  {
   "cell_type": "code",
   "execution_count": 19,
   "id": "e41e7e8c",
   "metadata": {
    "ExecuteTime": {
     "end_time": "2022-05-31T23:52:38.053668Z",
     "start_time": "2022-05-31T23:52:37.799426Z"
    }
   },
   "outputs": [
    {
     "data": {
      "text/plain": [
       "25695"
      ]
     },
     "execution_count": 19,
     "metadata": {},
     "output_type": "execute_result"
    }
   ],
   "source": [
    "# Number of unique transactions\n",
    "rns_df['txn_hash'].nunique()"
   ]
  },
  {
   "cell_type": "code",
   "execution_count": 20,
   "id": "6546d9db",
   "metadata": {
    "ExecuteTime": {
     "end_time": "2022-05-31T23:52:38.110417Z",
     "start_time": "2022-05-31T23:52:38.060691Z"
    }
   },
   "outputs": [
    {
     "data": {
      "text/plain": [
       "9914"
      ]
     },
     "execution_count": 20,
     "metadata": {},
     "output_type": "execute_result"
    }
   ],
   "source": [
    "# Number of unique input addresses\n",
    "rns_df['source'].nunique()"
   ]
  },
  {
   "cell_type": "code",
   "execution_count": 21,
   "id": "ba479477",
   "metadata": {
    "ExecuteTime": {
     "end_time": "2022-05-31T23:52:38.186628Z",
     "start_time": "2022-05-31T23:52:38.111658Z"
    }
   },
   "outputs": [
    {
     "data": {
      "text/plain": [
       "25500"
      ]
     },
     "execution_count": 21,
     "metadata": {},
     "output_type": "execute_result"
    }
   ],
   "source": [
    "# Number of unique output addresses\n",
    "rns_df['target'].nunique()"
   ]
  },
  {
   "cell_type": "markdown",
   "id": "6229a336",
   "metadata": {},
   "source": [
    "There is an adequate variety in the number of transactions and addresses. Unlike the full sample the number of input and output addresses are not approximately balanced."
   ]
  },
  {
   "cell_type": "code",
   "execution_count": 22,
   "id": "b4926aa6",
   "metadata": {
    "ExecuteTime": {
     "end_time": "2022-05-31T23:52:38.325777Z",
     "start_time": "2022-05-31T23:52:38.203808Z"
    }
   },
   "outputs": [
    {
     "data": {
      "text/html": [
       "<div>\n",
       "<style scoped>\n",
       "    .dataframe tbody tr th:only-of-type {\n",
       "        vertical-align: middle;\n",
       "    }\n",
       "\n",
       "    .dataframe tbody tr th {\n",
       "        vertical-align: top;\n",
       "    }\n",
       "\n",
       "    .dataframe thead th {\n",
       "        text-align: right;\n",
       "    }\n",
       "</style>\n",
       "<table border=\"1\" class=\"dataframe\">\n",
       "  <thead>\n",
       "    <tr style=\"text-align: right;\">\n",
       "      <th></th>\n",
       "      <th>fees</th>\n",
       "      <th>ammount</th>\n",
       "      <th>block_index</th>\n",
       "    </tr>\n",
       "  </thead>\n",
       "  <tbody>\n",
       "    <tr>\n",
       "      <th>count</th>\n",
       "      <td>5.422700e+04</td>\n",
       "      <td>5.422700e+04</td>\n",
       "      <td>54227.000000</td>\n",
       "    </tr>\n",
       "    <tr>\n",
       "      <th>mean</th>\n",
       "      <td>6.161057e+03</td>\n",
       "      <td>9.025750e+06</td>\n",
       "      <td>454433.135375</td>\n",
       "    </tr>\n",
       "    <tr>\n",
       "      <th>std</th>\n",
       "      <td>3.400071e+04</td>\n",
       "      <td>1.421474e+08</td>\n",
       "      <td>950.640021</td>\n",
       "    </tr>\n",
       "    <tr>\n",
       "      <th>min</th>\n",
       "      <td>0.000000e+00</td>\n",
       "      <td>-2.442296e+09</td>\n",
       "      <td>453318.000000</td>\n",
       "    </tr>\n",
       "    <tr>\n",
       "      <th>25%</th>\n",
       "      <td>2.091602e+01</td>\n",
       "      <td>5.430000e+03</td>\n",
       "      <td>453520.000000</td>\n",
       "    </tr>\n",
       "    <tr>\n",
       "      <th>50%</th>\n",
       "      <td>1.993147e+02</td>\n",
       "      <td>8.294700e+04</td>\n",
       "      <td>454287.000000</td>\n",
       "    </tr>\n",
       "    <tr>\n",
       "      <th>75%</th>\n",
       "      <td>2.476953e+03</td>\n",
       "      <td>9.805353e+05</td>\n",
       "      <td>455195.000000</td>\n",
       "    </tr>\n",
       "    <tr>\n",
       "      <th>max</th>\n",
       "      <td>4.080994e+06</td>\n",
       "      <td>2.742516e+10</td>\n",
       "      <td>456437.000000</td>\n",
       "    </tr>\n",
       "  </tbody>\n",
       "</table>\n",
       "</div>"
      ],
      "text/plain": [
       "               fees       ammount    block_index\n",
       "count  5.422700e+04  5.422700e+04   54227.000000\n",
       "mean   6.161057e+03  9.025750e+06  454433.135375\n",
       "std    3.400071e+04  1.421474e+08     950.640021\n",
       "min    0.000000e+00 -2.442296e+09  453318.000000\n",
       "25%    2.091602e+01  5.430000e+03  453520.000000\n",
       "50%    1.993147e+02  8.294700e+04  454287.000000\n",
       "75%    2.476953e+03  9.805353e+05  455195.000000\n",
       "max    4.080994e+06  2.742516e+10  456437.000000"
      ]
     },
     "execution_count": 22,
     "metadata": {},
     "output_type": "execute_result"
    }
   ],
   "source": [
    "# View transaction properties\n",
    "rns_df.describe()"
   ]
  },
  {
   "cell_type": "markdown",
   "id": "95f40403",
   "metadata": {},
   "source": [
    "A distribution skewed towards large amounts is maintained. We also note that the presence of negative values is also kept."
   ]
  },
  {
   "cell_type": "code",
   "execution_count": 23,
   "id": "279c0de9",
   "metadata": {
    "ExecuteTime": {
     "end_time": "2022-05-31T23:52:38.546454Z",
     "start_time": "2022-05-31T23:52:38.346518Z"
    }
   },
   "outputs": [
    {
     "data": {
      "text/plain": [
       "1491"
      ]
     },
     "execution_count": 23,
     "metadata": {},
     "output_type": "execute_result"
    }
   ],
   "source": [
    "# Number of unique timestamps\n",
    "rns_df['block_time'].nunique() # Near all timestamps are represented"
   ]
  },
  {
   "cell_type": "markdown",
   "id": "7adf2d8a",
   "metadata": {},
   "source": [
    "*Nodes*"
   ]
  },
  {
   "cell_type": "code",
   "execution_count": 24,
   "id": "97083a4d",
   "metadata": {
    "ExecuteTime": {
     "end_time": "2022-05-31T23:52:54.647353Z",
     "start_time": "2022-05-31T23:52:38.548709Z"
    }
   },
   "outputs": [],
   "source": [
    "# Get Properties\n",
    "\n",
    "address = [node for (node, val) in G_rns.degree()]\n",
    "degree = [val for (node, val) in G_rns.degree()]\n",
    "in_degree = [val for (node, val) in G_rns.in_degree()]\n",
    "out_degree = [val for (node, val) in G_rns.out_degree()]\n",
    "eigen_centrality = nx.eigenvector_centrality(G_rns)\n",
    "eigen_centrality = [eigen_centrality[node] for node in eigen_centrality]"
   ]
  },
  {
   "cell_type": "code",
   "execution_count": 25,
   "id": "f7035690",
   "metadata": {
    "ExecuteTime": {
     "end_time": "2022-05-31T23:52:54.793926Z",
     "start_time": "2022-05-31T23:52:54.652860Z"
    }
   },
   "outputs": [],
   "source": [
    "# Add Properties to DataFrame\n",
    "\n",
    "nodes = pd.DataFrame()\n",
    "nodes['address'] = address\n",
    "nodes['degree'] = degree\n",
    "nodes['in_degree'] = in_degree\n",
    "nodes['out_degree'] = out_degree\n",
    "nodes['eigen_centrality'] = eigen_centrality"
   ]
  },
  {
   "cell_type": "code",
   "execution_count": 26,
   "id": "bc628cdc",
   "metadata": {
    "ExecuteTime": {
     "end_time": "2022-05-31T23:53:47.062493Z",
     "start_time": "2022-05-31T23:52:54.796698Z"
    }
   },
   "outputs": [
    {
     "data": {
      "text/html": [
       "<div>\n",
       "<style scoped>\n",
       "    .dataframe tbody tr th:only-of-type {\n",
       "        vertical-align: middle;\n",
       "    }\n",
       "\n",
       "    .dataframe tbody tr th {\n",
       "        vertical-align: top;\n",
       "    }\n",
       "\n",
       "    .dataframe thead th {\n",
       "        text-align: right;\n",
       "    }\n",
       "</style>\n",
       "<table border=\"1\" class=\"dataframe\">\n",
       "  <thead>\n",
       "    <tr style=\"text-align: right;\">\n",
       "      <th></th>\n",
       "      <th>address</th>\n",
       "      <th>degree</th>\n",
       "      <th>in_degree</th>\n",
       "      <th>out_degree</th>\n",
       "      <th>eigen_centrality</th>\n",
       "      <th>fraud_flag</th>\n",
       "    </tr>\n",
       "  </thead>\n",
       "  <tbody>\n",
       "    <tr>\n",
       "      <th>0</th>\n",
       "      <td>1BKSQsREyrcCop6iuCQdFC67iHKQMM7wo6</td>\n",
       "      <td>0</td>\n",
       "      <td>0</td>\n",
       "      <td>0</td>\n",
       "      <td>2.157823e-29</td>\n",
       "      <td>0</td>\n",
       "    </tr>\n",
       "    <tr>\n",
       "      <th>1</th>\n",
       "      <td>3QxFFTEjLiHuMQWqRJijvmiqRKNkGJf1Fx</td>\n",
       "      <td>1</td>\n",
       "      <td>1</td>\n",
       "      <td>0</td>\n",
       "      <td>4.315646e-28</td>\n",
       "      <td>0</td>\n",
       "    </tr>\n",
       "    <tr>\n",
       "      <th>2</th>\n",
       "      <td>15MEbvHRr81dBYueyw8pLyoHVFDjZUQ3qx</td>\n",
       "      <td>0</td>\n",
       "      <td>0</td>\n",
       "      <td>0</td>\n",
       "      <td>2.157823e-29</td>\n",
       "      <td>0</td>\n",
       "    </tr>\n",
       "    <tr>\n",
       "      <th>3</th>\n",
       "      <td>34dwbuLrRSFKv92wd77z9NxMwZWEW4LEX3</td>\n",
       "      <td>0</td>\n",
       "      <td>0</td>\n",
       "      <td>0</td>\n",
       "      <td>2.157823e-29</td>\n",
       "      <td>1</td>\n",
       "    </tr>\n",
       "    <tr>\n",
       "      <th>4</th>\n",
       "      <td>1FtZSDBLEoV3qZPJDdw61sA7vhU11Mr8DP</td>\n",
       "      <td>4</td>\n",
       "      <td>3</td>\n",
       "      <td>1</td>\n",
       "      <td>1.605794e-02</td>\n",
       "      <td>0</td>\n",
       "    </tr>\n",
       "  </tbody>\n",
       "</table>\n",
       "</div>"
      ],
      "text/plain": [
       "                              address  degree  in_degree  out_degree  \\\n",
       "0  1BKSQsREyrcCop6iuCQdFC67iHKQMM7wo6       0          0           0   \n",
       "1  3QxFFTEjLiHuMQWqRJijvmiqRKNkGJf1Fx       1          1           0   \n",
       "2  15MEbvHRr81dBYueyw8pLyoHVFDjZUQ3qx       0          0           0   \n",
       "3  34dwbuLrRSFKv92wd77z9NxMwZWEW4LEX3       0          0           0   \n",
       "4  1FtZSDBLEoV3qZPJDdw61sA7vhU11Mr8DP       4          3           1   \n",
       "\n",
       "   eigen_centrality  fraud_flag  \n",
       "0      2.157823e-29           0  \n",
       "1      4.315646e-28           0  \n",
       "2      2.157823e-29           0  \n",
       "3      2.157823e-29           1  \n",
       "4      1.605794e-02           0  "
      ]
     },
     "execution_count": 26,
     "metadata": {},
     "output_type": "execute_result"
    }
   ],
   "source": [
    "# Add fraud flag\n",
    "\n",
    "nodes = nodes.assign(**dict.fromkeys(['fraud_flag'], 0))\n",
    "\n",
    "for i in fr_nodes:\n",
    "    nodes.loc[nodes.address == i, 'fraud_flag'] = 1\n",
    "    \n",
    "nodes.head()"
   ]
  },
  {
   "cell_type": "code",
   "execution_count": 27,
   "id": "24dbe7b4",
   "metadata": {
    "ExecuteTime": {
     "end_time": "2022-05-31T23:53:47.123999Z",
     "start_time": "2022-05-31T23:53:47.066480Z"
    }
   },
   "outputs": [
    {
     "data": {
      "text/html": [
       "<div>\n",
       "<style scoped>\n",
       "    .dataframe tbody tr th:only-of-type {\n",
       "        vertical-align: middle;\n",
       "    }\n",
       "\n",
       "    .dataframe tbody tr th {\n",
       "        vertical-align: top;\n",
       "    }\n",
       "\n",
       "    .dataframe thead th {\n",
       "        text-align: right;\n",
       "    }\n",
       "</style>\n",
       "<table border=\"1\" class=\"dataframe\">\n",
       "  <thead>\n",
       "    <tr style=\"text-align: right;\">\n",
       "      <th></th>\n",
       "      <th>degree</th>\n",
       "      <th>in_degree</th>\n",
       "      <th>out_degree</th>\n",
       "      <th>eigen_centrality</th>\n",
       "    </tr>\n",
       "  </thead>\n",
       "  <tbody>\n",
       "    <tr>\n",
       "      <th>count</th>\n",
       "      <td>50000.000000</td>\n",
       "      <td>50000.000000</td>\n",
       "      <td>50000.000000</td>\n",
       "      <td>5.000000e+04</td>\n",
       "    </tr>\n",
       "    <tr>\n",
       "      <th>mean</th>\n",
       "      <td>2.169080</td>\n",
       "      <td>1.084540</td>\n",
       "      <td>1.084540</td>\n",
       "      <td>1.234437e-03</td>\n",
       "    </tr>\n",
       "    <tr>\n",
       "      <th>std</th>\n",
       "      <td>28.483303</td>\n",
       "      <td>6.594357</td>\n",
       "      <td>23.070714</td>\n",
       "      <td>4.298434e-03</td>\n",
       "    </tr>\n",
       "    <tr>\n",
       "      <th>min</th>\n",
       "      <td>0.000000</td>\n",
       "      <td>0.000000</td>\n",
       "      <td>0.000000</td>\n",
       "      <td>2.157823e-29</td>\n",
       "    </tr>\n",
       "    <tr>\n",
       "      <th>25%</th>\n",
       "      <td>0.000000</td>\n",
       "      <td>0.000000</td>\n",
       "      <td>0.000000</td>\n",
       "      <td>2.157823e-29</td>\n",
       "    </tr>\n",
       "    <tr>\n",
       "      <th>50%</th>\n",
       "      <td>1.000000</td>\n",
       "      <td>1.000000</td>\n",
       "      <td>0.000000</td>\n",
       "      <td>4.315646e-28</td>\n",
       "    </tr>\n",
       "    <tr>\n",
       "      <th>75%</th>\n",
       "      <td>2.000000</td>\n",
       "      <td>1.000000</td>\n",
       "      <td>0.000000</td>\n",
       "      <td>3.032326e-05</td>\n",
       "    </tr>\n",
       "    <tr>\n",
       "      <th>max</th>\n",
       "      <td>3217.000000</td>\n",
       "      <td>746.000000</td>\n",
       "      <td>2484.000000</td>\n",
       "      <td>1.856914e-01</td>\n",
       "    </tr>\n",
       "  </tbody>\n",
       "</table>\n",
       "</div>"
      ],
      "text/plain": [
       "             degree     in_degree    out_degree  eigen_centrality\n",
       "count  50000.000000  50000.000000  50000.000000      5.000000e+04\n",
       "mean       2.169080      1.084540      1.084540      1.234437e-03\n",
       "std       28.483303      6.594357     23.070714      4.298434e-03\n",
       "min        0.000000      0.000000      0.000000      2.157823e-29\n",
       "25%        0.000000      0.000000      0.000000      2.157823e-29\n",
       "50%        1.000000      1.000000      0.000000      4.315646e-28\n",
       "75%        2.000000      1.000000      0.000000      3.032326e-05\n",
       "max     3217.000000    746.000000   2484.000000      1.856914e-01"
      ]
     },
     "execution_count": 27,
     "metadata": {},
     "output_type": "execute_result"
    }
   ],
   "source": [
    "# Describe sample properties overall\n",
    "nodes[['degree', 'in_degree', 'out_degree', 'eigen_centrality']].describe()"
   ]
  },
  {
   "cell_type": "code",
   "execution_count": 28,
   "id": "a0247bcc",
   "metadata": {
    "ExecuteTime": {
     "end_time": "2022-05-31T23:53:47.180159Z",
     "start_time": "2022-05-31T23:53:47.128693Z"
    }
   },
   "outputs": [
    {
     "data": {
      "text/html": [
       "<div>\n",
       "<style scoped>\n",
       "    .dataframe tbody tr th:only-of-type {\n",
       "        vertical-align: middle;\n",
       "    }\n",
       "\n",
       "    .dataframe tbody tr th {\n",
       "        vertical-align: top;\n",
       "    }\n",
       "\n",
       "    .dataframe thead th {\n",
       "        text-align: right;\n",
       "    }\n",
       "</style>\n",
       "<table border=\"1\" class=\"dataframe\">\n",
       "  <thead>\n",
       "    <tr style=\"text-align: right;\">\n",
       "      <th></th>\n",
       "      <th>degree</th>\n",
       "      <th>in_degree</th>\n",
       "      <th>out_degree</th>\n",
       "      <th>eigen_centrality</th>\n",
       "    </tr>\n",
       "  </thead>\n",
       "  <tbody>\n",
       "    <tr>\n",
       "      <th>count</th>\n",
       "      <td>4400.000000</td>\n",
       "      <td>4400.000000</td>\n",
       "      <td>4400.000000</td>\n",
       "      <td>4.400000e+03</td>\n",
       "    </tr>\n",
       "    <tr>\n",
       "      <th>mean</th>\n",
       "      <td>8.733864</td>\n",
       "      <td>2.405682</td>\n",
       "      <td>6.328182</td>\n",
       "      <td>1.387860e-03</td>\n",
       "    </tr>\n",
       "    <tr>\n",
       "      <th>std</th>\n",
       "      <td>94.830001</td>\n",
       "      <td>21.138997</td>\n",
       "      <td>76.870891</td>\n",
       "      <td>6.627883e-03</td>\n",
       "    </tr>\n",
       "    <tr>\n",
       "      <th>min</th>\n",
       "      <td>0.000000</td>\n",
       "      <td>0.000000</td>\n",
       "      <td>0.000000</td>\n",
       "      <td>2.157823e-29</td>\n",
       "    </tr>\n",
       "    <tr>\n",
       "      <th>25%</th>\n",
       "      <td>0.000000</td>\n",
       "      <td>0.000000</td>\n",
       "      <td>0.000000</td>\n",
       "      <td>2.157823e-29</td>\n",
       "    </tr>\n",
       "    <tr>\n",
       "      <th>50%</th>\n",
       "      <td>1.000000</td>\n",
       "      <td>0.000000</td>\n",
       "      <td>0.000000</td>\n",
       "      <td>2.157823e-29</td>\n",
       "    </tr>\n",
       "    <tr>\n",
       "      <th>75%</th>\n",
       "      <td>2.000000</td>\n",
       "      <td>1.000000</td>\n",
       "      <td>1.000000</td>\n",
       "      <td>2.872062e-26</td>\n",
       "    </tr>\n",
       "    <tr>\n",
       "      <th>max</th>\n",
       "      <td>3217.000000</td>\n",
       "      <td>746.000000</td>\n",
       "      <td>2484.000000</td>\n",
       "      <td>1.856914e-01</td>\n",
       "    </tr>\n",
       "  </tbody>\n",
       "</table>\n",
       "</div>"
      ],
      "text/plain": [
       "            degree    in_degree   out_degree  eigen_centrality\n",
       "count  4400.000000  4400.000000  4400.000000      4.400000e+03\n",
       "mean      8.733864     2.405682     6.328182      1.387860e-03\n",
       "std      94.830001    21.138997    76.870891      6.627883e-03\n",
       "min       0.000000     0.000000     0.000000      2.157823e-29\n",
       "25%       0.000000     0.000000     0.000000      2.157823e-29\n",
       "50%       1.000000     0.000000     0.000000      2.157823e-29\n",
       "75%       2.000000     1.000000     1.000000      2.872062e-26\n",
       "max    3217.000000   746.000000  2484.000000      1.856914e-01"
      ]
     },
     "execution_count": 28,
     "metadata": {},
     "output_type": "execute_result"
    }
   ],
   "source": [
    "# Describe Properties of Fraudulent Nodes\n",
    "\n",
    "nodes_fraud = nodes[nodes['fraud_flag'] == 1]\n",
    "nodes_fraud[['degree', 'in_degree', 'out_degree', 'eigen_centrality']].describe()"
   ]
  },
  {
   "cell_type": "code",
   "execution_count": 29,
   "id": "6e555558",
   "metadata": {
    "ExecuteTime": {
     "end_time": "2022-05-31T23:53:47.260665Z",
     "start_time": "2022-05-31T23:53:47.183171Z"
    }
   },
   "outputs": [
    {
     "data": {
      "text/html": [
       "<div>\n",
       "<style scoped>\n",
       "    .dataframe tbody tr th:only-of-type {\n",
       "        vertical-align: middle;\n",
       "    }\n",
       "\n",
       "    .dataframe tbody tr th {\n",
       "        vertical-align: top;\n",
       "    }\n",
       "\n",
       "    .dataframe thead th {\n",
       "        text-align: right;\n",
       "    }\n",
       "</style>\n",
       "<table border=\"1\" class=\"dataframe\">\n",
       "  <thead>\n",
       "    <tr style=\"text-align: right;\">\n",
       "      <th></th>\n",
       "      <th>degree</th>\n",
       "      <th>in_degree</th>\n",
       "      <th>out_degree</th>\n",
       "      <th>eigen_centrality</th>\n",
       "    </tr>\n",
       "  </thead>\n",
       "  <tbody>\n",
       "    <tr>\n",
       "      <th>count</th>\n",
       "      <td>45600.000000</td>\n",
       "      <td>45600.000000</td>\n",
       "      <td>45600.000000</td>\n",
       "      <td>4.560000e+04</td>\n",
       "    </tr>\n",
       "    <tr>\n",
       "      <th>mean</th>\n",
       "      <td>1.535636</td>\n",
       "      <td>0.957061</td>\n",
       "      <td>0.578575</td>\n",
       "      <td>1.219633e-03</td>\n",
       "    </tr>\n",
       "    <tr>\n",
       "      <th>std</th>\n",
       "      <td>4.181196</td>\n",
       "      <td>2.094753</td>\n",
       "      <td>3.262745</td>\n",
       "      <td>4.002378e-03</td>\n",
       "    </tr>\n",
       "    <tr>\n",
       "      <th>min</th>\n",
       "      <td>0.000000</td>\n",
       "      <td>0.000000</td>\n",
       "      <td>0.000000</td>\n",
       "      <td>2.157823e-29</td>\n",
       "    </tr>\n",
       "    <tr>\n",
       "      <th>25%</th>\n",
       "      <td>0.000000</td>\n",
       "      <td>0.000000</td>\n",
       "      <td>0.000000</td>\n",
       "      <td>2.157823e-29</td>\n",
       "    </tr>\n",
       "    <tr>\n",
       "      <th>50%</th>\n",
       "      <td>1.000000</td>\n",
       "      <td>1.000000</td>\n",
       "      <td>0.000000</td>\n",
       "      <td>4.315646e-28</td>\n",
       "    </tr>\n",
       "    <tr>\n",
       "      <th>75%</th>\n",
       "      <td>2.000000</td>\n",
       "      <td>1.000000</td>\n",
       "      <td>0.000000</td>\n",
       "      <td>3.715450e-05</td>\n",
       "    </tr>\n",
       "    <tr>\n",
       "      <th>max</th>\n",
       "      <td>206.000000</td>\n",
       "      <td>186.000000</td>\n",
       "      <td>189.000000</td>\n",
       "      <td>3.785327e-02</td>\n",
       "    </tr>\n",
       "  </tbody>\n",
       "</table>\n",
       "</div>"
      ],
      "text/plain": [
       "             degree     in_degree    out_degree  eigen_centrality\n",
       "count  45600.000000  45600.000000  45600.000000      4.560000e+04\n",
       "mean       1.535636      0.957061      0.578575      1.219633e-03\n",
       "std        4.181196      2.094753      3.262745      4.002378e-03\n",
       "min        0.000000      0.000000      0.000000      2.157823e-29\n",
       "25%        0.000000      0.000000      0.000000      2.157823e-29\n",
       "50%        1.000000      1.000000      0.000000      4.315646e-28\n",
       "75%        2.000000      1.000000      0.000000      3.715450e-05\n",
       "max      206.000000    186.000000    189.000000      3.785327e-02"
      ]
     },
     "execution_count": 29,
     "metadata": {},
     "output_type": "execute_result"
    }
   ],
   "source": [
    "# Describe Properties of Non-Fraudulent Nodes\n",
    "\n",
    "nodes_licit = nodes[nodes['fraud_flag'] == 0]\n",
    "nodes_licit[['degree', 'in_degree', 'out_degree', 'eigen_centrality']].describe()"
   ]
  },
  {
   "cell_type": "markdown",
   "id": "5cc6644e",
   "metadata": {},
   "source": [
    "The overall statistics indicate that the sample is not significantly representative of the full network with low degrees and a considerable number of isolated nodes."
   ]
  },
  {
   "cell_type": "markdown",
   "id": "93ba1833",
   "metadata": {},
   "source": [
    "*Graph*"
   ]
  },
  {
   "cell_type": "code",
   "execution_count": 30,
   "id": "e09a0900",
   "metadata": {
    "ExecuteTime": {
     "end_time": "2022-05-31T23:53:48.600964Z",
     "start_time": "2022-05-31T23:53:47.260665Z"
    }
   },
   "outputs": [
    {
     "data": {
      "text/plain": [
       "2.1691233824676492e-05"
      ]
     },
     "execution_count": 30,
     "metadata": {},
     "output_type": "execute_result"
    }
   ],
   "source": [
    "# Density\n",
    "nx.density(G_rns) # Connectivity remains very low"
   ]
  },
  {
   "cell_type": "code",
   "execution_count": 31,
   "id": "589b090e",
   "metadata": {
    "ExecuteTime": {
     "end_time": "2022-05-31T23:53:51.573780Z",
     "start_time": "2022-05-31T23:53:48.604000Z"
    }
   },
   "outputs": [
    {
     "name": "stdout",
     "output_type": "stream",
     "text": [
      "The number of communities in randomly sampled graph is : 14\n"
     ]
    }
   ],
   "source": [
    "# Communities - k-Cliques\n",
    "\n",
    "com_generator_rns = k_clique_communities(G_rns.to_undirected(), k=9) # Doesn't work for k>9\n",
    "com_rns = next(com_generator_rns)\n",
    "print('The number of communities in randomly sampled graph is : ' + str(len(com_rns))) "
   ]
  },
  {
   "cell_type": "markdown",
   "id": "770f4a87",
   "metadata": {},
   "source": [
    "This indicates that some variety in community structures was maintained. (Remember that the giant component had 107 k-cliques)."
   ]
  },
  {
   "cell_type": "markdown",
   "id": "6c72b031",
   "metadata": {},
   "source": [
    "### Degree Biased Random Sampler"
   ]
  },
  {
   "cell_type": "code",
   "execution_count": 32,
   "id": "cdf82d32",
   "metadata": {
    "ExecuteTime": {
     "end_time": "2022-05-31T23:53:52.206338Z",
     "start_time": "2022-05-31T23:53:51.574914Z"
    }
   },
   "outputs": [
    {
     "data": {
      "text/plain": [
       "3848106"
      ]
     },
     "execution_count": 32,
     "metadata": {},
     "output_type": "execute_result"
    }
   ],
   "source": [
    "# Get Licit nodes\n",
    "\n",
    "licit_nodes = node_prop[node_prop['fraud_flag'] == 0] # sample from low-risk nodes\n",
    "licit_nodes = licit_nodes['address'].tolist()\n",
    "len(licit_nodes)"
   ]
  },
  {
   "cell_type": "code",
   "execution_count": 33,
   "id": "3c484442",
   "metadata": {
    "ExecuteTime": {
     "end_time": "2022-05-31T23:53:54.811480Z",
     "start_time": "2022-05-31T23:53:52.214142Z"
    }
   },
   "outputs": [],
   "source": [
    "# Obtain sub-graph with short-listed nodes\n",
    "\n",
    "G_licit = G_giant.subgraph(licit_nodes)"
   ]
  },
  {
   "cell_type": "code",
   "execution_count": 34,
   "id": "489f502e",
   "metadata": {
    "ExecuteTime": {
     "end_time": "2022-05-31T23:53:59.932518Z",
     "start_time": "2022-05-31T23:53:54.811480Z"
    }
   },
   "outputs": [],
   "source": [
    "# Obtain probabilites\n",
    "\n",
    "dp = node_properties[node_properties['address'].isin(licit_nodes)]\n",
    "dp_sum = dp['degree'].sum()\n",
    "dp['p'] = dp['degree'] / dp_sum\n",
    "p_degree = dp['p'].values"
   ]
  },
  {
   "cell_type": "code",
   "execution_count": 35,
   "id": "3f451cef",
   "metadata": {
    "ExecuteTime": {
     "end_time": "2022-05-31T23:54:00.618897Z",
     "start_time": "2022-05-31T23:53:59.934648Z"
    }
   },
   "outputs": [],
   "source": [
    "class DegreeBasedSampler:\n",
    "    def __init__(self, graph, g_licit, fraud_sample, licit_sample, number_of_nodes, p_distribution):\n",
    "        self.number_of_nodes = number_of_nodes\n",
    "        self.fraud_sample = fraud_sample\n",
    "        self.licit_sample = licit_sample\n",
    "        self.p_distribution = p_distribution\n",
    "\n",
    "    def sampler(self, graph, g_licit, fraud_sample, licit_sample, number_of_nodes, p_distribution):\n",
    "        s_size = self.number_of_nodes - len(fraud_sample) # Number of licit nodes to sample\n",
    "        \n",
    "        # Sample nodes and create sub-graph\n",
    "        sampled_nodes = np.random.choice(self.licit_sample, s_size, replace=False, p=self.p_distribution)\n",
    "        sampled_nodes = list(sampled_nodes) + list(self.fraud_sample)\n",
    "        g_sampler = graph.subgraph(sampled_nodes)\n",
    "        return g_sampler\n",
    "    \n",
    "    def sample(self, graph, g_licit, fraud_sample, licit_sample, number_of_nodes, p_distribution):\n",
    "        new_graph = self.sampler(graph, g_licit, self.fraud_sample, self.licit_sample, self.number_of_nodes,\n",
    "                                 self.p_distribution) # Get randomly sampled graph\n",
    "        # Edge condition: Number of Edges >= Number of Nodes (Ensures graph is not too sparse)\n",
    "        while new_graph.number_of_edges() < self.number_of_nodes: # If condition not met\n",
    "            new_graph = self.sampler(graph, g_licit, self.fraud_sample, self.licit_sample, self.number_of_nodes, \n",
    "                                     self.p_distribution) # Get new sub-graph\n",
    "            if new_graph.number_of_edges() >= self.number_of_nodes:\n",
    "                        break\n",
    "        return new_graph"
   ]
  },
  {
   "cell_type": "code",
   "execution_count": 36,
   "id": "ce6395f1",
   "metadata": {
    "ExecuteTime": {
     "end_time": "2022-05-31T23:54:22.913130Z",
     "start_time": "2022-05-31T23:54:00.624004Z"
    }
   },
   "outputs": [
    {
     "data": {
      "text/plain": [
       "True"
      ]
     },
     "execution_count": 36,
     "metadata": {},
     "output_type": "execute_result"
    }
   ],
   "source": [
    "# Instantiate Sampler\n",
    "dbs_generator = DegreeBasedSampler(G_giant, G_licit, fr_nodes, licit_nodes, 50000, p_degree) \n",
    "\n",
    "# Obtain sub-sample\n",
    "G_dbs = dbs_generator.sample(G_giant, G_licit, fr_nodes, licit_nodes, 50000, p_degree) \n",
    "\n",
    "# Check if directed structure is maintained\n",
    "nx.is_directed(G_dbs) "
   ]
  },
  {
   "cell_type": "code",
   "execution_count": 37,
   "id": "55641e3a",
   "metadata": {
    "ExecuteTime": {
     "end_time": "2022-05-31T23:54:25.380630Z",
     "start_time": "2022-05-31T23:54:22.917074Z"
    }
   },
   "outputs": [
    {
     "name": "stdout",
     "output_type": "stream",
     "text": [
      "DiGraph with 50000 nodes and 190450 edges\n"
     ]
    }
   ],
   "source": [
    "print(nx.info(G_dbs))"
   ]
  },
  {
   "cell_type": "markdown",
   "id": "e5d650c9",
   "metadata": {},
   "source": [
    "##### Check Properties of Degree Biased Random Sample"
   ]
  },
  {
   "cell_type": "markdown",
   "id": "3a065b5d",
   "metadata": {},
   "source": [
    "*DataFrame*"
   ]
  },
  {
   "cell_type": "code",
   "execution_count": 38,
   "id": "c4715678",
   "metadata": {
    "ExecuteTime": {
     "end_time": "2022-05-31T23:55:13.760820Z",
     "start_time": "2022-05-31T23:54:25.384913Z"
    }
   },
   "outputs": [
    {
     "data": {
      "text/html": [
       "<div>\n",
       "<style scoped>\n",
       "    .dataframe tbody tr th:only-of-type {\n",
       "        vertical-align: middle;\n",
       "    }\n",
       "\n",
       "    .dataframe tbody tr th {\n",
       "        vertical-align: top;\n",
       "    }\n",
       "\n",
       "    .dataframe thead th {\n",
       "        text-align: right;\n",
       "    }\n",
       "</style>\n",
       "<table border=\"1\" class=\"dataframe\">\n",
       "  <thead>\n",
       "    <tr style=\"text-align: right;\">\n",
       "      <th></th>\n",
       "      <th>source</th>\n",
       "      <th>target</th>\n",
       "      <th>fees</th>\n",
       "      <th>ammount</th>\n",
       "      <th>block_time</th>\n",
       "      <th>txn_hash</th>\n",
       "      <th>block_index</th>\n",
       "    </tr>\n",
       "  </thead>\n",
       "  <tbody>\n",
       "    <tr>\n",
       "      <th>0</th>\n",
       "      <td>1MD5fBWY55ayQmtwAdB1P8wi9GP1arW8vC</td>\n",
       "      <td>1AdRv7DR7de9KFHgRJN4eYQxaMPgtrRL88</td>\n",
       "      <td>2.975436</td>\n",
       "      <td>96.739224</td>\n",
       "      <td>2017-03-06 08:17:16</td>\n",
       "      <td>4a7b8c0b2eb30207c48a857d79ed40bb532d93a3e62e17...</td>\n",
       "      <td>455985</td>\n",
       "    </tr>\n",
       "    <tr>\n",
       "      <th>1</th>\n",
       "      <td>1MD5fBWY55ayQmtwAdB1P8wi9GP1arW8vC</td>\n",
       "      <td>13V2Rgp3m12ySJ4e7RkgJ8q3G7hzCYPTt9</td>\n",
       "      <td>7.252652</td>\n",
       "      <td>235.802765</td>\n",
       "      <td>2017-03-06 08:17:16</td>\n",
       "      <td>4a7b8c0b2eb30207c48a857d79ed40bb532d93a3e62e17...</td>\n",
       "      <td>455985</td>\n",
       "    </tr>\n",
       "    <tr>\n",
       "      <th>2</th>\n",
       "      <td>1MD5fBWY55ayQmtwAdB1P8wi9GP1arW8vC</td>\n",
       "      <td>3Nnzx3vhQKXGraVQALjtE1XUYZZdeUhi1r</td>\n",
       "      <td>4.006670</td>\n",
       "      <td>130.267371</td>\n",
       "      <td>2017-03-06 08:17:16</td>\n",
       "      <td>4a7b8c0b2eb30207c48a857d79ed40bb532d93a3e62e17...</td>\n",
       "      <td>455985</td>\n",
       "    </tr>\n",
       "    <tr>\n",
       "      <th>3</th>\n",
       "      <td>1MD5fBWY55ayQmtwAdB1P8wi9GP1arW8vC</td>\n",
       "      <td>159YHzUpAeCCAc2X92kttj9BREKWsdcv2y</td>\n",
       "      <td>2.032727</td>\n",
       "      <td>66.089296</td>\n",
       "      <td>2017-03-06 08:17:16</td>\n",
       "      <td>4a7b8c0b2eb30207c48a857d79ed40bb532d93a3e62e17...</td>\n",
       "      <td>455985</td>\n",
       "    </tr>\n",
       "    <tr>\n",
       "      <th>4</th>\n",
       "      <td>1MD5fBWY55ayQmtwAdB1P8wi9GP1arW8vC</td>\n",
       "      <td>18UtybHabJ5E9bkGvUBwZQE5TrrREzMzwU</td>\n",
       "      <td>183.118487</td>\n",
       "      <td>5953.662616</td>\n",
       "      <td>2017-03-06 08:17:16</td>\n",
       "      <td>4a7b8c0b2eb30207c48a857d79ed40bb532d93a3e62e17...</td>\n",
       "      <td>455985</td>\n",
       "    </tr>\n",
       "  </tbody>\n",
       "</table>\n",
       "</div>"
      ],
      "text/plain": [
       "                               source                              target  \\\n",
       "0  1MD5fBWY55ayQmtwAdB1P8wi9GP1arW8vC  1AdRv7DR7de9KFHgRJN4eYQxaMPgtrRL88   \n",
       "1  1MD5fBWY55ayQmtwAdB1P8wi9GP1arW8vC  13V2Rgp3m12ySJ4e7RkgJ8q3G7hzCYPTt9   \n",
       "2  1MD5fBWY55ayQmtwAdB1P8wi9GP1arW8vC  3Nnzx3vhQKXGraVQALjtE1XUYZZdeUhi1r   \n",
       "3  1MD5fBWY55ayQmtwAdB1P8wi9GP1arW8vC  159YHzUpAeCCAc2X92kttj9BREKWsdcv2y   \n",
       "4  1MD5fBWY55ayQmtwAdB1P8wi9GP1arW8vC  18UtybHabJ5E9bkGvUBwZQE5TrrREzMzwU   \n",
       "\n",
       "         fees      ammount           block_time  \\\n",
       "0    2.975436    96.739224  2017-03-06 08:17:16   \n",
       "1    7.252652   235.802765  2017-03-06 08:17:16   \n",
       "2    4.006670   130.267371  2017-03-06 08:17:16   \n",
       "3    2.032727    66.089296  2017-03-06 08:17:16   \n",
       "4  183.118487  5953.662616  2017-03-06 08:17:16   \n",
       "\n",
       "                                            txn_hash  block_index  \n",
       "0  4a7b8c0b2eb30207c48a857d79ed40bb532d93a3e62e17...       455985  \n",
       "1  4a7b8c0b2eb30207c48a857d79ed40bb532d93a3e62e17...       455985  \n",
       "2  4a7b8c0b2eb30207c48a857d79ed40bb532d93a3e62e17...       455985  \n",
       "3  4a7b8c0b2eb30207c48a857d79ed40bb532d93a3e62e17...       455985  \n",
       "4  4a7b8c0b2eb30207c48a857d79ed40bb532d93a3e62e17...       455985  "
      ]
     },
     "execution_count": 38,
     "metadata": {},
     "output_type": "execute_result"
    }
   ],
   "source": [
    "# To DataFrame\n",
    "dbs_df = nx.to_pandas_edgelist(G_dbs)\n",
    "\n",
    "# Save sample as .csv and .gml\n",
    "dbs_df.to_csv(\"G_dbs_df.csv\", index = False)\n",
    "nx.write_gml(G_dbs, \"G_dbs.gml\")\n",
    "\n",
    "dbs_df.head()"
   ]
  },
  {
   "cell_type": "code",
   "execution_count": 39,
   "id": "ef50540a",
   "metadata": {
    "ExecuteTime": {
     "end_time": "2022-05-31T23:55:13.868956Z",
     "start_time": "2022-05-31T23:55:13.766229Z"
    }
   },
   "outputs": [
    {
     "data": {
      "text/plain": [
       "29498"
      ]
     },
     "execution_count": 39,
     "metadata": {},
     "output_type": "execute_result"
    }
   ],
   "source": [
    "# Number of unique transactions\n",
    "dbs_df['txn_hash'].nunique()"
   ]
  },
  {
   "cell_type": "code",
   "execution_count": 40,
   "id": "ac68c7f6",
   "metadata": {
    "ExecuteTime": {
     "end_time": "2022-05-31T23:55:13.941228Z",
     "start_time": "2022-05-31T23:55:13.873572Z"
    }
   },
   "outputs": [
    {
     "data": {
      "text/plain": [
       "19453"
      ]
     },
     "execution_count": 40,
     "metadata": {},
     "output_type": "execute_result"
    }
   ],
   "source": [
    "# Number of unique input addresses\n",
    "dbs_df['source'].nunique()"
   ]
  },
  {
   "cell_type": "code",
   "execution_count": 41,
   "id": "9fa06f17",
   "metadata": {
    "ExecuteTime": {
     "end_time": "2022-05-31T23:55:14.065627Z",
     "start_time": "2022-05-31T23:55:13.944075Z"
    }
   },
   "outputs": [
    {
     "data": {
      "text/plain": [
       "19269"
      ]
     },
     "execution_count": 41,
     "metadata": {},
     "output_type": "execute_result"
    }
   ],
   "source": [
    "# Number of unique output addresses\n",
    "dbs_df['target'].nunique()"
   ]
  },
  {
   "cell_type": "markdown",
   "id": "f2d195c9",
   "metadata": {},
   "source": [
    "The number of unique transactions and addresses is considered to be adequat variety. Near balance between input and output addresses as in full dataset, but the full dataset had slightly moreoutput addresses."
   ]
  },
  {
   "cell_type": "code",
   "execution_count": 42,
   "id": "4126458e",
   "metadata": {
    "ExecuteTime": {
     "end_time": "2022-05-31T23:55:14.157251Z",
     "start_time": "2022-05-31T23:55:14.067079Z"
    }
   },
   "outputs": [
    {
     "data": {
      "text/html": [
       "<div>\n",
       "<style scoped>\n",
       "    .dataframe tbody tr th:only-of-type {\n",
       "        vertical-align: middle;\n",
       "    }\n",
       "\n",
       "    .dataframe tbody tr th {\n",
       "        vertical-align: top;\n",
       "    }\n",
       "\n",
       "    .dataframe thead th {\n",
       "        text-align: right;\n",
       "    }\n",
       "</style>\n",
       "<table border=\"1\" class=\"dataframe\">\n",
       "  <thead>\n",
       "    <tr style=\"text-align: right;\">\n",
       "      <th></th>\n",
       "      <th>fees</th>\n",
       "      <th>ammount</th>\n",
       "      <th>block_index</th>\n",
       "    </tr>\n",
       "  </thead>\n",
       "  <tbody>\n",
       "    <tr>\n",
       "      <th>count</th>\n",
       "      <td>1.904500e+05</td>\n",
       "      <td>1.904500e+05</td>\n",
       "      <td>190450.000000</td>\n",
       "    </tr>\n",
       "    <tr>\n",
       "      <th>mean</th>\n",
       "      <td>3.756381e+03</td>\n",
       "      <td>7.618166e+06</td>\n",
       "      <td>454804.007362</td>\n",
       "    </tr>\n",
       "    <tr>\n",
       "      <th>std</th>\n",
       "      <td>4.706323e+04</td>\n",
       "      <td>6.854232e+08</td>\n",
       "      <td>1027.332610</td>\n",
       "    </tr>\n",
       "    <tr>\n",
       "      <th>min</th>\n",
       "      <td>0.000000e+00</td>\n",
       "      <td>-2.312935e+09</td>\n",
       "      <td>453318.000000</td>\n",
       "    </tr>\n",
       "    <tr>\n",
       "      <th>25%</th>\n",
       "      <td>7.484877e+00</td>\n",
       "      <td>1.267980e+03</td>\n",
       "      <td>453703.000000</td>\n",
       "    </tr>\n",
       "    <tr>\n",
       "      <th>50%</th>\n",
       "      <td>6.394180e+01</td>\n",
       "      <td>1.288149e+04</td>\n",
       "      <td>454684.000000</td>\n",
       "    </tr>\n",
       "    <tr>\n",
       "      <th>75%</th>\n",
       "      <td>4.682257e+02</td>\n",
       "      <td>1.518663e+05</td>\n",
       "      <td>455954.000000</td>\n",
       "    </tr>\n",
       "    <tr>\n",
       "      <th>max</th>\n",
       "      <td>7.203339e+06</td>\n",
       "      <td>2.683366e+11</td>\n",
       "      <td>456437.000000</td>\n",
       "    </tr>\n",
       "  </tbody>\n",
       "</table>\n",
       "</div>"
      ],
      "text/plain": [
       "               fees       ammount    block_index\n",
       "count  1.904500e+05  1.904500e+05  190450.000000\n",
       "mean   3.756381e+03  7.618166e+06  454804.007362\n",
       "std    4.706323e+04  6.854232e+08    1027.332610\n",
       "min    0.000000e+00 -2.312935e+09  453318.000000\n",
       "25%    7.484877e+00  1.267980e+03  453703.000000\n",
       "50%    6.394180e+01  1.288149e+04  454684.000000\n",
       "75%    4.682257e+02  1.518663e+05  455954.000000\n",
       "max    7.203339e+06  2.683366e+11  456437.000000"
      ]
     },
     "execution_count": 42,
     "metadata": {},
     "output_type": "execute_result"
    }
   ],
   "source": [
    "# View transaction properties\n",
    "dbs_df.describe()"
   ]
  },
  {
   "cell_type": "markdown",
   "id": "cdf6f9ed",
   "metadata": {},
   "source": [
    "The distribution of transaction ammounts appears to be adequately representative."
   ]
  },
  {
   "cell_type": "code",
   "execution_count": 43,
   "id": "dad1e7b5",
   "metadata": {
    "ExecuteTime": {
     "end_time": "2022-05-31T23:55:14.211403Z",
     "start_time": "2022-05-31T23:55:14.167679Z"
    }
   },
   "outputs": [
    {
     "data": {
      "text/plain": [
       "1528"
      ]
     },
     "execution_count": 43,
     "metadata": {},
     "output_type": "execute_result"
    }
   ],
   "source": [
    "# Number of unique timestamps\n",
    "dbs_df['block_time'].nunique() # Nearly all timestamps are preserved"
   ]
  },
  {
   "cell_type": "markdown",
   "id": "958dbb43",
   "metadata": {},
   "source": [
    "*Nodes*"
   ]
  },
  {
   "cell_type": "code",
   "execution_count": 44,
   "id": "34bc8524",
   "metadata": {
    "ExecuteTime": {
     "end_time": "2022-05-31T23:55:39.515402Z",
     "start_time": "2022-05-31T23:55:14.211403Z"
    }
   },
   "outputs": [],
   "source": [
    "# Get Properties\n",
    "\n",
    "address = [node for (node, val) in G_dbs.degree()]\n",
    "degree = [val for (node, val) in G_dbs.degree()]\n",
    "in_degree = [val for (node, val) in G_dbs.in_degree()]\n",
    "out_degree = [val for (node, val) in G_dbs.out_degree()]\n",
    "eigen_centrality = nx.eigenvector_centrality(G_dbs)\n",
    "eigen_centrality = [eigen_centrality[node] for node in eigen_centrality]"
   ]
  },
  {
   "cell_type": "code",
   "execution_count": 45,
   "id": "069183ec",
   "metadata": {
    "ExecuteTime": {
     "end_time": "2022-05-31T23:55:39.645791Z",
     "start_time": "2022-05-31T23:55:39.518394Z"
    }
   },
   "outputs": [],
   "source": [
    "# Add Properties to DataFrame\n",
    "\n",
    "nodes = pd.DataFrame()\n",
    "nodes['address'] = address\n",
    "nodes['degree'] = degree\n",
    "nodes['in_degree'] = in_degree\n",
    "nodes['out_degree'] = out_degree\n",
    "nodes['eigen_centrality'] = eigen_centrality"
   ]
  },
  {
   "cell_type": "code",
   "execution_count": 46,
   "id": "843351b0",
   "metadata": {
    "ExecuteTime": {
     "end_time": "2022-05-31T23:56:21.786126Z",
     "start_time": "2022-05-31T23:55:39.648235Z"
    }
   },
   "outputs": [
    {
     "data": {
      "text/html": [
       "<div>\n",
       "<style scoped>\n",
       "    .dataframe tbody tr th:only-of-type {\n",
       "        vertical-align: middle;\n",
       "    }\n",
       "\n",
       "    .dataframe tbody tr th {\n",
       "        vertical-align: top;\n",
       "    }\n",
       "\n",
       "    .dataframe thead th {\n",
       "        text-align: right;\n",
       "    }\n",
       "</style>\n",
       "<table border=\"1\" class=\"dataframe\">\n",
       "  <thead>\n",
       "    <tr style=\"text-align: right;\">\n",
       "      <th></th>\n",
       "      <th>address</th>\n",
       "      <th>degree</th>\n",
       "      <th>in_degree</th>\n",
       "      <th>out_degree</th>\n",
       "      <th>eigen_centrality</th>\n",
       "      <th>fraud_flag</th>\n",
       "    </tr>\n",
       "  </thead>\n",
       "  <tbody>\n",
       "    <tr>\n",
       "      <th>0</th>\n",
       "      <td>1MD5fBWY55ayQmtwAdB1P8wi9GP1arW8vC</td>\n",
       "      <td>143</td>\n",
       "      <td>0</td>\n",
       "      <td>143</td>\n",
       "      <td>2.705507e-23</td>\n",
       "      <td>0</td>\n",
       "    </tr>\n",
       "    <tr>\n",
       "      <th>1</th>\n",
       "      <td>1AZb7hJLfy7tBWMNaxW3iqJ1nzPsnmnyWe</td>\n",
       "      <td>1</td>\n",
       "      <td>1</td>\n",
       "      <td>0</td>\n",
       "      <td>1.269213e-04</td>\n",
       "      <td>0</td>\n",
       "    </tr>\n",
       "    <tr>\n",
       "      <th>2</th>\n",
       "      <td>1FtZSDBLEoV3qZPJDdw61sA7vhU11Mr8DP</td>\n",
       "      <td>7</td>\n",
       "      <td>7</td>\n",
       "      <td>0</td>\n",
       "      <td>1.253217e-02</td>\n",
       "      <td>0</td>\n",
       "    </tr>\n",
       "    <tr>\n",
       "      <th>3</th>\n",
       "      <td>1M29XzFhgEvgLn2cFQDwQT32yEEvQAkjUC</td>\n",
       "      <td>0</td>\n",
       "      <td>0</td>\n",
       "      <td>0</td>\n",
       "      <td>2.705507e-23</td>\n",
       "      <td>0</td>\n",
       "    </tr>\n",
       "    <tr>\n",
       "      <th>4</th>\n",
       "      <td>16W56cS8Fo5swUqUXxJUMKgZL4NYCDtRXb</td>\n",
       "      <td>0</td>\n",
       "      <td>0</td>\n",
       "      <td>0</td>\n",
       "      <td>2.705507e-23</td>\n",
       "      <td>0</td>\n",
       "    </tr>\n",
       "  </tbody>\n",
       "</table>\n",
       "</div>"
      ],
      "text/plain": [
       "                              address  degree  in_degree  out_degree  \\\n",
       "0  1MD5fBWY55ayQmtwAdB1P8wi9GP1arW8vC     143          0         143   \n",
       "1  1AZb7hJLfy7tBWMNaxW3iqJ1nzPsnmnyWe       1          1           0   \n",
       "2  1FtZSDBLEoV3qZPJDdw61sA7vhU11Mr8DP       7          7           0   \n",
       "3  1M29XzFhgEvgLn2cFQDwQT32yEEvQAkjUC       0          0           0   \n",
       "4  16W56cS8Fo5swUqUXxJUMKgZL4NYCDtRXb       0          0           0   \n",
       "\n",
       "   eigen_centrality  fraud_flag  \n",
       "0      2.705507e-23           0  \n",
       "1      1.269213e-04           0  \n",
       "2      1.253217e-02           0  \n",
       "3      2.705507e-23           0  \n",
       "4      2.705507e-23           0  "
      ]
     },
     "execution_count": 46,
     "metadata": {},
     "output_type": "execute_result"
    }
   ],
   "source": [
    "# Add fraud flag\n",
    "\n",
    "nodes = nodes.assign(**dict.fromkeys(['fraud_flag'], 0))\n",
    "\n",
    "for i in fr_nodes:\n",
    "    nodes.loc[nodes.address == i, 'fraud_flag'] = 1\n",
    "    \n",
    "nodes.head()"
   ]
  },
  {
   "cell_type": "code",
   "execution_count": 47,
   "id": "d4f66cb3",
   "metadata": {
    "ExecuteTime": {
     "end_time": "2022-05-31T23:56:21.863929Z",
     "start_time": "2022-05-31T23:56:21.790377Z"
    }
   },
   "outputs": [
    {
     "data": {
      "text/html": [
       "<div>\n",
       "<style scoped>\n",
       "    .dataframe tbody tr th:only-of-type {\n",
       "        vertical-align: middle;\n",
       "    }\n",
       "\n",
       "    .dataframe tbody tr th {\n",
       "        vertical-align: top;\n",
       "    }\n",
       "\n",
       "    .dataframe thead th {\n",
       "        text-align: right;\n",
       "    }\n",
       "</style>\n",
       "<table border=\"1\" class=\"dataframe\">\n",
       "  <thead>\n",
       "    <tr style=\"text-align: right;\">\n",
       "      <th></th>\n",
       "      <th>degree</th>\n",
       "      <th>in_degree</th>\n",
       "      <th>out_degree</th>\n",
       "      <th>eigen_centrality</th>\n",
       "    </tr>\n",
       "  </thead>\n",
       "  <tbody>\n",
       "    <tr>\n",
       "      <th>count</th>\n",
       "      <td>50000.000000</td>\n",
       "      <td>50000.00000</td>\n",
       "      <td>50000.000000</td>\n",
       "      <td>5.000000e+04</td>\n",
       "    </tr>\n",
       "    <tr>\n",
       "      <th>mean</th>\n",
       "      <td>7.618000</td>\n",
       "      <td>3.80900</td>\n",
       "      <td>3.809000</td>\n",
       "      <td>1.099103e-03</td>\n",
       "    </tr>\n",
       "    <tr>\n",
       "      <th>std</th>\n",
       "      <td>33.263619</td>\n",
       "      <td>15.40368</td>\n",
       "      <td>23.790729</td>\n",
       "      <td>4.335014e-03</td>\n",
       "    </tr>\n",
       "    <tr>\n",
       "      <th>min</th>\n",
       "      <td>0.000000</td>\n",
       "      <td>0.00000</td>\n",
       "      <td>0.000000</td>\n",
       "      <td>2.705507e-23</td>\n",
       "    </tr>\n",
       "    <tr>\n",
       "      <th>25%</th>\n",
       "      <td>0.000000</td>\n",
       "      <td>0.00000</td>\n",
       "      <td>0.000000</td>\n",
       "      <td>2.705507e-23</td>\n",
       "    </tr>\n",
       "    <tr>\n",
       "      <th>50%</th>\n",
       "      <td>1.000000</td>\n",
       "      <td>0.00000</td>\n",
       "      <td>0.000000</td>\n",
       "      <td>2.705507e-23</td>\n",
       "    </tr>\n",
       "    <tr>\n",
       "      <th>75%</th>\n",
       "      <td>6.000000</td>\n",
       "      <td>2.00000</td>\n",
       "      <td>1.000000</td>\n",
       "      <td>7.526556e-08</td>\n",
       "    </tr>\n",
       "    <tr>\n",
       "      <th>max</th>\n",
       "      <td>3405.000000</td>\n",
       "      <td>1019.00000</td>\n",
       "      <td>2386.000000</td>\n",
       "      <td>2.272576e-01</td>\n",
       "    </tr>\n",
       "  </tbody>\n",
       "</table>\n",
       "</div>"
      ],
      "text/plain": [
       "             degree    in_degree    out_degree  eigen_centrality\n",
       "count  50000.000000  50000.00000  50000.000000      5.000000e+04\n",
       "mean       7.618000      3.80900      3.809000      1.099103e-03\n",
       "std       33.263619     15.40368     23.790729      4.335014e-03\n",
       "min        0.000000      0.00000      0.000000      2.705507e-23\n",
       "25%        0.000000      0.00000      0.000000      2.705507e-23\n",
       "50%        1.000000      0.00000      0.000000      2.705507e-23\n",
       "75%        6.000000      2.00000      1.000000      7.526556e-08\n",
       "max     3405.000000   1019.00000   2386.000000      2.272576e-01"
      ]
     },
     "execution_count": 47,
     "metadata": {},
     "output_type": "execute_result"
    }
   ],
   "source": [
    "# Describe sample properties overall\n",
    "nodes[['degree', 'in_degree', 'out_degree', 'eigen_centrality']].describe()"
   ]
  },
  {
   "cell_type": "code",
   "execution_count": 48,
   "id": "f237b3c9",
   "metadata": {
    "ExecuteTime": {
     "end_time": "2022-05-31T23:56:21.924720Z",
     "start_time": "2022-05-31T23:56:21.868134Z"
    }
   },
   "outputs": [
    {
     "data": {
      "text/html": [
       "<div>\n",
       "<style scoped>\n",
       "    .dataframe tbody tr th:only-of-type {\n",
       "        vertical-align: middle;\n",
       "    }\n",
       "\n",
       "    .dataframe tbody tr th {\n",
       "        vertical-align: top;\n",
       "    }\n",
       "\n",
       "    .dataframe thead th {\n",
       "        text-align: right;\n",
       "    }\n",
       "</style>\n",
       "<table border=\"1\" class=\"dataframe\">\n",
       "  <thead>\n",
       "    <tr style=\"text-align: right;\">\n",
       "      <th></th>\n",
       "      <th>degree</th>\n",
       "      <th>in_degree</th>\n",
       "      <th>out_degree</th>\n",
       "      <th>eigen_centrality</th>\n",
       "    </tr>\n",
       "  </thead>\n",
       "  <tbody>\n",
       "    <tr>\n",
       "      <th>count</th>\n",
       "      <td>4400.000000</td>\n",
       "      <td>4400.000000</td>\n",
       "      <td>4400.000000</td>\n",
       "      <td>4.400000e+03</td>\n",
       "    </tr>\n",
       "    <tr>\n",
       "      <th>mean</th>\n",
       "      <td>8.600909</td>\n",
       "      <td>3.684773</td>\n",
       "      <td>4.916136</td>\n",
       "      <td>1.337366e-03</td>\n",
       "    </tr>\n",
       "    <tr>\n",
       "      <th>std</th>\n",
       "      <td>89.854988</td>\n",
       "      <td>28.793855</td>\n",
       "      <td>62.981243</td>\n",
       "      <td>7.494850e-03</td>\n",
       "    </tr>\n",
       "    <tr>\n",
       "      <th>min</th>\n",
       "      <td>0.000000</td>\n",
       "      <td>0.000000</td>\n",
       "      <td>0.000000</td>\n",
       "      <td>2.705507e-23</td>\n",
       "    </tr>\n",
       "    <tr>\n",
       "      <th>25%</th>\n",
       "      <td>0.000000</td>\n",
       "      <td>0.000000</td>\n",
       "      <td>0.000000</td>\n",
       "      <td>2.705507e-23</td>\n",
       "    </tr>\n",
       "    <tr>\n",
       "      <th>50%</th>\n",
       "      <td>1.000000</td>\n",
       "      <td>0.000000</td>\n",
       "      <td>0.000000</td>\n",
       "      <td>2.705507e-23</td>\n",
       "    </tr>\n",
       "    <tr>\n",
       "      <th>75%</th>\n",
       "      <td>3.000000</td>\n",
       "      <td>1.000000</td>\n",
       "      <td>1.000000</td>\n",
       "      <td>3.909896e-07</td>\n",
       "    </tr>\n",
       "    <tr>\n",
       "      <th>max</th>\n",
       "      <td>3405.000000</td>\n",
       "      <td>1019.000000</td>\n",
       "      <td>2386.000000</td>\n",
       "      <td>2.272576e-01</td>\n",
       "    </tr>\n",
       "  </tbody>\n",
       "</table>\n",
       "</div>"
      ],
      "text/plain": [
       "            degree    in_degree   out_degree  eigen_centrality\n",
       "count  4400.000000  4400.000000  4400.000000      4.400000e+03\n",
       "mean      8.600909     3.684773     4.916136      1.337366e-03\n",
       "std      89.854988    28.793855    62.981243      7.494850e-03\n",
       "min       0.000000     0.000000     0.000000      2.705507e-23\n",
       "25%       0.000000     0.000000     0.000000      2.705507e-23\n",
       "50%       1.000000     0.000000     0.000000      2.705507e-23\n",
       "75%       3.000000     1.000000     1.000000      3.909896e-07\n",
       "max    3405.000000  1019.000000  2386.000000      2.272576e-01"
      ]
     },
     "execution_count": 48,
     "metadata": {},
     "output_type": "execute_result"
    }
   ],
   "source": [
    "# Describe Properties of Fraudulent Nodes\n",
    "\n",
    "nodes_fraud = nodes[nodes['fraud_flag'] == 1]\n",
    "nodes_fraud[['degree', 'in_degree', 'out_degree', 'eigen_centrality']].describe()"
   ]
  },
  {
   "cell_type": "code",
   "execution_count": 49,
   "id": "ca544586",
   "metadata": {
    "ExecuteTime": {
     "end_time": "2022-05-31T23:56:22.012387Z",
     "start_time": "2022-05-31T23:56:21.926722Z"
    }
   },
   "outputs": [
    {
     "data": {
      "text/html": [
       "<div>\n",
       "<style scoped>\n",
       "    .dataframe tbody tr th:only-of-type {\n",
       "        vertical-align: middle;\n",
       "    }\n",
       "\n",
       "    .dataframe tbody tr th {\n",
       "        vertical-align: top;\n",
       "    }\n",
       "\n",
       "    .dataframe thead th {\n",
       "        text-align: right;\n",
       "    }\n",
       "</style>\n",
       "<table border=\"1\" class=\"dataframe\">\n",
       "  <thead>\n",
       "    <tr style=\"text-align: right;\">\n",
       "      <th></th>\n",
       "      <th>degree</th>\n",
       "      <th>in_degree</th>\n",
       "      <th>out_degree</th>\n",
       "      <th>eigen_centrality</th>\n",
       "    </tr>\n",
       "  </thead>\n",
       "  <tbody>\n",
       "    <tr>\n",
       "      <th>count</th>\n",
       "      <td>45600.000000</td>\n",
       "      <td>45600.000000</td>\n",
       "      <td>45600.000000</td>\n",
       "      <td>4.560000e+04</td>\n",
       "    </tr>\n",
       "    <tr>\n",
       "      <th>mean</th>\n",
       "      <td>7.523158</td>\n",
       "      <td>3.820987</td>\n",
       "      <td>3.702171</td>\n",
       "      <td>1.076113e-03</td>\n",
       "    </tr>\n",
       "    <tr>\n",
       "      <th>std</th>\n",
       "      <td>20.838201</td>\n",
       "      <td>13.423260</td>\n",
       "      <td>15.421321</td>\n",
       "      <td>3.896230e-03</td>\n",
       "    </tr>\n",
       "    <tr>\n",
       "      <th>min</th>\n",
       "      <td>0.000000</td>\n",
       "      <td>0.000000</td>\n",
       "      <td>0.000000</td>\n",
       "      <td>2.705507e-23</td>\n",
       "    </tr>\n",
       "    <tr>\n",
       "      <th>25%</th>\n",
       "      <td>0.000000</td>\n",
       "      <td>0.000000</td>\n",
       "      <td>0.000000</td>\n",
       "      <td>2.705507e-23</td>\n",
       "    </tr>\n",
       "    <tr>\n",
       "      <th>50%</th>\n",
       "      <td>1.000000</td>\n",
       "      <td>0.000000</td>\n",
       "      <td>0.000000</td>\n",
       "      <td>2.705507e-23</td>\n",
       "    </tr>\n",
       "    <tr>\n",
       "      <th>75%</th>\n",
       "      <td>6.000000</td>\n",
       "      <td>2.000000</td>\n",
       "      <td>1.000000</td>\n",
       "      <td>5.688494e-08</td>\n",
       "    </tr>\n",
       "    <tr>\n",
       "      <th>max</th>\n",
       "      <td>503.000000</td>\n",
       "      <td>308.000000</td>\n",
       "      <td>404.000000</td>\n",
       "      <td>7.899885e-02</td>\n",
       "    </tr>\n",
       "  </tbody>\n",
       "</table>\n",
       "</div>"
      ],
      "text/plain": [
       "             degree     in_degree    out_degree  eigen_centrality\n",
       "count  45600.000000  45600.000000  45600.000000      4.560000e+04\n",
       "mean       7.523158      3.820987      3.702171      1.076113e-03\n",
       "std       20.838201     13.423260     15.421321      3.896230e-03\n",
       "min        0.000000      0.000000      0.000000      2.705507e-23\n",
       "25%        0.000000      0.000000      0.000000      2.705507e-23\n",
       "50%        1.000000      0.000000      0.000000      2.705507e-23\n",
       "75%        6.000000      2.000000      1.000000      5.688494e-08\n",
       "max      503.000000    308.000000    404.000000      7.899885e-02"
      ]
     },
     "execution_count": 49,
     "metadata": {},
     "output_type": "execute_result"
    }
   ],
   "source": [
    "# Describe Properties of Non-Fraudulent Nodes\n",
    "\n",
    "nodes_licit = nodes[nodes['fraud_flag'] == 0]\n",
    "nodes_licit[['degree', 'in_degree', 'out_degree', 'eigen_centrality']].describe()"
   ]
  },
  {
   "cell_type": "markdown",
   "id": "27196b12",
   "metadata": {},
   "source": [
    "Degree and centrality measures are significantly skewed towards higher amounts. This bias  is more severe than in the previous sampling method."
   ]
  },
  {
   "cell_type": "markdown",
   "id": "9ce76a22",
   "metadata": {},
   "source": [
    "*Graph*"
   ]
  },
  {
   "cell_type": "code",
   "execution_count": 50,
   "id": "cb105457",
   "metadata": {
    "ExecuteTime": {
     "end_time": "2022-05-31T23:56:24.526928Z",
     "start_time": "2022-05-31T23:56:22.015399Z"
    }
   },
   "outputs": [
    {
     "data": {
      "text/plain": [
       "7.618152363047261e-05"
      ]
     },
     "execution_count": 50,
     "metadata": {},
     "output_type": "execute_result"
    }
   ],
   "source": [
    "# Density\n",
    "nx.density(G_dbs) # connectivity remains low"
   ]
  },
  {
   "cell_type": "code",
   "execution_count": 51,
   "id": "0dca0761",
   "metadata": {
    "ExecuteTime": {
     "end_time": "2022-05-31T23:56:42.103106Z",
     "start_time": "2022-05-31T23:56:24.529637Z"
    }
   },
   "outputs": [
    {
     "name": "stdout",
     "output_type": "stream",
     "text": [
      "The number of communities in randomly sampled graph is : 11\n"
     ]
    }
   ],
   "source": [
    "# Communities - k-Cliques\n",
    "\n",
    "com_generator_dbs = k_clique_communities(G_dbs.to_undirected(), k=10)\n",
    "com_dbs = next(com_generator_dbs)\n",
    "print('The number of communities in randomly sampled graph is : ' + str(len(com_dbs)))"
   ]
  },
  {
   "cell_type": "markdown",
   "id": "232ca720",
   "metadata": {},
   "source": [
    "This indicates the preservation of community structures. (Note: more communities than random sampler)"
   ]
  },
  {
   "cell_type": "code",
   "execution_count": null,
   "id": "899a61ec",
   "metadata": {},
   "outputs": [],
   "source": []
  }
 ],
 "metadata": {
  "kernelspec": {
   "display_name": "Python 3 (ipykernel)",
   "language": "python",
   "name": "python3"
  },
  "language_info": {
   "codemirror_mode": {
    "name": "ipython",
    "version": 3
   },
   "file_extension": ".py",
   "mimetype": "text/x-python",
   "name": "python",
   "nbconvert_exporter": "python",
   "pygments_lexer": "ipython3",
   "version": "3.9.12"
  }
 },
 "nbformat": 4,
 "nbformat_minor": 5
}
