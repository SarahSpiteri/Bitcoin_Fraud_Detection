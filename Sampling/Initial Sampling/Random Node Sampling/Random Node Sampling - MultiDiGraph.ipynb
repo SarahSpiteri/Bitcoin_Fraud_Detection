{
 "cells": [
  {
   "cell_type": "code",
   "execution_count": 1,
   "id": "6ea94d8e",
   "metadata": {
    "ExecuteTime": {
     "end_time": "2022-06-26T22:54:20.752356Z",
     "start_time": "2022-06-26T22:54:19.437206Z"
    }
   },
   "outputs": [],
   "source": [
    "# Requirements\n",
    "import pandas as pd\n",
    "import numpy as np\n",
    "\n",
    "import networkx as nx\n",
    "from networkx.algorithms.community import k_clique_communities\n",
    "import random as rd\n",
    "rd.seed(42)\n",
    "\n",
    "import warnings\n",
    "warnings.filterwarnings('ignore')"
   ]
  },
  {
   "cell_type": "markdown",
   "id": "5695e9c4",
   "metadata": {},
   "source": [
    "## Load Data & Obtain Graphs"
   ]
  },
  {
   "cell_type": "code",
   "execution_count": 2,
   "id": "d9235350",
   "metadata": {
    "ExecuteTime": {
     "end_time": "2022-06-26T22:54:55.883685Z",
     "start_time": "2022-06-26T22:54:25.635625Z"
    }
   },
   "outputs": [
    {
     "data": {
      "text/html": [
       "<div>\n",
       "<style scoped>\n",
       "    .dataframe tbody tr th:only-of-type {\n",
       "        vertical-align: middle;\n",
       "    }\n",
       "\n",
       "    .dataframe tbody tr th {\n",
       "        vertical-align: top;\n",
       "    }\n",
       "\n",
       "    .dataframe thead th {\n",
       "        text-align: right;\n",
       "    }\n",
       "</style>\n",
       "<table border=\"1\" class=\"dataframe\">\n",
       "  <thead>\n",
       "    <tr style=\"text-align: right;\">\n",
       "      <th></th>\n",
       "      <th>txn_hash</th>\n",
       "      <th>input_address</th>\n",
       "      <th>output_address</th>\n",
       "      <th>ammount</th>\n",
       "      <th>fees</th>\n",
       "      <th>block_index</th>\n",
       "      <th>block_time</th>\n",
       "      <th>input_flag</th>\n",
       "      <th>output_flag</th>\n",
       "    </tr>\n",
       "  </thead>\n",
       "  <tbody>\n",
       "    <tr>\n",
       "      <th>0</th>\n",
       "      <td>bd36f2ca16e2a2c73c807b7d1569657b30de8453450cd2...</td>\n",
       "      <td>13Uf71d8y94xEk2LX7GCtaBJmPiahhA7TR</td>\n",
       "      <td>16FPyvvz5Ug3cx97qH67KfgC6PY1S9fskQ</td>\n",
       "      <td>2.420000e+07</td>\n",
       "      <td>320000.000000</td>\n",
       "      <td>453318</td>\n",
       "      <td>2017-02-16 12:05:04</td>\n",
       "      <td>0</td>\n",
       "      <td>1</td>\n",
       "    </tr>\n",
       "    <tr>\n",
       "      <th>1</th>\n",
       "      <td>8c852e187a0541cd8ea8c93a6c728843b5f8b9c579b6fc...</td>\n",
       "      <td>166zajP74bcRVo7BmdeDME3mRX3Mi9e3xn</td>\n",
       "      <td>1ASaHGPN8qRuqZkpnR7d2tcndU9uHL6aGj</td>\n",
       "      <td>2.503648e+03</td>\n",
       "      <td>3.314845</td>\n",
       "      <td>453318</td>\n",
       "      <td>2017-02-16 12:05:04</td>\n",
       "      <td>0</td>\n",
       "      <td>1</td>\n",
       "    </tr>\n",
       "    <tr>\n",
       "      <th>2</th>\n",
       "      <td>8c852e187a0541cd8ea8c93a6c728843b5f8b9c579b6fc...</td>\n",
       "      <td>1LU3DtRE3XK32WxFqrnaT9k99nRgwHtLHd</td>\n",
       "      <td>1ASaHGPN8qRuqZkpnR7d2tcndU9uHL6aGj</td>\n",
       "      <td>6.359402e+05</td>\n",
       "      <td>841.988605</td>\n",
       "      <td>453318</td>\n",
       "      <td>2017-02-16 12:05:04</td>\n",
       "      <td>0</td>\n",
       "      <td>1</td>\n",
       "    </tr>\n",
       "    <tr>\n",
       "      <th>3</th>\n",
       "      <td>8c852e187a0541cd8ea8c93a6c728843b5f8b9c579b6fc...</td>\n",
       "      <td>1HVQNFf7vDpJVZk7tEzbFxnmALSezA2qPD</td>\n",
       "      <td>1ASaHGPN8qRuqZkpnR7d2tcndU9uHL6aGj</td>\n",
       "      <td>5.902369e+05</td>\n",
       "      <td>781.477250</td>\n",
       "      <td>453318</td>\n",
       "      <td>2017-02-16 12:05:04</td>\n",
       "      <td>0</td>\n",
       "      <td>1</td>\n",
       "    </tr>\n",
       "    <tr>\n",
       "      <th>4</th>\n",
       "      <td>8c852e187a0541cd8ea8c93a6c728843b5f8b9c579b6fc...</td>\n",
       "      <td>1LU3DtRE3XK32WxFqrnaT9k99nRgwHtLHd</td>\n",
       "      <td>1ASaHGPN8qRuqZkpnR7d2tcndU9uHL6aGj</td>\n",
       "      <td>1.013032e+05</td>\n",
       "      <td>134.126076</td>\n",
       "      <td>453318</td>\n",
       "      <td>2017-02-16 12:05:04</td>\n",
       "      <td>0</td>\n",
       "      <td>1</td>\n",
       "    </tr>\n",
       "  </tbody>\n",
       "</table>\n",
       "</div>"
      ],
      "text/plain": [
       "                                            txn_hash  \\\n",
       "0  bd36f2ca16e2a2c73c807b7d1569657b30de8453450cd2...   \n",
       "1  8c852e187a0541cd8ea8c93a6c728843b5f8b9c579b6fc...   \n",
       "2  8c852e187a0541cd8ea8c93a6c728843b5f8b9c579b6fc...   \n",
       "3  8c852e187a0541cd8ea8c93a6c728843b5f8b9c579b6fc...   \n",
       "4  8c852e187a0541cd8ea8c93a6c728843b5f8b9c579b6fc...   \n",
       "\n",
       "                        input_address                      output_address  \\\n",
       "0  13Uf71d8y94xEk2LX7GCtaBJmPiahhA7TR  16FPyvvz5Ug3cx97qH67KfgC6PY1S9fskQ   \n",
       "1  166zajP74bcRVo7BmdeDME3mRX3Mi9e3xn  1ASaHGPN8qRuqZkpnR7d2tcndU9uHL6aGj   \n",
       "2  1LU3DtRE3XK32WxFqrnaT9k99nRgwHtLHd  1ASaHGPN8qRuqZkpnR7d2tcndU9uHL6aGj   \n",
       "3  1HVQNFf7vDpJVZk7tEzbFxnmALSezA2qPD  1ASaHGPN8qRuqZkpnR7d2tcndU9uHL6aGj   \n",
       "4  1LU3DtRE3XK32WxFqrnaT9k99nRgwHtLHd  1ASaHGPN8qRuqZkpnR7d2tcndU9uHL6aGj   \n",
       "\n",
       "        ammount           fees  block_index           block_time  input_flag  \\\n",
       "0  2.420000e+07  320000.000000       453318  2017-02-16 12:05:04           0   \n",
       "1  2.503648e+03       3.314845       453318  2017-02-16 12:05:04           0   \n",
       "2  6.359402e+05     841.988605       453318  2017-02-16 12:05:04           0   \n",
       "3  5.902369e+05     781.477250       453318  2017-02-16 12:05:04           0   \n",
       "4  1.013032e+05     134.126076       453318  2017-02-16 12:05:04           0   \n",
       "\n",
       "   output_flag  \n",
       "0            1  \n",
       "1            1  \n",
       "2            1  \n",
       "3            1  \n",
       "4            1  "
      ]
     },
     "execution_count": 2,
     "metadata": {},
     "output_type": "execute_result"
    }
   ],
   "source": [
    "# Load DataFrame (self-loops removed)\n",
    "trans_3w = pd.read_csv(r'C:\\Users\\sarah\\Documents\\UNI\\Masters\\Study\\Term_3\\Master Project\\trans_3w_cl.csv')\n",
    "trans_3w = trans_3w[trans_3w.ammount > 0]\n",
    "trans_3w.head()"
   ]
  },
  {
   "cell_type": "markdown",
   "id": "06248b6e",
   "metadata": {},
   "source": [
    "Slef-loops, i.e. rows where the input and output addresses are the same, are excluded because these reflect the remaining balance in an address's crypto walet or the transfer of change. If the transfer of change goes to the same account this is taken as an indication that a user has nothing to hide, but if a user transfers any change received from a transaction to another address this is considered as being an attempt to disperse funds (reduce transparency)."
   ]
  },
  {
   "cell_type": "markdown",
   "id": "feb234be",
   "metadata": {},
   "source": [
    "Keeping self-loops also has implications for sampling methods. In the case of node sampling methods, self-loops can result in a sample meeting the edge condition (seen in samplers below) whilst still having several isolated nodes. In the case of random walks, self-loops can cause the walk to circle back and avoid nodes that would otherwise be sampled."
   ]
  },
  {
   "cell_type": "code",
   "execution_count": 3,
   "id": "f5bdaa16",
   "metadata": {
    "ExecuteTime": {
     "end_time": "2022-06-26T23:08:42.440076Z",
     "start_time": "2022-06-26T22:54:55.888127Z"
    }
   },
   "outputs": [
    {
     "data": {
      "text/plain": [
       "True"
      ]
     },
     "execution_count": 3,
     "metadata": {},
     "output_type": "execute_result"
    }
   ],
   "source": [
    "# Obtain full network NetworkX Graph\n",
    "G_full = nx.from_pandas_edgelist(trans_3w, 'input_address', 'output_address', edge_attr=['txn_hash', 'ammount', 'fees', \n",
    "                                'block_index', 'block_time'], create_using=nx.MultiDiGraph())\n",
    "\n",
    "# Confirm that Graph is Directed\n",
    "nx.is_directed(G_full)"
   ]
  },
  {
   "cell_type": "code",
   "execution_count": 4,
   "id": "3b28afd0",
   "metadata": {
    "ExecuteTime": {
     "end_time": "2022-06-27T01:21:38.286289Z",
     "start_time": "2022-06-26T23:08:42.479605Z"
    }
   },
   "outputs": [
    {
     "name": "stdout",
     "output_type": "stream",
     "text": [
      "MultiDiGraph with 3827352 nodes and 11724249 edges\n"
     ]
    }
   ],
   "source": [
    "# Generator for giant component\n",
    "giant = max(nx.connected_components(G_full.to_undirected()))\n",
    "\n",
    "# Get sub-graph of Giant Component\n",
    "G_giant = G_full.subgraph(giant)\n",
    "G_giant = G_giant.to_directed()\n",
    "\n",
    "print(nx.info(G_giant))"
   ]
  },
  {
   "cell_type": "code",
   "execution_count": 5,
   "id": "6be2fd09",
   "metadata": {
    "ExecuteTime": {
     "end_time": "2022-06-27T01:36:42.619180Z",
     "start_time": "2022-06-27T01:21:38.350139Z"
    }
   },
   "outputs": [],
   "source": [
    "# Remove unnecassary objects from memory\n",
    "del trans_3w\n",
    "del G_full"
   ]
  },
  {
   "cell_type": "markdown",
   "id": "6bd80b77",
   "metadata": {},
   "source": [
    "## Random Node Sampling"
   ]
  },
  {
   "cell_type": "markdown",
   "id": "796b30d8",
   "metadata": {},
   "source": [
    "When running the RandomNodeSampler it was noted that the method took an extremely long time to find a representative sample due to 2 limitations: 1. a large sample, and 2. a weakly connected component that makes it difficult to satify the edge condition. Hence, the sample of nodes is adjusted to exclude nodes that would slow down this process. "
   ]
  },
  {
   "cell_type": "markdown",
   "id": "270b9ebb",
   "metadata": {},
   "source": [
    "This sub-sampling is aimed at ensuring that all fraudulent/high-risk nodes are included, and that low centrality nodes are excluded such that they don't slow down the process. "
   ]
  },
  {
   "cell_type": "markdown",
   "id": "8a925701",
   "metadata": {},
   "source": [
    "### Random Node Sampler"
   ]
  },
  {
   "cell_type": "code",
   "execution_count": 6,
   "id": "433bc82d",
   "metadata": {
    "ExecuteTime": {
     "end_time": "2022-06-27T01:36:42.747073Z",
     "start_time": "2022-06-27T01:36:42.684395Z"
    }
   },
   "outputs": [],
   "source": [
    "# List all nodes in giant component\n",
    "n_giant = G_giant.nodes"
   ]
  },
  {
   "cell_type": "code",
   "execution_count": 7,
   "id": "80f067e8",
   "metadata": {
    "ExecuteTime": {
     "end_time": "2022-06-27T01:37:01.254224Z",
     "start_time": "2022-06-27T01:36:42.752470Z"
    }
   },
   "outputs": [
    {
     "data": {
      "text/html": [
       "<div>\n",
       "<style scoped>\n",
       "    .dataframe tbody tr th:only-of-type {\n",
       "        vertical-align: middle;\n",
       "    }\n",
       "\n",
       "    .dataframe tbody tr th {\n",
       "        vertical-align: top;\n",
       "    }\n",
       "\n",
       "    .dataframe thead th {\n",
       "        text-align: right;\n",
       "    }\n",
       "</style>\n",
       "<table border=\"1\" class=\"dataframe\">\n",
       "  <thead>\n",
       "    <tr style=\"text-align: right;\">\n",
       "      <th></th>\n",
       "      <th>degree</th>\n",
       "      <th>in_degree</th>\n",
       "      <th>out_degree</th>\n",
       "      <th>eigen_centrality</th>\n",
       "    </tr>\n",
       "  </thead>\n",
       "  <tbody>\n",
       "    <tr>\n",
       "      <th>count</th>\n",
       "      <td>4.666873e+06</td>\n",
       "      <td>4.666873e+06</td>\n",
       "      <td>4.666873e+06</td>\n",
       "      <td>4.666873e+06</td>\n",
       "    </tr>\n",
       "    <tr>\n",
       "      <th>mean</th>\n",
       "      <td>4.494298e+00</td>\n",
       "      <td>2.247149e+00</td>\n",
       "      <td>2.247149e+00</td>\n",
       "      <td>3.970074e-05</td>\n",
       "    </tr>\n",
       "    <tr>\n",
       "      <th>std</th>\n",
       "      <td>3.935922e+01</td>\n",
       "      <td>1.998412e+01</td>\n",
       "      <td>2.868249e+01</td>\n",
       "      <td>4.611943e-04</td>\n",
       "    </tr>\n",
       "    <tr>\n",
       "      <th>min</th>\n",
       "      <td>1.000000e+00</td>\n",
       "      <td>0.000000e+00</td>\n",
       "      <td>0.000000e+00</td>\n",
       "      <td>1.193322e-21</td>\n",
       "    </tr>\n",
       "    <tr>\n",
       "      <th>25%</th>\n",
       "      <td>1.000000e+00</td>\n",
       "      <td>0.000000e+00</td>\n",
       "      <td>0.000000e+00</td>\n",
       "      <td>1.193322e-21</td>\n",
       "    </tr>\n",
       "    <tr>\n",
       "      <th>50%</th>\n",
       "      <td>2.000000e+00</td>\n",
       "      <td>1.000000e+00</td>\n",
       "      <td>1.000000e+00</td>\n",
       "      <td>4.892620e-20</td>\n",
       "    </tr>\n",
       "    <tr>\n",
       "      <th>75%</th>\n",
       "      <td>3.000000e+00</td>\n",
       "      <td>1.000000e+00</td>\n",
       "      <td>2.000000e+00</td>\n",
       "      <td>1.517475e-14</td>\n",
       "    </tr>\n",
       "    <tr>\n",
       "      <th>max</th>\n",
       "      <td>2.791700e+04</td>\n",
       "      <td>1.211600e+04</td>\n",
       "      <td>2.533500e+04</td>\n",
       "      <td>1.642653e-01</td>\n",
       "    </tr>\n",
       "  </tbody>\n",
       "</table>\n",
       "</div>"
      ],
      "text/plain": [
       "             degree     in_degree    out_degree  eigen_centrality\n",
       "count  4.666873e+06  4.666873e+06  4.666873e+06      4.666873e+06\n",
       "mean   4.494298e+00  2.247149e+00  2.247149e+00      3.970074e-05\n",
       "std    3.935922e+01  1.998412e+01  2.868249e+01      4.611943e-04\n",
       "min    1.000000e+00  0.000000e+00  0.000000e+00      1.193322e-21\n",
       "25%    1.000000e+00  0.000000e+00  0.000000e+00      1.193322e-21\n",
       "50%    2.000000e+00  1.000000e+00  1.000000e+00      4.892620e-20\n",
       "75%    3.000000e+00  1.000000e+00  2.000000e+00      1.517475e-14\n",
       "max    2.791700e+04  1.211600e+04  2.533500e+04      1.642653e-01"
      ]
     },
     "execution_count": 7,
     "metadata": {},
     "output_type": "execute_result"
    }
   ],
   "source": [
    "# Get node properties from data exploration exercise\n",
    "node_properties = pd.read_csv(r'C:\\Users\\sarah\\Documents\\UNI\\Masters\\Study\\Term_3\\Master Project\\node_properties_cl.csv')\n",
    "\n",
    "# Describe properties overall\n",
    "node_properties[['degree', 'in_degree', 'out_degree', 'eigen_centrality']].describe()"
   ]
  },
  {
   "cell_type": "code",
   "execution_count": 8,
   "id": "f0abb04a",
   "metadata": {
    "ExecuteTime": {
     "end_time": "2022-06-27T01:37:08.350385Z",
     "start_time": "2022-06-27T01:37:01.259368Z"
    }
   },
   "outputs": [
    {
     "data": {
      "text/plain": [
       "(3827352, 6)"
      ]
     },
     "execution_count": 8,
     "metadata": {},
     "output_type": "execute_result"
    }
   ],
   "source": [
    "# Subset node_properties by addresses found in giant component\n",
    "node_properties = node_properties[node_properties['address'].isin(list(n_giant))]\n",
    "node_properties.shape"
   ]
  },
  {
   "cell_type": "code",
   "execution_count": 9,
   "id": "b385d341",
   "metadata": {
    "ExecuteTime": {
     "end_time": "2022-06-27T01:37:08.395952Z",
     "start_time": "2022-06-27T01:37:08.354517Z"
    }
   },
   "outputs": [],
   "source": [
    "# Subset by fraudulent/high-risk nodes\n",
    "\n",
    "fr_nodes = node_properties[node_properties['fraud_flag'] == 1]\n",
    "fr_nodes = fr_nodes['address'].tolist()"
   ]
  },
  {
   "cell_type": "code",
   "execution_count": 10,
   "id": "1acc7878",
   "metadata": {
    "ExecuteTime": {
     "end_time": "2022-06-27T01:37:08.832555Z",
     "start_time": "2022-06-27T01:37:08.398373Z"
    }
   },
   "outputs": [
    {
     "data": {
      "text/plain": [
       "362814"
      ]
     },
     "execution_count": 10,
     "metadata": {},
     "output_type": "execute_result"
    }
   ],
   "source": [
    "# Remove nodes with low centrality\n",
    "\n",
    "licit_nodes = node_properties[node_properties['fraud_flag'] == 0] # sample from low-risk nodes\n",
    "licit_nodes = licit_nodes[licit_nodes['eigen_centrality'] > 1.818528e-6] # remove nodes in bottom 84% of centrality\n",
    "licit_nodes = licit_nodes['address'].tolist()\n",
    "len(licit_nodes)"
   ]
  },
  {
   "cell_type": "markdown",
   "id": "76dd6db8",
   "metadata": {},
   "source": [
    "*Adjusted methods to account for pre-randomisation sub-sampling approach*"
   ]
  },
  {
   "cell_type": "code",
   "execution_count": 11,
   "id": "e1b084be",
   "metadata": {
    "ExecuteTime": {
     "end_time": "2022-06-27T01:37:08.863706Z",
     "start_time": "2022-06-27T01:37:08.840294Z"
    }
   },
   "outputs": [],
   "source": [
    "class RandomNodeSampler:\n",
    "    def __init__(self, graph, fraud_sample, licit_sample, number_of_nodes):\n",
    "        self.number_of_nodes = number_of_nodes\n",
    "        self.fraud_sample = fraud_sample\n",
    "        self.licit_sample = licit_sample \n",
    "        \n",
    "    def sampler(self, graph, fraud_sample, licit_sample, number_of_nodes):\n",
    "        s_size = self.number_of_nodes - len(fraud_sample) # Number of licit nodes to sample\n",
    "        rd_nodes = rd.sample(self.licit_sample, s_size) # Randomly select licit of nodes\n",
    "        rd_nodes = rd_nodes + self.fraud_sample  # Get full list of nodes\n",
    "        g_sampler = graph.subgraph(rd_nodes) # Obtain sub-graph from randomly selected nodes\n",
    "        return g_sampler\n",
    "        \n",
    "    def sample(self, graph, fraud_sample, licit_sample, number_of_nodes):\n",
    "        new_graph = self.sampler(graph, self.fraud_sample, self.licit_sample, self.number_of_nodes) # Get randomly sampled graph\n",
    "        # Edge condition: Number of Edges >= Number of Nodes (Ensures graph is not too sparse)\n",
    "        while new_graph.number_of_edges() < self.number_of_nodes: # If condition not met\n",
    "            new_graph = self.sampler(graph, self.fraud_sample, self.licit_sample, self.number_of_nodes) # Get new sub-graph\n",
    "            if new_graph.number_of_edges() >= self.number_of_nodes:\n",
    "                        break\n",
    "        return new_graph"
   ]
  },
  {
   "cell_type": "code",
   "execution_count": 40,
   "id": "c2cf07fa",
   "metadata": {
    "ExecuteTime": {
     "end_time": "2022-06-27T01:44:26.766437Z",
     "start_time": "2022-06-27T01:44:22.129727Z"
    }
   },
   "outputs": [
    {
     "data": {
      "text/plain": [
       "True"
      ]
     },
     "execution_count": 40,
     "metadata": {},
     "output_type": "execute_result"
    }
   ],
   "source": [
    "# Instantiate Sampler\n",
    "rns_generator = RandomNodeSampler(G_giant, fr_nodes, licit_nodes, 50000)\n",
    "\n",
    "# Obtain sub-sample\n",
    "G_rns = rns_generator.sample(G_giant, fr_nodes, licit_nodes, 50000)\n",
    "\n",
    "# Check if directed structure is maintained\n",
    "nx.is_directed(G_rns)"
   ]
  },
  {
   "cell_type": "code",
   "execution_count": 41,
   "id": "6ae07fb9",
   "metadata": {
    "ExecuteTime": {
     "end_time": "2022-06-27T01:44:28.528566Z",
     "start_time": "2022-06-27T01:44:26.768431Z"
    }
   },
   "outputs": [
    {
     "name": "stdout",
     "output_type": "stream",
     "text": [
      "MultiDiGraph with 50000 nodes and 119883 edges\n"
     ]
    }
   ],
   "source": [
    "print(nx.info(G_rns))"
   ]
  },
  {
   "cell_type": "markdown",
   "id": "fa1f9b5c",
   "metadata": {
    "ExecuteTime": {
     "end_time": "2022-05-22T21:59:16.824383Z",
     "start_time": "2022-05-22T21:59:16.813669Z"
    }
   },
   "source": [
    "##### Check Properties of Random Sample"
   ]
  },
  {
   "cell_type": "markdown",
   "id": "1a26c267",
   "metadata": {},
   "source": [
    "*DataFrame*"
   ]
  },
  {
   "cell_type": "code",
   "execution_count": 42,
   "id": "a98f8fed",
   "metadata": {
    "ExecuteTime": {
     "end_time": "2022-06-27T01:44:36.676739Z",
     "start_time": "2022-06-27T01:44:28.530559Z"
    }
   },
   "outputs": [
    {
     "name": "stdout",
     "output_type": "stream",
     "text": [
      "(119883, 7)\n"
     ]
    },
    {
     "data": {
      "text/html": [
       "<div>\n",
       "<style scoped>\n",
       "    .dataframe tbody tr th:only-of-type {\n",
       "        vertical-align: middle;\n",
       "    }\n",
       "\n",
       "    .dataframe tbody tr th {\n",
       "        vertical-align: top;\n",
       "    }\n",
       "\n",
       "    .dataframe thead th {\n",
       "        text-align: right;\n",
       "    }\n",
       "</style>\n",
       "<table border=\"1\" class=\"dataframe\">\n",
       "  <thead>\n",
       "    <tr style=\"text-align: right;\">\n",
       "      <th></th>\n",
       "      <th>source</th>\n",
       "      <th>target</th>\n",
       "      <th>weight</th>\n",
       "      <th>timestamp</th>\n",
       "    </tr>\n",
       "  </thead>\n",
       "  <tbody>\n",
       "    <tr>\n",
       "      <th>0</th>\n",
       "      <td>1DLyww6d47BNnddWU4wXhQSUBSfTh7FRiS</td>\n",
       "      <td>13hB6VxWn52YuzXJJ9FE6Y7NVnT5CtRjmD</td>\n",
       "      <td>6.196600e+04</td>\n",
       "      <td>1436</td>\n",
       "    </tr>\n",
       "    <tr>\n",
       "      <th>1</th>\n",
       "      <td>1DLyww6d47BNnddWU4wXhQSUBSfTh7FRiS</td>\n",
       "      <td>37p9pUugydmoLpQyFLLqGAgjWmUFERa1Pq</td>\n",
       "      <td>6.331221e+06</td>\n",
       "      <td>1436</td>\n",
       "    </tr>\n",
       "    <tr>\n",
       "      <th>2</th>\n",
       "      <td>15pLhEpvChTTzj4wisKPq4oxCp2FYNQQWP</td>\n",
       "      <td>1E7jvxutUZHr9Ktb77MQnnhSp4QBRbqR1n</td>\n",
       "      <td>3.583969e+06</td>\n",
       "      <td>3016</td>\n",
       "    </tr>\n",
       "    <tr>\n",
       "      <th>3</th>\n",
       "      <td>3Fvmy3c5kjpcj86KpNEmFh2UwcaEhixWf1</td>\n",
       "      <td>1MkQ4FASsFtbyG2LU38srYr3jJ8yDPcLhH</td>\n",
       "      <td>3.488078e+04</td>\n",
       "      <td>2236</td>\n",
       "    </tr>\n",
       "    <tr>\n",
       "      <th>4</th>\n",
       "      <td>3Fvmy3c5kjpcj86KpNEmFh2UwcaEhixWf1</td>\n",
       "      <td>1BmQouB1EmAs1dqkjwhAQZDdduoQu2bA9d</td>\n",
       "      <td>2.107825e+05</td>\n",
       "      <td>2236</td>\n",
       "    </tr>\n",
       "  </tbody>\n",
       "</table>\n",
       "</div>"
      ],
      "text/plain": [
       "                               source                              target  \\\n",
       "0  1DLyww6d47BNnddWU4wXhQSUBSfTh7FRiS  13hB6VxWn52YuzXJJ9FE6Y7NVnT5CtRjmD   \n",
       "1  1DLyww6d47BNnddWU4wXhQSUBSfTh7FRiS  37p9pUugydmoLpQyFLLqGAgjWmUFERa1Pq   \n",
       "2  15pLhEpvChTTzj4wisKPq4oxCp2FYNQQWP  1E7jvxutUZHr9Ktb77MQnnhSp4QBRbqR1n   \n",
       "3  3Fvmy3c5kjpcj86KpNEmFh2UwcaEhixWf1  1MkQ4FASsFtbyG2LU38srYr3jJ8yDPcLhH   \n",
       "4  3Fvmy3c5kjpcj86KpNEmFh2UwcaEhixWf1  1BmQouB1EmAs1dqkjwhAQZDdduoQu2bA9d   \n",
       "\n",
       "         weight  timestamp  \n",
       "0  6.196600e+04       1436  \n",
       "1  6.331221e+06       1436  \n",
       "2  3.583969e+06       3016  \n",
       "3  3.488078e+04       2236  \n",
       "4  2.107825e+05       2236  "
      ]
     },
     "execution_count": 42,
     "metadata": {},
     "output_type": "execute_result"
    }
   ],
   "source": [
    "# Get DataFrame\n",
    "rns_df = nx.to_pandas_edgelist(G_rns) \n",
    "print(rns_df.shape)\n",
    "\n",
    "# Save Graph Data\n",
    "rns_df['timestamp'] = (rns_df['block_index'] - rns_df['block_index'].min() + 1).astype(int)\n",
    "new_var_names = {'ammount': 'weight'}\n",
    "rns_df.rename(new_var_names, axis=1, inplace=True)\n",
    "rns_df = rns_df[['source', 'target', 'weight', 'timestamp']]\n",
    "rns_df.to_csv(\"g_ss_rn_9.csv\", index = False)\n",
    "#nx.write_gml(G_rns, \"G_rns_multi.gml\")\n",
    "\n",
    "rns_df.head()"
   ]
  },
  {
   "cell_type": "code",
   "execution_count": 15,
   "id": "e41e7e8c",
   "metadata": {
    "ExecuteTime": {
     "end_time": "2022-06-01T03:04:41.859774Z",
     "start_time": "2022-06-01T03:04:41.732914Z"
    }
   },
   "outputs": [
    {
     "data": {
      "text/plain": [
       "49791"
      ]
     },
     "execution_count": 15,
     "metadata": {},
     "output_type": "execute_result"
    }
   ],
   "source": [
    "# Number of unique transactions\n",
    "rns_df['txn_hash'].nunique()"
   ]
  },
  {
   "cell_type": "code",
   "execution_count": 16,
   "id": "6546d9db",
   "metadata": {
    "ExecuteTime": {
     "end_time": "2022-06-01T03:04:41.906399Z",
     "start_time": "2022-06-01T03:04:41.861776Z"
    }
   },
   "outputs": [
    {
     "data": {
      "text/plain": [
       "9914"
      ]
     },
     "execution_count": 16,
     "metadata": {},
     "output_type": "execute_result"
    }
   ],
   "source": [
    "# Number of unique input addresses\n",
    "rns_df['source'].nunique()"
   ]
  },
  {
   "cell_type": "code",
   "execution_count": 17,
   "id": "ba479477",
   "metadata": {
    "ExecuteTime": {
     "end_time": "2022-06-01T03:04:41.987792Z",
     "start_time": "2022-06-01T03:04:41.909300Z"
    }
   },
   "outputs": [
    {
     "data": {
      "text/plain": [
       "25500"
      ]
     },
     "execution_count": 17,
     "metadata": {},
     "output_type": "execute_result"
    }
   ],
   "source": [
    "# Number of unique output addresses\n",
    "rns_df['target'].nunique()"
   ]
  },
  {
   "cell_type": "markdown",
   "id": "6229a336",
   "metadata": {},
   "source": [
    "This is considered to be an adequate level of variety of transactions and addresses to be representative. Hovever, the difference in unique input and output addresses is not reflective of the population."
   ]
  },
  {
   "cell_type": "code",
   "execution_count": 18,
   "id": "b4926aa6",
   "metadata": {
    "ExecuteTime": {
     "end_time": "2022-06-01T03:04:42.055446Z",
     "start_time": "2022-06-01T03:04:41.991841Z"
    }
   },
   "outputs": [
    {
     "data": {
      "text/html": [
       "<div>\n",
       "<style scoped>\n",
       "    .dataframe tbody tr th:only-of-type {\n",
       "        vertical-align: middle;\n",
       "    }\n",
       "\n",
       "    .dataframe tbody tr th {\n",
       "        vertical-align: top;\n",
       "    }\n",
       "\n",
       "    .dataframe thead th {\n",
       "        text-align: right;\n",
       "    }\n",
       "</style>\n",
       "<table border=\"1\" class=\"dataframe\">\n",
       "  <thead>\n",
       "    <tr style=\"text-align: right;\">\n",
       "      <th></th>\n",
       "      <th>fees</th>\n",
       "      <th>ammount</th>\n",
       "      <th>block_index</th>\n",
       "    </tr>\n",
       "  </thead>\n",
       "  <tbody>\n",
       "    <tr>\n",
       "      <th>count</th>\n",
       "      <td>1.194460e+05</td>\n",
       "      <td>1.194460e+05</td>\n",
       "      <td>119446.000000</td>\n",
       "    </tr>\n",
       "    <tr>\n",
       "      <th>mean</th>\n",
       "      <td>8.222181e+03</td>\n",
       "      <td>2.017728e+07</td>\n",
       "      <td>454410.586441</td>\n",
       "    </tr>\n",
       "    <tr>\n",
       "      <th>std</th>\n",
       "      <td>3.637283e+04</td>\n",
       "      <td>2.008483e+08</td>\n",
       "      <td>917.605971</td>\n",
       "    </tr>\n",
       "    <tr>\n",
       "      <th>min</th>\n",
       "      <td>0.000000e+00</td>\n",
       "      <td>-2.442296e+09</td>\n",
       "      <td>453318.000000</td>\n",
       "    </tr>\n",
       "    <tr>\n",
       "      <th>25%</th>\n",
       "      <td>2.969728e+01</td>\n",
       "      <td>1.029526e+04</td>\n",
       "      <td>453536.000000</td>\n",
       "    </tr>\n",
       "    <tr>\n",
       "      <th>50%</th>\n",
       "      <td>2.944913e+02</td>\n",
       "      <td>1.367488e+05</td>\n",
       "      <td>454254.000000</td>\n",
       "    </tr>\n",
       "    <tr>\n",
       "      <th>75%</th>\n",
       "      <td>4.836604e+03</td>\n",
       "      <td>1.573000e+06</td>\n",
       "      <td>455165.000000</td>\n",
       "    </tr>\n",
       "    <tr>\n",
       "      <th>max</th>\n",
       "      <td>4.080994e+06</td>\n",
       "      <td>4.793483e+10</td>\n",
       "      <td>456437.000000</td>\n",
       "    </tr>\n",
       "  </tbody>\n",
       "</table>\n",
       "</div>"
      ],
      "text/plain": [
       "               fees       ammount    block_index\n",
       "count  1.194460e+05  1.194460e+05  119446.000000\n",
       "mean   8.222181e+03  2.017728e+07  454410.586441\n",
       "std    3.637283e+04  2.008483e+08     917.605971\n",
       "min    0.000000e+00 -2.442296e+09  453318.000000\n",
       "25%    2.969728e+01  1.029526e+04  453536.000000\n",
       "50%    2.944913e+02  1.367488e+05  454254.000000\n",
       "75%    4.836604e+03  1.573000e+06  455165.000000\n",
       "max    4.080994e+06  4.793483e+10  456437.000000"
      ]
     },
     "execution_count": 18,
     "metadata": {},
     "output_type": "execute_result"
    }
   ],
   "source": [
    "# View transaction properties\n",
    "rns_df.describe()"
   ]
  },
  {
   "cell_type": "markdown",
   "id": "95f40403",
   "metadata": {},
   "source": [
    "A distribution skewed towards large amounts is maintained. We also note that the presence of negative values is also kept."
   ]
  },
  {
   "cell_type": "code",
   "execution_count": 19,
   "id": "279c0de9",
   "metadata": {
    "ExecuteTime": {
     "end_time": "2022-06-01T03:04:42.097164Z",
     "start_time": "2022-06-01T03:04:42.058436Z"
    }
   },
   "outputs": [
    {
     "data": {
      "text/plain": [
       "1516"
      ]
     },
     "execution_count": 19,
     "metadata": {},
     "output_type": "execute_result"
    }
   ],
   "source": [
    "# Number of unique timestamps\n",
    "rns_df['block_time'].nunique() # Near all timestamps are represented"
   ]
  },
  {
   "cell_type": "markdown",
   "id": "7adf2d8a",
   "metadata": {},
   "source": [
    "*Nodes*"
   ]
  },
  {
   "cell_type": "code",
   "execution_count": 20,
   "id": "f7035690",
   "metadata": {
    "ExecuteTime": {
     "end_time": "2022-06-01T03:04:48.438049Z",
     "start_time": "2022-06-01T03:04:42.101461Z"
    }
   },
   "outputs": [],
   "source": [
    "# Get Properties\n",
    "\n",
    "address = [node for (node, val) in G_rns.degree()]\n",
    "degree = [val for (node, val) in G_rns.degree()]\n",
    "in_degree = [val for (node, val) in G_rns.in_degree()]\n",
    "out_degree = [val for (node, val) in G_rns.out_degree()]\n",
    "#eigen_centrality = nx.eigenvector_centrality(G_rns) # NetworkXNotImplemented: not implemented for multigraph type\n",
    "#eigen_centrality = [eigen_centrality[node] for node in eigen_centrality]"
   ]
  },
  {
   "cell_type": "code",
   "execution_count": 21,
   "id": "8033a779",
   "metadata": {
    "ExecuteTime": {
     "end_time": "2022-06-01T03:04:48.578976Z",
     "start_time": "2022-06-01T03:04:48.441785Z"
    }
   },
   "outputs": [],
   "source": [
    "# Add Properties to DataFrame\n",
    "\n",
    "nodes_rns = pd.DataFrame()\n",
    "nodes_rns['address'] = address\n",
    "nodes_rns['degree'] = degree\n",
    "nodes_rns['in_degree'] = in_degree\n",
    "nodes_rns['out_degree'] = out_degree\n",
    "#nodes_rns['eigen_centrality'] = eigen_centrality"
   ]
  },
  {
   "cell_type": "code",
   "execution_count": 22,
   "id": "c1537671",
   "metadata": {
    "ExecuteTime": {
     "end_time": "2022-06-01T03:05:44.688648Z",
     "start_time": "2022-06-01T03:04:48.583712Z"
    }
   },
   "outputs": [
    {
     "data": {
      "text/html": [
       "<div>\n",
       "<style scoped>\n",
       "    .dataframe tbody tr th:only-of-type {\n",
       "        vertical-align: middle;\n",
       "    }\n",
       "\n",
       "    .dataframe tbody tr th {\n",
       "        vertical-align: top;\n",
       "    }\n",
       "\n",
       "    .dataframe thead th {\n",
       "        text-align: right;\n",
       "    }\n",
       "</style>\n",
       "<table border=\"1\" class=\"dataframe\">\n",
       "  <thead>\n",
       "    <tr style=\"text-align: right;\">\n",
       "      <th></th>\n",
       "      <th>address</th>\n",
       "      <th>degree</th>\n",
       "      <th>in_degree</th>\n",
       "      <th>out_degree</th>\n",
       "      <th>fraud_flag</th>\n",
       "    </tr>\n",
       "  </thead>\n",
       "  <tbody>\n",
       "    <tr>\n",
       "      <th>0</th>\n",
       "      <td>34LxvX15nrj1TW9pnsPC1uLPewoEb6dYrF</td>\n",
       "      <td>50</td>\n",
       "      <td>22</td>\n",
       "      <td>28</td>\n",
       "      <td>1</td>\n",
       "    </tr>\n",
       "    <tr>\n",
       "      <th>1</th>\n",
       "      <td>3PZTjWQB5je9DqZevMsHSGKxzFGCXjQreE</td>\n",
       "      <td>1</td>\n",
       "      <td>1</td>\n",
       "      <td>0</td>\n",
       "      <td>0</td>\n",
       "    </tr>\n",
       "    <tr>\n",
       "      <th>2</th>\n",
       "      <td>19A6r9cTmNjYewpU5f7xGBUGwGhEEujXJ5</td>\n",
       "      <td>12</td>\n",
       "      <td>3</td>\n",
       "      <td>9</td>\n",
       "      <td>0</td>\n",
       "    </tr>\n",
       "    <tr>\n",
       "      <th>3</th>\n",
       "      <td>3DaSHyQSVGrdSZXPNhqxRKVEjDMxQ1DHKh</td>\n",
       "      <td>5</td>\n",
       "      <td>2</td>\n",
       "      <td>3</td>\n",
       "      <td>0</td>\n",
       "    </tr>\n",
       "    <tr>\n",
       "      <th>4</th>\n",
       "      <td>1KwtDLNmF5gpJo2hJt4L3mWmRkcKYdnkGR</td>\n",
       "      <td>0</td>\n",
       "      <td>0</td>\n",
       "      <td>0</td>\n",
       "      <td>0</td>\n",
       "    </tr>\n",
       "  </tbody>\n",
       "</table>\n",
       "</div>"
      ],
      "text/plain": [
       "                              address  degree  in_degree  out_degree  \\\n",
       "0  34LxvX15nrj1TW9pnsPC1uLPewoEb6dYrF      50         22          28   \n",
       "1  3PZTjWQB5je9DqZevMsHSGKxzFGCXjQreE       1          1           0   \n",
       "2  19A6r9cTmNjYewpU5f7xGBUGwGhEEujXJ5      12          3           9   \n",
       "3  3DaSHyQSVGrdSZXPNhqxRKVEjDMxQ1DHKh       5          2           3   \n",
       "4  1KwtDLNmF5gpJo2hJt4L3mWmRkcKYdnkGR       0          0           0   \n",
       "\n",
       "   fraud_flag  \n",
       "0           1  \n",
       "1           0  \n",
       "2           0  \n",
       "3           0  \n",
       "4           0  "
      ]
     },
     "execution_count": 22,
     "metadata": {},
     "output_type": "execute_result"
    }
   ],
   "source": [
    "# Add fraud flag\n",
    "\n",
    "nodes_rns = nodes_rns.assign(**dict.fromkeys(['fraud_flag'], 0))\n",
    "\n",
    "for i in fr_nodes:\n",
    "    nodes_rns.loc[nodes_rns.address == i, 'fraud_flag'] = 1\n",
    "    \n",
    "nodes_rns.head()"
   ]
  },
  {
   "cell_type": "code",
   "execution_count": 23,
   "id": "24dbe7b4",
   "metadata": {
    "ExecuteTime": {
     "end_time": "2022-06-01T03:05:44.743976Z",
     "start_time": "2022-06-01T03:05:44.692632Z"
    }
   },
   "outputs": [
    {
     "data": {
      "text/html": [
       "<div>\n",
       "<style scoped>\n",
       "    .dataframe tbody tr th:only-of-type {\n",
       "        vertical-align: middle;\n",
       "    }\n",
       "\n",
       "    .dataframe tbody tr th {\n",
       "        vertical-align: top;\n",
       "    }\n",
       "\n",
       "    .dataframe thead th {\n",
       "        text-align: right;\n",
       "    }\n",
       "</style>\n",
       "<table border=\"1\" class=\"dataframe\">\n",
       "  <thead>\n",
       "    <tr style=\"text-align: right;\">\n",
       "      <th></th>\n",
       "      <th>degree</th>\n",
       "      <th>in_degree</th>\n",
       "      <th>out_degree</th>\n",
       "    </tr>\n",
       "  </thead>\n",
       "  <tbody>\n",
       "    <tr>\n",
       "      <th>count</th>\n",
       "      <td>50000.000000</td>\n",
       "      <td>50000.000000</td>\n",
       "      <td>50000.000000</td>\n",
       "    </tr>\n",
       "    <tr>\n",
       "      <th>mean</th>\n",
       "      <td>4.777840</td>\n",
       "      <td>2.388920</td>\n",
       "      <td>2.388920</td>\n",
       "    </tr>\n",
       "    <tr>\n",
       "      <th>std</th>\n",
       "      <td>95.123873</td>\n",
       "      <td>31.656664</td>\n",
       "      <td>74.113177</td>\n",
       "    </tr>\n",
       "    <tr>\n",
       "      <th>min</th>\n",
       "      <td>0.000000</td>\n",
       "      <td>0.000000</td>\n",
       "      <td>0.000000</td>\n",
       "    </tr>\n",
       "    <tr>\n",
       "      <th>25%</th>\n",
       "      <td>0.000000</td>\n",
       "      <td>0.000000</td>\n",
       "      <td>0.000000</td>\n",
       "    </tr>\n",
       "    <tr>\n",
       "      <th>50%</th>\n",
       "      <td>1.000000</td>\n",
       "      <td>1.000000</td>\n",
       "      <td>0.000000</td>\n",
       "    </tr>\n",
       "    <tr>\n",
       "      <th>75%</th>\n",
       "      <td>2.000000</td>\n",
       "      <td>1.000000</td>\n",
       "      <td>0.000000</td>\n",
       "    </tr>\n",
       "    <tr>\n",
       "      <th>max</th>\n",
       "      <td>11985.000000</td>\n",
       "      <td>3089.000000</td>\n",
       "      <td>9574.000000</td>\n",
       "    </tr>\n",
       "  </tbody>\n",
       "</table>\n",
       "</div>"
      ],
      "text/plain": [
       "             degree     in_degree    out_degree\n",
       "count  50000.000000  50000.000000  50000.000000\n",
       "mean       4.777840      2.388920      2.388920\n",
       "std       95.123873     31.656664     74.113177\n",
       "min        0.000000      0.000000      0.000000\n",
       "25%        0.000000      0.000000      0.000000\n",
       "50%        1.000000      1.000000      0.000000\n",
       "75%        2.000000      1.000000      0.000000\n",
       "max    11985.000000   3089.000000   9574.000000"
      ]
     },
     "execution_count": 23,
     "metadata": {},
     "output_type": "execute_result"
    }
   ],
   "source": [
    "# Describe sample properties overall\n",
    "nodes_rns[['degree', 'in_degree', 'out_degree']].describe()"
   ]
  },
  {
   "cell_type": "code",
   "execution_count": 24,
   "id": "7d5da1ee",
   "metadata": {
    "ExecuteTime": {
     "end_time": "2022-06-01T03:05:44.796437Z",
     "start_time": "2022-06-01T03:05:44.750612Z"
    }
   },
   "outputs": [
    {
     "data": {
      "text/html": [
       "<div>\n",
       "<style scoped>\n",
       "    .dataframe tbody tr th:only-of-type {\n",
       "        vertical-align: middle;\n",
       "    }\n",
       "\n",
       "    .dataframe tbody tr th {\n",
       "        vertical-align: top;\n",
       "    }\n",
       "\n",
       "    .dataframe thead th {\n",
       "        text-align: right;\n",
       "    }\n",
       "</style>\n",
       "<table border=\"1\" class=\"dataframe\">\n",
       "  <thead>\n",
       "    <tr style=\"text-align: right;\">\n",
       "      <th></th>\n",
       "      <th>degree</th>\n",
       "      <th>in_degree</th>\n",
       "      <th>out_degree</th>\n",
       "    </tr>\n",
       "  </thead>\n",
       "  <tbody>\n",
       "    <tr>\n",
       "      <th>count</th>\n",
       "      <td>4400.000000</td>\n",
       "      <td>4400.000000</td>\n",
       "      <td>4400.000000</td>\n",
       "    </tr>\n",
       "    <tr>\n",
       "      <th>mean</th>\n",
       "      <td>28.391364</td>\n",
       "      <td>9.440909</td>\n",
       "      <td>18.950455</td>\n",
       "    </tr>\n",
       "    <tr>\n",
       "      <th>std</th>\n",
       "      <td>317.890470</td>\n",
       "      <td>102.996720</td>\n",
       "      <td>248.606483</td>\n",
       "    </tr>\n",
       "    <tr>\n",
       "      <th>min</th>\n",
       "      <td>0.000000</td>\n",
       "      <td>0.000000</td>\n",
       "      <td>0.000000</td>\n",
       "    </tr>\n",
       "    <tr>\n",
       "      <th>25%</th>\n",
       "      <td>0.000000</td>\n",
       "      <td>0.000000</td>\n",
       "      <td>0.000000</td>\n",
       "    </tr>\n",
       "    <tr>\n",
       "      <th>50%</th>\n",
       "      <td>1.000000</td>\n",
       "      <td>0.000000</td>\n",
       "      <td>0.000000</td>\n",
       "    </tr>\n",
       "    <tr>\n",
       "      <th>75%</th>\n",
       "      <td>3.000000</td>\n",
       "      <td>1.000000</td>\n",
       "      <td>1.000000</td>\n",
       "    </tr>\n",
       "    <tr>\n",
       "      <th>max</th>\n",
       "      <td>11985.000000</td>\n",
       "      <td>3089.000000</td>\n",
       "      <td>9574.000000</td>\n",
       "    </tr>\n",
       "  </tbody>\n",
       "</table>\n",
       "</div>"
      ],
      "text/plain": [
       "             degree    in_degree   out_degree\n",
       "count   4400.000000  4400.000000  4400.000000\n",
       "mean      28.391364     9.440909    18.950455\n",
       "std      317.890470   102.996720   248.606483\n",
       "min        0.000000     0.000000     0.000000\n",
       "25%        0.000000     0.000000     0.000000\n",
       "50%        1.000000     0.000000     0.000000\n",
       "75%        3.000000     1.000000     1.000000\n",
       "max    11985.000000  3089.000000  9574.000000"
      ]
     },
     "execution_count": 24,
     "metadata": {},
     "output_type": "execute_result"
    }
   ],
   "source": [
    "# Describe Properties of Fraudulent Nodes\n",
    "\n",
    "nodes_rns_fraud = nodes_rns[nodes_rns['fraud_flag'] == 1]\n",
    "nodes_rns_fraud[['degree', 'in_degree', 'out_degree']].describe()"
   ]
  },
  {
   "cell_type": "code",
   "execution_count": 25,
   "id": "6ee13ac7",
   "metadata": {
    "ExecuteTime": {
     "end_time": "2022-06-01T03:05:44.846493Z",
     "start_time": "2022-06-01T03:05:44.796437Z"
    }
   },
   "outputs": [
    {
     "data": {
      "text/html": [
       "<div>\n",
       "<style scoped>\n",
       "    .dataframe tbody tr th:only-of-type {\n",
       "        vertical-align: middle;\n",
       "    }\n",
       "\n",
       "    .dataframe tbody tr th {\n",
       "        vertical-align: top;\n",
       "    }\n",
       "\n",
       "    .dataframe thead th {\n",
       "        text-align: right;\n",
       "    }\n",
       "</style>\n",
       "<table border=\"1\" class=\"dataframe\">\n",
       "  <thead>\n",
       "    <tr style=\"text-align: right;\">\n",
       "      <th></th>\n",
       "      <th>degree</th>\n",
       "      <th>in_degree</th>\n",
       "      <th>out_degree</th>\n",
       "    </tr>\n",
       "  </thead>\n",
       "  <tbody>\n",
       "    <tr>\n",
       "      <th>count</th>\n",
       "      <td>45600.000000</td>\n",
       "      <td>45600.000000</td>\n",
       "      <td>45600.000000</td>\n",
       "    </tr>\n",
       "    <tr>\n",
       "      <th>mean</th>\n",
       "      <td>2.499342</td>\n",
       "      <td>1.708465</td>\n",
       "      <td>0.790877</td>\n",
       "    </tr>\n",
       "    <tr>\n",
       "      <th>std</th>\n",
       "      <td>10.668828</td>\n",
       "      <td>8.377521</td>\n",
       "      <td>5.596814</td>\n",
       "    </tr>\n",
       "    <tr>\n",
       "      <th>min</th>\n",
       "      <td>0.000000</td>\n",
       "      <td>0.000000</td>\n",
       "      <td>0.000000</td>\n",
       "    </tr>\n",
       "    <tr>\n",
       "      <th>25%</th>\n",
       "      <td>0.000000</td>\n",
       "      <td>0.000000</td>\n",
       "      <td>0.000000</td>\n",
       "    </tr>\n",
       "    <tr>\n",
       "      <th>50%</th>\n",
       "      <td>1.000000</td>\n",
       "      <td>1.000000</td>\n",
       "      <td>0.000000</td>\n",
       "    </tr>\n",
       "    <tr>\n",
       "      <th>75%</th>\n",
       "      <td>2.000000</td>\n",
       "      <td>1.000000</td>\n",
       "      <td>0.000000</td>\n",
       "    </tr>\n",
       "    <tr>\n",
       "      <th>max</th>\n",
       "      <td>1242.000000</td>\n",
       "      <td>1221.000000</td>\n",
       "      <td>476.000000</td>\n",
       "    </tr>\n",
       "  </tbody>\n",
       "</table>\n",
       "</div>"
      ],
      "text/plain": [
       "             degree     in_degree    out_degree\n",
       "count  45600.000000  45600.000000  45600.000000\n",
       "mean       2.499342      1.708465      0.790877\n",
       "std       10.668828      8.377521      5.596814\n",
       "min        0.000000      0.000000      0.000000\n",
       "25%        0.000000      0.000000      0.000000\n",
       "50%        1.000000      1.000000      0.000000\n",
       "75%        2.000000      1.000000      0.000000\n",
       "max     1242.000000   1221.000000    476.000000"
      ]
     },
     "execution_count": 25,
     "metadata": {},
     "output_type": "execute_result"
    }
   ],
   "source": [
    "# Describe Properties of Non-Fraudulent Nodes\n",
    "\n",
    "nodes_rns_licit = nodes_rns[nodes_rns['fraud_flag'] == 0]\n",
    "nodes_rns_licit[['degree', 'in_degree', 'out_degree']].describe()"
   ]
  },
  {
   "cell_type": "markdown",
   "id": "5cc6644e",
   "metadata": {},
   "source": [
    "At the mean level the overall properties appear reflective but the presence of isolated nodes (no degrees) is a potential concern. Furthermore, the distribution of out degrees does not appear to be reflective of the giant component population."
   ]
  },
  {
   "cell_type": "markdown",
   "id": "93ba1833",
   "metadata": {},
   "source": [
    "*Graph*"
   ]
  },
  {
   "cell_type": "code",
   "execution_count": 26,
   "id": "e09a0900",
   "metadata": {
    "ExecuteTime": {
     "end_time": "2022-06-01T03:05:47.023684Z",
     "start_time": "2022-06-01T03:05:44.852012Z"
    }
   },
   "outputs": [
    {
     "data": {
      "text/plain": [
       "4.777935558711174e-05"
      ]
     },
     "execution_count": 26,
     "metadata": {},
     "output_type": "execute_result"
    }
   ],
   "source": [
    "# Density\n",
    "nx.density(G_rns) # Connectivity remains very low"
   ]
  },
  {
   "cell_type": "code",
   "execution_count": 27,
   "id": "589b090e",
   "metadata": {
    "ExecuteTime": {
     "end_time": "2022-06-01T03:05:52.857630Z",
     "start_time": "2022-06-01T03:05:47.025776Z"
    }
   },
   "outputs": [
    {
     "name": "stdout",
     "output_type": "stream",
     "text": [
      "The number of communities in randomly sampled graph is : 14\n"
     ]
    }
   ],
   "source": [
    "# Communities - k-Cliques\n",
    "\n",
    "com_generator_rns = k_clique_communities(G_rns.to_undirected(), k=9) # Doesn't work for k>9\n",
    "com_rns = next(com_generator_rns)\n",
    "print('The number of communities in randomly sampled graph is : ' + str(len(com_rns))) "
   ]
  },
  {
   "cell_type": "markdown",
   "id": "770f4a87",
   "metadata": {},
   "source": [
    "This indicates that some variety in community structures was maintained. (Remember that the giant component had only 107 k-cliques)."
   ]
  },
  {
   "cell_type": "markdown",
   "id": "6c72b031",
   "metadata": {},
   "source": [
    "### Degree Biased Random Sampler"
   ]
  },
  {
   "cell_type": "code",
   "execution_count": 43,
   "id": "cdf82d32",
   "metadata": {
    "ExecuteTime": {
     "end_time": "2022-06-27T01:45:15.978754Z",
     "start_time": "2022-06-27T01:45:11.467558Z"
    }
   },
   "outputs": [
    {
     "data": {
      "text/plain": [
       "3822964"
      ]
     },
     "execution_count": 43,
     "metadata": {},
     "output_type": "execute_result"
    }
   ],
   "source": [
    "# Get Licit nodes\n",
    "\n",
    "licit_nodes = node_properties[node_properties['fraud_flag'] == 0] # sample from low-risk nodes\n",
    "licit_nodes = licit_nodes['address'].tolist()\n",
    "len(licit_nodes)"
   ]
  },
  {
   "cell_type": "code",
   "execution_count": 44,
   "id": "dbae4864",
   "metadata": {
    "ExecuteTime": {
     "end_time": "2022-06-27T01:45:15.994075Z",
     "start_time": "2022-06-27T01:45:15.982495Z"
    }
   },
   "outputs": [
    {
     "data": {
      "text/plain": [
       "3827352"
      ]
     },
     "execution_count": 44,
     "metadata": {},
     "output_type": "execute_result"
    }
   ],
   "source": [
    "# Sub-sample size \n",
    "len(fr_nodes) + len(licit_nodes)"
   ]
  },
  {
   "cell_type": "code",
   "execution_count": 45,
   "id": "3c484442",
   "metadata": {
    "ExecuteTime": {
     "end_time": "2022-06-27T01:45:19.486715Z",
     "start_time": "2022-06-27T01:45:15.997011Z"
    }
   },
   "outputs": [],
   "source": [
    "# Obtain sub-graph with short-listed nodes\n",
    "\n",
    "G_licit = G_giant.subgraph(licit_nodes)"
   ]
  },
  {
   "cell_type": "code",
   "execution_count": 46,
   "id": "489f502e",
   "metadata": {
    "ExecuteTime": {
     "end_time": "2022-06-27T01:45:23.805143Z",
     "start_time": "2022-06-27T01:45:19.486715Z"
    }
   },
   "outputs": [],
   "source": [
    "# Obtain probabilites\n",
    "\n",
    "dp = node_properties[node_properties['address'].isin(licit_nodes)]\n",
    "dp_sum = dp['degree'].sum()\n",
    "dp['p'] = dp['degree'] / dp_sum\n",
    "p_degree = dp['p'].values"
   ]
  },
  {
   "cell_type": "code",
   "execution_count": 47,
   "id": "3f451cef",
   "metadata": {
    "ExecuteTime": {
     "end_time": "2022-06-27T01:45:24.129709Z",
     "start_time": "2022-06-27T01:45:23.805143Z"
    }
   },
   "outputs": [],
   "source": [
    "class DegreeBasedSampler:\n",
    "    def __init__(self, graph, g_licit, fraud_sample, licit_sample, number_of_nodes, p_distribution):\n",
    "        self.number_of_nodes = number_of_nodes\n",
    "        self.fraud_sample = fraud_sample\n",
    "        self.licit_sample = licit_sample\n",
    "        self.p_distribution = p_distribution\n",
    "\n",
    "    def sampler(self, graph, g_licit, fraud_sample, licit_sample, number_of_nodes, p_distribution):\n",
    "        s_size = self.number_of_nodes - len(fraud_sample) # Number of licit nodes to sample\n",
    "        \n",
    "        # Sample nodes and create sub-graph\n",
    "        sampled_nodes = np.random.choice(self.licit_sample, s_size, replace=False, p=self.p_distribution)\n",
    "        sampled_nodes = list(sampled_nodes) + list(self.fraud_sample)\n",
    "        g_sampler = graph.subgraph(sampled_nodes)\n",
    "        return g_sampler\n",
    "    \n",
    "    def sample(self, graph, g_licit, fraud_sample, licit_sample, number_of_nodes, p_distribution):\n",
    "        new_graph = self.sampler(graph, g_licit, self.fraud_sample, self.licit_sample, self.number_of_nodes,\n",
    "                                 self.p_distribution) # Get randomly sampled graph\n",
    "        # Edge condition: Number of Edges >= Number of Nodes (Ensures graph is not too sparse)\n",
    "        while new_graph.number_of_edges() < self.number_of_nodes: # If condition not met\n",
    "            new_graph = self.sampler(graph, g_licit, self.fraud_sample, self.licit_sample, self.number_of_nodes, \n",
    "                                     self.p_distribution) # Get new sub-graph\n",
    "            if new_graph.number_of_edges() >= self.number_of_nodes:\n",
    "                        break\n",
    "        return new_graph"
   ]
  },
  {
   "cell_type": "code",
   "execution_count": 77,
   "id": "ce6395f1",
   "metadata": {
    "ExecuteTime": {
     "end_time": "2022-06-27T02:23:11.373140Z",
     "start_time": "2022-06-27T02:22:14.895716Z"
    }
   },
   "outputs": [
    {
     "data": {
      "text/plain": [
       "True"
      ]
     },
     "execution_count": 77,
     "metadata": {},
     "output_type": "execute_result"
    }
   ],
   "source": [
    "# Instantiate Sampler\n",
    "dbs_generator = DegreeBasedSampler(G_giant, G_licit, fr_nodes, licit_nodes, 50000, p_degree) \n",
    "\n",
    "# Obtain sub-sample\n",
    "G_dbs = dbs_generator.sample(G_giant, G_licit, fr_nodes, licit_nodes, 50000, p_degree) \n",
    "\n",
    "# Check if directed structure is maintained\n",
    "nx.is_directed(G_dbs) "
   ]
  },
  {
   "cell_type": "code",
   "execution_count": 78,
   "id": "55641e3a",
   "metadata": {
    "ExecuteTime": {
     "end_time": "2022-06-27T02:23:19.571579Z",
     "start_time": "2022-06-27T02:23:11.396363Z"
    }
   },
   "outputs": [
    {
     "name": "stdout",
     "output_type": "stream",
     "text": [
      "MultiDiGraph with 50000 nodes and 318854 edges\n"
     ]
    }
   ],
   "source": [
    "print(nx.info(G_dbs))"
   ]
  },
  {
   "cell_type": "markdown",
   "id": "e5d650c9",
   "metadata": {},
   "source": [
    "##### Check Properties of Degree Biased Random Sample"
   ]
  },
  {
   "cell_type": "markdown",
   "id": "3a065b5d",
   "metadata": {},
   "source": [
    "*DataFrame*"
   ]
  },
  {
   "cell_type": "code",
   "execution_count": 79,
   "id": "b8b93a77",
   "metadata": {
    "ExecuteTime": {
     "end_time": "2022-06-27T02:23:47.475493Z",
     "start_time": "2022-06-27T02:23:19.574832Z"
    }
   },
   "outputs": [
    {
     "name": "stdout",
     "output_type": "stream",
     "text": [
      "(318854, 7)\n"
     ]
    },
    {
     "data": {
      "text/html": [
       "<div>\n",
       "<style scoped>\n",
       "    .dataframe tbody tr th:only-of-type {\n",
       "        vertical-align: middle;\n",
       "    }\n",
       "\n",
       "    .dataframe tbody tr th {\n",
       "        vertical-align: top;\n",
       "    }\n",
       "\n",
       "    .dataframe thead th {\n",
       "        text-align: right;\n",
       "    }\n",
       "</style>\n",
       "<table border=\"1\" class=\"dataframe\">\n",
       "  <thead>\n",
       "    <tr style=\"text-align: right;\">\n",
       "      <th></th>\n",
       "      <th>source</th>\n",
       "      <th>target</th>\n",
       "      <th>weight</th>\n",
       "      <th>timestamp</th>\n",
       "    </tr>\n",
       "  </thead>\n",
       "  <tbody>\n",
       "    <tr>\n",
       "      <th>0</th>\n",
       "      <td>3LnZpZQQ6Nk3tdnLAjg8aTRtfXouX9Jzzs</td>\n",
       "      <td>3Dcm3y3VdLb5Mc2Qhn7KcAkhBDs1BrYpmw</td>\n",
       "      <td>7.478801e+04</td>\n",
       "      <td>447</td>\n",
       "    </tr>\n",
       "    <tr>\n",
       "      <th>1</th>\n",
       "      <td>3LnZpZQQ6Nk3tdnLAjg8aTRtfXouX9Jzzs</td>\n",
       "      <td>3DqN3oBsRkTWPcdB3cCrvmHYboJAzbQCy1</td>\n",
       "      <td>2.173784e+05</td>\n",
       "      <td>447</td>\n",
       "    </tr>\n",
       "    <tr>\n",
       "      <th>2</th>\n",
       "      <td>3LnZpZQQ6Nk3tdnLAjg8aTRtfXouX9Jzzs</td>\n",
       "      <td>3KiryEyT5iJwDdhP7RZLyfGzmPCxgvYaEg</td>\n",
       "      <td>5.495510e+06</td>\n",
       "      <td>447</td>\n",
       "    </tr>\n",
       "    <tr>\n",
       "      <th>3</th>\n",
       "      <td>3JZUPmxt7Hjdm7kk8ymKXXcM9oGNMAXJV1</td>\n",
       "      <td>1AhNSepcJmLwXWWWoUiaLDBKJCAt7dLoVi</td>\n",
       "      <td>2.423226e+02</td>\n",
       "      <td>978</td>\n",
       "    </tr>\n",
       "    <tr>\n",
       "      <th>4</th>\n",
       "      <td>3JZUPmxt7Hjdm7kk8ymKXXcM9oGNMAXJV1</td>\n",
       "      <td>3MKaTNDSnbzqqYPEF6ebGQ6f9PnNLMAoQQ</td>\n",
       "      <td>1.071417e+03</td>\n",
       "      <td>978</td>\n",
       "    </tr>\n",
       "  </tbody>\n",
       "</table>\n",
       "</div>"
      ],
      "text/plain": [
       "                               source                              target  \\\n",
       "0  3LnZpZQQ6Nk3tdnLAjg8aTRtfXouX9Jzzs  3Dcm3y3VdLb5Mc2Qhn7KcAkhBDs1BrYpmw   \n",
       "1  3LnZpZQQ6Nk3tdnLAjg8aTRtfXouX9Jzzs  3DqN3oBsRkTWPcdB3cCrvmHYboJAzbQCy1   \n",
       "2  3LnZpZQQ6Nk3tdnLAjg8aTRtfXouX9Jzzs  3KiryEyT5iJwDdhP7RZLyfGzmPCxgvYaEg   \n",
       "3  3JZUPmxt7Hjdm7kk8ymKXXcM9oGNMAXJV1  1AhNSepcJmLwXWWWoUiaLDBKJCAt7dLoVi   \n",
       "4  3JZUPmxt7Hjdm7kk8ymKXXcM9oGNMAXJV1  3MKaTNDSnbzqqYPEF6ebGQ6f9PnNLMAoQQ   \n",
       "\n",
       "         weight  timestamp  \n",
       "0  7.478801e+04        447  \n",
       "1  2.173784e+05        447  \n",
       "2  5.495510e+06        447  \n",
       "3  2.423226e+02        978  \n",
       "4  1.071417e+03        978  "
      ]
     },
     "execution_count": 79,
     "metadata": {},
     "output_type": "execute_result"
    }
   ],
   "source": [
    "# Get DataFrame\n",
    "dbs_df = nx.to_pandas_edgelist(G_dbs) \n",
    "print(dbs_df.shape)\n",
    "\n",
    "# Save Graph Data\n",
    "dbs_df['timestamp'] = (dbs_df['block_index'] - dbs_df['block_index'].min() + 1).astype(int)\n",
    "new_var_names = {'ammount': 'weight'}\n",
    "dbs_df.rename(new_var_names, axis=1, inplace=True)\n",
    "dbs_df = dbs_df[['source', 'target', 'weight', 'timestamp']]\n",
    "dbs_df.to_csv(\"g_ss_bd_9.csv\", index = False)\n",
    "\n",
    "# Save Graph\n",
    "#dbs_df.to_csv(\"G_dbs_multidf.csv\", index = False)\n",
    "#nx.write_gml(G_dbs, \"G_dbs_multi.gml\")\n",
    "\n",
    "dbs_df.head()"
   ]
  },
  {
   "cell_type": "code",
   "execution_count": 36,
   "id": "ef50540a",
   "metadata": {
    "ExecuteTime": {
     "end_time": "2022-06-01T03:08:04.042182Z",
     "start_time": "2022-06-01T03:08:03.868910Z"
    }
   },
   "outputs": [
    {
     "data": {
      "text/plain": [
       "62337"
      ]
     },
     "execution_count": 36,
     "metadata": {},
     "output_type": "execute_result"
    }
   ],
   "source": [
    "# Number of unique transactions\n",
    "dbs_df['txn_hash'].nunique()"
   ]
  },
  {
   "cell_type": "code",
   "execution_count": 37,
   "id": "ac68c7f6",
   "metadata": {
    "ExecuteTime": {
     "end_time": "2022-06-01T03:08:04.147014Z",
     "start_time": "2022-06-01T03:08:04.047246Z"
    }
   },
   "outputs": [
    {
     "data": {
      "text/plain": [
       "19622"
      ]
     },
     "execution_count": 37,
     "metadata": {},
     "output_type": "execute_result"
    }
   ],
   "source": [
    "# Number of unique input addresses\n",
    "dbs_df['source'].nunique()"
   ]
  },
  {
   "cell_type": "code",
   "execution_count": 38,
   "id": "9fa06f17",
   "metadata": {
    "ExecuteTime": {
     "end_time": "2022-06-01T03:08:04.289045Z",
     "start_time": "2022-06-01T03:08:04.147014Z"
    }
   },
   "outputs": [
    {
     "data": {
      "text/plain": [
       "19317"
      ]
     },
     "execution_count": 38,
     "metadata": {},
     "output_type": "execute_result"
    }
   ],
   "source": [
    "# Number of unique output addresses\n",
    "dbs_df['target'].nunique()"
   ]
  },
  {
   "cell_type": "markdown",
   "id": "f2d195c9",
   "metadata": {},
   "source": [
    "This is considered to be an adequate level of variety to be representative. Note that this sample has a better balance between input and output addresses."
   ]
  },
  {
   "cell_type": "code",
   "execution_count": 39,
   "id": "4126458e",
   "metadata": {
    "ExecuteTime": {
     "end_time": "2022-06-01T03:08:04.362592Z",
     "start_time": "2022-06-01T03:08:04.292048Z"
    }
   },
   "outputs": [
    {
     "data": {
      "text/html": [
       "<div>\n",
       "<style scoped>\n",
       "    .dataframe tbody tr th:only-of-type {\n",
       "        vertical-align: middle;\n",
       "    }\n",
       "\n",
       "    .dataframe tbody tr th {\n",
       "        vertical-align: top;\n",
       "    }\n",
       "\n",
       "    .dataframe thead th {\n",
       "        text-align: right;\n",
       "    }\n",
       "</style>\n",
       "<table border=\"1\" class=\"dataframe\">\n",
       "  <thead>\n",
       "    <tr style=\"text-align: right;\">\n",
       "      <th></th>\n",
       "      <th>fees</th>\n",
       "      <th>ammount</th>\n",
       "      <th>block_index</th>\n",
       "    </tr>\n",
       "  </thead>\n",
       "  <tbody>\n",
       "    <tr>\n",
       "      <th>count</th>\n",
       "      <td>3.228400e+05</td>\n",
       "      <td>3.228400e+05</td>\n",
       "      <td>322840.000000</td>\n",
       "    </tr>\n",
       "    <tr>\n",
       "      <th>mean</th>\n",
       "      <td>5.603200e+03</td>\n",
       "      <td>1.695694e+07</td>\n",
       "      <td>454675.291482</td>\n",
       "    </tr>\n",
       "    <tr>\n",
       "      <th>std</th>\n",
       "      <td>4.122036e+04</td>\n",
       "      <td>5.471067e+08</td>\n",
       "      <td>997.989720</td>\n",
       "    </tr>\n",
       "    <tr>\n",
       "      <th>min</th>\n",
       "      <td>0.000000e+00</td>\n",
       "      <td>-3.021075e+09</td>\n",
       "      <td>453318.000000</td>\n",
       "    </tr>\n",
       "    <tr>\n",
       "      <th>25%</th>\n",
       "      <td>1.444314e+01</td>\n",
       "      <td>2.567778e+03</td>\n",
       "      <td>453643.000000</td>\n",
       "    </tr>\n",
       "    <tr>\n",
       "      <th>50%</th>\n",
       "      <td>1.175074e+02</td>\n",
       "      <td>5.210896e+04</td>\n",
       "      <td>454637.000000</td>\n",
       "    </tr>\n",
       "    <tr>\n",
       "      <th>75%</th>\n",
       "      <td>1.469182e+03</td>\n",
       "      <td>7.215286e+05</td>\n",
       "      <td>455556.000000</td>\n",
       "    </tr>\n",
       "    <tr>\n",
       "      <th>max</th>\n",
       "      <td>7.203339e+06</td>\n",
       "      <td>2.683366e+11</td>\n",
       "      <td>456437.000000</td>\n",
       "    </tr>\n",
       "  </tbody>\n",
       "</table>\n",
       "</div>"
      ],
      "text/plain": [
       "               fees       ammount    block_index\n",
       "count  3.228400e+05  3.228400e+05  322840.000000\n",
       "mean   5.603200e+03  1.695694e+07  454675.291482\n",
       "std    4.122036e+04  5.471067e+08     997.989720\n",
       "min    0.000000e+00 -3.021075e+09  453318.000000\n",
       "25%    1.444314e+01  2.567778e+03  453643.000000\n",
       "50%    1.175074e+02  5.210896e+04  454637.000000\n",
       "75%    1.469182e+03  7.215286e+05  455556.000000\n",
       "max    7.203339e+06  2.683366e+11  456437.000000"
      ]
     },
     "execution_count": 39,
     "metadata": {},
     "output_type": "execute_result"
    }
   ],
   "source": [
    "# View transaction properties\n",
    "dbs_df.describe()"
   ]
  },
  {
   "cell_type": "markdown",
   "id": "cdf6f9ed",
   "metadata": {},
   "source": [
    "The distribution of transaction ammounts appears to be adequately representative."
   ]
  },
  {
   "cell_type": "code",
   "execution_count": 40,
   "id": "dad1e7b5",
   "metadata": {
    "ExecuteTime": {
     "end_time": "2022-06-01T03:08:04.433475Z",
     "start_time": "2022-06-01T03:08:04.364597Z"
    }
   },
   "outputs": [
    {
     "data": {
      "text/plain": [
       "1549"
      ]
     },
     "execution_count": 40,
     "metadata": {},
     "output_type": "execute_result"
    }
   ],
   "source": [
    "# Number of unique timestamps\n",
    "dbs_df['block_time'].nunique() # Nearly all timestamps are preserved"
   ]
  },
  {
   "cell_type": "markdown",
   "id": "958dbb43",
   "metadata": {},
   "source": [
    "*Nodes*"
   ]
  },
  {
   "cell_type": "code",
   "execution_count": 41,
   "id": "8bc45ea9",
   "metadata": {
    "ExecuteTime": {
     "end_time": "2022-06-01T03:08:19.271928Z",
     "start_time": "2022-06-01T03:08:04.437389Z"
    }
   },
   "outputs": [],
   "source": [
    "# Get Properties\n",
    "\n",
    "address = [node for (node, val) in G_dbs.degree()]\n",
    "degree = [val for (node, val) in G_dbs.degree()]\n",
    "in_degree = [val for (node, val) in G_dbs.in_degree()]\n",
    "out_degree = [val for (node, val) in G_dbs.out_degree()]\n",
    "#eigen_centrality = nx.eigenvector_centrality(G_dbs) # NetworkXNotImplemented: not implemented for multigraph type\n",
    "#eigen_centrality = [eigen_centrality[node] for node in eigen_centrality]"
   ]
  },
  {
   "cell_type": "code",
   "execution_count": 42,
   "id": "6722ace5",
   "metadata": {
    "ExecuteTime": {
     "end_time": "2022-06-01T03:08:19.397295Z",
     "start_time": "2022-06-01T03:08:19.275609Z"
    }
   },
   "outputs": [],
   "source": [
    "# Add Properties to DataFrame\n",
    "\n",
    "nodes_dbs = pd.DataFrame()\n",
    "nodes_dbs['address'] = address\n",
    "nodes_dbs['degree'] = degree\n",
    "nodes_dbs['in_degree'] = in_degree\n",
    "nodes_dbs['out_degree'] = out_degree\n",
    "#nodes_dbs['eigen_centrality'] = eigen_centrality"
   ]
  },
  {
   "cell_type": "code",
   "execution_count": 43,
   "id": "d1c974f3",
   "metadata": {
    "ExecuteTime": {
     "end_time": "2022-06-01T03:09:04.646747Z",
     "start_time": "2022-06-01T03:08:19.401365Z"
    }
   },
   "outputs": [
    {
     "data": {
      "text/html": [
       "<div>\n",
       "<style scoped>\n",
       "    .dataframe tbody tr th:only-of-type {\n",
       "        vertical-align: middle;\n",
       "    }\n",
       "\n",
       "    .dataframe tbody tr th {\n",
       "        vertical-align: top;\n",
       "    }\n",
       "\n",
       "    .dataframe thead th {\n",
       "        text-align: right;\n",
       "    }\n",
       "</style>\n",
       "<table border=\"1\" class=\"dataframe\">\n",
       "  <thead>\n",
       "    <tr style=\"text-align: right;\">\n",
       "      <th></th>\n",
       "      <th>address</th>\n",
       "      <th>degree</th>\n",
       "      <th>in_degree</th>\n",
       "      <th>out_degree</th>\n",
       "      <th>fraud_flag</th>\n",
       "    </tr>\n",
       "  </thead>\n",
       "  <tbody>\n",
       "    <tr>\n",
       "      <th>0</th>\n",
       "      <td>1KYBdPr6dL8AnMzgacWrsojLupct3CNx4A</td>\n",
       "      <td>0</td>\n",
       "      <td>0</td>\n",
       "      <td>0</td>\n",
       "      <td>0</td>\n",
       "    </tr>\n",
       "    <tr>\n",
       "      <th>1</th>\n",
       "      <td>34LxvX15nrj1TW9pnsPC1uLPewoEb6dYrF</td>\n",
       "      <td>93</td>\n",
       "      <td>54</td>\n",
       "      <td>39</td>\n",
       "      <td>1</td>\n",
       "    </tr>\n",
       "    <tr>\n",
       "      <th>2</th>\n",
       "      <td>1LKXkHfFYjcumsq2UL5fNZXkBinS6SbzFP</td>\n",
       "      <td>0</td>\n",
       "      <td>0</td>\n",
       "      <td>0</td>\n",
       "      <td>0</td>\n",
       "    </tr>\n",
       "    <tr>\n",
       "      <th>3</th>\n",
       "      <td>1GfvXSsDRNCbkhYzme6xRJ8YDbk2WReSm2</td>\n",
       "      <td>1</td>\n",
       "      <td>0</td>\n",
       "      <td>1</td>\n",
       "      <td>0</td>\n",
       "    </tr>\n",
       "    <tr>\n",
       "      <th>4</th>\n",
       "      <td>1BbjXMhnQtFbvaBMEjuX9Npnk7R1HSVqAW</td>\n",
       "      <td>3</td>\n",
       "      <td>1</td>\n",
       "      <td>2</td>\n",
       "      <td>0</td>\n",
       "    </tr>\n",
       "  </tbody>\n",
       "</table>\n",
       "</div>"
      ],
      "text/plain": [
       "                              address  degree  in_degree  out_degree  \\\n",
       "0  1KYBdPr6dL8AnMzgacWrsojLupct3CNx4A       0          0           0   \n",
       "1  34LxvX15nrj1TW9pnsPC1uLPewoEb6dYrF      93         54          39   \n",
       "2  1LKXkHfFYjcumsq2UL5fNZXkBinS6SbzFP       0          0           0   \n",
       "3  1GfvXSsDRNCbkhYzme6xRJ8YDbk2WReSm2       1          0           1   \n",
       "4  1BbjXMhnQtFbvaBMEjuX9Npnk7R1HSVqAW       3          1           2   \n",
       "\n",
       "   fraud_flag  \n",
       "0           0  \n",
       "1           1  \n",
       "2           0  \n",
       "3           0  \n",
       "4           0  "
      ]
     },
     "execution_count": 43,
     "metadata": {},
     "output_type": "execute_result"
    }
   ],
   "source": [
    "# Add fraud flag\n",
    "\n",
    "nodes_dbs = nodes_dbs.assign(**dict.fromkeys(['fraud_flag'], 0))\n",
    "\n",
    "for i in fr_nodes:\n",
    "    nodes_dbs.loc[nodes_dbs.address == i, 'fraud_flag'] = 1\n",
    "    \n",
    "nodes_dbs.head()"
   ]
  },
  {
   "cell_type": "code",
   "execution_count": 44,
   "id": "2f8391c7",
   "metadata": {
    "ExecuteTime": {
     "end_time": "2022-06-01T03:09:04.701669Z",
     "start_time": "2022-06-01T03:09:04.651731Z"
    }
   },
   "outputs": [
    {
     "data": {
      "text/html": [
       "<div>\n",
       "<style scoped>\n",
       "    .dataframe tbody tr th:only-of-type {\n",
       "        vertical-align: middle;\n",
       "    }\n",
       "\n",
       "    .dataframe tbody tr th {\n",
       "        vertical-align: top;\n",
       "    }\n",
       "\n",
       "    .dataframe thead th {\n",
       "        text-align: right;\n",
       "    }\n",
       "</style>\n",
       "<table border=\"1\" class=\"dataframe\">\n",
       "  <thead>\n",
       "    <tr style=\"text-align: right;\">\n",
       "      <th></th>\n",
       "      <th>degree</th>\n",
       "      <th>in_degree</th>\n",
       "      <th>out_degree</th>\n",
       "    </tr>\n",
       "  </thead>\n",
       "  <tbody>\n",
       "    <tr>\n",
       "      <th>count</th>\n",
       "      <td>49999.000000</td>\n",
       "      <td>49999.000000</td>\n",
       "      <td>49999.000000</td>\n",
       "    </tr>\n",
       "    <tr>\n",
       "      <th>mean</th>\n",
       "      <td>12.913858</td>\n",
       "      <td>6.456929</td>\n",
       "      <td>6.456929</td>\n",
       "    </tr>\n",
       "    <tr>\n",
       "      <th>std</th>\n",
       "      <td>114.697504</td>\n",
       "      <td>56.932095</td>\n",
       "      <td>79.298423</td>\n",
       "    </tr>\n",
       "    <tr>\n",
       "      <th>min</th>\n",
       "      <td>0.000000</td>\n",
       "      <td>0.000000</td>\n",
       "      <td>0.000000</td>\n",
       "    </tr>\n",
       "    <tr>\n",
       "      <th>25%</th>\n",
       "      <td>0.000000</td>\n",
       "      <td>0.000000</td>\n",
       "      <td>0.000000</td>\n",
       "    </tr>\n",
       "    <tr>\n",
       "      <th>50%</th>\n",
       "      <td>1.000000</td>\n",
       "      <td>0.000000</td>\n",
       "      <td>0.000000</td>\n",
       "    </tr>\n",
       "    <tr>\n",
       "      <th>75%</th>\n",
       "      <td>7.000000</td>\n",
       "      <td>2.000000</td>\n",
       "      <td>2.000000</td>\n",
       "    </tr>\n",
       "    <tr>\n",
       "      <th>max</th>\n",
       "      <td>9643.000000</td>\n",
       "      <td>3721.000000</td>\n",
       "      <td>6799.000000</td>\n",
       "    </tr>\n",
       "  </tbody>\n",
       "</table>\n",
       "</div>"
      ],
      "text/plain": [
       "             degree     in_degree    out_degree\n",
       "count  49999.000000  49999.000000  49999.000000\n",
       "mean      12.913858      6.456929      6.456929\n",
       "std      114.697504     56.932095     79.298423\n",
       "min        0.000000      0.000000      0.000000\n",
       "25%        0.000000      0.000000      0.000000\n",
       "50%        1.000000      0.000000      0.000000\n",
       "75%        7.000000      2.000000      2.000000\n",
       "max     9643.000000   3721.000000   6799.000000"
      ]
     },
     "execution_count": 44,
     "metadata": {},
     "output_type": "execute_result"
    }
   ],
   "source": [
    "# Describe sample properties overall\n",
    "nodes_dbs[['degree', 'in_degree', 'out_degree']].describe()"
   ]
  },
  {
   "cell_type": "code",
   "execution_count": 45,
   "id": "c1b21590",
   "metadata": {
    "ExecuteTime": {
     "end_time": "2022-06-01T03:09:04.754234Z",
     "start_time": "2022-06-01T03:09:04.708263Z"
    }
   },
   "outputs": [
    {
     "data": {
      "text/html": [
       "<div>\n",
       "<style scoped>\n",
       "    .dataframe tbody tr th:only-of-type {\n",
       "        vertical-align: middle;\n",
       "    }\n",
       "\n",
       "    .dataframe tbody tr th {\n",
       "        vertical-align: top;\n",
       "    }\n",
       "\n",
       "    .dataframe thead th {\n",
       "        text-align: right;\n",
       "    }\n",
       "</style>\n",
       "<table border=\"1\" class=\"dataframe\">\n",
       "  <thead>\n",
       "    <tr style=\"text-align: right;\">\n",
       "      <th></th>\n",
       "      <th>degree</th>\n",
       "      <th>in_degree</th>\n",
       "      <th>out_degree</th>\n",
       "    </tr>\n",
       "  </thead>\n",
       "  <tbody>\n",
       "    <tr>\n",
       "      <th>count</th>\n",
       "      <td>4400.000000</td>\n",
       "      <td>4400.000000</td>\n",
       "      <td>4400.000000</td>\n",
       "    </tr>\n",
       "    <tr>\n",
       "      <th>mean</th>\n",
       "      <td>31.875682</td>\n",
       "      <td>14.293864</td>\n",
       "      <td>17.581818</td>\n",
       "    </tr>\n",
       "    <tr>\n",
       "      <th>std</th>\n",
       "      <td>331.904411</td>\n",
       "      <td>150.594424</td>\n",
       "      <td>224.841481</td>\n",
       "    </tr>\n",
       "    <tr>\n",
       "      <th>min</th>\n",
       "      <td>0.000000</td>\n",
       "      <td>0.000000</td>\n",
       "      <td>0.000000</td>\n",
       "    </tr>\n",
       "    <tr>\n",
       "      <th>25%</th>\n",
       "      <td>0.000000</td>\n",
       "      <td>0.000000</td>\n",
       "      <td>0.000000</td>\n",
       "    </tr>\n",
       "    <tr>\n",
       "      <th>50%</th>\n",
       "      <td>1.000000</td>\n",
       "      <td>0.000000</td>\n",
       "      <td>0.000000</td>\n",
       "    </tr>\n",
       "    <tr>\n",
       "      <th>75%</th>\n",
       "      <td>5.000000</td>\n",
       "      <td>2.000000</td>\n",
       "      <td>2.000000</td>\n",
       "    </tr>\n",
       "    <tr>\n",
       "      <th>max</th>\n",
       "      <td>9643.000000</td>\n",
       "      <td>3721.000000</td>\n",
       "      <td>6799.000000</td>\n",
       "    </tr>\n",
       "  </tbody>\n",
       "</table>\n",
       "</div>"
      ],
      "text/plain": [
       "            degree    in_degree   out_degree\n",
       "count  4400.000000  4400.000000  4400.000000\n",
       "mean     31.875682    14.293864    17.581818\n",
       "std     331.904411   150.594424   224.841481\n",
       "min       0.000000     0.000000     0.000000\n",
       "25%       0.000000     0.000000     0.000000\n",
       "50%       1.000000     0.000000     0.000000\n",
       "75%       5.000000     2.000000     2.000000\n",
       "max    9643.000000  3721.000000  6799.000000"
      ]
     },
     "execution_count": 45,
     "metadata": {},
     "output_type": "execute_result"
    }
   ],
   "source": [
    "# Describe Properties of Fraudulent Nodes\n",
    "\n",
    "nodes_dbs_fraud = nodes_dbs[nodes_dbs['fraud_flag'] == 1]\n",
    "nodes_dbs_fraud[['degree', 'in_degree', 'out_degree']].describe()"
   ]
  },
  {
   "cell_type": "code",
   "execution_count": 46,
   "id": "f1d9c5d5",
   "metadata": {
    "ExecuteTime": {
     "end_time": "2022-06-01T03:09:04.804373Z",
     "start_time": "2022-06-01T03:09:04.758215Z"
    }
   },
   "outputs": [
    {
     "data": {
      "text/html": [
       "<div>\n",
       "<style scoped>\n",
       "    .dataframe tbody tr th:only-of-type {\n",
       "        vertical-align: middle;\n",
       "    }\n",
       "\n",
       "    .dataframe tbody tr th {\n",
       "        vertical-align: top;\n",
       "    }\n",
       "\n",
       "    .dataframe thead th {\n",
       "        text-align: right;\n",
       "    }\n",
       "</style>\n",
       "<table border=\"1\" class=\"dataframe\">\n",
       "  <thead>\n",
       "    <tr style=\"text-align: right;\">\n",
       "      <th></th>\n",
       "      <th>degree</th>\n",
       "      <th>in_degree</th>\n",
       "      <th>out_degree</th>\n",
       "    </tr>\n",
       "  </thead>\n",
       "  <tbody>\n",
       "    <tr>\n",
       "      <th>count</th>\n",
       "      <td>45599.000000</td>\n",
       "      <td>45599.000000</td>\n",
       "      <td>45599.000000</td>\n",
       "    </tr>\n",
       "    <tr>\n",
       "      <th>mean</th>\n",
       "      <td>11.084169</td>\n",
       "      <td>5.700717</td>\n",
       "      <td>5.383451</td>\n",
       "    </tr>\n",
       "    <tr>\n",
       "      <th>std</th>\n",
       "      <td>61.313508</td>\n",
       "      <td>36.873296</td>\n",
       "      <td>44.775423</td>\n",
       "    </tr>\n",
       "    <tr>\n",
       "      <th>min</th>\n",
       "      <td>0.000000</td>\n",
       "      <td>0.000000</td>\n",
       "      <td>0.000000</td>\n",
       "    </tr>\n",
       "    <tr>\n",
       "      <th>25%</th>\n",
       "      <td>0.000000</td>\n",
       "      <td>0.000000</td>\n",
       "      <td>0.000000</td>\n",
       "    </tr>\n",
       "    <tr>\n",
       "      <th>50%</th>\n",
       "      <td>1.000000</td>\n",
       "      <td>0.000000</td>\n",
       "      <td>0.000000</td>\n",
       "    </tr>\n",
       "    <tr>\n",
       "      <th>75%</th>\n",
       "      <td>7.000000</td>\n",
       "      <td>2.000000</td>\n",
       "      <td>2.000000</td>\n",
       "    </tr>\n",
       "    <tr>\n",
       "      <th>max</th>\n",
       "      <td>5790.000000</td>\n",
       "      <td>2306.000000</td>\n",
       "      <td>5790.000000</td>\n",
       "    </tr>\n",
       "  </tbody>\n",
       "</table>\n",
       "</div>"
      ],
      "text/plain": [
       "             degree     in_degree    out_degree\n",
       "count  45599.000000  45599.000000  45599.000000\n",
       "mean      11.084169      5.700717      5.383451\n",
       "std       61.313508     36.873296     44.775423\n",
       "min        0.000000      0.000000      0.000000\n",
       "25%        0.000000      0.000000      0.000000\n",
       "50%        1.000000      0.000000      0.000000\n",
       "75%        7.000000      2.000000      2.000000\n",
       "max     5790.000000   2306.000000   5790.000000"
      ]
     },
     "execution_count": 46,
     "metadata": {},
     "output_type": "execute_result"
    }
   ],
   "source": [
    "# Describe Properties of Non-Fraudulent Nodes\n",
    "\n",
    "nodes_dbs_licit = nodes_dbs[nodes_dbs['fraud_flag'] == 0]\n",
    "nodes_dbs_licit[['degree', 'in_degree', 'out_degree']].describe()"
   ]
  },
  {
   "cell_type": "markdown",
   "id": "27196b12",
   "metadata": {},
   "source": [
    "Degree measures are significantly skewed towards higher amounts. This bias may be mitigated with a larger sample."
   ]
  },
  {
   "cell_type": "markdown",
   "id": "9ce76a22",
   "metadata": {},
   "source": [
    "*Graph*"
   ]
  },
  {
   "cell_type": "code",
   "execution_count": 47,
   "id": "cb105457",
   "metadata": {
    "ExecuteTime": {
     "end_time": "2022-06-01T03:09:09.236829Z",
     "start_time": "2022-06-01T03:09:04.813082Z"
    }
   },
   "outputs": [
    {
     "data": {
      "text/plain": [
       "0.0001291437485215963"
      ]
     },
     "execution_count": 47,
     "metadata": {},
     "output_type": "execute_result"
    }
   ],
   "source": [
    "# Density\n",
    "nx.density(G_dbs) # connectivity remains low"
   ]
  },
  {
   "cell_type": "code",
   "execution_count": 48,
   "id": "0dca0761",
   "metadata": {
    "ExecuteTime": {
     "end_time": "2022-06-01T03:09:30.660458Z",
     "start_time": "2022-06-01T03:09:09.240508Z"
    }
   },
   "outputs": [
    {
     "name": "stdout",
     "output_type": "stream",
     "text": [
      "The number of communities in randomly sampled graph is : 12\n"
     ]
    }
   ],
   "source": [
    "# Communities - k-Cliques\n",
    "\n",
    "com_generator_dbs = k_clique_communities(G_dbs.to_undirected(), k=10)\n",
    "com_dbs = next(com_generator_dbs)\n",
    "print('The number of communities in randomly sampled graph is : ' + str(len(com_dbs)))"
   ]
  },
  {
   "cell_type": "markdown",
   "id": "232ca720",
   "metadata": {},
   "source": [
    "This indicates the preservation of community structures. (Note: more communities than random sampler)"
   ]
  },
  {
   "cell_type": "code",
   "execution_count": null,
   "id": "1a6dc760",
   "metadata": {},
   "outputs": [],
   "source": []
  }
 ],
 "metadata": {
  "kernelspec": {
   "display_name": "Python 3 (ipykernel)",
   "language": "python",
   "name": "python3"
  },
  "language_info": {
   "codemirror_mode": {
    "name": "ipython",
    "version": 3
   },
   "file_extension": ".py",
   "mimetype": "text/x-python",
   "name": "python",
   "nbconvert_exporter": "python",
   "pygments_lexer": "ipython3",
   "version": "3.9.12"
  }
 },
 "nbformat": 4,
 "nbformat_minor": 5
}
