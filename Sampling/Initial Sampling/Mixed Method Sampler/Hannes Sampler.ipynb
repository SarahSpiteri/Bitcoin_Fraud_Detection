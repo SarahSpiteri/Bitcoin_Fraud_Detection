{
 "cells": [
  {
   "cell_type": "code",
   "execution_count": 1,
   "id": "c9ec57a9",
   "metadata": {
    "ExecuteTime": {
     "end_time": "2022-06-10T10:56:57.281477Z",
     "start_time": "2022-06-10T10:56:53.681398Z"
    }
   },
   "outputs": [],
   "source": [
    "# Requirements for Sample Creation and Descriptive Analysis\n",
    "import pandas as pd\n",
    "import numpy as np\n",
    "\n",
    "import networkx as nx\n",
    "from networkx.algorithms.community import k_clique_communities\n",
    "\n",
    "import random\n",
    "random.seed(42)\n",
    "\n",
    "import warnings\n",
    "warnings.filterwarnings('ignore')"
   ]
  },
  {
   "cell_type": "code",
   "execution_count": 2,
   "id": "8ef195f4",
   "metadata": {
    "ExecuteTime": {
     "end_time": "2022-06-10T10:57:37.076072Z",
     "start_time": "2022-06-10T10:56:57.281477Z"
    }
   },
   "outputs": [
    {
     "data": {
      "text/plain": [
       "(12579089, 9)"
      ]
     },
     "execution_count": 2,
     "metadata": {},
     "output_type": "execute_result"
    }
   ],
   "source": [
    "# Data with Self-Loops Excluded\n",
    "trans_3w = pd.read_csv('trans_3w_cl.csv')\n",
    "trans_3w.shape"
   ]
  },
  {
   "cell_type": "code",
   "execution_count": 3,
   "id": "d55a0405",
   "metadata": {
    "ExecuteTime": {
     "end_time": "2022-06-10T10:57:39.279627Z",
     "start_time": "2022-06-10T10:57:37.076072Z"
    }
   },
   "outputs": [
    {
     "data": {
      "text/plain": [
       "(12529162, 9)"
      ]
     },
     "execution_count": 3,
     "metadata": {},
     "output_type": "execute_result"
    }
   ],
   "source": [
    "# Remove Negative Ammounts\n",
    "trans_3w = trans_3w[trans_3w.ammount > 0]\n",
    "trans_3w.shape"
   ]
  },
  {
   "cell_type": "code",
   "execution_count": 4,
   "id": "61cb2ca0",
   "metadata": {
    "ExecuteTime": {
     "end_time": "2022-06-10T10:57:39.511636Z",
     "start_time": "2022-06-10T10:57:39.292584Z"
    }
   },
   "outputs": [
    {
     "name": "stdout",
     "output_type": "stream",
     "text": [
      "Number of Fraudulent/High-Risk Addresses:  4530\n"
     ]
    }
   ],
   "source": [
    "# Get list of fraudulent/high-risk nodes\n",
    "\n",
    "input_fr = trans_3w[trans_3w['input_flag'] == 1]\n",
    "infr = input_fr['input_address'].tolist()\n",
    "\n",
    "output_fr = trans_3w[trans_3w['output_flag'] == 1]\n",
    "outfr = output_fr['output_address'].tolist()\n",
    "\n",
    "fr_nodes = set(infr + outfr)\n",
    "print('Number of Fraudulent/High-Risk Addresses: ', len(fr_nodes))"
   ]
  },
  {
   "cell_type": "code",
   "execution_count": 5,
   "id": "3803db94",
   "metadata": {
    "ExecuteTime": {
     "end_time": "2022-06-10T10:57:39.559347Z",
     "start_time": "2022-06-10T10:57:39.514608Z"
    }
   },
   "outputs": [],
   "source": [
    "del input_fr, infr, output_fr, outfr # Removals due to MemoryError Concerns"
   ]
  },
  {
   "cell_type": "code",
   "execution_count": 6,
   "id": "4b9d4f63",
   "metadata": {
    "ExecuteTime": {
     "end_time": "2022-06-10T11:11:09.570038Z",
     "start_time": "2022-06-10T10:57:39.564643Z"
    }
   },
   "outputs": [],
   "source": [
    "# Obtain full network NetworkX Graph (no self-loops)\n",
    "G_full = nx.from_pandas_edgelist(trans_3w, 'input_address', 'output_address', edge_attr=['ammount', 'fees', 'block_time',\n",
    "                                'input_flag', 'output_flag'], create_using=nx.MultiDiGraph())"
   ]
  },
  {
   "cell_type": "code",
   "execution_count": 7,
   "id": "0ecba014",
   "metadata": {
    "ExecuteTime": {
     "end_time": "2022-06-10T11:11:20.882552Z",
     "start_time": "2022-06-10T11:11:09.601676Z"
    }
   },
   "outputs": [],
   "source": [
    "del trans_3w"
   ]
  },
  {
   "cell_type": "code",
   "execution_count": 8,
   "id": "9051fcb8",
   "metadata": {
    "ExecuteTime": {
     "end_time": "2022-06-10T13:52:51.149006Z",
     "start_time": "2022-06-10T11:11:21.359277Z"
    }
   },
   "outputs": [],
   "source": [
    "# Generator for giant component\n",
    "giant = max(nx.connected_components(G_full.to_undirected()))\n",
    "\n",
    "# Get sub-graph of Giant Component\n",
    "G_giant_u = G_full.subgraph(giant)\n",
    "G_giant_d = G_giant_u.to_directed()"
   ]
  },
  {
   "cell_type": "code",
   "execution_count": 9,
   "id": "0a48353b",
   "metadata": {
    "ExecuteTime": {
     "end_time": "2022-06-10T13:52:51.246507Z",
     "start_time": "2022-06-10T13:52:51.199635Z"
    }
   },
   "outputs": [],
   "source": [
    "del G_full"
   ]
  },
  {
   "cell_type": "code",
   "execution_count": 10,
   "id": "1a088017",
   "metadata": {
    "ExecuteTime": {
     "end_time": "2022-06-10T13:53:09.073259Z",
     "start_time": "2022-06-10T13:52:51.269716Z"
    }
   },
   "outputs": [
    {
     "data": {
      "text/plain": [
       "4361"
      ]
     },
     "execution_count": 10,
     "metadata": {},
     "output_type": "execute_result"
    }
   ],
   "source": [
    "# Keep Only Fraudulent nodes in Giant Component\n",
    "\n",
    "fr_nodes = list(set(list(G_giant_u.nodes)).intersection(fr_nodes))\n",
    "len(fr_nodes)"
   ]
  },
  {
   "cell_type": "code",
   "execution_count": 11,
   "id": "e9cd13d4",
   "metadata": {
    "ExecuteTime": {
     "end_time": "2022-06-10T13:53:09.309143Z",
     "start_time": "2022-06-10T13:53:09.100589Z"
    }
   },
   "outputs": [],
   "source": [
    "# Adjusted Chosen Sampler to Centre Exploration Around Fraudulent/High-Risk Nodes\n",
    "\n",
    "def sampling_the_graph(graph_directed, graph_undirected, fraud_sample, number_of_nodes):\n",
    "    \n",
    "    selected_nodes = []\n",
    "    \n",
    "    for i in fraud_sample:                                                 # for each fraudulent/high-risk node\n",
    "        fr_neighbors = [node for node in graph_undirected.neighbors(i)]    # find neighbors\n",
    "        if fr_neighbors != []:                                             # if the node has neighbors\n",
    "            fr_adj = random.choice(fr_neighbors)                           # choose 1 neighbor\n",
    "            if fr_adj not in fraud_sample:                                 # check if neighbor isn't already included\n",
    "                if fr_adj not in selected_nodes:\n",
    "                    selected_nodes.append(fr_adj)                          # add to selection\n",
    "            else:                                                          # if selection not made\n",
    "                if len(fr_neighbors) > 1:                                  # if node has more than 1 neighbor\n",
    "                    fr_neighbors.remove(fr_adj)                            # remove previous invalid choice as neighbor\n",
    "                    fr_adj2 = random.choice(fr_neighbors)                  # choose new neighbor\n",
    "                    if fr_adj2 not in fraud_sample:                        # check if already included\n",
    "                        if fr_adj2 not in selected_nodes:\n",
    "                            selected_nodes.append(fr_adj2)                 # if not included, add neighbor as selection\n",
    "                else:\n",
    "                    fraud_sample.remove(i)                                 # if no neighbor found remove node (reduces isolates)\n",
    "    \n",
    "    selected_nodes.extend(fraud_sample)                                    # combine fraud and selected neighbors list\n",
    "    list_of_nodes = list(set(list(graph_undirected.nodes)) - set(selected_nodes)) # determine amount required to reach the set number of nodes\n",
    "    \n",
    "    first_node = random.choice(list_of_nodes)                              # randomly choose starting node\n",
    "    selected_nodes.append(first_node)                                      # add node to selection\n",
    "    \n",
    "    while len(selected_nodes) != number_of_nodes:                          # until the set number of nodes is reached\n",
    "                                                                           # follow similar neighbor sampling procedure as before\n",
    "        next_candidates =  [node for node in graph_undirected.neighbors(selected_nodes[-1])] \n",
    "        if next_candidates != []:                                          \n",
    "            next_node = random.choice(next_candidates)                     \n",
    "            if next_node not in selected_nodes:                            \n",
    "                selected_nodes.append(next_node)                            \n",
    "            else: \n",
    "                next_node = random.choice(list_of_nodes)\n",
    "                if next_node not in selected_nodes:\n",
    "                    selected_nodes.append(next_node)\n",
    "                else:\n",
    "                    pass\n",
    "        else:\n",
    "            next_node = random.choice(list_of_nodes)\n",
    "            if next_node not in selected_nodes:\n",
    "                selected_nodes.append(next_node)\n",
    "            else:\n",
    "                pass\n",
    "        \n",
    "    return graph_directed.subgraph(selected_nodes).copy()"
   ]
  },
  {
   "cell_type": "code",
   "execution_count": 12,
   "id": "2ebf1b41",
   "metadata": {
    "ExecuteTime": {
     "end_time": "2022-06-10T13:58:21.312271Z",
     "start_time": "2022-06-10T13:53:09.314516Z"
    }
   },
   "outputs": [
    {
     "name": "stdout",
     "output_type": "stream",
     "text": [
      "MultiDiGraph with 60000 nodes and 178724 edges\n"
     ]
    }
   ],
   "source": [
    "# Get Sample\n",
    "G_sample = sampling_the_graph(G_giant_d, G_giant_u, fr_nodes, 60000)\n",
    "print(nx.info(G_sample))"
   ]
  },
  {
   "cell_type": "code",
   "execution_count": 13,
   "id": "1f9a88a9",
   "metadata": {
    "ExecuteTime": {
     "end_time": "2022-06-10T13:58:21.702645Z",
     "start_time": "2022-06-10T13:58:21.344599Z"
    }
   },
   "outputs": [
    {
     "name": "stdout",
     "output_type": "stream",
     "text": [
      "MultiDiGraph with 51856 nodes and 178724 edges\n"
     ]
    }
   ],
   "source": [
    "# Remove isolates (better data for the embedding and isolates are not representative of the data)\n",
    "G_sample.remove_nodes_from(list(nx.isolates(G_sample)))\n",
    "print(nx.info(G_sample))"
   ]
  },
  {
   "cell_type": "code",
   "execution_count": 14,
   "id": "8d561869",
   "metadata": {
    "ExecuteTime": {
     "end_time": "2022-06-10T14:13:52.686988Z",
     "start_time": "2022-06-10T13:58:21.708624Z"
    }
   },
   "outputs": [],
   "source": [
    "del G_giant_d, G_giant_u"
   ]
  },
  {
   "cell_type": "code",
   "execution_count": 15,
   "id": "673c1ebc",
   "metadata": {
    "ExecuteTime": {
     "end_time": "2022-06-10T14:14:08.919715Z",
     "start_time": "2022-06-10T14:13:52.734961Z"
    }
   },
   "outputs": [],
   "source": [
    "nx.write_pajek(G_sample, 'RW_Adjusted.net')"
   ]
  },
  {
   "cell_type": "markdown",
   "id": "89daa57a",
   "metadata": {},
   "source": [
    "*Sample Analysis*"
   ]
  },
  {
   "cell_type": "code",
   "execution_count": 16,
   "id": "a9c7c142",
   "metadata": {
    "ExecuteTime": {
     "end_time": "2022-06-10T14:14:11.312142Z",
     "start_time": "2022-06-10T14:14:08.919715Z"
    }
   },
   "outputs": [
    {
     "data": {
      "text/html": [
       "<div>\n",
       "<style scoped>\n",
       "    .dataframe tbody tr th:only-of-type {\n",
       "        vertical-align: middle;\n",
       "    }\n",
       "\n",
       "    .dataframe tbody tr th {\n",
       "        vertical-align: top;\n",
       "    }\n",
       "\n",
       "    .dataframe thead th {\n",
       "        text-align: right;\n",
       "    }\n",
       "</style>\n",
       "<table border=\"1\" class=\"dataframe\">\n",
       "  <thead>\n",
       "    <tr style=\"text-align: right;\">\n",
       "      <th></th>\n",
       "      <th>source</th>\n",
       "      <th>target</th>\n",
       "      <th>fees</th>\n",
       "      <th>input_flag</th>\n",
       "      <th>block_time</th>\n",
       "      <th>ammount</th>\n",
       "      <th>output_flag</th>\n",
       "    </tr>\n",
       "  </thead>\n",
       "  <tbody>\n",
       "    <tr>\n",
       "      <th>0</th>\n",
       "      <td>1DTDEcM7z2Rb3GfsMgmWNCZicYuigDy7jn</td>\n",
       "      <td>13RtxCzj9gCmJ3a3RS2qVszG7TPwFcJjy7</td>\n",
       "      <td>4548.151244</td>\n",
       "      <td>0</td>\n",
       "      <td>2017-02-20 10:10:41</td>\n",
       "      <td>2.003360e+06</td>\n",
       "      <td>1</td>\n",
       "    </tr>\n",
       "    <tr>\n",
       "      <th>1</th>\n",
       "      <td>1DTDEcM7z2Rb3GfsMgmWNCZicYuigDy7jn</td>\n",
       "      <td>1Gr8ScMEYStmDV1C1PHupj6tobqWboez4C</td>\n",
       "      <td>10141.848756</td>\n",
       "      <td>0</td>\n",
       "      <td>2017-02-20 10:10:41</td>\n",
       "      <td>4.467260e+06</td>\n",
       "      <td>0</td>\n",
       "    </tr>\n",
       "    <tr>\n",
       "      <th>2</th>\n",
       "      <td>179SbVMJ6tCkNvpKGuxANfTRmc4FsVd15B</td>\n",
       "      <td>171nHhkjQuA9LfCqNNBD8g3BsXUxcDEQhT</td>\n",
       "      <td>26.573580</td>\n",
       "      <td>0</td>\n",
       "      <td>2017-02-17 08:55:36</td>\n",
       "      <td>2.421987e+04</td>\n",
       "      <td>0</td>\n",
       "    </tr>\n",
       "    <tr>\n",
       "      <th>3</th>\n",
       "      <td>1NKHxfjPtc4wM4r9aT7rJexwRHudwgEoZB</td>\n",
       "      <td>32tzqhVGFsBgoDKfxHJTbQfx8kV2gog8JZ</td>\n",
       "      <td>804.666047</td>\n",
       "      <td>0</td>\n",
       "      <td>2017-02-17 18:22:45</td>\n",
       "      <td>9.925431e+05</td>\n",
       "      <td>0</td>\n",
       "    </tr>\n",
       "    <tr>\n",
       "      <th>4</th>\n",
       "      <td>1KREz64jTd3wHbaKEPD4wh6rLnvbEnixXp</td>\n",
       "      <td>1HBDmGchTfNuoqKhjyYw5DzGUncwsULmSx</td>\n",
       "      <td>31268.587819</td>\n",
       "      <td>0</td>\n",
       "      <td>2017-02-23 17:01:41</td>\n",
       "      <td>6.840141e+06</td>\n",
       "      <td>0</td>\n",
       "    </tr>\n",
       "  </tbody>\n",
       "</table>\n",
       "</div>"
      ],
      "text/plain": [
       "                               source                              target  \\\n",
       "0  1DTDEcM7z2Rb3GfsMgmWNCZicYuigDy7jn  13RtxCzj9gCmJ3a3RS2qVszG7TPwFcJjy7   \n",
       "1  1DTDEcM7z2Rb3GfsMgmWNCZicYuigDy7jn  1Gr8ScMEYStmDV1C1PHupj6tobqWboez4C   \n",
       "2  179SbVMJ6tCkNvpKGuxANfTRmc4FsVd15B  171nHhkjQuA9LfCqNNBD8g3BsXUxcDEQhT   \n",
       "3  1NKHxfjPtc4wM4r9aT7rJexwRHudwgEoZB  32tzqhVGFsBgoDKfxHJTbQfx8kV2gog8JZ   \n",
       "4  1KREz64jTd3wHbaKEPD4wh6rLnvbEnixXp  1HBDmGchTfNuoqKhjyYw5DzGUncwsULmSx   \n",
       "\n",
       "           fees  input_flag           block_time       ammount  output_flag  \n",
       "0   4548.151244           0  2017-02-20 10:10:41  2.003360e+06            1  \n",
       "1  10141.848756           0  2017-02-20 10:10:41  4.467260e+06            0  \n",
       "2     26.573580           0  2017-02-17 08:55:36  2.421987e+04            0  \n",
       "3    804.666047           0  2017-02-17 18:22:45  9.925431e+05            0  \n",
       "4  31268.587819           0  2017-02-23 17:01:41  6.840141e+06            0  "
      ]
     },
     "execution_count": 16,
     "metadata": {},
     "output_type": "execute_result"
    }
   ],
   "source": [
    "# Get DataFrame\n",
    "sample_df = nx.to_pandas_edgelist(G_sample) \n",
    "sample_df.head()"
   ]
  },
  {
   "cell_type": "code",
   "execution_count": 17,
   "id": "c2c73b31",
   "metadata": {
    "ExecuteTime": {
     "end_time": "2022-06-10T14:14:11.421165Z",
     "start_time": "2022-06-10T14:14:11.317744Z"
    }
   },
   "outputs": [
    {
     "data": {
      "text/plain": [
       "37153"
      ]
     },
     "execution_count": 17,
     "metadata": {},
     "output_type": "execute_result"
    }
   ],
   "source": [
    "# Number of unique input addresses\n",
    "sample_df['source'].nunique()"
   ]
  },
  {
   "cell_type": "code",
   "execution_count": 18,
   "id": "9715900a",
   "metadata": {
    "ExecuteTime": {
     "end_time": "2022-06-10T14:14:11.531675Z",
     "start_time": "2022-06-10T14:14:11.425908Z"
    }
   },
   "outputs": [
    {
     "data": {
      "text/plain": [
       "33890"
      ]
     },
     "execution_count": 18,
     "metadata": {},
     "output_type": "execute_result"
    }
   ],
   "source": [
    "# Number of unique output addresses\n",
    "sample_df['target'].nunique()"
   ]
  },
  {
   "cell_type": "markdown",
   "id": "dfea281d",
   "metadata": {},
   "source": [
    "Good variety of input and output addresses. Near balance between input and output addresses is also representative."
   ]
  },
  {
   "cell_type": "code",
   "execution_count": 19,
   "id": "99191f88",
   "metadata": {
    "ExecuteTime": {
     "end_time": "2022-06-10T14:14:11.720173Z",
     "start_time": "2022-06-10T14:14:11.537807Z"
    }
   },
   "outputs": [
    {
     "data": {
      "text/html": [
       "<div>\n",
       "<style scoped>\n",
       "    .dataframe tbody tr th:only-of-type {\n",
       "        vertical-align: middle;\n",
       "    }\n",
       "\n",
       "    .dataframe tbody tr th {\n",
       "        vertical-align: top;\n",
       "    }\n",
       "\n",
       "    .dataframe thead th {\n",
       "        text-align: right;\n",
       "    }\n",
       "</style>\n",
       "<table border=\"1\" class=\"dataframe\">\n",
       "  <thead>\n",
       "    <tr style=\"text-align: right;\">\n",
       "      <th></th>\n",
       "      <th>fees</th>\n",
       "      <th>input_flag</th>\n",
       "      <th>ammount</th>\n",
       "      <th>output_flag</th>\n",
       "    </tr>\n",
       "  </thead>\n",
       "  <tbody>\n",
       "    <tr>\n",
       "      <th>count</th>\n",
       "      <td>1.787240e+05</td>\n",
       "      <td>178724.000000</td>\n",
       "      <td>1.787240e+05</td>\n",
       "      <td>178724.000000</td>\n",
       "    </tr>\n",
       "    <tr>\n",
       "      <th>mean</th>\n",
       "      <td>1.308529e+04</td>\n",
       "      <td>0.025967</td>\n",
       "      <td>4.526818e+07</td>\n",
       "      <td>0.249340</td>\n",
       "    </tr>\n",
       "    <tr>\n",
       "      <th>std</th>\n",
       "      <td>5.230025e+04</td>\n",
       "      <td>0.159039</td>\n",
       "      <td>7.140305e+08</td>\n",
       "      <td>0.432632</td>\n",
       "    </tr>\n",
       "    <tr>\n",
       "      <th>min</th>\n",
       "      <td>0.000000e+00</td>\n",
       "      <td>0.000000</td>\n",
       "      <td>1.541388e-03</td>\n",
       "      <td>0.000000</td>\n",
       "    </tr>\n",
       "    <tr>\n",
       "      <th>25%</th>\n",
       "      <td>1.162407e+02</td>\n",
       "      <td>0.000000</td>\n",
       "      <td>3.507868e+04</td>\n",
       "      <td>0.000000</td>\n",
       "    </tr>\n",
       "    <tr>\n",
       "      <th>50%</th>\n",
       "      <td>2.060044e+03</td>\n",
       "      <td>0.000000</td>\n",
       "      <td>6.682752e+05</td>\n",
       "      <td>0.000000</td>\n",
       "    </tr>\n",
       "    <tr>\n",
       "      <th>75%</th>\n",
       "      <td>1.519264e+04</td>\n",
       "      <td>0.000000</td>\n",
       "      <td>8.321355e+06</td>\n",
       "      <td>0.000000</td>\n",
       "    </tr>\n",
       "    <tr>\n",
       "      <th>max</th>\n",
       "      <td>6.451863e+06</td>\n",
       "      <td>1.000000</td>\n",
       "      <td>2.683366e+11</td>\n",
       "      <td>1.000000</td>\n",
       "    </tr>\n",
       "  </tbody>\n",
       "</table>\n",
       "</div>"
      ],
      "text/plain": [
       "               fees     input_flag       ammount    output_flag\n",
       "count  1.787240e+05  178724.000000  1.787240e+05  178724.000000\n",
       "mean   1.308529e+04       0.025967  4.526818e+07       0.249340\n",
       "std    5.230025e+04       0.159039  7.140305e+08       0.432632\n",
       "min    0.000000e+00       0.000000  1.541388e-03       0.000000\n",
       "25%    1.162407e+02       0.000000  3.507868e+04       0.000000\n",
       "50%    2.060044e+03       0.000000  6.682752e+05       0.000000\n",
       "75%    1.519264e+04       0.000000  8.321355e+06       0.000000\n",
       "max    6.451863e+06       1.000000  2.683366e+11       1.000000"
      ]
     },
     "execution_count": 19,
     "metadata": {},
     "output_type": "execute_result"
    }
   ],
   "source": [
    "# View transaction properties\n",
    "sample_df.describe()"
   ]
  },
  {
   "cell_type": "markdown",
   "id": "20a28c10",
   "metadata": {},
   "source": [
    "Distribution of fees and amounts are representative of the overall data."
   ]
  },
  {
   "cell_type": "code",
   "execution_count": 20,
   "id": "02fe8313",
   "metadata": {
    "ExecuteTime": {
     "end_time": "2022-06-10T14:14:11.751328Z",
     "start_time": "2022-06-10T14:14:11.723351Z"
    }
   },
   "outputs": [
    {
     "data": {
      "text/plain": [
       "1569"
      ]
     },
     "execution_count": 20,
     "metadata": {},
     "output_type": "execute_result"
    }
   ],
   "source": [
    "# Number of unique timestamps\n",
    "sample_df['block_time'].nunique() # Almost all different timestamps included"
   ]
  },
  {
   "cell_type": "code",
   "execution_count": 21,
   "id": "7b80126f",
   "metadata": {
    "ExecuteTime": {
     "end_time": "2022-06-10T14:14:12.338658Z",
     "start_time": "2022-06-10T14:14:11.755314Z"
    }
   },
   "outputs": [],
   "source": [
    "# Get Node Properties\n",
    "\n",
    "address = [node for (node, val) in G_sample.degree()]\n",
    "degree = [val for (node, val) in G_sample.degree()]\n",
    "in_degree = [val for (node, val) in G_sample.in_degree()]\n",
    "out_degree = [val for (node, val) in G_sample.out_degree()]\n",
    "#eigen_centrality = nx.eigenvector_centrality(G_sample) # NetworkXNotImplemented: not implemented for multigraph type\n",
    "#eigen_centrality = [eigen_centrality[node] for node in eigen_centrality]"
   ]
  },
  {
   "cell_type": "code",
   "execution_count": 22,
   "id": "8a23b88c",
   "metadata": {
    "ExecuteTime": {
     "end_time": "2022-06-10T14:14:12.463355Z",
     "start_time": "2022-06-10T14:14:12.338658Z"
    }
   },
   "outputs": [],
   "source": [
    "# Add Properties to DataFrame\n",
    "\n",
    "nodes_sample = pd.DataFrame()\n",
    "nodes_sample['address'] = address\n",
    "nodes_sample['degree'] = degree\n",
    "nodes_sample['in_degree'] = in_degree\n",
    "nodes_sample['out_degree'] = out_degree\n",
    "#nodes_sample['eigen_centrality'] = eigen_centrality"
   ]
  },
  {
   "cell_type": "code",
   "execution_count": 23,
   "id": "d89d15db",
   "metadata": {
    "ExecuteTime": {
     "end_time": "2022-06-10T14:15:00.390752Z",
     "start_time": "2022-06-10T14:14:12.467339Z"
    }
   },
   "outputs": [
    {
     "data": {
      "text/html": [
       "<div>\n",
       "<style scoped>\n",
       "    .dataframe tbody tr th:only-of-type {\n",
       "        vertical-align: middle;\n",
       "    }\n",
       "\n",
       "    .dataframe tbody tr th {\n",
       "        vertical-align: top;\n",
       "    }\n",
       "\n",
       "    .dataframe thead th {\n",
       "        text-align: right;\n",
       "    }\n",
       "</style>\n",
       "<table border=\"1\" class=\"dataframe\">\n",
       "  <thead>\n",
       "    <tr style=\"text-align: right;\">\n",
       "      <th></th>\n",
       "      <th>address</th>\n",
       "      <th>degree</th>\n",
       "      <th>in_degree</th>\n",
       "      <th>out_degree</th>\n",
       "      <th>fraud_flag</th>\n",
       "    </tr>\n",
       "  </thead>\n",
       "  <tbody>\n",
       "    <tr>\n",
       "      <th>0</th>\n",
       "      <td>1DTDEcM7z2Rb3GfsMgmWNCZicYuigDy7jn</td>\n",
       "      <td>2</td>\n",
       "      <td>0</td>\n",
       "      <td>2</td>\n",
       "      <td>0</td>\n",
       "    </tr>\n",
       "    <tr>\n",
       "      <th>1</th>\n",
       "      <td>13X1s4yVdf6vKRLDZcn9HfobATMEAi5hWK</td>\n",
       "      <td>2</td>\n",
       "      <td>2</td>\n",
       "      <td>0</td>\n",
       "      <td>0</td>\n",
       "    </tr>\n",
       "    <tr>\n",
       "      <th>2</th>\n",
       "      <td>14oWdnfabS4XbRw5DKMz67YL7mvaUA4tNi</td>\n",
       "      <td>1</td>\n",
       "      <td>1</td>\n",
       "      <td>0</td>\n",
       "      <td>0</td>\n",
       "    </tr>\n",
       "    <tr>\n",
       "      <th>3</th>\n",
       "      <td>179SbVMJ6tCkNvpKGuxANfTRmc4FsVd15B</td>\n",
       "      <td>2</td>\n",
       "      <td>1</td>\n",
       "      <td>1</td>\n",
       "      <td>0</td>\n",
       "    </tr>\n",
       "    <tr>\n",
       "      <th>4</th>\n",
       "      <td>1AATCoSn5kLXF4XB77aDJniUEFm1A35sD1</td>\n",
       "      <td>8</td>\n",
       "      <td>8</td>\n",
       "      <td>0</td>\n",
       "      <td>0</td>\n",
       "    </tr>\n",
       "  </tbody>\n",
       "</table>\n",
       "</div>"
      ],
      "text/plain": [
       "                              address  degree  in_degree  out_degree  \\\n",
       "0  1DTDEcM7z2Rb3GfsMgmWNCZicYuigDy7jn       2          0           2   \n",
       "1  13X1s4yVdf6vKRLDZcn9HfobATMEAi5hWK       2          2           0   \n",
       "2  14oWdnfabS4XbRw5DKMz67YL7mvaUA4tNi       1          1           0   \n",
       "3  179SbVMJ6tCkNvpKGuxANfTRmc4FsVd15B       2          1           1   \n",
       "4  1AATCoSn5kLXF4XB77aDJniUEFm1A35sD1       8          8           0   \n",
       "\n",
       "   fraud_flag  \n",
       "0           0  \n",
       "1           0  \n",
       "2           0  \n",
       "3           0  \n",
       "4           0  "
      ]
     },
     "execution_count": 23,
     "metadata": {},
     "output_type": "execute_result"
    }
   ],
   "source": [
    "# Add fraud flag\n",
    "\n",
    "nodes_sample = nodes_sample.assign(**dict.fromkeys(['fraud_flag'], 0))\n",
    "\n",
    "for i in fr_nodes:\n",
    "    nodes_sample.loc[nodes_sample.address == i, 'fraud_flag'] = 1\n",
    "    \n",
    "nodes_sample.head()"
   ]
  },
  {
   "cell_type": "code",
   "execution_count": 24,
   "id": "4c53bf6f",
   "metadata": {
    "ExecuteTime": {
     "end_time": "2022-06-10T14:15:00.470438Z",
     "start_time": "2022-06-10T14:15:00.417815Z"
    }
   },
   "outputs": [
    {
     "data": {
      "text/html": [
       "<div>\n",
       "<style scoped>\n",
       "    .dataframe tbody tr th:only-of-type {\n",
       "        vertical-align: middle;\n",
       "    }\n",
       "\n",
       "    .dataframe tbody tr th {\n",
       "        vertical-align: top;\n",
       "    }\n",
       "\n",
       "    .dataframe thead th {\n",
       "        text-align: right;\n",
       "    }\n",
       "</style>\n",
       "<table border=\"1\" class=\"dataframe\">\n",
       "  <thead>\n",
       "    <tr style=\"text-align: right;\">\n",
       "      <th></th>\n",
       "      <th>degree</th>\n",
       "      <th>in_degree</th>\n",
       "      <th>out_degree</th>\n",
       "    </tr>\n",
       "  </thead>\n",
       "  <tbody>\n",
       "    <tr>\n",
       "      <th>count</th>\n",
       "      <td>51856.000000</td>\n",
       "      <td>51856.000000</td>\n",
       "      <td>51856.000000</td>\n",
       "    </tr>\n",
       "    <tr>\n",
       "      <th>mean</th>\n",
       "      <td>6.893089</td>\n",
       "      <td>3.446544</td>\n",
       "      <td>3.446544</td>\n",
       "    </tr>\n",
       "    <tr>\n",
       "      <th>std</th>\n",
       "      <td>76.168895</td>\n",
       "      <td>43.449918</td>\n",
       "      <td>47.634430</td>\n",
       "    </tr>\n",
       "    <tr>\n",
       "      <th>min</th>\n",
       "      <td>1.000000</td>\n",
       "      <td>0.000000</td>\n",
       "      <td>0.000000</td>\n",
       "    </tr>\n",
       "    <tr>\n",
       "      <th>25%</th>\n",
       "      <td>1.000000</td>\n",
       "      <td>0.000000</td>\n",
       "      <td>0.000000</td>\n",
       "    </tr>\n",
       "    <tr>\n",
       "      <th>50%</th>\n",
       "      <td>2.000000</td>\n",
       "      <td>1.000000</td>\n",
       "      <td>1.000000</td>\n",
       "    </tr>\n",
       "    <tr>\n",
       "      <th>75%</th>\n",
       "      <td>3.000000</td>\n",
       "      <td>1.000000</td>\n",
       "      <td>1.000000</td>\n",
       "    </tr>\n",
       "    <tr>\n",
       "      <th>max</th>\n",
       "      <td>6993.000000</td>\n",
       "      <td>3319.000000</td>\n",
       "      <td>4359.000000</td>\n",
       "    </tr>\n",
       "  </tbody>\n",
       "</table>\n",
       "</div>"
      ],
      "text/plain": [
       "             degree     in_degree    out_degree\n",
       "count  51856.000000  51856.000000  51856.000000\n",
       "mean       6.893089      3.446544      3.446544\n",
       "std       76.168895     43.449918     47.634430\n",
       "min        1.000000      0.000000      0.000000\n",
       "25%        1.000000      0.000000      0.000000\n",
       "50%        2.000000      1.000000      1.000000\n",
       "75%        3.000000      1.000000      1.000000\n",
       "max     6993.000000   3319.000000   4359.000000"
      ]
     },
     "execution_count": 24,
     "metadata": {},
     "output_type": "execute_result"
    }
   ],
   "source": [
    "# Describe sample properties overall\n",
    "nodes_sample[['degree', 'in_degree', 'out_degree']].describe()"
   ]
  },
  {
   "cell_type": "code",
   "execution_count": 25,
   "id": "e17b2262",
   "metadata": {
    "ExecuteTime": {
     "end_time": "2022-06-10T14:15:00.534066Z",
     "start_time": "2022-06-10T14:15:00.475423Z"
    }
   },
   "outputs": [
    {
     "data": {
      "text/html": [
       "<div>\n",
       "<style scoped>\n",
       "    .dataframe tbody tr th:only-of-type {\n",
       "        vertical-align: middle;\n",
       "    }\n",
       "\n",
       "    .dataframe tbody tr th {\n",
       "        vertical-align: top;\n",
       "    }\n",
       "\n",
       "    .dataframe thead th {\n",
       "        text-align: right;\n",
       "    }\n",
       "</style>\n",
       "<table border=\"1\" class=\"dataframe\">\n",
       "  <thead>\n",
       "    <tr style=\"text-align: right;\">\n",
       "      <th></th>\n",
       "      <th>degree</th>\n",
       "      <th>in_degree</th>\n",
       "      <th>out_degree</th>\n",
       "    </tr>\n",
       "  </thead>\n",
       "  <tbody>\n",
       "    <tr>\n",
       "      <th>count</th>\n",
       "      <td>3790.000000</td>\n",
       "      <td>3790.000000</td>\n",
       "      <td>3790.000000</td>\n",
       "    </tr>\n",
       "    <tr>\n",
       "      <th>mean</th>\n",
       "      <td>28.502375</td>\n",
       "      <td>12.114776</td>\n",
       "      <td>16.387599</td>\n",
       "    </tr>\n",
       "    <tr>\n",
       "      <th>std</th>\n",
       "      <td>239.230014</td>\n",
       "      <td>121.878013</td>\n",
       "      <td>152.294342</td>\n",
       "    </tr>\n",
       "    <tr>\n",
       "      <th>min</th>\n",
       "      <td>1.000000</td>\n",
       "      <td>0.000000</td>\n",
       "      <td>0.000000</td>\n",
       "    </tr>\n",
       "    <tr>\n",
       "      <th>25%</th>\n",
       "      <td>1.000000</td>\n",
       "      <td>0.000000</td>\n",
       "      <td>1.000000</td>\n",
       "    </tr>\n",
       "    <tr>\n",
       "      <th>50%</th>\n",
       "      <td>2.000000</td>\n",
       "      <td>0.000000</td>\n",
       "      <td>2.000000</td>\n",
       "    </tr>\n",
       "    <tr>\n",
       "      <th>75%</th>\n",
       "      <td>7.000000</td>\n",
       "      <td>2.000000</td>\n",
       "      <td>4.000000</td>\n",
       "    </tr>\n",
       "    <tr>\n",
       "      <th>max</th>\n",
       "      <td>6993.000000</td>\n",
       "      <td>3319.000000</td>\n",
       "      <td>4359.000000</td>\n",
       "    </tr>\n",
       "  </tbody>\n",
       "</table>\n",
       "</div>"
      ],
      "text/plain": [
       "            degree    in_degree   out_degree\n",
       "count  3790.000000  3790.000000  3790.000000\n",
       "mean     28.502375    12.114776    16.387599\n",
       "std     239.230014   121.878013   152.294342\n",
       "min       1.000000     0.000000     0.000000\n",
       "25%       1.000000     0.000000     1.000000\n",
       "50%       2.000000     0.000000     2.000000\n",
       "75%       7.000000     2.000000     4.000000\n",
       "max    6993.000000  3319.000000  4359.000000"
      ]
     },
     "execution_count": 25,
     "metadata": {},
     "output_type": "execute_result"
    }
   ],
   "source": [
    "# Describe Properties of Fraudulent Nodes\n",
    "\n",
    "nodes_s_fraud = nodes_sample[nodes_sample['fraud_flag'] == 1]\n",
    "nodes_s_fraud[['degree', 'in_degree', 'out_degree']].describe()"
   ]
  },
  {
   "cell_type": "code",
   "execution_count": 26,
   "id": "bc181758",
   "metadata": {
    "ExecuteTime": {
     "end_time": "2022-06-10T14:15:00.596953Z",
     "start_time": "2022-06-10T14:15:00.539594Z"
    }
   },
   "outputs": [
    {
     "data": {
      "text/html": [
       "<div>\n",
       "<style scoped>\n",
       "    .dataframe tbody tr th:only-of-type {\n",
       "        vertical-align: middle;\n",
       "    }\n",
       "\n",
       "    .dataframe tbody tr th {\n",
       "        vertical-align: top;\n",
       "    }\n",
       "\n",
       "    .dataframe thead th {\n",
       "        text-align: right;\n",
       "    }\n",
       "</style>\n",
       "<table border=\"1\" class=\"dataframe\">\n",
       "  <thead>\n",
       "    <tr style=\"text-align: right;\">\n",
       "      <th></th>\n",
       "      <th>degree</th>\n",
       "      <th>in_degree</th>\n",
       "      <th>out_degree</th>\n",
       "    </tr>\n",
       "  </thead>\n",
       "  <tbody>\n",
       "    <tr>\n",
       "      <th>count</th>\n",
       "      <td>48066.000000</td>\n",
       "      <td>48066.000000</td>\n",
       "      <td>48066.000000</td>\n",
       "    </tr>\n",
       "    <tr>\n",
       "      <th>mean</th>\n",
       "      <td>5.189198</td>\n",
       "      <td>2.763055</td>\n",
       "      <td>2.426143</td>\n",
       "    </tr>\n",
       "    <tr>\n",
       "      <th>std</th>\n",
       "      <td>41.326592</td>\n",
       "      <td>29.315445</td>\n",
       "      <td>24.603726</td>\n",
       "    </tr>\n",
       "    <tr>\n",
       "      <th>min</th>\n",
       "      <td>1.000000</td>\n",
       "      <td>0.000000</td>\n",
       "      <td>0.000000</td>\n",
       "    </tr>\n",
       "    <tr>\n",
       "      <th>25%</th>\n",
       "      <td>1.000000</td>\n",
       "      <td>0.000000</td>\n",
       "      <td>0.000000</td>\n",
       "    </tr>\n",
       "    <tr>\n",
       "      <th>50%</th>\n",
       "      <td>2.000000</td>\n",
       "      <td>1.000000</td>\n",
       "      <td>1.000000</td>\n",
       "    </tr>\n",
       "    <tr>\n",
       "      <th>75%</th>\n",
       "      <td>3.000000</td>\n",
       "      <td>1.000000</td>\n",
       "      <td>1.000000</td>\n",
       "    </tr>\n",
       "    <tr>\n",
       "      <th>max</th>\n",
       "      <td>3313.000000</td>\n",
       "      <td>2382.000000</td>\n",
       "      <td>3021.000000</td>\n",
       "    </tr>\n",
       "  </tbody>\n",
       "</table>\n",
       "</div>"
      ],
      "text/plain": [
       "             degree     in_degree    out_degree\n",
       "count  48066.000000  48066.000000  48066.000000\n",
       "mean       5.189198      2.763055      2.426143\n",
       "std       41.326592     29.315445     24.603726\n",
       "min        1.000000      0.000000      0.000000\n",
       "25%        1.000000      0.000000      0.000000\n",
       "50%        2.000000      1.000000      1.000000\n",
       "75%        3.000000      1.000000      1.000000\n",
       "max     3313.000000   2382.000000   3021.000000"
      ]
     },
     "execution_count": 26,
     "metadata": {},
     "output_type": "execute_result"
    }
   ],
   "source": [
    "# Describe Properties of Non-Fraudulent Nodes\n",
    "\n",
    "nodes_s_licit = nodes_sample[nodes_sample['fraud_flag'] == 0]\n",
    "nodes_s_licit[['degree', 'in_degree', 'out_degree']].describe()"
   ]
  },
  {
   "cell_type": "markdown",
   "id": "eae1b8d7",
   "metadata": {},
   "source": [
    "Degree distributions are close to the full dataset, but is slightly more skewed towards higher degree nodes."
   ]
  },
  {
   "cell_type": "code",
   "execution_count": 27,
   "id": "2ed09893",
   "metadata": {
    "ExecuteTime": {
     "end_time": "2022-06-10T14:15:00.765769Z",
     "start_time": "2022-06-10T14:15:00.600953Z"
    }
   },
   "outputs": [
    {
     "data": {
      "text/plain": [
       "6.646503281183846e-05"
      ]
     },
     "execution_count": 27,
     "metadata": {},
     "output_type": "execute_result"
    }
   ],
   "source": [
    "# Density\n",
    "nx.density(G_sample) # Graph remains weekly connected"
   ]
  },
  {
   "cell_type": "code",
   "execution_count": 28,
   "id": "013b8a53",
   "metadata": {
    "ExecuteTime": {
     "end_time": "2022-06-10T14:15:05.613754Z",
     "start_time": "2022-06-10T14:15:00.794673Z"
    }
   },
   "outputs": [
    {
     "name": "stdout",
     "output_type": "stream",
     "text": [
      "The number of communities in sample is : 19\n"
     ]
    }
   ],
   "source": [
    "# Communities - k-Cliques\n",
    "\n",
    "com_generator = k_clique_communities(G_sample.to_undirected(), k=10)\n",
    "com = next(com_generator)\n",
    "print('The number of communities in sample is : ' + str(len(com))) "
   ]
  },
  {
   "cell_type": "markdown",
   "id": "c9da303e",
   "metadata": {},
   "source": [
    "Adequate variety in community structures."
   ]
  },
  {
   "cell_type": "code",
   "execution_count": 29,
   "id": "3b023efe",
   "metadata": {
    "ExecuteTime": {
     "end_time": "2022-06-10T14:15:05.740316Z",
     "start_time": "2022-06-10T14:15:05.617596Z"
    }
   },
   "outputs": [],
   "source": [
    "del sample_df, address, degree, in_degree, out_degree, nodes_s_fraud, nodes_s_licit, com_generator, com"
   ]
  },
  {
   "cell_type": "markdown",
   "id": "2fdbfc0b",
   "metadata": {},
   "source": [
    "*Benchmark Embedding with Node2Vec*"
   ]
  },
  {
   "cell_type": "code",
   "execution_count": 30,
   "id": "45cbd387",
   "metadata": {
    "ExecuteTime": {
     "end_time": "2022-06-10T14:15:10.271530Z",
     "start_time": "2022-06-10T14:15:05.742274Z"
    }
   },
   "outputs": [],
   "source": [
    "# Requirements for test embeddings and classification\n",
    "from node2vec import Node2Vec\n",
    "from sklearn.model_selection import train_test_split, RandomizedSearchCV\n",
    "from xgboost import XGBClassifier\n",
    "from sklearn.metrics import recall_score, f1_score, confusion_matrix, ConfusionMatrixDisplay\n",
    "import matplotlib.pyplot as plt"
   ]
  },
  {
   "cell_type": "code",
   "execution_count": 31,
   "id": "4b58f39b",
   "metadata": {
    "ExecuteTime": {
     "end_time": "2022-06-10T14:15:10.298455Z",
     "start_time": "2022-06-10T14:15:10.271530Z"
    }
   },
   "outputs": [
    {
     "data": {
      "text/plain": [
       "False"
      ]
     },
     "execution_count": 31,
     "metadata": {},
     "output_type": "execute_result"
    }
   ],
   "source": [
    "nx.is_weighted(G_sample)"
   ]
  },
  {
   "cell_type": "code",
   "execution_count": 32,
   "id": "176914e7",
   "metadata": {
    "ExecuteTime": {
     "end_time": "2022-06-10T14:15:10.582354Z",
     "start_time": "2022-06-10T14:15:10.301423Z"
    }
   },
   "outputs": [
    {
     "data": {
      "text/plain": [
       "True"
      ]
     },
     "execution_count": 32,
     "metadata": {},
     "output_type": "execute_result"
    }
   ],
   "source": [
    "# Adjustment to make embedding work\n",
    "for u,v,d in G_sample.edges(data=True):\n",
    "    d['weight'] = 1\n",
    "    \n",
    "nx.is_weighted(G_sample)"
   ]
  },
  {
   "cell_type": "markdown",
   "id": "64bd5c6b",
   "metadata": {},
   "source": [
    "*Trans2Vev Parameters*"
   ]
  },
  {
   "cell_type": "code",
   "execution_count": 33,
   "id": "60332b8e",
   "metadata": {
    "ExecuteTime": {
     "end_time": "2022-06-10T14:16:52.597907Z",
     "start_time": "2022-06-10T14:15:10.584613Z"
    }
   },
   "outputs": [
    {
     "data": {
      "application/vnd.jupyter.widget-view+json": {
       "model_id": "889683d1deba4203a5e2a43536410155",
       "version_major": 2,
       "version_minor": 0
      },
      "text/plain": [
       "Computing transition probabilities:   0%|          | 0/51856 [00:00<?, ?it/s]"
      ]
     },
     "metadata": {},
     "output_type": "display_data"
    },
    {
     "name": "stderr",
     "output_type": "stream",
     "text": [
      "Generating walks (CPU: 1): 100%|██████████| 20/20 [00:16<00:00,  1.25it/s]\n"
     ]
    }
   ],
   "source": [
    "# Node2Vec Embedding from Leskovec‬ - Use parameters set in trans2vec paper\n",
    "\n",
    "trans2vec = Node2Vec(G_sample, dimensions=64, p=0.25, q=0.75, walk_length=5, num_walks=20, seed=42)\n",
    "model = trans2vec.fit(window=10)"
   ]
  },
  {
   "cell_type": "code",
   "execution_count": 34,
   "id": "7b308853",
   "metadata": {
    "ExecuteTime": {
     "end_time": "2022-06-10T14:16:54.865815Z",
     "start_time": "2022-06-10T14:16:52.606777Z"
    }
   },
   "outputs": [
    {
     "data": {
      "text/html": [
       "<div>\n",
       "<style scoped>\n",
       "    .dataframe tbody tr th:only-of-type {\n",
       "        vertical-align: middle;\n",
       "    }\n",
       "\n",
       "    .dataframe tbody tr th {\n",
       "        vertical-align: top;\n",
       "    }\n",
       "\n",
       "    .dataframe thead th {\n",
       "        text-align: right;\n",
       "    }\n",
       "</style>\n",
       "<table border=\"1\" class=\"dataframe\">\n",
       "  <thead>\n",
       "    <tr style=\"text-align: right;\">\n",
       "      <th></th>\n",
       "      <th>0</th>\n",
       "      <th>1</th>\n",
       "      <th>2</th>\n",
       "      <th>3</th>\n",
       "      <th>4</th>\n",
       "      <th>5</th>\n",
       "      <th>6</th>\n",
       "      <th>7</th>\n",
       "      <th>8</th>\n",
       "      <th>9</th>\n",
       "      <th>...</th>\n",
       "      <th>54</th>\n",
       "      <th>55</th>\n",
       "      <th>56</th>\n",
       "      <th>57</th>\n",
       "      <th>58</th>\n",
       "      <th>59</th>\n",
       "      <th>60</th>\n",
       "      <th>61</th>\n",
       "      <th>62</th>\n",
       "      <th>63</th>\n",
       "    </tr>\n",
       "  </thead>\n",
       "  <tbody>\n",
       "    <tr>\n",
       "      <th>0</th>\n",
       "      <td>0.038164</td>\n",
       "      <td>-0.239175</td>\n",
       "      <td>0.167899</td>\n",
       "      <td>0.249972</td>\n",
       "      <td>-0.011883</td>\n",
       "      <td>-0.034026</td>\n",
       "      <td>0.103758</td>\n",
       "      <td>0.212007</td>\n",
       "      <td>-0.063214</td>\n",
       "      <td>-0.061415</td>\n",
       "      <td>...</td>\n",
       "      <td>0.008495</td>\n",
       "      <td>0.028267</td>\n",
       "      <td>0.103765</td>\n",
       "      <td>-0.405222</td>\n",
       "      <td>-0.224229</td>\n",
       "      <td>0.204520</td>\n",
       "      <td>0.078716</td>\n",
       "      <td>0.111394</td>\n",
       "      <td>-0.074168</td>\n",
       "      <td>0.091364</td>\n",
       "    </tr>\n",
       "    <tr>\n",
       "      <th>1</th>\n",
       "      <td>-0.050084</td>\n",
       "      <td>-0.017901</td>\n",
       "      <td>-0.058803</td>\n",
       "      <td>0.362675</td>\n",
       "      <td>-0.081313</td>\n",
       "      <td>-0.453174</td>\n",
       "      <td>-0.149921</td>\n",
       "      <td>0.622479</td>\n",
       "      <td>-0.273260</td>\n",
       "      <td>0.024694</td>\n",
       "      <td>...</td>\n",
       "      <td>-0.031470</td>\n",
       "      <td>0.323750</td>\n",
       "      <td>0.375472</td>\n",
       "      <td>-0.582442</td>\n",
       "      <td>-0.329376</td>\n",
       "      <td>-0.098313</td>\n",
       "      <td>0.124539</td>\n",
       "      <td>-0.190466</td>\n",
       "      <td>-0.453323</td>\n",
       "      <td>-0.030641</td>\n",
       "    </tr>\n",
       "    <tr>\n",
       "      <th>2</th>\n",
       "      <td>0.105577</td>\n",
       "      <td>0.115944</td>\n",
       "      <td>0.388683</td>\n",
       "      <td>0.273821</td>\n",
       "      <td>0.071534</td>\n",
       "      <td>-0.272027</td>\n",
       "      <td>-0.130935</td>\n",
       "      <td>0.691015</td>\n",
       "      <td>0.078144</td>\n",
       "      <td>-0.135209</td>\n",
       "      <td>...</td>\n",
       "      <td>0.178249</td>\n",
       "      <td>0.432790</td>\n",
       "      <td>0.151647</td>\n",
       "      <td>-0.156447</td>\n",
       "      <td>-0.328040</td>\n",
       "      <td>0.436759</td>\n",
       "      <td>-0.047070</td>\n",
       "      <td>0.116126</td>\n",
       "      <td>-0.280103</td>\n",
       "      <td>0.223965</td>\n",
       "    </tr>\n",
       "    <tr>\n",
       "      <th>3</th>\n",
       "      <td>0.026996</td>\n",
       "      <td>-0.068618</td>\n",
       "      <td>0.141477</td>\n",
       "      <td>0.167249</td>\n",
       "      <td>-0.056948</td>\n",
       "      <td>-0.210644</td>\n",
       "      <td>-0.040966</td>\n",
       "      <td>0.117153</td>\n",
       "      <td>-0.006748</td>\n",
       "      <td>-0.010384</td>\n",
       "      <td>...</td>\n",
       "      <td>0.095370</td>\n",
       "      <td>0.006963</td>\n",
       "      <td>0.050227</td>\n",
       "      <td>-0.211998</td>\n",
       "      <td>-0.059738</td>\n",
       "      <td>0.156287</td>\n",
       "      <td>0.038605</td>\n",
       "      <td>-0.002400</td>\n",
       "      <td>-0.089662</td>\n",
       "      <td>-0.004154</td>\n",
       "    </tr>\n",
       "    <tr>\n",
       "      <th>4</th>\n",
       "      <td>0.160790</td>\n",
       "      <td>-0.761089</td>\n",
       "      <td>-0.176192</td>\n",
       "      <td>0.676253</td>\n",
       "      <td>-0.241109</td>\n",
       "      <td>-0.797080</td>\n",
       "      <td>0.390757</td>\n",
       "      <td>0.485474</td>\n",
       "      <td>-0.658676</td>\n",
       "      <td>0.034228</td>\n",
       "      <td>...</td>\n",
       "      <td>0.229378</td>\n",
       "      <td>0.164472</td>\n",
       "      <td>0.770675</td>\n",
       "      <td>-0.566770</td>\n",
       "      <td>-0.578354</td>\n",
       "      <td>0.370799</td>\n",
       "      <td>0.114533</td>\n",
       "      <td>-0.309339</td>\n",
       "      <td>-0.173818</td>\n",
       "      <td>0.233503</td>\n",
       "    </tr>\n",
       "  </tbody>\n",
       "</table>\n",
       "<p>5 rows × 64 columns</p>\n",
       "</div>"
      ],
      "text/plain": [
       "         0         1         2         3         4         5         6   \\\n",
       "0  0.038164 -0.239175  0.167899  0.249972 -0.011883 -0.034026  0.103758   \n",
       "1 -0.050084 -0.017901 -0.058803  0.362675 -0.081313 -0.453174 -0.149921   \n",
       "2  0.105577  0.115944  0.388683  0.273821  0.071534 -0.272027 -0.130935   \n",
       "3  0.026996 -0.068618  0.141477  0.167249 -0.056948 -0.210644 -0.040966   \n",
       "4  0.160790 -0.761089 -0.176192  0.676253 -0.241109 -0.797080  0.390757   \n",
       "\n",
       "         7         8         9   ...        54        55        56        57  \\\n",
       "0  0.212007 -0.063214 -0.061415  ...  0.008495  0.028267  0.103765 -0.405222   \n",
       "1  0.622479 -0.273260  0.024694  ... -0.031470  0.323750  0.375472 -0.582442   \n",
       "2  0.691015  0.078144 -0.135209  ...  0.178249  0.432790  0.151647 -0.156447   \n",
       "3  0.117153 -0.006748 -0.010384  ...  0.095370  0.006963  0.050227 -0.211998   \n",
       "4  0.485474 -0.658676  0.034228  ...  0.229378  0.164472  0.770675 -0.566770   \n",
       "\n",
       "         58        59        60        61        62        63  \n",
       "0 -0.224229  0.204520  0.078716  0.111394 -0.074168  0.091364  \n",
       "1 -0.329376 -0.098313  0.124539 -0.190466 -0.453323 -0.030641  \n",
       "2 -0.328040  0.436759 -0.047070  0.116126 -0.280103  0.223965  \n",
       "3 -0.059738  0.156287  0.038605 -0.002400 -0.089662 -0.004154  \n",
       "4 -0.578354  0.370799  0.114533 -0.309339 -0.173818  0.233503  \n",
       "\n",
       "[5 rows x 64 columns]"
      ]
     },
     "execution_count": 34,
     "metadata": {},
     "output_type": "execute_result"
    }
   ],
   "source": [
    "# Get Embedding as DataFrame\n",
    "\n",
    "emb_df = (pd.DataFrame([model.wv.get_vector(str(n)) for n in G_sample.nodes()]))\n",
    "emb_df.head()"
   ]
  },
  {
   "cell_type": "code",
   "execution_count": 35,
   "id": "3bda21ea",
   "metadata": {
    "ExecuteTime": {
     "end_time": "2022-06-10T14:16:54.881840Z",
     "start_time": "2022-06-10T14:16:54.870269Z"
    }
   },
   "outputs": [],
   "source": [
    "# Get target variabel\n",
    "\n",
    "flag = nodes_sample['fraud_flag']"
   ]
  },
  {
   "cell_type": "code",
   "execution_count": 36,
   "id": "6f8fb611",
   "metadata": {
    "ExecuteTime": {
     "end_time": "2022-06-10T14:16:54.959532Z",
     "start_time": "2022-06-10T14:16:54.885941Z"
    }
   },
   "outputs": [],
   "source": [
    "# Get train-test-split\n",
    "\n",
    "x_train, x_test, y_train, y_test = train_test_split(emb_df, flag, test_size=0.2, random_state=42)"
   ]
  },
  {
   "cell_type": "code",
   "execution_count": 37,
   "id": "0c690f5c",
   "metadata": {
    "ExecuteTime": {
     "end_time": "2022-06-10T14:43:56.636004Z",
     "start_time": "2022-06-10T14:16:54.962521Z"
    }
   },
   "outputs": [
    {
     "name": "stdout",
     "output_type": "stream",
     "text": [
      "Best estimator for XGBoost Classifier:\n",
      " XGBClassifier(base_score=0.5, booster='gbtree', callbacks=None,\n",
      "              colsample_bylevel=1, colsample_bynode=1, colsample_bytree=1,\n",
      "              early_stopping_rounds=None, enable_categorical=False,\n",
      "              eval_metric=None, gamma=0.4, gpu_id=-1, grow_policy='depthwise',\n",
      "              importance_type=None, interaction_constraints='',\n",
      "              learning_rate=0.6, max_bin=256, max_cat_to_onehot=4,\n",
      "              max_delta_step=0, max_depth=7, max_leaves=0, min_child_weight=1,\n",
      "              missing=nan, monotone_constraints='()', n_estimators=90, n_jobs=0,\n",
      "              num_parallel_tree=1, predictor='auto', random_state=42,\n",
      "              reg_alpha=0.4, reg_lambda=1.6, ...)\n"
     ]
    }
   ],
   "source": [
    "# Extreme Gradient Boosting (XGBoost)\n",
    "\n",
    "# Instanciate Model\n",
    "xgbc = XGBClassifier(random_state=42)\n",
    "\n",
    "# Hyperparameters grid\n",
    "xgb_grid = {'gamma': [0.1, 0.2, 0.4, 0.8, 1.6, 3.2, 6.4, 12.8],\n",
    "            'learning_rate': [0.05, 0.1, 0.15, 0.2, 0.25, 0.3, 0.4, 0.5, 0.6, 0.7, 0.8, 0.9],\n",
    "            'max_depth': range(3,10),\n",
    "            'n_estimators': range(50,100),\n",
    "            'reg_alpha': [0.1,0.2,0.4,0.8,1.6,3.2,6.4,12.8],\n",
    "            'reg_lambda': [0.1,0.2,0.4,0.8,1.6,3.2,6.4,12.8]}\n",
    "\n",
    "# Set RandomisedSearch\n",
    "xgb = RandomizedSearchCV(estimator=xgbc, param_distributions=xgb_grid, scoring='f1', random_state=42, cv=10)\n",
    "\n",
    "# Fit RandomisedSearch to training data\n",
    "xgb.fit(x_train, y_train)\n",
    "\n",
    "# List best hyperparameters\n",
    "print(\"Best estimator for XGBoost Classifier:\\n\", xgb.best_estimator_)"
   ]
  },
  {
   "cell_type": "code",
   "execution_count": 38,
   "id": "91e3de4c",
   "metadata": {
    "ExecuteTime": {
     "end_time": "2022-06-10T14:44:20.311869Z",
     "start_time": "2022-06-10T14:43:56.639202Z"
    }
   },
   "outputs": [
    {
     "data": {
      "text/html": [
       "<style>#sk-container-id-1 {color: black;background-color: white;}#sk-container-id-1 pre{padding: 0;}#sk-container-id-1 div.sk-toggleable {background-color: white;}#sk-container-id-1 label.sk-toggleable__label {cursor: pointer;display: block;width: 100%;margin-bottom: 0;padding: 0.3em;box-sizing: border-box;text-align: center;}#sk-container-id-1 label.sk-toggleable__label-arrow:before {content: \"▸\";float: left;margin-right: 0.25em;color: #696969;}#sk-container-id-1 label.sk-toggleable__label-arrow:hover:before {color: black;}#sk-container-id-1 div.sk-estimator:hover label.sk-toggleable__label-arrow:before {color: black;}#sk-container-id-1 div.sk-toggleable__content {max-height: 0;max-width: 0;overflow: hidden;text-align: left;background-color: #f0f8ff;}#sk-container-id-1 div.sk-toggleable__content pre {margin: 0.2em;color: black;border-radius: 0.25em;background-color: #f0f8ff;}#sk-container-id-1 input.sk-toggleable__control:checked~div.sk-toggleable__content {max-height: 200px;max-width: 100%;overflow: auto;}#sk-container-id-1 input.sk-toggleable__control:checked~label.sk-toggleable__label-arrow:before {content: \"▾\";}#sk-container-id-1 div.sk-estimator input.sk-toggleable__control:checked~label.sk-toggleable__label {background-color: #d4ebff;}#sk-container-id-1 div.sk-label input.sk-toggleable__control:checked~label.sk-toggleable__label {background-color: #d4ebff;}#sk-container-id-1 input.sk-hidden--visually {border: 0;clip: rect(1px 1px 1px 1px);clip: rect(1px, 1px, 1px, 1px);height: 1px;margin: -1px;overflow: hidden;padding: 0;position: absolute;width: 1px;}#sk-container-id-1 div.sk-estimator {font-family: monospace;background-color: #f0f8ff;border: 1px dotted black;border-radius: 0.25em;box-sizing: border-box;margin-bottom: 0.5em;}#sk-container-id-1 div.sk-estimator:hover {background-color: #d4ebff;}#sk-container-id-1 div.sk-parallel-item::after {content: \"\";width: 100%;border-bottom: 1px solid gray;flex-grow: 1;}#sk-container-id-1 div.sk-label:hover label.sk-toggleable__label {background-color: #d4ebff;}#sk-container-id-1 div.sk-serial::before {content: \"\";position: absolute;border-left: 1px solid gray;box-sizing: border-box;top: 0;bottom: 0;left: 50%;z-index: 0;}#sk-container-id-1 div.sk-serial {display: flex;flex-direction: column;align-items: center;background-color: white;padding-right: 0.2em;padding-left: 0.2em;position: relative;}#sk-container-id-1 div.sk-item {position: relative;z-index: 1;}#sk-container-id-1 div.sk-parallel {display: flex;align-items: stretch;justify-content: center;background-color: white;position: relative;}#sk-container-id-1 div.sk-item::before, #sk-container-id-1 div.sk-parallel-item::before {content: \"\";position: absolute;border-left: 1px solid gray;box-sizing: border-box;top: 0;bottom: 0;left: 50%;z-index: -1;}#sk-container-id-1 div.sk-parallel-item {display: flex;flex-direction: column;z-index: 1;position: relative;background-color: white;}#sk-container-id-1 div.sk-parallel-item:first-child::after {align-self: flex-end;width: 50%;}#sk-container-id-1 div.sk-parallel-item:last-child::after {align-self: flex-start;width: 50%;}#sk-container-id-1 div.sk-parallel-item:only-child::after {width: 0;}#sk-container-id-1 div.sk-dashed-wrapped {border: 1px dashed gray;margin: 0 0.4em 0.5em 0.4em;box-sizing: border-box;padding-bottom: 0.4em;background-color: white;}#sk-container-id-1 div.sk-label label {font-family: monospace;font-weight: bold;display: inline-block;line-height: 1.2em;}#sk-container-id-1 div.sk-label-container {text-align: center;}#sk-container-id-1 div.sk-container {/* jupyter's `normalize.less` sets `[hidden] { display: none; }` but bootstrap.min.css set `[hidden] { display: none !important; }` so we also need the `!important` here to be able to override the default hidden behavior on the sphinx rendered scikit-learn.org. See: https://github.com/scikit-learn/scikit-learn/issues/21755 */display: inline-block !important;position: relative;}#sk-container-id-1 div.sk-text-repr-fallback {display: none;}</style><div id=\"sk-container-id-1\" class=\"sk-top-container\"><div class=\"sk-text-repr-fallback\"><pre>XGBClassifier(base_score=0.5, booster=&#x27;gbtree&#x27;, callbacks=None,\n",
       "              colsample_bylevel=1, colsample_bynode=1, colsample_bytree=1,\n",
       "              early_stopping_rounds=None, enable_categorical=False,\n",
       "              eval_metric=None, gamma=0.4, gpu_id=-1, grow_policy=&#x27;depthwise&#x27;,\n",
       "              importance_type=None, interaction_constraints=&#x27;&#x27;,\n",
       "              learning_rate=0.6, max_bin=256, max_cat_to_onehot=4,\n",
       "              max_delta_step=0, max_depth=7, max_leaves=0, min_child_weight=1,\n",
       "              missing=nan, monotone_constraints=&#x27;()&#x27;, n_estimators=90, n_jobs=0,\n",
       "              num_parallel_tree=1, predictor=&#x27;auto&#x27;, random_state=42,\n",
       "              reg_alpha=0.4, reg_lambda=1.6, ...)</pre><b>In a Jupyter environment, please rerun this cell to show the HTML representation or trust the notebook. <br />On GitHub, the HTML representation is unable to render, please try loading this page with nbviewer.org.</b></div><div class=\"sk-container\" hidden><div class=\"sk-item\"><div class=\"sk-estimator sk-toggleable\"><input class=\"sk-toggleable__control sk-hidden--visually\" id=\"sk-estimator-id-1\" type=\"checkbox\" checked><label for=\"sk-estimator-id-1\" class=\"sk-toggleable__label sk-toggleable__label-arrow\">XGBClassifier</label><div class=\"sk-toggleable__content\"><pre>XGBClassifier(base_score=0.5, booster=&#x27;gbtree&#x27;, callbacks=None,\n",
       "              colsample_bylevel=1, colsample_bynode=1, colsample_bytree=1,\n",
       "              early_stopping_rounds=None, enable_categorical=False,\n",
       "              eval_metric=None, gamma=0.4, gpu_id=-1, grow_policy=&#x27;depthwise&#x27;,\n",
       "              importance_type=None, interaction_constraints=&#x27;&#x27;,\n",
       "              learning_rate=0.6, max_bin=256, max_cat_to_onehot=4,\n",
       "              max_delta_step=0, max_depth=7, max_leaves=0, min_child_weight=1,\n",
       "              missing=nan, monotone_constraints=&#x27;()&#x27;, n_estimators=90, n_jobs=0,\n",
       "              num_parallel_tree=1, predictor=&#x27;auto&#x27;, random_state=42,\n",
       "              reg_alpha=0.4, reg_lambda=1.6, ...)</pre></div></div></div></div></div>"
      ],
      "text/plain": [
       "XGBClassifier(base_score=0.5, booster='gbtree', callbacks=None,\n",
       "              colsample_bylevel=1, colsample_bynode=1, colsample_bytree=1,\n",
       "              early_stopping_rounds=None, enable_categorical=False,\n",
       "              eval_metric=None, gamma=0.4, gpu_id=-1, grow_policy='depthwise',\n",
       "              importance_type=None, interaction_constraints='',\n",
       "              learning_rate=0.6, max_bin=256, max_cat_to_onehot=4,\n",
       "              max_delta_step=0, max_depth=7, max_leaves=0, min_child_weight=1,\n",
       "              missing=nan, monotone_constraints='()', n_estimators=90, n_jobs=0,\n",
       "              num_parallel_tree=1, predictor='auto', random_state=42,\n",
       "              reg_alpha=0.4, reg_lambda=1.6, ...)"
      ]
     },
     "execution_count": 38,
     "metadata": {},
     "output_type": "execute_result"
    }
   ],
   "source": [
    "# Set Model\n",
    "xgbc = XGBClassifier(gamma=0.4, learning_rate=0.6, max_depth=7, n_estimators=90, reg_alpha=0.4, reg_lambda=1.6,\n",
    "                     random_state=42)\n",
    "xgbc.fit(x_train, y_train)"
   ]
  },
  {
   "cell_type": "code",
   "execution_count": 39,
   "id": "d0995aba",
   "metadata": {
    "ExecuteTime": {
     "end_time": "2022-06-10T14:44:20.537234Z",
     "start_time": "2022-06-10T14:44:20.315444Z"
    }
   },
   "outputs": [
    {
     "name": "stdout",
     "output_type": "stream",
     "text": [
      "Classifier with trans2vec hyperparameter embeddings\n",
      " \n",
      "Scores for flag=1\n",
      "In-sample F1 score:  0.999503393477901\n",
      "Out-of-sample F1 score:  0.23069001029866115\n",
      "In-sample Recall score:  0.999007279947055\n",
      "Out-of-sample Recall score:  0.14583333333333334\n",
      " \n",
      "Overall Scores\n",
      "In-sample F1 score:  0.9999276664156598\n",
      "Out-of-sample F1 score:  0.908054612020322\n",
      "In-sample Recall score:  0.9999276829621059\n",
      "Out-of-sample Recall score:  0.9279791747011183\n"
     ]
    }
   ],
   "source": [
    "# Performance\n",
    "\n",
    "pred_tr = xgbc.predict(x_train)\n",
    "pred_tst = xgbc.predict(x_test)\n",
    "\n",
    "print('Classifier with trans2vec hyperparameter embeddings')\n",
    "print(' ')\n",
    "print('Scores for flag=1')\n",
    "print('In-sample F1 score: ', f1_score(y_train, pred_tr))\n",
    "print('Out-of-sample F1 score: ', f1_score(y_test, pred_tst))\n",
    "print('In-sample Recall score: ', recall_score(y_train, pred_tr))\n",
    "print('Out-of-sample Recall score: ', recall_score(y_test, pred_tst))\n",
    "print(' ')\n",
    "print('Overall Scores')\n",
    "print('In-sample F1 score: ', f1_score(y_train, pred_tr, average='weighted'))\n",
    "print('Out-of-sample F1 score: ', f1_score(y_test, pred_tst, average='weighted'))\n",
    "print('In-sample Recall score: ', recall_score(y_train, pred_tr, average='weighted'))\n",
    "print('Out-of-sample Recall score: ', recall_score(y_test, pred_tst, average='weighted'))"
   ]
  },
  {
   "cell_type": "code",
   "execution_count": 40,
   "id": "ffa756af",
   "metadata": {
    "ExecuteTime": {
     "end_time": "2022-06-10T14:44:21.221213Z",
     "start_time": "2022-06-10T14:44:20.541344Z"
    }
   },
   "outputs": [
    {
     "data": {
      "image/png": "[encoded data removed]",
      "text/plain": [
       "<Figure size 432x288 with 2 Axes>"
      ]
     },
     "metadata": {
      "needs_background": "light"
     },
     "output_type": "display_data"
    }
   ],
   "source": [
    "# Confusion matrix - training\n",
    "\n",
    "cm = confusion_matrix(y_train, pred_tr, labels=xgbc.classes_)\n",
    "disp = ConfusionMatrixDisplay(cm, display_labels=xgbc.classes_)\n",
    "disp.plot()\n",
    "plt.show()"
   ]
  },
  {
   "cell_type": "code",
   "execution_count": 41,
   "id": "43ddb04d",
   "metadata": {
    "ExecuteTime": {
     "end_time": "2022-06-10T14:44:21.440899Z",
     "start_time": "2022-06-10T14:44:21.223451Z"
    }
   },
   "outputs": [
    {
     "data": {
      "image/png": "[encoded data removed]",
      "text/plain": [
       "<Figure size 432x288 with 2 Axes>"
      ]
     },
     "metadata": {
      "needs_background": "light"
     },
     "output_type": "display_data"
    }
   ],
   "source": [
    "# Confusion matrix - testing\n",
    "\n",
    "cm = confusion_matrix(y_test, pred_tst, labels=xgbc.classes_)\n",
    "disp = ConfusionMatrixDisplay(cm, display_labels=xgbc.classes_)\n",
    "disp.plot()\n",
    "plt.show()"
   ]
  },
  {
   "cell_type": "markdown",
   "id": "caa3e08e",
   "metadata": {},
   "source": [
    "*Node2Vec Parameters*"
   ]
  },
  {
   "cell_type": "code",
   "execution_count": 42,
   "id": "01e1b406",
   "metadata": {
    "ExecuteTime": {
     "end_time": "2022-06-10T14:53:32.937875Z",
     "start_time": "2022-06-10T14:44:21.442891Z"
    }
   },
   "outputs": [
    {
     "data": {
      "application/vnd.jupyter.widget-view+json": {
       "model_id": "b20907bdefcb43ae86b77be35a061810",
       "version_major": 2,
       "version_minor": 0
      },
      "text/plain": [
       "Computing transition probabilities:   0%|          | 0/51856 [00:00<?, ?it/s]"
      ]
     },
     "metadata": {},
     "output_type": "display_data"
    },
    {
     "name": "stderr",
     "output_type": "stream",
     "text": [
      "Generating walks (CPU: 1): 100%|██████████| 80/80 [01:41<00:00,  1.27s/it]\n"
     ]
    }
   ],
   "source": [
    "# Node2Vec Embedding - Use parameters set in node2vec paper\n",
    "\n",
    "node2vec = Node2Vec(G_sample, dimensions=100, p=0.5, q=2, walk_length=10, num_walks=80, seed=42)\n",
    "model = node2vec.fit(window=10)"
   ]
  },
  {
   "cell_type": "code",
   "execution_count": 43,
   "id": "35d4c8e7",
   "metadata": {
    "ExecuteTime": {
     "end_time": "2022-06-10T14:53:38.102433Z",
     "start_time": "2022-06-10T14:53:32.937875Z"
    }
   },
   "outputs": [
    {
     "data": {
      "text/html": [
       "<div>\n",
       "<style scoped>\n",
       "    .dataframe tbody tr th:only-of-type {\n",
       "        vertical-align: middle;\n",
       "    }\n",
       "\n",
       "    .dataframe tbody tr th {\n",
       "        vertical-align: top;\n",
       "    }\n",
       "\n",
       "    .dataframe thead th {\n",
       "        text-align: right;\n",
       "    }\n",
       "</style>\n",
       "<table border=\"1\" class=\"dataframe\">\n",
       "  <thead>\n",
       "    <tr style=\"text-align: right;\">\n",
       "      <th></th>\n",
       "      <th>0</th>\n",
       "      <th>1</th>\n",
       "      <th>2</th>\n",
       "      <th>3</th>\n",
       "      <th>4</th>\n",
       "      <th>5</th>\n",
       "      <th>6</th>\n",
       "      <th>7</th>\n",
       "      <th>8</th>\n",
       "      <th>9</th>\n",
       "      <th>...</th>\n",
       "      <th>90</th>\n",
       "      <th>91</th>\n",
       "      <th>92</th>\n",
       "      <th>93</th>\n",
       "      <th>94</th>\n",
       "      <th>95</th>\n",
       "      <th>96</th>\n",
       "      <th>97</th>\n",
       "      <th>98</th>\n",
       "      <th>99</th>\n",
       "    </tr>\n",
       "  </thead>\n",
       "  <tbody>\n",
       "    <tr>\n",
       "      <th>0</th>\n",
       "      <td>0.027270</td>\n",
       "      <td>0.538278</td>\n",
       "      <td>0.787143</td>\n",
       "      <td>0.233711</td>\n",
       "      <td>0.570094</td>\n",
       "      <td>-0.194816</td>\n",
       "      <td>0.142809</td>\n",
       "      <td>0.571221</td>\n",
       "      <td>-0.028449</td>\n",
       "      <td>0.011739</td>\n",
       "      <td>...</td>\n",
       "      <td>0.209228</td>\n",
       "      <td>0.046407</td>\n",
       "      <td>0.051570</td>\n",
       "      <td>-0.002648</td>\n",
       "      <td>0.604615</td>\n",
       "      <td>-0.086204</td>\n",
       "      <td>0.479220</td>\n",
       "      <td>-0.388378</td>\n",
       "      <td>-0.406922</td>\n",
       "      <td>-0.708049</td>\n",
       "    </tr>\n",
       "    <tr>\n",
       "      <th>1</th>\n",
       "      <td>0.181662</td>\n",
       "      <td>0.982898</td>\n",
       "      <td>0.963229</td>\n",
       "      <td>0.479386</td>\n",
       "      <td>0.373006</td>\n",
       "      <td>-0.239655</td>\n",
       "      <td>-0.302032</td>\n",
       "      <td>0.873567</td>\n",
       "      <td>-0.907775</td>\n",
       "      <td>0.336730</td>\n",
       "      <td>...</td>\n",
       "      <td>0.400884</td>\n",
       "      <td>0.336403</td>\n",
       "      <td>0.262946</td>\n",
       "      <td>-0.012977</td>\n",
       "      <td>1.003130</td>\n",
       "      <td>-0.268362</td>\n",
       "      <td>0.452574</td>\n",
       "      <td>-0.265178</td>\n",
       "      <td>-0.352706</td>\n",
       "      <td>0.872464</td>\n",
       "    </tr>\n",
       "    <tr>\n",
       "      <th>2</th>\n",
       "      <td>0.418079</td>\n",
       "      <td>0.522921</td>\n",
       "      <td>0.386028</td>\n",
       "      <td>-0.322120</td>\n",
       "      <td>-0.407107</td>\n",
       "      <td>-0.831720</td>\n",
       "      <td>-0.384758</td>\n",
       "      <td>0.609201</td>\n",
       "      <td>-0.644736</td>\n",
       "      <td>-0.633886</td>\n",
       "      <td>...</td>\n",
       "      <td>-0.341881</td>\n",
       "      <td>-0.235966</td>\n",
       "      <td>0.573080</td>\n",
       "      <td>-0.318222</td>\n",
       "      <td>1.052176</td>\n",
       "      <td>-0.049862</td>\n",
       "      <td>0.342245</td>\n",
       "      <td>-0.326902</td>\n",
       "      <td>0.168778</td>\n",
       "      <td>0.663090</td>\n",
       "    </tr>\n",
       "    <tr>\n",
       "      <th>3</th>\n",
       "      <td>-0.250257</td>\n",
       "      <td>0.162390</td>\n",
       "      <td>0.280271</td>\n",
       "      <td>0.600539</td>\n",
       "      <td>0.199177</td>\n",
       "      <td>-0.019584</td>\n",
       "      <td>-0.846131</td>\n",
       "      <td>0.646036</td>\n",
       "      <td>-0.774746</td>\n",
       "      <td>-0.454448</td>\n",
       "      <td>...</td>\n",
       "      <td>-0.188468</td>\n",
       "      <td>0.368484</td>\n",
       "      <td>0.371010</td>\n",
       "      <td>0.150063</td>\n",
       "      <td>0.597965</td>\n",
       "      <td>0.313499</td>\n",
       "      <td>-0.283214</td>\n",
       "      <td>-0.436023</td>\n",
       "      <td>-0.165516</td>\n",
       "      <td>0.709075</td>\n",
       "    </tr>\n",
       "    <tr>\n",
       "      <th>4</th>\n",
       "      <td>-0.487036</td>\n",
       "      <td>0.089973</td>\n",
       "      <td>1.012615</td>\n",
       "      <td>0.272676</td>\n",
       "      <td>0.548678</td>\n",
       "      <td>-0.763373</td>\n",
       "      <td>-0.866539</td>\n",
       "      <td>1.089965</td>\n",
       "      <td>0.256574</td>\n",
       "      <td>0.004732</td>\n",
       "      <td>...</td>\n",
       "      <td>0.383417</td>\n",
       "      <td>0.435064</td>\n",
       "      <td>-0.225958</td>\n",
       "      <td>0.399308</td>\n",
       "      <td>0.796924</td>\n",
       "      <td>0.543010</td>\n",
       "      <td>-0.607836</td>\n",
       "      <td>-0.553120</td>\n",
       "      <td>0.313642</td>\n",
       "      <td>0.784929</td>\n",
       "    </tr>\n",
       "  </tbody>\n",
       "</table>\n",
       "<p>5 rows × 100 columns</p>\n",
       "</div>"
      ],
      "text/plain": [
       "         0         1         2         3         4         5         6   \\\n",
       "0  0.027270  0.538278  0.787143  0.233711  0.570094 -0.194816  0.142809   \n",
       "1  0.181662  0.982898  0.963229  0.479386  0.373006 -0.239655 -0.302032   \n",
       "2  0.418079  0.522921  0.386028 -0.322120 -0.407107 -0.831720 -0.384758   \n",
       "3 -0.250257  0.162390  0.280271  0.600539  0.199177 -0.019584 -0.846131   \n",
       "4 -0.487036  0.089973  1.012615  0.272676  0.548678 -0.763373 -0.866539   \n",
       "\n",
       "         7         8         9   ...        90        91        92        93  \\\n",
       "0  0.571221 -0.028449  0.011739  ...  0.209228  0.046407  0.051570 -0.002648   \n",
       "1  0.873567 -0.907775  0.336730  ...  0.400884  0.336403  0.262946 -0.012977   \n",
       "2  0.609201 -0.644736 -0.633886  ... -0.341881 -0.235966  0.573080 -0.318222   \n",
       "3  0.646036 -0.774746 -0.454448  ... -0.188468  0.368484  0.371010  0.150063   \n",
       "4  1.089965  0.256574  0.004732  ...  0.383417  0.435064 -0.225958  0.399308   \n",
       "\n",
       "         94        95        96        97        98        99  \n",
       "0  0.604615 -0.086204  0.479220 -0.388378 -0.406922 -0.708049  \n",
       "1  1.003130 -0.268362  0.452574 -0.265178 -0.352706  0.872464  \n",
       "2  1.052176 -0.049862  0.342245 -0.326902  0.168778  0.663090  \n",
       "3  0.597965  0.313499 -0.283214 -0.436023 -0.165516  0.709075  \n",
       "4  0.796924  0.543010 -0.607836 -0.553120  0.313642  0.784929  \n",
       "\n",
       "[5 rows x 100 columns]"
      ]
     },
     "execution_count": 43,
     "metadata": {},
     "output_type": "execute_result"
    }
   ],
   "source": [
    "# Get Embedding as DataFrame\n",
    "\n",
    "emb_df = (pd.DataFrame([model.wv.get_vector(str(n)) for n in G_sample.nodes()]))\n",
    "emb_df.head()"
   ]
  },
  {
   "cell_type": "code",
   "execution_count": 44,
   "id": "90dec3ff",
   "metadata": {
    "ExecuteTime": {
     "end_time": "2022-06-10T14:53:38.199375Z",
     "start_time": "2022-06-10T14:53:38.106350Z"
    }
   },
   "outputs": [],
   "source": [
    "# Get train-test-split\n",
    "\n",
    "x_train, x_test, y_train, y_test = train_test_split(emb_df, flag, test_size=0.2, random_state=42)"
   ]
  },
  {
   "cell_type": "code",
   "execution_count": 45,
   "id": "eaab1e14",
   "metadata": {
    "ExecuteTime": {
     "end_time": "2022-06-10T14:54:07.713698Z",
     "start_time": "2022-06-10T14:53:38.202423Z"
    }
   },
   "outputs": [
    {
     "data": {
      "text/html": [
       "<style>#sk-container-id-2 {color: black;background-color: white;}#sk-container-id-2 pre{padding: 0;}#sk-container-id-2 div.sk-toggleable {background-color: white;}#sk-container-id-2 label.sk-toggleable__label {cursor: pointer;display: block;width: 100%;margin-bottom: 0;padding: 0.3em;box-sizing: border-box;text-align: center;}#sk-container-id-2 label.sk-toggleable__label-arrow:before {content: \"▸\";float: left;margin-right: 0.25em;color: #696969;}#sk-container-id-2 label.sk-toggleable__label-arrow:hover:before {color: black;}#sk-container-id-2 div.sk-estimator:hover label.sk-toggleable__label-arrow:before {color: black;}#sk-container-id-2 div.sk-toggleable__content {max-height: 0;max-width: 0;overflow: hidden;text-align: left;background-color: #f0f8ff;}#sk-container-id-2 div.sk-toggleable__content pre {margin: 0.2em;color: black;border-radius: 0.25em;background-color: #f0f8ff;}#sk-container-id-2 input.sk-toggleable__control:checked~div.sk-toggleable__content {max-height: 200px;max-width: 100%;overflow: auto;}#sk-container-id-2 input.sk-toggleable__control:checked~label.sk-toggleable__label-arrow:before {content: \"▾\";}#sk-container-id-2 div.sk-estimator input.sk-toggleable__control:checked~label.sk-toggleable__label {background-color: #d4ebff;}#sk-container-id-2 div.sk-label input.sk-toggleable__control:checked~label.sk-toggleable__label {background-color: #d4ebff;}#sk-container-id-2 input.sk-hidden--visually {border: 0;clip: rect(1px 1px 1px 1px);clip: rect(1px, 1px, 1px, 1px);height: 1px;margin: -1px;overflow: hidden;padding: 0;position: absolute;width: 1px;}#sk-container-id-2 div.sk-estimator {font-family: monospace;background-color: #f0f8ff;border: 1px dotted black;border-radius: 0.25em;box-sizing: border-box;margin-bottom: 0.5em;}#sk-container-id-2 div.sk-estimator:hover {background-color: #d4ebff;}#sk-container-id-2 div.sk-parallel-item::after {content: \"\";width: 100%;border-bottom: 1px solid gray;flex-grow: 1;}#sk-container-id-2 div.sk-label:hover label.sk-toggleable__label {background-color: #d4ebff;}#sk-container-id-2 div.sk-serial::before {content: \"\";position: absolute;border-left: 1px solid gray;box-sizing: border-box;top: 0;bottom: 0;left: 50%;z-index: 0;}#sk-container-id-2 div.sk-serial {display: flex;flex-direction: column;align-items: center;background-color: white;padding-right: 0.2em;padding-left: 0.2em;position: relative;}#sk-container-id-2 div.sk-item {position: relative;z-index: 1;}#sk-container-id-2 div.sk-parallel {display: flex;align-items: stretch;justify-content: center;background-color: white;position: relative;}#sk-container-id-2 div.sk-item::before, #sk-container-id-2 div.sk-parallel-item::before {content: \"\";position: absolute;border-left: 1px solid gray;box-sizing: border-box;top: 0;bottom: 0;left: 50%;z-index: -1;}#sk-container-id-2 div.sk-parallel-item {display: flex;flex-direction: column;z-index: 1;position: relative;background-color: white;}#sk-container-id-2 div.sk-parallel-item:first-child::after {align-self: flex-end;width: 50%;}#sk-container-id-2 div.sk-parallel-item:last-child::after {align-self: flex-start;width: 50%;}#sk-container-id-2 div.sk-parallel-item:only-child::after {width: 0;}#sk-container-id-2 div.sk-dashed-wrapped {border: 1px dashed gray;margin: 0 0.4em 0.5em 0.4em;box-sizing: border-box;padding-bottom: 0.4em;background-color: white;}#sk-container-id-2 div.sk-label label {font-family: monospace;font-weight: bold;display: inline-block;line-height: 1.2em;}#sk-container-id-2 div.sk-label-container {text-align: center;}#sk-container-id-2 div.sk-container {/* jupyter's `normalize.less` sets `[hidden] { display: none; }` but bootstrap.min.css set `[hidden] { display: none !important; }` so we also need the `!important` here to be able to override the default hidden behavior on the sphinx rendered scikit-learn.org. See: https://github.com/scikit-learn/scikit-learn/issues/21755 */display: inline-block !important;position: relative;}#sk-container-id-2 div.sk-text-repr-fallback {display: none;}</style><div id=\"sk-container-id-2\" class=\"sk-top-container\"><div class=\"sk-text-repr-fallback\"><pre>XGBClassifier(base_score=0.5, booster=&#x27;gbtree&#x27;, callbacks=None,\n",
       "              colsample_bylevel=1, colsample_bynode=1, colsample_bytree=1,\n",
       "              early_stopping_rounds=None, enable_categorical=False,\n",
       "              eval_metric=None, gamma=0.4, gpu_id=-1, grow_policy=&#x27;depthwise&#x27;,\n",
       "              importance_type=None, interaction_constraints=&#x27;&#x27;,\n",
       "              learning_rate=0.6, max_bin=256, max_cat_to_onehot=4,\n",
       "              max_delta_step=0, max_depth=7, max_leaves=0, min_child_weight=1,\n",
       "              missing=nan, monotone_constraints=&#x27;()&#x27;, n_estimators=90, n_jobs=0,\n",
       "              num_parallel_tree=1, predictor=&#x27;auto&#x27;, random_state=42,\n",
       "              reg_alpha=0.4, reg_lambda=1.6, ...)</pre><b>In a Jupyter environment, please rerun this cell to show the HTML representation or trust the notebook. <br />On GitHub, the HTML representation is unable to render, please try loading this page with nbviewer.org.</b></div><div class=\"sk-container\" hidden><div class=\"sk-item\"><div class=\"sk-estimator sk-toggleable\"><input class=\"sk-toggleable__control sk-hidden--visually\" id=\"sk-estimator-id-2\" type=\"checkbox\" checked><label for=\"sk-estimator-id-2\" class=\"sk-toggleable__label sk-toggleable__label-arrow\">XGBClassifier</label><div class=\"sk-toggleable__content\"><pre>XGBClassifier(base_score=0.5, booster=&#x27;gbtree&#x27;, callbacks=None,\n",
       "              colsample_bylevel=1, colsample_bynode=1, colsample_bytree=1,\n",
       "              early_stopping_rounds=None, enable_categorical=False,\n",
       "              eval_metric=None, gamma=0.4, gpu_id=-1, grow_policy=&#x27;depthwise&#x27;,\n",
       "              importance_type=None, interaction_constraints=&#x27;&#x27;,\n",
       "              learning_rate=0.6, max_bin=256, max_cat_to_onehot=4,\n",
       "              max_delta_step=0, max_depth=7, max_leaves=0, min_child_weight=1,\n",
       "              missing=nan, monotone_constraints=&#x27;()&#x27;, n_estimators=90, n_jobs=0,\n",
       "              num_parallel_tree=1, predictor=&#x27;auto&#x27;, random_state=42,\n",
       "              reg_alpha=0.4, reg_lambda=1.6, ...)</pre></div></div></div></div></div>"
      ],
      "text/plain": [
       "XGBClassifier(base_score=0.5, booster='gbtree', callbacks=None,\n",
       "              colsample_bylevel=1, colsample_bynode=1, colsample_bytree=1,\n",
       "              early_stopping_rounds=None, enable_categorical=False,\n",
       "              eval_metric=None, gamma=0.4, gpu_id=-1, grow_policy='depthwise',\n",
       "              importance_type=None, interaction_constraints='',\n",
       "              learning_rate=0.6, max_bin=256, max_cat_to_onehot=4,\n",
       "              max_delta_step=0, max_depth=7, max_leaves=0, min_child_weight=1,\n",
       "              missing=nan, monotone_constraints='()', n_estimators=90, n_jobs=0,\n",
       "              num_parallel_tree=1, predictor='auto', random_state=42,\n",
       "              reg_alpha=0.4, reg_lambda=1.6, ...)"
      ]
     },
     "execution_count": 45,
     "metadata": {},
     "output_type": "execute_result"
    }
   ],
   "source": [
    "# Set Model\n",
    "xgbc = XGBClassifier(gamma=0.4, learning_rate=0.6, max_depth=7, n_estimators=90, reg_alpha=0.4, reg_lambda=1.6,\n",
    "                     random_state=42)\n",
    "xgbc.fit(x_train, y_train)"
   ]
  },
  {
   "cell_type": "code",
   "execution_count": 46,
   "id": "edac25a1",
   "metadata": {
    "ExecuteTime": {
     "end_time": "2022-06-10T14:54:07.985136Z",
     "start_time": "2022-06-10T14:54:07.717986Z"
    }
   },
   "outputs": [
    {
     "name": "stdout",
     "output_type": "stream",
     "text": [
      "Classifier with node2vec hyperparameter embeddings\n",
      " \n",
      "Scores for flag=1\n",
      "In-sample F1 score:  1.0\n",
      "Out-of-sample F1 score:  0.26528497409326424\n",
      "In-sample Recall score:  1.0\n",
      "Out-of-sample Recall score:  0.16666666666666666\n",
      " \n",
      "Overall Scores\n",
      "In-sample F1 score:  1.0\n",
      "Out-of-sample F1 score:  0.9124057965177262\n",
      "In-sample Recall score:  1.0\n",
      "Out-of-sample Recall score:  0.9316428846895488\n"
     ]
    }
   ],
   "source": [
    "# Performance\n",
    "\n",
    "pred_tr = xgbc.predict(x_train)\n",
    "pred_tst = xgbc.predict(x_test)\n",
    "\n",
    "print('Classifier with node2vec hyperparameter embeddings')\n",
    "print(' ')\n",
    "print('Scores for flag=1')\n",
    "print('In-sample F1 score: ', f1_score(y_train, pred_tr))\n",
    "print('Out-of-sample F1 score: ', f1_score(y_test, pred_tst))\n",
    "print('In-sample Recall score: ', recall_score(y_train, pred_tr))\n",
    "print('Out-of-sample Recall score: ', recall_score(y_test, pred_tst))\n",
    "print(' ')\n",
    "print('Overall Scores')\n",
    "print('In-sample F1 score: ', f1_score(y_train, pred_tr, average='weighted'))\n",
    "print('Out-of-sample F1 score: ', f1_score(y_test, pred_tst, average='weighted'))\n",
    "print('In-sample Recall score: ', recall_score(y_train, pred_tr, average='weighted'))\n",
    "print('Out-of-sample Recall score: ', recall_score(y_test, pred_tst, average='weighted'))"
   ]
  },
  {
   "cell_type": "code",
   "execution_count": 47,
   "id": "cbe52e53",
   "metadata": {
    "ExecuteTime": {
     "end_time": "2022-06-10T14:54:08.423718Z",
     "start_time": "2022-06-10T14:54:07.986789Z"
    }
   },
   "outputs": [
    {
     "data": {
      "image/png": "[encoded data removed]",
      "text/plain": [
       "<Figure size 432x288 with 2 Axes>"
      ]
     },
     "metadata": {
      "needs_background": "light"
     },
     "output_type": "display_data"
    }
   ],
   "source": [
    "# Confusion matrix - training\n",
    "\n",
    "cm = confusion_matrix(y_train, pred_tr, labels=xgbc.classes_)\n",
    "disp = ConfusionMatrixDisplay(cm, display_labels=xgbc.classes_)\n",
    "disp.plot()\n",
    "plt.show()"
   ]
  },
  {
   "cell_type": "code",
   "execution_count": 48,
   "id": "11c1997b",
   "metadata": {
    "ExecuteTime": {
     "end_time": "2022-06-10T14:54:08.629830Z",
     "start_time": "2022-06-10T14:54:08.424707Z"
    }
   },
   "outputs": [
    {
     "data": {
      "image/png": "[encoded data removed]",
      "text/plain": [
       "<Figure size 432x288 with 2 Axes>"
      ]
     },
     "metadata": {
      "needs_background": "light"
     },
     "output_type": "display_data"
    }
   ],
   "source": [
    "# Confusion matrix - testing\n",
    "\n",
    "cm = confusion_matrix(y_test, pred_tst, labels=xgbc.classes_)\n",
    "disp = ConfusionMatrixDisplay(cm, display_labels=xgbc.classes_)\n",
    "disp.plot()\n",
    "plt.show()"
   ]
  },
  {
   "cell_type": "markdown",
   "id": "fd0f6b03",
   "metadata": {},
   "source": [
    "*DeepWalk Parameters*"
   ]
  },
  {
   "cell_type": "code",
   "execution_count": 49,
   "id": "9932fd0b",
   "metadata": {
    "ExecuteTime": {
     "end_time": "2022-06-10T15:03:35.787113Z",
     "start_time": "2022-06-10T14:54:08.629830Z"
    }
   },
   "outputs": [
    {
     "data": {
      "application/vnd.jupyter.widget-view+json": {
       "model_id": "004c22e7c2134e3a8c0ea1cb43aba68c",
       "version_major": 2,
       "version_minor": 0
      },
      "text/plain": [
       "Computing transition probabilities:   0%|          | 0/51856 [00:00<?, ?it/s]"
      ]
     },
     "metadata": {},
     "output_type": "display_data"
    },
    {
     "name": "stderr",
     "output_type": "stream",
     "text": [
      "Generating walks (CPU: 1): 100%|██████████| 80/80 [01:48<00:00,  1.36s/it]\n"
     ]
    }
   ],
   "source": [
    "# Node2Vec Embedding - Use parameters set in DeepWalk paper\n",
    "\n",
    "DeepWalk = Node2Vec(G_sample, dimensions=128, p=1, q=1, walk_length=10, num_walks=80, seed=42)\n",
    "model = DeepWalk.fit(window=10)"
   ]
  },
  {
   "cell_type": "code",
   "execution_count": 50,
   "id": "113bb806",
   "metadata": {
    "ExecuteTime": {
     "end_time": "2022-06-10T15:03:44.741769Z",
     "start_time": "2022-06-10T15:03:35.841310Z"
    }
   },
   "outputs": [
    {
     "data": {
      "text/html": [
       "<div>\n",
       "<style scoped>\n",
       "    .dataframe tbody tr th:only-of-type {\n",
       "        vertical-align: middle;\n",
       "    }\n",
       "\n",
       "    .dataframe tbody tr th {\n",
       "        vertical-align: top;\n",
       "    }\n",
       "\n",
       "    .dataframe thead th {\n",
       "        text-align: right;\n",
       "    }\n",
       "</style>\n",
       "<table border=\"1\" class=\"dataframe\">\n",
       "  <thead>\n",
       "    <tr style=\"text-align: right;\">\n",
       "      <th></th>\n",
       "      <th>0</th>\n",
       "      <th>1</th>\n",
       "      <th>2</th>\n",
       "      <th>3</th>\n",
       "      <th>4</th>\n",
       "      <th>5</th>\n",
       "      <th>6</th>\n",
       "      <th>7</th>\n",
       "      <th>8</th>\n",
       "      <th>9</th>\n",
       "      <th>...</th>\n",
       "      <th>118</th>\n",
       "      <th>119</th>\n",
       "      <th>120</th>\n",
       "      <th>121</th>\n",
       "      <th>122</th>\n",
       "      <th>123</th>\n",
       "      <th>124</th>\n",
       "      <th>125</th>\n",
       "      <th>126</th>\n",
       "      <th>127</th>\n",
       "    </tr>\n",
       "  </thead>\n",
       "  <tbody>\n",
       "    <tr>\n",
       "      <th>0</th>\n",
       "      <td>-0.116572</td>\n",
       "      <td>0.012397</td>\n",
       "      <td>-0.113650</td>\n",
       "      <td>0.195807</td>\n",
       "      <td>0.321285</td>\n",
       "      <td>0.047590</td>\n",
       "      <td>-0.094790</td>\n",
       "      <td>0.117872</td>\n",
       "      <td>0.070857</td>\n",
       "      <td>0.567988</td>\n",
       "      <td>...</td>\n",
       "      <td>-0.103548</td>\n",
       "      <td>-0.325743</td>\n",
       "      <td>0.179575</td>\n",
       "      <td>0.129786</td>\n",
       "      <td>0.074102</td>\n",
       "      <td>-0.588281</td>\n",
       "      <td>-0.077452</td>\n",
       "      <td>-0.362276</td>\n",
       "      <td>-0.105145</td>\n",
       "      <td>-0.183302</td>\n",
       "    </tr>\n",
       "    <tr>\n",
       "      <th>1</th>\n",
       "      <td>0.090447</td>\n",
       "      <td>-0.742487</td>\n",
       "      <td>0.528586</td>\n",
       "      <td>0.754520</td>\n",
       "      <td>0.143256</td>\n",
       "      <td>-0.572822</td>\n",
       "      <td>0.280684</td>\n",
       "      <td>1.000723</td>\n",
       "      <td>-0.061295</td>\n",
       "      <td>0.034991</td>\n",
       "      <td>...</td>\n",
       "      <td>0.286499</td>\n",
       "      <td>0.205860</td>\n",
       "      <td>-0.300694</td>\n",
       "      <td>-0.502550</td>\n",
       "      <td>0.247341</td>\n",
       "      <td>-0.097389</td>\n",
       "      <td>-0.201394</td>\n",
       "      <td>-0.802958</td>\n",
       "      <td>-0.520679</td>\n",
       "      <td>-0.253931</td>\n",
       "    </tr>\n",
       "    <tr>\n",
       "      <th>2</th>\n",
       "      <td>-0.740172</td>\n",
       "      <td>0.322069</td>\n",
       "      <td>-0.387997</td>\n",
       "      <td>0.376565</td>\n",
       "      <td>-0.754778</td>\n",
       "      <td>-0.826606</td>\n",
       "      <td>0.018459</td>\n",
       "      <td>0.177940</td>\n",
       "      <td>-0.784380</td>\n",
       "      <td>-0.101303</td>\n",
       "      <td>...</td>\n",
       "      <td>-0.095227</td>\n",
       "      <td>-0.141957</td>\n",
       "      <td>-0.339197</td>\n",
       "      <td>-0.430199</td>\n",
       "      <td>0.123754</td>\n",
       "      <td>-0.231014</td>\n",
       "      <td>-0.053857</td>\n",
       "      <td>-0.483608</td>\n",
       "      <td>-0.554849</td>\n",
       "      <td>-0.194404</td>\n",
       "    </tr>\n",
       "    <tr>\n",
       "      <th>3</th>\n",
       "      <td>-0.092945</td>\n",
       "      <td>-0.280920</td>\n",
       "      <td>0.100708</td>\n",
       "      <td>0.518615</td>\n",
       "      <td>-0.011951</td>\n",
       "      <td>-0.232505</td>\n",
       "      <td>0.252681</td>\n",
       "      <td>-0.185301</td>\n",
       "      <td>0.484156</td>\n",
       "      <td>-0.284158</td>\n",
       "      <td>...</td>\n",
       "      <td>-0.161927</td>\n",
       "      <td>0.358503</td>\n",
       "      <td>0.087785</td>\n",
       "      <td>-0.150977</td>\n",
       "      <td>0.082215</td>\n",
       "      <td>0.149481</td>\n",
       "      <td>0.171644</td>\n",
       "      <td>-0.595003</td>\n",
       "      <td>0.043076</td>\n",
       "      <td>-0.512724</td>\n",
       "    </tr>\n",
       "    <tr>\n",
       "      <th>4</th>\n",
       "      <td>-0.214413</td>\n",
       "      <td>-0.196422</td>\n",
       "      <td>-0.130398</td>\n",
       "      <td>0.058327</td>\n",
       "      <td>-0.461860</td>\n",
       "      <td>-0.368849</td>\n",
       "      <td>-0.382635</td>\n",
       "      <td>0.536652</td>\n",
       "      <td>-0.024318</td>\n",
       "      <td>0.639259</td>\n",
       "      <td>...</td>\n",
       "      <td>0.296406</td>\n",
       "      <td>0.423094</td>\n",
       "      <td>-0.026433</td>\n",
       "      <td>-0.032628</td>\n",
       "      <td>0.049607</td>\n",
       "      <td>-0.088232</td>\n",
       "      <td>-0.092782</td>\n",
       "      <td>-0.166070</td>\n",
       "      <td>-0.286470</td>\n",
       "      <td>0.263831</td>\n",
       "    </tr>\n",
       "  </tbody>\n",
       "</table>\n",
       "<p>5 rows × 128 columns</p>\n",
       "</div>"
      ],
      "text/plain": [
       "        0         1         2         3         4         5         6    \\\n",
       "0 -0.116572  0.012397 -0.113650  0.195807  0.321285  0.047590 -0.094790   \n",
       "1  0.090447 -0.742487  0.528586  0.754520  0.143256 -0.572822  0.280684   \n",
       "2 -0.740172  0.322069 -0.387997  0.376565 -0.754778 -0.826606  0.018459   \n",
       "3 -0.092945 -0.280920  0.100708  0.518615 -0.011951 -0.232505  0.252681   \n",
       "4 -0.214413 -0.196422 -0.130398  0.058327 -0.461860 -0.368849 -0.382635   \n",
       "\n",
       "        7         8         9    ...       118       119       120       121  \\\n",
       "0  0.117872  0.070857  0.567988  ... -0.103548 -0.325743  0.179575  0.129786   \n",
       "1  1.000723 -0.061295  0.034991  ...  0.286499  0.205860 -0.300694 -0.502550   \n",
       "2  0.177940 -0.784380 -0.101303  ... -0.095227 -0.141957 -0.339197 -0.430199   \n",
       "3 -0.185301  0.484156 -0.284158  ... -0.161927  0.358503  0.087785 -0.150977   \n",
       "4  0.536652 -0.024318  0.639259  ...  0.296406  0.423094 -0.026433 -0.032628   \n",
       "\n",
       "        122       123       124       125       126       127  \n",
       "0  0.074102 -0.588281 -0.077452 -0.362276 -0.105145 -0.183302  \n",
       "1  0.247341 -0.097389 -0.201394 -0.802958 -0.520679 -0.253931  \n",
       "2  0.123754 -0.231014 -0.053857 -0.483608 -0.554849 -0.194404  \n",
       "3  0.082215  0.149481  0.171644 -0.595003  0.043076 -0.512724  \n",
       "4  0.049607 -0.088232 -0.092782 -0.166070 -0.286470  0.263831  \n",
       "\n",
       "[5 rows x 128 columns]"
      ]
     },
     "execution_count": 50,
     "metadata": {},
     "output_type": "execute_result"
    }
   ],
   "source": [
    "# Get Embedding as DataFrame\n",
    "\n",
    "emb_df = (pd.DataFrame([model.wv.get_vector(str(n)) for n in G_sample.nodes()]))\n",
    "emb_df.head()"
   ]
  },
  {
   "cell_type": "code",
   "execution_count": 51,
   "id": "0f03695c",
   "metadata": {
    "ExecuteTime": {
     "end_time": "2022-06-10T15:03:44.862620Z",
     "start_time": "2022-06-10T15:03:44.746754Z"
    }
   },
   "outputs": [],
   "source": [
    "# Get train-test-split\n",
    "\n",
    "x_train, x_test, y_train, y_test = train_test_split(emb_df, flag, test_size=0.2, random_state=42)"
   ]
  },
  {
   "cell_type": "code",
   "execution_count": 52,
   "id": "958bacd0",
   "metadata": {
    "ExecuteTime": {
     "end_time": "2022-06-10T15:04:26.526057Z",
     "start_time": "2022-06-10T15:03:44.868645Z"
    }
   },
   "outputs": [
    {
     "data": {
      "text/html": [
       "<style>#sk-container-id-3 {color: black;background-color: white;}#sk-container-id-3 pre{padding: 0;}#sk-container-id-3 div.sk-toggleable {background-color: white;}#sk-container-id-3 label.sk-toggleable__label {cursor: pointer;display: block;width: 100%;margin-bottom: 0;padding: 0.3em;box-sizing: border-box;text-align: center;}#sk-container-id-3 label.sk-toggleable__label-arrow:before {content: \"▸\";float: left;margin-right: 0.25em;color: #696969;}#sk-container-id-3 label.sk-toggleable__label-arrow:hover:before {color: black;}#sk-container-id-3 div.sk-estimator:hover label.sk-toggleable__label-arrow:before {color: black;}#sk-container-id-3 div.sk-toggleable__content {max-height: 0;max-width: 0;overflow: hidden;text-align: left;background-color: #f0f8ff;}#sk-container-id-3 div.sk-toggleable__content pre {margin: 0.2em;color: black;border-radius: 0.25em;background-color: #f0f8ff;}#sk-container-id-3 input.sk-toggleable__control:checked~div.sk-toggleable__content {max-height: 200px;max-width: 100%;overflow: auto;}#sk-container-id-3 input.sk-toggleable__control:checked~label.sk-toggleable__label-arrow:before {content: \"▾\";}#sk-container-id-3 div.sk-estimator input.sk-toggleable__control:checked~label.sk-toggleable__label {background-color: #d4ebff;}#sk-container-id-3 div.sk-label input.sk-toggleable__control:checked~label.sk-toggleable__label {background-color: #d4ebff;}#sk-container-id-3 input.sk-hidden--visually {border: 0;clip: rect(1px 1px 1px 1px);clip: rect(1px, 1px, 1px, 1px);height: 1px;margin: -1px;overflow: hidden;padding: 0;position: absolute;width: 1px;}#sk-container-id-3 div.sk-estimator {font-family: monospace;background-color: #f0f8ff;border: 1px dotted black;border-radius: 0.25em;box-sizing: border-box;margin-bottom: 0.5em;}#sk-container-id-3 div.sk-estimator:hover {background-color: #d4ebff;}#sk-container-id-3 div.sk-parallel-item::after {content: \"\";width: 100%;border-bottom: 1px solid gray;flex-grow: 1;}#sk-container-id-3 div.sk-label:hover label.sk-toggleable__label {background-color: #d4ebff;}#sk-container-id-3 div.sk-serial::before {content: \"\";position: absolute;border-left: 1px solid gray;box-sizing: border-box;top: 0;bottom: 0;left: 50%;z-index: 0;}#sk-container-id-3 div.sk-serial {display: flex;flex-direction: column;align-items: center;background-color: white;padding-right: 0.2em;padding-left: 0.2em;position: relative;}#sk-container-id-3 div.sk-item {position: relative;z-index: 1;}#sk-container-id-3 div.sk-parallel {display: flex;align-items: stretch;justify-content: center;background-color: white;position: relative;}#sk-container-id-3 div.sk-item::before, #sk-container-id-3 div.sk-parallel-item::before {content: \"\";position: absolute;border-left: 1px solid gray;box-sizing: border-box;top: 0;bottom: 0;left: 50%;z-index: -1;}#sk-container-id-3 div.sk-parallel-item {display: flex;flex-direction: column;z-index: 1;position: relative;background-color: white;}#sk-container-id-3 div.sk-parallel-item:first-child::after {align-self: flex-end;width: 50%;}#sk-container-id-3 div.sk-parallel-item:last-child::after {align-self: flex-start;width: 50%;}#sk-container-id-3 div.sk-parallel-item:only-child::after {width: 0;}#sk-container-id-3 div.sk-dashed-wrapped {border: 1px dashed gray;margin: 0 0.4em 0.5em 0.4em;box-sizing: border-box;padding-bottom: 0.4em;background-color: white;}#sk-container-id-3 div.sk-label label {font-family: monospace;font-weight: bold;display: inline-block;line-height: 1.2em;}#sk-container-id-3 div.sk-label-container {text-align: center;}#sk-container-id-3 div.sk-container {/* jupyter's `normalize.less` sets `[hidden] { display: none; }` but bootstrap.min.css set `[hidden] { display: none !important; }` so we also need the `!important` here to be able to override the default hidden behavior on the sphinx rendered scikit-learn.org. See: https://github.com/scikit-learn/scikit-learn/issues/21755 */display: inline-block !important;position: relative;}#sk-container-id-3 div.sk-text-repr-fallback {display: none;}</style><div id=\"sk-container-id-3\" class=\"sk-top-container\"><div class=\"sk-text-repr-fallback\"><pre>XGBClassifier(base_score=0.5, booster=&#x27;gbtree&#x27;, callbacks=None,\n",
       "              colsample_bylevel=1, colsample_bynode=1, colsample_bytree=1,\n",
       "              early_stopping_rounds=None, enable_categorical=False,\n",
       "              eval_metric=None, gamma=0.4, gpu_id=-1, grow_policy=&#x27;depthwise&#x27;,\n",
       "              importance_type=None, interaction_constraints=&#x27;&#x27;,\n",
       "              learning_rate=0.6, max_bin=256, max_cat_to_onehot=4,\n",
       "              max_delta_step=0, max_depth=7, max_leaves=0, min_child_weight=1,\n",
       "              missing=nan, monotone_constraints=&#x27;()&#x27;, n_estimators=90, n_jobs=0,\n",
       "              num_parallel_tree=1, predictor=&#x27;auto&#x27;, random_state=42,\n",
       "              reg_alpha=0.4, reg_lambda=1.6, ...)</pre><b>In a Jupyter environment, please rerun this cell to show the HTML representation or trust the notebook. <br />On GitHub, the HTML representation is unable to render, please try loading this page with nbviewer.org.</b></div><div class=\"sk-container\" hidden><div class=\"sk-item\"><div class=\"sk-estimator sk-toggleable\"><input class=\"sk-toggleable__control sk-hidden--visually\" id=\"sk-estimator-id-3\" type=\"checkbox\" checked><label for=\"sk-estimator-id-3\" class=\"sk-toggleable__label sk-toggleable__label-arrow\">XGBClassifier</label><div class=\"sk-toggleable__content\"><pre>XGBClassifier(base_score=0.5, booster=&#x27;gbtree&#x27;, callbacks=None,\n",
       "              colsample_bylevel=1, colsample_bynode=1, colsample_bytree=1,\n",
       "              early_stopping_rounds=None, enable_categorical=False,\n",
       "              eval_metric=None, gamma=0.4, gpu_id=-1, grow_policy=&#x27;depthwise&#x27;,\n",
       "              importance_type=None, interaction_constraints=&#x27;&#x27;,\n",
       "              learning_rate=0.6, max_bin=256, max_cat_to_onehot=4,\n",
       "              max_delta_step=0, max_depth=7, max_leaves=0, min_child_weight=1,\n",
       "              missing=nan, monotone_constraints=&#x27;()&#x27;, n_estimators=90, n_jobs=0,\n",
       "              num_parallel_tree=1, predictor=&#x27;auto&#x27;, random_state=42,\n",
       "              reg_alpha=0.4, reg_lambda=1.6, ...)</pre></div></div></div></div></div>"
      ],
      "text/plain": [
       "XGBClassifier(base_score=0.5, booster='gbtree', callbacks=None,\n",
       "              colsample_bylevel=1, colsample_bynode=1, colsample_bytree=1,\n",
       "              early_stopping_rounds=None, enable_categorical=False,\n",
       "              eval_metric=None, gamma=0.4, gpu_id=-1, grow_policy='depthwise',\n",
       "              importance_type=None, interaction_constraints='',\n",
       "              learning_rate=0.6, max_bin=256, max_cat_to_onehot=4,\n",
       "              max_delta_step=0, max_depth=7, max_leaves=0, min_child_weight=1,\n",
       "              missing=nan, monotone_constraints='()', n_estimators=90, n_jobs=0,\n",
       "              num_parallel_tree=1, predictor='auto', random_state=42,\n",
       "              reg_alpha=0.4, reg_lambda=1.6, ...)"
      ]
     },
     "execution_count": 52,
     "metadata": {},
     "output_type": "execute_result"
    }
   ],
   "source": [
    "# Set Model\n",
    "xgbc = XGBClassifier(gamma=0.4, learning_rate=0.6, max_depth=7, n_estimators=90, reg_alpha=0.4, reg_lambda=1.6,\n",
    "                     random_state=42)\n",
    "xgbc.fit(x_train, y_train)"
   ]
  },
  {
   "cell_type": "code",
   "execution_count": 53,
   "id": "d5092129",
   "metadata": {
    "ExecuteTime": {
     "end_time": "2022-06-10T15:04:26.975706Z",
     "start_time": "2022-06-10T15:04:26.530814Z"
    }
   },
   "outputs": [
    {
     "name": "stdout",
     "output_type": "stream",
     "text": [
      "Classifier with DeepWalk hyperparameter embeddings\n",
      " \n",
      "Scores for flag=1\n",
      "In-sample F1 score:  1.0\n",
      "Out-of-sample F1 score:  0.2383419689119171\n",
      "In-sample Recall score:  1.0\n",
      "Out-of-sample Recall score:  0.14973958333333334\n",
      " \n",
      "Overall Scores\n",
      "In-sample F1 score:  1.0\n",
      "Out-of-sample F1 score:  0.909193597236289\n",
      "In-sample Recall score:  1.0\n",
      "Out-of-sample Recall score:  0.9291361357500965\n"
     ]
    }
   ],
   "source": [
    "# Performance\n",
    "\n",
    "pred_tr = xgbc.predict(x_train)\n",
    "pred_tst = xgbc.predict(x_test)\n",
    "\n",
    "print('Classifier with DeepWalk hyperparameter embeddings')\n",
    "print(' ')\n",
    "print('Scores for flag=1')\n",
    "print('In-sample F1 score: ', f1_score(y_train, pred_tr))\n",
    "print('Out-of-sample F1 score: ', f1_score(y_test, pred_tst))\n",
    "print('In-sample Recall score: ', recall_score(y_train, pred_tr))\n",
    "print('Out-of-sample Recall score: ', recall_score(y_test, pred_tst))\n",
    "print(' ')\n",
    "print('Overall Scores')\n",
    "print('In-sample F1 score: ', f1_score(y_train, pred_tr, average='weighted'))\n",
    "print('Out-of-sample F1 score: ', f1_score(y_test, pred_tst, average='weighted'))\n",
    "print('In-sample Recall score: ', recall_score(y_train, pred_tr, average='weighted'))\n",
    "print('Out-of-sample Recall score: ', recall_score(y_test, pred_tst, average='weighted'))"
   ]
  },
  {
   "cell_type": "code",
   "execution_count": 54,
   "id": "93b84308",
   "metadata": {
    "ExecuteTime": {
     "end_time": "2022-06-10T15:04:27.623544Z",
     "start_time": "2022-06-10T15:04:26.996295Z"
    }
   },
   "outputs": [
    {
     "data": {
      "image/png": "[encoded data removed]",
      "text/plain": [
       "<Figure size 432x288 with 2 Axes>"
      ]
     },
     "metadata": {
      "needs_background": "light"
     },
     "output_type": "display_data"
    }
   ],
   "source": [
    "# Confusion matrix - training\n",
    "\n",
    "cm = confusion_matrix(y_train, pred_tr, labels=xgbc.classes_)\n",
    "disp = ConfusionMatrixDisplay(cm, display_labels=xgbc.classes_)\n",
    "disp.plot()\n",
    "plt.show()"
   ]
  },
  {
   "cell_type": "code",
   "execution_count": 55,
   "id": "d3c6b4d3",
   "metadata": {
    "ExecuteTime": {
     "end_time": "2022-06-10T15:04:27.940204Z",
     "start_time": "2022-06-10T15:04:27.623544Z"
    }
   },
   "outputs": [
    {
     "data": {
      "image/png": "[encoded data removed]",
      "text/plain": [
       "<Figure size 432x288 with 2 Axes>"
      ]
     },
     "metadata": {
      "needs_background": "light"
     },
     "output_type": "display_data"
    }
   ],
   "source": [
    "# Confusion matrix - testing\n",
    "\n",
    "cm = confusion_matrix(y_test, pred_tst, labels=xgbc.classes_)\n",
    "disp = ConfusionMatrixDisplay(cm, display_labels=xgbc.classes_)\n",
    "disp.plot()\n",
    "plt.show()"
   ]
  },
  {
   "cell_type": "markdown",
   "id": "581940b5",
   "metadata": {
    "ExecuteTime": {
     "end_time": "2022-06-10T15:04:27.964452Z",
     "start_time": "2022-06-10T15:04:27.940204Z"
    }
   },
   "source": [
    "## Notes:\n",
    "\n",
    "- Increasing the the number of k-folds in cross-validation from 10 to 20, and then to 50 did not change the best estimators given by the search\n",
    "- Increasing the testing sample from 20% to 30% didn't significantly change scores\n",
    "- The RandomizedSearch was first run for all the different embeddings obtained but the resulting best estimators were all the same. Given the size of the data and the time taken to run these searches only 1 RandomizedSearch was left to improve code efficiency\n",
    "- The embeddings used for node2vec embeddings were as specified by the papers for trans2vec (Who are the Phisers? Phising Scam Detection on Ethereum), node2vec (node2vec: Scalable Feature Learning for Networks) and DeepWalk (DeepWalk: Online Learning of Social Representation)\n",
    "- For preliminary further analysis of the sample the hyperparameters specified by trans2vec are used. This is because the intuition behind the choice is better representative to the nature of the data. These parameters were also less computationally expensive then the other options, yet still achieved similar results."
   ]
  },
  {
   "cell_type": "code",
   "execution_count": null,
   "id": "d955b4fd",
   "metadata": {},
   "outputs": [],
   "source": []
  }
 ],
 "metadata": {
  "kernelspec": {
   "display_name": "Python 3 (ipykernel)",
   "language": "python",
   "name": "python3"
  },
  "language_info": {
   "codemirror_mode": {
    "name": "ipython",
    "version": 3
   },
   "file_extension": ".py",
   "mimetype": "text/x-python",
   "name": "python",
   "nbconvert_exporter": "python",
   "pygments_lexer": "ipython3",
   "version": "3.9.12"
  }
 },
 "nbformat": 4,
 "nbformat_minor": 5
}
