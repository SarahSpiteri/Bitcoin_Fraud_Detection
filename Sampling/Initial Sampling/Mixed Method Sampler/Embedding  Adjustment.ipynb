{
 "cells": [
  {
   "cell_type": "code",
   "execution_count": 1,
   "id": "07ed8120",
   "metadata": {
    "ExecuteTime": {
     "end_time": "2022-06-10T22:55:23.010146Z",
     "start_time": "2022-06-10T22:55:18.258321Z"
    }
   },
   "outputs": [],
   "source": [
    "# Requirements\n",
    "import pandas as pd\n",
    "import numpy as np\n",
    "import networkx as nx\n",
    "\n",
    "from node2vec import Node2Vec\n",
    "from sklearn.model_selection import train_test_split, RandomizedSearchCV\n",
    "from imblearn.over_sampling import SMOTE\n",
    "from xgboost import XGBClassifier\n",
    "from sklearn.metrics import recall_score, precision_score, f1_score, confusion_matrix, ConfusionMatrixDisplay\n",
    "import matplotlib.pyplot as plt\n",
    "\n",
    "import random\n",
    "random.seed(42)\n",
    "\n",
    "import warnings\n",
    "warnings.filterwarnings('ignore')"
   ]
  },
  {
   "cell_type": "markdown",
   "id": "d50e1d17",
   "metadata": {},
   "source": [
    "*Required DataFrames*"
   ]
  },
  {
   "cell_type": "code",
   "execution_count": 2,
   "id": "7697d124",
   "metadata": {
    "ExecuteTime": {
     "end_time": "2022-06-10T22:56:34.835922Z",
     "start_time": "2022-06-10T22:55:23.010146Z"
    }
   },
   "outputs": [
    {
     "data": {
      "text/html": [
       "<div>\n",
       "<style scoped>\n",
       "    .dataframe tbody tr th:only-of-type {\n",
       "        vertical-align: middle;\n",
       "    }\n",
       "\n",
       "    .dataframe tbody tr th {\n",
       "        vertical-align: top;\n",
       "    }\n",
       "\n",
       "    .dataframe thead th {\n",
       "        text-align: right;\n",
       "    }\n",
       "</style>\n",
       "<table border=\"1\" class=\"dataframe\">\n",
       "  <thead>\n",
       "    <tr style=\"text-align: right;\">\n",
       "      <th></th>\n",
       "      <th>txn_hash</th>\n",
       "      <th>input_address</th>\n",
       "      <th>output_address</th>\n",
       "      <th>ammount</th>\n",
       "      <th>fees</th>\n",
       "      <th>block_index</th>\n",
       "      <th>block_time</th>\n",
       "      <th>input_flag</th>\n",
       "      <th>output_flag</th>\n",
       "    </tr>\n",
       "  </thead>\n",
       "  <tbody>\n",
       "    <tr>\n",
       "      <th>0</th>\n",
       "      <td>bd36f2ca16e2a2c73c807b7d1569657b30de8453450cd2...</td>\n",
       "      <td>13Uf71d8y94xEk2LX7GCtaBJmPiahhA7TR</td>\n",
       "      <td>16FPyvvz5Ug3cx97qH67KfgC6PY1S9fskQ</td>\n",
       "      <td>2.420000e+07</td>\n",
       "      <td>320000.000000</td>\n",
       "      <td>453318</td>\n",
       "      <td>2017-02-16 12:05:04</td>\n",
       "      <td>0</td>\n",
       "      <td>1</td>\n",
       "    </tr>\n",
       "    <tr>\n",
       "      <th>1</th>\n",
       "      <td>8c852e187a0541cd8ea8c93a6c728843b5f8b9c579b6fc...</td>\n",
       "      <td>166zajP74bcRVo7BmdeDME3mRX3Mi9e3xn</td>\n",
       "      <td>1ASaHGPN8qRuqZkpnR7d2tcndU9uHL6aGj</td>\n",
       "      <td>2.503648e+03</td>\n",
       "      <td>3.314845</td>\n",
       "      <td>453318</td>\n",
       "      <td>2017-02-16 12:05:04</td>\n",
       "      <td>0</td>\n",
       "      <td>1</td>\n",
       "    </tr>\n",
       "    <tr>\n",
       "      <th>2</th>\n",
       "      <td>8c852e187a0541cd8ea8c93a6c728843b5f8b9c579b6fc...</td>\n",
       "      <td>1LU3DtRE3XK32WxFqrnaT9k99nRgwHtLHd</td>\n",
       "      <td>1ASaHGPN8qRuqZkpnR7d2tcndU9uHL6aGj</td>\n",
       "      <td>6.359402e+05</td>\n",
       "      <td>841.988605</td>\n",
       "      <td>453318</td>\n",
       "      <td>2017-02-16 12:05:04</td>\n",
       "      <td>0</td>\n",
       "      <td>1</td>\n",
       "    </tr>\n",
       "    <tr>\n",
       "      <th>3</th>\n",
       "      <td>8c852e187a0541cd8ea8c93a6c728843b5f8b9c579b6fc...</td>\n",
       "      <td>1HVQNFf7vDpJVZk7tEzbFxnmALSezA2qPD</td>\n",
       "      <td>1ASaHGPN8qRuqZkpnR7d2tcndU9uHL6aGj</td>\n",
       "      <td>5.902369e+05</td>\n",
       "      <td>781.477250</td>\n",
       "      <td>453318</td>\n",
       "      <td>2017-02-16 12:05:04</td>\n",
       "      <td>0</td>\n",
       "      <td>1</td>\n",
       "    </tr>\n",
       "    <tr>\n",
       "      <th>4</th>\n",
       "      <td>8c852e187a0541cd8ea8c93a6c728843b5f8b9c579b6fc...</td>\n",
       "      <td>1LU3DtRE3XK32WxFqrnaT9k99nRgwHtLHd</td>\n",
       "      <td>1ASaHGPN8qRuqZkpnR7d2tcndU9uHL6aGj</td>\n",
       "      <td>1.013032e+05</td>\n",
       "      <td>134.126076</td>\n",
       "      <td>453318</td>\n",
       "      <td>2017-02-16 12:05:04</td>\n",
       "      <td>0</td>\n",
       "      <td>1</td>\n",
       "    </tr>\n",
       "  </tbody>\n",
       "</table>\n",
       "</div>"
      ],
      "text/plain": [
       "                                            txn_hash  \\\n",
       "0  bd36f2ca16e2a2c73c807b7d1569657b30de8453450cd2...   \n",
       "1  8c852e187a0541cd8ea8c93a6c728843b5f8b9c579b6fc...   \n",
       "2  8c852e187a0541cd8ea8c93a6c728843b5f8b9c579b6fc...   \n",
       "3  8c852e187a0541cd8ea8c93a6c728843b5f8b9c579b6fc...   \n",
       "4  8c852e187a0541cd8ea8c93a6c728843b5f8b9c579b6fc...   \n",
       "\n",
       "                        input_address                      output_address  \\\n",
       "0  13Uf71d8y94xEk2LX7GCtaBJmPiahhA7TR  16FPyvvz5Ug3cx97qH67KfgC6PY1S9fskQ   \n",
       "1  166zajP74bcRVo7BmdeDME3mRX3Mi9e3xn  1ASaHGPN8qRuqZkpnR7d2tcndU9uHL6aGj   \n",
       "2  1LU3DtRE3XK32WxFqrnaT9k99nRgwHtLHd  1ASaHGPN8qRuqZkpnR7d2tcndU9uHL6aGj   \n",
       "3  1HVQNFf7vDpJVZk7tEzbFxnmALSezA2qPD  1ASaHGPN8qRuqZkpnR7d2tcndU9uHL6aGj   \n",
       "4  1LU3DtRE3XK32WxFqrnaT9k99nRgwHtLHd  1ASaHGPN8qRuqZkpnR7d2tcndU9uHL6aGj   \n",
       "\n",
       "        ammount           fees  block_index           block_time  input_flag  \\\n",
       "0  2.420000e+07  320000.000000       453318  2017-02-16 12:05:04           0   \n",
       "1  2.503648e+03       3.314845       453318  2017-02-16 12:05:04           0   \n",
       "2  6.359402e+05     841.988605       453318  2017-02-16 12:05:04           0   \n",
       "3  5.902369e+05     781.477250       453318  2017-02-16 12:05:04           0   \n",
       "4  1.013032e+05     134.126076       453318  2017-02-16 12:05:04           0   \n",
       "\n",
       "   output_flag  \n",
       "0            1  \n",
       "1            1  \n",
       "2            1  \n",
       "3            1  \n",
       "4            1  "
      ]
     },
     "execution_count": 2,
     "metadata": {},
     "output_type": "execute_result"
    }
   ],
   "source": [
    "# Origional Full DataFrame\n",
    "trans_3w = pd.read_csv('trans_3w.csv')\n",
    "\n",
    "# Remove OverFlow error created Negative Amounts\n",
    "trans_3w = trans_3w[trans_3w['ammount'] > 0]\n",
    "\n",
    "trans_3w.head()"
   ]
  },
  {
   "cell_type": "code",
   "execution_count": 3,
   "id": "e7c269c6",
   "metadata": {
    "ExecuteTime": {
     "end_time": "2022-06-10T22:56:59.633056Z",
     "start_time": "2022-06-10T22:56:34.857962Z"
    }
   },
   "outputs": [
    {
     "name": "stdout",
     "output_type": "stream",
     "text": [
      "MultiDiGraph with 51856 nodes and 178724 edges\n"
     ]
    }
   ],
   "source": [
    "# Get Sampled Graph\n",
    "G_sample = nx.read_pajek(\"RW_Adjusted.net\")\n",
    "print(nx.info(G_sample))"
   ]
  },
  {
   "cell_type": "code",
   "execution_count": 4,
   "id": "2351db1d",
   "metadata": {
    "ExecuteTime": {
     "end_time": "2022-06-10T22:57:08.251244Z",
     "start_time": "2022-06-10T22:56:59.640543Z"
    }
   },
   "outputs": [
    {
     "data": {
      "text/html": [
       "<div>\n",
       "<style scoped>\n",
       "    .dataframe tbody tr th:only-of-type {\n",
       "        vertical-align: middle;\n",
       "    }\n",
       "\n",
       "    .dataframe tbody tr th {\n",
       "        vertical-align: top;\n",
       "    }\n",
       "\n",
       "    .dataframe thead th {\n",
       "        text-align: right;\n",
       "    }\n",
       "</style>\n",
       "<table border=\"1\" class=\"dataframe\">\n",
       "  <thead>\n",
       "    <tr style=\"text-align: right;\">\n",
       "      <th></th>\n",
       "      <th>address</th>\n",
       "      <th>degree</th>\n",
       "      <th>in_degree</th>\n",
       "      <th>out_degree</th>\n",
       "      <th>eigen_centrality</th>\n",
       "      <th>fraud_flag</th>\n",
       "    </tr>\n",
       "  </thead>\n",
       "  <tbody>\n",
       "    <tr>\n",
       "      <th>0</th>\n",
       "      <td>13Uf71d8y94xEk2LX7GCtaBJmPiahhA7TR</td>\n",
       "      <td>1</td>\n",
       "      <td>0</td>\n",
       "      <td>1</td>\n",
       "      <td>7.556986e-20</td>\n",
       "      <td>0</td>\n",
       "    </tr>\n",
       "    <tr>\n",
       "      <th>1</th>\n",
       "      <td>16FPyvvz5Ug3cx97qH67KfgC6PY1S9fskQ</td>\n",
       "      <td>3</td>\n",
       "      <td>1</td>\n",
       "      <td>2</td>\n",
       "      <td>7.556986e-19</td>\n",
       "      <td>1</td>\n",
       "    </tr>\n",
       "    <tr>\n",
       "      <th>2</th>\n",
       "      <td>166zajP74bcRVo7BmdeDME3mRX3Mi9e3xn</td>\n",
       "      <td>2</td>\n",
       "      <td>0</td>\n",
       "      <td>2</td>\n",
       "      <td>7.556986e-20</td>\n",
       "      <td>0</td>\n",
       "    </tr>\n",
       "    <tr>\n",
       "      <th>3</th>\n",
       "      <td>1ASaHGPN8qRuqZkpnR7d2tcndU9uHL6aGj</td>\n",
       "      <td>5</td>\n",
       "      <td>3</td>\n",
       "      <td>2</td>\n",
       "      <td>2.115956e-18</td>\n",
       "      <td>1</td>\n",
       "    </tr>\n",
       "    <tr>\n",
       "      <th>4</th>\n",
       "      <td>1LU3DtRE3XK32WxFqrnaT9k99nRgwHtLHd</td>\n",
       "      <td>2</td>\n",
       "      <td>0</td>\n",
       "      <td>2</td>\n",
       "      <td>7.556986e-20</td>\n",
       "      <td>0</td>\n",
       "    </tr>\n",
       "  </tbody>\n",
       "</table>\n",
       "</div>"
      ],
      "text/plain": [
       "                              address  degree  in_degree  out_degree  \\\n",
       "0  13Uf71d8y94xEk2LX7GCtaBJmPiahhA7TR       1          0           1   \n",
       "1  16FPyvvz5Ug3cx97qH67KfgC6PY1S9fskQ       3          1           2   \n",
       "2  166zajP74bcRVo7BmdeDME3mRX3Mi9e3xn       2          0           2   \n",
       "3  1ASaHGPN8qRuqZkpnR7d2tcndU9uHL6aGj       5          3           2   \n",
       "4  1LU3DtRE3XK32WxFqrnaT9k99nRgwHtLHd       2          0           2   \n",
       "\n",
       "   eigen_centrality  fraud_flag  \n",
       "0      7.556986e-20           0  \n",
       "1      7.556986e-19           1  \n",
       "2      7.556986e-20           0  \n",
       "3      2.115956e-18           1  \n",
       "4      7.556986e-20           0  "
      ]
     },
     "execution_count": 4,
     "metadata": {},
     "output_type": "execute_result"
    }
   ],
   "source": [
    "# Address level node properties from full network\n",
    "node_properties = pd.read_csv('node_properties.csv')\n",
    "node_properties.head()"
   ]
  },
  {
   "cell_type": "markdown",
   "id": "e2090e49",
   "metadata": {},
   "source": [
    "### Create Node2Vec Embedding"
   ]
  },
  {
   "cell_type": "code",
   "execution_count": 5,
   "id": "7e32b891",
   "metadata": {
    "ExecuteTime": {
     "end_time": "2022-06-10T22:57:08.730740Z",
     "start_time": "2022-06-10T22:57:08.256302Z"
    }
   },
   "outputs": [
    {
     "data": {
      "text/plain": [
       "True"
      ]
     },
     "execution_count": 5,
     "metadata": {},
     "output_type": "execute_result"
    }
   ],
   "source": [
    "# Adjustment to make embedding work\n",
    "for u,v,d in G_sample.edges(data=True):\n",
    "    d['weight'] = 1\n",
    "    \n",
    "nx.is_weighted(G_sample)"
   ]
  },
  {
   "cell_type": "code",
   "execution_count": 6,
   "id": "fc38c6a3",
   "metadata": {
    "ExecuteTime": {
     "end_time": "2022-06-10T22:58:59.906568Z",
     "start_time": "2022-06-10T22:57:08.735482Z"
    }
   },
   "outputs": [
    {
     "data": {
      "application/vnd.jupyter.widget-view+json": {
       "model_id": "0d4d82fd1d2a4ade9466799221f30852",
       "version_major": 2,
       "version_minor": 0
      },
      "text/plain": [
       "Computing transition probabilities:   0%|          | 0/51856 [00:00<?, ?it/s]"
      ]
     },
     "metadata": {},
     "output_type": "display_data"
    },
    {
     "name": "stderr",
     "output_type": "stream",
     "text": [
      "Generating walks (CPU: 1): 100%|██████████| 20/20 [00:17<00:00,  1.17it/s]\n"
     ]
    }
   ],
   "source": [
    "# Node2Vec Embedding from Leskovec‬ - Use parameters set in trans2vec paper\n",
    "\n",
    "trans2vec = Node2Vec(G_sample, dimensions=64, p=0.25, q=0.75, walk_length=5, num_walks=20, seed=42)\n",
    "model = trans2vec.fit(window=10)"
   ]
  },
  {
   "cell_type": "code",
   "execution_count": 7,
   "id": "42256e80",
   "metadata": {
    "ExecuteTime": {
     "end_time": "2022-06-10T22:59:02.254899Z",
     "start_time": "2022-06-10T22:58:59.906568Z"
    }
   },
   "outputs": [
    {
     "data": {
      "text/html": [
       "<div>\n",
       "<style scoped>\n",
       "    .dataframe tbody tr th:only-of-type {\n",
       "        vertical-align: middle;\n",
       "    }\n",
       "\n",
       "    .dataframe tbody tr th {\n",
       "        vertical-align: top;\n",
       "    }\n",
       "\n",
       "    .dataframe thead th {\n",
       "        text-align: right;\n",
       "    }\n",
       "</style>\n",
       "<table border=\"1\" class=\"dataframe\">\n",
       "  <thead>\n",
       "    <tr style=\"text-align: right;\">\n",
       "      <th></th>\n",
       "      <th>0</th>\n",
       "      <th>1</th>\n",
       "      <th>2</th>\n",
       "      <th>3</th>\n",
       "      <th>4</th>\n",
       "      <th>5</th>\n",
       "      <th>6</th>\n",
       "      <th>7</th>\n",
       "      <th>8</th>\n",
       "      <th>9</th>\n",
       "      <th>...</th>\n",
       "      <th>55</th>\n",
       "      <th>56</th>\n",
       "      <th>57</th>\n",
       "      <th>58</th>\n",
       "      <th>59</th>\n",
       "      <th>60</th>\n",
       "      <th>61</th>\n",
       "      <th>62</th>\n",
       "      <th>63</th>\n",
       "      <th>address</th>\n",
       "    </tr>\n",
       "  </thead>\n",
       "  <tbody>\n",
       "    <tr>\n",
       "      <th>0</th>\n",
       "      <td>0.038164</td>\n",
       "      <td>-0.239175</td>\n",
       "      <td>0.167899</td>\n",
       "      <td>0.249972</td>\n",
       "      <td>-0.011883</td>\n",
       "      <td>-0.034026</td>\n",
       "      <td>0.103758</td>\n",
       "      <td>0.212007</td>\n",
       "      <td>-0.063214</td>\n",
       "      <td>-0.061415</td>\n",
       "      <td>...</td>\n",
       "      <td>0.028267</td>\n",
       "      <td>0.103765</td>\n",
       "      <td>-0.405222</td>\n",
       "      <td>-0.224229</td>\n",
       "      <td>0.204520</td>\n",
       "      <td>0.078716</td>\n",
       "      <td>0.111394</td>\n",
       "      <td>-0.074168</td>\n",
       "      <td>0.091364</td>\n",
       "      <td>1DTDEcM7z2Rb3GfsMgmWNCZicYuigDy7jn</td>\n",
       "    </tr>\n",
       "    <tr>\n",
       "      <th>1</th>\n",
       "      <td>-0.050084</td>\n",
       "      <td>-0.017901</td>\n",
       "      <td>-0.058803</td>\n",
       "      <td>0.362675</td>\n",
       "      <td>-0.081313</td>\n",
       "      <td>-0.453174</td>\n",
       "      <td>-0.149921</td>\n",
       "      <td>0.622479</td>\n",
       "      <td>-0.273260</td>\n",
       "      <td>0.024694</td>\n",
       "      <td>...</td>\n",
       "      <td>0.323750</td>\n",
       "      <td>0.375472</td>\n",
       "      <td>-0.582442</td>\n",
       "      <td>-0.329376</td>\n",
       "      <td>-0.098313</td>\n",
       "      <td>0.124539</td>\n",
       "      <td>-0.190466</td>\n",
       "      <td>-0.453323</td>\n",
       "      <td>-0.030641</td>\n",
       "      <td>13X1s4yVdf6vKRLDZcn9HfobATMEAi5hWK</td>\n",
       "    </tr>\n",
       "    <tr>\n",
       "      <th>2</th>\n",
       "      <td>0.105577</td>\n",
       "      <td>0.115944</td>\n",
       "      <td>0.388683</td>\n",
       "      <td>0.273821</td>\n",
       "      <td>0.071534</td>\n",
       "      <td>-0.272027</td>\n",
       "      <td>-0.130935</td>\n",
       "      <td>0.691015</td>\n",
       "      <td>0.078144</td>\n",
       "      <td>-0.135209</td>\n",
       "      <td>...</td>\n",
       "      <td>0.432790</td>\n",
       "      <td>0.151647</td>\n",
       "      <td>-0.156447</td>\n",
       "      <td>-0.328040</td>\n",
       "      <td>0.436759</td>\n",
       "      <td>-0.047070</td>\n",
       "      <td>0.116126</td>\n",
       "      <td>-0.280103</td>\n",
       "      <td>0.223965</td>\n",
       "      <td>14oWdnfabS4XbRw5DKMz67YL7mvaUA4tNi</td>\n",
       "    </tr>\n",
       "    <tr>\n",
       "      <th>3</th>\n",
       "      <td>0.026996</td>\n",
       "      <td>-0.068618</td>\n",
       "      <td>0.141477</td>\n",
       "      <td>0.167249</td>\n",
       "      <td>-0.056948</td>\n",
       "      <td>-0.210644</td>\n",
       "      <td>-0.040966</td>\n",
       "      <td>0.117153</td>\n",
       "      <td>-0.006748</td>\n",
       "      <td>-0.010384</td>\n",
       "      <td>...</td>\n",
       "      <td>0.006963</td>\n",
       "      <td>0.050227</td>\n",
       "      <td>-0.211998</td>\n",
       "      <td>-0.059738</td>\n",
       "      <td>0.156287</td>\n",
       "      <td>0.038605</td>\n",
       "      <td>-0.002400</td>\n",
       "      <td>-0.089662</td>\n",
       "      <td>-0.004154</td>\n",
       "      <td>179SbVMJ6tCkNvpKGuxANfTRmc4FsVd15B</td>\n",
       "    </tr>\n",
       "    <tr>\n",
       "      <th>4</th>\n",
       "      <td>0.160790</td>\n",
       "      <td>-0.761089</td>\n",
       "      <td>-0.176192</td>\n",
       "      <td>0.676253</td>\n",
       "      <td>-0.241109</td>\n",
       "      <td>-0.797080</td>\n",
       "      <td>0.390757</td>\n",
       "      <td>0.485474</td>\n",
       "      <td>-0.658676</td>\n",
       "      <td>0.034228</td>\n",
       "      <td>...</td>\n",
       "      <td>0.164472</td>\n",
       "      <td>0.770675</td>\n",
       "      <td>-0.566770</td>\n",
       "      <td>-0.578354</td>\n",
       "      <td>0.370799</td>\n",
       "      <td>0.114533</td>\n",
       "      <td>-0.309339</td>\n",
       "      <td>-0.173818</td>\n",
       "      <td>0.233503</td>\n",
       "      <td>1AATCoSn5kLXF4XB77aDJniUEFm1A35sD1</td>\n",
       "    </tr>\n",
       "  </tbody>\n",
       "</table>\n",
       "<p>5 rows × 65 columns</p>\n",
       "</div>"
      ],
      "text/plain": [
       "          0         1         2         3         4         5         6  \\\n",
       "0  0.038164 -0.239175  0.167899  0.249972 -0.011883 -0.034026  0.103758   \n",
       "1 -0.050084 -0.017901 -0.058803  0.362675 -0.081313 -0.453174 -0.149921   \n",
       "2  0.105577  0.115944  0.388683  0.273821  0.071534 -0.272027 -0.130935   \n",
       "3  0.026996 -0.068618  0.141477  0.167249 -0.056948 -0.210644 -0.040966   \n",
       "4  0.160790 -0.761089 -0.176192  0.676253 -0.241109 -0.797080  0.390757   \n",
       "\n",
       "          7         8         9  ...        55        56        57        58  \\\n",
       "0  0.212007 -0.063214 -0.061415  ...  0.028267  0.103765 -0.405222 -0.224229   \n",
       "1  0.622479 -0.273260  0.024694  ...  0.323750  0.375472 -0.582442 -0.329376   \n",
       "2  0.691015  0.078144 -0.135209  ...  0.432790  0.151647 -0.156447 -0.328040   \n",
       "3  0.117153 -0.006748 -0.010384  ...  0.006963  0.050227 -0.211998 -0.059738   \n",
       "4  0.485474 -0.658676  0.034228  ...  0.164472  0.770675 -0.566770 -0.578354   \n",
       "\n",
       "         59        60        61        62        63  \\\n",
       "0  0.204520  0.078716  0.111394 -0.074168  0.091364   \n",
       "1 -0.098313  0.124539 -0.190466 -0.453323 -0.030641   \n",
       "2  0.436759 -0.047070  0.116126 -0.280103  0.223965   \n",
       "3  0.156287  0.038605 -0.002400 -0.089662 -0.004154   \n",
       "4  0.370799  0.114533 -0.309339 -0.173818  0.233503   \n",
       "\n",
       "                              address  \n",
       "0  1DTDEcM7z2Rb3GfsMgmWNCZicYuigDy7jn  \n",
       "1  13X1s4yVdf6vKRLDZcn9HfobATMEAi5hWK  \n",
       "2  14oWdnfabS4XbRw5DKMz67YL7mvaUA4tNi  \n",
       "3  179SbVMJ6tCkNvpKGuxANfTRmc4FsVd15B  \n",
       "4  1AATCoSn5kLXF4XB77aDJniUEFm1A35sD1  \n",
       "\n",
       "[5 rows x 65 columns]"
      ]
     },
     "execution_count": 7,
     "metadata": {},
     "output_type": "execute_result"
    }
   ],
   "source": [
    "# Represent embedding as DataFrame\n",
    "trans2vec = (pd.DataFrame([model.wv.get_vector(str(n)) for n in G_sample.nodes()]))\n",
    "trans2vec['address'] = list(G_sample.nodes)\n",
    "\n",
    "trans2vec.head()"
   ]
  },
  {
   "cell_type": "markdown",
   "id": "fdb9c308",
   "metadata": {
    "ExecuteTime": {
     "end_time": "2022-06-10T12:48:19.505329Z",
     "start_time": "2022-06-10T12:48:19.098169Z"
    }
   },
   "source": [
    "### Add Self-Loops Flag"
   ]
  },
  {
   "cell_type": "code",
   "execution_count": 8,
   "id": "04ce9362",
   "metadata": {
    "ExecuteTime": {
     "end_time": "2022-06-10T22:59:04.286308Z",
     "start_time": "2022-06-10T22:59:02.258642Z"
    }
   },
   "outputs": [
    {
     "data": {
      "text/plain": [
       "57883"
      ]
     },
     "execution_count": 8,
     "metadata": {},
     "output_type": "execute_result"
    }
   ],
   "source": [
    "# Get List of addresses that had self-loops\n",
    "\n",
    "sl = trans_3w[trans_3w['input_address'] == trans_3w['output_address']]\n",
    "sl_address = set(sl['input_address'].tolist())\n",
    "len(sl_address)"
   ]
  },
  {
   "cell_type": "code",
   "execution_count": 9,
   "id": "79b22f4e",
   "metadata": {
    "ExecuteTime": {
     "end_time": "2022-06-10T23:02:19.111596Z",
     "start_time": "2022-06-10T22:59:04.288886Z"
    }
   },
   "outputs": [
    {
     "data": {
      "text/plain": [
       "0    50045\n",
       "1     1811\n",
       "Name: self_loop, dtype: int64"
      ]
     },
     "execution_count": 9,
     "metadata": {},
     "output_type": "execute_result"
    }
   ],
   "source": [
    "# Create Dummy variable to show if a node had self-loops\n",
    "\n",
    "trans2vec = trans2vec.assign(**dict.fromkeys(['self_loop'], 0))\n",
    "\n",
    "for i in sl_address:\n",
    "    trans2vec.loc[trans2vec.address == i, 'self_loop'] = 1\n",
    "\n",
    "trans2vec['self_loop'].value_counts()"
   ]
  },
  {
   "cell_type": "markdown",
   "id": "ff4b4ef6",
   "metadata": {},
   "source": [
    "### Add Further Node Properties"
   ]
  },
  {
   "cell_type": "markdown",
   "id": "2c96e219",
   "metadata": {},
   "source": [
    "*Properties Based on Appearances as Input or Output Addresses*"
   ]
  },
  {
   "cell_type": "code",
   "execution_count": 10,
   "id": "472833d6",
   "metadata": {
    "ExecuteTime": {
     "end_time": "2022-06-10T23:02:23.789774Z",
     "start_time": "2022-06-10T23:02:19.111596Z"
    }
   },
   "outputs": [
    {
     "data": {
      "text/plain": [
       "(51856, 69)"
      ]
     },
     "execution_count": 10,
     "metadata": {},
     "output_type": "execute_result"
    }
   ],
   "source": [
    "# Merge variables showing every time a node appeared as an input or an output address\n",
    "\n",
    "trans_emb = pd.merge(trans2vec,node_properties[['address','in_degree','out_degree','fraud_flag']],on=\"address\",how='left')\n",
    "\n",
    "# Check Merge - OK\n",
    "trans_emb.shape "
   ]
  },
  {
   "cell_type": "code",
   "execution_count": 11,
   "id": "7171d1da",
   "metadata": {
    "ExecuteTime": {
     "end_time": "2022-06-10T23:02:23.805923Z",
     "start_time": "2022-06-10T23:02:23.792310Z"
    }
   },
   "outputs": [],
   "source": [
    "# Rename to properly reflect what the variable represents\n",
    "trans_emb.rename(columns = {'in_degree':'input_count', 'out_degree':'output_count'}, inplace = True)"
   ]
  },
  {
   "cell_type": "code",
   "execution_count": 12,
   "id": "709d4239",
   "metadata": {
    "ExecuteTime": {
     "end_time": "2022-06-10T23:02:23.823090Z",
     "start_time": "2022-06-10T23:02:23.807388Z"
    }
   },
   "outputs": [],
   "source": [
    "# Get Difference between appearance as output and input addresses (refer to degree structure in full graph)\n",
    "trans_emb['diff_count'] = trans_emb['output_count'] - trans_emb['input_count']"
   ]
  },
  {
   "cell_type": "markdown",
   "id": "78e69e15",
   "metadata": {},
   "source": [
    "*Properties Based on Amounts*"
   ]
  },
  {
   "cell_type": "code",
   "execution_count": 13,
   "id": "8ad1548a",
   "metadata": {
    "ExecuteTime": {
     "end_time": "2022-06-10T23:09:43.355423Z",
     "start_time": "2022-06-10T23:02:23.823090Z"
    }
   },
   "outputs": [
    {
     "data": {
      "text/html": [
       "<div>\n",
       "<style scoped>\n",
       "    .dataframe tbody tr th:only-of-type {\n",
       "        vertical-align: middle;\n",
       "    }\n",
       "\n",
       "    .dataframe tbody tr th {\n",
       "        vertical-align: top;\n",
       "    }\n",
       "\n",
       "    .dataframe thead th {\n",
       "        text-align: right;\n",
       "    }\n",
       "</style>\n",
       "<table border=\"1\" class=\"dataframe\">\n",
       "  <thead>\n",
       "    <tr style=\"text-align: right;\">\n",
       "      <th></th>\n",
       "      <th>ina_total</th>\n",
       "      <th>ina_std</th>\n",
       "      <th>ina_max</th>\n",
       "      <th>ina_min</th>\n",
       "      <th>ina_median</th>\n",
       "    </tr>\n",
       "    <tr>\n",
       "      <th>input_address</th>\n",
       "      <th></th>\n",
       "      <th></th>\n",
       "      <th></th>\n",
       "      <th></th>\n",
       "      <th></th>\n",
       "    </tr>\n",
       "  </thead>\n",
       "  <tbody>\n",
       "    <tr>\n",
       "      <th>012426f6d185818b0fbb425c65bd6ec24d3197e5</th>\n",
       "      <td>1.000000e+03</td>\n",
       "      <td>NaN</td>\n",
       "      <td>1000.0</td>\n",
       "      <td>1.000000e+03</td>\n",
       "      <td>1.000000e+03</td>\n",
       "    </tr>\n",
       "    <tr>\n",
       "      <th>035036627022f414941afb3141a8221b5e334453</th>\n",
       "      <td>1.735515e+06</td>\n",
       "      <td>NaN</td>\n",
       "      <td>1735515.0</td>\n",
       "      <td>1.735515e+06</td>\n",
       "      <td>1.735515e+06</td>\n",
       "    </tr>\n",
       "    <tr>\n",
       "      <th>0499c77cab212f94c796955355557c40b1f472ee</th>\n",
       "      <td>5.756600e+06</td>\n",
       "      <td>97.556459</td>\n",
       "      <td>7600.0</td>\n",
       "      <td>1.612908e+02</td>\n",
       "      <td>1.639344e+02</td>\n",
       "    </tr>\n",
       "    <tr>\n",
       "      <th>0744d431958852006e0ce912576bb6238ea3a357</th>\n",
       "      <td>1.868114e+06</td>\n",
       "      <td>NaN</td>\n",
       "      <td>1868114.0</td>\n",
       "      <td>1.868114e+06</td>\n",
       "      <td>1.868114e+06</td>\n",
       "    </tr>\n",
       "    <tr>\n",
       "      <th>07ba7192b73755b5613b60484a0c68039d76b732</th>\n",
       "      <td>1.203280e+05</td>\n",
       "      <td>NaN</td>\n",
       "      <td>120328.0</td>\n",
       "      <td>1.203280e+05</td>\n",
       "      <td>1.203280e+05</td>\n",
       "    </tr>\n",
       "  </tbody>\n",
       "</table>\n",
       "</div>"
      ],
      "text/plain": [
       "                                             ina_total    ina_std    ina_max  \\\n",
       "input_address                                                                  \n",
       "012426f6d185818b0fbb425c65bd6ec24d3197e5  1.000000e+03        NaN     1000.0   \n",
       "035036627022f414941afb3141a8221b5e334453  1.735515e+06        NaN  1735515.0   \n",
       "0499c77cab212f94c796955355557c40b1f472ee  5.756600e+06  97.556459     7600.0   \n",
       "0744d431958852006e0ce912576bb6238ea3a357  1.868114e+06        NaN  1868114.0   \n",
       "07ba7192b73755b5613b60484a0c68039d76b732  1.203280e+05        NaN   120328.0   \n",
       "\n",
       "                                               ina_min    ina_median  \n",
       "input_address                                                         \n",
       "012426f6d185818b0fbb425c65bd6ec24d3197e5  1.000000e+03  1.000000e+03  \n",
       "035036627022f414941afb3141a8221b5e334453  1.735515e+06  1.735515e+06  \n",
       "0499c77cab212f94c796955355557c40b1f472ee  1.612908e+02  1.639344e+02  \n",
       "0744d431958852006e0ce912576bb6238ea3a357  1.868114e+06  1.868114e+06  \n",
       "07ba7192b73755b5613b60484a0c68039d76b732  1.203280e+05  1.203280e+05  "
      ]
     },
     "execution_count": 13,
     "metadata": {},
     "output_type": "execute_result"
    }
   ],
   "source": [
    "# Get key descriptive statistics of transaction ammounts where the node appeared as the input address\n",
    "\n",
    "in_ammounts = trans_3w.groupby(['input_address']).agg(ina_total=('ammount', 'sum'), ina_std=('ammount', pd.Series.std), \n",
    "                                                  ina_max=('ammount', pd.Series.max), ina_min=('ammount', pd.Series.min),\n",
    "                                                  ina_median=('ammount', 'median'))\n",
    "in_ammounts.head()"
   ]
  },
  {
   "cell_type": "code",
   "execution_count": 14,
   "id": "5fdb7ebd",
   "metadata": {
    "ExecuteTime": {
     "end_time": "2022-06-10T23:18:07.361170Z",
     "start_time": "2022-06-10T23:09:43.355423Z"
    }
   },
   "outputs": [
    {
     "data": {
      "text/html": [
       "<div>\n",
       "<style scoped>\n",
       "    .dataframe tbody tr th:only-of-type {\n",
       "        vertical-align: middle;\n",
       "    }\n",
       "\n",
       "    .dataframe tbody tr th {\n",
       "        vertical-align: top;\n",
       "    }\n",
       "\n",
       "    .dataframe thead th {\n",
       "        text-align: right;\n",
       "    }\n",
       "</style>\n",
       "<table border=\"1\" class=\"dataframe\">\n",
       "  <thead>\n",
       "    <tr style=\"text-align: right;\">\n",
       "      <th></th>\n",
       "      <th>outa_total</th>\n",
       "      <th>outa_std</th>\n",
       "      <th>outa_max</th>\n",
       "      <th>outa_min</th>\n",
       "      <th>outa_median</th>\n",
       "    </tr>\n",
       "    <tr>\n",
       "      <th>output_address</th>\n",
       "      <th></th>\n",
       "      <th></th>\n",
       "      <th></th>\n",
       "      <th></th>\n",
       "      <th></th>\n",
       "    </tr>\n",
       "  </thead>\n",
       "  <tbody>\n",
       "    <tr>\n",
       "      <th>00aa2850cf5e5b4d613d49f71b233dd0d7840876</th>\n",
       "      <td>1.0</td>\n",
       "      <td>NaN</td>\n",
       "      <td>1.0</td>\n",
       "      <td>1.000000e+00</td>\n",
       "      <td>1.000000e+00</td>\n",
       "    </tr>\n",
       "    <tr>\n",
       "      <th>022a6eea395e146245a79b58869e2716114a7bf9</th>\n",
       "      <td>1.0</td>\n",
       "      <td>NaN</td>\n",
       "      <td>1.0</td>\n",
       "      <td>1.000000e+00</td>\n",
       "      <td>1.000000e+00</td>\n",
       "    </tr>\n",
       "    <tr>\n",
       "      <th>035036627022f414941afb3141a8221b5e334453</th>\n",
       "      <td>1758207.0</td>\n",
       "      <td>NaN</td>\n",
       "      <td>1758207.0</td>\n",
       "      <td>1.758207e+06</td>\n",
       "      <td>1.758207e+06</td>\n",
       "    </tr>\n",
       "    <tr>\n",
       "      <th>043df67415824cfdca9a8c22d220085d843d0fb1</th>\n",
       "      <td>1.0</td>\n",
       "      <td>NaN</td>\n",
       "      <td>1.0</td>\n",
       "      <td>1.000000e+00</td>\n",
       "      <td>1.000000e+00</td>\n",
       "    </tr>\n",
       "    <tr>\n",
       "      <th>0499c77cab212f94c796955355557c40b1f472ee</th>\n",
       "      <td>8000000.0</td>\n",
       "      <td>614.191221</td>\n",
       "      <td>10000.0</td>\n",
       "      <td>1.612908e+02</td>\n",
       "      <td>1.639344e+02</td>\n",
       "    </tr>\n",
       "  </tbody>\n",
       "</table>\n",
       "</div>"
      ],
      "text/plain": [
       "                                          outa_total    outa_std   outa_max  \\\n",
       "output_address                                                                \n",
       "00aa2850cf5e5b4d613d49f71b233dd0d7840876         1.0         NaN        1.0   \n",
       "022a6eea395e146245a79b58869e2716114a7bf9         1.0         NaN        1.0   \n",
       "035036627022f414941afb3141a8221b5e334453   1758207.0         NaN  1758207.0   \n",
       "043df67415824cfdca9a8c22d220085d843d0fb1         1.0         NaN        1.0   \n",
       "0499c77cab212f94c796955355557c40b1f472ee   8000000.0  614.191221    10000.0   \n",
       "\n",
       "                                              outa_min   outa_median  \n",
       "output_address                                                        \n",
       "00aa2850cf5e5b4d613d49f71b233dd0d7840876  1.000000e+00  1.000000e+00  \n",
       "022a6eea395e146245a79b58869e2716114a7bf9  1.000000e+00  1.000000e+00  \n",
       "035036627022f414941afb3141a8221b5e334453  1.758207e+06  1.758207e+06  \n",
       "043df67415824cfdca9a8c22d220085d843d0fb1  1.000000e+00  1.000000e+00  \n",
       "0499c77cab212f94c796955355557c40b1f472ee  1.612908e+02  1.639344e+02  "
      ]
     },
     "execution_count": 14,
     "metadata": {},
     "output_type": "execute_result"
    }
   ],
   "source": [
    "# Get key descriptive statistics of transaction ammounts where the node appeared as the output address\n",
    "\n",
    "out_ammounts = trans_3w.groupby(['output_address']).agg(outa_total=('ammount', 'sum'), outa_std=('ammount',pd.Series.std), \n",
    "                                                  outa_max=('ammount', pd.Series.max), outa_min=('ammount', pd.Series.min),\n",
    "                                                  outa_median=('ammount', 'median'))\n",
    "out_ammounts.head()"
   ]
  },
  {
   "cell_type": "code",
   "execution_count": 15,
   "id": "5c016288",
   "metadata": {
    "ExecuteTime": {
     "end_time": "2022-06-10T23:18:14.960345Z",
     "start_time": "2022-06-10T23:18:07.362172Z"
    }
   },
   "outputs": [
    {
     "data": {
      "text/plain": [
       "(51856, 80)"
      ]
     },
     "execution_count": 15,
     "metadata": {},
     "output_type": "execute_result"
    }
   ],
   "source": [
    "# Merge properties of Input Transactions\n",
    "in_ammounts['address'] = in_ammounts.index\n",
    "trans_emb = pd.merge(trans_emb, in_ammounts, on=\"address\", how='left')\n",
    "\n",
    "# Merge properties of Output Transactions\n",
    "out_ammounts['address'] = out_ammounts.index\n",
    "trans_emb = pd.merge(trans_emb, out_ammounts, on=\"address\", how='left')\n",
    "\n",
    "# Merge Check - OK\n",
    "trans_emb.shape"
   ]
  },
  {
   "cell_type": "code",
   "execution_count": 16,
   "id": "8e9497b5",
   "metadata": {
    "ExecuteTime": {
     "end_time": "2022-06-10T23:18:15.015537Z",
     "start_time": "2022-06-10T23:18:14.976360Z"
    }
   },
   "outputs": [],
   "source": [
    "# Difference in total ammounts (potential indicator of obfuscation patterns)\n",
    "trans_emb['diff_amount'] = trans_emb['outa_total'] - trans_emb['ina_total']"
   ]
  },
  {
   "cell_type": "markdown",
   "id": "d8ac2c78",
   "metadata": {},
   "source": [
    "*Properties Based on Fees*"
   ]
  },
  {
   "cell_type": "code",
   "execution_count": 17,
   "id": "bf08a9be",
   "metadata": {
    "ExecuteTime": {
     "end_time": "2022-06-10T23:25:34.599373Z",
     "start_time": "2022-06-10T23:18:15.015537Z"
    }
   },
   "outputs": [
    {
     "data": {
      "text/html": [
       "<div>\n",
       "<style scoped>\n",
       "    .dataframe tbody tr th:only-of-type {\n",
       "        vertical-align: middle;\n",
       "    }\n",
       "\n",
       "    .dataframe tbody tr th {\n",
       "        vertical-align: top;\n",
       "    }\n",
       "\n",
       "    .dataframe thead th {\n",
       "        text-align: right;\n",
       "    }\n",
       "</style>\n",
       "<table border=\"1\" class=\"dataframe\">\n",
       "  <thead>\n",
       "    <tr style=\"text-align: right;\">\n",
       "      <th></th>\n",
       "      <th>inf_total</th>\n",
       "      <th>inf_std</th>\n",
       "      <th>inf_max</th>\n",
       "      <th>inf_min</th>\n",
       "      <th>inf_median</th>\n",
       "    </tr>\n",
       "    <tr>\n",
       "      <th>input_address</th>\n",
       "      <th></th>\n",
       "      <th></th>\n",
       "      <th></th>\n",
       "      <th></th>\n",
       "      <th></th>\n",
       "    </tr>\n",
       "  </thead>\n",
       "  <tbody>\n",
       "    <tr>\n",
       "      <th>012426f6d185818b0fbb425c65bd6ec24d3197e5</th>\n",
       "      <td>1.210100e+04</td>\n",
       "      <td>NaN</td>\n",
       "      <td>12101.0</td>\n",
       "      <td>12101.000000</td>\n",
       "      <td>12101.000000</td>\n",
       "    </tr>\n",
       "    <tr>\n",
       "      <th>035036627022f414941afb3141a8221b5e334453</th>\n",
       "      <td>2.269200e+04</td>\n",
       "      <td>NaN</td>\n",
       "      <td>22692.0</td>\n",
       "      <td>22692.000000</td>\n",
       "      <td>22692.000000</td>\n",
       "    </tr>\n",
       "    <tr>\n",
       "      <th>0499c77cab212f94c796955355557c40b1f472ee</th>\n",
       "      <td>1.273400e+06</td>\n",
       "      <td>31.014541</td>\n",
       "      <td>2400.0</td>\n",
       "      <td>36.065574</td>\n",
       "      <td>36.065574</td>\n",
       "    </tr>\n",
       "    <tr>\n",
       "      <th>0744d431958852006e0ce912576bb6238ea3a357</th>\n",
       "      <td>2.310000e+03</td>\n",
       "      <td>NaN</td>\n",
       "      <td>2310.0</td>\n",
       "      <td>2310.000000</td>\n",
       "      <td>2310.000000</td>\n",
       "    </tr>\n",
       "    <tr>\n",
       "      <th>07ba7192b73755b5613b60484a0c68039d76b732</th>\n",
       "      <td>2.938000e+03</td>\n",
       "      <td>NaN</td>\n",
       "      <td>2938.0</td>\n",
       "      <td>2938.000000</td>\n",
       "      <td>2938.000000</td>\n",
       "    </tr>\n",
       "  </tbody>\n",
       "</table>\n",
       "</div>"
      ],
      "text/plain": [
       "                                             inf_total    inf_std  inf_max  \\\n",
       "input_address                                                                \n",
       "012426f6d185818b0fbb425c65bd6ec24d3197e5  1.210100e+04        NaN  12101.0   \n",
       "035036627022f414941afb3141a8221b5e334453  2.269200e+04        NaN  22692.0   \n",
       "0499c77cab212f94c796955355557c40b1f472ee  1.273400e+06  31.014541   2400.0   \n",
       "0744d431958852006e0ce912576bb6238ea3a357  2.310000e+03        NaN   2310.0   \n",
       "07ba7192b73755b5613b60484a0c68039d76b732  2.938000e+03        NaN   2938.0   \n",
       "\n",
       "                                               inf_min    inf_median  \n",
       "input_address                                                         \n",
       "012426f6d185818b0fbb425c65bd6ec24d3197e5  12101.000000  12101.000000  \n",
       "035036627022f414941afb3141a8221b5e334453  22692.000000  22692.000000  \n",
       "0499c77cab212f94c796955355557c40b1f472ee     36.065574     36.065574  \n",
       "0744d431958852006e0ce912576bb6238ea3a357   2310.000000   2310.000000  \n",
       "07ba7192b73755b5613b60484a0c68039d76b732   2938.000000   2938.000000  "
      ]
     },
     "execution_count": 17,
     "metadata": {},
     "output_type": "execute_result"
    }
   ],
   "source": [
    "# Get key descriptive statistics of transaction fees where the node appeared as the input address\n",
    "\n",
    "in_fees = trans_3w.groupby(['input_address']).agg(inf_total=('fees', 'sum'), inf_std=('fees', pd.Series.std), \n",
    "                                                  inf_max=('fees', pd.Series.max), inf_min=('fees', pd.Series.min),\n",
    "                                                  inf_median=('fees', 'median'))\n",
    "in_fees.head()"
   ]
  },
  {
   "cell_type": "code",
   "execution_count": 18,
   "id": "6f84132d",
   "metadata": {
    "ExecuteTime": {
     "end_time": "2022-06-10T23:33:55.028317Z",
     "start_time": "2022-06-10T23:25:34.599373Z"
    }
   },
   "outputs": [
    {
     "data": {
      "text/html": [
       "<div>\n",
       "<style scoped>\n",
       "    .dataframe tbody tr th:only-of-type {\n",
       "        vertical-align: middle;\n",
       "    }\n",
       "\n",
       "    .dataframe tbody tr th {\n",
       "        vertical-align: top;\n",
       "    }\n",
       "\n",
       "    .dataframe thead th {\n",
       "        text-align: right;\n",
       "    }\n",
       "</style>\n",
       "<table border=\"1\" class=\"dataframe\">\n",
       "  <thead>\n",
       "    <tr style=\"text-align: right;\">\n",
       "      <th></th>\n",
       "      <th>outf_total</th>\n",
       "      <th>outf_std</th>\n",
       "      <th>outf_max</th>\n",
       "      <th>outf_min</th>\n",
       "      <th>outf_median</th>\n",
       "    </tr>\n",
       "    <tr>\n",
       "      <th>output_address</th>\n",
       "      <th></th>\n",
       "      <th></th>\n",
       "      <th></th>\n",
       "      <th></th>\n",
       "      <th></th>\n",
       "    </tr>\n",
       "  </thead>\n",
       "  <tbody>\n",
       "    <tr>\n",
       "      <th>00aa2850cf5e5b4d613d49f71b233dd0d7840876</th>\n",
       "      <td>1.273183e-02</td>\n",
       "      <td>NaN</td>\n",
       "      <td>0.012732</td>\n",
       "      <td>0.012732</td>\n",
       "      <td>0.012732</td>\n",
       "    </tr>\n",
       "    <tr>\n",
       "      <th>022a6eea395e146245a79b58869e2716114a7bf9</th>\n",
       "      <td>5.863508e-03</td>\n",
       "      <td>NaN</td>\n",
       "      <td>0.005864</td>\n",
       "      <td>0.005864</td>\n",
       "      <td>0.005864</td>\n",
       "    </tr>\n",
       "    <tr>\n",
       "      <th>035036627022f414941afb3141a8221b5e334453</th>\n",
       "      <td>2.501600e+04</td>\n",
       "      <td>NaN</td>\n",
       "      <td>25016.000000</td>\n",
       "      <td>25016.000000</td>\n",
       "      <td>25016.000000</td>\n",
       "    </tr>\n",
       "    <tr>\n",
       "      <th>043df67415824cfdca9a8c22d220085d843d0fb1</th>\n",
       "      <td>9.657718e-03</td>\n",
       "      <td>NaN</td>\n",
       "      <td>0.009658</td>\n",
       "      <td>0.009658</td>\n",
       "      <td>0.009658</td>\n",
       "    </tr>\n",
       "    <tr>\n",
       "      <th>0499c77cab212f94c796955355557c40b1f472ee</th>\n",
       "      <td>1.634816e+06</td>\n",
       "      <td>99.132842</td>\n",
       "      <td>1839.344262</td>\n",
       "      <td>36.065574</td>\n",
       "      <td>36.065574</td>\n",
       "    </tr>\n",
       "  </tbody>\n",
       "</table>\n",
       "</div>"
      ],
      "text/plain": [
       "                                            outf_total   outf_std  \\\n",
       "output_address                                                      \n",
       "00aa2850cf5e5b4d613d49f71b233dd0d7840876  1.273183e-02        NaN   \n",
       "022a6eea395e146245a79b58869e2716114a7bf9  5.863508e-03        NaN   \n",
       "035036627022f414941afb3141a8221b5e334453  2.501600e+04        NaN   \n",
       "043df67415824cfdca9a8c22d220085d843d0fb1  9.657718e-03        NaN   \n",
       "0499c77cab212f94c796955355557c40b1f472ee  1.634816e+06  99.132842   \n",
       "\n",
       "                                              outf_max      outf_min  \\\n",
       "output_address                                                         \n",
       "00aa2850cf5e5b4d613d49f71b233dd0d7840876      0.012732      0.012732   \n",
       "022a6eea395e146245a79b58869e2716114a7bf9      0.005864      0.005864   \n",
       "035036627022f414941afb3141a8221b5e334453  25016.000000  25016.000000   \n",
       "043df67415824cfdca9a8c22d220085d843d0fb1      0.009658      0.009658   \n",
       "0499c77cab212f94c796955355557c40b1f472ee   1839.344262     36.065574   \n",
       "\n",
       "                                           outf_median  \n",
       "output_address                                          \n",
       "00aa2850cf5e5b4d613d49f71b233dd0d7840876      0.012732  \n",
       "022a6eea395e146245a79b58869e2716114a7bf9      0.005864  \n",
       "035036627022f414941afb3141a8221b5e334453  25016.000000  \n",
       "043df67415824cfdca9a8c22d220085d843d0fb1      0.009658  \n",
       "0499c77cab212f94c796955355557c40b1f472ee     36.065574  "
      ]
     },
     "execution_count": 18,
     "metadata": {},
     "output_type": "execute_result"
    }
   ],
   "source": [
    "# Get key descriptive statistics of transaction fees where the node appeared as the output address\n",
    "\n",
    "out_fees = trans_3w.groupby(['output_address']).agg(outf_total=('fees', 'sum'), outf_std=('fees', pd.Series.std), \n",
    "                                                  outf_max=('fees', pd.Series.max), outf_min=('fees', pd.Series.min),\n",
    "                                                  outf_median=('fees', 'median'))\n",
    "out_fees.head()"
   ]
  },
  {
   "cell_type": "code",
   "execution_count": 19,
   "id": "b842d8f3",
   "metadata": {
    "ExecuteTime": {
     "end_time": "2022-06-10T23:34:01.880961Z",
     "start_time": "2022-06-10T23:33:55.028317Z"
    }
   },
   "outputs": [
    {
     "data": {
      "text/plain": [
       "(51856, 91)"
      ]
     },
     "execution_count": 19,
     "metadata": {},
     "output_type": "execute_result"
    }
   ],
   "source": [
    "# Merge properties of Input Fees\n",
    "in_fees['address'] = in_fees.index\n",
    "trans_emb = pd.merge(trans_emb, in_fees, on=\"address\", how='left')\n",
    "\n",
    "# Merge properties of Output Fees\n",
    "out_fees['address'] = out_fees.index\n",
    "trans_emb = pd.merge(trans_emb, out_fees, on=\"address\", how='left')\n",
    "\n",
    "# Merge Check - \n",
    "trans_emb.shape"
   ]
  },
  {
   "cell_type": "code",
   "execution_count": 20,
   "id": "ccce6c72",
   "metadata": {
    "ExecuteTime": {
     "end_time": "2022-06-10T23:34:01.896653Z",
     "start_time": "2022-06-10T23:34:01.880961Z"
    }
   },
   "outputs": [],
   "source": [
    "# Difference in total fees \n",
    "trans_emb['diff_fees'] = trans_emb['outf_total'] - trans_emb['inf_total']"
   ]
  },
  {
   "cell_type": "markdown",
   "id": "3aff1af4",
   "metadata": {},
   "source": [
    "### Correct for Missing Values"
   ]
  },
  {
   "cell_type": "code",
   "execution_count": 21,
   "id": "e55edf09",
   "metadata": {
    "ExecuteTime": {
     "end_time": "2022-06-10T23:34:02.040002Z",
     "start_time": "2022-06-10T23:34:01.896653Z"
    }
   },
   "outputs": [
    {
     "name": "stdout",
     "output_type": "stream",
     "text": [
      "ina_total 13676\n",
      "ina_std 19406\n",
      "ina_max 13676\n",
      "ina_min 13676\n",
      "ina_median 13676\n",
      "outa_total 7579\n",
      "outa_std 24237\n",
      "outa_max 7579\n",
      "outa_min 7579\n",
      "outa_median 7579\n",
      "diff_amount 21255\n",
      "inf_total 13676\n",
      "inf_std 19406\n",
      "inf_max 13676\n",
      "inf_min 13676\n",
      "inf_median 13676\n",
      "outf_total 7579\n",
      "outf_std 24237\n",
      "outf_max 7579\n",
      "outf_min 7579\n",
      "outf_median 7579\n",
      "diff_fees 21255\n"
     ]
    }
   ],
   "source": [
    "# Report Features with missing values\n",
    "for i in trans_emb.columns:\n",
    "    if trans_emb[i].isnull().sum() != 0:\n",
    "        print(i, trans_emb[i].isnull().sum())"
   ]
  },
  {
   "cell_type": "code",
   "execution_count": 22,
   "id": "0839d16c",
   "metadata": {
    "ExecuteTime": {
     "end_time": "2022-06-10T23:34:02.130804Z",
     "start_time": "2022-06-10T23:34:02.040497Z"
    }
   },
   "outputs": [],
   "source": [
    "# Missing Values appear to represent instances where a node participated as an input or output, not both\n",
    "trans_emb = trans_emb.fillna(0)"
   ]
  },
  {
   "cell_type": "markdown",
   "id": "c10caf41",
   "metadata": {},
   "source": [
    "### Classifier with Balanced Sample but No Added Features"
   ]
  },
  {
   "cell_type": "code",
   "execution_count": 23,
   "id": "b78eb919",
   "metadata": {
    "ExecuteTime": {
     "end_time": "2022-06-10T23:34:02.267965Z",
     "start_time": "2022-06-10T23:34:02.131799Z"
    }
   },
   "outputs": [],
   "source": [
    "# Get train-test-split\n",
    "\n",
    "X = trans2vec.drop(['address', 'self_loop'], axis=1)\n",
    "flag = trans_emb['fraud_flag']\n",
    "\n",
    "x_train, x_test, y_train, y_test = train_test_split(X, flag, test_size=0.2, random_state=42)"
   ]
  },
  {
   "cell_type": "code",
   "execution_count": 24,
   "id": "1f4b3e15",
   "metadata": {
    "ExecuteTime": {
     "end_time": "2022-06-10T23:34:03.166935Z",
     "start_time": "2022-06-10T23:34:02.271555Z"
    }
   },
   "outputs": [],
   "source": [
    "# Balance Training Data\n",
    "\n",
    "sm = SMOTE(random_state=42)\n",
    "\n",
    "x_smote, y_smote = sm.fit_resample(x_train, y_train)"
   ]
  },
  {
   "cell_type": "code",
   "execution_count": 25,
   "id": "b9f85409",
   "metadata": {
    "ExecuteTime": {
     "end_time": "2022-06-11T00:28:25.087278Z",
     "start_time": "2022-06-10T23:34:03.166935Z"
    }
   },
   "outputs": [
    {
     "name": "stdout",
     "output_type": "stream",
     "text": [
      "Best estimator for XGBoost Classifier:\n",
      " XGBClassifier(base_score=0.5, booster='gbtree', callbacks=None,\n",
      "              colsample_bylevel=1, colsample_bynode=1, colsample_bytree=1,\n",
      "              early_stopping_rounds=None, enable_categorical=False,\n",
      "              eval_metric=None, gamma=0.4, gpu_id=-1, grow_policy='depthwise',\n",
      "              importance_type=None, interaction_constraints='',\n",
      "              learning_rate=0.6, max_bin=256, max_cat_to_onehot=4,\n",
      "              max_delta_step=0, max_depth=7, max_leaves=0, min_child_weight=1,\n",
      "              missing=nan, monotone_constraints='()', n_estimators=90, n_jobs=0,\n",
      "              num_parallel_tree=1, predictor='auto', random_state=42,\n",
      "              reg_alpha=0.4, reg_lambda=1.6, ...)\n"
     ]
    }
   ],
   "source": [
    "# Extreme Gradient Boosting (XGBoost)\n",
    "\n",
    "# Instanciate Model\n",
    "xgbc = XGBClassifier(random_state=42)\n",
    "\n",
    "# Hyperparameters grid\n",
    "xgb_grid = {'gamma': [0.1, 0.2, 0.4, 0.8, 1.6, 3.2, 6.4, 12.8],\n",
    "            'learning_rate': [0.05, 0.1, 0.15, 0.2, 0.25, 0.3, 0.4, 0.5, 0.6, 0.7, 0.8, 0.9],\n",
    "            'max_depth': range(3,10),\n",
    "            'n_estimators': range(50,100),\n",
    "            'reg_alpha': [0.1,0.2,0.4,0.8,1.6,3.2,6.4,12.8],\n",
    "            'reg_lambda': [0.1,0.2,0.4,0.8,1.6,3.2,6.4,12.8]}\n",
    "\n",
    "# Set RandomisedSearch\n",
    "xgb = RandomizedSearchCV(estimator=xgbc, param_distributions=xgb_grid, scoring='f1', random_state=42, cv=10)\n",
    "\n",
    "# Fit RandomisedSearch to training data\n",
    "xgb.fit(x_smote, y_smote)\n",
    "\n",
    "# List best hyperparameters\n",
    "print(\"Best estimator for XGBoost Classifier:\\n\", xgb.best_estimator_)"
   ]
  },
  {
   "cell_type": "code",
   "execution_count": 26,
   "id": "b65707ed",
   "metadata": {
    "ExecuteTime": {
     "end_time": "2022-06-11T00:29:09.326343Z",
     "start_time": "2022-06-11T00:28:25.093006Z"
    }
   },
   "outputs": [
    {
     "data": {
      "text/html": [
       "<style>#sk-container-id-1 {color: black;background-color: white;}#sk-container-id-1 pre{padding: 0;}#sk-container-id-1 div.sk-toggleable {background-color: white;}#sk-container-id-1 label.sk-toggleable__label {cursor: pointer;display: block;width: 100%;margin-bottom: 0;padding: 0.3em;box-sizing: border-box;text-align: center;}#sk-container-id-1 label.sk-toggleable__label-arrow:before {content: \"▸\";float: left;margin-right: 0.25em;color: #696969;}#sk-container-id-1 label.sk-toggleable__label-arrow:hover:before {color: black;}#sk-container-id-1 div.sk-estimator:hover label.sk-toggleable__label-arrow:before {color: black;}#sk-container-id-1 div.sk-toggleable__content {max-height: 0;max-width: 0;overflow: hidden;text-align: left;background-color: #f0f8ff;}#sk-container-id-1 div.sk-toggleable__content pre {margin: 0.2em;color: black;border-radius: 0.25em;background-color: #f0f8ff;}#sk-container-id-1 input.sk-toggleable__control:checked~div.sk-toggleable__content {max-height: 200px;max-width: 100%;overflow: auto;}#sk-container-id-1 input.sk-toggleable__control:checked~label.sk-toggleable__label-arrow:before {content: \"▾\";}#sk-container-id-1 div.sk-estimator input.sk-toggleable__control:checked~label.sk-toggleable__label {background-color: #d4ebff;}#sk-container-id-1 div.sk-label input.sk-toggleable__control:checked~label.sk-toggleable__label {background-color: #d4ebff;}#sk-container-id-1 input.sk-hidden--visually {border: 0;clip: rect(1px 1px 1px 1px);clip: rect(1px, 1px, 1px, 1px);height: 1px;margin: -1px;overflow: hidden;padding: 0;position: absolute;width: 1px;}#sk-container-id-1 div.sk-estimator {font-family: monospace;background-color: #f0f8ff;border: 1px dotted black;border-radius: 0.25em;box-sizing: border-box;margin-bottom: 0.5em;}#sk-container-id-1 div.sk-estimator:hover {background-color: #d4ebff;}#sk-container-id-1 div.sk-parallel-item::after {content: \"\";width: 100%;border-bottom: 1px solid gray;flex-grow: 1;}#sk-container-id-1 div.sk-label:hover label.sk-toggleable__label {background-color: #d4ebff;}#sk-container-id-1 div.sk-serial::before {content: \"\";position: absolute;border-left: 1px solid gray;box-sizing: border-box;top: 0;bottom: 0;left: 50%;z-index: 0;}#sk-container-id-1 div.sk-serial {display: flex;flex-direction: column;align-items: center;background-color: white;padding-right: 0.2em;padding-left: 0.2em;position: relative;}#sk-container-id-1 div.sk-item {position: relative;z-index: 1;}#sk-container-id-1 div.sk-parallel {display: flex;align-items: stretch;justify-content: center;background-color: white;position: relative;}#sk-container-id-1 div.sk-item::before, #sk-container-id-1 div.sk-parallel-item::before {content: \"\";position: absolute;border-left: 1px solid gray;box-sizing: border-box;top: 0;bottom: 0;left: 50%;z-index: -1;}#sk-container-id-1 div.sk-parallel-item {display: flex;flex-direction: column;z-index: 1;position: relative;background-color: white;}#sk-container-id-1 div.sk-parallel-item:first-child::after {align-self: flex-end;width: 50%;}#sk-container-id-1 div.sk-parallel-item:last-child::after {align-self: flex-start;width: 50%;}#sk-container-id-1 div.sk-parallel-item:only-child::after {width: 0;}#sk-container-id-1 div.sk-dashed-wrapped {border: 1px dashed gray;margin: 0 0.4em 0.5em 0.4em;box-sizing: border-box;padding-bottom: 0.4em;background-color: white;}#sk-container-id-1 div.sk-label label {font-family: monospace;font-weight: bold;display: inline-block;line-height: 1.2em;}#sk-container-id-1 div.sk-label-container {text-align: center;}#sk-container-id-1 div.sk-container {/* jupyter's `normalize.less` sets `[hidden] { display: none; }` but bootstrap.min.css set `[hidden] { display: none !important; }` so we also need the `!important` here to be able to override the default hidden behavior on the sphinx rendered scikit-learn.org. See: https://github.com/scikit-learn/scikit-learn/issues/21755 */display: inline-block !important;position: relative;}#sk-container-id-1 div.sk-text-repr-fallback {display: none;}</style><div id=\"sk-container-id-1\" class=\"sk-top-container\"><div class=\"sk-text-repr-fallback\"><pre>XGBClassifier(base_score=0.5, booster=&#x27;gbtree&#x27;, callbacks=None,\n",
       "              colsample_bylevel=1, colsample_bynode=1, colsample_bytree=1,\n",
       "              early_stopping_rounds=None, enable_categorical=False,\n",
       "              eval_metric=None, gamma=0.4, gpu_id=-1, grow_policy=&#x27;depthwise&#x27;,\n",
       "              importance_type=None, interaction_constraints=&#x27;&#x27;,\n",
       "              learning_rate=0.6, max_bin=256, max_cat_to_onehot=4,\n",
       "              max_delta_step=0, max_depth=7, max_leaves=0, min_child_weight=1,\n",
       "              missing=nan, monotone_constraints=&#x27;()&#x27;, n_estimators=90, n_jobs=0,\n",
       "              num_parallel_tree=1, predictor=&#x27;auto&#x27;, random_state=42,\n",
       "              reg_alpha=0.4, reg_lambda=1.6, ...)</pre><b>In a Jupyter environment, please rerun this cell to show the HTML representation or trust the notebook. <br />On GitHub, the HTML representation is unable to render, please try loading this page with nbviewer.org.</b></div><div class=\"sk-container\" hidden><div class=\"sk-item\"><div class=\"sk-estimator sk-toggleable\"><input class=\"sk-toggleable__control sk-hidden--visually\" id=\"sk-estimator-id-1\" type=\"checkbox\" checked><label for=\"sk-estimator-id-1\" class=\"sk-toggleable__label sk-toggleable__label-arrow\">XGBClassifier</label><div class=\"sk-toggleable__content\"><pre>XGBClassifier(base_score=0.5, booster=&#x27;gbtree&#x27;, callbacks=None,\n",
       "              colsample_bylevel=1, colsample_bynode=1, colsample_bytree=1,\n",
       "              early_stopping_rounds=None, enable_categorical=False,\n",
       "              eval_metric=None, gamma=0.4, gpu_id=-1, grow_policy=&#x27;depthwise&#x27;,\n",
       "              importance_type=None, interaction_constraints=&#x27;&#x27;,\n",
       "              learning_rate=0.6, max_bin=256, max_cat_to_onehot=4,\n",
       "              max_delta_step=0, max_depth=7, max_leaves=0, min_child_weight=1,\n",
       "              missing=nan, monotone_constraints=&#x27;()&#x27;, n_estimators=90, n_jobs=0,\n",
       "              num_parallel_tree=1, predictor=&#x27;auto&#x27;, random_state=42,\n",
       "              reg_alpha=0.4, reg_lambda=1.6, ...)</pre></div></div></div></div></div>"
      ],
      "text/plain": [
       "XGBClassifier(base_score=0.5, booster='gbtree', callbacks=None,\n",
       "              colsample_bylevel=1, colsample_bynode=1, colsample_bytree=1,\n",
       "              early_stopping_rounds=None, enable_categorical=False,\n",
       "              eval_metric=None, gamma=0.4, gpu_id=-1, grow_policy='depthwise',\n",
       "              importance_type=None, interaction_constraints='',\n",
       "              learning_rate=0.6, max_bin=256, max_cat_to_onehot=4,\n",
       "              max_delta_step=0, max_depth=7, max_leaves=0, min_child_weight=1,\n",
       "              missing=nan, monotone_constraints='()', n_estimators=90, n_jobs=0,\n",
       "              num_parallel_tree=1, predictor='auto', random_state=42,\n",
       "              reg_alpha=0.4, reg_lambda=1.6, ...)"
      ]
     },
     "execution_count": 26,
     "metadata": {},
     "output_type": "execute_result"
    }
   ],
   "source": [
    "# Set Model\n",
    "xgbc = XGBClassifier(gamma=0.4, learning_rate=0.6, max_depth=7, n_estimators=90, reg_alpha=0.4, reg_lambda=1.6,\n",
    "                     random_state=42)\n",
    "xgbc.fit(x_smote, y_smote)"
   ]
  },
  {
   "cell_type": "code",
   "execution_count": 27,
   "id": "cbda136c",
   "metadata": {
    "ExecuteTime": {
     "end_time": "2022-06-11T00:29:09.620438Z",
     "start_time": "2022-06-11T00:29:09.328536Z"
    }
   },
   "outputs": [
    {
     "name": "stdout",
     "output_type": "stream",
     "text": [
      "Balanced Classifier with trans2vec hyperparameter embeddings (NO Added Features)\n",
      " \n",
      "Scores for flag=1\n",
      "In-sample F1 score:  0.9759483454398709\n",
      "Out-of-sample F1 score:  0.31137088204038255\n",
      "In-sample Recall score:  0.9990085922009253\n",
      "Out-of-sample Recall score:  0.3815104166666667\n",
      " \n",
      "Overall Scores\n",
      "In-sample F1 score:  0.9964463631054895\n",
      "Out-of-sample F1 score:  0.8853881682380921\n",
      "In-sample Recall score:  0.9964082537845916\n",
      "Out-of-sample Recall score:  0.8750482067103741\n"
     ]
    }
   ],
   "source": [
    "# Performance\n",
    "\n",
    "pred_tr = xgbc.predict(x_train)\n",
    "pred_tst = xgbc.predict(x_test)\n",
    "\n",
    "print('Balanced Classifier with trans2vec hyperparameter embeddings (NO Added Features)')\n",
    "print(' ')\n",
    "print('Scores for flag=1')\n",
    "print('In-sample F1 score: ', f1_score(y_train, pred_tr))\n",
    "print('Out-of-sample F1 score: ', f1_score(y_test, pred_tst))\n",
    "print('In-sample Recall score: ', recall_score(y_train, pred_tr))\n",
    "print('Out-of-sample Recall score: ', recall_score(y_test, pred_tst))\n",
    "print(' ')\n",
    "print('Overall Scores')\n",
    "print('In-sample F1 score: ', f1_score(y_train, pred_tr, average='weighted'))\n",
    "print('Out-of-sample F1 score: ', f1_score(y_test, pred_tst, average='weighted'))\n",
    "print('In-sample Recall score: ', recall_score(y_train, pred_tr, average='weighted'))\n",
    "print('Out-of-sample Recall score: ', recall_score(y_test, pred_tst, average='weighted'))"
   ]
  },
  {
   "cell_type": "code",
   "execution_count": 28,
   "id": "1c42eca2",
   "metadata": {
    "ExecuteTime": {
     "end_time": "2022-06-11T00:29:10.560549Z",
     "start_time": "2022-06-11T00:29:09.640372Z"
    }
   },
   "outputs": [
    {
     "data": {
      "image/png": "[encoded data removed]",
      "text/plain": [
       "<Figure size 432x288 with 2 Axes>"
      ]
     },
     "metadata": {
      "needs_background": "light"
     },
     "output_type": "display_data"
    }
   ],
   "source": [
    "# Confusion matrix - training\n",
    "\n",
    "cm = confusion_matrix(y_train, pred_tr, labels=xgbc.classes_)\n",
    "disp = ConfusionMatrixDisplay(cm, display_labels=xgbc.classes_)\n",
    "disp.plot()\n",
    "plt.show()"
   ]
  },
  {
   "cell_type": "code",
   "execution_count": 29,
   "id": "3a91aa92",
   "metadata": {
    "ExecuteTime": {
     "end_time": "2022-06-11T00:29:10.922565Z",
     "start_time": "2022-06-11T00:29:10.563081Z"
    }
   },
   "outputs": [
    {
     "data": {
      "image/png": "[encoded data removed]",
      "text/plain": [
       "<Figure size 432x288 with 2 Axes>"
      ]
     },
     "metadata": {
      "needs_background": "light"
     },
     "output_type": "display_data"
    }
   ],
   "source": [
    "# Confusion matrix - testing\n",
    "\n",
    "cm = confusion_matrix(y_test, pred_tst, labels=xgbc.classes_)\n",
    "disp = ConfusionMatrixDisplay(cm, display_labels=xgbc.classes_)\n",
    "disp.plot()\n",
    "plt.show()"
   ]
  },
  {
   "cell_type": "markdown",
   "id": "ef0d85c8",
   "metadata": {},
   "source": [
    "### Classifier with Balanced Data and Added Features"
   ]
  },
  {
   "cell_type": "code",
   "execution_count": 30,
   "id": "7da2bb34",
   "metadata": {
    "ExecuteTime": {
     "end_time": "2022-06-11T00:29:11.049108Z",
     "start_time": "2022-06-11T00:29:10.926703Z"
    }
   },
   "outputs": [],
   "source": [
    "# Get train-test-split\n",
    "\n",
    "X = trans_emb.drop(['address', 'fraud_flag'], axis=1)\n",
    "flag = trans_emb['fraud_flag']\n",
    "\n",
    "x_train, x_test, y_train, y_test = train_test_split(X, flag, test_size=0.2, random_state=42)"
   ]
  },
  {
   "cell_type": "code",
   "execution_count": 31,
   "id": "e58d25c3",
   "metadata": {
    "ExecuteTime": {
     "end_time": "2022-06-11T00:29:11.858355Z",
     "start_time": "2022-06-11T00:29:11.052102Z"
    }
   },
   "outputs": [],
   "source": [
    "# Balance Training Data\n",
    "\n",
    "sm = SMOTE(random_state=42)\n",
    "\n",
    "x_smote, y_smote = sm.fit_resample(x_train, y_train)"
   ]
  },
  {
   "cell_type": "code",
   "execution_count": 32,
   "id": "7cbdba47",
   "metadata": {
    "ExecuteTime": {
     "end_time": "2022-06-11T01:35:40.888081Z",
     "start_time": "2022-06-11T00:29:11.858355Z"
    }
   },
   "outputs": [
    {
     "name": "stdout",
     "output_type": "stream",
     "text": [
      "Best estimator for XGBoost Classifier:\n",
      " XGBClassifier(base_score=0.5, booster='gbtree', callbacks=None,\n",
      "              colsample_bylevel=1, colsample_bynode=1, colsample_bytree=1,\n",
      "              early_stopping_rounds=None, enable_categorical=False,\n",
      "              eval_metric=None, gamma=0.4, gpu_id=-1, grow_policy='depthwise',\n",
      "              importance_type=None, interaction_constraints='',\n",
      "              learning_rate=0.6, max_bin=256, max_cat_to_onehot=4,\n",
      "              max_delta_step=0, max_depth=7, max_leaves=0, min_child_weight=1,\n",
      "              missing=nan, monotone_constraints='()', n_estimators=90, n_jobs=0,\n",
      "              num_parallel_tree=1, predictor='auto', random_state=42,\n",
      "              reg_alpha=0.4, reg_lambda=1.6, ...)\n"
     ]
    }
   ],
   "source": [
    "# Extreme Gradient Boosting (XGBoost)\n",
    "\n",
    "# Instanciate Model\n",
    "xgbc = XGBClassifier(random_state=42)\n",
    "\n",
    "# Hyperparameters grid\n",
    "xgb_grid = {'gamma': [0.1, 0.2, 0.4, 0.8, 1.6, 3.2, 6.4, 12.8],\n",
    "            'learning_rate': [0.05, 0.1, 0.15, 0.2, 0.25, 0.3, 0.4, 0.5, 0.6, 0.7, 0.8, 0.9],\n",
    "            'max_depth': range(3,10),\n",
    "            'n_estimators': range(50,100),\n",
    "            'reg_alpha': [0.1,0.2,0.4,0.8,1.6,3.2,6.4,12.8],\n",
    "            'reg_lambda': [0.1,0.2,0.4,0.8,1.6,3.2,6.4,12.8]}\n",
    "\n",
    "# Set RandomisedSearch\n",
    "xgb = RandomizedSearchCV(estimator=xgbc, param_distributions=xgb_grid, scoring='f1', random_state=42, cv=10)\n",
    "\n",
    "# Fit RandomisedSearch to training data\n",
    "xgb.fit(x_smote, y_smote)\n",
    "\n",
    "# List best hyperparameters\n",
    "print(\"Best estimator for XGBoost Classifier:\\n\", xgb.best_estimator_)"
   ]
  },
  {
   "cell_type": "code",
   "execution_count": 33,
   "id": "c2f14615",
   "metadata": {
    "ExecuteTime": {
     "end_time": "2022-06-11T01:36:38.638692Z",
     "start_time": "2022-06-11T01:35:40.926669Z"
    }
   },
   "outputs": [
    {
     "data": {
      "text/html": [
       "<style>#sk-container-id-2 {color: black;background-color: white;}#sk-container-id-2 pre{padding: 0;}#sk-container-id-2 div.sk-toggleable {background-color: white;}#sk-container-id-2 label.sk-toggleable__label {cursor: pointer;display: block;width: 100%;margin-bottom: 0;padding: 0.3em;box-sizing: border-box;text-align: center;}#sk-container-id-2 label.sk-toggleable__label-arrow:before {content: \"▸\";float: left;margin-right: 0.25em;color: #696969;}#sk-container-id-2 label.sk-toggleable__label-arrow:hover:before {color: black;}#sk-container-id-2 div.sk-estimator:hover label.sk-toggleable__label-arrow:before {color: black;}#sk-container-id-2 div.sk-toggleable__content {max-height: 0;max-width: 0;overflow: hidden;text-align: left;background-color: #f0f8ff;}#sk-container-id-2 div.sk-toggleable__content pre {margin: 0.2em;color: black;border-radius: 0.25em;background-color: #f0f8ff;}#sk-container-id-2 input.sk-toggleable__control:checked~div.sk-toggleable__content {max-height: 200px;max-width: 100%;overflow: auto;}#sk-container-id-2 input.sk-toggleable__control:checked~label.sk-toggleable__label-arrow:before {content: \"▾\";}#sk-container-id-2 div.sk-estimator input.sk-toggleable__control:checked~label.sk-toggleable__label {background-color: #d4ebff;}#sk-container-id-2 div.sk-label input.sk-toggleable__control:checked~label.sk-toggleable__label {background-color: #d4ebff;}#sk-container-id-2 input.sk-hidden--visually {border: 0;clip: rect(1px 1px 1px 1px);clip: rect(1px, 1px, 1px, 1px);height: 1px;margin: -1px;overflow: hidden;padding: 0;position: absolute;width: 1px;}#sk-container-id-2 div.sk-estimator {font-family: monospace;background-color: #f0f8ff;border: 1px dotted black;border-radius: 0.25em;box-sizing: border-box;margin-bottom: 0.5em;}#sk-container-id-2 div.sk-estimator:hover {background-color: #d4ebff;}#sk-container-id-2 div.sk-parallel-item::after {content: \"\";width: 100%;border-bottom: 1px solid gray;flex-grow: 1;}#sk-container-id-2 div.sk-label:hover label.sk-toggleable__label {background-color: #d4ebff;}#sk-container-id-2 div.sk-serial::before {content: \"\";position: absolute;border-left: 1px solid gray;box-sizing: border-box;top: 0;bottom: 0;left: 50%;z-index: 0;}#sk-container-id-2 div.sk-serial {display: flex;flex-direction: column;align-items: center;background-color: white;padding-right: 0.2em;padding-left: 0.2em;position: relative;}#sk-container-id-2 div.sk-item {position: relative;z-index: 1;}#sk-container-id-2 div.sk-parallel {display: flex;align-items: stretch;justify-content: center;background-color: white;position: relative;}#sk-container-id-2 div.sk-item::before, #sk-container-id-2 div.sk-parallel-item::before {content: \"\";position: absolute;border-left: 1px solid gray;box-sizing: border-box;top: 0;bottom: 0;left: 50%;z-index: -1;}#sk-container-id-2 div.sk-parallel-item {display: flex;flex-direction: column;z-index: 1;position: relative;background-color: white;}#sk-container-id-2 div.sk-parallel-item:first-child::after {align-self: flex-end;width: 50%;}#sk-container-id-2 div.sk-parallel-item:last-child::after {align-self: flex-start;width: 50%;}#sk-container-id-2 div.sk-parallel-item:only-child::after {width: 0;}#sk-container-id-2 div.sk-dashed-wrapped {border: 1px dashed gray;margin: 0 0.4em 0.5em 0.4em;box-sizing: border-box;padding-bottom: 0.4em;background-color: white;}#sk-container-id-2 div.sk-label label {font-family: monospace;font-weight: bold;display: inline-block;line-height: 1.2em;}#sk-container-id-2 div.sk-label-container {text-align: center;}#sk-container-id-2 div.sk-container {/* jupyter's `normalize.less` sets `[hidden] { display: none; }` but bootstrap.min.css set `[hidden] { display: none !important; }` so we also need the `!important` here to be able to override the default hidden behavior on the sphinx rendered scikit-learn.org. See: https://github.com/scikit-learn/scikit-learn/issues/21755 */display: inline-block !important;position: relative;}#sk-container-id-2 div.sk-text-repr-fallback {display: none;}</style><div id=\"sk-container-id-2\" class=\"sk-top-container\"><div class=\"sk-text-repr-fallback\"><pre>XGBClassifier(base_score=0.5, booster=&#x27;gbtree&#x27;, callbacks=None,\n",
       "              colsample_bylevel=1, colsample_bynode=1, colsample_bytree=1,\n",
       "              early_stopping_rounds=None, enable_categorical=False,\n",
       "              eval_metric=None, gamma=0.4, gpu_id=-1, grow_policy=&#x27;depthwise&#x27;,\n",
       "              importance_type=None, interaction_constraints=&#x27;&#x27;,\n",
       "              learning_rate=0.6, max_bin=256, max_cat_to_onehot=4,\n",
       "              max_delta_step=0, max_depth=7, max_leaves=0, min_child_weight=1,\n",
       "              missing=nan, monotone_constraints=&#x27;()&#x27;, n_estimators=90, n_jobs=0,\n",
       "              num_parallel_tree=1, predictor=&#x27;auto&#x27;, random_state=42,\n",
       "              reg_alpha=0.4, reg_lambda=1.6, ...)</pre><b>In a Jupyter environment, please rerun this cell to show the HTML representation or trust the notebook. <br />On GitHub, the HTML representation is unable to render, please try loading this page with nbviewer.org.</b></div><div class=\"sk-container\" hidden><div class=\"sk-item\"><div class=\"sk-estimator sk-toggleable\"><input class=\"sk-toggleable__control sk-hidden--visually\" id=\"sk-estimator-id-2\" type=\"checkbox\" checked><label for=\"sk-estimator-id-2\" class=\"sk-toggleable__label sk-toggleable__label-arrow\">XGBClassifier</label><div class=\"sk-toggleable__content\"><pre>XGBClassifier(base_score=0.5, booster=&#x27;gbtree&#x27;, callbacks=None,\n",
       "              colsample_bylevel=1, colsample_bynode=1, colsample_bytree=1,\n",
       "              early_stopping_rounds=None, enable_categorical=False,\n",
       "              eval_metric=None, gamma=0.4, gpu_id=-1, grow_policy=&#x27;depthwise&#x27;,\n",
       "              importance_type=None, interaction_constraints=&#x27;&#x27;,\n",
       "              learning_rate=0.6, max_bin=256, max_cat_to_onehot=4,\n",
       "              max_delta_step=0, max_depth=7, max_leaves=0, min_child_weight=1,\n",
       "              missing=nan, monotone_constraints=&#x27;()&#x27;, n_estimators=90, n_jobs=0,\n",
       "              num_parallel_tree=1, predictor=&#x27;auto&#x27;, random_state=42,\n",
       "              reg_alpha=0.4, reg_lambda=1.6, ...)</pre></div></div></div></div></div>"
      ],
      "text/plain": [
       "XGBClassifier(base_score=0.5, booster='gbtree', callbacks=None,\n",
       "              colsample_bylevel=1, colsample_bynode=1, colsample_bytree=1,\n",
       "              early_stopping_rounds=None, enable_categorical=False,\n",
       "              eval_metric=None, gamma=0.4, gpu_id=-1, grow_policy='depthwise',\n",
       "              importance_type=None, interaction_constraints='',\n",
       "              learning_rate=0.6, max_bin=256, max_cat_to_onehot=4,\n",
       "              max_delta_step=0, max_depth=7, max_leaves=0, min_child_weight=1,\n",
       "              missing=nan, monotone_constraints='()', n_estimators=90, n_jobs=0,\n",
       "              num_parallel_tree=1, predictor='auto', random_state=42,\n",
       "              reg_alpha=0.4, reg_lambda=1.6, ...)"
      ]
     },
     "execution_count": 33,
     "metadata": {},
     "output_type": "execute_result"
    }
   ],
   "source": [
    "# Set Model\n",
    "xgbc = XGBClassifier(gamma=0.4, learning_rate=0.6, max_depth=7, n_estimators=90, reg_alpha=0.4, reg_lambda=1.6,\n",
    "                     random_state=42)\n",
    "xgbc.fit(x_smote, y_smote)"
   ]
  },
  {
   "cell_type": "code",
   "execution_count": 34,
   "id": "4050f40a",
   "metadata": {
    "ExecuteTime": {
     "end_time": "2022-06-11T01:36:38.964534Z",
     "start_time": "2022-06-11T01:36:38.641120Z"
    }
   },
   "outputs": [
    {
     "name": "stdout",
     "output_type": "stream",
     "text": [
      "Balanced Classifier with trans2vec hyperparameter embeddings with Added Features\n",
      " \n",
      "Scores for flag=1\n",
      "In-sample F1 score:  0.9811810512654121\n",
      "Out-of-sample F1 score:  0.41271495570609695\n",
      "In-sample Recall score:  0.9993390614672836\n",
      "Out-of-sample Recall score:  0.515625\n",
      " \n",
      "Overall Scores\n",
      "In-sample F1 score:  0.9972271064073125\n",
      "Out-of-sample F1 score:  0.9010798802149238\n",
      "In-sample Recall score:  0.9972037412014271\n",
      "Out-of-sample Recall score:  0.8913420748168145\n"
     ]
    }
   ],
   "source": [
    "# Performance\n",
    "\n",
    "pred_tr = xgbc.predict(x_train)\n",
    "pred_tst = xgbc.predict(x_test)\n",
    "\n",
    "print('Balanced Classifier with trans2vec hyperparameter embeddings with Added Features')\n",
    "print(' ')\n",
    "print('Scores for flag=1')\n",
    "print('In-sample F1 score: ', f1_score(y_train, pred_tr))\n",
    "print('Out-of-sample F1 score: ', f1_score(y_test, pred_tst))\n",
    "print('In-sample Recall score: ', recall_score(y_train, pred_tr))\n",
    "print('Out-of-sample Recall score: ', recall_score(y_test, pred_tst))\n",
    "print(' ')\n",
    "print('Overall Scores')\n",
    "print('In-sample F1 score: ', f1_score(y_train, pred_tr, average='weighted'))\n",
    "print('Out-of-sample F1 score: ', f1_score(y_test, pred_tst, average='weighted'))\n",
    "print('In-sample Recall score: ', recall_score(y_train, pred_tr, average='weighted'))\n",
    "print('Out-of-sample Recall score: ', recall_score(y_test, pred_tst, average='weighted'))"
   ]
  },
  {
   "cell_type": "code",
   "execution_count": 35,
   "id": "46ca190c",
   "metadata": {
    "ExecuteTime": {
     "end_time": "2022-06-11T01:36:39.282611Z",
     "start_time": "2022-06-11T01:36:38.968523Z"
    }
   },
   "outputs": [
    {
     "data": {
      "image/png": "[encoded data removed]",
      "text/plain": [
       "<Figure size 432x288 with 2 Axes>"
      ]
     },
     "metadata": {
      "needs_background": "light"
     },
     "output_type": "display_data"
    }
   ],
   "source": [
    "# Confusion matrix - training\n",
    "\n",
    "cm = confusion_matrix(y_train, pred_tr, labels=xgbc.classes_)\n",
    "disp = ConfusionMatrixDisplay(cm, display_labels=xgbc.classes_)\n",
    "disp.plot()\n",
    "plt.show()"
   ]
  },
  {
   "cell_type": "code",
   "execution_count": 36,
   "id": "cc48de23",
   "metadata": {
    "ExecuteTime": {
     "end_time": "2022-06-11T01:36:39.503514Z",
     "start_time": "2022-06-11T01:36:39.285541Z"
    }
   },
   "outputs": [
    {
     "data": {
      "image/png": "[encoded data removed]",
      "text/plain": [
       "<Figure size 432x288 with 2 Axes>"
      ]
     },
     "metadata": {
      "needs_background": "light"
     },
     "output_type": "display_data"
    }
   ],
   "source": [
    "# Confusion matrix - testing\n",
    "\n",
    "cm = confusion_matrix(y_test, pred_tst, labels=xgbc.classes_)\n",
    "disp = ConfusionMatrixDisplay(cm, display_labels=xgbc.classes_)\n",
    "disp.plot()\n",
    "plt.show()"
   ]
  },
  {
   "cell_type": "code",
   "execution_count": 37,
   "id": "02a4a559",
   "metadata": {
    "ExecuteTime": {
     "end_time": "2022-06-11T01:36:39.566636Z",
     "start_time": "2022-06-11T01:36:39.505509Z"
    }
   },
   "outputs": [
    {
     "data": {
      "text/html": [
       "<div>\n",
       "<style scoped>\n",
       "    .dataframe tbody tr th:only-of-type {\n",
       "        vertical-align: middle;\n",
       "    }\n",
       "\n",
       "    .dataframe tbody tr th {\n",
       "        vertical-align: top;\n",
       "    }\n",
       "\n",
       "    .dataframe thead th {\n",
       "        text-align: right;\n",
       "    }\n",
       "</style>\n",
       "<table border=\"1\" class=\"dataframe\">\n",
       "  <thead>\n",
       "    <tr style=\"text-align: right;\">\n",
       "      <th></th>\n",
       "      <th>XGBoost Importance</th>\n",
       "    </tr>\n",
       "  </thead>\n",
       "  <tbody>\n",
       "    <tr>\n",
       "      <th>diff_fees</th>\n",
       "      <td>1.000000</td>\n",
       "    </tr>\n",
       "    <tr>\n",
       "      <th>inf_median</th>\n",
       "      <td>0.368966</td>\n",
       "    </tr>\n",
       "    <tr>\n",
       "      <th>18</th>\n",
       "      <td>0.280195</td>\n",
       "    </tr>\n",
       "    <tr>\n",
       "      <th>output_count</th>\n",
       "      <td>0.278325</td>\n",
       "    </tr>\n",
       "    <tr>\n",
       "      <th>outa_max</th>\n",
       "      <td>0.241268</td>\n",
       "    </tr>\n",
       "    <tr>\n",
       "      <th>30</th>\n",
       "      <td>0.234288</td>\n",
       "    </tr>\n",
       "    <tr>\n",
       "      <th>self_loop</th>\n",
       "      <td>0.204632</td>\n",
       "    </tr>\n",
       "    <tr>\n",
       "      <th>29</th>\n",
       "      <td>0.201569</td>\n",
       "    </tr>\n",
       "    <tr>\n",
       "      <th>40</th>\n",
       "      <td>0.173822</td>\n",
       "    </tr>\n",
       "    <tr>\n",
       "      <th>inf_total</th>\n",
       "      <td>0.170770</td>\n",
       "    </tr>\n",
       "    <tr>\n",
       "      <th>61</th>\n",
       "      <td>0.162529</td>\n",
       "    </tr>\n",
       "    <tr>\n",
       "      <th>2</th>\n",
       "      <td>0.141943</td>\n",
       "    </tr>\n",
       "    <tr>\n",
       "      <th>diff_count</th>\n",
       "      <td>0.126172</td>\n",
       "    </tr>\n",
       "    <tr>\n",
       "      <th>outf_min</th>\n",
       "      <td>0.122843</td>\n",
       "    </tr>\n",
       "    <tr>\n",
       "      <th>outa_median</th>\n",
       "      <td>0.122639</td>\n",
       "    </tr>\n",
       "    <tr>\n",
       "      <th>outf_std</th>\n",
       "      <td>0.115837</td>\n",
       "    </tr>\n",
       "    <tr>\n",
       "      <th>37</th>\n",
       "      <td>0.108297</td>\n",
       "    </tr>\n",
       "    <tr>\n",
       "      <th>63</th>\n",
       "      <td>0.106814</td>\n",
       "    </tr>\n",
       "    <tr>\n",
       "      <th>outa_min</th>\n",
       "      <td>0.105463</td>\n",
       "    </tr>\n",
       "    <tr>\n",
       "      <th>3</th>\n",
       "      <td>0.104490</td>\n",
       "    </tr>\n",
       "    <tr>\n",
       "      <th>outf_total</th>\n",
       "      <td>0.102590</td>\n",
       "    </tr>\n",
       "    <tr>\n",
       "      <th>10</th>\n",
       "      <td>0.095693</td>\n",
       "    </tr>\n",
       "    <tr>\n",
       "      <th>outf_max</th>\n",
       "      <td>0.094646</td>\n",
       "    </tr>\n",
       "    <tr>\n",
       "      <th>24</th>\n",
       "      <td>0.092342</td>\n",
       "    </tr>\n",
       "    <tr>\n",
       "      <th>58</th>\n",
       "      <td>0.090700</td>\n",
       "    </tr>\n",
       "    <tr>\n",
       "      <th>28</th>\n",
       "      <td>0.088488</td>\n",
       "    </tr>\n",
       "    <tr>\n",
       "      <th>20</th>\n",
       "      <td>0.084209</td>\n",
       "    </tr>\n",
       "    <tr>\n",
       "      <th>17</th>\n",
       "      <td>0.083606</td>\n",
       "    </tr>\n",
       "    <tr>\n",
       "      <th>ina_median</th>\n",
       "      <td>0.082604</td>\n",
       "    </tr>\n",
       "    <tr>\n",
       "      <th>5</th>\n",
       "      <td>0.081743</td>\n",
       "    </tr>\n",
       "  </tbody>\n",
       "</table>\n",
       "</div>"
      ],
      "text/plain": [
       "              XGBoost Importance\n",
       "diff_fees               1.000000\n",
       "inf_median              0.368966\n",
       "18                      0.280195\n",
       "output_count            0.278325\n",
       "outa_max                0.241268\n",
       "30                      0.234288\n",
       "self_loop               0.204632\n",
       "29                      0.201569\n",
       "40                      0.173822\n",
       "inf_total               0.170770\n",
       "61                      0.162529\n",
       "2                       0.141943\n",
       "diff_count              0.126172\n",
       "outf_min                0.122843\n",
       "outa_median             0.122639\n",
       "outf_std                0.115837\n",
       "37                      0.108297\n",
       "63                      0.106814\n",
       "outa_min                0.105463\n",
       "3                       0.104490\n",
       "outf_total              0.102590\n",
       "10                      0.095693\n",
       "outf_max                0.094646\n",
       "24                      0.092342\n",
       "58                      0.090700\n",
       "28                      0.088488\n",
       "20                      0.084209\n",
       "17                      0.083606\n",
       "ina_median              0.082604\n",
       "5                       0.081743"
      ]
     },
     "execution_count": 37,
     "metadata": {},
     "output_type": "execute_result"
    }
   ],
   "source": [
    "# Assess Feature Importance\n",
    "\n",
    "# Get feature importance in a dataframe\n",
    "imp_xgb = pd.DataFrame(xgbc.feature_importances_/xgbc.feature_importances_.max(), index=x_train.columns, \n",
    "                       columns=['XGBoost Importance'])\n",
    "\n",
    "# Display feature importance\n",
    "imp_xgb = imp_xgb.sort_values('XGBoost Importance', ascending=False)\n",
    "imp_xgb.head(30) # Report top 30 features only due to large amount of features"
   ]
  },
  {
   "cell_type": "code",
   "execution_count": 38,
   "id": "e813a10a",
   "metadata": {
    "ExecuteTime": {
     "end_time": "2022-06-11T01:36:39.598083Z",
     "start_time": "2022-06-11T01:36:39.570620Z"
    }
   },
   "outputs": [
    {
     "data": {
      "text/html": [
       "<div>\n",
       "<style scoped>\n",
       "    .dataframe tbody tr th:only-of-type {\n",
       "        vertical-align: middle;\n",
       "    }\n",
       "\n",
       "    .dataframe tbody tr th {\n",
       "        vertical-align: top;\n",
       "    }\n",
       "\n",
       "    .dataframe thead th {\n",
       "        text-align: right;\n",
       "    }\n",
       "</style>\n",
       "<table border=\"1\" class=\"dataframe\">\n",
       "  <thead>\n",
       "    <tr style=\"text-align: right;\">\n",
       "      <th></th>\n",
       "      <th>XGBoost Importance</th>\n",
       "    </tr>\n",
       "  </thead>\n",
       "  <tbody>\n",
       "    <tr>\n",
       "      <th>62</th>\n",
       "      <td>0.058890</td>\n",
       "    </tr>\n",
       "    <tr>\n",
       "      <th>6</th>\n",
       "      <td>0.058723</td>\n",
       "    </tr>\n",
       "    <tr>\n",
       "      <th>21</th>\n",
       "      <td>0.058689</td>\n",
       "    </tr>\n",
       "    <tr>\n",
       "      <th>41</th>\n",
       "      <td>0.057092</td>\n",
       "    </tr>\n",
       "    <tr>\n",
       "      <th>56</th>\n",
       "      <td>0.055004</td>\n",
       "    </tr>\n",
       "    <tr>\n",
       "      <th>diff_amount</th>\n",
       "      <td>0.053813</td>\n",
       "    </tr>\n",
       "    <tr>\n",
       "      <th>44</th>\n",
       "      <td>0.052614</td>\n",
       "    </tr>\n",
       "    <tr>\n",
       "      <th>0</th>\n",
       "      <td>0.052088</td>\n",
       "    </tr>\n",
       "    <tr>\n",
       "      <th>43</th>\n",
       "      <td>0.050496</td>\n",
       "    </tr>\n",
       "    <tr>\n",
       "      <th>12</th>\n",
       "      <td>0.049557</td>\n",
       "    </tr>\n",
       "    <tr>\n",
       "      <th>35</th>\n",
       "      <td>0.049545</td>\n",
       "    </tr>\n",
       "    <tr>\n",
       "      <th>45</th>\n",
       "      <td>0.048791</td>\n",
       "    </tr>\n",
       "    <tr>\n",
       "      <th>ina_std</th>\n",
       "      <td>0.048477</td>\n",
       "    </tr>\n",
       "    <tr>\n",
       "      <th>60</th>\n",
       "      <td>0.047605</td>\n",
       "    </tr>\n",
       "    <tr>\n",
       "      <th>22</th>\n",
       "      <td>0.047521</td>\n",
       "    </tr>\n",
       "    <tr>\n",
       "      <th>26</th>\n",
       "      <td>0.047418</td>\n",
       "    </tr>\n",
       "    <tr>\n",
       "      <th>ina_total</th>\n",
       "      <td>0.046958</td>\n",
       "    </tr>\n",
       "    <tr>\n",
       "      <th>39</th>\n",
       "      <td>0.046835</td>\n",
       "    </tr>\n",
       "    <tr>\n",
       "      <th>7</th>\n",
       "      <td>0.046800</td>\n",
       "    </tr>\n",
       "    <tr>\n",
       "      <th>11</th>\n",
       "      <td>0.045268</td>\n",
       "    </tr>\n",
       "    <tr>\n",
       "      <th>31</th>\n",
       "      <td>0.042733</td>\n",
       "    </tr>\n",
       "    <tr>\n",
       "      <th>23</th>\n",
       "      <td>0.041615</td>\n",
       "    </tr>\n",
       "    <tr>\n",
       "      <th>ina_max</th>\n",
       "      <td>0.040956</td>\n",
       "    </tr>\n",
       "    <tr>\n",
       "      <th>13</th>\n",
       "      <td>0.040665</td>\n",
       "    </tr>\n",
       "    <tr>\n",
       "      <th>19</th>\n",
       "      <td>0.040475</td>\n",
       "    </tr>\n",
       "    <tr>\n",
       "      <th>25</th>\n",
       "      <td>0.038847</td>\n",
       "    </tr>\n",
       "    <tr>\n",
       "      <th>27</th>\n",
       "      <td>0.038669</td>\n",
       "    </tr>\n",
       "    <tr>\n",
       "      <th>inf_max</th>\n",
       "      <td>0.038234</td>\n",
       "    </tr>\n",
       "    <tr>\n",
       "      <th>49</th>\n",
       "      <td>0.036833</td>\n",
       "    </tr>\n",
       "    <tr>\n",
       "      <th>51</th>\n",
       "      <td>0.033270</td>\n",
       "    </tr>\n",
       "  </tbody>\n",
       "</table>\n",
       "</div>"
      ],
      "text/plain": [
       "             XGBoost Importance\n",
       "62                     0.058890\n",
       "6                      0.058723\n",
       "21                     0.058689\n",
       "41                     0.057092\n",
       "56                     0.055004\n",
       "diff_amount            0.053813\n",
       "44                     0.052614\n",
       "0                      0.052088\n",
       "43                     0.050496\n",
       "12                     0.049557\n",
       "35                     0.049545\n",
       "45                     0.048791\n",
       "ina_std                0.048477\n",
       "60                     0.047605\n",
       "22                     0.047521\n",
       "26                     0.047418\n",
       "ina_total              0.046958\n",
       "39                     0.046835\n",
       "7                      0.046800\n",
       "11                     0.045268\n",
       "31                     0.042733\n",
       "23                     0.041615\n",
       "ina_max                0.040956\n",
       "13                     0.040665\n",
       "19                     0.040475\n",
       "25                     0.038847\n",
       "27                     0.038669\n",
       "inf_max                0.038234\n",
       "49                     0.036833\n",
       "51                     0.033270"
      ]
     },
     "execution_count": 38,
     "metadata": {},
     "output_type": "execute_result"
    }
   ],
   "source": [
    "# Least Important\n",
    "imp_xgb.tail(30)"
   ]
  },
  {
   "cell_type": "code",
   "execution_count": null,
   "id": "053aa741",
   "metadata": {},
   "outputs": [],
   "source": []
  }
 ],
 "metadata": {
  "kernelspec": {
   "display_name": "Python 3 (ipykernel)",
   "language": "python",
   "name": "python3"
  },
  "language_info": {
   "codemirror_mode": {
    "name": "ipython",
    "version": 3
   },
   "file_extension": ".py",
   "mimetype": "text/x-python",
   "name": "python",
   "nbconvert_exporter": "python",
   "pygments_lexer": "ipython3",
   "version": "3.9.12"
  }
 },
 "nbformat": 4,
 "nbformat_minor": 5
}
